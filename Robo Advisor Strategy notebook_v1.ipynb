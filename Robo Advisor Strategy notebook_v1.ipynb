{
 "cells": [
  {
   "cell_type": "markdown",
   "metadata": {},
   "source": [
    "## Notebook Overview.\n",
    "\n",
    "**Initial Setup:** 4/20/2019\n",
    "\n",
    "This notebook tracks the performance of a Robo Advisor-like ETF strategy and compares relative to a benchmark; for purposes of this review, we compare performance against the S&P 500.\n",
    "\n",
    "Key sections of this notebook include the following:\n",
    "\n",
    "1. Performance of ETF components and overall strategy.\n",
    "1. Comparison relative to SP500.\n",
    "1. TSR by comparing appreciation plus dividends versus SP500.\n",
    "\n",
    "**Helpful References:**\n",
    "\n",
    "1. [FactSet smart beta article](https://insight.factset.com/finally-smart-beta-etfs-gain-market-share)\n",
    "1. [Smart Beta ETF db](https://etfdb.com/themes/smart-beta-etfs/)\n",
    "1. [Personal Capital Historical Performance](https://www.personalcapital.com/wealth-management/performance)\n",
    "1. SPY data returns matches Morningstar price [here](http://performance.morningstar.com/funds/etf/total-returns.action?t=spy)\n",
    "1. [Wikipedia SP500 historical returns](https://en.wikipedia.org/wiki/S%26P_500_Index)\n",
    "1. [Finance Python trading DataCamp blog post](https://www.datacamp.com/community/tutorials/finance-python-trading)\n",
    "1. GitHub notebook for DataCamp tutorial can be found [here](https://github.com/datacamp/datacamp-community-tutorials/blob/master/Python%20Finance%20Tutorial%20For%20Beginners/Python%20For%20Finance%20Beginners%20Tutorial.ipynb)\n",
    "1. Fix Yahoo Finance package [here](https://pypi.python.org/pypi/fix-yahoo-finance)"
   ]
  },
  {
   "cell_type": "code",
   "execution_count": 43,
   "metadata": {},
   "outputs": [],
   "source": [
    "# Import initial libraries\n",
    "\n",
    "import pandas as pd\n",
    "import numpy as np\n",
    "import datetime\n",
    "import matplotlib.pyplot as plt\n",
    "import quandl\n",
    "%matplotlib inline"
   ]
  },
  {
   "cell_type": "code",
   "execution_count": 44,
   "metadata": {},
   "outputs": [
    {
     "name": "stdout",
     "output_type": "stream",
     "text": [
      "5.6.0\n"
     ]
    },
    {
     "data": {
      "text/html": [
       "        <script type=\"text/javascript\">\n",
       "        window.PlotlyConfig = {MathJaxConfig: 'local'};\n",
       "        if (window.MathJax) {MathJax.Hub.Config({SVG: {font: \"STIX-Web\"}});}\n",
       "        if (typeof require !== 'undefined') {\n",
       "        require.undef(\"plotly\");\n",
       "        requirejs.config({\n",
       "            paths: {\n",
       "                'plotly': ['https://cdn.plot.ly/plotly-2.9.0.min']\n",
       "            }\n",
       "        });\n",
       "        require(['plotly'], function(Plotly) {\n",
       "            window._Plotly = Plotly;\n",
       "        });\n",
       "        }\n",
       "        </script>\n",
       "        "
      ]
     },
     "metadata": {},
     "output_type": "display_data"
    }
   ],
   "source": [
    "# Imports in order to be able to use Plotly offline.\n",
    "from plotly import __version__\n",
    "from plotly.offline import download_plotlyjs, init_notebook_mode, plot, iplot\n",
    "\n",
    "import plotly.graph_objs as go\n",
    "\n",
    "print(__version__) # requires version >= 1.9.0\n",
    "\n",
    "init_notebook_mode(connected=True)"
   ]
  },
  {
   "cell_type": "code",
   "execution_count": 45,
   "metadata": {},
   "outputs": [],
   "source": [
    "# Date Ranges for SP 500 and for all tickers\n",
    "# Modify these date ranges each week.\n",
    "\n",
    "# The below will pull back stock prices from 2010 until end date specified.\n",
    "start_sp = datetime.datetime(2010, 1, 1)\n",
    "end_sp = datetime.datetime(2019, 4, 18)\n",
    "\n",
    "# This variable is used for YTD performance.\n",
    "end_of_last_year = datetime.datetime(2018, 12, 31)\n",
    "\n",
    "# These are separated out if for some reason want different date range than SP.\n",
    "stocks_start = datetime.datetime(2010, 1, 1)\n",
    "# stocks_end = datetime.datetime(2018, 12, 10)\n",
    "stocks_end = end_sp"
   ]
  },
  {
   "cell_type": "markdown",
   "metadata": {},
   "source": [
    "## Data Extraction"
   ]
  },
  {
   "cell_type": "markdown",
   "metadata": {},
   "source": [
    "### SP 500"
   ]
  },
  {
   "cell_type": "code",
   "execution_count": 46,
   "metadata": {},
   "outputs": [
    {
     "name": "stdout",
     "output_type": "stream",
     "text": [
      "[*********************100%***********************]  1 of 1 completed\n"
     ]
    },
    {
     "data": {
      "text/html": [
       "<div>\n",
       "<style scoped>\n",
       "    .dataframe tbody tr th:only-of-type {\n",
       "        vertical-align: middle;\n",
       "    }\n",
       "\n",
       "    .dataframe tbody tr th {\n",
       "        vertical-align: top;\n",
       "    }\n",
       "\n",
       "    .dataframe thead th {\n",
       "        text-align: right;\n",
       "    }\n",
       "</style>\n",
       "<table border=\"1\" class=\"dataframe\">\n",
       "  <thead>\n",
       "    <tr style=\"text-align: right;\">\n",
       "      <th></th>\n",
       "      <th>Open</th>\n",
       "      <th>High</th>\n",
       "      <th>Low</th>\n",
       "      <th>Close</th>\n",
       "      <th>Adj Close</th>\n",
       "      <th>Volume</th>\n",
       "    </tr>\n",
       "    <tr>\n",
       "      <th>Date</th>\n",
       "      <th></th>\n",
       "      <th></th>\n",
       "      <th></th>\n",
       "      <th></th>\n",
       "      <th></th>\n",
       "      <th></th>\n",
       "    </tr>\n",
       "  </thead>\n",
       "  <tbody>\n",
       "    <tr>\n",
       "      <th>2009-12-31</th>\n",
       "      <td>1126.599976</td>\n",
       "      <td>1127.640015</td>\n",
       "      <td>1114.810059</td>\n",
       "      <td>1115.099976</td>\n",
       "      <td>1115.099976</td>\n",
       "      <td>2076990000</td>\n",
       "    </tr>\n",
       "    <tr>\n",
       "      <th>2010-01-04</th>\n",
       "      <td>1116.560059</td>\n",
       "      <td>1133.869995</td>\n",
       "      <td>1116.560059</td>\n",
       "      <td>1132.989990</td>\n",
       "      <td>1132.989990</td>\n",
       "      <td>3991400000</td>\n",
       "    </tr>\n",
       "    <tr>\n",
       "      <th>2010-01-05</th>\n",
       "      <td>1132.660034</td>\n",
       "      <td>1136.630005</td>\n",
       "      <td>1129.660034</td>\n",
       "      <td>1136.520020</td>\n",
       "      <td>1136.520020</td>\n",
       "      <td>2491020000</td>\n",
       "    </tr>\n",
       "    <tr>\n",
       "      <th>2010-01-06</th>\n",
       "      <td>1135.709961</td>\n",
       "      <td>1139.189941</td>\n",
       "      <td>1133.949951</td>\n",
       "      <td>1137.140015</td>\n",
       "      <td>1137.140015</td>\n",
       "      <td>4972660000</td>\n",
       "    </tr>\n",
       "    <tr>\n",
       "      <th>2010-01-07</th>\n",
       "      <td>1136.270020</td>\n",
       "      <td>1142.459961</td>\n",
       "      <td>1131.319946</td>\n",
       "      <td>1141.689941</td>\n",
       "      <td>1141.689941</td>\n",
       "      <td>5270680000</td>\n",
       "    </tr>\n",
       "  </tbody>\n",
       "</table>\n",
       "</div>"
      ],
      "text/plain": [
       "                   Open         High          Low        Close    Adj Close  \\\n",
       "Date                                                                          \n",
       "2009-12-31  1126.599976  1127.640015  1114.810059  1115.099976  1115.099976   \n",
       "2010-01-04  1116.560059  1133.869995  1116.560059  1132.989990  1132.989990   \n",
       "2010-01-05  1132.660034  1136.630005  1129.660034  1136.520020  1136.520020   \n",
       "2010-01-06  1135.709961  1139.189941  1133.949951  1137.140015  1137.140015   \n",
       "2010-01-07  1136.270020  1142.459961  1131.319946  1141.689941  1141.689941   \n",
       "\n",
       "                Volume  \n",
       "Date                    \n",
       "2009-12-31  2076990000  \n",
       "2010-01-04  3991400000  \n",
       "2010-01-05  2491020000  \n",
       "2010-01-06  4972660000  \n",
       "2010-01-07  5270680000  "
      ]
     },
     "execution_count": 46,
     "metadata": {},
     "output_type": "execute_result"
    }
   ],
   "source": [
    "# Leveraged from the helpful Datacamp Python Finance trading blog post.\n",
    "\n",
    "from pandas_datareader import data as pdr\n",
    "import yfinance as yf\n",
    "yf.pdr_override() # <== that's all it takes :-)\n",
    "\n",
    "sp500 = pdr.get_data_yahoo('^GSPC', \n",
    "                           start_sp,\n",
    "                             end_sp+datetime.timedelta(days=1))\n",
    "                          \n",
    "sp500.head()"
   ]
  },
  {
   "cell_type": "code",
   "execution_count": 47,
   "metadata": {},
   "outputs": [
    {
     "data": {
      "text/html": [
       "<div>\n",
       "<style scoped>\n",
       "    .dataframe tbody tr th:only-of-type {\n",
       "        vertical-align: middle;\n",
       "    }\n",
       "\n",
       "    .dataframe tbody tr th {\n",
       "        vertical-align: top;\n",
       "    }\n",
       "\n",
       "    .dataframe thead th {\n",
       "        text-align: right;\n",
       "    }\n",
       "</style>\n",
       "<table border=\"1\" class=\"dataframe\">\n",
       "  <thead>\n",
       "    <tr style=\"text-align: right;\">\n",
       "      <th></th>\n",
       "      <th>Open</th>\n",
       "      <th>High</th>\n",
       "      <th>Low</th>\n",
       "      <th>Close</th>\n",
       "      <th>Adj Close</th>\n",
       "      <th>Volume</th>\n",
       "    </tr>\n",
       "    <tr>\n",
       "      <th>Date</th>\n",
       "      <th></th>\n",
       "      <th></th>\n",
       "      <th></th>\n",
       "      <th></th>\n",
       "      <th></th>\n",
       "      <th></th>\n",
       "    </tr>\n",
       "  </thead>\n",
       "  <tbody>\n",
       "    <tr>\n",
       "      <th>2019-04-12</th>\n",
       "      <td>2900.860107</td>\n",
       "      <td>2910.540039</td>\n",
       "      <td>2898.370117</td>\n",
       "      <td>2907.409912</td>\n",
       "      <td>2907.409912</td>\n",
       "      <td>3688490000</td>\n",
       "    </tr>\n",
       "    <tr>\n",
       "      <th>2019-04-15</th>\n",
       "      <td>2908.320068</td>\n",
       "      <td>2909.600098</td>\n",
       "      <td>2896.479980</td>\n",
       "      <td>2905.580078</td>\n",
       "      <td>2905.580078</td>\n",
       "      <td>3088330000</td>\n",
       "    </tr>\n",
       "    <tr>\n",
       "      <th>2019-04-16</th>\n",
       "      <td>2912.260010</td>\n",
       "      <td>2916.060059</td>\n",
       "      <td>2900.709961</td>\n",
       "      <td>2907.060059</td>\n",
       "      <td>2907.060059</td>\n",
       "      <td>3402210000</td>\n",
       "    </tr>\n",
       "    <tr>\n",
       "      <th>2019-04-17</th>\n",
       "      <td>2916.040039</td>\n",
       "      <td>2918.000000</td>\n",
       "      <td>2895.449951</td>\n",
       "      <td>2900.449951</td>\n",
       "      <td>2900.449951</td>\n",
       "      <td>3602300000</td>\n",
       "    </tr>\n",
       "    <tr>\n",
       "      <th>2019-04-18</th>\n",
       "      <td>2904.810059</td>\n",
       "      <td>2908.399902</td>\n",
       "      <td>2891.899902</td>\n",
       "      <td>2905.030029</td>\n",
       "      <td>2905.030029</td>\n",
       "      <td>3506850000</td>\n",
       "    </tr>\n",
       "  </tbody>\n",
       "</table>\n",
       "</div>"
      ],
      "text/plain": [
       "                   Open         High          Low        Close    Adj Close  \\\n",
       "Date                                                                          \n",
       "2019-04-12  2900.860107  2910.540039  2898.370117  2907.409912  2907.409912   \n",
       "2019-04-15  2908.320068  2909.600098  2896.479980  2905.580078  2905.580078   \n",
       "2019-04-16  2912.260010  2916.060059  2900.709961  2907.060059  2907.060059   \n",
       "2019-04-17  2916.040039  2918.000000  2895.449951  2900.449951  2900.449951   \n",
       "2019-04-18  2904.810059  2908.399902  2891.899902  2905.030029  2905.030029   \n",
       "\n",
       "                Volume  \n",
       "Date                    \n",
       "2019-04-12  3688490000  \n",
       "2019-04-15  3088330000  \n",
       "2019-04-16  3402210000  \n",
       "2019-04-17  3602300000  \n",
       "2019-04-18  3506850000  "
      ]
     },
     "execution_count": 47,
     "metadata": {},
     "output_type": "execute_result"
    }
   ],
   "source": [
    "sp500.tail()"
   ]
  },
  {
   "cell_type": "code",
   "execution_count": 48,
   "metadata": {},
   "outputs": [
    {
     "data": {
      "text/html": [
       "<div>\n",
       "<style scoped>\n",
       "    .dataframe tbody tr th:only-of-type {\n",
       "        vertical-align: middle;\n",
       "    }\n",
       "\n",
       "    .dataframe tbody tr th {\n",
       "        vertical-align: top;\n",
       "    }\n",
       "\n",
       "    .dataframe thead th {\n",
       "        text-align: right;\n",
       "    }\n",
       "</style>\n",
       "<table border=\"1\" class=\"dataframe\">\n",
       "  <thead>\n",
       "    <tr style=\"text-align: right;\">\n",
       "      <th></th>\n",
       "      <th>Adj Close</th>\n",
       "      <th>YoY</th>\n",
       "    </tr>\n",
       "    <tr>\n",
       "      <th>Date</th>\n",
       "      <th></th>\n",
       "      <th></th>\n",
       "    </tr>\n",
       "  </thead>\n",
       "  <tbody>\n",
       "    <tr>\n",
       "      <th>2009-12-31</th>\n",
       "      <td>1115.099976</td>\n",
       "      <td>NaN</td>\n",
       "    </tr>\n",
       "    <tr>\n",
       "      <th>2010-12-31</th>\n",
       "      <td>1257.640015</td>\n",
       "      <td>0.127827</td>\n",
       "    </tr>\n",
       "    <tr>\n",
       "      <th>2011-12-31</th>\n",
       "      <td>1257.599976</td>\n",
       "      <td>-0.000032</td>\n",
       "    </tr>\n",
       "    <tr>\n",
       "      <th>2012-12-31</th>\n",
       "      <td>1426.189941</td>\n",
       "      <td>0.134057</td>\n",
       "    </tr>\n",
       "    <tr>\n",
       "      <th>2013-12-31</th>\n",
       "      <td>1848.359985</td>\n",
       "      <td>0.296012</td>\n",
       "    </tr>\n",
       "    <tr>\n",
       "      <th>2014-12-31</th>\n",
       "      <td>2058.899902</td>\n",
       "      <td>0.113906</td>\n",
       "    </tr>\n",
       "    <tr>\n",
       "      <th>2015-12-31</th>\n",
       "      <td>2043.939941</td>\n",
       "      <td>-0.007266</td>\n",
       "    </tr>\n",
       "    <tr>\n",
       "      <th>2016-12-31</th>\n",
       "      <td>2238.830078</td>\n",
       "      <td>0.095350</td>\n",
       "    </tr>\n",
       "    <tr>\n",
       "      <th>2017-12-31</th>\n",
       "      <td>2673.610107</td>\n",
       "      <td>0.194200</td>\n",
       "    </tr>\n",
       "    <tr>\n",
       "      <th>2018-12-31</th>\n",
       "      <td>2506.850098</td>\n",
       "      <td>-0.062373</td>\n",
       "    </tr>\n",
       "    <tr>\n",
       "      <th>2019-12-31</th>\n",
       "      <td>2905.030029</td>\n",
       "      <td>0.158837</td>\n",
       "    </tr>\n",
       "  </tbody>\n",
       "</table>\n",
       "</div>"
      ],
      "text/plain": [
       "              Adj Close       YoY\n",
       "Date                             \n",
       "2009-12-31  1115.099976       NaN\n",
       "2010-12-31  1257.640015  0.127827\n",
       "2011-12-31  1257.599976 -0.000032\n",
       "2012-12-31  1426.189941  0.134057\n",
       "2013-12-31  1848.359985  0.296012\n",
       "2014-12-31  2058.899902  0.113906\n",
       "2015-12-31  2043.939941 -0.007266\n",
       "2016-12-31  2238.830078  0.095350\n",
       "2017-12-31  2673.610107  0.194200\n",
       "2018-12-31  2506.850098 -0.062373\n",
       "2019-12-31  2905.030029  0.158837"
      ]
     },
     "execution_count": 48,
     "metadata": {},
     "output_type": "execute_result"
    }
   ],
   "source": [
    "# Confirmed that these returns are excluding dividends.\n",
    "\n",
    "sp500_annual = sp500[['Adj Close']]\n",
    "\n",
    "sp500_annual = sp500_annual.resample(rule='A').last()\n",
    "\n",
    "sp500_annual['YoY'] = sp500_annual.pct_change()\n",
    "\n",
    "sp500_annual"
   ]
  },
  {
   "cell_type": "code",
   "execution_count": 49,
   "metadata": {},
   "outputs": [],
   "source": [
    "# Create a dataframe with only the Adj Close column as that's all we need for this analysis.\n",
    "\n",
    "sp_500_adj_close = sp500[['Adj Close']].reset_index()"
   ]
  },
  {
   "cell_type": "code",
   "execution_count": 50,
   "metadata": {},
   "outputs": [
    {
     "data": {
      "text/html": [
       "<div>\n",
       "<style scoped>\n",
       "    .dataframe tbody tr th:only-of-type {\n",
       "        vertical-align: middle;\n",
       "    }\n",
       "\n",
       "    .dataframe tbody tr th {\n",
       "        vertical-align: top;\n",
       "    }\n",
       "\n",
       "    .dataframe thead th {\n",
       "        text-align: right;\n",
       "    }\n",
       "</style>\n",
       "<table border=\"1\" class=\"dataframe\">\n",
       "  <thead>\n",
       "    <tr style=\"text-align: right;\">\n",
       "      <th></th>\n",
       "      <th>Date</th>\n",
       "      <th>Adj Close</th>\n",
       "    </tr>\n",
       "  </thead>\n",
       "  <tbody>\n",
       "    <tr>\n",
       "      <th>2264</th>\n",
       "      <td>2018-12-31</td>\n",
       "      <td>2506.850098</td>\n",
       "    </tr>\n",
       "  </tbody>\n",
       "</table>\n",
       "</div>"
      ],
      "text/plain": [
       "           Date    Adj Close\n",
       "2264 2018-12-31  2506.850098"
      ]
     },
     "execution_count": 50,
     "metadata": {},
     "output_type": "execute_result"
    }
   ],
   "source": [
    "# Adj Close for the EOY in 2018 in order to run comparisons versus stocks YTD performances.\n",
    "\n",
    "sp_500_adj_close_start = sp_500_adj_close[sp_500_adj_close['Date']==end_of_last_year]\n",
    "sp_500_adj_close_start"
   ]
  },
  {
   "cell_type": "markdown",
   "metadata": {},
   "source": [
    "### Robo Advisor Benchmark Portfolio"
   ]
  },
  {
   "cell_type": "code",
   "execution_count": 51,
   "metadata": {},
   "outputs": [
    {
     "data": {
      "text/html": [
       "<div>\n",
       "<style scoped>\n",
       "    .dataframe tbody tr th:only-of-type {\n",
       "        vertical-align: middle;\n",
       "    }\n",
       "\n",
       "    .dataframe tbody tr th {\n",
       "        vertical-align: top;\n",
       "    }\n",
       "\n",
       "    .dataframe thead th {\n",
       "        text-align: right;\n",
       "    }\n",
       "</style>\n",
       "<table border=\"1\" class=\"dataframe\">\n",
       "  <thead>\n",
       "    <tr style=\"text-align: right;\">\n",
       "      <th></th>\n",
       "      <th>Acquisition Date</th>\n",
       "      <th>Position</th>\n",
       "      <th>Ticker</th>\n",
       "      <th>Quantity</th>\n",
       "      <th>Unit Cost</th>\n",
       "      <th>Cost Basis</th>\n",
       "      <th>Start of Year</th>\n",
       "      <th>Target_Alloc</th>\n",
       "      <th>Comments</th>\n",
       "      <th>Counts</th>\n",
       "      <th>Ticker #</th>\n",
       "    </tr>\n",
       "  </thead>\n",
       "  <tbody>\n",
       "    <tr>\n",
       "      <th>0</th>\n",
       "      <td>2014-04-21</td>\n",
       "      <td>iShares Core US Aggregate Bond ETF (AGG)</td>\n",
       "      <td>AGG</td>\n",
       "      <td>25</td>\n",
       "      <td>95.72</td>\n",
       "      <td>2393.00</td>\n",
       "      <td>2018-12-31</td>\n",
       "      <td>0.127</td>\n",
       "      <td>NaN</td>\n",
       "      <td>0</td>\n",
       "      <td>AGG 0</td>\n",
       "    </tr>\n",
       "    <tr>\n",
       "      <th>1</th>\n",
       "      <td>2014-04-21</td>\n",
       "      <td>Invesco DB Commodity Tracking (DBC)</td>\n",
       "      <td>DBC</td>\n",
       "      <td>22</td>\n",
       "      <td>26.21</td>\n",
       "      <td>576.62</td>\n",
       "      <td>2018-12-31</td>\n",
       "      <td>0.033</td>\n",
       "      <td>NaN</td>\n",
       "      <td>1</td>\n",
       "      <td>DBC 1</td>\n",
       "    </tr>\n",
       "    <tr>\n",
       "      <th>2</th>\n",
       "      <td>2014-04-21</td>\n",
       "      <td>iShares Gold Trust (IAU)</td>\n",
       "      <td>IAU</td>\n",
       "      <td>50</td>\n",
       "      <td>12.51</td>\n",
       "      <td>625.50</td>\n",
       "      <td>2018-12-31</td>\n",
       "      <td>0.033</td>\n",
       "      <td>NaN</td>\n",
       "      <td>2</td>\n",
       "      <td>IAU 2</td>\n",
       "    </tr>\n",
       "    <tr>\n",
       "      <th>3</th>\n",
       "      <td>2014-04-21</td>\n",
       "      <td>iShares International Treasury Bond ETF (IGOV)</td>\n",
       "      <td>IGOV</td>\n",
       "      <td>8</td>\n",
       "      <td>50.72</td>\n",
       "      <td>405.76</td>\n",
       "      <td>2018-12-31</td>\n",
       "      <td>0.023</td>\n",
       "      <td>NaN</td>\n",
       "      <td>3</td>\n",
       "      <td>IGOV 3</td>\n",
       "    </tr>\n",
       "    <tr>\n",
       "      <th>4</th>\n",
       "      <td>2014-04-21</td>\n",
       "      <td>Vanguard FTSE All-Wld ex-US ETF (VEU)</td>\n",
       "      <td>VEU</td>\n",
       "      <td>105</td>\n",
       "      <td>43.92</td>\n",
       "      <td>4611.60</td>\n",
       "      <td>2018-12-31</td>\n",
       "      <td>0.250</td>\n",
       "      <td>NaN</td>\n",
       "      <td>4</td>\n",
       "      <td>VEU 4</td>\n",
       "    </tr>\n",
       "    <tr>\n",
       "      <th>5</th>\n",
       "      <td>2014-04-21</td>\n",
       "      <td>Vanguard Real Estate ETF (VNQ)</td>\n",
       "      <td>VNQ</td>\n",
       "      <td>11</td>\n",
       "      <td>58.28</td>\n",
       "      <td>641.08</td>\n",
       "      <td>2018-12-31</td>\n",
       "      <td>0.034</td>\n",
       "      <td>NaN</td>\n",
       "      <td>5</td>\n",
       "      <td>VNQ 5</td>\n",
       "    </tr>\n",
       "    <tr>\n",
       "      <th>6</th>\n",
       "      <td>2014-04-21</td>\n",
       "      <td>Vanguard Total Stock Market ETF (VTI)</td>\n",
       "      <td>VTI</td>\n",
       "      <td>72</td>\n",
       "      <td>88.20</td>\n",
       "      <td>6350.40</td>\n",
       "      <td>2018-12-31</td>\n",
       "      <td>0.500</td>\n",
       "      <td>NaN</td>\n",
       "      <td>6</td>\n",
       "      <td>VTI 6</td>\n",
       "    </tr>\n",
       "    <tr>\n",
       "      <th>7</th>\n",
       "      <td>2014-05-05</td>\n",
       "      <td>Vanguard Total Stock Market ETF (VTI)</td>\n",
       "      <td>VTI</td>\n",
       "      <td>32</td>\n",
       "      <td>88.67</td>\n",
       "      <td>2837.44</td>\n",
       "      <td>2018-12-31</td>\n",
       "      <td>0.500</td>\n",
       "      <td>NaN</td>\n",
       "      <td>7</td>\n",
       "      <td>VTI 7</td>\n",
       "    </tr>\n",
       "  </tbody>\n",
       "</table>\n",
       "</div>"
      ],
      "text/plain": [
       "  Acquisition Date                                        Position Ticker  \\\n",
       "0       2014-04-21        iShares Core US Aggregate Bond ETF (AGG)    AGG   \n",
       "1       2014-04-21             Invesco DB Commodity Tracking (DBC)    DBC   \n",
       "2       2014-04-21                        iShares Gold Trust (IAU)    IAU   \n",
       "3       2014-04-21  iShares International Treasury Bond ETF (IGOV)   IGOV   \n",
       "4       2014-04-21           Vanguard FTSE All-Wld ex-US ETF (VEU)    VEU   \n",
       "5       2014-04-21                  Vanguard Real Estate ETF (VNQ)    VNQ   \n",
       "6       2014-04-21           Vanguard Total Stock Market ETF (VTI)    VTI   \n",
       "7       2014-05-05           Vanguard Total Stock Market ETF (VTI)    VTI   \n",
       "\n",
       "   Quantity  Unit Cost  Cost Basis Start of Year  Target_Alloc  Comments  \\\n",
       "0        25      95.72     2393.00    2018-12-31         0.127       NaN   \n",
       "1        22      26.21      576.62    2018-12-31         0.033       NaN   \n",
       "2        50      12.51      625.50    2018-12-31         0.033       NaN   \n",
       "3         8      50.72      405.76    2018-12-31         0.023       NaN   \n",
       "4       105      43.92     4611.60    2018-12-31         0.250       NaN   \n",
       "5        11      58.28      641.08    2018-12-31         0.034       NaN   \n",
       "6        72      88.20     6350.40    2018-12-31         0.500       NaN   \n",
       "7        32      88.67     2837.44    2018-12-31         0.500       NaN   \n",
       "\n",
       "   Counts Ticker #  \n",
       "0       0    AGG 0  \n",
       "1       1    DBC 1  \n",
       "2       2    IAU 2  \n",
       "3       3   IGOV 3  \n",
       "4       4    VEU 4  \n",
       "5       5    VNQ 5  \n",
       "6       6    VTI 6  \n",
       "7       7    VTI 7  "
      ]
     },
     "execution_count": 51,
     "metadata": {},
     "output_type": "execute_result"
    }
   ],
   "source": [
    "# Import the Sample worksheet with acquisition dates and initial cost basis:\n",
    "\n",
    "portfolio_df = pd.read_excel('Robo Advisor Acquisition Costs.xlsx', sheet_name='Main', index_col=None)\n",
    "\n",
    "portfolio_df.sort_values(by=['Ticker', 'Acquisition Date'], ascending=[True, True], inplace=True)\n",
    "\n",
    "portfolio_df.reset_index(drop=True, inplace=True)\n",
    "\n",
    "portfolio_df['Counts'] = portfolio_df.index\n",
    "\n",
    "portfolio_df['Ticker #'] = portfolio_df['Ticker'].map(str) + ' ' + portfolio_df['Counts'].map(str)\n",
    "\n",
    "portfolio_df"
   ]
  },
  {
   "cell_type": "code",
   "execution_count": 52,
   "metadata": {},
   "outputs": [
    {
     "name": "stdout",
     "output_type": "stream",
     "text": [
      "<class 'pandas.core.frame.DataFrame'>\n",
      "RangeIndex: 8 entries, 0 to 7\n",
      "Data columns (total 11 columns):\n",
      " #   Column            Non-Null Count  Dtype         \n",
      "---  ------            --------------  -----         \n",
      " 0   Acquisition Date  8 non-null      datetime64[ns]\n",
      " 1   Position          8 non-null      object        \n",
      " 2   Ticker            8 non-null      object        \n",
      " 3   Quantity          8 non-null      int64         \n",
      " 4   Unit Cost         8 non-null      float64       \n",
      " 5   Cost Basis        8 non-null      float64       \n",
      " 6   Start of Year     8 non-null      datetime64[ns]\n",
      " 7   Target_Alloc      8 non-null      float64       \n",
      " 8   Comments          0 non-null      float64       \n",
      " 9   Counts            8 non-null      int64         \n",
      " 10  Ticker #          8 non-null      object        \n",
      "dtypes: datetime64[ns](2), float64(4), int64(2), object(3)\n",
      "memory usage: 832.0+ bytes\n"
     ]
    }
   ],
   "source": [
    "portfolio_df.info()"
   ]
  },
  {
   "cell_type": "code",
   "execution_count": 53,
   "metadata": {},
   "outputs": [
    {
     "data": {
      "text/plain": [
       "array(['AGG', 'DBC', 'IAU', 'IGOV', 'VEU', 'VNQ', 'VTI'], dtype=object)"
      ]
     },
     "execution_count": 53,
     "metadata": {},
     "output_type": "execute_result"
    }
   ],
   "source": [
    "# Generate a dynamic list of tickers to pull from Yahoo Finance API based on the imported file with tickers.\n",
    "tickers = portfolio_df['Ticker'].unique()\n",
    "tickers"
   ]
  },
  {
   "cell_type": "code",
   "execution_count": 54,
   "metadata": {},
   "outputs": [
    {
     "name": "stdout",
     "output_type": "stream",
     "text": [
      "[*********************100%***********************]  1 of 1 completed\n",
      "[*********************100%***********************]  1 of 1 completed\n",
      "[*********************100%***********************]  1 of 1 completed\n",
      "[*********************100%***********************]  1 of 1 completed\n",
      "[*********************100%***********************]  1 of 1 completed\n",
      "[*********************100%***********************]  1 of 1 completed\n",
      "[*********************100%***********************]  1 of 1 completed\n"
     ]
    }
   ],
   "source": [
    "# Stock comparison code\n",
    "\n",
    "def get(tickers, startdate, enddate):\n",
    "    def data(ticker):\n",
    "        return (pdr.get_data_yahoo(ticker, start=startdate, end=enddate+datetime.timedelta(days=1)))\n",
    "    datas = map(data, tickers)\n",
    "    return(pd.concat(datas, keys=tickers, names=['Ticker', 'Date']))\n",
    "               \n",
    "all_data = get(tickers, stocks_start, stocks_end)"
   ]
  },
  {
   "cell_type": "code",
   "execution_count": 55,
   "metadata": {},
   "outputs": [
    {
     "data": {
      "text/html": [
       "<div>\n",
       "<style scoped>\n",
       "    .dataframe tbody tr th:only-of-type {\n",
       "        vertical-align: middle;\n",
       "    }\n",
       "\n",
       "    .dataframe tbody tr th {\n",
       "        vertical-align: top;\n",
       "    }\n",
       "\n",
       "    .dataframe thead th {\n",
       "        text-align: right;\n",
       "    }\n",
       "</style>\n",
       "<table border=\"1\" class=\"dataframe\">\n",
       "  <thead>\n",
       "    <tr style=\"text-align: right;\">\n",
       "      <th></th>\n",
       "      <th></th>\n",
       "      <th>Open</th>\n",
       "      <th>High</th>\n",
       "      <th>Low</th>\n",
       "      <th>Close</th>\n",
       "      <th>Adj Close</th>\n",
       "      <th>Volume</th>\n",
       "    </tr>\n",
       "    <tr>\n",
       "      <th>Ticker</th>\n",
       "      <th>Date</th>\n",
       "      <th></th>\n",
       "      <th></th>\n",
       "      <th></th>\n",
       "      <th></th>\n",
       "      <th></th>\n",
       "      <th></th>\n",
       "    </tr>\n",
       "  </thead>\n",
       "  <tbody>\n",
       "    <tr>\n",
       "      <th rowspan=\"5\" valign=\"top\">VTI</th>\n",
       "      <th>2019-04-12</th>\n",
       "      <td>148.550003</td>\n",
       "      <td>148.800003</td>\n",
       "      <td>148.130005</td>\n",
       "      <td>148.679993</td>\n",
       "      <td>141.773788</td>\n",
       "      <td>2612000</td>\n",
       "    </tr>\n",
       "    <tr>\n",
       "      <th>2019-04-15</th>\n",
       "      <td>148.750000</td>\n",
       "      <td>148.800003</td>\n",
       "      <td>148.059998</td>\n",
       "      <td>148.559998</td>\n",
       "      <td>141.659348</td>\n",
       "      <td>2083000</td>\n",
       "    </tr>\n",
       "    <tr>\n",
       "      <th>2019-04-16</th>\n",
       "      <td>149.000000</td>\n",
       "      <td>149.059998</td>\n",
       "      <td>148.240005</td>\n",
       "      <td>148.600006</td>\n",
       "      <td>141.697495</td>\n",
       "      <td>2953300</td>\n",
       "    </tr>\n",
       "    <tr>\n",
       "      <th>2019-04-17</th>\n",
       "      <td>149.199997</td>\n",
       "      <td>149.220001</td>\n",
       "      <td>147.770004</td>\n",
       "      <td>148.050003</td>\n",
       "      <td>141.173019</td>\n",
       "      <td>2983900</td>\n",
       "    </tr>\n",
       "    <tr>\n",
       "      <th>2019-04-18</th>\n",
       "      <td>148.399994</td>\n",
       "      <td>148.399994</td>\n",
       "      <td>147.509995</td>\n",
       "      <td>148.270004</td>\n",
       "      <td>141.382843</td>\n",
       "      <td>2457000</td>\n",
       "    </tr>\n",
       "  </tbody>\n",
       "</table>\n",
       "</div>"
      ],
      "text/plain": [
       "                         Open        High         Low       Close   Adj Close  \\\n",
       "Ticker Date                                                                     \n",
       "VTI    2019-04-12  148.550003  148.800003  148.130005  148.679993  141.773788   \n",
       "       2019-04-15  148.750000  148.800003  148.059998  148.559998  141.659348   \n",
       "       2019-04-16  149.000000  149.059998  148.240005  148.600006  141.697495   \n",
       "       2019-04-17  149.199997  149.220001  147.770004  148.050003  141.173019   \n",
       "       2019-04-18  148.399994  148.399994  147.509995  148.270004  141.382843   \n",
       "\n",
       "                    Volume  \n",
       "Ticker Date                 \n",
       "VTI    2019-04-12  2612000  \n",
       "       2019-04-15  2083000  \n",
       "       2019-04-16  2953300  \n",
       "       2019-04-17  2983900  \n",
       "       2019-04-18  2457000  "
      ]
     },
     "execution_count": 55,
     "metadata": {},
     "output_type": "execute_result"
    }
   ],
   "source": [
    "all_data.tail()"
   ]
  },
  {
   "cell_type": "code",
   "execution_count": 56,
   "metadata": {},
   "outputs": [
    {
     "data": {
      "text/html": [
       "<div>\n",
       "<style scoped>\n",
       "    .dataframe tbody tr th:only-of-type {\n",
       "        vertical-align: middle;\n",
       "    }\n",
       "\n",
       "    .dataframe tbody tr th {\n",
       "        vertical-align: top;\n",
       "    }\n",
       "\n",
       "    .dataframe thead th {\n",
       "        text-align: right;\n",
       "    }\n",
       "</style>\n",
       "<table border=\"1\" class=\"dataframe\">\n",
       "  <thead>\n",
       "    <tr style=\"text-align: right;\">\n",
       "      <th></th>\n",
       "      <th>Ticker</th>\n",
       "      <th>Date</th>\n",
       "      <th>Adj Close</th>\n",
       "    </tr>\n",
       "  </thead>\n",
       "  <tbody>\n",
       "    <tr>\n",
       "      <th>0</th>\n",
       "      <td>AGG</td>\n",
       "      <td>2009-12-31</td>\n",
       "      <td>75.122749</td>\n",
       "    </tr>\n",
       "    <tr>\n",
       "      <th>1</th>\n",
       "      <td>AGG</td>\n",
       "      <td>2010-01-04</td>\n",
       "      <td>75.210129</td>\n",
       "    </tr>\n",
       "    <tr>\n",
       "      <th>2</th>\n",
       "      <td>AGG</td>\n",
       "      <td>2010-01-05</td>\n",
       "      <td>75.552269</td>\n",
       "    </tr>\n",
       "    <tr>\n",
       "      <th>3</th>\n",
       "      <td>AGG</td>\n",
       "      <td>2010-01-06</td>\n",
       "      <td>75.508575</td>\n",
       "    </tr>\n",
       "    <tr>\n",
       "      <th>4</th>\n",
       "      <td>AGG</td>\n",
       "      <td>2010-01-07</td>\n",
       "      <td>75.421249</td>\n",
       "    </tr>\n",
       "  </tbody>\n",
       "</table>\n",
       "</div>"
      ],
      "text/plain": [
       "  Ticker       Date  Adj Close\n",
       "0    AGG 2009-12-31  75.122749\n",
       "1    AGG 2010-01-04  75.210129\n",
       "2    AGG 2010-01-05  75.552269\n",
       "3    AGG 2010-01-06  75.508575\n",
       "4    AGG 2010-01-07  75.421249"
      ]
     },
     "execution_count": 56,
     "metadata": {},
     "output_type": "execute_result"
    }
   ],
   "source": [
    "# Also only pulling the ticker, date and adj. close columns for our tickers.\n",
    "\n",
    "adj_close = all_data[['Adj Close']].reset_index()\n",
    "adj_close.head()"
   ]
  },
  {
   "cell_type": "code",
   "execution_count": 57,
   "metadata": {},
   "outputs": [
    {
     "data": {
      "text/html": [
       "<div>\n",
       "<style scoped>\n",
       "    .dataframe tbody tr th:only-of-type {\n",
       "        vertical-align: middle;\n",
       "    }\n",
       "\n",
       "    .dataframe tbody tr th {\n",
       "        vertical-align: top;\n",
       "    }\n",
       "\n",
       "    .dataframe thead th {\n",
       "        text-align: right;\n",
       "    }\n",
       "</style>\n",
       "<table border=\"1\" class=\"dataframe\">\n",
       "  <thead>\n",
       "    <tr style=\"text-align: right;\">\n",
       "      <th></th>\n",
       "      <th>Ticker</th>\n",
       "      <th>Date</th>\n",
       "      <th>Adj Close</th>\n",
       "    </tr>\n",
       "  </thead>\n",
       "  <tbody>\n",
       "    <tr>\n",
       "      <th>2264</th>\n",
       "      <td>AGG</td>\n",
       "      <td>2018-12-31</td>\n",
       "      <td>99.191551</td>\n",
       "    </tr>\n",
       "    <tr>\n",
       "      <th>4604</th>\n",
       "      <td>DBC</td>\n",
       "      <td>2018-12-31</td>\n",
       "      <td>14.261541</td>\n",
       "    </tr>\n",
       "    <tr>\n",
       "      <th>6944</th>\n",
       "      <td>IAU</td>\n",
       "      <td>2018-12-31</td>\n",
       "      <td>24.580000</td>\n",
       "    </tr>\n",
       "    <tr>\n",
       "      <th>9284</th>\n",
       "      <td>IGOV</td>\n",
       "      <td>2018-12-31</td>\n",
       "      <td>48.164463</td>\n",
       "    </tr>\n",
       "    <tr>\n",
       "      <th>11624</th>\n",
       "      <td>VEU</td>\n",
       "      <td>2018-12-31</td>\n",
       "      <td>41.742603</td>\n",
       "    </tr>\n",
       "    <tr>\n",
       "      <th>13964</th>\n",
       "      <td>VNQ</td>\n",
       "      <td>2018-12-31</td>\n",
       "      <td>66.764374</td>\n",
       "    </tr>\n",
       "    <tr>\n",
       "      <th>16304</th>\n",
       "      <td>VTI</td>\n",
       "      <td>2018-12-31</td>\n",
       "      <td>121.047112</td>\n",
       "    </tr>\n",
       "  </tbody>\n",
       "</table>\n",
       "</div>"
      ],
      "text/plain": [
       "      Ticker       Date   Adj Close\n",
       "2264     AGG 2018-12-31   99.191551\n",
       "4604     DBC 2018-12-31   14.261541\n",
       "6944     IAU 2018-12-31   24.580000\n",
       "9284    IGOV 2018-12-31   48.164463\n",
       "11624    VEU 2018-12-31   41.742603\n",
       "13964    VNQ 2018-12-31   66.764374\n",
       "16304    VTI 2018-12-31  121.047112"
      ]
     },
     "execution_count": 57,
     "metadata": {},
     "output_type": "execute_result"
    }
   ],
   "source": [
    "# Grabbing the ticker close from the end of last year \n",
    "adj_close_start = adj_close[adj_close['Date']==end_of_last_year]\n",
    "adj_close_start"
   ]
  },
  {
   "cell_type": "code",
   "execution_count": 58,
   "metadata": {},
   "outputs": [
    {
     "data": {
      "text/html": [
       "<div>\n",
       "<style scoped>\n",
       "    .dataframe tbody tr th:only-of-type {\n",
       "        vertical-align: middle;\n",
       "    }\n",
       "\n",
       "    .dataframe tbody tr th {\n",
       "        vertical-align: top;\n",
       "    }\n",
       "\n",
       "    .dataframe thead th {\n",
       "        text-align: right;\n",
       "    }\n",
       "</style>\n",
       "<table border=\"1\" class=\"dataframe\">\n",
       "  <thead>\n",
       "    <tr style=\"text-align: right;\">\n",
       "      <th></th>\n",
       "      <th>Ticker</th>\n",
       "      <th>Date</th>\n",
       "      <th>Adj Close</th>\n",
       "    </tr>\n",
       "  </thead>\n",
       "  <tbody>\n",
       "    <tr>\n",
       "      <th>16375</th>\n",
       "      <td>VTI</td>\n",
       "      <td>2019-04-12</td>\n",
       "      <td>141.773788</td>\n",
       "    </tr>\n",
       "    <tr>\n",
       "      <th>16376</th>\n",
       "      <td>VTI</td>\n",
       "      <td>2019-04-15</td>\n",
       "      <td>141.659348</td>\n",
       "    </tr>\n",
       "    <tr>\n",
       "      <th>16377</th>\n",
       "      <td>VTI</td>\n",
       "      <td>2019-04-16</td>\n",
       "      <td>141.697495</td>\n",
       "    </tr>\n",
       "    <tr>\n",
       "      <th>16378</th>\n",
       "      <td>VTI</td>\n",
       "      <td>2019-04-17</td>\n",
       "      <td>141.173019</td>\n",
       "    </tr>\n",
       "    <tr>\n",
       "      <th>16379</th>\n",
       "      <td>VTI</td>\n",
       "      <td>2019-04-18</td>\n",
       "      <td>141.382843</td>\n",
       "    </tr>\n",
       "  </tbody>\n",
       "</table>\n",
       "</div>"
      ],
      "text/plain": [
       "      Ticker       Date   Adj Close\n",
       "16375    VTI 2019-04-12  141.773788\n",
       "16376    VTI 2019-04-15  141.659348\n",
       "16377    VTI 2019-04-16  141.697495\n",
       "16378    VTI 2019-04-17  141.173019\n",
       "16379    VTI 2019-04-18  141.382843"
      ]
     },
     "execution_count": 58,
     "metadata": {},
     "output_type": "execute_result"
    }
   ],
   "source": [
    "adj_close.tail()"
   ]
  },
  {
   "cell_type": "code",
   "execution_count": 59,
   "metadata": {},
   "outputs": [
    {
     "data": {
      "text/html": [
       "<div>\n",
       "<style scoped>\n",
       "    .dataframe tbody tr th:only-of-type {\n",
       "        vertical-align: middle;\n",
       "    }\n",
       "\n",
       "    .dataframe tbody tr th {\n",
       "        vertical-align: top;\n",
       "    }\n",
       "\n",
       "    .dataframe thead th {\n",
       "        text-align: right;\n",
       "    }\n",
       "</style>\n",
       "<table border=\"1\" class=\"dataframe\">\n",
       "  <thead>\n",
       "    <tr style=\"text-align: right;\">\n",
       "      <th></th>\n",
       "      <th>Ticker</th>\n",
       "      <th>Date</th>\n",
       "      <th>Adj Close</th>\n",
       "    </tr>\n",
       "  </thead>\n",
       "  <tbody>\n",
       "    <tr>\n",
       "      <th>16375</th>\n",
       "      <td>VTI</td>\n",
       "      <td>2019-04-12</td>\n",
       "      <td>141.773788</td>\n",
       "    </tr>\n",
       "    <tr>\n",
       "      <th>16376</th>\n",
       "      <td>VTI</td>\n",
       "      <td>2019-04-15</td>\n",
       "      <td>141.659348</td>\n",
       "    </tr>\n",
       "    <tr>\n",
       "      <th>16377</th>\n",
       "      <td>VTI</td>\n",
       "      <td>2019-04-16</td>\n",
       "      <td>141.697495</td>\n",
       "    </tr>\n",
       "    <tr>\n",
       "      <th>16378</th>\n",
       "      <td>VTI</td>\n",
       "      <td>2019-04-17</td>\n",
       "      <td>141.173019</td>\n",
       "    </tr>\n",
       "    <tr>\n",
       "      <th>16379</th>\n",
       "      <td>VTI</td>\n",
       "      <td>2019-04-18</td>\n",
       "      <td>141.382843</td>\n",
       "    </tr>\n",
       "  </tbody>\n",
       "</table>\n",
       "</div>"
      ],
      "text/plain": [
       "      Ticker       Date   Adj Close\n",
       "16375    VTI 2019-04-12  141.773788\n",
       "16376    VTI 2019-04-15  141.659348\n",
       "16377    VTI 2019-04-16  141.697495\n",
       "16378    VTI 2019-04-17  141.173019\n",
       "16379    VTI 2019-04-18  141.382843"
      ]
     },
     "execution_count": 59,
     "metadata": {},
     "output_type": "execute_result"
    }
   ],
   "source": [
    "adj_close.tail()"
   ]
  },
  {
   "cell_type": "code",
   "execution_count": 60,
   "metadata": {},
   "outputs": [
    {
     "data": {
      "text/html": [
       "<div>\n",
       "<style scoped>\n",
       "    .dataframe tbody tr th:only-of-type {\n",
       "        vertical-align: middle;\n",
       "    }\n",
       "\n",
       "    .dataframe tbody tr th {\n",
       "        vertical-align: top;\n",
       "    }\n",
       "\n",
       "    .dataframe thead th {\n",
       "        text-align: right;\n",
       "    }\n",
       "</style>\n",
       "<table border=\"1\" class=\"dataframe\">\n",
       "  <thead>\n",
       "    <tr style=\"text-align: right;\">\n",
       "      <th></th>\n",
       "      <th>Ticker</th>\n",
       "      <th>Date</th>\n",
       "      <th>Adj Close</th>\n",
       "    </tr>\n",
       "  </thead>\n",
       "  <tbody>\n",
       "    <tr>\n",
       "      <th>2339</th>\n",
       "      <td>AGG</td>\n",
       "      <td>2019-04-18</td>\n",
       "      <td>101.523415</td>\n",
       "    </tr>\n",
       "    <tr>\n",
       "      <th>4679</th>\n",
       "      <td>DBC</td>\n",
       "      <td>2019-04-18</td>\n",
       "      <td>15.954422</td>\n",
       "    </tr>\n",
       "    <tr>\n",
       "      <th>7019</th>\n",
       "      <td>IAU</td>\n",
       "      <td>2019-04-18</td>\n",
       "      <td>24.440001</td>\n",
       "    </tr>\n",
       "    <tr>\n",
       "      <th>9359</th>\n",
       "      <td>IGOV</td>\n",
       "      <td>2019-04-18</td>\n",
       "      <td>48.432762</td>\n",
       "    </tr>\n",
       "    <tr>\n",
       "      <th>11699</th>\n",
       "      <td>VEU</td>\n",
       "      <td>2019-04-18</td>\n",
       "      <td>47.527245</td>\n",
       "    </tr>\n",
       "    <tr>\n",
       "      <th>14039</th>\n",
       "      <td>VNQ</td>\n",
       "      <td>2019-04-18</td>\n",
       "      <td>77.088570</td>\n",
       "    </tr>\n",
       "    <tr>\n",
       "      <th>16379</th>\n",
       "      <td>VTI</td>\n",
       "      <td>2019-04-18</td>\n",
       "      <td>141.382843</td>\n",
       "    </tr>\n",
       "  </tbody>\n",
       "</table>\n",
       "</div>"
      ],
      "text/plain": [
       "      Ticker       Date   Adj Close\n",
       "2339     AGG 2019-04-18  101.523415\n",
       "4679     DBC 2019-04-18   15.954422\n",
       "7019     IAU 2019-04-18   24.440001\n",
       "9359    IGOV 2019-04-18   48.432762\n",
       "11699    VEU 2019-04-18   47.527245\n",
       "14039    VNQ 2019-04-18   77.088570\n",
       "16379    VTI 2019-04-18  141.382843"
      ]
     },
     "execution_count": 60,
     "metadata": {},
     "output_type": "execute_result"
    }
   ],
   "source": [
    "# Grab the latest stock close price \n",
    "\n",
    "adj_close_latest = adj_close[adj_close['Date']==stocks_end]\n",
    "adj_close_latest"
   ]
  },
  {
   "cell_type": "markdown",
   "metadata": {},
   "source": [
    "## Dataframe Development"
   ]
  },
  {
   "cell_type": "code",
   "execution_count": 61,
   "metadata": {},
   "outputs": [
    {
     "data": {
      "text/html": [
       "<div>\n",
       "<style scoped>\n",
       "    .dataframe tbody tr th:only-of-type {\n",
       "        vertical-align: middle;\n",
       "    }\n",
       "\n",
       "    .dataframe tbody tr th {\n",
       "        vertical-align: top;\n",
       "    }\n",
       "\n",
       "    .dataframe thead th {\n",
       "        text-align: right;\n",
       "    }\n",
       "</style>\n",
       "<table border=\"1\" class=\"dataframe\">\n",
       "  <thead>\n",
       "    <tr style=\"text-align: right;\">\n",
       "      <th></th>\n",
       "      <th>Acquisition Date</th>\n",
       "      <th>Position</th>\n",
       "      <th>Ticker</th>\n",
       "      <th>Quantity</th>\n",
       "      <th>Unit Cost</th>\n",
       "      <th>Cost Basis</th>\n",
       "      <th>Start of Year</th>\n",
       "      <th>Target_Alloc</th>\n",
       "      <th>Comments</th>\n",
       "      <th>Counts</th>\n",
       "      <th>Ticker #</th>\n",
       "      <th>Date</th>\n",
       "      <th>Adj Close</th>\n",
       "    </tr>\n",
       "  </thead>\n",
       "  <tbody>\n",
       "    <tr>\n",
       "      <th>0</th>\n",
       "      <td>2014-04-21</td>\n",
       "      <td>iShares Core US Aggregate Bond ETF (AGG)</td>\n",
       "      <td>AGG</td>\n",
       "      <td>25</td>\n",
       "      <td>95.72</td>\n",
       "      <td>2393.00</td>\n",
       "      <td>2018-12-31</td>\n",
       "      <td>0.127</td>\n",
       "      <td>NaN</td>\n",
       "      <td>0</td>\n",
       "      <td>AGG 0</td>\n",
       "      <td>2019-04-18</td>\n",
       "      <td>101.523415</td>\n",
       "    </tr>\n",
       "    <tr>\n",
       "      <th>1</th>\n",
       "      <td>2014-04-21</td>\n",
       "      <td>Invesco DB Commodity Tracking (DBC)</td>\n",
       "      <td>DBC</td>\n",
       "      <td>22</td>\n",
       "      <td>26.21</td>\n",
       "      <td>576.62</td>\n",
       "      <td>2018-12-31</td>\n",
       "      <td>0.033</td>\n",
       "      <td>NaN</td>\n",
       "      <td>1</td>\n",
       "      <td>DBC 1</td>\n",
       "      <td>2019-04-18</td>\n",
       "      <td>15.954422</td>\n",
       "    </tr>\n",
       "    <tr>\n",
       "      <th>2</th>\n",
       "      <td>2014-04-21</td>\n",
       "      <td>iShares Gold Trust (IAU)</td>\n",
       "      <td>IAU</td>\n",
       "      <td>50</td>\n",
       "      <td>12.51</td>\n",
       "      <td>625.50</td>\n",
       "      <td>2018-12-31</td>\n",
       "      <td>0.033</td>\n",
       "      <td>NaN</td>\n",
       "      <td>2</td>\n",
       "      <td>IAU 2</td>\n",
       "      <td>2019-04-18</td>\n",
       "      <td>24.440001</td>\n",
       "    </tr>\n",
       "    <tr>\n",
       "      <th>3</th>\n",
       "      <td>2014-04-21</td>\n",
       "      <td>iShares International Treasury Bond ETF (IGOV)</td>\n",
       "      <td>IGOV</td>\n",
       "      <td>8</td>\n",
       "      <td>50.72</td>\n",
       "      <td>405.76</td>\n",
       "      <td>2018-12-31</td>\n",
       "      <td>0.023</td>\n",
       "      <td>NaN</td>\n",
       "      <td>3</td>\n",
       "      <td>IGOV 3</td>\n",
       "      <td>2019-04-18</td>\n",
       "      <td>48.432762</td>\n",
       "    </tr>\n",
       "    <tr>\n",
       "      <th>4</th>\n",
       "      <td>2014-04-21</td>\n",
       "      <td>Vanguard FTSE All-Wld ex-US ETF (VEU)</td>\n",
       "      <td>VEU</td>\n",
       "      <td>105</td>\n",
       "      <td>43.92</td>\n",
       "      <td>4611.60</td>\n",
       "      <td>2018-12-31</td>\n",
       "      <td>0.250</td>\n",
       "      <td>NaN</td>\n",
       "      <td>4</td>\n",
       "      <td>VEU 4</td>\n",
       "      <td>2019-04-18</td>\n",
       "      <td>47.527245</td>\n",
       "    </tr>\n",
       "    <tr>\n",
       "      <th>5</th>\n",
       "      <td>2014-04-21</td>\n",
       "      <td>Vanguard Real Estate ETF (VNQ)</td>\n",
       "      <td>VNQ</td>\n",
       "      <td>11</td>\n",
       "      <td>58.28</td>\n",
       "      <td>641.08</td>\n",
       "      <td>2018-12-31</td>\n",
       "      <td>0.034</td>\n",
       "      <td>NaN</td>\n",
       "      <td>5</td>\n",
       "      <td>VNQ 5</td>\n",
       "      <td>2019-04-18</td>\n",
       "      <td>77.088570</td>\n",
       "    </tr>\n",
       "    <tr>\n",
       "      <th>6</th>\n",
       "      <td>2014-04-21</td>\n",
       "      <td>Vanguard Total Stock Market ETF (VTI)</td>\n",
       "      <td>VTI</td>\n",
       "      <td>72</td>\n",
       "      <td>88.20</td>\n",
       "      <td>6350.40</td>\n",
       "      <td>2018-12-31</td>\n",
       "      <td>0.500</td>\n",
       "      <td>NaN</td>\n",
       "      <td>6</td>\n",
       "      <td>VTI 6</td>\n",
       "      <td>2019-04-18</td>\n",
       "      <td>141.382843</td>\n",
       "    </tr>\n",
       "    <tr>\n",
       "      <th>7</th>\n",
       "      <td>2014-05-05</td>\n",
       "      <td>Vanguard Total Stock Market ETF (VTI)</td>\n",
       "      <td>VTI</td>\n",
       "      <td>32</td>\n",
       "      <td>88.67</td>\n",
       "      <td>2837.44</td>\n",
       "      <td>2018-12-31</td>\n",
       "      <td>0.500</td>\n",
       "      <td>NaN</td>\n",
       "      <td>7</td>\n",
       "      <td>VTI 7</td>\n",
       "      <td>2019-04-18</td>\n",
       "      <td>141.382843</td>\n",
       "    </tr>\n",
       "  </tbody>\n",
       "</table>\n",
       "</div>"
      ],
      "text/plain": [
       "  Acquisition Date                                        Position Ticker  \\\n",
       "0       2014-04-21        iShares Core US Aggregate Bond ETF (AGG)    AGG   \n",
       "1       2014-04-21             Invesco DB Commodity Tracking (DBC)    DBC   \n",
       "2       2014-04-21                        iShares Gold Trust (IAU)    IAU   \n",
       "3       2014-04-21  iShares International Treasury Bond ETF (IGOV)   IGOV   \n",
       "4       2014-04-21           Vanguard FTSE All-Wld ex-US ETF (VEU)    VEU   \n",
       "5       2014-04-21                  Vanguard Real Estate ETF (VNQ)    VNQ   \n",
       "6       2014-04-21           Vanguard Total Stock Market ETF (VTI)    VTI   \n",
       "7       2014-05-05           Vanguard Total Stock Market ETF (VTI)    VTI   \n",
       "\n",
       "   Quantity  Unit Cost  Cost Basis Start of Year  Target_Alloc  Comments  \\\n",
       "0        25      95.72     2393.00    2018-12-31         0.127       NaN   \n",
       "1        22      26.21      576.62    2018-12-31         0.033       NaN   \n",
       "2        50      12.51      625.50    2018-12-31         0.033       NaN   \n",
       "3         8      50.72      405.76    2018-12-31         0.023       NaN   \n",
       "4       105      43.92     4611.60    2018-12-31         0.250       NaN   \n",
       "5        11      58.28      641.08    2018-12-31         0.034       NaN   \n",
       "6        72      88.20     6350.40    2018-12-31         0.500       NaN   \n",
       "7        32      88.67     2837.44    2018-12-31         0.500       NaN   \n",
       "\n",
       "   Counts Ticker #       Date   Adj Close  \n",
       "0       0    AGG 0 2019-04-18  101.523415  \n",
       "1       1    DBC 1 2019-04-18   15.954422  \n",
       "2       2    IAU 2 2019-04-18   24.440001  \n",
       "3       3   IGOV 3 2019-04-18   48.432762  \n",
       "4       4    VEU 4 2019-04-18   47.527245  \n",
       "5       5    VNQ 5 2019-04-18   77.088570  \n",
       "6       6    VTI 6 2019-04-18  141.382843  \n",
       "7       7    VTI 7 2019-04-18  141.382843  "
      ]
     },
     "execution_count": 61,
     "metadata": {},
     "output_type": "execute_result"
    }
   ],
   "source": [
    "# Merge the portfolio dataframe with the adj close dataframe.\n",
    "\n",
    "merged_portfolio = pd.merge(portfolio_df, adj_close_latest, on='Ticker')\n",
    "merged_portfolio"
   ]
  },
  {
   "cell_type": "code",
   "execution_count": 62,
   "metadata": {},
   "outputs": [
    {
     "data": {
      "text/html": [
       "<div>\n",
       "<style scoped>\n",
       "    .dataframe tbody tr th:only-of-type {\n",
       "        vertical-align: middle;\n",
       "    }\n",
       "\n",
       "    .dataframe tbody tr th {\n",
       "        vertical-align: top;\n",
       "    }\n",
       "\n",
       "    .dataframe thead th {\n",
       "        text-align: right;\n",
       "    }\n",
       "</style>\n",
       "<table border=\"1\" class=\"dataframe\">\n",
       "  <thead>\n",
       "    <tr style=\"text-align: right;\">\n",
       "      <th></th>\n",
       "      <th>Acquisition Date</th>\n",
       "      <th>Position</th>\n",
       "      <th>Ticker</th>\n",
       "      <th>Quantity</th>\n",
       "      <th>Unit Cost</th>\n",
       "      <th>Cost Basis</th>\n",
       "      <th>Start of Year</th>\n",
       "      <th>Target_Alloc</th>\n",
       "      <th>Comments</th>\n",
       "      <th>Counts</th>\n",
       "      <th>Ticker #</th>\n",
       "      <th>Date</th>\n",
       "      <th>Adj Close</th>\n",
       "      <th>Ticker Return</th>\n",
       "    </tr>\n",
       "  </thead>\n",
       "  <tbody>\n",
       "    <tr>\n",
       "      <th>0</th>\n",
       "      <td>2014-04-21</td>\n",
       "      <td>iShares Core US Aggregate Bond ETF (AGG)</td>\n",
       "      <td>AGG</td>\n",
       "      <td>25</td>\n",
       "      <td>95.72</td>\n",
       "      <td>2393.00</td>\n",
       "      <td>2018-12-31</td>\n",
       "      <td>0.127</td>\n",
       "      <td>NaN</td>\n",
       "      <td>0</td>\n",
       "      <td>AGG 0</td>\n",
       "      <td>2019-04-18</td>\n",
       "      <td>101.523415</td>\n",
       "      <td>0.060629</td>\n",
       "    </tr>\n",
       "    <tr>\n",
       "      <th>1</th>\n",
       "      <td>2014-04-21</td>\n",
       "      <td>Invesco DB Commodity Tracking (DBC)</td>\n",
       "      <td>DBC</td>\n",
       "      <td>22</td>\n",
       "      <td>26.21</td>\n",
       "      <td>576.62</td>\n",
       "      <td>2018-12-31</td>\n",
       "      <td>0.033</td>\n",
       "      <td>NaN</td>\n",
       "      <td>1</td>\n",
       "      <td>DBC 1</td>\n",
       "      <td>2019-04-18</td>\n",
       "      <td>15.954422</td>\n",
       "      <td>-0.391285</td>\n",
       "    </tr>\n",
       "    <tr>\n",
       "      <th>2</th>\n",
       "      <td>2014-04-21</td>\n",
       "      <td>iShares Gold Trust (IAU)</td>\n",
       "      <td>IAU</td>\n",
       "      <td>50</td>\n",
       "      <td>12.51</td>\n",
       "      <td>625.50</td>\n",
       "      <td>2018-12-31</td>\n",
       "      <td>0.033</td>\n",
       "      <td>NaN</td>\n",
       "      <td>2</td>\n",
       "      <td>IAU 2</td>\n",
       "      <td>2019-04-18</td>\n",
       "      <td>24.440001</td>\n",
       "      <td>0.953637</td>\n",
       "    </tr>\n",
       "    <tr>\n",
       "      <th>3</th>\n",
       "      <td>2014-04-21</td>\n",
       "      <td>iShares International Treasury Bond ETF (IGOV)</td>\n",
       "      <td>IGOV</td>\n",
       "      <td>8</td>\n",
       "      <td>50.72</td>\n",
       "      <td>405.76</td>\n",
       "      <td>2018-12-31</td>\n",
       "      <td>0.023</td>\n",
       "      <td>NaN</td>\n",
       "      <td>3</td>\n",
       "      <td>IGOV 3</td>\n",
       "      <td>2019-04-18</td>\n",
       "      <td>48.432762</td>\n",
       "      <td>-0.045095</td>\n",
       "    </tr>\n",
       "    <tr>\n",
       "      <th>4</th>\n",
       "      <td>2014-04-21</td>\n",
       "      <td>Vanguard FTSE All-Wld ex-US ETF (VEU)</td>\n",
       "      <td>VEU</td>\n",
       "      <td>105</td>\n",
       "      <td>43.92</td>\n",
       "      <td>4611.60</td>\n",
       "      <td>2018-12-31</td>\n",
       "      <td>0.250</td>\n",
       "      <td>NaN</td>\n",
       "      <td>4</td>\n",
       "      <td>VEU 4</td>\n",
       "      <td>2019-04-18</td>\n",
       "      <td>47.527245</td>\n",
       "      <td>0.082132</td>\n",
       "    </tr>\n",
       "    <tr>\n",
       "      <th>5</th>\n",
       "      <td>2014-04-21</td>\n",
       "      <td>Vanguard Real Estate ETF (VNQ)</td>\n",
       "      <td>VNQ</td>\n",
       "      <td>11</td>\n",
       "      <td>58.28</td>\n",
       "      <td>641.08</td>\n",
       "      <td>2018-12-31</td>\n",
       "      <td>0.034</td>\n",
       "      <td>NaN</td>\n",
       "      <td>5</td>\n",
       "      <td>VNQ 5</td>\n",
       "      <td>2019-04-18</td>\n",
       "      <td>77.088570</td>\n",
       "      <td>0.322728</td>\n",
       "    </tr>\n",
       "    <tr>\n",
       "      <th>6</th>\n",
       "      <td>2014-04-21</td>\n",
       "      <td>Vanguard Total Stock Market ETF (VTI)</td>\n",
       "      <td>VTI</td>\n",
       "      <td>72</td>\n",
       "      <td>88.20</td>\n",
       "      <td>6350.40</td>\n",
       "      <td>2018-12-31</td>\n",
       "      <td>0.500</td>\n",
       "      <td>NaN</td>\n",
       "      <td>6</td>\n",
       "      <td>VTI 6</td>\n",
       "      <td>2019-04-18</td>\n",
       "      <td>141.382843</td>\n",
       "      <td>0.602980</td>\n",
       "    </tr>\n",
       "    <tr>\n",
       "      <th>7</th>\n",
       "      <td>2014-05-05</td>\n",
       "      <td>Vanguard Total Stock Market ETF (VTI)</td>\n",
       "      <td>VTI</td>\n",
       "      <td>32</td>\n",
       "      <td>88.67</td>\n",
       "      <td>2837.44</td>\n",
       "      <td>2018-12-31</td>\n",
       "      <td>0.500</td>\n",
       "      <td>NaN</td>\n",
       "      <td>7</td>\n",
       "      <td>VTI 7</td>\n",
       "      <td>2019-04-18</td>\n",
       "      <td>141.382843</td>\n",
       "      <td>0.594483</td>\n",
       "    </tr>\n",
       "  </tbody>\n",
       "</table>\n",
       "</div>"
      ],
      "text/plain": [
       "  Acquisition Date                                        Position Ticker  \\\n",
       "0       2014-04-21        iShares Core US Aggregate Bond ETF (AGG)    AGG   \n",
       "1       2014-04-21             Invesco DB Commodity Tracking (DBC)    DBC   \n",
       "2       2014-04-21                        iShares Gold Trust (IAU)    IAU   \n",
       "3       2014-04-21  iShares International Treasury Bond ETF (IGOV)   IGOV   \n",
       "4       2014-04-21           Vanguard FTSE All-Wld ex-US ETF (VEU)    VEU   \n",
       "5       2014-04-21                  Vanguard Real Estate ETF (VNQ)    VNQ   \n",
       "6       2014-04-21           Vanguard Total Stock Market ETF (VTI)    VTI   \n",
       "7       2014-05-05           Vanguard Total Stock Market ETF (VTI)    VTI   \n",
       "\n",
       "   Quantity  Unit Cost  Cost Basis Start of Year  Target_Alloc  Comments  \\\n",
       "0        25      95.72     2393.00    2018-12-31         0.127       NaN   \n",
       "1        22      26.21      576.62    2018-12-31         0.033       NaN   \n",
       "2        50      12.51      625.50    2018-12-31         0.033       NaN   \n",
       "3         8      50.72      405.76    2018-12-31         0.023       NaN   \n",
       "4       105      43.92     4611.60    2018-12-31         0.250       NaN   \n",
       "5        11      58.28      641.08    2018-12-31         0.034       NaN   \n",
       "6        72      88.20     6350.40    2018-12-31         0.500       NaN   \n",
       "7        32      88.67     2837.44    2018-12-31         0.500       NaN   \n",
       "\n",
       "   Counts Ticker #       Date   Adj Close  Ticker Return  \n",
       "0       0    AGG 0 2019-04-18  101.523415       0.060629  \n",
       "1       1    DBC 1 2019-04-18   15.954422      -0.391285  \n",
       "2       2    IAU 2 2019-04-18   24.440001       0.953637  \n",
       "3       3   IGOV 3 2019-04-18   48.432762      -0.045095  \n",
       "4       4    VEU 4 2019-04-18   47.527245       0.082132  \n",
       "5       5    VNQ 5 2019-04-18   77.088570       0.322728  \n",
       "6       6    VTI 6 2019-04-18  141.382843       0.602980  \n",
       "7       7    VTI 7 2019-04-18  141.382843       0.594483  "
      ]
     },
     "execution_count": 62,
     "metadata": {},
     "output_type": "execute_result"
    }
   ],
   "source": [
    "# The below creates a new column which is the ticker return; takes the latest adjusted close for each position\n",
    "# and divides that by the initial share cost.\n",
    "\n",
    "merged_portfolio['Ticker Return'] = merged_portfolio['Adj Close'] / merged_portfolio['Unit Cost'] - 1\n",
    "\n",
    "merged_portfolio"
   ]
  },
  {
   "cell_type": "code",
   "execution_count": 63,
   "metadata": {},
   "outputs": [
    {
     "data": {
      "text/html": [
       "<div>\n",
       "<style scoped>\n",
       "    .dataframe tbody tr th:only-of-type {\n",
       "        vertical-align: middle;\n",
       "    }\n",
       "\n",
       "    .dataframe tbody tr th {\n",
       "        vertical-align: top;\n",
       "    }\n",
       "\n",
       "    .dataframe thead th {\n",
       "        text-align: right;\n",
       "    }\n",
       "</style>\n",
       "<table border=\"1\" class=\"dataframe\">\n",
       "  <thead>\n",
       "    <tr style=\"text-align: right;\">\n",
       "      <th></th>\n",
       "      <th>Acquisition Date</th>\n",
       "      <th>Position</th>\n",
       "      <th>Ticker</th>\n",
       "      <th>Quantity</th>\n",
       "      <th>Unit Cost</th>\n",
       "      <th>Cost Basis</th>\n",
       "      <th>Start of Year</th>\n",
       "      <th>Target_Alloc</th>\n",
       "      <th>Comments</th>\n",
       "      <th>Counts</th>\n",
       "      <th>Ticker #</th>\n",
       "      <th>Date_x</th>\n",
       "      <th>Adj Close_x</th>\n",
       "      <th>Ticker Return</th>\n",
       "      <th>Date_y</th>\n",
       "      <th>Adj Close_y</th>\n",
       "    </tr>\n",
       "  </thead>\n",
       "  <tbody>\n",
       "    <tr>\n",
       "      <th>0</th>\n",
       "      <td>2014-04-21</td>\n",
       "      <td>iShares Core US Aggregate Bond ETF (AGG)</td>\n",
       "      <td>AGG</td>\n",
       "      <td>25</td>\n",
       "      <td>95.72</td>\n",
       "      <td>2393.00</td>\n",
       "      <td>2018-12-31</td>\n",
       "      <td>0.127</td>\n",
       "      <td>NaN</td>\n",
       "      <td>0</td>\n",
       "      <td>AGG 0</td>\n",
       "      <td>2019-04-18</td>\n",
       "      <td>101.523415</td>\n",
       "      <td>0.060629</td>\n",
       "      <td>2014-04-21</td>\n",
       "      <td>1871.890015</td>\n",
       "    </tr>\n",
       "    <tr>\n",
       "      <th>1</th>\n",
       "      <td>2014-04-21</td>\n",
       "      <td>Invesco DB Commodity Tracking (DBC)</td>\n",
       "      <td>DBC</td>\n",
       "      <td>22</td>\n",
       "      <td>26.21</td>\n",
       "      <td>576.62</td>\n",
       "      <td>2018-12-31</td>\n",
       "      <td>0.033</td>\n",
       "      <td>NaN</td>\n",
       "      <td>1</td>\n",
       "      <td>DBC 1</td>\n",
       "      <td>2019-04-18</td>\n",
       "      <td>15.954422</td>\n",
       "      <td>-0.391285</td>\n",
       "      <td>2014-04-21</td>\n",
       "      <td>1871.890015</td>\n",
       "    </tr>\n",
       "    <tr>\n",
       "      <th>2</th>\n",
       "      <td>2014-04-21</td>\n",
       "      <td>iShares Gold Trust (IAU)</td>\n",
       "      <td>IAU</td>\n",
       "      <td>50</td>\n",
       "      <td>12.51</td>\n",
       "      <td>625.50</td>\n",
       "      <td>2018-12-31</td>\n",
       "      <td>0.033</td>\n",
       "      <td>NaN</td>\n",
       "      <td>2</td>\n",
       "      <td>IAU 2</td>\n",
       "      <td>2019-04-18</td>\n",
       "      <td>24.440001</td>\n",
       "      <td>0.953637</td>\n",
       "      <td>2014-04-21</td>\n",
       "      <td>1871.890015</td>\n",
       "    </tr>\n",
       "    <tr>\n",
       "      <th>3</th>\n",
       "      <td>2014-04-21</td>\n",
       "      <td>iShares International Treasury Bond ETF (IGOV)</td>\n",
       "      <td>IGOV</td>\n",
       "      <td>8</td>\n",
       "      <td>50.72</td>\n",
       "      <td>405.76</td>\n",
       "      <td>2018-12-31</td>\n",
       "      <td>0.023</td>\n",
       "      <td>NaN</td>\n",
       "      <td>3</td>\n",
       "      <td>IGOV 3</td>\n",
       "      <td>2019-04-18</td>\n",
       "      <td>48.432762</td>\n",
       "      <td>-0.045095</td>\n",
       "      <td>2014-04-21</td>\n",
       "      <td>1871.890015</td>\n",
       "    </tr>\n",
       "    <tr>\n",
       "      <th>4</th>\n",
       "      <td>2014-04-21</td>\n",
       "      <td>Vanguard FTSE All-Wld ex-US ETF (VEU)</td>\n",
       "      <td>VEU</td>\n",
       "      <td>105</td>\n",
       "      <td>43.92</td>\n",
       "      <td>4611.60</td>\n",
       "      <td>2018-12-31</td>\n",
       "      <td>0.250</td>\n",
       "      <td>NaN</td>\n",
       "      <td>4</td>\n",
       "      <td>VEU 4</td>\n",
       "      <td>2019-04-18</td>\n",
       "      <td>47.527245</td>\n",
       "      <td>0.082132</td>\n",
       "      <td>2014-04-21</td>\n",
       "      <td>1871.890015</td>\n",
       "    </tr>\n",
       "    <tr>\n",
       "      <th>5</th>\n",
       "      <td>2014-04-21</td>\n",
       "      <td>Vanguard Real Estate ETF (VNQ)</td>\n",
       "      <td>VNQ</td>\n",
       "      <td>11</td>\n",
       "      <td>58.28</td>\n",
       "      <td>641.08</td>\n",
       "      <td>2018-12-31</td>\n",
       "      <td>0.034</td>\n",
       "      <td>NaN</td>\n",
       "      <td>5</td>\n",
       "      <td>VNQ 5</td>\n",
       "      <td>2019-04-18</td>\n",
       "      <td>77.088570</td>\n",
       "      <td>0.322728</td>\n",
       "      <td>2014-04-21</td>\n",
       "      <td>1871.890015</td>\n",
       "    </tr>\n",
       "    <tr>\n",
       "      <th>6</th>\n",
       "      <td>2014-04-21</td>\n",
       "      <td>Vanguard Total Stock Market ETF (VTI)</td>\n",
       "      <td>VTI</td>\n",
       "      <td>72</td>\n",
       "      <td>88.20</td>\n",
       "      <td>6350.40</td>\n",
       "      <td>2018-12-31</td>\n",
       "      <td>0.500</td>\n",
       "      <td>NaN</td>\n",
       "      <td>6</td>\n",
       "      <td>VTI 6</td>\n",
       "      <td>2019-04-18</td>\n",
       "      <td>141.382843</td>\n",
       "      <td>0.602980</td>\n",
       "      <td>2014-04-21</td>\n",
       "      <td>1871.890015</td>\n",
       "    </tr>\n",
       "    <tr>\n",
       "      <th>7</th>\n",
       "      <td>2014-05-05</td>\n",
       "      <td>Vanguard Total Stock Market ETF (VTI)</td>\n",
       "      <td>VTI</td>\n",
       "      <td>32</td>\n",
       "      <td>88.67</td>\n",
       "      <td>2837.44</td>\n",
       "      <td>2018-12-31</td>\n",
       "      <td>0.500</td>\n",
       "      <td>NaN</td>\n",
       "      <td>7</td>\n",
       "      <td>VTI 7</td>\n",
       "      <td>2019-04-18</td>\n",
       "      <td>141.382843</td>\n",
       "      <td>0.594483</td>\n",
       "      <td>2014-05-05</td>\n",
       "      <td>1884.660034</td>\n",
       "    </tr>\n",
       "  </tbody>\n",
       "</table>\n",
       "</div>"
      ],
      "text/plain": [
       "  Acquisition Date                                        Position Ticker  \\\n",
       "0       2014-04-21        iShares Core US Aggregate Bond ETF (AGG)    AGG   \n",
       "1       2014-04-21             Invesco DB Commodity Tracking (DBC)    DBC   \n",
       "2       2014-04-21                        iShares Gold Trust (IAU)    IAU   \n",
       "3       2014-04-21  iShares International Treasury Bond ETF (IGOV)   IGOV   \n",
       "4       2014-04-21           Vanguard FTSE All-Wld ex-US ETF (VEU)    VEU   \n",
       "5       2014-04-21                  Vanguard Real Estate ETF (VNQ)    VNQ   \n",
       "6       2014-04-21           Vanguard Total Stock Market ETF (VTI)    VTI   \n",
       "7       2014-05-05           Vanguard Total Stock Market ETF (VTI)    VTI   \n",
       "\n",
       "   Quantity  Unit Cost  Cost Basis Start of Year  Target_Alloc  Comments  \\\n",
       "0        25      95.72     2393.00    2018-12-31         0.127       NaN   \n",
       "1        22      26.21      576.62    2018-12-31         0.033       NaN   \n",
       "2        50      12.51      625.50    2018-12-31         0.033       NaN   \n",
       "3         8      50.72      405.76    2018-12-31         0.023       NaN   \n",
       "4       105      43.92     4611.60    2018-12-31         0.250       NaN   \n",
       "5        11      58.28      641.08    2018-12-31         0.034       NaN   \n",
       "6        72      88.20     6350.40    2018-12-31         0.500       NaN   \n",
       "7        32      88.67     2837.44    2018-12-31         0.500       NaN   \n",
       "\n",
       "   Counts Ticker #     Date_x  Adj Close_x  Ticker Return     Date_y  \\\n",
       "0       0    AGG 0 2019-04-18   101.523415       0.060629 2014-04-21   \n",
       "1       1    DBC 1 2019-04-18    15.954422      -0.391285 2014-04-21   \n",
       "2       2    IAU 2 2019-04-18    24.440001       0.953637 2014-04-21   \n",
       "3       3   IGOV 3 2019-04-18    48.432762      -0.045095 2014-04-21   \n",
       "4       4    VEU 4 2019-04-18    47.527245       0.082132 2014-04-21   \n",
       "5       5    VNQ 5 2019-04-18    77.088570       0.322728 2014-04-21   \n",
       "6       6    VTI 6 2019-04-18   141.382843       0.602980 2014-04-21   \n",
       "7       7    VTI 7 2019-04-18   141.382843       0.594483 2014-05-05   \n",
       "\n",
       "   Adj Close_y  \n",
       "0  1871.890015  \n",
       "1  1871.890015  \n",
       "2  1871.890015  \n",
       "3  1871.890015  \n",
       "4  1871.890015  \n",
       "5  1871.890015  \n",
       "6  1871.890015  \n",
       "7  1884.660034  "
      ]
     },
     "execution_count": 63,
     "metadata": {},
     "output_type": "execute_result"
    }
   ],
   "source": [
    "# Above we reset the index to the newly merged dataframe.  This is because we have a flat dataframe for the sp500 returns\n",
    "# and we merge the the new dataframe with the sp500 adjusted closes since the sp start on acquisition date and sp500 close date.\n",
    "\n",
    "merged_portfolio_sp = pd.merge(merged_portfolio, sp_500_adj_close, left_on='Acquisition Date', right_on='Date', how='left')\n",
    "\n",
    "merged_portfolio_sp"
   ]
  },
  {
   "cell_type": "code",
   "execution_count": 64,
   "metadata": {},
   "outputs": [
    {
     "data": {
      "text/html": [
       "<div>\n",
       "<style scoped>\n",
       "    .dataframe tbody tr th:only-of-type {\n",
       "        vertical-align: middle;\n",
       "    }\n",
       "\n",
       "    .dataframe tbody tr th {\n",
       "        vertical-align: top;\n",
       "    }\n",
       "\n",
       "    .dataframe thead th {\n",
       "        text-align: right;\n",
       "    }\n",
       "</style>\n",
       "<table border=\"1\" class=\"dataframe\">\n",
       "  <thead>\n",
       "    <tr style=\"text-align: right;\">\n",
       "      <th></th>\n",
       "      <th>Acquisition Date</th>\n",
       "      <th>Position</th>\n",
       "      <th>Ticker</th>\n",
       "      <th>Quantity</th>\n",
       "      <th>Unit Cost</th>\n",
       "      <th>Cost Basis</th>\n",
       "      <th>Start of Year</th>\n",
       "      <th>Target_Alloc</th>\n",
       "      <th>Comments</th>\n",
       "      <th>Counts</th>\n",
       "      <th>Ticker #</th>\n",
       "      <th>Latest Date</th>\n",
       "      <th>Ticker Adj Close</th>\n",
       "      <th>Ticker Return</th>\n",
       "      <th>SP 500 Initial Close</th>\n",
       "    </tr>\n",
       "  </thead>\n",
       "  <tbody>\n",
       "    <tr>\n",
       "      <th>0</th>\n",
       "      <td>2014-04-21</td>\n",
       "      <td>iShares Core US Aggregate Bond ETF (AGG)</td>\n",
       "      <td>AGG</td>\n",
       "      <td>25</td>\n",
       "      <td>95.72</td>\n",
       "      <td>2393.00</td>\n",
       "      <td>2018-12-31</td>\n",
       "      <td>0.127</td>\n",
       "      <td>NaN</td>\n",
       "      <td>0</td>\n",
       "      <td>AGG 0</td>\n",
       "      <td>2019-04-18</td>\n",
       "      <td>101.523415</td>\n",
       "      <td>0.060629</td>\n",
       "      <td>1871.890015</td>\n",
       "    </tr>\n",
       "    <tr>\n",
       "      <th>1</th>\n",
       "      <td>2014-04-21</td>\n",
       "      <td>Invesco DB Commodity Tracking (DBC)</td>\n",
       "      <td>DBC</td>\n",
       "      <td>22</td>\n",
       "      <td>26.21</td>\n",
       "      <td>576.62</td>\n",
       "      <td>2018-12-31</td>\n",
       "      <td>0.033</td>\n",
       "      <td>NaN</td>\n",
       "      <td>1</td>\n",
       "      <td>DBC 1</td>\n",
       "      <td>2019-04-18</td>\n",
       "      <td>15.954422</td>\n",
       "      <td>-0.391285</td>\n",
       "      <td>1871.890015</td>\n",
       "    </tr>\n",
       "    <tr>\n",
       "      <th>2</th>\n",
       "      <td>2014-04-21</td>\n",
       "      <td>iShares Gold Trust (IAU)</td>\n",
       "      <td>IAU</td>\n",
       "      <td>50</td>\n",
       "      <td>12.51</td>\n",
       "      <td>625.50</td>\n",
       "      <td>2018-12-31</td>\n",
       "      <td>0.033</td>\n",
       "      <td>NaN</td>\n",
       "      <td>2</td>\n",
       "      <td>IAU 2</td>\n",
       "      <td>2019-04-18</td>\n",
       "      <td>24.440001</td>\n",
       "      <td>0.953637</td>\n",
       "      <td>1871.890015</td>\n",
       "    </tr>\n",
       "    <tr>\n",
       "      <th>3</th>\n",
       "      <td>2014-04-21</td>\n",
       "      <td>iShares International Treasury Bond ETF (IGOV)</td>\n",
       "      <td>IGOV</td>\n",
       "      <td>8</td>\n",
       "      <td>50.72</td>\n",
       "      <td>405.76</td>\n",
       "      <td>2018-12-31</td>\n",
       "      <td>0.023</td>\n",
       "      <td>NaN</td>\n",
       "      <td>3</td>\n",
       "      <td>IGOV 3</td>\n",
       "      <td>2019-04-18</td>\n",
       "      <td>48.432762</td>\n",
       "      <td>-0.045095</td>\n",
       "      <td>1871.890015</td>\n",
       "    </tr>\n",
       "    <tr>\n",
       "      <th>4</th>\n",
       "      <td>2014-04-21</td>\n",
       "      <td>Vanguard FTSE All-Wld ex-US ETF (VEU)</td>\n",
       "      <td>VEU</td>\n",
       "      <td>105</td>\n",
       "      <td>43.92</td>\n",
       "      <td>4611.60</td>\n",
       "      <td>2018-12-31</td>\n",
       "      <td>0.250</td>\n",
       "      <td>NaN</td>\n",
       "      <td>4</td>\n",
       "      <td>VEU 4</td>\n",
       "      <td>2019-04-18</td>\n",
       "      <td>47.527245</td>\n",
       "      <td>0.082132</td>\n",
       "      <td>1871.890015</td>\n",
       "    </tr>\n",
       "    <tr>\n",
       "      <th>5</th>\n",
       "      <td>2014-04-21</td>\n",
       "      <td>Vanguard Real Estate ETF (VNQ)</td>\n",
       "      <td>VNQ</td>\n",
       "      <td>11</td>\n",
       "      <td>58.28</td>\n",
       "      <td>641.08</td>\n",
       "      <td>2018-12-31</td>\n",
       "      <td>0.034</td>\n",
       "      <td>NaN</td>\n",
       "      <td>5</td>\n",
       "      <td>VNQ 5</td>\n",
       "      <td>2019-04-18</td>\n",
       "      <td>77.088570</td>\n",
       "      <td>0.322728</td>\n",
       "      <td>1871.890015</td>\n",
       "    </tr>\n",
       "    <tr>\n",
       "      <th>6</th>\n",
       "      <td>2014-04-21</td>\n",
       "      <td>Vanguard Total Stock Market ETF (VTI)</td>\n",
       "      <td>VTI</td>\n",
       "      <td>72</td>\n",
       "      <td>88.20</td>\n",
       "      <td>6350.40</td>\n",
       "      <td>2018-12-31</td>\n",
       "      <td>0.500</td>\n",
       "      <td>NaN</td>\n",
       "      <td>6</td>\n",
       "      <td>VTI 6</td>\n",
       "      <td>2019-04-18</td>\n",
       "      <td>141.382843</td>\n",
       "      <td>0.602980</td>\n",
       "      <td>1871.890015</td>\n",
       "    </tr>\n",
       "    <tr>\n",
       "      <th>7</th>\n",
       "      <td>2014-05-05</td>\n",
       "      <td>Vanguard Total Stock Market ETF (VTI)</td>\n",
       "      <td>VTI</td>\n",
       "      <td>32</td>\n",
       "      <td>88.67</td>\n",
       "      <td>2837.44</td>\n",
       "      <td>2018-12-31</td>\n",
       "      <td>0.500</td>\n",
       "      <td>NaN</td>\n",
       "      <td>7</td>\n",
       "      <td>VTI 7</td>\n",
       "      <td>2019-04-18</td>\n",
       "      <td>141.382843</td>\n",
       "      <td>0.594483</td>\n",
       "      <td>1884.660034</td>\n",
       "    </tr>\n",
       "  </tbody>\n",
       "</table>\n",
       "</div>"
      ],
      "text/plain": [
       "  Acquisition Date                                        Position Ticker  \\\n",
       "0       2014-04-21        iShares Core US Aggregate Bond ETF (AGG)    AGG   \n",
       "1       2014-04-21             Invesco DB Commodity Tracking (DBC)    DBC   \n",
       "2       2014-04-21                        iShares Gold Trust (IAU)    IAU   \n",
       "3       2014-04-21  iShares International Treasury Bond ETF (IGOV)   IGOV   \n",
       "4       2014-04-21           Vanguard FTSE All-Wld ex-US ETF (VEU)    VEU   \n",
       "5       2014-04-21                  Vanguard Real Estate ETF (VNQ)    VNQ   \n",
       "6       2014-04-21           Vanguard Total Stock Market ETF (VTI)    VTI   \n",
       "7       2014-05-05           Vanguard Total Stock Market ETF (VTI)    VTI   \n",
       "\n",
       "   Quantity  Unit Cost  Cost Basis Start of Year  Target_Alloc  Comments  \\\n",
       "0        25      95.72     2393.00    2018-12-31         0.127       NaN   \n",
       "1        22      26.21      576.62    2018-12-31         0.033       NaN   \n",
       "2        50      12.51      625.50    2018-12-31         0.033       NaN   \n",
       "3         8      50.72      405.76    2018-12-31         0.023       NaN   \n",
       "4       105      43.92     4611.60    2018-12-31         0.250       NaN   \n",
       "5        11      58.28      641.08    2018-12-31         0.034       NaN   \n",
       "6        72      88.20     6350.40    2018-12-31         0.500       NaN   \n",
       "7        32      88.67     2837.44    2018-12-31         0.500       NaN   \n",
       "\n",
       "   Counts Ticker # Latest Date  Ticker Adj Close  Ticker Return  \\\n",
       "0       0    AGG 0  2019-04-18        101.523415       0.060629   \n",
       "1       1    DBC 1  2019-04-18         15.954422      -0.391285   \n",
       "2       2    IAU 2  2019-04-18         24.440001       0.953637   \n",
       "3       3   IGOV 3  2019-04-18         48.432762      -0.045095   \n",
       "4       4    VEU 4  2019-04-18         47.527245       0.082132   \n",
       "5       5    VNQ 5  2019-04-18         77.088570       0.322728   \n",
       "6       6    VTI 6  2019-04-18        141.382843       0.602980   \n",
       "7       7    VTI 7  2019-04-18        141.382843       0.594483   \n",
       "\n",
       "   SP 500 Initial Close  \n",
       "0           1871.890015  \n",
       "1           1871.890015  \n",
       "2           1871.890015  \n",
       "3           1871.890015  \n",
       "4           1871.890015  \n",
       "5           1871.890015  \n",
       "6           1871.890015  \n",
       "7           1884.660034  "
      ]
     },
     "execution_count": 64,
     "metadata": {},
     "output_type": "execute_result"
    }
   ],
   "source": [
    "# We will delete the additional date column which is created from this merge.\n",
    "# We then rename columns to Latest Date and then reflect Ticker Adj Close and SP 500 Initial Close.\n",
    "\n",
    "del merged_portfolio_sp['Date_y']\n",
    "\n",
    "merged_portfolio_sp.rename(columns={'Date_x': 'Latest Date', 'Adj Close_x': 'Ticker Adj Close'\n",
    "                                    , 'Adj Close_y': 'SP 500 Initial Close'}, inplace=True)\n",
    "\n",
    "merged_portfolio_sp"
   ]
  },
  {
   "cell_type": "code",
   "execution_count": 65,
   "metadata": {},
   "outputs": [
    {
     "data": {
      "text/html": [
       "<div>\n",
       "<style scoped>\n",
       "    .dataframe tbody tr th:only-of-type {\n",
       "        vertical-align: middle;\n",
       "    }\n",
       "\n",
       "    .dataframe tbody tr th {\n",
       "        vertical-align: top;\n",
       "    }\n",
       "\n",
       "    .dataframe thead th {\n",
       "        text-align: right;\n",
       "    }\n",
       "</style>\n",
       "<table border=\"1\" class=\"dataframe\">\n",
       "  <thead>\n",
       "    <tr style=\"text-align: right;\">\n",
       "      <th></th>\n",
       "      <th>Acquisition Date</th>\n",
       "      <th>Position</th>\n",
       "      <th>Ticker</th>\n",
       "      <th>Quantity</th>\n",
       "      <th>Unit Cost</th>\n",
       "      <th>Cost Basis</th>\n",
       "      <th>Start of Year</th>\n",
       "      <th>Target_Alloc</th>\n",
       "      <th>Comments</th>\n",
       "      <th>Counts</th>\n",
       "      <th>Ticker #</th>\n",
       "      <th>Latest Date</th>\n",
       "      <th>Ticker Adj Close</th>\n",
       "      <th>Ticker Return</th>\n",
       "      <th>SP 500 Initial Close</th>\n",
       "      <th>Equiv SP Shares</th>\n",
       "    </tr>\n",
       "  </thead>\n",
       "  <tbody>\n",
       "    <tr>\n",
       "      <th>0</th>\n",
       "      <td>2014-04-21</td>\n",
       "      <td>iShares Core US Aggregate Bond ETF (AGG)</td>\n",
       "      <td>AGG</td>\n",
       "      <td>25</td>\n",
       "      <td>95.72</td>\n",
       "      <td>2393.00</td>\n",
       "      <td>2018-12-31</td>\n",
       "      <td>0.127</td>\n",
       "      <td>NaN</td>\n",
       "      <td>0</td>\n",
       "      <td>AGG 0</td>\n",
       "      <td>2019-04-18</td>\n",
       "      <td>101.523415</td>\n",
       "      <td>0.060629</td>\n",
       "      <td>1871.890015</td>\n",
       "      <td>1.278387</td>\n",
       "    </tr>\n",
       "    <tr>\n",
       "      <th>1</th>\n",
       "      <td>2014-04-21</td>\n",
       "      <td>Invesco DB Commodity Tracking (DBC)</td>\n",
       "      <td>DBC</td>\n",
       "      <td>22</td>\n",
       "      <td>26.21</td>\n",
       "      <td>576.62</td>\n",
       "      <td>2018-12-31</td>\n",
       "      <td>0.033</td>\n",
       "      <td>NaN</td>\n",
       "      <td>1</td>\n",
       "      <td>DBC 1</td>\n",
       "      <td>2019-04-18</td>\n",
       "      <td>15.954422</td>\n",
       "      <td>-0.391285</td>\n",
       "      <td>1871.890015</td>\n",
       "      <td>0.308042</td>\n",
       "    </tr>\n",
       "    <tr>\n",
       "      <th>2</th>\n",
       "      <td>2014-04-21</td>\n",
       "      <td>iShares Gold Trust (IAU)</td>\n",
       "      <td>IAU</td>\n",
       "      <td>50</td>\n",
       "      <td>12.51</td>\n",
       "      <td>625.50</td>\n",
       "      <td>2018-12-31</td>\n",
       "      <td>0.033</td>\n",
       "      <td>NaN</td>\n",
       "      <td>2</td>\n",
       "      <td>IAU 2</td>\n",
       "      <td>2019-04-18</td>\n",
       "      <td>24.440001</td>\n",
       "      <td>0.953637</td>\n",
       "      <td>1871.890015</td>\n",
       "      <td>0.334154</td>\n",
       "    </tr>\n",
       "    <tr>\n",
       "      <th>3</th>\n",
       "      <td>2014-04-21</td>\n",
       "      <td>iShares International Treasury Bond ETF (IGOV)</td>\n",
       "      <td>IGOV</td>\n",
       "      <td>8</td>\n",
       "      <td>50.72</td>\n",
       "      <td>405.76</td>\n",
       "      <td>2018-12-31</td>\n",
       "      <td>0.023</td>\n",
       "      <td>NaN</td>\n",
       "      <td>3</td>\n",
       "      <td>IGOV 3</td>\n",
       "      <td>2019-04-18</td>\n",
       "      <td>48.432762</td>\n",
       "      <td>-0.045095</td>\n",
       "      <td>1871.890015</td>\n",
       "      <td>0.216765</td>\n",
       "    </tr>\n",
       "    <tr>\n",
       "      <th>4</th>\n",
       "      <td>2014-04-21</td>\n",
       "      <td>Vanguard FTSE All-Wld ex-US ETF (VEU)</td>\n",
       "      <td>VEU</td>\n",
       "      <td>105</td>\n",
       "      <td>43.92</td>\n",
       "      <td>4611.60</td>\n",
       "      <td>2018-12-31</td>\n",
       "      <td>0.250</td>\n",
       "      <td>NaN</td>\n",
       "      <td>4</td>\n",
       "      <td>VEU 4</td>\n",
       "      <td>2019-04-18</td>\n",
       "      <td>47.527245</td>\n",
       "      <td>0.082132</td>\n",
       "      <td>1871.890015</td>\n",
       "      <td>2.463606</td>\n",
       "    </tr>\n",
       "    <tr>\n",
       "      <th>5</th>\n",
       "      <td>2014-04-21</td>\n",
       "      <td>Vanguard Real Estate ETF (VNQ)</td>\n",
       "      <td>VNQ</td>\n",
       "      <td>11</td>\n",
       "      <td>58.28</td>\n",
       "      <td>641.08</td>\n",
       "      <td>2018-12-31</td>\n",
       "      <td>0.034</td>\n",
       "      <td>NaN</td>\n",
       "      <td>5</td>\n",
       "      <td>VNQ 5</td>\n",
       "      <td>2019-04-18</td>\n",
       "      <td>77.088570</td>\n",
       "      <td>0.322728</td>\n",
       "      <td>1871.890015</td>\n",
       "      <td>0.342477</td>\n",
       "    </tr>\n",
       "    <tr>\n",
       "      <th>6</th>\n",
       "      <td>2014-04-21</td>\n",
       "      <td>Vanguard Total Stock Market ETF (VTI)</td>\n",
       "      <td>VTI</td>\n",
       "      <td>72</td>\n",
       "      <td>88.20</td>\n",
       "      <td>6350.40</td>\n",
       "      <td>2018-12-31</td>\n",
       "      <td>0.500</td>\n",
       "      <td>NaN</td>\n",
       "      <td>6</td>\n",
       "      <td>VTI 6</td>\n",
       "      <td>2019-04-18</td>\n",
       "      <td>141.382843</td>\n",
       "      <td>0.602980</td>\n",
       "      <td>1871.890015</td>\n",
       "      <td>3.392507</td>\n",
       "    </tr>\n",
       "    <tr>\n",
       "      <th>7</th>\n",
       "      <td>2014-05-05</td>\n",
       "      <td>Vanguard Total Stock Market ETF (VTI)</td>\n",
       "      <td>VTI</td>\n",
       "      <td>32</td>\n",
       "      <td>88.67</td>\n",
       "      <td>2837.44</td>\n",
       "      <td>2018-12-31</td>\n",
       "      <td>0.500</td>\n",
       "      <td>NaN</td>\n",
       "      <td>7</td>\n",
       "      <td>VTI 7</td>\n",
       "      <td>2019-04-18</td>\n",
       "      <td>141.382843</td>\n",
       "      <td>0.594483</td>\n",
       "      <td>1884.660034</td>\n",
       "      <td>1.505545</td>\n",
       "    </tr>\n",
       "  </tbody>\n",
       "</table>\n",
       "</div>"
      ],
      "text/plain": [
       "  Acquisition Date                                        Position Ticker  \\\n",
       "0       2014-04-21        iShares Core US Aggregate Bond ETF (AGG)    AGG   \n",
       "1       2014-04-21             Invesco DB Commodity Tracking (DBC)    DBC   \n",
       "2       2014-04-21                        iShares Gold Trust (IAU)    IAU   \n",
       "3       2014-04-21  iShares International Treasury Bond ETF (IGOV)   IGOV   \n",
       "4       2014-04-21           Vanguard FTSE All-Wld ex-US ETF (VEU)    VEU   \n",
       "5       2014-04-21                  Vanguard Real Estate ETF (VNQ)    VNQ   \n",
       "6       2014-04-21           Vanguard Total Stock Market ETF (VTI)    VTI   \n",
       "7       2014-05-05           Vanguard Total Stock Market ETF (VTI)    VTI   \n",
       "\n",
       "   Quantity  Unit Cost  Cost Basis Start of Year  Target_Alloc  Comments  \\\n",
       "0        25      95.72     2393.00    2018-12-31         0.127       NaN   \n",
       "1        22      26.21      576.62    2018-12-31         0.033       NaN   \n",
       "2        50      12.51      625.50    2018-12-31         0.033       NaN   \n",
       "3         8      50.72      405.76    2018-12-31         0.023       NaN   \n",
       "4       105      43.92     4611.60    2018-12-31         0.250       NaN   \n",
       "5        11      58.28      641.08    2018-12-31         0.034       NaN   \n",
       "6        72      88.20     6350.40    2018-12-31         0.500       NaN   \n",
       "7        32      88.67     2837.44    2018-12-31         0.500       NaN   \n",
       "\n",
       "   Counts Ticker # Latest Date  Ticker Adj Close  Ticker Return  \\\n",
       "0       0    AGG 0  2019-04-18        101.523415       0.060629   \n",
       "1       1    DBC 1  2019-04-18         15.954422      -0.391285   \n",
       "2       2    IAU 2  2019-04-18         24.440001       0.953637   \n",
       "3       3   IGOV 3  2019-04-18         48.432762      -0.045095   \n",
       "4       4    VEU 4  2019-04-18         47.527245       0.082132   \n",
       "5       5    VNQ 5  2019-04-18         77.088570       0.322728   \n",
       "6       6    VTI 6  2019-04-18        141.382843       0.602980   \n",
       "7       7    VTI 7  2019-04-18        141.382843       0.594483   \n",
       "\n",
       "   SP 500 Initial Close  Equiv SP Shares  \n",
       "0           1871.890015         1.278387  \n",
       "1           1871.890015         0.308042  \n",
       "2           1871.890015         0.334154  \n",
       "3           1871.890015         0.216765  \n",
       "4           1871.890015         2.463606  \n",
       "5           1871.890015         0.342477  \n",
       "6           1871.890015         3.392507  \n",
       "7           1884.660034         1.505545  "
      ]
     },
     "execution_count": 65,
     "metadata": {},
     "output_type": "execute_result"
    }
   ],
   "source": [
    "# This new column is intended to figure out what SP 500 equivalent purchase would have been at purchase date of stock.\n",
    "merged_portfolio_sp['Equiv SP Shares'] = merged_portfolio_sp['Cost Basis'] / merged_portfolio_sp['SP 500 Initial Close']\n",
    "merged_portfolio_sp"
   ]
  },
  {
   "cell_type": "code",
   "execution_count": 66,
   "metadata": {},
   "outputs": [
    {
     "data": {
      "text/plain": [
       "0      2009-12-31\n",
       "1      2010-01-04\n",
       "2      2010-01-05\n",
       "3      2010-01-06\n",
       "4      2010-01-07\n",
       "          ...    \n",
       "2335   2019-04-12\n",
       "2336   2019-04-15\n",
       "2337   2019-04-16\n",
       "2338   2019-04-17\n",
       "2339   2019-04-18\n",
       "Name: Date, Length: 2340, dtype: datetime64[ns]"
      ]
     },
     "execution_count": 66,
     "metadata": {},
     "output_type": "execute_result"
    }
   ],
   "source": [
    "sp_500_adj_close['Date']"
   ]
  },
  {
   "cell_type": "code",
   "execution_count": 67,
   "metadata": {},
   "outputs": [
    {
     "data": {
      "text/plain": [
       "0   2019-04-18\n",
       "1   2019-04-18\n",
       "2   2019-04-18\n",
       "3   2019-04-18\n",
       "4   2019-04-18\n",
       "5   2019-04-18\n",
       "6   2019-04-18\n",
       "7   2019-04-18\n",
       "Name: Latest Date, dtype: datetime64[ns]"
      ]
     },
     "execution_count": 67,
     "metadata": {},
     "output_type": "execute_result"
    }
   ],
   "source": [
    "merged_portfolio_sp['Latest Date']"
   ]
  },
  {
   "cell_type": "code",
   "execution_count": 68,
   "metadata": {},
   "outputs": [
    {
     "data": {
      "text/html": [
       "<div>\n",
       "<style scoped>\n",
       "    .dataframe tbody tr th:only-of-type {\n",
       "        vertical-align: middle;\n",
       "    }\n",
       "\n",
       "    .dataframe tbody tr th {\n",
       "        vertical-align: top;\n",
       "    }\n",
       "\n",
       "    .dataframe thead th {\n",
       "        text-align: right;\n",
       "    }\n",
       "</style>\n",
       "<table border=\"1\" class=\"dataframe\">\n",
       "  <thead>\n",
       "    <tr style=\"text-align: right;\">\n",
       "      <th></th>\n",
       "      <th>Acquisition Date</th>\n",
       "      <th>Position</th>\n",
       "      <th>Ticker</th>\n",
       "      <th>Quantity</th>\n",
       "      <th>Unit Cost</th>\n",
       "      <th>Cost Basis</th>\n",
       "      <th>Start of Year</th>\n",
       "      <th>Target_Alloc</th>\n",
       "      <th>Comments</th>\n",
       "      <th>Counts</th>\n",
       "      <th>Ticker #</th>\n",
       "      <th>Latest Date</th>\n",
       "      <th>Ticker Adj Close</th>\n",
       "      <th>Ticker Return</th>\n",
       "      <th>SP 500 Initial Close</th>\n",
       "      <th>Equiv SP Shares</th>\n",
       "      <th>Date</th>\n",
       "      <th>Adj Close</th>\n",
       "    </tr>\n",
       "  </thead>\n",
       "  <tbody>\n",
       "    <tr>\n",
       "      <th>0</th>\n",
       "      <td>2014-04-21</td>\n",
       "      <td>iShares Core US Aggregate Bond ETF (AGG)</td>\n",
       "      <td>AGG</td>\n",
       "      <td>25</td>\n",
       "      <td>95.72</td>\n",
       "      <td>2393.00</td>\n",
       "      <td>2018-12-31</td>\n",
       "      <td>0.127</td>\n",
       "      <td>NaN</td>\n",
       "      <td>0</td>\n",
       "      <td>AGG 0</td>\n",
       "      <td>2019-04-18</td>\n",
       "      <td>101.523415</td>\n",
       "      <td>0.060629</td>\n",
       "      <td>1871.890015</td>\n",
       "      <td>1.278387</td>\n",
       "      <td>2019-04-18</td>\n",
       "      <td>2905.030029</td>\n",
       "    </tr>\n",
       "    <tr>\n",
       "      <th>1</th>\n",
       "      <td>2014-04-21</td>\n",
       "      <td>Invesco DB Commodity Tracking (DBC)</td>\n",
       "      <td>DBC</td>\n",
       "      <td>22</td>\n",
       "      <td>26.21</td>\n",
       "      <td>576.62</td>\n",
       "      <td>2018-12-31</td>\n",
       "      <td>0.033</td>\n",
       "      <td>NaN</td>\n",
       "      <td>1</td>\n",
       "      <td>DBC 1</td>\n",
       "      <td>2019-04-18</td>\n",
       "      <td>15.954422</td>\n",
       "      <td>-0.391285</td>\n",
       "      <td>1871.890015</td>\n",
       "      <td>0.308042</td>\n",
       "      <td>2019-04-18</td>\n",
       "      <td>2905.030029</td>\n",
       "    </tr>\n",
       "    <tr>\n",
       "      <th>2</th>\n",
       "      <td>2014-04-21</td>\n",
       "      <td>iShares Gold Trust (IAU)</td>\n",
       "      <td>IAU</td>\n",
       "      <td>50</td>\n",
       "      <td>12.51</td>\n",
       "      <td>625.50</td>\n",
       "      <td>2018-12-31</td>\n",
       "      <td>0.033</td>\n",
       "      <td>NaN</td>\n",
       "      <td>2</td>\n",
       "      <td>IAU 2</td>\n",
       "      <td>2019-04-18</td>\n",
       "      <td>24.440001</td>\n",
       "      <td>0.953637</td>\n",
       "      <td>1871.890015</td>\n",
       "      <td>0.334154</td>\n",
       "      <td>2019-04-18</td>\n",
       "      <td>2905.030029</td>\n",
       "    </tr>\n",
       "    <tr>\n",
       "      <th>3</th>\n",
       "      <td>2014-04-21</td>\n",
       "      <td>iShares International Treasury Bond ETF (IGOV)</td>\n",
       "      <td>IGOV</td>\n",
       "      <td>8</td>\n",
       "      <td>50.72</td>\n",
       "      <td>405.76</td>\n",
       "      <td>2018-12-31</td>\n",
       "      <td>0.023</td>\n",
       "      <td>NaN</td>\n",
       "      <td>3</td>\n",
       "      <td>IGOV 3</td>\n",
       "      <td>2019-04-18</td>\n",
       "      <td>48.432762</td>\n",
       "      <td>-0.045095</td>\n",
       "      <td>1871.890015</td>\n",
       "      <td>0.216765</td>\n",
       "      <td>2019-04-18</td>\n",
       "      <td>2905.030029</td>\n",
       "    </tr>\n",
       "    <tr>\n",
       "      <th>4</th>\n",
       "      <td>2014-04-21</td>\n",
       "      <td>Vanguard FTSE All-Wld ex-US ETF (VEU)</td>\n",
       "      <td>VEU</td>\n",
       "      <td>105</td>\n",
       "      <td>43.92</td>\n",
       "      <td>4611.60</td>\n",
       "      <td>2018-12-31</td>\n",
       "      <td>0.250</td>\n",
       "      <td>NaN</td>\n",
       "      <td>4</td>\n",
       "      <td>VEU 4</td>\n",
       "      <td>2019-04-18</td>\n",
       "      <td>47.527245</td>\n",
       "      <td>0.082132</td>\n",
       "      <td>1871.890015</td>\n",
       "      <td>2.463606</td>\n",
       "      <td>2019-04-18</td>\n",
       "      <td>2905.030029</td>\n",
       "    </tr>\n",
       "    <tr>\n",
       "      <th>5</th>\n",
       "      <td>2014-04-21</td>\n",
       "      <td>Vanguard Real Estate ETF (VNQ)</td>\n",
       "      <td>VNQ</td>\n",
       "      <td>11</td>\n",
       "      <td>58.28</td>\n",
       "      <td>641.08</td>\n",
       "      <td>2018-12-31</td>\n",
       "      <td>0.034</td>\n",
       "      <td>NaN</td>\n",
       "      <td>5</td>\n",
       "      <td>VNQ 5</td>\n",
       "      <td>2019-04-18</td>\n",
       "      <td>77.088570</td>\n",
       "      <td>0.322728</td>\n",
       "      <td>1871.890015</td>\n",
       "      <td>0.342477</td>\n",
       "      <td>2019-04-18</td>\n",
       "      <td>2905.030029</td>\n",
       "    </tr>\n",
       "    <tr>\n",
       "      <th>6</th>\n",
       "      <td>2014-04-21</td>\n",
       "      <td>Vanguard Total Stock Market ETF (VTI)</td>\n",
       "      <td>VTI</td>\n",
       "      <td>72</td>\n",
       "      <td>88.20</td>\n",
       "      <td>6350.40</td>\n",
       "      <td>2018-12-31</td>\n",
       "      <td>0.500</td>\n",
       "      <td>NaN</td>\n",
       "      <td>6</td>\n",
       "      <td>VTI 6</td>\n",
       "      <td>2019-04-18</td>\n",
       "      <td>141.382843</td>\n",
       "      <td>0.602980</td>\n",
       "      <td>1871.890015</td>\n",
       "      <td>3.392507</td>\n",
       "      <td>2019-04-18</td>\n",
       "      <td>2905.030029</td>\n",
       "    </tr>\n",
       "    <tr>\n",
       "      <th>7</th>\n",
       "      <td>2014-05-05</td>\n",
       "      <td>Vanguard Total Stock Market ETF (VTI)</td>\n",
       "      <td>VTI</td>\n",
       "      <td>32</td>\n",
       "      <td>88.67</td>\n",
       "      <td>2837.44</td>\n",
       "      <td>2018-12-31</td>\n",
       "      <td>0.500</td>\n",
       "      <td>NaN</td>\n",
       "      <td>7</td>\n",
       "      <td>VTI 7</td>\n",
       "      <td>2019-04-18</td>\n",
       "      <td>141.382843</td>\n",
       "      <td>0.594483</td>\n",
       "      <td>1884.660034</td>\n",
       "      <td>1.505545</td>\n",
       "      <td>2019-04-18</td>\n",
       "      <td>2905.030029</td>\n",
       "    </tr>\n",
       "  </tbody>\n",
       "</table>\n",
       "</div>"
      ],
      "text/plain": [
       "  Acquisition Date                                        Position Ticker  \\\n",
       "0       2014-04-21        iShares Core US Aggregate Bond ETF (AGG)    AGG   \n",
       "1       2014-04-21             Invesco DB Commodity Tracking (DBC)    DBC   \n",
       "2       2014-04-21                        iShares Gold Trust (IAU)    IAU   \n",
       "3       2014-04-21  iShares International Treasury Bond ETF (IGOV)   IGOV   \n",
       "4       2014-04-21           Vanguard FTSE All-Wld ex-US ETF (VEU)    VEU   \n",
       "5       2014-04-21                  Vanguard Real Estate ETF (VNQ)    VNQ   \n",
       "6       2014-04-21           Vanguard Total Stock Market ETF (VTI)    VTI   \n",
       "7       2014-05-05           Vanguard Total Stock Market ETF (VTI)    VTI   \n",
       "\n",
       "   Quantity  Unit Cost  Cost Basis Start of Year  Target_Alloc  Comments  \\\n",
       "0        25      95.72     2393.00    2018-12-31         0.127       NaN   \n",
       "1        22      26.21      576.62    2018-12-31         0.033       NaN   \n",
       "2        50      12.51      625.50    2018-12-31         0.033       NaN   \n",
       "3         8      50.72      405.76    2018-12-31         0.023       NaN   \n",
       "4       105      43.92     4611.60    2018-12-31         0.250       NaN   \n",
       "5        11      58.28      641.08    2018-12-31         0.034       NaN   \n",
       "6        72      88.20     6350.40    2018-12-31         0.500       NaN   \n",
       "7        32      88.67     2837.44    2018-12-31         0.500       NaN   \n",
       "\n",
       "   Counts Ticker # Latest Date  Ticker Adj Close  Ticker Return  \\\n",
       "0       0    AGG 0  2019-04-18        101.523415       0.060629   \n",
       "1       1    DBC 1  2019-04-18         15.954422      -0.391285   \n",
       "2       2    IAU 2  2019-04-18         24.440001       0.953637   \n",
       "3       3   IGOV 3  2019-04-18         48.432762      -0.045095   \n",
       "4       4    VEU 4  2019-04-18         47.527245       0.082132   \n",
       "5       5    VNQ 5  2019-04-18         77.088570       0.322728   \n",
       "6       6    VTI 6  2019-04-18        141.382843       0.602980   \n",
       "7       7    VTI 7  2019-04-18        141.382843       0.594483   \n",
       "\n",
       "   SP 500 Initial Close  Equiv SP Shares       Date    Adj Close  \n",
       "0           1871.890015         1.278387 2019-04-18  2905.030029  \n",
       "1           1871.890015         0.308042 2019-04-18  2905.030029  \n",
       "2           1871.890015         0.334154 2019-04-18  2905.030029  \n",
       "3           1871.890015         0.216765 2019-04-18  2905.030029  \n",
       "4           1871.890015         2.463606 2019-04-18  2905.030029  \n",
       "5           1871.890015         0.342477 2019-04-18  2905.030029  \n",
       "6           1871.890015         3.392507 2019-04-18  2905.030029  \n",
       "7           1884.660034         1.505545 2019-04-18  2905.030029  "
      ]
     },
     "execution_count": 68,
     "metadata": {},
     "output_type": "execute_result"
    }
   ],
   "source": [
    "# We are joining the developing dataframe with the sp500 closes again, this time with the latest close for SP.\n",
    "merged_portfolio_sp_latest = pd.merge(merged_portfolio_sp, sp_500_adj_close, left_on='Latest Date', right_on='Date')\n",
    "\n",
    "merged_portfolio_sp_latest"
   ]
  },
  {
   "cell_type": "code",
   "execution_count": 69,
   "metadata": {},
   "outputs": [
    {
     "data": {
      "text/html": [
       "<div>\n",
       "<style scoped>\n",
       "    .dataframe tbody tr th:only-of-type {\n",
       "        vertical-align: middle;\n",
       "    }\n",
       "\n",
       "    .dataframe tbody tr th {\n",
       "        vertical-align: top;\n",
       "    }\n",
       "\n",
       "    .dataframe thead th {\n",
       "        text-align: right;\n",
       "    }\n",
       "</style>\n",
       "<table border=\"1\" class=\"dataframe\">\n",
       "  <thead>\n",
       "    <tr style=\"text-align: right;\">\n",
       "      <th></th>\n",
       "      <th>Acquisition Date</th>\n",
       "      <th>Position</th>\n",
       "      <th>Ticker</th>\n",
       "      <th>Quantity</th>\n",
       "      <th>Unit Cost</th>\n",
       "      <th>Cost Basis</th>\n",
       "      <th>Start of Year</th>\n",
       "      <th>Target_Alloc</th>\n",
       "      <th>Comments</th>\n",
       "      <th>Counts</th>\n",
       "      <th>Ticker #</th>\n",
       "      <th>Latest Date</th>\n",
       "      <th>Ticker Adj Close</th>\n",
       "      <th>Ticker Return</th>\n",
       "      <th>SP 500 Initial Close</th>\n",
       "      <th>Equiv SP Shares</th>\n",
       "      <th>SP 500 Latest Close</th>\n",
       "    </tr>\n",
       "  </thead>\n",
       "  <tbody>\n",
       "    <tr>\n",
       "      <th>0</th>\n",
       "      <td>2014-04-21</td>\n",
       "      <td>iShares Core US Aggregate Bond ETF (AGG)</td>\n",
       "      <td>AGG</td>\n",
       "      <td>25</td>\n",
       "      <td>95.72</td>\n",
       "      <td>2393.00</td>\n",
       "      <td>2018-12-31</td>\n",
       "      <td>0.127</td>\n",
       "      <td>NaN</td>\n",
       "      <td>0</td>\n",
       "      <td>AGG 0</td>\n",
       "      <td>2019-04-18</td>\n",
       "      <td>101.523415</td>\n",
       "      <td>0.060629</td>\n",
       "      <td>1871.890015</td>\n",
       "      <td>1.278387</td>\n",
       "      <td>2905.030029</td>\n",
       "    </tr>\n",
       "    <tr>\n",
       "      <th>1</th>\n",
       "      <td>2014-04-21</td>\n",
       "      <td>Invesco DB Commodity Tracking (DBC)</td>\n",
       "      <td>DBC</td>\n",
       "      <td>22</td>\n",
       "      <td>26.21</td>\n",
       "      <td>576.62</td>\n",
       "      <td>2018-12-31</td>\n",
       "      <td>0.033</td>\n",
       "      <td>NaN</td>\n",
       "      <td>1</td>\n",
       "      <td>DBC 1</td>\n",
       "      <td>2019-04-18</td>\n",
       "      <td>15.954422</td>\n",
       "      <td>-0.391285</td>\n",
       "      <td>1871.890015</td>\n",
       "      <td>0.308042</td>\n",
       "      <td>2905.030029</td>\n",
       "    </tr>\n",
       "    <tr>\n",
       "      <th>2</th>\n",
       "      <td>2014-04-21</td>\n",
       "      <td>iShares Gold Trust (IAU)</td>\n",
       "      <td>IAU</td>\n",
       "      <td>50</td>\n",
       "      <td>12.51</td>\n",
       "      <td>625.50</td>\n",
       "      <td>2018-12-31</td>\n",
       "      <td>0.033</td>\n",
       "      <td>NaN</td>\n",
       "      <td>2</td>\n",
       "      <td>IAU 2</td>\n",
       "      <td>2019-04-18</td>\n",
       "      <td>24.440001</td>\n",
       "      <td>0.953637</td>\n",
       "      <td>1871.890015</td>\n",
       "      <td>0.334154</td>\n",
       "      <td>2905.030029</td>\n",
       "    </tr>\n",
       "    <tr>\n",
       "      <th>3</th>\n",
       "      <td>2014-04-21</td>\n",
       "      <td>iShares International Treasury Bond ETF (IGOV)</td>\n",
       "      <td>IGOV</td>\n",
       "      <td>8</td>\n",
       "      <td>50.72</td>\n",
       "      <td>405.76</td>\n",
       "      <td>2018-12-31</td>\n",
       "      <td>0.023</td>\n",
       "      <td>NaN</td>\n",
       "      <td>3</td>\n",
       "      <td>IGOV 3</td>\n",
       "      <td>2019-04-18</td>\n",
       "      <td>48.432762</td>\n",
       "      <td>-0.045095</td>\n",
       "      <td>1871.890015</td>\n",
       "      <td>0.216765</td>\n",
       "      <td>2905.030029</td>\n",
       "    </tr>\n",
       "    <tr>\n",
       "      <th>4</th>\n",
       "      <td>2014-04-21</td>\n",
       "      <td>Vanguard FTSE All-Wld ex-US ETF (VEU)</td>\n",
       "      <td>VEU</td>\n",
       "      <td>105</td>\n",
       "      <td>43.92</td>\n",
       "      <td>4611.60</td>\n",
       "      <td>2018-12-31</td>\n",
       "      <td>0.250</td>\n",
       "      <td>NaN</td>\n",
       "      <td>4</td>\n",
       "      <td>VEU 4</td>\n",
       "      <td>2019-04-18</td>\n",
       "      <td>47.527245</td>\n",
       "      <td>0.082132</td>\n",
       "      <td>1871.890015</td>\n",
       "      <td>2.463606</td>\n",
       "      <td>2905.030029</td>\n",
       "    </tr>\n",
       "    <tr>\n",
       "      <th>5</th>\n",
       "      <td>2014-04-21</td>\n",
       "      <td>Vanguard Real Estate ETF (VNQ)</td>\n",
       "      <td>VNQ</td>\n",
       "      <td>11</td>\n",
       "      <td>58.28</td>\n",
       "      <td>641.08</td>\n",
       "      <td>2018-12-31</td>\n",
       "      <td>0.034</td>\n",
       "      <td>NaN</td>\n",
       "      <td>5</td>\n",
       "      <td>VNQ 5</td>\n",
       "      <td>2019-04-18</td>\n",
       "      <td>77.088570</td>\n",
       "      <td>0.322728</td>\n",
       "      <td>1871.890015</td>\n",
       "      <td>0.342477</td>\n",
       "      <td>2905.030029</td>\n",
       "    </tr>\n",
       "    <tr>\n",
       "      <th>6</th>\n",
       "      <td>2014-04-21</td>\n",
       "      <td>Vanguard Total Stock Market ETF (VTI)</td>\n",
       "      <td>VTI</td>\n",
       "      <td>72</td>\n",
       "      <td>88.20</td>\n",
       "      <td>6350.40</td>\n",
       "      <td>2018-12-31</td>\n",
       "      <td>0.500</td>\n",
       "      <td>NaN</td>\n",
       "      <td>6</td>\n",
       "      <td>VTI 6</td>\n",
       "      <td>2019-04-18</td>\n",
       "      <td>141.382843</td>\n",
       "      <td>0.602980</td>\n",
       "      <td>1871.890015</td>\n",
       "      <td>3.392507</td>\n",
       "      <td>2905.030029</td>\n",
       "    </tr>\n",
       "    <tr>\n",
       "      <th>7</th>\n",
       "      <td>2014-05-05</td>\n",
       "      <td>Vanguard Total Stock Market ETF (VTI)</td>\n",
       "      <td>VTI</td>\n",
       "      <td>32</td>\n",
       "      <td>88.67</td>\n",
       "      <td>2837.44</td>\n",
       "      <td>2018-12-31</td>\n",
       "      <td>0.500</td>\n",
       "      <td>NaN</td>\n",
       "      <td>7</td>\n",
       "      <td>VTI 7</td>\n",
       "      <td>2019-04-18</td>\n",
       "      <td>141.382843</td>\n",
       "      <td>0.594483</td>\n",
       "      <td>1884.660034</td>\n",
       "      <td>1.505545</td>\n",
       "      <td>2905.030029</td>\n",
       "    </tr>\n",
       "  </tbody>\n",
       "</table>\n",
       "</div>"
      ],
      "text/plain": [
       "  Acquisition Date                                        Position Ticker  \\\n",
       "0       2014-04-21        iShares Core US Aggregate Bond ETF (AGG)    AGG   \n",
       "1       2014-04-21             Invesco DB Commodity Tracking (DBC)    DBC   \n",
       "2       2014-04-21                        iShares Gold Trust (IAU)    IAU   \n",
       "3       2014-04-21  iShares International Treasury Bond ETF (IGOV)   IGOV   \n",
       "4       2014-04-21           Vanguard FTSE All-Wld ex-US ETF (VEU)    VEU   \n",
       "5       2014-04-21                  Vanguard Real Estate ETF (VNQ)    VNQ   \n",
       "6       2014-04-21           Vanguard Total Stock Market ETF (VTI)    VTI   \n",
       "7       2014-05-05           Vanguard Total Stock Market ETF (VTI)    VTI   \n",
       "\n",
       "   Quantity  Unit Cost  Cost Basis Start of Year  Target_Alloc  Comments  \\\n",
       "0        25      95.72     2393.00    2018-12-31         0.127       NaN   \n",
       "1        22      26.21      576.62    2018-12-31         0.033       NaN   \n",
       "2        50      12.51      625.50    2018-12-31         0.033       NaN   \n",
       "3         8      50.72      405.76    2018-12-31         0.023       NaN   \n",
       "4       105      43.92     4611.60    2018-12-31         0.250       NaN   \n",
       "5        11      58.28      641.08    2018-12-31         0.034       NaN   \n",
       "6        72      88.20     6350.40    2018-12-31         0.500       NaN   \n",
       "7        32      88.67     2837.44    2018-12-31         0.500       NaN   \n",
       "\n",
       "   Counts Ticker # Latest Date  Ticker Adj Close  Ticker Return  \\\n",
       "0       0    AGG 0  2019-04-18        101.523415       0.060629   \n",
       "1       1    DBC 1  2019-04-18         15.954422      -0.391285   \n",
       "2       2    IAU 2  2019-04-18         24.440001       0.953637   \n",
       "3       3   IGOV 3  2019-04-18         48.432762      -0.045095   \n",
       "4       4    VEU 4  2019-04-18         47.527245       0.082132   \n",
       "5       5    VNQ 5  2019-04-18         77.088570       0.322728   \n",
       "6       6    VTI 6  2019-04-18        141.382843       0.602980   \n",
       "7       7    VTI 7  2019-04-18        141.382843       0.594483   \n",
       "\n",
       "   SP 500 Initial Close  Equiv SP Shares  SP 500 Latest Close  \n",
       "0           1871.890015         1.278387          2905.030029  \n",
       "1           1871.890015         0.308042          2905.030029  \n",
       "2           1871.890015         0.334154          2905.030029  \n",
       "3           1871.890015         0.216765          2905.030029  \n",
       "4           1871.890015         2.463606          2905.030029  \n",
       "5           1871.890015         0.342477          2905.030029  \n",
       "6           1871.890015         3.392507          2905.030029  \n",
       "7           1884.660034         1.505545          2905.030029  "
      ]
     },
     "execution_count": 69,
     "metadata": {},
     "output_type": "execute_result"
    }
   ],
   "source": [
    "# Once again need to delete the new Date column added as it's redundant to Latest Date.  \n",
    "# Modify Adj Close from the sp dataframe to distinguish it by calling it the SP 500 Latest Close.\n",
    "\n",
    "del merged_portfolio_sp_latest['Date']\n",
    "\n",
    "merged_portfolio_sp_latest.rename(columns={'Adj Close': 'SP 500 Latest Close'}, inplace=True)\n",
    "\n",
    "merged_portfolio_sp_latest"
   ]
  },
  {
   "cell_type": "code",
   "execution_count": 70,
   "metadata": {},
   "outputs": [
    {
     "data": {
      "text/html": [
       "<div>\n",
       "<style scoped>\n",
       "    .dataframe tbody tr th:only-of-type {\n",
       "        vertical-align: middle;\n",
       "    }\n",
       "\n",
       "    .dataframe tbody tr th {\n",
       "        vertical-align: top;\n",
       "    }\n",
       "\n",
       "    .dataframe thead th {\n",
       "        text-align: right;\n",
       "    }\n",
       "</style>\n",
       "<table border=\"1\" class=\"dataframe\">\n",
       "  <thead>\n",
       "    <tr style=\"text-align: right;\">\n",
       "      <th></th>\n",
       "      <th>Acquisition Date</th>\n",
       "      <th>Position</th>\n",
       "      <th>Ticker</th>\n",
       "      <th>Quantity</th>\n",
       "      <th>Unit Cost</th>\n",
       "      <th>Cost Basis</th>\n",
       "      <th>Start of Year</th>\n",
       "      <th>Target_Alloc</th>\n",
       "      <th>Comments</th>\n",
       "      <th>Counts</th>\n",
       "      <th>...</th>\n",
       "      <th>SP 500 Initial Close</th>\n",
       "      <th>Equiv SP Shares</th>\n",
       "      <th>SP 500 Latest Close</th>\n",
       "      <th>SP Return</th>\n",
       "      <th>Abs. Return Compare</th>\n",
       "      <th>Ticker Share Value</th>\n",
       "      <th>SP 500 Value</th>\n",
       "      <th>Abs Value Compare</th>\n",
       "      <th>Stock Gain / (Loss)</th>\n",
       "      <th>SP 500 Gain / (Loss)</th>\n",
       "    </tr>\n",
       "  </thead>\n",
       "  <tbody>\n",
       "    <tr>\n",
       "      <th>0</th>\n",
       "      <td>2014-04-21</td>\n",
       "      <td>iShares Core US Aggregate Bond ETF (AGG)</td>\n",
       "      <td>AGG</td>\n",
       "      <td>25</td>\n",
       "      <td>95.72</td>\n",
       "      <td>2393.00</td>\n",
       "      <td>2018-12-31</td>\n",
       "      <td>0.127</td>\n",
       "      <td>NaN</td>\n",
       "      <td>0</td>\n",
       "      <td>...</td>\n",
       "      <td>1871.890015</td>\n",
       "      <td>1.278387</td>\n",
       "      <td>2905.030029</td>\n",
       "      <td>0.551923</td>\n",
       "      <td>-0.491294</td>\n",
       "      <td>2538.085365</td>\n",
       "      <td>3713.752841</td>\n",
       "      <td>-1175.667476</td>\n",
       "      <td>145.085365</td>\n",
       "      <td>1320.752841</td>\n",
       "    </tr>\n",
       "    <tr>\n",
       "      <th>1</th>\n",
       "      <td>2014-04-21</td>\n",
       "      <td>Invesco DB Commodity Tracking (DBC)</td>\n",
       "      <td>DBC</td>\n",
       "      <td>22</td>\n",
       "      <td>26.21</td>\n",
       "      <td>576.62</td>\n",
       "      <td>2018-12-31</td>\n",
       "      <td>0.033</td>\n",
       "      <td>NaN</td>\n",
       "      <td>1</td>\n",
       "      <td>...</td>\n",
       "      <td>1871.890015</td>\n",
       "      <td>0.308042</td>\n",
       "      <td>2905.030029</td>\n",
       "      <td>0.551923</td>\n",
       "      <td>-0.943208</td>\n",
       "      <td>350.997284</td>\n",
       "      <td>894.870106</td>\n",
       "      <td>-543.872822</td>\n",
       "      <td>-225.622716</td>\n",
       "      <td>318.250106</td>\n",
       "    </tr>\n",
       "    <tr>\n",
       "      <th>2</th>\n",
       "      <td>2014-04-21</td>\n",
       "      <td>iShares Gold Trust (IAU)</td>\n",
       "      <td>IAU</td>\n",
       "      <td>50</td>\n",
       "      <td>12.51</td>\n",
       "      <td>625.50</td>\n",
       "      <td>2018-12-31</td>\n",
       "      <td>0.033</td>\n",
       "      <td>NaN</td>\n",
       "      <td>2</td>\n",
       "      <td>...</td>\n",
       "      <td>1871.890015</td>\n",
       "      <td>0.334154</td>\n",
       "      <td>2905.030029</td>\n",
       "      <td>0.551923</td>\n",
       "      <td>0.401714</td>\n",
       "      <td>1222.000027</td>\n",
       "      <td>970.728125</td>\n",
       "      <td>251.271902</td>\n",
       "      <td>596.500027</td>\n",
       "      <td>345.228125</td>\n",
       "    </tr>\n",
       "    <tr>\n",
       "      <th>3</th>\n",
       "      <td>2014-04-21</td>\n",
       "      <td>iShares International Treasury Bond ETF (IGOV)</td>\n",
       "      <td>IGOV</td>\n",
       "      <td>8</td>\n",
       "      <td>50.72</td>\n",
       "      <td>405.76</td>\n",
       "      <td>2018-12-31</td>\n",
       "      <td>0.023</td>\n",
       "      <td>NaN</td>\n",
       "      <td>3</td>\n",
       "      <td>...</td>\n",
       "      <td>1871.890015</td>\n",
       "      <td>0.216765</td>\n",
       "      <td>2905.030029</td>\n",
       "      <td>0.551923</td>\n",
       "      <td>-0.597019</td>\n",
       "      <td>387.462097</td>\n",
       "      <td>629.708463</td>\n",
       "      <td>-242.246366</td>\n",
       "      <td>-18.297903</td>\n",
       "      <td>223.948463</td>\n",
       "    </tr>\n",
       "    <tr>\n",
       "      <th>4</th>\n",
       "      <td>2014-04-21</td>\n",
       "      <td>Vanguard FTSE All-Wld ex-US ETF (VEU)</td>\n",
       "      <td>VEU</td>\n",
       "      <td>105</td>\n",
       "      <td>43.92</td>\n",
       "      <td>4611.60</td>\n",
       "      <td>2018-12-31</td>\n",
       "      <td>0.250</td>\n",
       "      <td>NaN</td>\n",
       "      <td>4</td>\n",
       "      <td>...</td>\n",
       "      <td>1871.890015</td>\n",
       "      <td>2.463606</td>\n",
       "      <td>2905.030029</td>\n",
       "      <td>0.551923</td>\n",
       "      <td>-0.469791</td>\n",
       "      <td>4990.360680</td>\n",
       "      <td>7156.850231</td>\n",
       "      <td>-2166.489551</td>\n",
       "      <td>378.760680</td>\n",
       "      <td>2545.250231</td>\n",
       "    </tr>\n",
       "    <tr>\n",
       "      <th>5</th>\n",
       "      <td>2014-04-21</td>\n",
       "      <td>Vanguard Real Estate ETF (VNQ)</td>\n",
       "      <td>VNQ</td>\n",
       "      <td>11</td>\n",
       "      <td>58.28</td>\n",
       "      <td>641.08</td>\n",
       "      <td>2018-12-31</td>\n",
       "      <td>0.034</td>\n",
       "      <td>NaN</td>\n",
       "      <td>5</td>\n",
       "      <td>...</td>\n",
       "      <td>1871.890015</td>\n",
       "      <td>0.342477</td>\n",
       "      <td>2905.030029</td>\n",
       "      <td>0.551923</td>\n",
       "      <td>-0.229196</td>\n",
       "      <td>847.974266</td>\n",
       "      <td>994.907092</td>\n",
       "      <td>-146.932826</td>\n",
       "      <td>206.894266</td>\n",
       "      <td>353.827092</td>\n",
       "    </tr>\n",
       "    <tr>\n",
       "      <th>6</th>\n",
       "      <td>2014-04-21</td>\n",
       "      <td>Vanguard Total Stock Market ETF (VTI)</td>\n",
       "      <td>VTI</td>\n",
       "      <td>72</td>\n",
       "      <td>88.20</td>\n",
       "      <td>6350.40</td>\n",
       "      <td>2018-12-31</td>\n",
       "      <td>0.500</td>\n",
       "      <td>NaN</td>\n",
       "      <td>6</td>\n",
       "      <td>...</td>\n",
       "      <td>1871.890015</td>\n",
       "      <td>3.392507</td>\n",
       "      <td>2905.030029</td>\n",
       "      <td>0.551923</td>\n",
       "      <td>0.051057</td>\n",
       "      <td>10179.564697</td>\n",
       "      <td>9855.334744</td>\n",
       "      <td>324.229953</td>\n",
       "      <td>3829.164697</td>\n",
       "      <td>3504.934744</td>\n",
       "    </tr>\n",
       "    <tr>\n",
       "      <th>7</th>\n",
       "      <td>2014-05-05</td>\n",
       "      <td>Vanguard Total Stock Market ETF (VTI)</td>\n",
       "      <td>VTI</td>\n",
       "      <td>32</td>\n",
       "      <td>88.67</td>\n",
       "      <td>2837.44</td>\n",
       "      <td>2018-12-31</td>\n",
       "      <td>0.500</td>\n",
       "      <td>NaN</td>\n",
       "      <td>7</td>\n",
       "      <td>...</td>\n",
       "      <td>1884.660034</td>\n",
       "      <td>1.505545</td>\n",
       "      <td>2905.030029</td>\n",
       "      <td>0.541408</td>\n",
       "      <td>0.053075</td>\n",
       "      <td>4524.250977</td>\n",
       "      <td>4373.652678</td>\n",
       "      <td>150.598298</td>\n",
       "      <td>1686.810977</td>\n",
       "      <td>1536.212678</td>\n",
       "    </tr>\n",
       "  </tbody>\n",
       "</table>\n",
       "<p>8 rows × 24 columns</p>\n",
       "</div>"
      ],
      "text/plain": [
       "  Acquisition Date                                        Position Ticker  \\\n",
       "0       2014-04-21        iShares Core US Aggregate Bond ETF (AGG)    AGG   \n",
       "1       2014-04-21             Invesco DB Commodity Tracking (DBC)    DBC   \n",
       "2       2014-04-21                        iShares Gold Trust (IAU)    IAU   \n",
       "3       2014-04-21  iShares International Treasury Bond ETF (IGOV)   IGOV   \n",
       "4       2014-04-21           Vanguard FTSE All-Wld ex-US ETF (VEU)    VEU   \n",
       "5       2014-04-21                  Vanguard Real Estate ETF (VNQ)    VNQ   \n",
       "6       2014-04-21           Vanguard Total Stock Market ETF (VTI)    VTI   \n",
       "7       2014-05-05           Vanguard Total Stock Market ETF (VTI)    VTI   \n",
       "\n",
       "   Quantity  Unit Cost  Cost Basis Start of Year  Target_Alloc  Comments  \\\n",
       "0        25      95.72     2393.00    2018-12-31         0.127       NaN   \n",
       "1        22      26.21      576.62    2018-12-31         0.033       NaN   \n",
       "2        50      12.51      625.50    2018-12-31         0.033       NaN   \n",
       "3         8      50.72      405.76    2018-12-31         0.023       NaN   \n",
       "4       105      43.92     4611.60    2018-12-31         0.250       NaN   \n",
       "5        11      58.28      641.08    2018-12-31         0.034       NaN   \n",
       "6        72      88.20     6350.40    2018-12-31         0.500       NaN   \n",
       "7        32      88.67     2837.44    2018-12-31         0.500       NaN   \n",
       "\n",
       "   Counts  ... SP 500 Initial Close Equiv SP Shares  SP 500 Latest Close  \\\n",
       "0       0  ...          1871.890015        1.278387          2905.030029   \n",
       "1       1  ...          1871.890015        0.308042          2905.030029   \n",
       "2       2  ...          1871.890015        0.334154          2905.030029   \n",
       "3       3  ...          1871.890015        0.216765          2905.030029   \n",
       "4       4  ...          1871.890015        2.463606          2905.030029   \n",
       "5       5  ...          1871.890015        0.342477          2905.030029   \n",
       "6       6  ...          1871.890015        3.392507          2905.030029   \n",
       "7       7  ...          1884.660034        1.505545          2905.030029   \n",
       "\n",
       "   SP Return  Abs. Return Compare  Ticker Share Value  SP 500 Value  \\\n",
       "0   0.551923            -0.491294         2538.085365   3713.752841   \n",
       "1   0.551923            -0.943208          350.997284    894.870106   \n",
       "2   0.551923             0.401714         1222.000027    970.728125   \n",
       "3   0.551923            -0.597019          387.462097    629.708463   \n",
       "4   0.551923            -0.469791         4990.360680   7156.850231   \n",
       "5   0.551923            -0.229196          847.974266    994.907092   \n",
       "6   0.551923             0.051057        10179.564697   9855.334744   \n",
       "7   0.541408             0.053075         4524.250977   4373.652678   \n",
       "\n",
       "   Abs Value Compare  Stock Gain / (Loss)  SP 500 Gain / (Loss)  \n",
       "0       -1175.667476           145.085365           1320.752841  \n",
       "1        -543.872822          -225.622716            318.250106  \n",
       "2         251.271902           596.500027            345.228125  \n",
       "3        -242.246366           -18.297903            223.948463  \n",
       "4       -2166.489551           378.760680           2545.250231  \n",
       "5        -146.932826           206.894266            353.827092  \n",
       "6         324.229953          3829.164697           3504.934744  \n",
       "7         150.598298          1686.810977           1536.212678  \n",
       "\n",
       "[8 rows x 24 columns]"
      ]
     },
     "execution_count": 70,
     "metadata": {},
     "output_type": "execute_result"
    }
   ],
   "source": [
    "# Percent return of SP from acquisition date of position through latest trading day.\n",
    "merged_portfolio_sp_latest['SP Return'] = merged_portfolio_sp_latest['SP 500 Latest Close'] / merged_portfolio_sp_latest['SP 500 Initial Close'] - 1\n",
    "\n",
    "# This is a new column which takes the tickers return and subtracts the sp 500 equivalent range return.\n",
    "merged_portfolio_sp_latest['Abs. Return Compare'] = merged_portfolio_sp_latest['Ticker Return'] - merged_portfolio_sp_latest['SP Return']\n",
    "\n",
    "# This is a new column where we calculate the ticker's share value by multiplying the original quantity by the latest close.\n",
    "merged_portfolio_sp_latest['Ticker Share Value'] = merged_portfolio_sp_latest['Quantity'] * merged_portfolio_sp_latest['Ticker Adj Close']\n",
    "\n",
    "# We calculate the equivalent SP 500 Value if we take the original SP shares * the latest SP 500 share price.\n",
    "merged_portfolio_sp_latest['SP 500 Value'] = merged_portfolio_sp_latest['Equiv SP Shares'] * merged_portfolio_sp_latest['SP 500 Latest Close']\n",
    "\n",
    "# This is a new column where we take the current market value for the shares and subtract the SP 500 value.\n",
    "merged_portfolio_sp_latest['Abs Value Compare'] = merged_portfolio_sp_latest['Ticker Share Value'] - merged_portfolio_sp_latest['SP 500 Value']\n",
    "\n",
    "# This column calculates profit / loss for stock position.\n",
    "merged_portfolio_sp_latest['Stock Gain / (Loss)'] = merged_portfolio_sp_latest['Ticker Share Value'] - merged_portfolio_sp_latest['Cost Basis']\n",
    "\n",
    "# This column calculates profit / loss for SP 500.\n",
    "merged_portfolio_sp_latest['SP 500 Gain / (Loss)'] = merged_portfolio_sp_latest['SP 500 Value'] - merged_portfolio_sp_latest['Cost Basis']\n",
    "\n",
    "merged_portfolio_sp_latest"
   ]
  },
  {
   "cell_type": "code",
   "execution_count": 71,
   "metadata": {},
   "outputs": [
    {
     "data": {
      "text/html": [
       "<div>\n",
       "<style scoped>\n",
       "    .dataframe tbody tr th:only-of-type {\n",
       "        vertical-align: middle;\n",
       "    }\n",
       "\n",
       "    .dataframe tbody tr th {\n",
       "        vertical-align: top;\n",
       "    }\n",
       "\n",
       "    .dataframe thead th {\n",
       "        text-align: right;\n",
       "    }\n",
       "</style>\n",
       "<table border=\"1\" class=\"dataframe\">\n",
       "  <thead>\n",
       "    <tr style=\"text-align: right;\">\n",
       "      <th></th>\n",
       "      <th>Acquisition Date</th>\n",
       "      <th>Position</th>\n",
       "      <th>Ticker</th>\n",
       "      <th>Quantity</th>\n",
       "      <th>Unit Cost</th>\n",
       "      <th>Cost Basis</th>\n",
       "      <th>Start of Year</th>\n",
       "      <th>Target_Alloc</th>\n",
       "      <th>Comments</th>\n",
       "      <th>Counts</th>\n",
       "      <th>...</th>\n",
       "      <th>SP 500 Latest Close</th>\n",
       "      <th>SP Return</th>\n",
       "      <th>Abs. Return Compare</th>\n",
       "      <th>Ticker Share Value</th>\n",
       "      <th>SP 500 Value</th>\n",
       "      <th>Abs Value Compare</th>\n",
       "      <th>Stock Gain / (Loss)</th>\n",
       "      <th>SP 500 Gain / (Loss)</th>\n",
       "      <th>Date</th>\n",
       "      <th>Adj Close</th>\n",
       "    </tr>\n",
       "  </thead>\n",
       "  <tbody>\n",
       "    <tr>\n",
       "      <th>0</th>\n",
       "      <td>2014-04-21</td>\n",
       "      <td>iShares Core US Aggregate Bond ETF (AGG)</td>\n",
       "      <td>AGG</td>\n",
       "      <td>25</td>\n",
       "      <td>95.72</td>\n",
       "      <td>2393.00</td>\n",
       "      <td>2018-12-31</td>\n",
       "      <td>0.127</td>\n",
       "      <td>NaN</td>\n",
       "      <td>0</td>\n",
       "      <td>...</td>\n",
       "      <td>2905.030029</td>\n",
       "      <td>0.551923</td>\n",
       "      <td>-0.491294</td>\n",
       "      <td>2538.085365</td>\n",
       "      <td>3713.752841</td>\n",
       "      <td>-1175.667476</td>\n",
       "      <td>145.085365</td>\n",
       "      <td>1320.752841</td>\n",
       "      <td>2018-12-31</td>\n",
       "      <td>99.191551</td>\n",
       "    </tr>\n",
       "    <tr>\n",
       "      <th>1</th>\n",
       "      <td>2014-04-21</td>\n",
       "      <td>Invesco DB Commodity Tracking (DBC)</td>\n",
       "      <td>DBC</td>\n",
       "      <td>22</td>\n",
       "      <td>26.21</td>\n",
       "      <td>576.62</td>\n",
       "      <td>2018-12-31</td>\n",
       "      <td>0.033</td>\n",
       "      <td>NaN</td>\n",
       "      <td>1</td>\n",
       "      <td>...</td>\n",
       "      <td>2905.030029</td>\n",
       "      <td>0.551923</td>\n",
       "      <td>-0.943208</td>\n",
       "      <td>350.997284</td>\n",
       "      <td>894.870106</td>\n",
       "      <td>-543.872822</td>\n",
       "      <td>-225.622716</td>\n",
       "      <td>318.250106</td>\n",
       "      <td>2018-12-31</td>\n",
       "      <td>14.261541</td>\n",
       "    </tr>\n",
       "    <tr>\n",
       "      <th>2</th>\n",
       "      <td>2014-04-21</td>\n",
       "      <td>iShares Gold Trust (IAU)</td>\n",
       "      <td>IAU</td>\n",
       "      <td>50</td>\n",
       "      <td>12.51</td>\n",
       "      <td>625.50</td>\n",
       "      <td>2018-12-31</td>\n",
       "      <td>0.033</td>\n",
       "      <td>NaN</td>\n",
       "      <td>2</td>\n",
       "      <td>...</td>\n",
       "      <td>2905.030029</td>\n",
       "      <td>0.551923</td>\n",
       "      <td>0.401714</td>\n",
       "      <td>1222.000027</td>\n",
       "      <td>970.728125</td>\n",
       "      <td>251.271902</td>\n",
       "      <td>596.500027</td>\n",
       "      <td>345.228125</td>\n",
       "      <td>2018-12-31</td>\n",
       "      <td>24.580000</td>\n",
       "    </tr>\n",
       "    <tr>\n",
       "      <th>3</th>\n",
       "      <td>2014-04-21</td>\n",
       "      <td>iShares International Treasury Bond ETF (IGOV)</td>\n",
       "      <td>IGOV</td>\n",
       "      <td>8</td>\n",
       "      <td>50.72</td>\n",
       "      <td>405.76</td>\n",
       "      <td>2018-12-31</td>\n",
       "      <td>0.023</td>\n",
       "      <td>NaN</td>\n",
       "      <td>3</td>\n",
       "      <td>...</td>\n",
       "      <td>2905.030029</td>\n",
       "      <td>0.551923</td>\n",
       "      <td>-0.597019</td>\n",
       "      <td>387.462097</td>\n",
       "      <td>629.708463</td>\n",
       "      <td>-242.246366</td>\n",
       "      <td>-18.297903</td>\n",
       "      <td>223.948463</td>\n",
       "      <td>2018-12-31</td>\n",
       "      <td>48.164463</td>\n",
       "    </tr>\n",
       "    <tr>\n",
       "      <th>4</th>\n",
       "      <td>2014-04-21</td>\n",
       "      <td>Vanguard FTSE All-Wld ex-US ETF (VEU)</td>\n",
       "      <td>VEU</td>\n",
       "      <td>105</td>\n",
       "      <td>43.92</td>\n",
       "      <td>4611.60</td>\n",
       "      <td>2018-12-31</td>\n",
       "      <td>0.250</td>\n",
       "      <td>NaN</td>\n",
       "      <td>4</td>\n",
       "      <td>...</td>\n",
       "      <td>2905.030029</td>\n",
       "      <td>0.551923</td>\n",
       "      <td>-0.469791</td>\n",
       "      <td>4990.360680</td>\n",
       "      <td>7156.850231</td>\n",
       "      <td>-2166.489551</td>\n",
       "      <td>378.760680</td>\n",
       "      <td>2545.250231</td>\n",
       "      <td>2018-12-31</td>\n",
       "      <td>41.742603</td>\n",
       "    </tr>\n",
       "    <tr>\n",
       "      <th>5</th>\n",
       "      <td>2014-04-21</td>\n",
       "      <td>Vanguard Real Estate ETF (VNQ)</td>\n",
       "      <td>VNQ</td>\n",
       "      <td>11</td>\n",
       "      <td>58.28</td>\n",
       "      <td>641.08</td>\n",
       "      <td>2018-12-31</td>\n",
       "      <td>0.034</td>\n",
       "      <td>NaN</td>\n",
       "      <td>5</td>\n",
       "      <td>...</td>\n",
       "      <td>2905.030029</td>\n",
       "      <td>0.551923</td>\n",
       "      <td>-0.229196</td>\n",
       "      <td>847.974266</td>\n",
       "      <td>994.907092</td>\n",
       "      <td>-146.932826</td>\n",
       "      <td>206.894266</td>\n",
       "      <td>353.827092</td>\n",
       "      <td>2018-12-31</td>\n",
       "      <td>66.764374</td>\n",
       "    </tr>\n",
       "    <tr>\n",
       "      <th>6</th>\n",
       "      <td>2014-04-21</td>\n",
       "      <td>Vanguard Total Stock Market ETF (VTI)</td>\n",
       "      <td>VTI</td>\n",
       "      <td>72</td>\n",
       "      <td>88.20</td>\n",
       "      <td>6350.40</td>\n",
       "      <td>2018-12-31</td>\n",
       "      <td>0.500</td>\n",
       "      <td>NaN</td>\n",
       "      <td>6</td>\n",
       "      <td>...</td>\n",
       "      <td>2905.030029</td>\n",
       "      <td>0.551923</td>\n",
       "      <td>0.051057</td>\n",
       "      <td>10179.564697</td>\n",
       "      <td>9855.334744</td>\n",
       "      <td>324.229953</td>\n",
       "      <td>3829.164697</td>\n",
       "      <td>3504.934744</td>\n",
       "      <td>2018-12-31</td>\n",
       "      <td>121.047112</td>\n",
       "    </tr>\n",
       "    <tr>\n",
       "      <th>7</th>\n",
       "      <td>2014-05-05</td>\n",
       "      <td>Vanguard Total Stock Market ETF (VTI)</td>\n",
       "      <td>VTI</td>\n",
       "      <td>32</td>\n",
       "      <td>88.67</td>\n",
       "      <td>2837.44</td>\n",
       "      <td>2018-12-31</td>\n",
       "      <td>0.500</td>\n",
       "      <td>NaN</td>\n",
       "      <td>7</td>\n",
       "      <td>...</td>\n",
       "      <td>2905.030029</td>\n",
       "      <td>0.541408</td>\n",
       "      <td>0.053075</td>\n",
       "      <td>4524.250977</td>\n",
       "      <td>4373.652678</td>\n",
       "      <td>150.598298</td>\n",
       "      <td>1686.810977</td>\n",
       "      <td>1536.212678</td>\n",
       "      <td>2018-12-31</td>\n",
       "      <td>121.047112</td>\n",
       "    </tr>\n",
       "  </tbody>\n",
       "</table>\n",
       "<p>8 rows × 26 columns</p>\n",
       "</div>"
      ],
      "text/plain": [
       "  Acquisition Date                                        Position Ticker  \\\n",
       "0       2014-04-21        iShares Core US Aggregate Bond ETF (AGG)    AGG   \n",
       "1       2014-04-21             Invesco DB Commodity Tracking (DBC)    DBC   \n",
       "2       2014-04-21                        iShares Gold Trust (IAU)    IAU   \n",
       "3       2014-04-21  iShares International Treasury Bond ETF (IGOV)   IGOV   \n",
       "4       2014-04-21           Vanguard FTSE All-Wld ex-US ETF (VEU)    VEU   \n",
       "5       2014-04-21                  Vanguard Real Estate ETF (VNQ)    VNQ   \n",
       "6       2014-04-21           Vanguard Total Stock Market ETF (VTI)    VTI   \n",
       "7       2014-05-05           Vanguard Total Stock Market ETF (VTI)    VTI   \n",
       "\n",
       "   Quantity  Unit Cost  Cost Basis Start of Year  Target_Alloc  Comments  \\\n",
       "0        25      95.72     2393.00    2018-12-31         0.127       NaN   \n",
       "1        22      26.21      576.62    2018-12-31         0.033       NaN   \n",
       "2        50      12.51      625.50    2018-12-31         0.033       NaN   \n",
       "3         8      50.72      405.76    2018-12-31         0.023       NaN   \n",
       "4       105      43.92     4611.60    2018-12-31         0.250       NaN   \n",
       "5        11      58.28      641.08    2018-12-31         0.034       NaN   \n",
       "6        72      88.20     6350.40    2018-12-31         0.500       NaN   \n",
       "7        32      88.67     2837.44    2018-12-31         0.500       NaN   \n",
       "\n",
       "   Counts  ... SP 500 Latest Close SP Return  Abs. Return Compare  \\\n",
       "0       0  ...         2905.030029  0.551923            -0.491294   \n",
       "1       1  ...         2905.030029  0.551923            -0.943208   \n",
       "2       2  ...         2905.030029  0.551923             0.401714   \n",
       "3       3  ...         2905.030029  0.551923            -0.597019   \n",
       "4       4  ...         2905.030029  0.551923            -0.469791   \n",
       "5       5  ...         2905.030029  0.551923            -0.229196   \n",
       "6       6  ...         2905.030029  0.551923             0.051057   \n",
       "7       7  ...         2905.030029  0.541408             0.053075   \n",
       "\n",
       "   Ticker Share Value  SP 500 Value  Abs Value Compare  Stock Gain / (Loss)  \\\n",
       "0         2538.085365   3713.752841       -1175.667476           145.085365   \n",
       "1          350.997284    894.870106        -543.872822          -225.622716   \n",
       "2         1222.000027    970.728125         251.271902           596.500027   \n",
       "3          387.462097    629.708463        -242.246366           -18.297903   \n",
       "4         4990.360680   7156.850231       -2166.489551           378.760680   \n",
       "5          847.974266    994.907092        -146.932826           206.894266   \n",
       "6        10179.564697   9855.334744         324.229953          3829.164697   \n",
       "7         4524.250977   4373.652678         150.598298          1686.810977   \n",
       "\n",
       "   SP 500 Gain / (Loss)       Date   Adj Close  \n",
       "0           1320.752841 2018-12-31   99.191551  \n",
       "1            318.250106 2018-12-31   14.261541  \n",
       "2            345.228125 2018-12-31   24.580000  \n",
       "3            223.948463 2018-12-31   48.164463  \n",
       "4           2545.250231 2018-12-31   41.742603  \n",
       "5            353.827092 2018-12-31   66.764374  \n",
       "6           3504.934744 2018-12-31  121.047112  \n",
       "7           1536.212678 2018-12-31  121.047112  \n",
       "\n",
       "[8 rows x 26 columns]"
      ]
     },
     "execution_count": 71,
     "metadata": {},
     "output_type": "execute_result"
    }
   ],
   "source": [
    "# Merge the overall dataframe with the adj close start of year dataframe for YTD tracking.\n",
    "\n",
    "merged_portfolio_sp_latest_YTD = pd.merge(merged_portfolio_sp_latest, adj_close_start, on='Ticker')\n",
    "merged_portfolio_sp_latest_YTD"
   ]
  },
  {
   "cell_type": "code",
   "execution_count": 72,
   "metadata": {},
   "outputs": [
    {
     "data": {
      "text/html": [
       "<div>\n",
       "<style scoped>\n",
       "    .dataframe tbody tr th:only-of-type {\n",
       "        vertical-align: middle;\n",
       "    }\n",
       "\n",
       "    .dataframe tbody tr th {\n",
       "        vertical-align: top;\n",
       "    }\n",
       "\n",
       "    .dataframe thead th {\n",
       "        text-align: right;\n",
       "    }\n",
       "</style>\n",
       "<table border=\"1\" class=\"dataframe\">\n",
       "  <thead>\n",
       "    <tr style=\"text-align: right;\">\n",
       "      <th></th>\n",
       "      <th>Acquisition Date</th>\n",
       "      <th>Position</th>\n",
       "      <th>Ticker</th>\n",
       "      <th>Quantity</th>\n",
       "      <th>Unit Cost</th>\n",
       "      <th>Cost Basis</th>\n",
       "      <th>Start of Year</th>\n",
       "      <th>Target_Alloc</th>\n",
       "      <th>Comments</th>\n",
       "      <th>Counts</th>\n",
       "      <th>...</th>\n",
       "      <th>Equiv SP Shares</th>\n",
       "      <th>SP 500 Latest Close</th>\n",
       "      <th>SP Return</th>\n",
       "      <th>Abs. Return Compare</th>\n",
       "      <th>Ticker Share Value</th>\n",
       "      <th>SP 500 Value</th>\n",
       "      <th>Abs Value Compare</th>\n",
       "      <th>Stock Gain / (Loss)</th>\n",
       "      <th>SP 500 Gain / (Loss)</th>\n",
       "      <th>Ticker Start Year Close</th>\n",
       "    </tr>\n",
       "  </thead>\n",
       "  <tbody>\n",
       "    <tr>\n",
       "      <th>0</th>\n",
       "      <td>2014-04-21</td>\n",
       "      <td>iShares Core US Aggregate Bond ETF (AGG)</td>\n",
       "      <td>AGG</td>\n",
       "      <td>25</td>\n",
       "      <td>95.72</td>\n",
       "      <td>2393.00</td>\n",
       "      <td>2018-12-31</td>\n",
       "      <td>0.127</td>\n",
       "      <td>NaN</td>\n",
       "      <td>0</td>\n",
       "      <td>...</td>\n",
       "      <td>1.278387</td>\n",
       "      <td>2905.030029</td>\n",
       "      <td>0.551923</td>\n",
       "      <td>-0.491294</td>\n",
       "      <td>2538.085365</td>\n",
       "      <td>3713.752841</td>\n",
       "      <td>-1175.667476</td>\n",
       "      <td>145.085365</td>\n",
       "      <td>1320.752841</td>\n",
       "      <td>99.191551</td>\n",
       "    </tr>\n",
       "    <tr>\n",
       "      <th>1</th>\n",
       "      <td>2014-04-21</td>\n",
       "      <td>Invesco DB Commodity Tracking (DBC)</td>\n",
       "      <td>DBC</td>\n",
       "      <td>22</td>\n",
       "      <td>26.21</td>\n",
       "      <td>576.62</td>\n",
       "      <td>2018-12-31</td>\n",
       "      <td>0.033</td>\n",
       "      <td>NaN</td>\n",
       "      <td>1</td>\n",
       "      <td>...</td>\n",
       "      <td>0.308042</td>\n",
       "      <td>2905.030029</td>\n",
       "      <td>0.551923</td>\n",
       "      <td>-0.943208</td>\n",
       "      <td>350.997284</td>\n",
       "      <td>894.870106</td>\n",
       "      <td>-543.872822</td>\n",
       "      <td>-225.622716</td>\n",
       "      <td>318.250106</td>\n",
       "      <td>14.261541</td>\n",
       "    </tr>\n",
       "    <tr>\n",
       "      <th>2</th>\n",
       "      <td>2014-04-21</td>\n",
       "      <td>iShares Gold Trust (IAU)</td>\n",
       "      <td>IAU</td>\n",
       "      <td>50</td>\n",
       "      <td>12.51</td>\n",
       "      <td>625.50</td>\n",
       "      <td>2018-12-31</td>\n",
       "      <td>0.033</td>\n",
       "      <td>NaN</td>\n",
       "      <td>2</td>\n",
       "      <td>...</td>\n",
       "      <td>0.334154</td>\n",
       "      <td>2905.030029</td>\n",
       "      <td>0.551923</td>\n",
       "      <td>0.401714</td>\n",
       "      <td>1222.000027</td>\n",
       "      <td>970.728125</td>\n",
       "      <td>251.271902</td>\n",
       "      <td>596.500027</td>\n",
       "      <td>345.228125</td>\n",
       "      <td>24.580000</td>\n",
       "    </tr>\n",
       "    <tr>\n",
       "      <th>3</th>\n",
       "      <td>2014-04-21</td>\n",
       "      <td>iShares International Treasury Bond ETF (IGOV)</td>\n",
       "      <td>IGOV</td>\n",
       "      <td>8</td>\n",
       "      <td>50.72</td>\n",
       "      <td>405.76</td>\n",
       "      <td>2018-12-31</td>\n",
       "      <td>0.023</td>\n",
       "      <td>NaN</td>\n",
       "      <td>3</td>\n",
       "      <td>...</td>\n",
       "      <td>0.216765</td>\n",
       "      <td>2905.030029</td>\n",
       "      <td>0.551923</td>\n",
       "      <td>-0.597019</td>\n",
       "      <td>387.462097</td>\n",
       "      <td>629.708463</td>\n",
       "      <td>-242.246366</td>\n",
       "      <td>-18.297903</td>\n",
       "      <td>223.948463</td>\n",
       "      <td>48.164463</td>\n",
       "    </tr>\n",
       "    <tr>\n",
       "      <th>4</th>\n",
       "      <td>2014-04-21</td>\n",
       "      <td>Vanguard FTSE All-Wld ex-US ETF (VEU)</td>\n",
       "      <td>VEU</td>\n",
       "      <td>105</td>\n",
       "      <td>43.92</td>\n",
       "      <td>4611.60</td>\n",
       "      <td>2018-12-31</td>\n",
       "      <td>0.250</td>\n",
       "      <td>NaN</td>\n",
       "      <td>4</td>\n",
       "      <td>...</td>\n",
       "      <td>2.463606</td>\n",
       "      <td>2905.030029</td>\n",
       "      <td>0.551923</td>\n",
       "      <td>-0.469791</td>\n",
       "      <td>4990.360680</td>\n",
       "      <td>7156.850231</td>\n",
       "      <td>-2166.489551</td>\n",
       "      <td>378.760680</td>\n",
       "      <td>2545.250231</td>\n",
       "      <td>41.742603</td>\n",
       "    </tr>\n",
       "  </tbody>\n",
       "</table>\n",
       "<p>5 rows × 25 columns</p>\n",
       "</div>"
      ],
      "text/plain": [
       "  Acquisition Date                                        Position Ticker  \\\n",
       "0       2014-04-21        iShares Core US Aggregate Bond ETF (AGG)    AGG   \n",
       "1       2014-04-21             Invesco DB Commodity Tracking (DBC)    DBC   \n",
       "2       2014-04-21                        iShares Gold Trust (IAU)    IAU   \n",
       "3       2014-04-21  iShares International Treasury Bond ETF (IGOV)   IGOV   \n",
       "4       2014-04-21           Vanguard FTSE All-Wld ex-US ETF (VEU)    VEU   \n",
       "\n",
       "   Quantity  Unit Cost  Cost Basis Start of Year  Target_Alloc  Comments  \\\n",
       "0        25      95.72     2393.00    2018-12-31         0.127       NaN   \n",
       "1        22      26.21      576.62    2018-12-31         0.033       NaN   \n",
       "2        50      12.51      625.50    2018-12-31         0.033       NaN   \n",
       "3         8      50.72      405.76    2018-12-31         0.023       NaN   \n",
       "4       105      43.92     4611.60    2018-12-31         0.250       NaN   \n",
       "\n",
       "   Counts  ... Equiv SP Shares SP 500 Latest Close  SP Return  \\\n",
       "0       0  ...        1.278387         2905.030029   0.551923   \n",
       "1       1  ...        0.308042         2905.030029   0.551923   \n",
       "2       2  ...        0.334154         2905.030029   0.551923   \n",
       "3       3  ...        0.216765         2905.030029   0.551923   \n",
       "4       4  ...        2.463606         2905.030029   0.551923   \n",
       "\n",
       "   Abs. Return Compare  Ticker Share Value  SP 500 Value  Abs Value Compare  \\\n",
       "0            -0.491294         2538.085365   3713.752841       -1175.667476   \n",
       "1            -0.943208          350.997284    894.870106        -543.872822   \n",
       "2             0.401714         1222.000027    970.728125         251.271902   \n",
       "3            -0.597019          387.462097    629.708463        -242.246366   \n",
       "4            -0.469791         4990.360680   7156.850231       -2166.489551   \n",
       "\n",
       "   Stock Gain / (Loss)  SP 500 Gain / (Loss)  Ticker Start Year Close  \n",
       "0           145.085365           1320.752841                99.191551  \n",
       "1          -225.622716            318.250106                14.261541  \n",
       "2           596.500027            345.228125                24.580000  \n",
       "3           -18.297903            223.948463                48.164463  \n",
       "4           378.760680           2545.250231                41.742603  \n",
       "\n",
       "[5 rows x 25 columns]"
      ]
     },
     "execution_count": 72,
     "metadata": {},
     "output_type": "execute_result"
    }
   ],
   "source": [
    "# Deleting date again as it's an unnecessary column.  Explaining that new column is the Ticker Start of Year Close.\n",
    "\n",
    "del merged_portfolio_sp_latest_YTD['Date']\n",
    "\n",
    "merged_portfolio_sp_latest_YTD.rename(columns={'Adj Close': 'Ticker Start Year Close'}, inplace=True)\n",
    "\n",
    "merged_portfolio_sp_latest_YTD.head()"
   ]
  },
  {
   "cell_type": "code",
   "execution_count": 73,
   "metadata": {},
   "outputs": [
    {
     "data": {
      "text/html": [
       "<div>\n",
       "<style scoped>\n",
       "    .dataframe tbody tr th:only-of-type {\n",
       "        vertical-align: middle;\n",
       "    }\n",
       "\n",
       "    .dataframe tbody tr th {\n",
       "        vertical-align: top;\n",
       "    }\n",
       "\n",
       "    .dataframe thead th {\n",
       "        text-align: right;\n",
       "    }\n",
       "</style>\n",
       "<table border=\"1\" class=\"dataframe\">\n",
       "  <thead>\n",
       "    <tr style=\"text-align: right;\">\n",
       "      <th></th>\n",
       "      <th>Acquisition Date</th>\n",
       "      <th>Position</th>\n",
       "      <th>Ticker</th>\n",
       "      <th>Quantity</th>\n",
       "      <th>Unit Cost</th>\n",
       "      <th>Cost Basis</th>\n",
       "      <th>Start of Year</th>\n",
       "      <th>Target_Alloc</th>\n",
       "      <th>Comments</th>\n",
       "      <th>Counts</th>\n",
       "      <th>...</th>\n",
       "      <th>SP Return</th>\n",
       "      <th>Abs. Return Compare</th>\n",
       "      <th>Ticker Share Value</th>\n",
       "      <th>SP 500 Value</th>\n",
       "      <th>Abs Value Compare</th>\n",
       "      <th>Stock Gain / (Loss)</th>\n",
       "      <th>SP 500 Gain / (Loss)</th>\n",
       "      <th>Ticker Start Year Close</th>\n",
       "      <th>Date</th>\n",
       "      <th>Adj Close</th>\n",
       "    </tr>\n",
       "  </thead>\n",
       "  <tbody>\n",
       "    <tr>\n",
       "      <th>0</th>\n",
       "      <td>2014-04-21</td>\n",
       "      <td>iShares Core US Aggregate Bond ETF (AGG)</td>\n",
       "      <td>AGG</td>\n",
       "      <td>25</td>\n",
       "      <td>95.72</td>\n",
       "      <td>2393.00</td>\n",
       "      <td>2018-12-31</td>\n",
       "      <td>0.127</td>\n",
       "      <td>NaN</td>\n",
       "      <td>0</td>\n",
       "      <td>...</td>\n",
       "      <td>0.551923</td>\n",
       "      <td>-0.491294</td>\n",
       "      <td>2538.085365</td>\n",
       "      <td>3713.752841</td>\n",
       "      <td>-1175.667476</td>\n",
       "      <td>145.085365</td>\n",
       "      <td>1320.752841</td>\n",
       "      <td>99.191551</td>\n",
       "      <td>2018-12-31</td>\n",
       "      <td>2506.850098</td>\n",
       "    </tr>\n",
       "    <tr>\n",
       "      <th>1</th>\n",
       "      <td>2014-04-21</td>\n",
       "      <td>Invesco DB Commodity Tracking (DBC)</td>\n",
       "      <td>DBC</td>\n",
       "      <td>22</td>\n",
       "      <td>26.21</td>\n",
       "      <td>576.62</td>\n",
       "      <td>2018-12-31</td>\n",
       "      <td>0.033</td>\n",
       "      <td>NaN</td>\n",
       "      <td>1</td>\n",
       "      <td>...</td>\n",
       "      <td>0.551923</td>\n",
       "      <td>-0.943208</td>\n",
       "      <td>350.997284</td>\n",
       "      <td>894.870106</td>\n",
       "      <td>-543.872822</td>\n",
       "      <td>-225.622716</td>\n",
       "      <td>318.250106</td>\n",
       "      <td>14.261541</td>\n",
       "      <td>2018-12-31</td>\n",
       "      <td>2506.850098</td>\n",
       "    </tr>\n",
       "    <tr>\n",
       "      <th>2</th>\n",
       "      <td>2014-04-21</td>\n",
       "      <td>iShares Gold Trust (IAU)</td>\n",
       "      <td>IAU</td>\n",
       "      <td>50</td>\n",
       "      <td>12.51</td>\n",
       "      <td>625.50</td>\n",
       "      <td>2018-12-31</td>\n",
       "      <td>0.033</td>\n",
       "      <td>NaN</td>\n",
       "      <td>2</td>\n",
       "      <td>...</td>\n",
       "      <td>0.551923</td>\n",
       "      <td>0.401714</td>\n",
       "      <td>1222.000027</td>\n",
       "      <td>970.728125</td>\n",
       "      <td>251.271902</td>\n",
       "      <td>596.500027</td>\n",
       "      <td>345.228125</td>\n",
       "      <td>24.580000</td>\n",
       "      <td>2018-12-31</td>\n",
       "      <td>2506.850098</td>\n",
       "    </tr>\n",
       "    <tr>\n",
       "      <th>3</th>\n",
       "      <td>2014-04-21</td>\n",
       "      <td>iShares International Treasury Bond ETF (IGOV)</td>\n",
       "      <td>IGOV</td>\n",
       "      <td>8</td>\n",
       "      <td>50.72</td>\n",
       "      <td>405.76</td>\n",
       "      <td>2018-12-31</td>\n",
       "      <td>0.023</td>\n",
       "      <td>NaN</td>\n",
       "      <td>3</td>\n",
       "      <td>...</td>\n",
       "      <td>0.551923</td>\n",
       "      <td>-0.597019</td>\n",
       "      <td>387.462097</td>\n",
       "      <td>629.708463</td>\n",
       "      <td>-242.246366</td>\n",
       "      <td>-18.297903</td>\n",
       "      <td>223.948463</td>\n",
       "      <td>48.164463</td>\n",
       "      <td>2018-12-31</td>\n",
       "      <td>2506.850098</td>\n",
       "    </tr>\n",
       "    <tr>\n",
       "      <th>4</th>\n",
       "      <td>2014-04-21</td>\n",
       "      <td>Vanguard FTSE All-Wld ex-US ETF (VEU)</td>\n",
       "      <td>VEU</td>\n",
       "      <td>105</td>\n",
       "      <td>43.92</td>\n",
       "      <td>4611.60</td>\n",
       "      <td>2018-12-31</td>\n",
       "      <td>0.250</td>\n",
       "      <td>NaN</td>\n",
       "      <td>4</td>\n",
       "      <td>...</td>\n",
       "      <td>0.551923</td>\n",
       "      <td>-0.469791</td>\n",
       "      <td>4990.360680</td>\n",
       "      <td>7156.850231</td>\n",
       "      <td>-2166.489551</td>\n",
       "      <td>378.760680</td>\n",
       "      <td>2545.250231</td>\n",
       "      <td>41.742603</td>\n",
       "      <td>2018-12-31</td>\n",
       "      <td>2506.850098</td>\n",
       "    </tr>\n",
       "  </tbody>\n",
       "</table>\n",
       "<p>5 rows × 27 columns</p>\n",
       "</div>"
      ],
      "text/plain": [
       "  Acquisition Date                                        Position Ticker  \\\n",
       "0       2014-04-21        iShares Core US Aggregate Bond ETF (AGG)    AGG   \n",
       "1       2014-04-21             Invesco DB Commodity Tracking (DBC)    DBC   \n",
       "2       2014-04-21                        iShares Gold Trust (IAU)    IAU   \n",
       "3       2014-04-21  iShares International Treasury Bond ETF (IGOV)   IGOV   \n",
       "4       2014-04-21           Vanguard FTSE All-Wld ex-US ETF (VEU)    VEU   \n",
       "\n",
       "   Quantity  Unit Cost  Cost Basis Start of Year  Target_Alloc  Comments  \\\n",
       "0        25      95.72     2393.00    2018-12-31         0.127       NaN   \n",
       "1        22      26.21      576.62    2018-12-31         0.033       NaN   \n",
       "2        50      12.51      625.50    2018-12-31         0.033       NaN   \n",
       "3         8      50.72      405.76    2018-12-31         0.023       NaN   \n",
       "4       105      43.92     4611.60    2018-12-31         0.250       NaN   \n",
       "\n",
       "   Counts  ... SP Return Abs. Return Compare  Ticker Share Value  \\\n",
       "0       0  ...  0.551923           -0.491294         2538.085365   \n",
       "1       1  ...  0.551923           -0.943208          350.997284   \n",
       "2       2  ...  0.551923            0.401714         1222.000027   \n",
       "3       3  ...  0.551923           -0.597019          387.462097   \n",
       "4       4  ...  0.551923           -0.469791         4990.360680   \n",
       "\n",
       "   SP 500 Value  Abs Value Compare  Stock Gain / (Loss)  SP 500 Gain / (Loss)  \\\n",
       "0   3713.752841       -1175.667476           145.085365           1320.752841   \n",
       "1    894.870106        -543.872822          -225.622716            318.250106   \n",
       "2    970.728125         251.271902           596.500027            345.228125   \n",
       "3    629.708463        -242.246366           -18.297903            223.948463   \n",
       "4   7156.850231       -2166.489551           378.760680           2545.250231   \n",
       "\n",
       "   Ticker Start Year Close       Date    Adj Close  \n",
       "0                99.191551 2018-12-31  2506.850098  \n",
       "1                14.261541 2018-12-31  2506.850098  \n",
       "2                24.580000 2018-12-31  2506.850098  \n",
       "3                48.164463 2018-12-31  2506.850098  \n",
       "4                41.742603 2018-12-31  2506.850098  \n",
       "\n",
       "[5 rows x 27 columns]"
      ]
     },
     "execution_count": 73,
     "metadata": {},
     "output_type": "execute_result"
    }
   ],
   "source": [
    "# Join the SP 500 start of year with current dataframe.\n",
    "\n",
    "merged_portfolio_sp_latest_YTD_sp = pd.merge(merged_portfolio_sp_latest_YTD, sp_500_adj_close_start\n",
    "                                             , left_on='Start of Year', right_on='Date')\n",
    "\n",
    "merged_portfolio_sp_latest_YTD_sp.head()"
   ]
  },
  {
   "cell_type": "code",
   "execution_count": 74,
   "metadata": {},
   "outputs": [
    {
     "data": {
      "text/html": [
       "<div>\n",
       "<style scoped>\n",
       "    .dataframe tbody tr th:only-of-type {\n",
       "        vertical-align: middle;\n",
       "    }\n",
       "\n",
       "    .dataframe tbody tr th {\n",
       "        vertical-align: top;\n",
       "    }\n",
       "\n",
       "    .dataframe thead th {\n",
       "        text-align: right;\n",
       "    }\n",
       "</style>\n",
       "<table border=\"1\" class=\"dataframe\">\n",
       "  <thead>\n",
       "    <tr style=\"text-align: right;\">\n",
       "      <th></th>\n",
       "      <th>Acquisition Date</th>\n",
       "      <th>Position</th>\n",
       "      <th>Ticker</th>\n",
       "      <th>Quantity</th>\n",
       "      <th>Unit Cost</th>\n",
       "      <th>Cost Basis</th>\n",
       "      <th>Start of Year</th>\n",
       "      <th>Target_Alloc</th>\n",
       "      <th>Comments</th>\n",
       "      <th>Counts</th>\n",
       "      <th>...</th>\n",
       "      <th>Abs. Return Compare</th>\n",
       "      <th>Ticker Share Value</th>\n",
       "      <th>SP 500 Value</th>\n",
       "      <th>Abs Value Compare</th>\n",
       "      <th>Stock Gain / (Loss)</th>\n",
       "      <th>SP 500 Gain / (Loss)</th>\n",
       "      <th>Ticker Start Year Close</th>\n",
       "      <th>SP Start Year Close</th>\n",
       "      <th>Share YTD</th>\n",
       "      <th>SP 500 YTD</th>\n",
       "    </tr>\n",
       "  </thead>\n",
       "  <tbody>\n",
       "    <tr>\n",
       "      <th>0</th>\n",
       "      <td>2014-04-21</td>\n",
       "      <td>iShares Core US Aggregate Bond ETF (AGG)</td>\n",
       "      <td>AGG</td>\n",
       "      <td>25</td>\n",
       "      <td>95.72</td>\n",
       "      <td>2393.00</td>\n",
       "      <td>2018-12-31</td>\n",
       "      <td>0.127</td>\n",
       "      <td>NaN</td>\n",
       "      <td>0</td>\n",
       "      <td>...</td>\n",
       "      <td>-0.491294</td>\n",
       "      <td>2538.085365</td>\n",
       "      <td>3713.752841</td>\n",
       "      <td>-1175.667476</td>\n",
       "      <td>145.085365</td>\n",
       "      <td>1320.752841</td>\n",
       "      <td>99.191551</td>\n",
       "      <td>2506.850098</td>\n",
       "      <td>0.023509</td>\n",
       "      <td>0.158837</td>\n",
       "    </tr>\n",
       "    <tr>\n",
       "      <th>1</th>\n",
       "      <td>2014-04-21</td>\n",
       "      <td>Invesco DB Commodity Tracking (DBC)</td>\n",
       "      <td>DBC</td>\n",
       "      <td>22</td>\n",
       "      <td>26.21</td>\n",
       "      <td>576.62</td>\n",
       "      <td>2018-12-31</td>\n",
       "      <td>0.033</td>\n",
       "      <td>NaN</td>\n",
       "      <td>1</td>\n",
       "      <td>...</td>\n",
       "      <td>-0.943208</td>\n",
       "      <td>350.997284</td>\n",
       "      <td>894.870106</td>\n",
       "      <td>-543.872822</td>\n",
       "      <td>-225.622716</td>\n",
       "      <td>318.250106</td>\n",
       "      <td>14.261541</td>\n",
       "      <td>2506.850098</td>\n",
       "      <td>0.118703</td>\n",
       "      <td>0.158837</td>\n",
       "    </tr>\n",
       "    <tr>\n",
       "      <th>2</th>\n",
       "      <td>2014-04-21</td>\n",
       "      <td>iShares Gold Trust (IAU)</td>\n",
       "      <td>IAU</td>\n",
       "      <td>50</td>\n",
       "      <td>12.51</td>\n",
       "      <td>625.50</td>\n",
       "      <td>2018-12-31</td>\n",
       "      <td>0.033</td>\n",
       "      <td>NaN</td>\n",
       "      <td>2</td>\n",
       "      <td>...</td>\n",
       "      <td>0.401714</td>\n",
       "      <td>1222.000027</td>\n",
       "      <td>970.728125</td>\n",
       "      <td>251.271902</td>\n",
       "      <td>596.500027</td>\n",
       "      <td>345.228125</td>\n",
       "      <td>24.580000</td>\n",
       "      <td>2506.850098</td>\n",
       "      <td>-0.005696</td>\n",
       "      <td>0.158837</td>\n",
       "    </tr>\n",
       "    <tr>\n",
       "      <th>3</th>\n",
       "      <td>2014-04-21</td>\n",
       "      <td>iShares International Treasury Bond ETF (IGOV)</td>\n",
       "      <td>IGOV</td>\n",
       "      <td>8</td>\n",
       "      <td>50.72</td>\n",
       "      <td>405.76</td>\n",
       "      <td>2018-12-31</td>\n",
       "      <td>0.023</td>\n",
       "      <td>NaN</td>\n",
       "      <td>3</td>\n",
       "      <td>...</td>\n",
       "      <td>-0.597019</td>\n",
       "      <td>387.462097</td>\n",
       "      <td>629.708463</td>\n",
       "      <td>-242.246366</td>\n",
       "      <td>-18.297903</td>\n",
       "      <td>223.948463</td>\n",
       "      <td>48.164463</td>\n",
       "      <td>2506.850098</td>\n",
       "      <td>0.005570</td>\n",
       "      <td>0.158837</td>\n",
       "    </tr>\n",
       "    <tr>\n",
       "      <th>4</th>\n",
       "      <td>2014-04-21</td>\n",
       "      <td>Vanguard FTSE All-Wld ex-US ETF (VEU)</td>\n",
       "      <td>VEU</td>\n",
       "      <td>105</td>\n",
       "      <td>43.92</td>\n",
       "      <td>4611.60</td>\n",
       "      <td>2018-12-31</td>\n",
       "      <td>0.250</td>\n",
       "      <td>NaN</td>\n",
       "      <td>4</td>\n",
       "      <td>...</td>\n",
       "      <td>-0.469791</td>\n",
       "      <td>4990.360680</td>\n",
       "      <td>7156.850231</td>\n",
       "      <td>-2166.489551</td>\n",
       "      <td>378.760680</td>\n",
       "      <td>2545.250231</td>\n",
       "      <td>41.742603</td>\n",
       "      <td>2506.850098</td>\n",
       "      <td>0.138579</td>\n",
       "      <td>0.158837</td>\n",
       "    </tr>\n",
       "    <tr>\n",
       "      <th>5</th>\n",
       "      <td>2014-04-21</td>\n",
       "      <td>Vanguard Real Estate ETF (VNQ)</td>\n",
       "      <td>VNQ</td>\n",
       "      <td>11</td>\n",
       "      <td>58.28</td>\n",
       "      <td>641.08</td>\n",
       "      <td>2018-12-31</td>\n",
       "      <td>0.034</td>\n",
       "      <td>NaN</td>\n",
       "      <td>5</td>\n",
       "      <td>...</td>\n",
       "      <td>-0.229196</td>\n",
       "      <td>847.974266</td>\n",
       "      <td>994.907092</td>\n",
       "      <td>-146.932826</td>\n",
       "      <td>206.894266</td>\n",
       "      <td>353.827092</td>\n",
       "      <td>66.764374</td>\n",
       "      <td>2506.850098</td>\n",
       "      <td>0.154636</td>\n",
       "      <td>0.158837</td>\n",
       "    </tr>\n",
       "    <tr>\n",
       "      <th>6</th>\n",
       "      <td>2014-04-21</td>\n",
       "      <td>Vanguard Total Stock Market ETF (VTI)</td>\n",
       "      <td>VTI</td>\n",
       "      <td>72</td>\n",
       "      <td>88.20</td>\n",
       "      <td>6350.40</td>\n",
       "      <td>2018-12-31</td>\n",
       "      <td>0.500</td>\n",
       "      <td>NaN</td>\n",
       "      <td>6</td>\n",
       "      <td>...</td>\n",
       "      <td>0.051057</td>\n",
       "      <td>10179.564697</td>\n",
       "      <td>9855.334744</td>\n",
       "      <td>324.229953</td>\n",
       "      <td>3829.164697</td>\n",
       "      <td>3504.934744</td>\n",
       "      <td>121.047112</td>\n",
       "      <td>2506.850098</td>\n",
       "      <td>0.167998</td>\n",
       "      <td>0.158837</td>\n",
       "    </tr>\n",
       "    <tr>\n",
       "      <th>7</th>\n",
       "      <td>2014-05-05</td>\n",
       "      <td>Vanguard Total Stock Market ETF (VTI)</td>\n",
       "      <td>VTI</td>\n",
       "      <td>32</td>\n",
       "      <td>88.67</td>\n",
       "      <td>2837.44</td>\n",
       "      <td>2018-12-31</td>\n",
       "      <td>0.500</td>\n",
       "      <td>NaN</td>\n",
       "      <td>7</td>\n",
       "      <td>...</td>\n",
       "      <td>0.053075</td>\n",
       "      <td>4524.250977</td>\n",
       "      <td>4373.652678</td>\n",
       "      <td>150.598298</td>\n",
       "      <td>1686.810977</td>\n",
       "      <td>1536.212678</td>\n",
       "      <td>121.047112</td>\n",
       "      <td>2506.850098</td>\n",
       "      <td>0.167998</td>\n",
       "      <td>0.158837</td>\n",
       "    </tr>\n",
       "  </tbody>\n",
       "</table>\n",
       "<p>8 rows × 28 columns</p>\n",
       "</div>"
      ],
      "text/plain": [
       "  Acquisition Date                                        Position Ticker  \\\n",
       "0       2014-04-21        iShares Core US Aggregate Bond ETF (AGG)    AGG   \n",
       "1       2014-04-21             Invesco DB Commodity Tracking (DBC)    DBC   \n",
       "2       2014-04-21                        iShares Gold Trust (IAU)    IAU   \n",
       "3       2014-04-21  iShares International Treasury Bond ETF (IGOV)   IGOV   \n",
       "4       2014-04-21           Vanguard FTSE All-Wld ex-US ETF (VEU)    VEU   \n",
       "5       2014-04-21                  Vanguard Real Estate ETF (VNQ)    VNQ   \n",
       "6       2014-04-21           Vanguard Total Stock Market ETF (VTI)    VTI   \n",
       "7       2014-05-05           Vanguard Total Stock Market ETF (VTI)    VTI   \n",
       "\n",
       "   Quantity  Unit Cost  Cost Basis Start of Year  Target_Alloc  Comments  \\\n",
       "0        25      95.72     2393.00    2018-12-31         0.127       NaN   \n",
       "1        22      26.21      576.62    2018-12-31         0.033       NaN   \n",
       "2        50      12.51      625.50    2018-12-31         0.033       NaN   \n",
       "3         8      50.72      405.76    2018-12-31         0.023       NaN   \n",
       "4       105      43.92     4611.60    2018-12-31         0.250       NaN   \n",
       "5        11      58.28      641.08    2018-12-31         0.034       NaN   \n",
       "6        72      88.20     6350.40    2018-12-31         0.500       NaN   \n",
       "7        32      88.67     2837.44    2018-12-31         0.500       NaN   \n",
       "\n",
       "   Counts  ... Abs. Return Compare Ticker Share Value  SP 500 Value  \\\n",
       "0       0  ...           -0.491294        2538.085365   3713.752841   \n",
       "1       1  ...           -0.943208         350.997284    894.870106   \n",
       "2       2  ...            0.401714        1222.000027    970.728125   \n",
       "3       3  ...           -0.597019         387.462097    629.708463   \n",
       "4       4  ...           -0.469791        4990.360680   7156.850231   \n",
       "5       5  ...           -0.229196         847.974266    994.907092   \n",
       "6       6  ...            0.051057       10179.564697   9855.334744   \n",
       "7       7  ...            0.053075        4524.250977   4373.652678   \n",
       "\n",
       "   Abs Value Compare  Stock Gain / (Loss)  SP 500 Gain / (Loss)  \\\n",
       "0       -1175.667476           145.085365           1320.752841   \n",
       "1        -543.872822          -225.622716            318.250106   \n",
       "2         251.271902           596.500027            345.228125   \n",
       "3        -242.246366           -18.297903            223.948463   \n",
       "4       -2166.489551           378.760680           2545.250231   \n",
       "5        -146.932826           206.894266            353.827092   \n",
       "6         324.229953          3829.164697           3504.934744   \n",
       "7         150.598298          1686.810977           1536.212678   \n",
       "\n",
       "   Ticker Start Year Close  SP Start Year Close  Share YTD  SP 500 YTD  \n",
       "0                99.191551          2506.850098   0.023509    0.158837  \n",
       "1                14.261541          2506.850098   0.118703    0.158837  \n",
       "2                24.580000          2506.850098  -0.005696    0.158837  \n",
       "3                48.164463          2506.850098   0.005570    0.158837  \n",
       "4                41.742603          2506.850098   0.138579    0.158837  \n",
       "5                66.764374          2506.850098   0.154636    0.158837  \n",
       "6               121.047112          2506.850098   0.167998    0.158837  \n",
       "7               121.047112          2506.850098   0.167998    0.158837  \n",
       "\n",
       "[8 rows x 28 columns]"
      ]
     },
     "execution_count": 74,
     "metadata": {},
     "output_type": "execute_result"
    }
   ],
   "source": [
    "# Deleting another unneeded Data column.\n",
    "\n",
    "del merged_portfolio_sp_latest_YTD_sp['Date']\n",
    "\n",
    "# Renaming so that it's clear this column is SP 500 start of year close.\n",
    "merged_portfolio_sp_latest_YTD_sp.rename(columns={'Adj Close': 'SP Start Year Close'}, inplace=True)\n",
    "\n",
    "# YTD return for portfolio position.\n",
    "merged_portfolio_sp_latest_YTD_sp['Share YTD'] = merged_portfolio_sp_latest_YTD_sp['Ticker Adj Close'] / merged_portfolio_sp_latest_YTD_sp['Ticker Start Year Close'] - 1\n",
    "\n",
    "# YTD return for SP to run compares.\n",
    "merged_portfolio_sp_latest_YTD_sp['SP 500 YTD'] = merged_portfolio_sp_latest_YTD_sp['SP 500 Latest Close'] / merged_portfolio_sp_latest_YTD_sp['SP Start Year Close'] - 1\n",
    "\n",
    "merged_portfolio_sp_latest_YTD_sp"
   ]
  },
  {
   "cell_type": "code",
   "execution_count": 75,
   "metadata": {},
   "outputs": [
    {
     "data": {
      "text/html": [
       "<div>\n",
       "<style scoped>\n",
       "    .dataframe tbody tr th:only-of-type {\n",
       "        vertical-align: middle;\n",
       "    }\n",
       "\n",
       "    .dataframe tbody tr th {\n",
       "        vertical-align: top;\n",
       "    }\n",
       "\n",
       "    .dataframe thead th {\n",
       "        text-align: right;\n",
       "    }\n",
       "</style>\n",
       "<table border=\"1\" class=\"dataframe\">\n",
       "  <thead>\n",
       "    <tr style=\"text-align: right;\">\n",
       "      <th></th>\n",
       "      <th>Acquisition Date</th>\n",
       "      <th>Position</th>\n",
       "      <th>Ticker</th>\n",
       "      <th>Quantity</th>\n",
       "      <th>Unit Cost</th>\n",
       "      <th>Cost Basis</th>\n",
       "      <th>Start of Year</th>\n",
       "      <th>Target_Alloc</th>\n",
       "      <th>Comments</th>\n",
       "      <th>Counts</th>\n",
       "      <th>...</th>\n",
       "      <th>Abs. Return Compare</th>\n",
       "      <th>Ticker Share Value</th>\n",
       "      <th>SP 500 Value</th>\n",
       "      <th>Abs Value Compare</th>\n",
       "      <th>Stock Gain / (Loss)</th>\n",
       "      <th>SP 500 Gain / (Loss)</th>\n",
       "      <th>Ticker Start Year Close</th>\n",
       "      <th>SP Start Year Close</th>\n",
       "      <th>Share YTD</th>\n",
       "      <th>SP 500 YTD</th>\n",
       "    </tr>\n",
       "  </thead>\n",
       "  <tbody>\n",
       "    <tr>\n",
       "      <th>0</th>\n",
       "      <td>2014-04-21</td>\n",
       "      <td>iShares Core US Aggregate Bond ETF (AGG)</td>\n",
       "      <td>AGG</td>\n",
       "      <td>25</td>\n",
       "      <td>95.72</td>\n",
       "      <td>2393.00</td>\n",
       "      <td>2018-12-31</td>\n",
       "      <td>0.127</td>\n",
       "      <td>NaN</td>\n",
       "      <td>0</td>\n",
       "      <td>...</td>\n",
       "      <td>-0.491294</td>\n",
       "      <td>2538.085365</td>\n",
       "      <td>3713.752841</td>\n",
       "      <td>-1175.667476</td>\n",
       "      <td>145.085365</td>\n",
       "      <td>1320.752841</td>\n",
       "      <td>99.191551</td>\n",
       "      <td>2506.850098</td>\n",
       "      <td>0.023509</td>\n",
       "      <td>0.158837</td>\n",
       "    </tr>\n",
       "    <tr>\n",
       "      <th>1</th>\n",
       "      <td>2014-04-21</td>\n",
       "      <td>Invesco DB Commodity Tracking (DBC)</td>\n",
       "      <td>DBC</td>\n",
       "      <td>22</td>\n",
       "      <td>26.21</td>\n",
       "      <td>576.62</td>\n",
       "      <td>2018-12-31</td>\n",
       "      <td>0.033</td>\n",
       "      <td>NaN</td>\n",
       "      <td>1</td>\n",
       "      <td>...</td>\n",
       "      <td>-0.943208</td>\n",
       "      <td>350.997284</td>\n",
       "      <td>894.870106</td>\n",
       "      <td>-543.872822</td>\n",
       "      <td>-225.622716</td>\n",
       "      <td>318.250106</td>\n",
       "      <td>14.261541</td>\n",
       "      <td>2506.850098</td>\n",
       "      <td>0.118703</td>\n",
       "      <td>0.158837</td>\n",
       "    </tr>\n",
       "    <tr>\n",
       "      <th>2</th>\n",
       "      <td>2014-04-21</td>\n",
       "      <td>iShares Gold Trust (IAU)</td>\n",
       "      <td>IAU</td>\n",
       "      <td>50</td>\n",
       "      <td>12.51</td>\n",
       "      <td>625.50</td>\n",
       "      <td>2018-12-31</td>\n",
       "      <td>0.033</td>\n",
       "      <td>NaN</td>\n",
       "      <td>2</td>\n",
       "      <td>...</td>\n",
       "      <td>0.401714</td>\n",
       "      <td>1222.000027</td>\n",
       "      <td>970.728125</td>\n",
       "      <td>251.271902</td>\n",
       "      <td>596.500027</td>\n",
       "      <td>345.228125</td>\n",
       "      <td>24.580000</td>\n",
       "      <td>2506.850098</td>\n",
       "      <td>-0.005696</td>\n",
       "      <td>0.158837</td>\n",
       "    </tr>\n",
       "    <tr>\n",
       "      <th>3</th>\n",
       "      <td>2014-04-21</td>\n",
       "      <td>iShares International Treasury Bond ETF (IGOV)</td>\n",
       "      <td>IGOV</td>\n",
       "      <td>8</td>\n",
       "      <td>50.72</td>\n",
       "      <td>405.76</td>\n",
       "      <td>2018-12-31</td>\n",
       "      <td>0.023</td>\n",
       "      <td>NaN</td>\n",
       "      <td>3</td>\n",
       "      <td>...</td>\n",
       "      <td>-0.597019</td>\n",
       "      <td>387.462097</td>\n",
       "      <td>629.708463</td>\n",
       "      <td>-242.246366</td>\n",
       "      <td>-18.297903</td>\n",
       "      <td>223.948463</td>\n",
       "      <td>48.164463</td>\n",
       "      <td>2506.850098</td>\n",
       "      <td>0.005570</td>\n",
       "      <td>0.158837</td>\n",
       "    </tr>\n",
       "    <tr>\n",
       "      <th>4</th>\n",
       "      <td>2014-04-21</td>\n",
       "      <td>Vanguard FTSE All-Wld ex-US ETF (VEU)</td>\n",
       "      <td>VEU</td>\n",
       "      <td>105</td>\n",
       "      <td>43.92</td>\n",
       "      <td>4611.60</td>\n",
       "      <td>2018-12-31</td>\n",
       "      <td>0.250</td>\n",
       "      <td>NaN</td>\n",
       "      <td>4</td>\n",
       "      <td>...</td>\n",
       "      <td>-0.469791</td>\n",
       "      <td>4990.360680</td>\n",
       "      <td>7156.850231</td>\n",
       "      <td>-2166.489551</td>\n",
       "      <td>378.760680</td>\n",
       "      <td>2545.250231</td>\n",
       "      <td>41.742603</td>\n",
       "      <td>2506.850098</td>\n",
       "      <td>0.138579</td>\n",
       "      <td>0.158837</td>\n",
       "    </tr>\n",
       "    <tr>\n",
       "      <th>5</th>\n",
       "      <td>2014-04-21</td>\n",
       "      <td>Vanguard Real Estate ETF (VNQ)</td>\n",
       "      <td>VNQ</td>\n",
       "      <td>11</td>\n",
       "      <td>58.28</td>\n",
       "      <td>641.08</td>\n",
       "      <td>2018-12-31</td>\n",
       "      <td>0.034</td>\n",
       "      <td>NaN</td>\n",
       "      <td>5</td>\n",
       "      <td>...</td>\n",
       "      <td>-0.229196</td>\n",
       "      <td>847.974266</td>\n",
       "      <td>994.907092</td>\n",
       "      <td>-146.932826</td>\n",
       "      <td>206.894266</td>\n",
       "      <td>353.827092</td>\n",
       "      <td>66.764374</td>\n",
       "      <td>2506.850098</td>\n",
       "      <td>0.154636</td>\n",
       "      <td>0.158837</td>\n",
       "    </tr>\n",
       "    <tr>\n",
       "      <th>6</th>\n",
       "      <td>2014-04-21</td>\n",
       "      <td>Vanguard Total Stock Market ETF (VTI)</td>\n",
       "      <td>VTI</td>\n",
       "      <td>72</td>\n",
       "      <td>88.20</td>\n",
       "      <td>6350.40</td>\n",
       "      <td>2018-12-31</td>\n",
       "      <td>0.500</td>\n",
       "      <td>NaN</td>\n",
       "      <td>6</td>\n",
       "      <td>...</td>\n",
       "      <td>0.051057</td>\n",
       "      <td>10179.564697</td>\n",
       "      <td>9855.334744</td>\n",
       "      <td>324.229953</td>\n",
       "      <td>3829.164697</td>\n",
       "      <td>3504.934744</td>\n",
       "      <td>121.047112</td>\n",
       "      <td>2506.850098</td>\n",
       "      <td>0.167998</td>\n",
       "      <td>0.158837</td>\n",
       "    </tr>\n",
       "    <tr>\n",
       "      <th>7</th>\n",
       "      <td>2014-05-05</td>\n",
       "      <td>Vanguard Total Stock Market ETF (VTI)</td>\n",
       "      <td>VTI</td>\n",
       "      <td>32</td>\n",
       "      <td>88.67</td>\n",
       "      <td>2837.44</td>\n",
       "      <td>2018-12-31</td>\n",
       "      <td>0.500</td>\n",
       "      <td>NaN</td>\n",
       "      <td>7</td>\n",
       "      <td>...</td>\n",
       "      <td>0.053075</td>\n",
       "      <td>4524.250977</td>\n",
       "      <td>4373.652678</td>\n",
       "      <td>150.598298</td>\n",
       "      <td>1686.810977</td>\n",
       "      <td>1536.212678</td>\n",
       "      <td>121.047112</td>\n",
       "      <td>2506.850098</td>\n",
       "      <td>0.167998</td>\n",
       "      <td>0.158837</td>\n",
       "    </tr>\n",
       "  </tbody>\n",
       "</table>\n",
       "<p>8 rows × 28 columns</p>\n",
       "</div>"
      ],
      "text/plain": [
       "  Acquisition Date                                        Position Ticker  \\\n",
       "0       2014-04-21        iShares Core US Aggregate Bond ETF (AGG)    AGG   \n",
       "1       2014-04-21             Invesco DB Commodity Tracking (DBC)    DBC   \n",
       "2       2014-04-21                        iShares Gold Trust (IAU)    IAU   \n",
       "3       2014-04-21  iShares International Treasury Bond ETF (IGOV)   IGOV   \n",
       "4       2014-04-21           Vanguard FTSE All-Wld ex-US ETF (VEU)    VEU   \n",
       "5       2014-04-21                  Vanguard Real Estate ETF (VNQ)    VNQ   \n",
       "6       2014-04-21           Vanguard Total Stock Market ETF (VTI)    VTI   \n",
       "7       2014-05-05           Vanguard Total Stock Market ETF (VTI)    VTI   \n",
       "\n",
       "   Quantity  Unit Cost  Cost Basis Start of Year  Target_Alloc  Comments  \\\n",
       "0        25      95.72     2393.00    2018-12-31         0.127       NaN   \n",
       "1        22      26.21      576.62    2018-12-31         0.033       NaN   \n",
       "2        50      12.51      625.50    2018-12-31         0.033       NaN   \n",
       "3         8      50.72      405.76    2018-12-31         0.023       NaN   \n",
       "4       105      43.92     4611.60    2018-12-31         0.250       NaN   \n",
       "5        11      58.28      641.08    2018-12-31         0.034       NaN   \n",
       "6        72      88.20     6350.40    2018-12-31         0.500       NaN   \n",
       "7        32      88.67     2837.44    2018-12-31         0.500       NaN   \n",
       "\n",
       "   Counts  ... Abs. Return Compare Ticker Share Value  SP 500 Value  \\\n",
       "0       0  ...           -0.491294        2538.085365   3713.752841   \n",
       "1       1  ...           -0.943208         350.997284    894.870106   \n",
       "2       2  ...            0.401714        1222.000027    970.728125   \n",
       "3       3  ...           -0.597019         387.462097    629.708463   \n",
       "4       4  ...           -0.469791        4990.360680   7156.850231   \n",
       "5       5  ...           -0.229196         847.974266    994.907092   \n",
       "6       6  ...            0.051057       10179.564697   9855.334744   \n",
       "7       7  ...            0.053075        4524.250977   4373.652678   \n",
       "\n",
       "   Abs Value Compare  Stock Gain / (Loss)  SP 500 Gain / (Loss)  \\\n",
       "0       -1175.667476           145.085365           1320.752841   \n",
       "1        -543.872822          -225.622716            318.250106   \n",
       "2         251.271902           596.500027            345.228125   \n",
       "3        -242.246366           -18.297903            223.948463   \n",
       "4       -2166.489551           378.760680           2545.250231   \n",
       "5        -146.932826           206.894266            353.827092   \n",
       "6         324.229953          3829.164697           3504.934744   \n",
       "7         150.598298          1686.810977           1536.212678   \n",
       "\n",
       "   Ticker Start Year Close  SP Start Year Close  Share YTD  SP 500 YTD  \n",
       "0                99.191551          2506.850098   0.023509    0.158837  \n",
       "1                14.261541          2506.850098   0.118703    0.158837  \n",
       "2                24.580000          2506.850098  -0.005696    0.158837  \n",
       "3                48.164463          2506.850098   0.005570    0.158837  \n",
       "4                41.742603          2506.850098   0.138579    0.158837  \n",
       "5                66.764374          2506.850098   0.154636    0.158837  \n",
       "6               121.047112          2506.850098   0.167998    0.158837  \n",
       "7               121.047112          2506.850098   0.167998    0.158837  \n",
       "\n",
       "[8 rows x 28 columns]"
      ]
     },
     "execution_count": 75,
     "metadata": {},
     "output_type": "execute_result"
    }
   ],
   "source": [
    "merged_portfolio_sp_latest_YTD_sp = merged_portfolio_sp_latest_YTD_sp.sort_values(by=['Ticker', 'Acquisition Date']\n",
    "                                                                                  , ascending=[True, True])\n",
    "merged_portfolio_sp_latest_YTD_sp"
   ]
  },
  {
   "cell_type": "code",
   "execution_count": 76,
   "metadata": {},
   "outputs": [
    {
     "data": {
      "text/html": [
       "<div>\n",
       "<style scoped>\n",
       "    .dataframe tbody tr th:only-of-type {\n",
       "        vertical-align: middle;\n",
       "    }\n",
       "\n",
       "    .dataframe tbody tr th {\n",
       "        vertical-align: top;\n",
       "    }\n",
       "\n",
       "    .dataframe thead th {\n",
       "        text-align: right;\n",
       "    }\n",
       "</style>\n",
       "<table border=\"1\" class=\"dataframe\">\n",
       "  <thead>\n",
       "    <tr style=\"text-align: right;\">\n",
       "      <th></th>\n",
       "      <th>Acquisition Date</th>\n",
       "      <th>Position</th>\n",
       "      <th>Ticker</th>\n",
       "      <th>Quantity</th>\n",
       "      <th>Unit Cost</th>\n",
       "      <th>Cost Basis</th>\n",
       "      <th>Start of Year</th>\n",
       "      <th>Target_Alloc</th>\n",
       "      <th>Comments</th>\n",
       "      <th>Counts</th>\n",
       "      <th>...</th>\n",
       "      <th>Ticker Start Year Close</th>\n",
       "      <th>SP Start Year Close</th>\n",
       "      <th>Share YTD</th>\n",
       "      <th>SP 500 YTD</th>\n",
       "      <th>Cum Invst</th>\n",
       "      <th>Cum Ticker Returns</th>\n",
       "      <th>Cum SP Returns</th>\n",
       "      <th>Cum Ticker ROI Mult</th>\n",
       "      <th>Cum Ticker ROI Pct</th>\n",
       "      <th>Cum SP ROI Pct</th>\n",
       "    </tr>\n",
       "  </thead>\n",
       "  <tbody>\n",
       "    <tr>\n",
       "      <th>0</th>\n",
       "      <td>2014-04-21</td>\n",
       "      <td>iShares Core US Aggregate Bond ETF (AGG)</td>\n",
       "      <td>AGG</td>\n",
       "      <td>25</td>\n",
       "      <td>95.72</td>\n",
       "      <td>2393.00</td>\n",
       "      <td>2018-12-31</td>\n",
       "      <td>0.127</td>\n",
       "      <td>NaN</td>\n",
       "      <td>0</td>\n",
       "      <td>...</td>\n",
       "      <td>99.191551</td>\n",
       "      <td>2506.850098</td>\n",
       "      <td>0.023509</td>\n",
       "      <td>0.158837</td>\n",
       "      <td>2393.00</td>\n",
       "      <td>2538.085365</td>\n",
       "      <td>3713.752841</td>\n",
       "      <td>1.060629</td>\n",
       "      <td>0.060629</td>\n",
       "      <td>0.551923</td>\n",
       "    </tr>\n",
       "    <tr>\n",
       "      <th>1</th>\n",
       "      <td>2014-04-21</td>\n",
       "      <td>Invesco DB Commodity Tracking (DBC)</td>\n",
       "      <td>DBC</td>\n",
       "      <td>22</td>\n",
       "      <td>26.21</td>\n",
       "      <td>576.62</td>\n",
       "      <td>2018-12-31</td>\n",
       "      <td>0.033</td>\n",
       "      <td>NaN</td>\n",
       "      <td>1</td>\n",
       "      <td>...</td>\n",
       "      <td>14.261541</td>\n",
       "      <td>2506.850098</td>\n",
       "      <td>0.118703</td>\n",
       "      <td>0.158837</td>\n",
       "      <td>2969.62</td>\n",
       "      <td>2889.082649</td>\n",
       "      <td>4608.622947</td>\n",
       "      <td>0.972880</td>\n",
       "      <td>-0.027120</td>\n",
       "      <td>0.551923</td>\n",
       "    </tr>\n",
       "    <tr>\n",
       "      <th>2</th>\n",
       "      <td>2014-04-21</td>\n",
       "      <td>iShares Gold Trust (IAU)</td>\n",
       "      <td>IAU</td>\n",
       "      <td>50</td>\n",
       "      <td>12.51</td>\n",
       "      <td>625.50</td>\n",
       "      <td>2018-12-31</td>\n",
       "      <td>0.033</td>\n",
       "      <td>NaN</td>\n",
       "      <td>2</td>\n",
       "      <td>...</td>\n",
       "      <td>24.580000</td>\n",
       "      <td>2506.850098</td>\n",
       "      <td>-0.005696</td>\n",
       "      <td>0.158837</td>\n",
       "      <td>3595.12</td>\n",
       "      <td>4111.082676</td>\n",
       "      <td>5579.351071</td>\n",
       "      <td>1.143518</td>\n",
       "      <td>0.143518</td>\n",
       "      <td>0.551923</td>\n",
       "    </tr>\n",
       "    <tr>\n",
       "      <th>3</th>\n",
       "      <td>2014-04-21</td>\n",
       "      <td>iShares International Treasury Bond ETF (IGOV)</td>\n",
       "      <td>IGOV</td>\n",
       "      <td>8</td>\n",
       "      <td>50.72</td>\n",
       "      <td>405.76</td>\n",
       "      <td>2018-12-31</td>\n",
       "      <td>0.023</td>\n",
       "      <td>NaN</td>\n",
       "      <td>3</td>\n",
       "      <td>...</td>\n",
       "      <td>48.164463</td>\n",
       "      <td>2506.850098</td>\n",
       "      <td>0.005570</td>\n",
       "      <td>0.158837</td>\n",
       "      <td>4000.88</td>\n",
       "      <td>4498.544773</td>\n",
       "      <td>6209.059535</td>\n",
       "      <td>1.124389</td>\n",
       "      <td>0.124389</td>\n",
       "      <td>0.551923</td>\n",
       "    </tr>\n",
       "    <tr>\n",
       "      <th>4</th>\n",
       "      <td>2014-04-21</td>\n",
       "      <td>Vanguard FTSE All-Wld ex-US ETF (VEU)</td>\n",
       "      <td>VEU</td>\n",
       "      <td>105</td>\n",
       "      <td>43.92</td>\n",
       "      <td>4611.60</td>\n",
       "      <td>2018-12-31</td>\n",
       "      <td>0.250</td>\n",
       "      <td>NaN</td>\n",
       "      <td>4</td>\n",
       "      <td>...</td>\n",
       "      <td>41.742603</td>\n",
       "      <td>2506.850098</td>\n",
       "      <td>0.138579</td>\n",
       "      <td>0.158837</td>\n",
       "      <td>8612.48</td>\n",
       "      <td>9488.905453</td>\n",
       "      <td>13365.909765</td>\n",
       "      <td>1.101762</td>\n",
       "      <td>0.101762</td>\n",
       "      <td>0.551923</td>\n",
       "    </tr>\n",
       "    <tr>\n",
       "      <th>5</th>\n",
       "      <td>2014-04-21</td>\n",
       "      <td>Vanguard Real Estate ETF (VNQ)</td>\n",
       "      <td>VNQ</td>\n",
       "      <td>11</td>\n",
       "      <td>58.28</td>\n",
       "      <td>641.08</td>\n",
       "      <td>2018-12-31</td>\n",
       "      <td>0.034</td>\n",
       "      <td>NaN</td>\n",
       "      <td>5</td>\n",
       "      <td>...</td>\n",
       "      <td>66.764374</td>\n",
       "      <td>2506.850098</td>\n",
       "      <td>0.154636</td>\n",
       "      <td>0.158837</td>\n",
       "      <td>9253.56</td>\n",
       "      <td>10336.879719</td>\n",
       "      <td>14360.816858</td>\n",
       "      <td>1.117071</td>\n",
       "      <td>0.117071</td>\n",
       "      <td>0.551923</td>\n",
       "    </tr>\n",
       "    <tr>\n",
       "      <th>6</th>\n",
       "      <td>2014-04-21</td>\n",
       "      <td>Vanguard Total Stock Market ETF (VTI)</td>\n",
       "      <td>VTI</td>\n",
       "      <td>72</td>\n",
       "      <td>88.20</td>\n",
       "      <td>6350.40</td>\n",
       "      <td>2018-12-31</td>\n",
       "      <td>0.500</td>\n",
       "      <td>NaN</td>\n",
       "      <td>6</td>\n",
       "      <td>...</td>\n",
       "      <td>121.047112</td>\n",
       "      <td>2506.850098</td>\n",
       "      <td>0.167998</td>\n",
       "      <td>0.158837</td>\n",
       "      <td>15603.96</td>\n",
       "      <td>20516.444416</td>\n",
       "      <td>24216.151601</td>\n",
       "      <td>1.314823</td>\n",
       "      <td>0.314823</td>\n",
       "      <td>0.551923</td>\n",
       "    </tr>\n",
       "    <tr>\n",
       "      <th>7</th>\n",
       "      <td>2014-05-05</td>\n",
       "      <td>Vanguard Total Stock Market ETF (VTI)</td>\n",
       "      <td>VTI</td>\n",
       "      <td>32</td>\n",
       "      <td>88.67</td>\n",
       "      <td>2837.44</td>\n",
       "      <td>2018-12-31</td>\n",
       "      <td>0.500</td>\n",
       "      <td>NaN</td>\n",
       "      <td>7</td>\n",
       "      <td>...</td>\n",
       "      <td>121.047112</td>\n",
       "      <td>2506.850098</td>\n",
       "      <td>0.167998</td>\n",
       "      <td>0.158837</td>\n",
       "      <td>18441.40</td>\n",
       "      <td>25040.695393</td>\n",
       "      <td>28589.804280</td>\n",
       "      <td>1.357852</td>\n",
       "      <td>0.357852</td>\n",
       "      <td>0.550306</td>\n",
       "    </tr>\n",
       "  </tbody>\n",
       "</table>\n",
       "<p>8 rows × 34 columns</p>\n",
       "</div>"
      ],
      "text/plain": [
       "  Acquisition Date                                        Position Ticker  \\\n",
       "0       2014-04-21        iShares Core US Aggregate Bond ETF (AGG)    AGG   \n",
       "1       2014-04-21             Invesco DB Commodity Tracking (DBC)    DBC   \n",
       "2       2014-04-21                        iShares Gold Trust (IAU)    IAU   \n",
       "3       2014-04-21  iShares International Treasury Bond ETF (IGOV)   IGOV   \n",
       "4       2014-04-21           Vanguard FTSE All-Wld ex-US ETF (VEU)    VEU   \n",
       "5       2014-04-21                  Vanguard Real Estate ETF (VNQ)    VNQ   \n",
       "6       2014-04-21           Vanguard Total Stock Market ETF (VTI)    VTI   \n",
       "7       2014-05-05           Vanguard Total Stock Market ETF (VTI)    VTI   \n",
       "\n",
       "   Quantity  Unit Cost  Cost Basis Start of Year  Target_Alloc  Comments  \\\n",
       "0        25      95.72     2393.00    2018-12-31         0.127       NaN   \n",
       "1        22      26.21      576.62    2018-12-31         0.033       NaN   \n",
       "2        50      12.51      625.50    2018-12-31         0.033       NaN   \n",
       "3         8      50.72      405.76    2018-12-31         0.023       NaN   \n",
       "4       105      43.92     4611.60    2018-12-31         0.250       NaN   \n",
       "5        11      58.28      641.08    2018-12-31         0.034       NaN   \n",
       "6        72      88.20     6350.40    2018-12-31         0.500       NaN   \n",
       "7        32      88.67     2837.44    2018-12-31         0.500       NaN   \n",
       "\n",
       "   Counts  ... Ticker Start Year Close SP Start Year Close  Share YTD  \\\n",
       "0       0  ...               99.191551         2506.850098   0.023509   \n",
       "1       1  ...               14.261541         2506.850098   0.118703   \n",
       "2       2  ...               24.580000         2506.850098  -0.005696   \n",
       "3       3  ...               48.164463         2506.850098   0.005570   \n",
       "4       4  ...               41.742603         2506.850098   0.138579   \n",
       "5       5  ...               66.764374         2506.850098   0.154636   \n",
       "6       6  ...              121.047112         2506.850098   0.167998   \n",
       "7       7  ...              121.047112         2506.850098   0.167998   \n",
       "\n",
       "   SP 500 YTD  Cum Invst  Cum Ticker Returns  Cum SP Returns  \\\n",
       "0    0.158837    2393.00         2538.085365     3713.752841   \n",
       "1    0.158837    2969.62         2889.082649     4608.622947   \n",
       "2    0.158837    3595.12         4111.082676     5579.351071   \n",
       "3    0.158837    4000.88         4498.544773     6209.059535   \n",
       "4    0.158837    8612.48         9488.905453    13365.909765   \n",
       "5    0.158837    9253.56        10336.879719    14360.816858   \n",
       "6    0.158837   15603.96        20516.444416    24216.151601   \n",
       "7    0.158837   18441.40        25040.695393    28589.804280   \n",
       "\n",
       "   Cum Ticker ROI Mult  Cum Ticker ROI Pct  Cum SP ROI Pct  \n",
       "0             1.060629            0.060629        0.551923  \n",
       "1             0.972880           -0.027120        0.551923  \n",
       "2             1.143518            0.143518        0.551923  \n",
       "3             1.124389            0.124389        0.551923  \n",
       "4             1.101762            0.101762        0.551923  \n",
       "5             1.117071            0.117071        0.551923  \n",
       "6             1.314823            0.314823        0.551923  \n",
       "7             1.357852            0.357852        0.550306  \n",
       "\n",
       "[8 rows x 34 columns]"
      ]
     },
     "execution_count": 76,
     "metadata": {},
     "output_type": "execute_result"
    }
   ],
   "source": [
    "# Cumulative sum of original investment\n",
    "merged_portfolio_sp_latest_YTD_sp['Cum Invst'] = merged_portfolio_sp_latest_YTD_sp['Cost Basis'].cumsum()\n",
    "\n",
    "# Cumulative sum of Ticker Share Value (latest FMV based on initial quantity purchased).\n",
    "merged_portfolio_sp_latest_YTD_sp['Cum Ticker Returns'] = merged_portfolio_sp_latest_YTD_sp['Ticker Share Value'].cumsum()\n",
    "\n",
    "# Cumulative sum of SP Share Value (latest FMV driven off of initial SP equiv purchase).\n",
    "merged_portfolio_sp_latest_YTD_sp['Cum SP Returns'] = merged_portfolio_sp_latest_YTD_sp['SP 500 Value'].cumsum()\n",
    "\n",
    "# Cumulative CoC multiple return for stock investments\n",
    "merged_portfolio_sp_latest_YTD_sp['Cum Ticker ROI Mult'] = merged_portfolio_sp_latest_YTD_sp['Cum Ticker Returns'] / merged_portfolio_sp_latest_YTD_sp['Cum Invst']\n",
    "\n",
    "# Cumulative Pct return for stock investments\n",
    "merged_portfolio_sp_latest_YTD_sp['Cum Ticker ROI Pct'] = merged_portfolio_sp_latest_YTD_sp['Cum Ticker Returns'] / merged_portfolio_sp_latest_YTD_sp['Cum Invst'] - 1\n",
    "\n",
    "# Cumulative Pct return for SP500\n",
    "merged_portfolio_sp_latest_YTD_sp['Cum SP ROI Pct'] = merged_portfolio_sp_latest_YTD_sp['Cum SP Returns'] / merged_portfolio_sp_latest_YTD_sp['Cum Invst'] - 1\n",
    "\n",
    "merged_portfolio_sp_latest_YTD_sp"
   ]
  },
  {
   "cell_type": "code",
   "execution_count": 77,
   "metadata": {},
   "outputs": [
    {
     "data": {
      "text/html": [
       "<div>\n",
       "<style scoped>\n",
       "    .dataframe tbody tr th:only-of-type {\n",
       "        vertical-align: middle;\n",
       "    }\n",
       "\n",
       "    .dataframe tbody tr th {\n",
       "        vertical-align: top;\n",
       "    }\n",
       "\n",
       "    .dataframe thead th {\n",
       "        text-align: right;\n",
       "    }\n",
       "</style>\n",
       "<table border=\"1\" class=\"dataframe\">\n",
       "  <thead>\n",
       "    <tr style=\"text-align: right;\">\n",
       "      <th></th>\n",
       "      <th>Acquisition Date</th>\n",
       "      <th>Position</th>\n",
       "      <th>Ticker</th>\n",
       "      <th>Quantity</th>\n",
       "      <th>Unit Cost</th>\n",
       "      <th>Cost Basis</th>\n",
       "      <th>Start of Year</th>\n",
       "      <th>Target_Alloc</th>\n",
       "      <th>Comments</th>\n",
       "      <th>Counts</th>\n",
       "      <th>...</th>\n",
       "      <th>Ticker Start Year Close</th>\n",
       "      <th>SP Start Year Close</th>\n",
       "      <th>Share YTD</th>\n",
       "      <th>SP 500 YTD</th>\n",
       "      <th>Cum Invst</th>\n",
       "      <th>Cum Ticker Returns</th>\n",
       "      <th>Cum SP Returns</th>\n",
       "      <th>Cum Ticker ROI Mult</th>\n",
       "      <th>Cum Ticker ROI Pct</th>\n",
       "      <th>Cum SP ROI Pct</th>\n",
       "    </tr>\n",
       "  </thead>\n",
       "  <tbody>\n",
       "    <tr>\n",
       "      <th>0</th>\n",
       "      <td>2014-04-21</td>\n",
       "      <td>iShares Core US Aggregate Bond ETF (AGG)</td>\n",
       "      <td>AGG</td>\n",
       "      <td>25</td>\n",
       "      <td>95.72</td>\n",
       "      <td>2393.00</td>\n",
       "      <td>2018-12-31</td>\n",
       "      <td>0.127</td>\n",
       "      <td>NaN</td>\n",
       "      <td>0</td>\n",
       "      <td>...</td>\n",
       "      <td>99.191551</td>\n",
       "      <td>2506.850098</td>\n",
       "      <td>0.023509</td>\n",
       "      <td>0.158837</td>\n",
       "      <td>2393.00</td>\n",
       "      <td>2538.085365</td>\n",
       "      <td>3713.752841</td>\n",
       "      <td>1.060629</td>\n",
       "      <td>0.060629</td>\n",
       "      <td>0.551923</td>\n",
       "    </tr>\n",
       "    <tr>\n",
       "      <th>1</th>\n",
       "      <td>2014-04-21</td>\n",
       "      <td>Invesco DB Commodity Tracking (DBC)</td>\n",
       "      <td>DBC</td>\n",
       "      <td>22</td>\n",
       "      <td>26.21</td>\n",
       "      <td>576.62</td>\n",
       "      <td>2018-12-31</td>\n",
       "      <td>0.033</td>\n",
       "      <td>NaN</td>\n",
       "      <td>1</td>\n",
       "      <td>...</td>\n",
       "      <td>14.261541</td>\n",
       "      <td>2506.850098</td>\n",
       "      <td>0.118703</td>\n",
       "      <td>0.158837</td>\n",
       "      <td>2969.62</td>\n",
       "      <td>2889.082649</td>\n",
       "      <td>4608.622947</td>\n",
       "      <td>0.972880</td>\n",
       "      <td>-0.027120</td>\n",
       "      <td>0.551923</td>\n",
       "    </tr>\n",
       "    <tr>\n",
       "      <th>2</th>\n",
       "      <td>2014-04-21</td>\n",
       "      <td>iShares Gold Trust (IAU)</td>\n",
       "      <td>IAU</td>\n",
       "      <td>50</td>\n",
       "      <td>12.51</td>\n",
       "      <td>625.50</td>\n",
       "      <td>2018-12-31</td>\n",
       "      <td>0.033</td>\n",
       "      <td>NaN</td>\n",
       "      <td>2</td>\n",
       "      <td>...</td>\n",
       "      <td>24.580000</td>\n",
       "      <td>2506.850098</td>\n",
       "      <td>-0.005696</td>\n",
       "      <td>0.158837</td>\n",
       "      <td>3595.12</td>\n",
       "      <td>4111.082676</td>\n",
       "      <td>5579.351071</td>\n",
       "      <td>1.143518</td>\n",
       "      <td>0.143518</td>\n",
       "      <td>0.551923</td>\n",
       "    </tr>\n",
       "    <tr>\n",
       "      <th>3</th>\n",
       "      <td>2014-04-21</td>\n",
       "      <td>iShares International Treasury Bond ETF (IGOV)</td>\n",
       "      <td>IGOV</td>\n",
       "      <td>8</td>\n",
       "      <td>50.72</td>\n",
       "      <td>405.76</td>\n",
       "      <td>2018-12-31</td>\n",
       "      <td>0.023</td>\n",
       "      <td>NaN</td>\n",
       "      <td>3</td>\n",
       "      <td>...</td>\n",
       "      <td>48.164463</td>\n",
       "      <td>2506.850098</td>\n",
       "      <td>0.005570</td>\n",
       "      <td>0.158837</td>\n",
       "      <td>4000.88</td>\n",
       "      <td>4498.544773</td>\n",
       "      <td>6209.059535</td>\n",
       "      <td>1.124389</td>\n",
       "      <td>0.124389</td>\n",
       "      <td>0.551923</td>\n",
       "    </tr>\n",
       "    <tr>\n",
       "      <th>4</th>\n",
       "      <td>2014-04-21</td>\n",
       "      <td>Vanguard FTSE All-Wld ex-US ETF (VEU)</td>\n",
       "      <td>VEU</td>\n",
       "      <td>105</td>\n",
       "      <td>43.92</td>\n",
       "      <td>4611.60</td>\n",
       "      <td>2018-12-31</td>\n",
       "      <td>0.250</td>\n",
       "      <td>NaN</td>\n",
       "      <td>4</td>\n",
       "      <td>...</td>\n",
       "      <td>41.742603</td>\n",
       "      <td>2506.850098</td>\n",
       "      <td>0.138579</td>\n",
       "      <td>0.158837</td>\n",
       "      <td>8612.48</td>\n",
       "      <td>9488.905453</td>\n",
       "      <td>13365.909765</td>\n",
       "      <td>1.101762</td>\n",
       "      <td>0.101762</td>\n",
       "      <td>0.551923</td>\n",
       "    </tr>\n",
       "    <tr>\n",
       "      <th>5</th>\n",
       "      <td>2014-04-21</td>\n",
       "      <td>Vanguard Real Estate ETF (VNQ)</td>\n",
       "      <td>VNQ</td>\n",
       "      <td>11</td>\n",
       "      <td>58.28</td>\n",
       "      <td>641.08</td>\n",
       "      <td>2018-12-31</td>\n",
       "      <td>0.034</td>\n",
       "      <td>NaN</td>\n",
       "      <td>5</td>\n",
       "      <td>...</td>\n",
       "      <td>66.764374</td>\n",
       "      <td>2506.850098</td>\n",
       "      <td>0.154636</td>\n",
       "      <td>0.158837</td>\n",
       "      <td>9253.56</td>\n",
       "      <td>10336.879719</td>\n",
       "      <td>14360.816858</td>\n",
       "      <td>1.117071</td>\n",
       "      <td>0.117071</td>\n",
       "      <td>0.551923</td>\n",
       "    </tr>\n",
       "    <tr>\n",
       "      <th>6</th>\n",
       "      <td>2014-04-21</td>\n",
       "      <td>Vanguard Total Stock Market ETF (VTI)</td>\n",
       "      <td>VTI</td>\n",
       "      <td>72</td>\n",
       "      <td>88.20</td>\n",
       "      <td>6350.40</td>\n",
       "      <td>2018-12-31</td>\n",
       "      <td>0.500</td>\n",
       "      <td>NaN</td>\n",
       "      <td>6</td>\n",
       "      <td>...</td>\n",
       "      <td>121.047112</td>\n",
       "      <td>2506.850098</td>\n",
       "      <td>0.167998</td>\n",
       "      <td>0.158837</td>\n",
       "      <td>15603.96</td>\n",
       "      <td>20516.444416</td>\n",
       "      <td>24216.151601</td>\n",
       "      <td>1.314823</td>\n",
       "      <td>0.314823</td>\n",
       "      <td>0.551923</td>\n",
       "    </tr>\n",
       "    <tr>\n",
       "      <th>7</th>\n",
       "      <td>2014-05-05</td>\n",
       "      <td>Vanguard Total Stock Market ETF (VTI)</td>\n",
       "      <td>VTI</td>\n",
       "      <td>32</td>\n",
       "      <td>88.67</td>\n",
       "      <td>2837.44</td>\n",
       "      <td>2018-12-31</td>\n",
       "      <td>0.500</td>\n",
       "      <td>NaN</td>\n",
       "      <td>7</td>\n",
       "      <td>...</td>\n",
       "      <td>121.047112</td>\n",
       "      <td>2506.850098</td>\n",
       "      <td>0.167998</td>\n",
       "      <td>0.158837</td>\n",
       "      <td>18441.40</td>\n",
       "      <td>25040.695393</td>\n",
       "      <td>28589.804280</td>\n",
       "      <td>1.357852</td>\n",
       "      <td>0.357852</td>\n",
       "      <td>0.550306</td>\n",
       "    </tr>\n",
       "  </tbody>\n",
       "</table>\n",
       "<p>8 rows × 34 columns</p>\n",
       "</div>"
      ],
      "text/plain": [
       "  Acquisition Date                                        Position Ticker  \\\n",
       "0       2014-04-21        iShares Core US Aggregate Bond ETF (AGG)    AGG   \n",
       "1       2014-04-21             Invesco DB Commodity Tracking (DBC)    DBC   \n",
       "2       2014-04-21                        iShares Gold Trust (IAU)    IAU   \n",
       "3       2014-04-21  iShares International Treasury Bond ETF (IGOV)   IGOV   \n",
       "4       2014-04-21           Vanguard FTSE All-Wld ex-US ETF (VEU)    VEU   \n",
       "5       2014-04-21                  Vanguard Real Estate ETF (VNQ)    VNQ   \n",
       "6       2014-04-21           Vanguard Total Stock Market ETF (VTI)    VTI   \n",
       "7       2014-05-05           Vanguard Total Stock Market ETF (VTI)    VTI   \n",
       "\n",
       "   Quantity  Unit Cost  Cost Basis Start of Year  Target_Alloc  Comments  \\\n",
       "0        25      95.72     2393.00    2018-12-31         0.127       NaN   \n",
       "1        22      26.21      576.62    2018-12-31         0.033       NaN   \n",
       "2        50      12.51      625.50    2018-12-31         0.033       NaN   \n",
       "3         8      50.72      405.76    2018-12-31         0.023       NaN   \n",
       "4       105      43.92     4611.60    2018-12-31         0.250       NaN   \n",
       "5        11      58.28      641.08    2018-12-31         0.034       NaN   \n",
       "6        72      88.20     6350.40    2018-12-31         0.500       NaN   \n",
       "7        32      88.67     2837.44    2018-12-31         0.500       NaN   \n",
       "\n",
       "   Counts  ... Ticker Start Year Close SP Start Year Close  Share YTD  \\\n",
       "0       0  ...               99.191551         2506.850098   0.023509   \n",
       "1       1  ...               14.261541         2506.850098   0.118703   \n",
       "2       2  ...               24.580000         2506.850098  -0.005696   \n",
       "3       3  ...               48.164463         2506.850098   0.005570   \n",
       "4       4  ...               41.742603         2506.850098   0.138579   \n",
       "5       5  ...               66.764374         2506.850098   0.154636   \n",
       "6       6  ...              121.047112         2506.850098   0.167998   \n",
       "7       7  ...              121.047112         2506.850098   0.167998   \n",
       "\n",
       "   SP 500 YTD  Cum Invst  Cum Ticker Returns  Cum SP Returns  \\\n",
       "0    0.158837    2393.00         2538.085365     3713.752841   \n",
       "1    0.158837    2969.62         2889.082649     4608.622947   \n",
       "2    0.158837    3595.12         4111.082676     5579.351071   \n",
       "3    0.158837    4000.88         4498.544773     6209.059535   \n",
       "4    0.158837    8612.48         9488.905453    13365.909765   \n",
       "5    0.158837    9253.56        10336.879719    14360.816858   \n",
       "6    0.158837   15603.96        20516.444416    24216.151601   \n",
       "7    0.158837   18441.40        25040.695393    28589.804280   \n",
       "\n",
       "   Cum Ticker ROI Mult  Cum Ticker ROI Pct  Cum SP ROI Pct  \n",
       "0             1.060629            0.060629        0.551923  \n",
       "1             0.972880           -0.027120        0.551923  \n",
       "2             1.143518            0.143518        0.551923  \n",
       "3             1.124389            0.124389        0.551923  \n",
       "4             1.101762            0.101762        0.551923  \n",
       "5             1.117071            0.117071        0.551923  \n",
       "6             1.314823            0.314823        0.551923  \n",
       "7             1.357852            0.357852        0.550306  \n",
       "\n",
       "[8 rows x 34 columns]"
      ]
     },
     "execution_count": 77,
     "metadata": {},
     "output_type": "execute_result"
    }
   ],
   "source": [
    "# Only include positions where currently invested, if applicable, for subset of visualizations.\n",
    "\n",
    "merged_portfolio_sp_latest_YTD_sp_chart = merged_portfolio_sp_latest_YTD_sp[merged_portfolio_sp_latest_YTD_sp['Unit Cost']>0]\n",
    "\n",
    "merged_portfolio_sp_latest_YTD_sp_chart"
   ]
  },
  {
   "cell_type": "code",
   "execution_count": 78,
   "metadata": {},
   "outputs": [
    {
     "data": {
      "text/html": [
       "<div>\n",
       "<style scoped>\n",
       "    .dataframe tbody tr th:only-of-type {\n",
       "        vertical-align: middle;\n",
       "    }\n",
       "\n",
       "    .dataframe tbody tr th {\n",
       "        vertical-align: top;\n",
       "    }\n",
       "\n",
       "    .dataframe thead th {\n",
       "        text-align: right;\n",
       "    }\n",
       "</style>\n",
       "<table border=\"1\" class=\"dataframe\">\n",
       "  <thead>\n",
       "    <tr style=\"text-align: right;\">\n",
       "      <th></th>\n",
       "      <th>Acquisition Date</th>\n",
       "      <th>Position</th>\n",
       "      <th>Ticker</th>\n",
       "      <th>Quantity</th>\n",
       "      <th>Unit Cost</th>\n",
       "      <th>Cost Basis</th>\n",
       "      <th>Start of Year</th>\n",
       "      <th>Target_Alloc</th>\n",
       "      <th>Comments</th>\n",
       "      <th>Counts</th>\n",
       "      <th>...</th>\n",
       "      <th>Ticker Start Year Close</th>\n",
       "      <th>SP Start Year Close</th>\n",
       "      <th>Share YTD</th>\n",
       "      <th>SP 500 YTD</th>\n",
       "      <th>Cum Invst</th>\n",
       "      <th>Cum Ticker Returns</th>\n",
       "      <th>Cum SP Returns</th>\n",
       "      <th>Cum Ticker ROI Mult</th>\n",
       "      <th>Cum Ticker ROI Pct</th>\n",
       "      <th>Cum SP ROI Pct</th>\n",
       "    </tr>\n",
       "  </thead>\n",
       "  <tbody>\n",
       "    <tr>\n",
       "      <th>0</th>\n",
       "      <td>2014-04-21</td>\n",
       "      <td>iShares Core US Aggregate Bond ETF (AGG)</td>\n",
       "      <td>AGG</td>\n",
       "      <td>25</td>\n",
       "      <td>95.72</td>\n",
       "      <td>2393.00</td>\n",
       "      <td>2018-12-31</td>\n",
       "      <td>0.127</td>\n",
       "      <td>NaN</td>\n",
       "      <td>0</td>\n",
       "      <td>...</td>\n",
       "      <td>99.191551</td>\n",
       "      <td>2506.850098</td>\n",
       "      <td>0.023509</td>\n",
       "      <td>0.158837</td>\n",
       "      <td>2393.00</td>\n",
       "      <td>2538.085365</td>\n",
       "      <td>3713.752841</td>\n",
       "      <td>1.060629</td>\n",
       "      <td>0.060629</td>\n",
       "      <td>0.551923</td>\n",
       "    </tr>\n",
       "    <tr>\n",
       "      <th>1</th>\n",
       "      <td>2014-04-21</td>\n",
       "      <td>Invesco DB Commodity Tracking (DBC)</td>\n",
       "      <td>DBC</td>\n",
       "      <td>22</td>\n",
       "      <td>26.21</td>\n",
       "      <td>576.62</td>\n",
       "      <td>2018-12-31</td>\n",
       "      <td>0.033</td>\n",
       "      <td>NaN</td>\n",
       "      <td>1</td>\n",
       "      <td>...</td>\n",
       "      <td>14.261541</td>\n",
       "      <td>2506.850098</td>\n",
       "      <td>0.118703</td>\n",
       "      <td>0.158837</td>\n",
       "      <td>2969.62</td>\n",
       "      <td>2889.082649</td>\n",
       "      <td>4608.622947</td>\n",
       "      <td>0.972880</td>\n",
       "      <td>-0.027120</td>\n",
       "      <td>0.551923</td>\n",
       "    </tr>\n",
       "    <tr>\n",
       "      <th>2</th>\n",
       "      <td>2014-04-21</td>\n",
       "      <td>iShares Gold Trust (IAU)</td>\n",
       "      <td>IAU</td>\n",
       "      <td>50</td>\n",
       "      <td>12.51</td>\n",
       "      <td>625.50</td>\n",
       "      <td>2018-12-31</td>\n",
       "      <td>0.033</td>\n",
       "      <td>NaN</td>\n",
       "      <td>2</td>\n",
       "      <td>...</td>\n",
       "      <td>24.580000</td>\n",
       "      <td>2506.850098</td>\n",
       "      <td>-0.005696</td>\n",
       "      <td>0.158837</td>\n",
       "      <td>3595.12</td>\n",
       "      <td>4111.082676</td>\n",
       "      <td>5579.351071</td>\n",
       "      <td>1.143518</td>\n",
       "      <td>0.143518</td>\n",
       "      <td>0.551923</td>\n",
       "    </tr>\n",
       "    <tr>\n",
       "      <th>3</th>\n",
       "      <td>2014-04-21</td>\n",
       "      <td>iShares International Treasury Bond ETF (IGOV)</td>\n",
       "      <td>IGOV</td>\n",
       "      <td>8</td>\n",
       "      <td>50.72</td>\n",
       "      <td>405.76</td>\n",
       "      <td>2018-12-31</td>\n",
       "      <td>0.023</td>\n",
       "      <td>NaN</td>\n",
       "      <td>3</td>\n",
       "      <td>...</td>\n",
       "      <td>48.164463</td>\n",
       "      <td>2506.850098</td>\n",
       "      <td>0.005570</td>\n",
       "      <td>0.158837</td>\n",
       "      <td>4000.88</td>\n",
       "      <td>4498.544773</td>\n",
       "      <td>6209.059535</td>\n",
       "      <td>1.124389</td>\n",
       "      <td>0.124389</td>\n",
       "      <td>0.551923</td>\n",
       "    </tr>\n",
       "    <tr>\n",
       "      <th>4</th>\n",
       "      <td>2014-04-21</td>\n",
       "      <td>Vanguard FTSE All-Wld ex-US ETF (VEU)</td>\n",
       "      <td>VEU</td>\n",
       "      <td>105</td>\n",
       "      <td>43.92</td>\n",
       "      <td>4611.60</td>\n",
       "      <td>2018-12-31</td>\n",
       "      <td>0.250</td>\n",
       "      <td>NaN</td>\n",
       "      <td>4</td>\n",
       "      <td>...</td>\n",
       "      <td>41.742603</td>\n",
       "      <td>2506.850098</td>\n",
       "      <td>0.138579</td>\n",
       "      <td>0.158837</td>\n",
       "      <td>8612.48</td>\n",
       "      <td>9488.905453</td>\n",
       "      <td>13365.909765</td>\n",
       "      <td>1.101762</td>\n",
       "      <td>0.101762</td>\n",
       "      <td>0.551923</td>\n",
       "    </tr>\n",
       "    <tr>\n",
       "      <th>5</th>\n",
       "      <td>2014-04-21</td>\n",
       "      <td>Vanguard Real Estate ETF (VNQ)</td>\n",
       "      <td>VNQ</td>\n",
       "      <td>11</td>\n",
       "      <td>58.28</td>\n",
       "      <td>641.08</td>\n",
       "      <td>2018-12-31</td>\n",
       "      <td>0.034</td>\n",
       "      <td>NaN</td>\n",
       "      <td>5</td>\n",
       "      <td>...</td>\n",
       "      <td>66.764374</td>\n",
       "      <td>2506.850098</td>\n",
       "      <td>0.154636</td>\n",
       "      <td>0.158837</td>\n",
       "      <td>9253.56</td>\n",
       "      <td>10336.879719</td>\n",
       "      <td>14360.816858</td>\n",
       "      <td>1.117071</td>\n",
       "      <td>0.117071</td>\n",
       "      <td>0.551923</td>\n",
       "    </tr>\n",
       "    <tr>\n",
       "      <th>6</th>\n",
       "      <td>2014-04-21</td>\n",
       "      <td>Vanguard Total Stock Market ETF (VTI)</td>\n",
       "      <td>VTI</td>\n",
       "      <td>72</td>\n",
       "      <td>88.20</td>\n",
       "      <td>6350.40</td>\n",
       "      <td>2018-12-31</td>\n",
       "      <td>0.500</td>\n",
       "      <td>NaN</td>\n",
       "      <td>6</td>\n",
       "      <td>...</td>\n",
       "      <td>121.047112</td>\n",
       "      <td>2506.850098</td>\n",
       "      <td>0.167998</td>\n",
       "      <td>0.158837</td>\n",
       "      <td>15603.96</td>\n",
       "      <td>20516.444416</td>\n",
       "      <td>24216.151601</td>\n",
       "      <td>1.314823</td>\n",
       "      <td>0.314823</td>\n",
       "      <td>0.551923</td>\n",
       "    </tr>\n",
       "    <tr>\n",
       "      <th>7</th>\n",
       "      <td>2014-05-05</td>\n",
       "      <td>Vanguard Total Stock Market ETF (VTI)</td>\n",
       "      <td>VTI</td>\n",
       "      <td>32</td>\n",
       "      <td>88.67</td>\n",
       "      <td>2837.44</td>\n",
       "      <td>2018-12-31</td>\n",
       "      <td>0.500</td>\n",
       "      <td>NaN</td>\n",
       "      <td>7</td>\n",
       "      <td>...</td>\n",
       "      <td>121.047112</td>\n",
       "      <td>2506.850098</td>\n",
       "      <td>0.167998</td>\n",
       "      <td>0.158837</td>\n",
       "      <td>18441.40</td>\n",
       "      <td>25040.695393</td>\n",
       "      <td>28589.804280</td>\n",
       "      <td>1.357852</td>\n",
       "      <td>0.357852</td>\n",
       "      <td>0.550306</td>\n",
       "    </tr>\n",
       "  </tbody>\n",
       "</table>\n",
       "<p>8 rows × 34 columns</p>\n",
       "</div>"
      ],
      "text/plain": [
       "  Acquisition Date                                        Position Ticker  \\\n",
       "0       2014-04-21        iShares Core US Aggregate Bond ETF (AGG)    AGG   \n",
       "1       2014-04-21             Invesco DB Commodity Tracking (DBC)    DBC   \n",
       "2       2014-04-21                        iShares Gold Trust (IAU)    IAU   \n",
       "3       2014-04-21  iShares International Treasury Bond ETF (IGOV)   IGOV   \n",
       "4       2014-04-21           Vanguard FTSE All-Wld ex-US ETF (VEU)    VEU   \n",
       "5       2014-04-21                  Vanguard Real Estate ETF (VNQ)    VNQ   \n",
       "6       2014-04-21           Vanguard Total Stock Market ETF (VTI)    VTI   \n",
       "7       2014-05-05           Vanguard Total Stock Market ETF (VTI)    VTI   \n",
       "\n",
       "   Quantity  Unit Cost  Cost Basis Start of Year  Target_Alloc  Comments  \\\n",
       "0        25      95.72     2393.00    2018-12-31         0.127       NaN   \n",
       "1        22      26.21      576.62    2018-12-31         0.033       NaN   \n",
       "2        50      12.51      625.50    2018-12-31         0.033       NaN   \n",
       "3         8      50.72      405.76    2018-12-31         0.023       NaN   \n",
       "4       105      43.92     4611.60    2018-12-31         0.250       NaN   \n",
       "5        11      58.28      641.08    2018-12-31         0.034       NaN   \n",
       "6        72      88.20     6350.40    2018-12-31         0.500       NaN   \n",
       "7        32      88.67     2837.44    2018-12-31         0.500       NaN   \n",
       "\n",
       "   Counts  ... Ticker Start Year Close SP Start Year Close  Share YTD  \\\n",
       "0       0  ...               99.191551         2506.850098   0.023509   \n",
       "1       1  ...               14.261541         2506.850098   0.118703   \n",
       "2       2  ...               24.580000         2506.850098  -0.005696   \n",
       "3       3  ...               48.164463         2506.850098   0.005570   \n",
       "4       4  ...               41.742603         2506.850098   0.138579   \n",
       "5       5  ...               66.764374         2506.850098   0.154636   \n",
       "6       6  ...              121.047112         2506.850098   0.167998   \n",
       "7       7  ...              121.047112         2506.850098   0.167998   \n",
       "\n",
       "   SP 500 YTD  Cum Invst  Cum Ticker Returns  Cum SP Returns  \\\n",
       "0    0.158837    2393.00         2538.085365     3713.752841   \n",
       "1    0.158837    2969.62         2889.082649     4608.622947   \n",
       "2    0.158837    3595.12         4111.082676     5579.351071   \n",
       "3    0.158837    4000.88         4498.544773     6209.059535   \n",
       "4    0.158837    8612.48         9488.905453    13365.909765   \n",
       "5    0.158837    9253.56        10336.879719    14360.816858   \n",
       "6    0.158837   15603.96        20516.444416    24216.151601   \n",
       "7    0.158837   18441.40        25040.695393    28589.804280   \n",
       "\n",
       "   Cum Ticker ROI Mult  Cum Ticker ROI Pct  Cum SP ROI Pct  \n",
       "0             1.060629            0.060629        0.551923  \n",
       "1             0.972880           -0.027120        0.551923  \n",
       "2             1.143518            0.143518        0.551923  \n",
       "3             1.124389            0.124389        0.551923  \n",
       "4             1.101762            0.101762        0.551923  \n",
       "5             1.117071            0.117071        0.551923  \n",
       "6             1.314823            0.314823        0.551923  \n",
       "7             1.357852            0.357852        0.550306  \n",
       "\n",
       "[8 rows x 34 columns]"
      ]
     },
     "execution_count": 78,
     "metadata": {},
     "output_type": "execute_result"
    }
   ],
   "source": [
    "# This dataframe will only look at the positions with an intended contribution, if applicable.\n",
    "\n",
    "merged_portfolio_sp_latest_YTD_sp_contr = merged_portfolio_sp_latest_YTD_sp[merged_portfolio_sp_latest_YTD_sp['Target_Alloc']>0]\n",
    "\n",
    "merged_portfolio_sp_latest_YTD_sp_contr"
   ]
  },
  {
   "cell_type": "code",
   "execution_count": 79,
   "metadata": {},
   "outputs": [
    {
     "data": {
      "text/html": [
       "<div>\n",
       "<style scoped>\n",
       "    .dataframe tbody tr th:only-of-type {\n",
       "        vertical-align: middle;\n",
       "    }\n",
       "\n",
       "    .dataframe tbody tr th {\n",
       "        vertical-align: top;\n",
       "    }\n",
       "\n",
       "    .dataframe thead th {\n",
       "        text-align: right;\n",
       "    }\n",
       "</style>\n",
       "<table border=\"1\" class=\"dataframe\">\n",
       "  <thead>\n",
       "    <tr style=\"text-align: right;\">\n",
       "      <th></th>\n",
       "      <th>Ticker</th>\n",
       "      <th>Target_Alloc</th>\n",
       "      <th>Cost Basis</th>\n",
       "      <th>Ticker Share Value</th>\n",
       "    </tr>\n",
       "  </thead>\n",
       "  <tbody>\n",
       "    <tr>\n",
       "      <th>0</th>\n",
       "      <td>AGG</td>\n",
       "      <td>0.127</td>\n",
       "      <td>2393.00</td>\n",
       "      <td>2538.085365</td>\n",
       "    </tr>\n",
       "    <tr>\n",
       "      <th>1</th>\n",
       "      <td>DBC</td>\n",
       "      <td>0.033</td>\n",
       "      <td>576.62</td>\n",
       "      <td>350.997284</td>\n",
       "    </tr>\n",
       "    <tr>\n",
       "      <th>2</th>\n",
       "      <td>IAU</td>\n",
       "      <td>0.033</td>\n",
       "      <td>625.50</td>\n",
       "      <td>1222.000027</td>\n",
       "    </tr>\n",
       "    <tr>\n",
       "      <th>3</th>\n",
       "      <td>IGOV</td>\n",
       "      <td>0.023</td>\n",
       "      <td>405.76</td>\n",
       "      <td>387.462097</td>\n",
       "    </tr>\n",
       "    <tr>\n",
       "      <th>4</th>\n",
       "      <td>VEU</td>\n",
       "      <td>0.250</td>\n",
       "      <td>4611.60</td>\n",
       "      <td>4990.360680</td>\n",
       "    </tr>\n",
       "    <tr>\n",
       "      <th>5</th>\n",
       "      <td>VNQ</td>\n",
       "      <td>0.034</td>\n",
       "      <td>641.08</td>\n",
       "      <td>847.974266</td>\n",
       "    </tr>\n",
       "    <tr>\n",
       "      <th>6</th>\n",
       "      <td>VTI</td>\n",
       "      <td>0.500</td>\n",
       "      <td>6350.40</td>\n",
       "      <td>10179.564697</td>\n",
       "    </tr>\n",
       "    <tr>\n",
       "      <th>7</th>\n",
       "      <td>VTI</td>\n",
       "      <td>0.500</td>\n",
       "      <td>2837.44</td>\n",
       "      <td>4524.250977</td>\n",
       "    </tr>\n",
       "  </tbody>\n",
       "</table>\n",
       "</div>"
      ],
      "text/plain": [
       "  Ticker  Target_Alloc  Cost Basis  Ticker Share Value\n",
       "0    AGG         0.127     2393.00         2538.085365\n",
       "1    DBC         0.033      576.62          350.997284\n",
       "2    IAU         0.033      625.50         1222.000027\n",
       "3   IGOV         0.023      405.76          387.462097\n",
       "4    VEU         0.250     4611.60         4990.360680\n",
       "5    VNQ         0.034      641.08          847.974266\n",
       "6    VTI         0.500     6350.40        10179.564697\n",
       "7    VTI         0.500     2837.44         4524.250977"
      ]
     },
     "execution_count": 79,
     "metadata": {},
     "output_type": "execute_result"
    }
   ],
   "source": [
    "# Shorten dataframe to focus on columns that will be used to look at intended versus current allocations.\n",
    "\n",
    "merged_portfolio_sp_latest_YTD_sp_contr_subset = merged_portfolio_sp_latest_YTD_sp_contr[['Ticker', 'Target_Alloc', 'Cost Basis', 'Ticker Share Value']]\n",
    "\n",
    "merged_portfolio_sp_latest_YTD_sp_contr_subset"
   ]
  },
  {
   "cell_type": "code",
   "execution_count": 80,
   "metadata": {},
   "outputs": [
    {
     "data": {
      "text/html": [
       "<div>\n",
       "<style scoped>\n",
       "    .dataframe tbody tr th:only-of-type {\n",
       "        vertical-align: middle;\n",
       "    }\n",
       "\n",
       "    .dataframe tbody tr th {\n",
       "        vertical-align: top;\n",
       "    }\n",
       "\n",
       "    .dataframe thead th {\n",
       "        text-align: right;\n",
       "    }\n",
       "</style>\n",
       "<table border=\"1\" class=\"dataframe\">\n",
       "  <thead>\n",
       "    <tr style=\"text-align: right;\">\n",
       "      <th></th>\n",
       "      <th>Ticker</th>\n",
       "      <th>Target_Alloc</th>\n",
       "      <th>Ticker Share Value</th>\n",
       "    </tr>\n",
       "  </thead>\n",
       "  <tbody>\n",
       "    <tr>\n",
       "      <th>0</th>\n",
       "      <td>AGG</td>\n",
       "      <td>0.127</td>\n",
       "      <td>2538.085365</td>\n",
       "    </tr>\n",
       "    <tr>\n",
       "      <th>1</th>\n",
       "      <td>DBC</td>\n",
       "      <td>0.033</td>\n",
       "      <td>350.997284</td>\n",
       "    </tr>\n",
       "    <tr>\n",
       "      <th>2</th>\n",
       "      <td>IAU</td>\n",
       "      <td>0.033</td>\n",
       "      <td>1222.000027</td>\n",
       "    </tr>\n",
       "    <tr>\n",
       "      <th>3</th>\n",
       "      <td>IGOV</td>\n",
       "      <td>0.023</td>\n",
       "      <td>387.462097</td>\n",
       "    </tr>\n",
       "    <tr>\n",
       "      <th>4</th>\n",
       "      <td>VEU</td>\n",
       "      <td>0.250</td>\n",
       "      <td>4990.360680</td>\n",
       "    </tr>\n",
       "    <tr>\n",
       "      <th>5</th>\n",
       "      <td>VNQ</td>\n",
       "      <td>0.034</td>\n",
       "      <td>847.974266</td>\n",
       "    </tr>\n",
       "    <tr>\n",
       "      <th>6</th>\n",
       "      <td>VTI</td>\n",
       "      <td>0.500</td>\n",
       "      <td>14703.815674</td>\n",
       "    </tr>\n",
       "  </tbody>\n",
       "</table>\n",
       "</div>"
      ],
      "text/plain": [
       "  Ticker  Target_Alloc  Ticker Share Value\n",
       "0    AGG         0.127         2538.085365\n",
       "1    DBC         0.033          350.997284\n",
       "2    IAU         0.033         1222.000027\n",
       "3   IGOV         0.023          387.462097\n",
       "4    VEU         0.250         4990.360680\n",
       "5    VNQ         0.034          847.974266\n",
       "6    VTI         0.500        14703.815674"
      ]
     },
     "execution_count": 80,
     "metadata": {},
     "output_type": "execute_result"
    }
   ],
   "source": [
    "# If you've bought multiple positions at different times, this pivot table will aggregate the sums for each position.\n",
    "\n",
    "merged_portfolio_sp_latest_YTD_sp_contr_subset_pivot = merged_portfolio_sp_latest_YTD_sp_contr_subset.pivot_table(\n",
    "    index=['Ticker', 'Target_Alloc'], values='Ticker Share Value', aggfunc='sum')\n",
    "\n",
    "merged_portfolio_sp_latest_YTD_sp_contr_subset_pivot.reset_index(inplace=True)\n",
    "\n",
    "merged_portfolio_sp_latest_YTD_sp_contr_subset_pivot"
   ]
  },
  {
   "cell_type": "code",
   "execution_count": 81,
   "metadata": {},
   "outputs": [
    {
     "data": {
      "text/plain": [
       "Index(['Ticker', 'Target_Alloc', 'Ticker Share Value'], dtype='object')"
      ]
     },
     "execution_count": 81,
     "metadata": {},
     "output_type": "execute_result"
    }
   ],
   "source": [
    "merged_portfolio_sp_latest_YTD_sp_contr_subset_pivot.columns"
   ]
  },
  {
   "cell_type": "code",
   "execution_count": 82,
   "metadata": {},
   "outputs": [
    {
     "data": {
      "text/html": [
       "<div>\n",
       "<style scoped>\n",
       "    .dataframe tbody tr th:only-of-type {\n",
       "        vertical-align: middle;\n",
       "    }\n",
       "\n",
       "    .dataframe tbody tr th {\n",
       "        vertical-align: top;\n",
       "    }\n",
       "\n",
       "    .dataframe thead th {\n",
       "        text-align: right;\n",
       "    }\n",
       "</style>\n",
       "<table border=\"1\" class=\"dataframe\">\n",
       "  <thead>\n",
       "    <tr style=\"text-align: right;\">\n",
       "      <th></th>\n",
       "      <th>Ticker</th>\n",
       "      <th>Target_Alloc</th>\n",
       "      <th>Ticker Share Value</th>\n",
       "      <th>Total</th>\n",
       "      <th>Allocation</th>\n",
       "    </tr>\n",
       "  </thead>\n",
       "  <tbody>\n",
       "    <tr>\n",
       "      <th>0</th>\n",
       "      <td>AGG</td>\n",
       "      <td>0.127</td>\n",
       "      <td>2538.085365</td>\n",
       "      <td>2538.085365</td>\n",
       "      <td>0.101358</td>\n",
       "    </tr>\n",
       "    <tr>\n",
       "      <th>1</th>\n",
       "      <td>DBC</td>\n",
       "      <td>0.033</td>\n",
       "      <td>350.997284</td>\n",
       "      <td>2889.082649</td>\n",
       "      <td>0.014017</td>\n",
       "    </tr>\n",
       "    <tr>\n",
       "      <th>2</th>\n",
       "      <td>IAU</td>\n",
       "      <td>0.033</td>\n",
       "      <td>1222.000027</td>\n",
       "      <td>4111.082676</td>\n",
       "      <td>0.048801</td>\n",
       "    </tr>\n",
       "    <tr>\n",
       "      <th>3</th>\n",
       "      <td>IGOV</td>\n",
       "      <td>0.023</td>\n",
       "      <td>387.462097</td>\n",
       "      <td>4498.544773</td>\n",
       "      <td>0.015473</td>\n",
       "    </tr>\n",
       "    <tr>\n",
       "      <th>4</th>\n",
       "      <td>VEU</td>\n",
       "      <td>0.250</td>\n",
       "      <td>4990.360680</td>\n",
       "      <td>9488.905453</td>\n",
       "      <td>0.199290</td>\n",
       "    </tr>\n",
       "    <tr>\n",
       "      <th>5</th>\n",
       "      <td>VNQ</td>\n",
       "      <td>0.034</td>\n",
       "      <td>847.974266</td>\n",
       "      <td>10336.879719</td>\n",
       "      <td>0.033864</td>\n",
       "    </tr>\n",
       "    <tr>\n",
       "      <th>6</th>\n",
       "      <td>VTI</td>\n",
       "      <td>0.500</td>\n",
       "      <td>14703.815674</td>\n",
       "      <td>25040.695393</td>\n",
       "      <td>0.587197</td>\n",
       "    </tr>\n",
       "  </tbody>\n",
       "</table>\n",
       "</div>"
      ],
      "text/plain": [
       "  Ticker  Target_Alloc  Ticker Share Value         Total  Allocation\n",
       "0    AGG         0.127         2538.085365   2538.085365    0.101358\n",
       "1    DBC         0.033          350.997284   2889.082649    0.014017\n",
       "2    IAU         0.033         1222.000027   4111.082676    0.048801\n",
       "3   IGOV         0.023          387.462097   4498.544773    0.015473\n",
       "4    VEU         0.250         4990.360680   9488.905453    0.199290\n",
       "5    VNQ         0.034          847.974266  10336.879719    0.033864\n",
       "6    VTI         0.500        14703.815674  25040.695393    0.587197"
      ]
     },
     "execution_count": 82,
     "metadata": {},
     "output_type": "execute_result"
    }
   ],
   "source": [
    "# These new columns calculate the actual allocation to compare to the target allocation.\n",
    "\n",
    "merged_portfolio_sp_latest_YTD_sp_contr_subset_pivot['Total'] = merged_portfolio_sp_latest_YTD_sp_contr_subset_pivot.loc[:, 'Ticker Share Value'].cumsum()\n",
    "\n",
    "merged_portfolio_sp_latest_YTD_sp_contr_subset_pivot['Allocation'] = merged_portfolio_sp_latest_YTD_sp_contr_subset_pivot['Ticker Share Value'] / merged_portfolio_sp_latest_YTD_sp_contr_subset_pivot.iloc[-1, -1]\n",
    "\n",
    "merged_portfolio_sp_latest_YTD_sp_contr_subset_pivot"
   ]
  },
  {
   "cell_type": "code",
   "execution_count": 83,
   "metadata": {},
   "outputs": [
    {
     "data": {
      "text/html": [
       "<div>\n",
       "<style scoped>\n",
       "    .dataframe tbody tr th:only-of-type {\n",
       "        vertical-align: middle;\n",
       "    }\n",
       "\n",
       "    .dataframe tbody tr th {\n",
       "        vertical-align: top;\n",
       "    }\n",
       "\n",
       "    .dataframe thead th {\n",
       "        text-align: right;\n",
       "    }\n",
       "</style>\n",
       "<table border=\"1\" class=\"dataframe\">\n",
       "  <thead>\n",
       "    <tr style=\"text-align: right;\">\n",
       "      <th></th>\n",
       "      <th>Ticker</th>\n",
       "      <th>Target_Alloc</th>\n",
       "      <th>Ticker Share Value</th>\n",
       "      <th>Total</th>\n",
       "      <th>Allocation</th>\n",
       "    </tr>\n",
       "  </thead>\n",
       "  <tbody>\n",
       "    <tr>\n",
       "      <th>6</th>\n",
       "      <td>VTI</td>\n",
       "      <td>0.500</td>\n",
       "      <td>14703.815674</td>\n",
       "      <td>25040.695393</td>\n",
       "      <td>0.587197</td>\n",
       "    </tr>\n",
       "    <tr>\n",
       "      <th>4</th>\n",
       "      <td>VEU</td>\n",
       "      <td>0.250</td>\n",
       "      <td>4990.360680</td>\n",
       "      <td>9488.905453</td>\n",
       "      <td>0.199290</td>\n",
       "    </tr>\n",
       "    <tr>\n",
       "      <th>0</th>\n",
       "      <td>AGG</td>\n",
       "      <td>0.127</td>\n",
       "      <td>2538.085365</td>\n",
       "      <td>2538.085365</td>\n",
       "      <td>0.101358</td>\n",
       "    </tr>\n",
       "    <tr>\n",
       "      <th>5</th>\n",
       "      <td>VNQ</td>\n",
       "      <td>0.034</td>\n",
       "      <td>847.974266</td>\n",
       "      <td>10336.879719</td>\n",
       "      <td>0.033864</td>\n",
       "    </tr>\n",
       "    <tr>\n",
       "      <th>1</th>\n",
       "      <td>DBC</td>\n",
       "      <td>0.033</td>\n",
       "      <td>350.997284</td>\n",
       "      <td>2889.082649</td>\n",
       "      <td>0.014017</td>\n",
       "    </tr>\n",
       "    <tr>\n",
       "      <th>2</th>\n",
       "      <td>IAU</td>\n",
       "      <td>0.033</td>\n",
       "      <td>1222.000027</td>\n",
       "      <td>4111.082676</td>\n",
       "      <td>0.048801</td>\n",
       "    </tr>\n",
       "    <tr>\n",
       "      <th>3</th>\n",
       "      <td>IGOV</td>\n",
       "      <td>0.023</td>\n",
       "      <td>387.462097</td>\n",
       "      <td>4498.544773</td>\n",
       "      <td>0.015473</td>\n",
       "    </tr>\n",
       "  </tbody>\n",
       "</table>\n",
       "</div>"
      ],
      "text/plain": [
       "  Ticker  Target_Alloc  Ticker Share Value         Total  Allocation\n",
       "6    VTI         0.500        14703.815674  25040.695393    0.587197\n",
       "4    VEU         0.250         4990.360680   9488.905453    0.199290\n",
       "0    AGG         0.127         2538.085365   2538.085365    0.101358\n",
       "5    VNQ         0.034          847.974266  10336.879719    0.033864\n",
       "1    DBC         0.033          350.997284   2889.082649    0.014017\n",
       "2    IAU         0.033         1222.000027   4111.082676    0.048801\n",
       "3   IGOV         0.023          387.462097   4498.544773    0.015473"
      ]
     },
     "execution_count": 83,
     "metadata": {},
     "output_type": "execute_result"
    }
   ],
   "source": [
    "merged_portfolio_sp_latest_YTD_sp_contr_subset_pivot.sort_values(by='Target_Alloc', ascending=False, inplace=True)\n",
    "\n",
    "merged_portfolio_sp_latest_YTD_sp_contr_subset_pivot"
   ]
  },
  {
   "cell_type": "markdown",
   "metadata": {},
   "source": [
    "## Closing High Eval"
   ]
  },
  {
   "cell_type": "code",
   "execution_count": 84,
   "metadata": {},
   "outputs": [
    {
     "data": {
      "text/html": [
       "<div>\n",
       "<style scoped>\n",
       "    .dataframe tbody tr th:only-of-type {\n",
       "        vertical-align: middle;\n",
       "    }\n",
       "\n",
       "    .dataframe tbody tr th {\n",
       "        vertical-align: top;\n",
       "    }\n",
       "\n",
       "    .dataframe thead th {\n",
       "        text-align: right;\n",
       "    }\n",
       "</style>\n",
       "<table border=\"1\" class=\"dataframe\">\n",
       "  <thead>\n",
       "    <tr style=\"text-align: right;\">\n",
       "      <th></th>\n",
       "      <th>Ticker</th>\n",
       "      <th>Date</th>\n",
       "      <th>Adj Close</th>\n",
       "    </tr>\n",
       "  </thead>\n",
       "  <tbody>\n",
       "    <tr>\n",
       "      <th>0</th>\n",
       "      <td>AGG</td>\n",
       "      <td>2009-12-31</td>\n",
       "      <td>75.122749</td>\n",
       "    </tr>\n",
       "    <tr>\n",
       "      <th>1</th>\n",
       "      <td>AGG</td>\n",
       "      <td>2010-01-04</td>\n",
       "      <td>75.210129</td>\n",
       "    </tr>\n",
       "    <tr>\n",
       "      <th>2</th>\n",
       "      <td>AGG</td>\n",
       "      <td>2010-01-05</td>\n",
       "      <td>75.552269</td>\n",
       "    </tr>\n",
       "    <tr>\n",
       "      <th>3</th>\n",
       "      <td>AGG</td>\n",
       "      <td>2010-01-06</td>\n",
       "      <td>75.508575</td>\n",
       "    </tr>\n",
       "    <tr>\n",
       "      <th>4</th>\n",
       "      <td>AGG</td>\n",
       "      <td>2010-01-07</td>\n",
       "      <td>75.421249</td>\n",
       "    </tr>\n",
       "  </tbody>\n",
       "</table>\n",
       "</div>"
      ],
      "text/plain": [
       "  Ticker       Date  Adj Close\n",
       "0    AGG 2009-12-31  75.122749\n",
       "1    AGG 2010-01-04  75.210129\n",
       "2    AGG 2010-01-05  75.552269\n",
       "3    AGG 2010-01-06  75.508575\n",
       "4    AGG 2010-01-07  75.421249"
      ]
     },
     "execution_count": 84,
     "metadata": {},
     "output_type": "execute_result"
    }
   ],
   "source": [
    "# Referencing the adj_close dataframe from above\n",
    "\n",
    "adj_close.head()"
   ]
  },
  {
   "cell_type": "code",
   "execution_count": 85,
   "metadata": {},
   "outputs": [
    {
     "data": {
      "text/html": [
       "<div>\n",
       "<style scoped>\n",
       "    .dataframe tbody tr th:only-of-type {\n",
       "        vertical-align: middle;\n",
       "    }\n",
       "\n",
       "    .dataframe tbody tr th {\n",
       "        vertical-align: top;\n",
       "    }\n",
       "\n",
       "    .dataframe thead th {\n",
       "        text-align: right;\n",
       "    }\n",
       "</style>\n",
       "<table border=\"1\" class=\"dataframe\">\n",
       "  <thead>\n",
       "    <tr style=\"text-align: right;\">\n",
       "      <th></th>\n",
       "      <th>Acquisition Date</th>\n",
       "      <th>Position</th>\n",
       "      <th>Ticker</th>\n",
       "      <th>Quantity</th>\n",
       "      <th>Unit Cost</th>\n",
       "      <th>Cost Basis</th>\n",
       "      <th>Start of Year</th>\n",
       "      <th>Target_Alloc</th>\n",
       "      <th>Comments</th>\n",
       "      <th>Counts</th>\n",
       "      <th>Ticker #</th>\n",
       "    </tr>\n",
       "  </thead>\n",
       "  <tbody>\n",
       "    <tr>\n",
       "      <th>0</th>\n",
       "      <td>2014-04-21</td>\n",
       "      <td>iShares Core US Aggregate Bond ETF (AGG)</td>\n",
       "      <td>AGG</td>\n",
       "      <td>25</td>\n",
       "      <td>95.72</td>\n",
       "      <td>2393.00</td>\n",
       "      <td>2018-12-31</td>\n",
       "      <td>0.127</td>\n",
       "      <td>NaN</td>\n",
       "      <td>0</td>\n",
       "      <td>AGG 0</td>\n",
       "    </tr>\n",
       "    <tr>\n",
       "      <th>1</th>\n",
       "      <td>2014-04-21</td>\n",
       "      <td>Invesco DB Commodity Tracking (DBC)</td>\n",
       "      <td>DBC</td>\n",
       "      <td>22</td>\n",
       "      <td>26.21</td>\n",
       "      <td>576.62</td>\n",
       "      <td>2018-12-31</td>\n",
       "      <td>0.033</td>\n",
       "      <td>NaN</td>\n",
       "      <td>1</td>\n",
       "      <td>DBC 1</td>\n",
       "    </tr>\n",
       "    <tr>\n",
       "      <th>2</th>\n",
       "      <td>2014-04-21</td>\n",
       "      <td>iShares Gold Trust (IAU)</td>\n",
       "      <td>IAU</td>\n",
       "      <td>50</td>\n",
       "      <td>12.51</td>\n",
       "      <td>625.50</td>\n",
       "      <td>2018-12-31</td>\n",
       "      <td>0.033</td>\n",
       "      <td>NaN</td>\n",
       "      <td>2</td>\n",
       "      <td>IAU 2</td>\n",
       "    </tr>\n",
       "    <tr>\n",
       "      <th>3</th>\n",
       "      <td>2014-04-21</td>\n",
       "      <td>iShares International Treasury Bond ETF (IGOV)</td>\n",
       "      <td>IGOV</td>\n",
       "      <td>8</td>\n",
       "      <td>50.72</td>\n",
       "      <td>405.76</td>\n",
       "      <td>2018-12-31</td>\n",
       "      <td>0.023</td>\n",
       "      <td>NaN</td>\n",
       "      <td>3</td>\n",
       "      <td>IGOV 3</td>\n",
       "    </tr>\n",
       "    <tr>\n",
       "      <th>4</th>\n",
       "      <td>2014-04-21</td>\n",
       "      <td>Vanguard FTSE All-Wld ex-US ETF (VEU)</td>\n",
       "      <td>VEU</td>\n",
       "      <td>105</td>\n",
       "      <td>43.92</td>\n",
       "      <td>4611.60</td>\n",
       "      <td>2018-12-31</td>\n",
       "      <td>0.250</td>\n",
       "      <td>NaN</td>\n",
       "      <td>4</td>\n",
       "      <td>VEU 4</td>\n",
       "    </tr>\n",
       "  </tbody>\n",
       "</table>\n",
       "</div>"
      ],
      "text/plain": [
       "  Acquisition Date                                        Position Ticker  \\\n",
       "0       2014-04-21        iShares Core US Aggregate Bond ETF (AGG)    AGG   \n",
       "1       2014-04-21             Invesco DB Commodity Tracking (DBC)    DBC   \n",
       "2       2014-04-21                        iShares Gold Trust (IAU)    IAU   \n",
       "3       2014-04-21  iShares International Treasury Bond ETF (IGOV)   IGOV   \n",
       "4       2014-04-21           Vanguard FTSE All-Wld ex-US ETF (VEU)    VEU   \n",
       "\n",
       "   Quantity  Unit Cost  Cost Basis Start of Year  Target_Alloc  Comments  \\\n",
       "0        25      95.72     2393.00    2018-12-31         0.127       NaN   \n",
       "1        22      26.21      576.62    2018-12-31         0.033       NaN   \n",
       "2        50      12.51      625.50    2018-12-31         0.033       NaN   \n",
       "3         8      50.72      405.76    2018-12-31         0.023       NaN   \n",
       "4       105      43.92     4611.60    2018-12-31         0.250       NaN   \n",
       "\n",
       "   Counts Ticker #  \n",
       "0       0    AGG 0  \n",
       "1       1    DBC 1  \n",
       "2       2    IAU 2  \n",
       "3       3   IGOV 3  \n",
       "4       4    VEU 4  "
      ]
     },
     "execution_count": 85,
     "metadata": {},
     "output_type": "execute_result"
    }
   ],
   "source": [
    "portfolio_df.head()"
   ]
  },
  {
   "cell_type": "code",
   "execution_count": 86,
   "metadata": {},
   "outputs": [
    {
     "data": {
      "text/html": [
       "<div>\n",
       "<style scoped>\n",
       "    .dataframe tbody tr th:only-of-type {\n",
       "        vertical-align: middle;\n",
       "    }\n",
       "\n",
       "    .dataframe tbody tr th {\n",
       "        vertical-align: top;\n",
       "    }\n",
       "\n",
       "    .dataframe thead th {\n",
       "        text-align: right;\n",
       "    }\n",
       "</style>\n",
       "<table border=\"1\" class=\"dataframe\">\n",
       "  <thead>\n",
       "    <tr style=\"text-align: right;\">\n",
       "      <th></th>\n",
       "      <th>Ticker</th>\n",
       "      <th>Date</th>\n",
       "      <th>Adj Close</th>\n",
       "      <th>Acquisition Date</th>\n",
       "      <th>Position</th>\n",
       "      <th>Quantity</th>\n",
       "      <th>Unit Cost</th>\n",
       "      <th>Cost Basis</th>\n",
       "      <th>Start of Year</th>\n",
       "      <th>Target_Alloc</th>\n",
       "      <th>Comments</th>\n",
       "      <th>Counts</th>\n",
       "      <th>Ticker #</th>\n",
       "    </tr>\n",
       "  </thead>\n",
       "  <tbody>\n",
       "    <tr>\n",
       "      <th>0</th>\n",
       "      <td>AGG</td>\n",
       "      <td>2009-12-31</td>\n",
       "      <td>75.122749</td>\n",
       "      <td>2014-04-21</td>\n",
       "      <td>iShares Core US Aggregate Bond ETF (AGG)</td>\n",
       "      <td>25</td>\n",
       "      <td>95.72</td>\n",
       "      <td>2393.0</td>\n",
       "      <td>2018-12-31</td>\n",
       "      <td>0.127</td>\n",
       "      <td>NaN</td>\n",
       "      <td>0</td>\n",
       "      <td>AGG 0</td>\n",
       "    </tr>\n",
       "    <tr>\n",
       "      <th>1</th>\n",
       "      <td>AGG</td>\n",
       "      <td>2010-01-04</td>\n",
       "      <td>75.210129</td>\n",
       "      <td>2014-04-21</td>\n",
       "      <td>iShares Core US Aggregate Bond ETF (AGG)</td>\n",
       "      <td>25</td>\n",
       "      <td>95.72</td>\n",
       "      <td>2393.0</td>\n",
       "      <td>2018-12-31</td>\n",
       "      <td>0.127</td>\n",
       "      <td>NaN</td>\n",
       "      <td>0</td>\n",
       "      <td>AGG 0</td>\n",
       "    </tr>\n",
       "    <tr>\n",
       "      <th>2</th>\n",
       "      <td>AGG</td>\n",
       "      <td>2010-01-05</td>\n",
       "      <td>75.552269</td>\n",
       "      <td>2014-04-21</td>\n",
       "      <td>iShares Core US Aggregate Bond ETF (AGG)</td>\n",
       "      <td>25</td>\n",
       "      <td>95.72</td>\n",
       "      <td>2393.0</td>\n",
       "      <td>2018-12-31</td>\n",
       "      <td>0.127</td>\n",
       "      <td>NaN</td>\n",
       "      <td>0</td>\n",
       "      <td>AGG 0</td>\n",
       "    </tr>\n",
       "    <tr>\n",
       "      <th>3</th>\n",
       "      <td>AGG</td>\n",
       "      <td>2010-01-06</td>\n",
       "      <td>75.508575</td>\n",
       "      <td>2014-04-21</td>\n",
       "      <td>iShares Core US Aggregate Bond ETF (AGG)</td>\n",
       "      <td>25</td>\n",
       "      <td>95.72</td>\n",
       "      <td>2393.0</td>\n",
       "      <td>2018-12-31</td>\n",
       "      <td>0.127</td>\n",
       "      <td>NaN</td>\n",
       "      <td>0</td>\n",
       "      <td>AGG 0</td>\n",
       "    </tr>\n",
       "    <tr>\n",
       "      <th>4</th>\n",
       "      <td>AGG</td>\n",
       "      <td>2010-01-07</td>\n",
       "      <td>75.421249</td>\n",
       "      <td>2014-04-21</td>\n",
       "      <td>iShares Core US Aggregate Bond ETF (AGG)</td>\n",
       "      <td>25</td>\n",
       "      <td>95.72</td>\n",
       "      <td>2393.0</td>\n",
       "      <td>2018-12-31</td>\n",
       "      <td>0.127</td>\n",
       "      <td>NaN</td>\n",
       "      <td>0</td>\n",
       "      <td>AGG 0</td>\n",
       "    </tr>\n",
       "  </tbody>\n",
       "</table>\n",
       "</div>"
      ],
      "text/plain": [
       "  Ticker       Date  Adj Close Acquisition Date  \\\n",
       "0    AGG 2009-12-31  75.122749       2014-04-21   \n",
       "1    AGG 2010-01-04  75.210129       2014-04-21   \n",
       "2    AGG 2010-01-05  75.552269       2014-04-21   \n",
       "3    AGG 2010-01-06  75.508575       2014-04-21   \n",
       "4    AGG 2010-01-07  75.421249       2014-04-21   \n",
       "\n",
       "                                   Position  Quantity  Unit Cost  Cost Basis  \\\n",
       "0  iShares Core US Aggregate Bond ETF (AGG)        25      95.72      2393.0   \n",
       "1  iShares Core US Aggregate Bond ETF (AGG)        25      95.72      2393.0   \n",
       "2  iShares Core US Aggregate Bond ETF (AGG)        25      95.72      2393.0   \n",
       "3  iShares Core US Aggregate Bond ETF (AGG)        25      95.72      2393.0   \n",
       "4  iShares Core US Aggregate Bond ETF (AGG)        25      95.72      2393.0   \n",
       "\n",
       "  Start of Year  Target_Alloc  Comments  Counts Ticker #  \n",
       "0    2018-12-31         0.127       NaN       0    AGG 0  \n",
       "1    2018-12-31         0.127       NaN       0    AGG 0  \n",
       "2    2018-12-31         0.127       NaN       0    AGG 0  \n",
       "3    2018-12-31         0.127       NaN       0    AGG 0  \n",
       "4    2018-12-31         0.127       NaN       0    AGG 0  "
      ]
     },
     "execution_count": 86,
     "metadata": {},
     "output_type": "execute_result"
    }
   ],
   "source": [
    "# Need to factor in that some positions were purchased much more recently than others.\n",
    "# Join adj_close dataframe with portfolio in order to have acquisition date.\n",
    "\n",
    "adj_close_acq_date = pd.merge(adj_close, portfolio_df, on='Ticker')\n",
    "\n",
    "adj_close_acq_date.head()"
   ]
  },
  {
   "cell_type": "code",
   "execution_count": 87,
   "metadata": {},
   "outputs": [],
   "source": [
    "# delete_columns = ['Quantity', 'Unit Cost', 'Cost Basis', 'Start of Year']\n",
    "\n",
    "del adj_close_acq_date['Quantity']\n",
    "del adj_close_acq_date['Unit Cost']\n",
    "del adj_close_acq_date['Cost Basis']\n",
    "del adj_close_acq_date['Start of Year']\n",
    "\n",
    "adj_close_acq_date.sort_values(by=['Ticker', 'Acquisition Date', 'Date'], ascending=[True, True, True], inplace=True)"
   ]
  },
  {
   "cell_type": "code",
   "execution_count": 88,
   "metadata": {},
   "outputs": [
    {
     "data": {
      "text/html": [
       "<div>\n",
       "<style scoped>\n",
       "    .dataframe tbody tr th:only-of-type {\n",
       "        vertical-align: middle;\n",
       "    }\n",
       "\n",
       "    .dataframe tbody tr th {\n",
       "        vertical-align: top;\n",
       "    }\n",
       "\n",
       "    .dataframe thead th {\n",
       "        text-align: right;\n",
       "    }\n",
       "</style>\n",
       "<table border=\"1\" class=\"dataframe\">\n",
       "  <thead>\n",
       "    <tr style=\"text-align: right;\">\n",
       "      <th></th>\n",
       "      <th>Ticker</th>\n",
       "      <th>Date</th>\n",
       "      <th>Adj Close</th>\n",
       "      <th>Acquisition Date</th>\n",
       "      <th>Position</th>\n",
       "      <th>Target_Alloc</th>\n",
       "      <th>Comments</th>\n",
       "      <th>Counts</th>\n",
       "      <th>Ticker #</th>\n",
       "      <th>Date Delta</th>\n",
       "    </tr>\n",
       "  </thead>\n",
       "  <tbody>\n",
       "    <tr>\n",
       "      <th>0</th>\n",
       "      <td>AGG</td>\n",
       "      <td>2009-12-31</td>\n",
       "      <td>75.122749</td>\n",
       "      <td>2014-04-21</td>\n",
       "      <td>iShares Core US Aggregate Bond ETF (AGG)</td>\n",
       "      <td>0.127</td>\n",
       "      <td>NaN</td>\n",
       "      <td>0</td>\n",
       "      <td>AGG 0</td>\n",
       "      <td>-135820800000000000</td>\n",
       "    </tr>\n",
       "    <tr>\n",
       "      <th>1</th>\n",
       "      <td>AGG</td>\n",
       "      <td>2010-01-04</td>\n",
       "      <td>75.210129</td>\n",
       "      <td>2014-04-21</td>\n",
       "      <td>iShares Core US Aggregate Bond ETF (AGG)</td>\n",
       "      <td>0.127</td>\n",
       "      <td>NaN</td>\n",
       "      <td>0</td>\n",
       "      <td>AGG 0</td>\n",
       "      <td>-135475200000000000</td>\n",
       "    </tr>\n",
       "    <tr>\n",
       "      <th>2</th>\n",
       "      <td>AGG</td>\n",
       "      <td>2010-01-05</td>\n",
       "      <td>75.552269</td>\n",
       "      <td>2014-04-21</td>\n",
       "      <td>iShares Core US Aggregate Bond ETF (AGG)</td>\n",
       "      <td>0.127</td>\n",
       "      <td>NaN</td>\n",
       "      <td>0</td>\n",
       "      <td>AGG 0</td>\n",
       "      <td>-135388800000000000</td>\n",
       "    </tr>\n",
       "    <tr>\n",
       "      <th>3</th>\n",
       "      <td>AGG</td>\n",
       "      <td>2010-01-06</td>\n",
       "      <td>75.508575</td>\n",
       "      <td>2014-04-21</td>\n",
       "      <td>iShares Core US Aggregate Bond ETF (AGG)</td>\n",
       "      <td>0.127</td>\n",
       "      <td>NaN</td>\n",
       "      <td>0</td>\n",
       "      <td>AGG 0</td>\n",
       "      <td>-135302400000000000</td>\n",
       "    </tr>\n",
       "    <tr>\n",
       "      <th>4</th>\n",
       "      <td>AGG</td>\n",
       "      <td>2010-01-07</td>\n",
       "      <td>75.421249</td>\n",
       "      <td>2014-04-21</td>\n",
       "      <td>iShares Core US Aggregate Bond ETF (AGG)</td>\n",
       "      <td>0.127</td>\n",
       "      <td>NaN</td>\n",
       "      <td>0</td>\n",
       "      <td>AGG 0</td>\n",
       "      <td>-135216000000000000</td>\n",
       "    </tr>\n",
       "  </tbody>\n",
       "</table>\n",
       "</div>"
      ],
      "text/plain": [
       "  Ticker       Date  Adj Close Acquisition Date  \\\n",
       "0    AGG 2009-12-31  75.122749       2014-04-21   \n",
       "1    AGG 2010-01-04  75.210129       2014-04-21   \n",
       "2    AGG 2010-01-05  75.552269       2014-04-21   \n",
       "3    AGG 2010-01-06  75.508575       2014-04-21   \n",
       "4    AGG 2010-01-07  75.421249       2014-04-21   \n",
       "\n",
       "                                   Position  Target_Alloc  Comments  Counts  \\\n",
       "0  iShares Core US Aggregate Bond ETF (AGG)         0.127       NaN       0   \n",
       "1  iShares Core US Aggregate Bond ETF (AGG)         0.127       NaN       0   \n",
       "2  iShares Core US Aggregate Bond ETF (AGG)         0.127       NaN       0   \n",
       "3  iShares Core US Aggregate Bond ETF (AGG)         0.127       NaN       0   \n",
       "4  iShares Core US Aggregate Bond ETF (AGG)         0.127       NaN       0   \n",
       "\n",
       "  Ticker #          Date Delta  \n",
       "0    AGG 0 -135820800000000000  \n",
       "1    AGG 0 -135475200000000000  \n",
       "2    AGG 0 -135388800000000000  \n",
       "3    AGG 0 -135302400000000000  \n",
       "4    AGG 0 -135216000000000000  "
      ]
     },
     "execution_count": 88,
     "metadata": {},
     "output_type": "execute_result"
    }
   ],
   "source": [
    "# Create a new column, Data Delta, to figure out the dates in time series post when the position was acquired.\n",
    "\n",
    "adj_close_acq_date['Date Delta'] = adj_close_acq_date['Date'] - adj_close_acq_date['Acquisition Date']\n",
    "\n",
    "adj_close_acq_date['Date Delta'] = adj_close_acq_date[['Date Delta']].apply(pd.to_numeric)  \n",
    "\n",
    "adj_close_acq_date.head()"
   ]
  },
  {
   "cell_type": "code",
   "execution_count": 89,
   "metadata": {},
   "outputs": [
    {
     "data": {
      "text/html": [
       "<div>\n",
       "<style scoped>\n",
       "    .dataframe tbody tr th:only-of-type {\n",
       "        vertical-align: middle;\n",
       "    }\n",
       "\n",
       "    .dataframe tbody tr th {\n",
       "        vertical-align: top;\n",
       "    }\n",
       "\n",
       "    .dataframe thead th {\n",
       "        text-align: right;\n",
       "    }\n",
       "</style>\n",
       "<table border=\"1\" class=\"dataframe\">\n",
       "  <thead>\n",
       "    <tr style=\"text-align: right;\">\n",
       "      <th></th>\n",
       "      <th>Ticker</th>\n",
       "      <th>Date</th>\n",
       "      <th>Adj Close</th>\n",
       "      <th>Acquisition Date</th>\n",
       "      <th>Position</th>\n",
       "      <th>Target_Alloc</th>\n",
       "      <th>Comments</th>\n",
       "      <th>Counts</th>\n",
       "      <th>Ticker #</th>\n",
       "      <th>Date Delta</th>\n",
       "    </tr>\n",
       "  </thead>\n",
       "  <tbody>\n",
       "    <tr>\n",
       "      <th>1081</th>\n",
       "      <td>AGG</td>\n",
       "      <td>2014-04-21</td>\n",
       "      <td>89.461205</td>\n",
       "      <td>2014-04-21</td>\n",
       "      <td>iShares Core US Aggregate Bond ETF (AGG)</td>\n",
       "      <td>0.127</td>\n",
       "      <td>NaN</td>\n",
       "      <td>0</td>\n",
       "      <td>AGG 0</td>\n",
       "      <td>0</td>\n",
       "    </tr>\n",
       "    <tr>\n",
       "      <th>1082</th>\n",
       "      <td>AGG</td>\n",
       "      <td>2014-04-22</td>\n",
       "      <td>89.444656</td>\n",
       "      <td>2014-04-21</td>\n",
       "      <td>iShares Core US Aggregate Bond ETF (AGG)</td>\n",
       "      <td>0.127</td>\n",
       "      <td>NaN</td>\n",
       "      <td>0</td>\n",
       "      <td>AGG 0</td>\n",
       "      <td>86400000000000</td>\n",
       "    </tr>\n",
       "    <tr>\n",
       "      <th>1083</th>\n",
       "      <td>AGG</td>\n",
       "      <td>2014-04-23</td>\n",
       "      <td>89.535622</td>\n",
       "      <td>2014-04-21</td>\n",
       "      <td>iShares Core US Aggregate Bond ETF (AGG)</td>\n",
       "      <td>0.127</td>\n",
       "      <td>NaN</td>\n",
       "      <td>0</td>\n",
       "      <td>AGG 0</td>\n",
       "      <td>172800000000000</td>\n",
       "    </tr>\n",
       "    <tr>\n",
       "      <th>1084</th>\n",
       "      <td>AGG</td>\n",
       "      <td>2014-04-24</td>\n",
       "      <td>89.618324</td>\n",
       "      <td>2014-04-21</td>\n",
       "      <td>iShares Core US Aggregate Bond ETF (AGG)</td>\n",
       "      <td>0.127</td>\n",
       "      <td>NaN</td>\n",
       "      <td>0</td>\n",
       "      <td>AGG 0</td>\n",
       "      <td>259200000000000</td>\n",
       "    </tr>\n",
       "    <tr>\n",
       "      <th>1085</th>\n",
       "      <td>AGG</td>\n",
       "      <td>2014-04-25</td>\n",
       "      <td>89.634865</td>\n",
       "      <td>2014-04-21</td>\n",
       "      <td>iShares Core US Aggregate Bond ETF (AGG)</td>\n",
       "      <td>0.127</td>\n",
       "      <td>NaN</td>\n",
       "      <td>0</td>\n",
       "      <td>AGG 0</td>\n",
       "      <td>345600000000000</td>\n",
       "    </tr>\n",
       "  </tbody>\n",
       "</table>\n",
       "</div>"
      ],
      "text/plain": [
       "     Ticker       Date  Adj Close Acquisition Date  \\\n",
       "1081    AGG 2014-04-21  89.461205       2014-04-21   \n",
       "1082    AGG 2014-04-22  89.444656       2014-04-21   \n",
       "1083    AGG 2014-04-23  89.535622       2014-04-21   \n",
       "1084    AGG 2014-04-24  89.618324       2014-04-21   \n",
       "1085    AGG 2014-04-25  89.634865       2014-04-21   \n",
       "\n",
       "                                      Position  Target_Alloc  Comments  \\\n",
       "1081  iShares Core US Aggregate Bond ETF (AGG)         0.127       NaN   \n",
       "1082  iShares Core US Aggregate Bond ETF (AGG)         0.127       NaN   \n",
       "1083  iShares Core US Aggregate Bond ETF (AGG)         0.127       NaN   \n",
       "1084  iShares Core US Aggregate Bond ETF (AGG)         0.127       NaN   \n",
       "1085  iShares Core US Aggregate Bond ETF (AGG)         0.127       NaN   \n",
       "\n",
       "      Counts Ticker #       Date Delta  \n",
       "1081       0    AGG 0                0  \n",
       "1082       0    AGG 0   86400000000000  \n",
       "1083       0    AGG 0  172800000000000  \n",
       "1084       0    AGG 0  259200000000000  \n",
       "1085       0    AGG 0  345600000000000  "
      ]
     },
     "execution_count": 89,
     "metadata": {},
     "output_type": "execute_result"
    }
   ],
   "source": [
    "# Modified the dataframe being evaluated to look at highest close which occurred after Acquisition Date (aka, not prior to purchase).\n",
    "\n",
    "adj_close_acq_date_modified = adj_close_acq_date[adj_close_acq_date['Date Delta']>=0]\n",
    "\n",
    "adj_close_acq_date_modified.head()"
   ]
  },
  {
   "cell_type": "code",
   "execution_count": 90,
   "metadata": {},
   "outputs": [
    {
     "data": {
      "text/html": [
       "<div>\n",
       "<style scoped>\n",
       "    .dataframe tbody tr th:only-of-type {\n",
       "        vertical-align: middle;\n",
       "    }\n",
       "\n",
       "    .dataframe tbody tr th {\n",
       "        vertical-align: top;\n",
       "    }\n",
       "\n",
       "    .dataframe thead th {\n",
       "        text-align: right;\n",
       "    }\n",
       "</style>\n",
       "<table border=\"1\" class=\"dataframe\">\n",
       "  <thead>\n",
       "    <tr style=\"text-align: right;\">\n",
       "      <th></th>\n",
       "      <th>Ticker</th>\n",
       "      <th>Acquisition Date</th>\n",
       "      <th>Adj Close</th>\n",
       "    </tr>\n",
       "  </thead>\n",
       "  <tbody>\n",
       "    <tr>\n",
       "      <th>0</th>\n",
       "      <td>AGG</td>\n",
       "      <td>2014-04-21</td>\n",
       "      <td>102.112717</td>\n",
       "    </tr>\n",
       "    <tr>\n",
       "      <th>1</th>\n",
       "      <td>DBC</td>\n",
       "      <td>2014-04-21</td>\n",
       "      <td>26.155830</td>\n",
       "    </tr>\n",
       "    <tr>\n",
       "      <th>2</th>\n",
       "      <td>IAU</td>\n",
       "      <td>2014-04-21</td>\n",
       "      <td>26.360001</td>\n",
       "    </tr>\n",
       "    <tr>\n",
       "      <th>3</th>\n",
       "      <td>IGOV</td>\n",
       "      <td>2014-04-21</td>\n",
       "      <td>51.578995</td>\n",
       "    </tr>\n",
       "    <tr>\n",
       "      <th>4</th>\n",
       "      <td>VEU</td>\n",
       "      <td>2014-04-21</td>\n",
       "      <td>52.347305</td>\n",
       "    </tr>\n",
       "    <tr>\n",
       "      <th>5</th>\n",
       "      <td>VNQ</td>\n",
       "      <td>2014-04-21</td>\n",
       "      <td>79.396973</td>\n",
       "    </tr>\n",
       "    <tr>\n",
       "      <th>6</th>\n",
       "      <td>VTI</td>\n",
       "      <td>2014-04-21</td>\n",
       "      <td>141.990143</td>\n",
       "    </tr>\n",
       "    <tr>\n",
       "      <th>7</th>\n",
       "      <td>VTI</td>\n",
       "      <td>2014-05-05</td>\n",
       "      <td>141.990143</td>\n",
       "    </tr>\n",
       "  </tbody>\n",
       "</table>\n",
       "</div>"
      ],
      "text/plain": [
       "  Ticker Acquisition Date   Adj Close\n",
       "0    AGG       2014-04-21  102.112717\n",
       "1    DBC       2014-04-21   26.155830\n",
       "2    IAU       2014-04-21   26.360001\n",
       "3   IGOV       2014-04-21   51.578995\n",
       "4    VEU       2014-04-21   52.347305\n",
       "5    VNQ       2014-04-21   79.396973\n",
       "6    VTI       2014-04-21  141.990143\n",
       "7    VTI       2014-05-05  141.990143"
      ]
     },
     "execution_count": 90,
     "metadata": {},
     "output_type": "execute_result"
    }
   ],
   "source": [
    "# This pivot table will index on the Ticker and Acquisition Date, and find the max adjusted close.\n",
    "\n",
    "adj_close_pivot = adj_close_acq_date_modified.pivot_table(index=['Ticker', 'Acquisition Date'], values='Adj Close', aggfunc=np.max)\n",
    "\n",
    "adj_close_pivot.reset_index(inplace=True)\n",
    "\n",
    "adj_close_pivot[0:10]"
   ]
  },
  {
   "cell_type": "code",
   "execution_count": 91,
   "metadata": {},
   "outputs": [
    {
     "data": {
      "text/html": [
       "<div>\n",
       "<style scoped>\n",
       "    .dataframe tbody tr th:only-of-type {\n",
       "        vertical-align: middle;\n",
       "    }\n",
       "\n",
       "    .dataframe tbody tr th {\n",
       "        vertical-align: top;\n",
       "    }\n",
       "\n",
       "    .dataframe thead th {\n",
       "        text-align: right;\n",
       "    }\n",
       "</style>\n",
       "<table border=\"1\" class=\"dataframe\">\n",
       "  <thead>\n",
       "    <tr style=\"text-align: right;\">\n",
       "      <th></th>\n",
       "      <th>Ticker</th>\n",
       "      <th>Acquisition Date</th>\n",
       "      <th>Adj Close</th>\n",
       "      <th>Date</th>\n",
       "    </tr>\n",
       "  </thead>\n",
       "  <tbody>\n",
       "    <tr>\n",
       "      <th>0</th>\n",
       "      <td>AGG</td>\n",
       "      <td>2014-04-21</td>\n",
       "      <td>102.112717</td>\n",
       "      <td>2019-03-28</td>\n",
       "    </tr>\n",
       "    <tr>\n",
       "      <th>1</th>\n",
       "      <td>DBC</td>\n",
       "      <td>2014-04-21</td>\n",
       "      <td>26.155830</td>\n",
       "      <td>2013-04-09</td>\n",
       "    </tr>\n",
       "    <tr>\n",
       "      <th>2</th>\n",
       "      <td>DBC</td>\n",
       "      <td>2014-04-21</td>\n",
       "      <td>26.155830</td>\n",
       "      <td>2014-06-20</td>\n",
       "    </tr>\n",
       "    <tr>\n",
       "      <th>3</th>\n",
       "      <td>IAU</td>\n",
       "      <td>2014-04-21</td>\n",
       "      <td>26.360001</td>\n",
       "      <td>2010-10-08</td>\n",
       "    </tr>\n",
       "    <tr>\n",
       "      <th>4</th>\n",
       "      <td>IAU</td>\n",
       "      <td>2014-04-21</td>\n",
       "      <td>26.360001</td>\n",
       "      <td>2016-07-08</td>\n",
       "    </tr>\n",
       "  </tbody>\n",
       "</table>\n",
       "</div>"
      ],
      "text/plain": [
       "  Ticker Acquisition Date   Adj Close       Date\n",
       "0    AGG       2014-04-21  102.112717 2019-03-28\n",
       "1    DBC       2014-04-21   26.155830 2013-04-09\n",
       "2    DBC       2014-04-21   26.155830 2014-06-20\n",
       "3    IAU       2014-04-21   26.360001 2010-10-08\n",
       "4    IAU       2014-04-21   26.360001 2016-07-08"
      ]
     },
     "execution_count": 91,
     "metadata": {},
     "output_type": "execute_result"
    }
   ],
   "source": [
    "# Merge the adj close pivot table with the adj_close table in order to grab the date of the Adj Close High (good to know).\n",
    "\n",
    "adj_close_pivot_merged = pd.merge(adj_close_pivot, adj_close\n",
    "                                             , on=['Ticker', 'Adj Close'])\n",
    "\n",
    "adj_close_pivot_merged.head()"
   ]
  },
  {
   "cell_type": "code",
   "execution_count": 92,
   "metadata": {},
   "outputs": [
    {
     "data": {
      "text/html": [
       "<div>\n",
       "<style scoped>\n",
       "    .dataframe tbody tr th:only-of-type {\n",
       "        vertical-align: middle;\n",
       "    }\n",
       "\n",
       "    .dataframe tbody tr th {\n",
       "        vertical-align: top;\n",
       "    }\n",
       "\n",
       "    .dataframe thead th {\n",
       "        text-align: right;\n",
       "    }\n",
       "</style>\n",
       "<table border=\"1\" class=\"dataframe\">\n",
       "  <thead>\n",
       "    <tr style=\"text-align: right;\">\n",
       "      <th></th>\n",
       "      <th>Ticker</th>\n",
       "      <th>Acquisition Date</th>\n",
       "      <th>Adj Close</th>\n",
       "      <th>Date</th>\n",
       "    </tr>\n",
       "  </thead>\n",
       "  <tbody>\n",
       "    <tr>\n",
       "      <th>0</th>\n",
       "      <td>AGG</td>\n",
       "      <td>2014-04-21</td>\n",
       "      <td>102.112717</td>\n",
       "      <td>2019-03-28</td>\n",
       "    </tr>\n",
       "    <tr>\n",
       "      <th>2</th>\n",
       "      <td>DBC</td>\n",
       "      <td>2014-04-21</td>\n",
       "      <td>26.155830</td>\n",
       "      <td>2014-06-20</td>\n",
       "    </tr>\n",
       "    <tr>\n",
       "      <th>4</th>\n",
       "      <td>IAU</td>\n",
       "      <td>2014-04-21</td>\n",
       "      <td>26.360001</td>\n",
       "      <td>2016-07-08</td>\n",
       "    </tr>\n",
       "    <tr>\n",
       "      <th>5</th>\n",
       "      <td>IGOV</td>\n",
       "      <td>2014-04-21</td>\n",
       "      <td>51.578995</td>\n",
       "      <td>2018-03-26</td>\n",
       "    </tr>\n",
       "    <tr>\n",
       "      <th>6</th>\n",
       "      <td>VEU</td>\n",
       "      <td>2014-04-21</td>\n",
       "      <td>52.347305</td>\n",
       "      <td>2018-01-26</td>\n",
       "    </tr>\n",
       "  </tbody>\n",
       "</table>\n",
       "</div>"
      ],
      "text/plain": [
       "  Ticker Acquisition Date   Adj Close       Date\n",
       "0    AGG       2014-04-21  102.112717 2019-03-28\n",
       "2    DBC       2014-04-21   26.155830 2014-06-20\n",
       "4    IAU       2014-04-21   26.360001 2016-07-08\n",
       "5   IGOV       2014-04-21   51.578995 2018-03-26\n",
       "6    VEU       2014-04-21   52.347305 2018-01-26"
      ]
     },
     "execution_count": 92,
     "metadata": {},
     "output_type": "execute_result"
    }
   ],
   "source": [
    "# Duplicates were created where the stock had the same high on multiple dates.\n",
    "# Sorted by latest date and then dropped duplicates, which drops the earlier high from consideration.\n",
    "\n",
    "adj_close_pivot_merged.sort_values(by=['Ticker', 'Acquisition Date', 'Date'], ascending=[True, True, False], inplace=True)\n",
    "\n",
    "adj_close_pivot_merged.drop_duplicates(['Ticker', 'Acquisition Date', 'Adj Close'], inplace=True)\n",
    "\n",
    "adj_close_pivot_merged.head()"
   ]
  },
  {
   "cell_type": "code",
   "execution_count": 93,
   "metadata": {},
   "outputs": [
    {
     "data": {
      "text/html": [
       "<div>\n",
       "<style scoped>\n",
       "    .dataframe tbody tr th:only-of-type {\n",
       "        vertical-align: middle;\n",
       "    }\n",
       "\n",
       "    .dataframe tbody tr th {\n",
       "        vertical-align: top;\n",
       "    }\n",
       "\n",
       "    .dataframe thead th {\n",
       "        text-align: right;\n",
       "    }\n",
       "</style>\n",
       "<table border=\"1\" class=\"dataframe\">\n",
       "  <thead>\n",
       "    <tr style=\"text-align: right;\">\n",
       "      <th></th>\n",
       "      <th>Acquisition Date</th>\n",
       "      <th>Position</th>\n",
       "      <th>Ticker</th>\n",
       "      <th>Quantity</th>\n",
       "      <th>Unit Cost</th>\n",
       "      <th>Cost Basis</th>\n",
       "      <th>Start of Year</th>\n",
       "      <th>Target_Alloc</th>\n",
       "      <th>Comments</th>\n",
       "      <th>Counts</th>\n",
       "      <th>...</th>\n",
       "      <th>SP 500 YTD</th>\n",
       "      <th>Cum Invst</th>\n",
       "      <th>Cum Ticker Returns</th>\n",
       "      <th>Cum SP Returns</th>\n",
       "      <th>Cum Ticker ROI Mult</th>\n",
       "      <th>Cum Ticker ROI Pct</th>\n",
       "      <th>Cum SP ROI Pct</th>\n",
       "      <th>Closing High Adj Close</th>\n",
       "      <th>Closing High Adj Close Date</th>\n",
       "      <th>Pct off High</th>\n",
       "    </tr>\n",
       "  </thead>\n",
       "  <tbody>\n",
       "    <tr>\n",
       "      <th>0</th>\n",
       "      <td>2014-04-21</td>\n",
       "      <td>iShares Core US Aggregate Bond ETF (AGG)</td>\n",
       "      <td>AGG</td>\n",
       "      <td>25</td>\n",
       "      <td>95.72</td>\n",
       "      <td>2393.00</td>\n",
       "      <td>2018-12-31</td>\n",
       "      <td>0.127</td>\n",
       "      <td>NaN</td>\n",
       "      <td>0</td>\n",
       "      <td>...</td>\n",
       "      <td>0.158837</td>\n",
       "      <td>2393.00</td>\n",
       "      <td>2538.085365</td>\n",
       "      <td>3713.752841</td>\n",
       "      <td>1.060629</td>\n",
       "      <td>0.060629</td>\n",
       "      <td>0.551923</td>\n",
       "      <td>102.112717</td>\n",
       "      <td>2019-03-28</td>\n",
       "      <td>-0.005771</td>\n",
       "    </tr>\n",
       "    <tr>\n",
       "      <th>1</th>\n",
       "      <td>2014-04-21</td>\n",
       "      <td>Invesco DB Commodity Tracking (DBC)</td>\n",
       "      <td>DBC</td>\n",
       "      <td>22</td>\n",
       "      <td>26.21</td>\n",
       "      <td>576.62</td>\n",
       "      <td>2018-12-31</td>\n",
       "      <td>0.033</td>\n",
       "      <td>NaN</td>\n",
       "      <td>1</td>\n",
       "      <td>...</td>\n",
       "      <td>0.158837</td>\n",
       "      <td>2969.62</td>\n",
       "      <td>2889.082649</td>\n",
       "      <td>4608.622947</td>\n",
       "      <td>0.972880</td>\n",
       "      <td>-0.027120</td>\n",
       "      <td>0.551923</td>\n",
       "      <td>26.155830</td>\n",
       "      <td>2014-06-20</td>\n",
       "      <td>-0.390024</td>\n",
       "    </tr>\n",
       "    <tr>\n",
       "      <th>2</th>\n",
       "      <td>2014-04-21</td>\n",
       "      <td>iShares Gold Trust (IAU)</td>\n",
       "      <td>IAU</td>\n",
       "      <td>50</td>\n",
       "      <td>12.51</td>\n",
       "      <td>625.50</td>\n",
       "      <td>2018-12-31</td>\n",
       "      <td>0.033</td>\n",
       "      <td>NaN</td>\n",
       "      <td>2</td>\n",
       "      <td>...</td>\n",
       "      <td>0.158837</td>\n",
       "      <td>3595.12</td>\n",
       "      <td>4111.082676</td>\n",
       "      <td>5579.351071</td>\n",
       "      <td>1.143518</td>\n",
       "      <td>0.143518</td>\n",
       "      <td>0.551923</td>\n",
       "      <td>26.360001</td>\n",
       "      <td>2016-07-08</td>\n",
       "      <td>-0.072838</td>\n",
       "    </tr>\n",
       "    <tr>\n",
       "      <th>3</th>\n",
       "      <td>2014-04-21</td>\n",
       "      <td>iShares International Treasury Bond ETF (IGOV)</td>\n",
       "      <td>IGOV</td>\n",
       "      <td>8</td>\n",
       "      <td>50.72</td>\n",
       "      <td>405.76</td>\n",
       "      <td>2018-12-31</td>\n",
       "      <td>0.023</td>\n",
       "      <td>NaN</td>\n",
       "      <td>3</td>\n",
       "      <td>...</td>\n",
       "      <td>0.158837</td>\n",
       "      <td>4000.88</td>\n",
       "      <td>4498.544773</td>\n",
       "      <td>6209.059535</td>\n",
       "      <td>1.124389</td>\n",
       "      <td>0.124389</td>\n",
       "      <td>0.551923</td>\n",
       "      <td>51.578995</td>\n",
       "      <td>2018-03-26</td>\n",
       "      <td>-0.060998</td>\n",
       "    </tr>\n",
       "    <tr>\n",
       "      <th>4</th>\n",
       "      <td>2014-04-21</td>\n",
       "      <td>Vanguard FTSE All-Wld ex-US ETF (VEU)</td>\n",
       "      <td>VEU</td>\n",
       "      <td>105</td>\n",
       "      <td>43.92</td>\n",
       "      <td>4611.60</td>\n",
       "      <td>2018-12-31</td>\n",
       "      <td>0.250</td>\n",
       "      <td>NaN</td>\n",
       "      <td>4</td>\n",
       "      <td>...</td>\n",
       "      <td>0.158837</td>\n",
       "      <td>8612.48</td>\n",
       "      <td>9488.905453</td>\n",
       "      <td>13365.909765</td>\n",
       "      <td>1.101762</td>\n",
       "      <td>0.101762</td>\n",
       "      <td>0.551923</td>\n",
       "      <td>52.347305</td>\n",
       "      <td>2018-01-26</td>\n",
       "      <td>-0.092078</td>\n",
       "    </tr>\n",
       "  </tbody>\n",
       "</table>\n",
       "<p>5 rows × 37 columns</p>\n",
       "</div>"
      ],
      "text/plain": [
       "  Acquisition Date                                        Position Ticker  \\\n",
       "0       2014-04-21        iShares Core US Aggregate Bond ETF (AGG)    AGG   \n",
       "1       2014-04-21             Invesco DB Commodity Tracking (DBC)    DBC   \n",
       "2       2014-04-21                        iShares Gold Trust (IAU)    IAU   \n",
       "3       2014-04-21  iShares International Treasury Bond ETF (IGOV)   IGOV   \n",
       "4       2014-04-21           Vanguard FTSE All-Wld ex-US ETF (VEU)    VEU   \n",
       "\n",
       "   Quantity  Unit Cost  Cost Basis Start of Year  Target_Alloc  Comments  \\\n",
       "0        25      95.72     2393.00    2018-12-31         0.127       NaN   \n",
       "1        22      26.21      576.62    2018-12-31         0.033       NaN   \n",
       "2        50      12.51      625.50    2018-12-31         0.033       NaN   \n",
       "3         8      50.72      405.76    2018-12-31         0.023       NaN   \n",
       "4       105      43.92     4611.60    2018-12-31         0.250       NaN   \n",
       "\n",
       "   Counts  ... SP 500 YTD Cum Invst  Cum Ticker Returns  Cum SP Returns  \\\n",
       "0       0  ...   0.158837   2393.00         2538.085365     3713.752841   \n",
       "1       1  ...   0.158837   2969.62         2889.082649     4608.622947   \n",
       "2       2  ...   0.158837   3595.12         4111.082676     5579.351071   \n",
       "3       3  ...   0.158837   4000.88         4498.544773     6209.059535   \n",
       "4       4  ...   0.158837   8612.48         9488.905453    13365.909765   \n",
       "\n",
       "   Cum Ticker ROI Mult  Cum Ticker ROI Pct  Cum SP ROI Pct  \\\n",
       "0             1.060629            0.060629        0.551923   \n",
       "1             0.972880           -0.027120        0.551923   \n",
       "2             1.143518            0.143518        0.551923   \n",
       "3             1.124389            0.124389        0.551923   \n",
       "4             1.101762            0.101762        0.551923   \n",
       "\n",
       "   Closing High Adj Close  Closing High Adj Close Date  Pct off High  \n",
       "0              102.112717                   2019-03-28     -0.005771  \n",
       "1               26.155830                   2014-06-20     -0.390024  \n",
       "2               26.360001                   2016-07-08     -0.072838  \n",
       "3               51.578995                   2018-03-26     -0.060998  \n",
       "4               52.347305                   2018-01-26     -0.092078  \n",
       "\n",
       "[5 rows x 37 columns]"
      ]
     },
     "execution_count": 93,
     "metadata": {},
     "output_type": "execute_result"
    }
   ],
   "source": [
    "# Merge the Adj Close pivot table with the master dataframe to have the closing high since you have owned the stock.\n",
    "\n",
    "merged_portfolio_sp_latest_YTD_sp_closing_high = pd.merge(merged_portfolio_sp_latest_YTD_sp, adj_close_pivot_merged\n",
    "                                             , on=['Ticker', 'Acquisition Date'])\n",
    "\n",
    "# Renaming so that it's clear that the new columns are two year closing high and two year closing high date.\n",
    "merged_portfolio_sp_latest_YTD_sp_closing_high.rename(columns={'Adj Close': 'Closing High Adj Close', 'Date': 'Closing High Adj Close Date'}, inplace=True)\n",
    "\n",
    "merged_portfolio_sp_latest_YTD_sp_closing_high['Pct off High'] = merged_portfolio_sp_latest_YTD_sp_closing_high['Ticker Adj Close'] / merged_portfolio_sp_latest_YTD_sp_closing_high['Closing High Adj Close'] - 1 \n",
    "\n",
    "merged_portfolio_sp_latest_YTD_sp_closing_high.head()"
   ]
  },
  {
   "cell_type": "code",
   "execution_count": 94,
   "metadata": {},
   "outputs": [
    {
     "data": {
      "text/html": [
       "<div>\n",
       "<style scoped>\n",
       "    .dataframe tbody tr th:only-of-type {\n",
       "        vertical-align: middle;\n",
       "    }\n",
       "\n",
       "    .dataframe tbody tr th {\n",
       "        vertical-align: top;\n",
       "    }\n",
       "\n",
       "    .dataframe thead th {\n",
       "        text-align: right;\n",
       "    }\n",
       "</style>\n",
       "<table border=\"1\" class=\"dataframe\">\n",
       "  <thead>\n",
       "    <tr style=\"text-align: right;\">\n",
       "      <th></th>\n",
       "      <th>Acquisition Date</th>\n",
       "      <th>Position</th>\n",
       "      <th>Ticker</th>\n",
       "      <th>Quantity</th>\n",
       "      <th>Unit Cost</th>\n",
       "      <th>Cost Basis</th>\n",
       "      <th>Start of Year</th>\n",
       "      <th>Target_Alloc</th>\n",
       "      <th>Comments</th>\n",
       "      <th>Counts</th>\n",
       "      <th>...</th>\n",
       "      <th>SP 500 YTD</th>\n",
       "      <th>Cum Invst</th>\n",
       "      <th>Cum Ticker Returns</th>\n",
       "      <th>Cum SP Returns</th>\n",
       "      <th>Cum Ticker ROI Mult</th>\n",
       "      <th>Cum Ticker ROI Pct</th>\n",
       "      <th>Cum SP ROI Pct</th>\n",
       "      <th>Closing High Adj Close</th>\n",
       "      <th>Closing High Adj Close Date</th>\n",
       "      <th>Pct off High</th>\n",
       "    </tr>\n",
       "  </thead>\n",
       "  <tbody>\n",
       "    <tr>\n",
       "      <th>3</th>\n",
       "      <td>2014-04-21</td>\n",
       "      <td>iShares International Treasury Bond ETF (IGOV)</td>\n",
       "      <td>IGOV</td>\n",
       "      <td>8</td>\n",
       "      <td>50.72</td>\n",
       "      <td>405.76</td>\n",
       "      <td>2018-12-31</td>\n",
       "      <td>0.023</td>\n",
       "      <td>NaN</td>\n",
       "      <td>3</td>\n",
       "      <td>...</td>\n",
       "      <td>0.158837</td>\n",
       "      <td>4000.88</td>\n",
       "      <td>4498.544773</td>\n",
       "      <td>6209.059535</td>\n",
       "      <td>1.124389</td>\n",
       "      <td>0.124389</td>\n",
       "      <td>0.551923</td>\n",
       "      <td>51.578995</td>\n",
       "      <td>2018-03-26</td>\n",
       "      <td>-0.060998</td>\n",
       "    </tr>\n",
       "    <tr>\n",
       "      <th>4</th>\n",
       "      <td>2014-04-21</td>\n",
       "      <td>Vanguard FTSE All-Wld ex-US ETF (VEU)</td>\n",
       "      <td>VEU</td>\n",
       "      <td>105</td>\n",
       "      <td>43.92</td>\n",
       "      <td>4611.60</td>\n",
       "      <td>2018-12-31</td>\n",
       "      <td>0.250</td>\n",
       "      <td>NaN</td>\n",
       "      <td>4</td>\n",
       "      <td>...</td>\n",
       "      <td>0.158837</td>\n",
       "      <td>8612.48</td>\n",
       "      <td>9488.905453</td>\n",
       "      <td>13365.909765</td>\n",
       "      <td>1.101762</td>\n",
       "      <td>0.101762</td>\n",
       "      <td>0.551923</td>\n",
       "      <td>52.347305</td>\n",
       "      <td>2018-01-26</td>\n",
       "      <td>-0.092078</td>\n",
       "    </tr>\n",
       "    <tr>\n",
       "      <th>5</th>\n",
       "      <td>2014-04-21</td>\n",
       "      <td>Vanguard Real Estate ETF (VNQ)</td>\n",
       "      <td>VNQ</td>\n",
       "      <td>11</td>\n",
       "      <td>58.28</td>\n",
       "      <td>641.08</td>\n",
       "      <td>2018-12-31</td>\n",
       "      <td>0.034</td>\n",
       "      <td>NaN</td>\n",
       "      <td>5</td>\n",
       "      <td>...</td>\n",
       "      <td>0.158837</td>\n",
       "      <td>9253.56</td>\n",
       "      <td>10336.879719</td>\n",
       "      <td>14360.816858</td>\n",
       "      <td>1.117071</td>\n",
       "      <td>0.117071</td>\n",
       "      <td>0.551923</td>\n",
       "      <td>79.396973</td>\n",
       "      <td>2019-04-12</td>\n",
       "      <td>-0.029074</td>\n",
       "    </tr>\n",
       "    <tr>\n",
       "      <th>6</th>\n",
       "      <td>2014-04-21</td>\n",
       "      <td>Vanguard Total Stock Market ETF (VTI)</td>\n",
       "      <td>VTI</td>\n",
       "      <td>72</td>\n",
       "      <td>88.20</td>\n",
       "      <td>6350.40</td>\n",
       "      <td>2018-12-31</td>\n",
       "      <td>0.500</td>\n",
       "      <td>NaN</td>\n",
       "      <td>6</td>\n",
       "      <td>...</td>\n",
       "      <td>0.158837</td>\n",
       "      <td>15603.96</td>\n",
       "      <td>20516.444416</td>\n",
       "      <td>24216.151601</td>\n",
       "      <td>1.314823</td>\n",
       "      <td>0.314823</td>\n",
       "      <td>0.551923</td>\n",
       "      <td>141.990143</td>\n",
       "      <td>2018-09-20</td>\n",
       "      <td>-0.004277</td>\n",
       "    </tr>\n",
       "    <tr>\n",
       "      <th>7</th>\n",
       "      <td>2014-05-05</td>\n",
       "      <td>Vanguard Total Stock Market ETF (VTI)</td>\n",
       "      <td>VTI</td>\n",
       "      <td>32</td>\n",
       "      <td>88.67</td>\n",
       "      <td>2837.44</td>\n",
       "      <td>2018-12-31</td>\n",
       "      <td>0.500</td>\n",
       "      <td>NaN</td>\n",
       "      <td>7</td>\n",
       "      <td>...</td>\n",
       "      <td>0.158837</td>\n",
       "      <td>18441.40</td>\n",
       "      <td>25040.695393</td>\n",
       "      <td>28589.804280</td>\n",
       "      <td>1.357852</td>\n",
       "      <td>0.357852</td>\n",
       "      <td>0.550306</td>\n",
       "      <td>141.990143</td>\n",
       "      <td>2018-09-20</td>\n",
       "      <td>-0.004277</td>\n",
       "    </tr>\n",
       "  </tbody>\n",
       "</table>\n",
       "<p>5 rows × 37 columns</p>\n",
       "</div>"
      ],
      "text/plain": [
       "  Acquisition Date                                        Position Ticker  \\\n",
       "3       2014-04-21  iShares International Treasury Bond ETF (IGOV)   IGOV   \n",
       "4       2014-04-21           Vanguard FTSE All-Wld ex-US ETF (VEU)    VEU   \n",
       "5       2014-04-21                  Vanguard Real Estate ETF (VNQ)    VNQ   \n",
       "6       2014-04-21           Vanguard Total Stock Market ETF (VTI)    VTI   \n",
       "7       2014-05-05           Vanguard Total Stock Market ETF (VTI)    VTI   \n",
       "\n",
       "   Quantity  Unit Cost  Cost Basis Start of Year  Target_Alloc  Comments  \\\n",
       "3         8      50.72      405.76    2018-12-31         0.023       NaN   \n",
       "4       105      43.92     4611.60    2018-12-31         0.250       NaN   \n",
       "5        11      58.28      641.08    2018-12-31         0.034       NaN   \n",
       "6        72      88.20     6350.40    2018-12-31         0.500       NaN   \n",
       "7        32      88.67     2837.44    2018-12-31         0.500       NaN   \n",
       "\n",
       "   Counts  ... SP 500 YTD Cum Invst  Cum Ticker Returns  Cum SP Returns  \\\n",
       "3       3  ...   0.158837   4000.88         4498.544773     6209.059535   \n",
       "4       4  ...   0.158837   8612.48         9488.905453    13365.909765   \n",
       "5       5  ...   0.158837   9253.56        10336.879719    14360.816858   \n",
       "6       6  ...   0.158837  15603.96        20516.444416    24216.151601   \n",
       "7       7  ...   0.158837  18441.40        25040.695393    28589.804280   \n",
       "\n",
       "   Cum Ticker ROI Mult  Cum Ticker ROI Pct  Cum SP ROI Pct  \\\n",
       "3             1.124389            0.124389        0.551923   \n",
       "4             1.101762            0.101762        0.551923   \n",
       "5             1.117071            0.117071        0.551923   \n",
       "6             1.314823            0.314823        0.551923   \n",
       "7             1.357852            0.357852        0.550306   \n",
       "\n",
       "   Closing High Adj Close  Closing High Adj Close Date  Pct off High  \n",
       "3               51.578995                   2018-03-26     -0.060998  \n",
       "4               52.347305                   2018-01-26     -0.092078  \n",
       "5               79.396973                   2019-04-12     -0.029074  \n",
       "6              141.990143                   2018-09-20     -0.004277  \n",
       "7              141.990143                   2018-09-20     -0.004277  \n",
       "\n",
       "[5 rows x 37 columns]"
      ]
     },
     "execution_count": 94,
     "metadata": {},
     "output_type": "execute_result"
    }
   ],
   "source": [
    "merged_portfolio_sp_latest_YTD_sp_closing_high.tail()"
   ]
  },
  {
   "cell_type": "markdown",
   "metadata": {},
   "source": [
    "## Performance Visualizations"
   ]
  },
  {
   "cell_type": "markdown",
   "metadata": {},
   "source": [
    "### Allocation relative to Target"
   ]
  },
  {
   "cell_type": "code",
   "execution_count": 95,
   "metadata": {},
   "outputs": [
    {
     "data": {
      "application/vnd.plotly.v1+json": {
       "config": {
        "linkText": "Export to plot.ly",
        "plotlyServerURL": "https://plot.ly",
        "showLink": false
       },
       "data": [
        {
         "name": "Target Allocation",
         "type": "bar",
         "x": [
          "VTI",
          "VEU",
          "AGG",
          "VNQ",
          "DBC",
          "IAU",
          "IGOV"
         ],
         "y": [
          0.5,
          0.25,
          0.127,
          0.034,
          0.033,
          0.033,
          0.023
         ]
        },
        {
         "name": "Current Allocation",
         "type": "bar",
         "x": [
          "VTI",
          "VEU",
          "AGG",
          "VNQ",
          "DBC",
          "IAU",
          "IGOV"
         ],
         "y": [
          0.5871967788150287,
          0.199290019761172,
          0.10135842178107347,
          0.033863846540881044,
          0.014017074144001291,
          0.04880056274569688,
          0.015473296212146624
         ]
        }
       ],
       "layout": {
        "barmode": "group",
        "legend": {
         "x": 0.8,
         "y": 1.2
        },
        "template": {
         "data": {
          "bar": [
           {
            "error_x": {
             "color": "#2a3f5f"
            },
            "error_y": {
             "color": "#2a3f5f"
            },
            "marker": {
             "line": {
              "color": "#E5ECF6",
              "width": 0.5
             },
             "pattern": {
              "fillmode": "overlay",
              "size": 10,
              "solidity": 0.2
             }
            },
            "type": "bar"
           }
          ],
          "barpolar": [
           {
            "marker": {
             "line": {
              "color": "#E5ECF6",
              "width": 0.5
             },
             "pattern": {
              "fillmode": "overlay",
              "size": 10,
              "solidity": 0.2
             }
            },
            "type": "barpolar"
           }
          ],
          "carpet": [
           {
            "aaxis": {
             "endlinecolor": "#2a3f5f",
             "gridcolor": "white",
             "linecolor": "white",
             "minorgridcolor": "white",
             "startlinecolor": "#2a3f5f"
            },
            "baxis": {
             "endlinecolor": "#2a3f5f",
             "gridcolor": "white",
             "linecolor": "white",
             "minorgridcolor": "white",
             "startlinecolor": "#2a3f5f"
            },
            "type": "carpet"
           }
          ],
          "choropleth": [
           {
            "colorbar": {
             "outlinewidth": 0,
             "ticks": ""
            },
            "type": "choropleth"
           }
          ],
          "contour": [
           {
            "colorbar": {
             "outlinewidth": 0,
             "ticks": ""
            },
            "colorscale": [
             [
              0,
              "#0d0887"
             ],
             [
              0.1111111111111111,
              "#46039f"
             ],
             [
              0.2222222222222222,
              "#7201a8"
             ],
             [
              0.3333333333333333,
              "#9c179e"
             ],
             [
              0.4444444444444444,
              "#bd3786"
             ],
             [
              0.5555555555555556,
              "#d8576b"
             ],
             [
              0.6666666666666666,
              "#ed7953"
             ],
             [
              0.7777777777777778,
              "#fb9f3a"
             ],
             [
              0.8888888888888888,
              "#fdca26"
             ],
             [
              1,
              "#f0f921"
             ]
            ],
            "type": "contour"
           }
          ],
          "contourcarpet": [
           {
            "colorbar": {
             "outlinewidth": 0,
             "ticks": ""
            },
            "type": "contourcarpet"
           }
          ],
          "heatmap": [
           {
            "colorbar": {
             "outlinewidth": 0,
             "ticks": ""
            },
            "colorscale": [
             [
              0,
              "#0d0887"
             ],
             [
              0.1111111111111111,
              "#46039f"
             ],
             [
              0.2222222222222222,
              "#7201a8"
             ],
             [
              0.3333333333333333,
              "#9c179e"
             ],
             [
              0.4444444444444444,
              "#bd3786"
             ],
             [
              0.5555555555555556,
              "#d8576b"
             ],
             [
              0.6666666666666666,
              "#ed7953"
             ],
             [
              0.7777777777777778,
              "#fb9f3a"
             ],
             [
              0.8888888888888888,
              "#fdca26"
             ],
             [
              1,
              "#f0f921"
             ]
            ],
            "type": "heatmap"
           }
          ],
          "heatmapgl": [
           {
            "colorbar": {
             "outlinewidth": 0,
             "ticks": ""
            },
            "colorscale": [
             [
              0,
              "#0d0887"
             ],
             [
              0.1111111111111111,
              "#46039f"
             ],
             [
              0.2222222222222222,
              "#7201a8"
             ],
             [
              0.3333333333333333,
              "#9c179e"
             ],
             [
              0.4444444444444444,
              "#bd3786"
             ],
             [
              0.5555555555555556,
              "#d8576b"
             ],
             [
              0.6666666666666666,
              "#ed7953"
             ],
             [
              0.7777777777777778,
              "#fb9f3a"
             ],
             [
              0.8888888888888888,
              "#fdca26"
             ],
             [
              1,
              "#f0f921"
             ]
            ],
            "type": "heatmapgl"
           }
          ],
          "histogram": [
           {
            "marker": {
             "pattern": {
              "fillmode": "overlay",
              "size": 10,
              "solidity": 0.2
             }
            },
            "type": "histogram"
           }
          ],
          "histogram2d": [
           {
            "colorbar": {
             "outlinewidth": 0,
             "ticks": ""
            },
            "colorscale": [
             [
              0,
              "#0d0887"
             ],
             [
              0.1111111111111111,
              "#46039f"
             ],
             [
              0.2222222222222222,
              "#7201a8"
             ],
             [
              0.3333333333333333,
              "#9c179e"
             ],
             [
              0.4444444444444444,
              "#bd3786"
             ],
             [
              0.5555555555555556,
              "#d8576b"
             ],
             [
              0.6666666666666666,
              "#ed7953"
             ],
             [
              0.7777777777777778,
              "#fb9f3a"
             ],
             [
              0.8888888888888888,
              "#fdca26"
             ],
             [
              1,
              "#f0f921"
             ]
            ],
            "type": "histogram2d"
           }
          ],
          "histogram2dcontour": [
           {
            "colorbar": {
             "outlinewidth": 0,
             "ticks": ""
            },
            "colorscale": [
             [
              0,
              "#0d0887"
             ],
             [
              0.1111111111111111,
              "#46039f"
             ],
             [
              0.2222222222222222,
              "#7201a8"
             ],
             [
              0.3333333333333333,
              "#9c179e"
             ],
             [
              0.4444444444444444,
              "#bd3786"
             ],
             [
              0.5555555555555556,
              "#d8576b"
             ],
             [
              0.6666666666666666,
              "#ed7953"
             ],
             [
              0.7777777777777778,
              "#fb9f3a"
             ],
             [
              0.8888888888888888,
              "#fdca26"
             ],
             [
              1,
              "#f0f921"
             ]
            ],
            "type": "histogram2dcontour"
           }
          ],
          "mesh3d": [
           {
            "colorbar": {
             "outlinewidth": 0,
             "ticks": ""
            },
            "type": "mesh3d"
           }
          ],
          "parcoords": [
           {
            "line": {
             "colorbar": {
              "outlinewidth": 0,
              "ticks": ""
             }
            },
            "type": "parcoords"
           }
          ],
          "pie": [
           {
            "automargin": true,
            "type": "pie"
           }
          ],
          "scatter": [
           {
            "marker": {
             "colorbar": {
              "outlinewidth": 0,
              "ticks": ""
             }
            },
            "type": "scatter"
           }
          ],
          "scatter3d": [
           {
            "line": {
             "colorbar": {
              "outlinewidth": 0,
              "ticks": ""
             }
            },
            "marker": {
             "colorbar": {
              "outlinewidth": 0,
              "ticks": ""
             }
            },
            "type": "scatter3d"
           }
          ],
          "scattercarpet": [
           {
            "marker": {
             "colorbar": {
              "outlinewidth": 0,
              "ticks": ""
             }
            },
            "type": "scattercarpet"
           }
          ],
          "scattergeo": [
           {
            "marker": {
             "colorbar": {
              "outlinewidth": 0,
              "ticks": ""
             }
            },
            "type": "scattergeo"
           }
          ],
          "scattergl": [
           {
            "marker": {
             "colorbar": {
              "outlinewidth": 0,
              "ticks": ""
             }
            },
            "type": "scattergl"
           }
          ],
          "scattermapbox": [
           {
            "marker": {
             "colorbar": {
              "outlinewidth": 0,
              "ticks": ""
             }
            },
            "type": "scattermapbox"
           }
          ],
          "scatterpolar": [
           {
            "marker": {
             "colorbar": {
              "outlinewidth": 0,
              "ticks": ""
             }
            },
            "type": "scatterpolar"
           }
          ],
          "scatterpolargl": [
           {
            "marker": {
             "colorbar": {
              "outlinewidth": 0,
              "ticks": ""
             }
            },
            "type": "scatterpolargl"
           }
          ],
          "scatterternary": [
           {
            "marker": {
             "colorbar": {
              "outlinewidth": 0,
              "ticks": ""
             }
            },
            "type": "scatterternary"
           }
          ],
          "surface": [
           {
            "colorbar": {
             "outlinewidth": 0,
             "ticks": ""
            },
            "colorscale": [
             [
              0,
              "#0d0887"
             ],
             [
              0.1111111111111111,
              "#46039f"
             ],
             [
              0.2222222222222222,
              "#7201a8"
             ],
             [
              0.3333333333333333,
              "#9c179e"
             ],
             [
              0.4444444444444444,
              "#bd3786"
             ],
             [
              0.5555555555555556,
              "#d8576b"
             ],
             [
              0.6666666666666666,
              "#ed7953"
             ],
             [
              0.7777777777777778,
              "#fb9f3a"
             ],
             [
              0.8888888888888888,
              "#fdca26"
             ],
             [
              1,
              "#f0f921"
             ]
            ],
            "type": "surface"
           }
          ],
          "table": [
           {
            "cells": {
             "fill": {
              "color": "#EBF0F8"
             },
             "line": {
              "color": "white"
             }
            },
            "header": {
             "fill": {
              "color": "#C8D4E3"
             },
             "line": {
              "color": "white"
             }
            },
            "type": "table"
           }
          ]
         },
         "layout": {
          "annotationdefaults": {
           "arrowcolor": "#2a3f5f",
           "arrowhead": 0,
           "arrowwidth": 1
          },
          "autotypenumbers": "strict",
          "coloraxis": {
           "colorbar": {
            "outlinewidth": 0,
            "ticks": ""
           }
          },
          "colorscale": {
           "diverging": [
            [
             0,
             "#8e0152"
            ],
            [
             0.1,
             "#c51b7d"
            ],
            [
             0.2,
             "#de77ae"
            ],
            [
             0.3,
             "#f1b6da"
            ],
            [
             0.4,
             "#fde0ef"
            ],
            [
             0.5,
             "#f7f7f7"
            ],
            [
             0.6,
             "#e6f5d0"
            ],
            [
             0.7,
             "#b8e186"
            ],
            [
             0.8,
             "#7fbc41"
            ],
            [
             0.9,
             "#4d9221"
            ],
            [
             1,
             "#276419"
            ]
           ],
           "sequential": [
            [
             0,
             "#0d0887"
            ],
            [
             0.1111111111111111,
             "#46039f"
            ],
            [
             0.2222222222222222,
             "#7201a8"
            ],
            [
             0.3333333333333333,
             "#9c179e"
            ],
            [
             0.4444444444444444,
             "#bd3786"
            ],
            [
             0.5555555555555556,
             "#d8576b"
            ],
            [
             0.6666666666666666,
             "#ed7953"
            ],
            [
             0.7777777777777778,
             "#fb9f3a"
            ],
            [
             0.8888888888888888,
             "#fdca26"
            ],
            [
             1,
             "#f0f921"
            ]
           ],
           "sequentialminus": [
            [
             0,
             "#0d0887"
            ],
            [
             0.1111111111111111,
             "#46039f"
            ],
            [
             0.2222222222222222,
             "#7201a8"
            ],
            [
             0.3333333333333333,
             "#9c179e"
            ],
            [
             0.4444444444444444,
             "#bd3786"
            ],
            [
             0.5555555555555556,
             "#d8576b"
            ],
            [
             0.6666666666666666,
             "#ed7953"
            ],
            [
             0.7777777777777778,
             "#fb9f3a"
            ],
            [
             0.8888888888888888,
             "#fdca26"
            ],
            [
             1,
             "#f0f921"
            ]
           ]
          },
          "colorway": [
           "#636efa",
           "#EF553B",
           "#00cc96",
           "#ab63fa",
           "#FFA15A",
           "#19d3f3",
           "#FF6692",
           "#B6E880",
           "#FF97FF",
           "#FECB52"
          ],
          "font": {
           "color": "#2a3f5f"
          },
          "geo": {
           "bgcolor": "white",
           "lakecolor": "white",
           "landcolor": "#E5ECF6",
           "showlakes": true,
           "showland": true,
           "subunitcolor": "white"
          },
          "hoverlabel": {
           "align": "left"
          },
          "hovermode": "closest",
          "mapbox": {
           "style": "light"
          },
          "paper_bgcolor": "white",
          "plot_bgcolor": "#E5ECF6",
          "polar": {
           "angularaxis": {
            "gridcolor": "white",
            "linecolor": "white",
            "ticks": ""
           },
           "bgcolor": "#E5ECF6",
           "radialaxis": {
            "gridcolor": "white",
            "linecolor": "white",
            "ticks": ""
           }
          },
          "scene": {
           "xaxis": {
            "backgroundcolor": "#E5ECF6",
            "gridcolor": "white",
            "gridwidth": 2,
            "linecolor": "white",
            "showbackground": true,
            "ticks": "",
            "zerolinecolor": "white"
           },
           "yaxis": {
            "backgroundcolor": "#E5ECF6",
            "gridcolor": "white",
            "gridwidth": 2,
            "linecolor": "white",
            "showbackground": true,
            "ticks": "",
            "zerolinecolor": "white"
           },
           "zaxis": {
            "backgroundcolor": "#E5ECF6",
            "gridcolor": "white",
            "gridwidth": 2,
            "linecolor": "white",
            "showbackground": true,
            "ticks": "",
            "zerolinecolor": "white"
           }
          },
          "shapedefaults": {
           "line": {
            "color": "#2a3f5f"
           }
          },
          "ternary": {
           "aaxis": {
            "gridcolor": "white",
            "linecolor": "white",
            "ticks": ""
           },
           "baxis": {
            "gridcolor": "white",
            "linecolor": "white",
            "ticks": ""
           },
           "bgcolor": "#E5ECF6",
           "caxis": {
            "gridcolor": "white",
            "linecolor": "white",
            "ticks": ""
           }
          },
          "title": {
           "x": 0.05
          },
          "xaxis": {
           "automargin": true,
           "gridcolor": "white",
           "linecolor": "white",
           "ticks": "",
           "title": {
            "standoff": 15
           },
           "zerolinecolor": "white",
           "zerolinewidth": 2
          },
          "yaxis": {
           "automargin": true,
           "gridcolor": "white",
           "linecolor": "white",
           "ticks": "",
           "title": {
            "standoff": 15
           },
           "zerolinecolor": "white",
           "zerolinewidth": 2
          }
         }
        },
        "title": {
         "text": "Target Allocation versus Current Allocation"
        },
        "xaxis": {
         "title": {
          "text": "Ticker"
         }
        },
        "yaxis": {
         "tickformat": ".2%",
         "title": {
          "text": "Allocations"
         }
        }
       }
      },
      "text/html": [
       "<div>                            <div id=\"71a529ca-2b5b-423c-83fa-90c4cb90ce6e\" class=\"plotly-graph-div\" style=\"height:525px; width:100%;\"></div>            <script type=\"text/javascript\">                require([\"plotly\"], function(Plotly) {                    window.PLOTLYENV=window.PLOTLYENV || {};                                    if (document.getElementById(\"71a529ca-2b5b-423c-83fa-90c4cb90ce6e\")) {                    Plotly.newPlot(                        \"71a529ca-2b5b-423c-83fa-90c4cb90ce6e\",                        [{\"name\":\"Target Allocation\",\"x\":[\"VTI\",\"VEU\",\"AGG\",\"VNQ\",\"DBC\",\"IAU\",\"IGOV\"],\"y\":[0.5,0.25,0.127,0.034,0.033,0.033,0.023],\"type\":\"bar\"},{\"name\":\"Current Allocation\",\"x\":[\"VTI\",\"VEU\",\"AGG\",\"VNQ\",\"DBC\",\"IAU\",\"IGOV\"],\"y\":[0.5871967788150287,0.199290019761172,0.10135842178107347,0.033863846540881044,0.014017074144001291,0.04880056274569688,0.015473296212146624],\"type\":\"bar\"}],                        {\"barmode\":\"group\",\"legend\":{\"x\":0.8,\"y\":1.2},\"template\":{\"data\":{\"barpolar\":[{\"marker\":{\"line\":{\"color\":\"#E5ECF6\",\"width\":0.5},\"pattern\":{\"fillmode\":\"overlay\",\"size\":10,\"solidity\":0.2}},\"type\":\"barpolar\"}],\"bar\":[{\"error_x\":{\"color\":\"#2a3f5f\"},\"error_y\":{\"color\":\"#2a3f5f\"},\"marker\":{\"line\":{\"color\":\"#E5ECF6\",\"width\":0.5},\"pattern\":{\"fillmode\":\"overlay\",\"size\":10,\"solidity\":0.2}},\"type\":\"bar\"}],\"carpet\":[{\"aaxis\":{\"endlinecolor\":\"#2a3f5f\",\"gridcolor\":\"white\",\"linecolor\":\"white\",\"minorgridcolor\":\"white\",\"startlinecolor\":\"#2a3f5f\"},\"baxis\":{\"endlinecolor\":\"#2a3f5f\",\"gridcolor\":\"white\",\"linecolor\":\"white\",\"minorgridcolor\":\"white\",\"startlinecolor\":\"#2a3f5f\"},\"type\":\"carpet\"}],\"choropleth\":[{\"colorbar\":{\"outlinewidth\":0,\"ticks\":\"\"},\"type\":\"choropleth\"}],\"contourcarpet\":[{\"colorbar\":{\"outlinewidth\":0,\"ticks\":\"\"},\"type\":\"contourcarpet\"}],\"contour\":[{\"colorbar\":{\"outlinewidth\":0,\"ticks\":\"\"},\"colorscale\":[[0.0,\"#0d0887\"],[0.1111111111111111,\"#46039f\"],[0.2222222222222222,\"#7201a8\"],[0.3333333333333333,\"#9c179e\"],[0.4444444444444444,\"#bd3786\"],[0.5555555555555556,\"#d8576b\"],[0.6666666666666666,\"#ed7953\"],[0.7777777777777778,\"#fb9f3a\"],[0.8888888888888888,\"#fdca26\"],[1.0,\"#f0f921\"]],\"type\":\"contour\"}],\"heatmapgl\":[{\"colorbar\":{\"outlinewidth\":0,\"ticks\":\"\"},\"colorscale\":[[0.0,\"#0d0887\"],[0.1111111111111111,\"#46039f\"],[0.2222222222222222,\"#7201a8\"],[0.3333333333333333,\"#9c179e\"],[0.4444444444444444,\"#bd3786\"],[0.5555555555555556,\"#d8576b\"],[0.6666666666666666,\"#ed7953\"],[0.7777777777777778,\"#fb9f3a\"],[0.8888888888888888,\"#fdca26\"],[1.0,\"#f0f921\"]],\"type\":\"heatmapgl\"}],\"heatmap\":[{\"colorbar\":{\"outlinewidth\":0,\"ticks\":\"\"},\"colorscale\":[[0.0,\"#0d0887\"],[0.1111111111111111,\"#46039f\"],[0.2222222222222222,\"#7201a8\"],[0.3333333333333333,\"#9c179e\"],[0.4444444444444444,\"#bd3786\"],[0.5555555555555556,\"#d8576b\"],[0.6666666666666666,\"#ed7953\"],[0.7777777777777778,\"#fb9f3a\"],[0.8888888888888888,\"#fdca26\"],[1.0,\"#f0f921\"]],\"type\":\"heatmap\"}],\"histogram2dcontour\":[{\"colorbar\":{\"outlinewidth\":0,\"ticks\":\"\"},\"colorscale\":[[0.0,\"#0d0887\"],[0.1111111111111111,\"#46039f\"],[0.2222222222222222,\"#7201a8\"],[0.3333333333333333,\"#9c179e\"],[0.4444444444444444,\"#bd3786\"],[0.5555555555555556,\"#d8576b\"],[0.6666666666666666,\"#ed7953\"],[0.7777777777777778,\"#fb9f3a\"],[0.8888888888888888,\"#fdca26\"],[1.0,\"#f0f921\"]],\"type\":\"histogram2dcontour\"}],\"histogram2d\":[{\"colorbar\":{\"outlinewidth\":0,\"ticks\":\"\"},\"colorscale\":[[0.0,\"#0d0887\"],[0.1111111111111111,\"#46039f\"],[0.2222222222222222,\"#7201a8\"],[0.3333333333333333,\"#9c179e\"],[0.4444444444444444,\"#bd3786\"],[0.5555555555555556,\"#d8576b\"],[0.6666666666666666,\"#ed7953\"],[0.7777777777777778,\"#fb9f3a\"],[0.8888888888888888,\"#fdca26\"],[1.0,\"#f0f921\"]],\"type\":\"histogram2d\"}],\"histogram\":[{\"marker\":{\"pattern\":{\"fillmode\":\"overlay\",\"size\":10,\"solidity\":0.2}},\"type\":\"histogram\"}],\"mesh3d\":[{\"colorbar\":{\"outlinewidth\":0,\"ticks\":\"\"},\"type\":\"mesh3d\"}],\"parcoords\":[{\"line\":{\"colorbar\":{\"outlinewidth\":0,\"ticks\":\"\"}},\"type\":\"parcoords\"}],\"pie\":[{\"automargin\":true,\"type\":\"pie\"}],\"scatter3d\":[{\"line\":{\"colorbar\":{\"outlinewidth\":0,\"ticks\":\"\"}},\"marker\":{\"colorbar\":{\"outlinewidth\":0,\"ticks\":\"\"}},\"type\":\"scatter3d\"}],\"scattercarpet\":[{\"marker\":{\"colorbar\":{\"outlinewidth\":0,\"ticks\":\"\"}},\"type\":\"scattercarpet\"}],\"scattergeo\":[{\"marker\":{\"colorbar\":{\"outlinewidth\":0,\"ticks\":\"\"}},\"type\":\"scattergeo\"}],\"scattergl\":[{\"marker\":{\"colorbar\":{\"outlinewidth\":0,\"ticks\":\"\"}},\"type\":\"scattergl\"}],\"scattermapbox\":[{\"marker\":{\"colorbar\":{\"outlinewidth\":0,\"ticks\":\"\"}},\"type\":\"scattermapbox\"}],\"scatterpolargl\":[{\"marker\":{\"colorbar\":{\"outlinewidth\":0,\"ticks\":\"\"}},\"type\":\"scatterpolargl\"}],\"scatterpolar\":[{\"marker\":{\"colorbar\":{\"outlinewidth\":0,\"ticks\":\"\"}},\"type\":\"scatterpolar\"}],\"scatter\":[{\"marker\":{\"colorbar\":{\"outlinewidth\":0,\"ticks\":\"\"}},\"type\":\"scatter\"}],\"scatterternary\":[{\"marker\":{\"colorbar\":{\"outlinewidth\":0,\"ticks\":\"\"}},\"type\":\"scatterternary\"}],\"surface\":[{\"colorbar\":{\"outlinewidth\":0,\"ticks\":\"\"},\"colorscale\":[[0.0,\"#0d0887\"],[0.1111111111111111,\"#46039f\"],[0.2222222222222222,\"#7201a8\"],[0.3333333333333333,\"#9c179e\"],[0.4444444444444444,\"#bd3786\"],[0.5555555555555556,\"#d8576b\"],[0.6666666666666666,\"#ed7953\"],[0.7777777777777778,\"#fb9f3a\"],[0.8888888888888888,\"#fdca26\"],[1.0,\"#f0f921\"]],\"type\":\"surface\"}],\"table\":[{\"cells\":{\"fill\":{\"color\":\"#EBF0F8\"},\"line\":{\"color\":\"white\"}},\"header\":{\"fill\":{\"color\":\"#C8D4E3\"},\"line\":{\"color\":\"white\"}},\"type\":\"table\"}]},\"layout\":{\"annotationdefaults\":{\"arrowcolor\":\"#2a3f5f\",\"arrowhead\":0,\"arrowwidth\":1},\"autotypenumbers\":\"strict\",\"coloraxis\":{\"colorbar\":{\"outlinewidth\":0,\"ticks\":\"\"}},\"colorscale\":{\"diverging\":[[0,\"#8e0152\"],[0.1,\"#c51b7d\"],[0.2,\"#de77ae\"],[0.3,\"#f1b6da\"],[0.4,\"#fde0ef\"],[0.5,\"#f7f7f7\"],[0.6,\"#e6f5d0\"],[0.7,\"#b8e186\"],[0.8,\"#7fbc41\"],[0.9,\"#4d9221\"],[1,\"#276419\"]],\"sequential\":[[0.0,\"#0d0887\"],[0.1111111111111111,\"#46039f\"],[0.2222222222222222,\"#7201a8\"],[0.3333333333333333,\"#9c179e\"],[0.4444444444444444,\"#bd3786\"],[0.5555555555555556,\"#d8576b\"],[0.6666666666666666,\"#ed7953\"],[0.7777777777777778,\"#fb9f3a\"],[0.8888888888888888,\"#fdca26\"],[1.0,\"#f0f921\"]],\"sequentialminus\":[[0.0,\"#0d0887\"],[0.1111111111111111,\"#46039f\"],[0.2222222222222222,\"#7201a8\"],[0.3333333333333333,\"#9c179e\"],[0.4444444444444444,\"#bd3786\"],[0.5555555555555556,\"#d8576b\"],[0.6666666666666666,\"#ed7953\"],[0.7777777777777778,\"#fb9f3a\"],[0.8888888888888888,\"#fdca26\"],[1.0,\"#f0f921\"]]},\"colorway\":[\"#636efa\",\"#EF553B\",\"#00cc96\",\"#ab63fa\",\"#FFA15A\",\"#19d3f3\",\"#FF6692\",\"#B6E880\",\"#FF97FF\",\"#FECB52\"],\"font\":{\"color\":\"#2a3f5f\"},\"geo\":{\"bgcolor\":\"white\",\"lakecolor\":\"white\",\"landcolor\":\"#E5ECF6\",\"showlakes\":true,\"showland\":true,\"subunitcolor\":\"white\"},\"hoverlabel\":{\"align\":\"left\"},\"hovermode\":\"closest\",\"mapbox\":{\"style\":\"light\"},\"paper_bgcolor\":\"white\",\"plot_bgcolor\":\"#E5ECF6\",\"polar\":{\"angularaxis\":{\"gridcolor\":\"white\",\"linecolor\":\"white\",\"ticks\":\"\"},\"bgcolor\":\"#E5ECF6\",\"radialaxis\":{\"gridcolor\":\"white\",\"linecolor\":\"white\",\"ticks\":\"\"}},\"scene\":{\"xaxis\":{\"backgroundcolor\":\"#E5ECF6\",\"gridcolor\":\"white\",\"gridwidth\":2,\"linecolor\":\"white\",\"showbackground\":true,\"ticks\":\"\",\"zerolinecolor\":\"white\"},\"yaxis\":{\"backgroundcolor\":\"#E5ECF6\",\"gridcolor\":\"white\",\"gridwidth\":2,\"linecolor\":\"white\",\"showbackground\":true,\"ticks\":\"\",\"zerolinecolor\":\"white\"},\"zaxis\":{\"backgroundcolor\":\"#E5ECF6\",\"gridcolor\":\"white\",\"gridwidth\":2,\"linecolor\":\"white\",\"showbackground\":true,\"ticks\":\"\",\"zerolinecolor\":\"white\"}},\"shapedefaults\":{\"line\":{\"color\":\"#2a3f5f\"}},\"ternary\":{\"aaxis\":{\"gridcolor\":\"white\",\"linecolor\":\"white\",\"ticks\":\"\"},\"baxis\":{\"gridcolor\":\"white\",\"linecolor\":\"white\",\"ticks\":\"\"},\"bgcolor\":\"#E5ECF6\",\"caxis\":{\"gridcolor\":\"white\",\"linecolor\":\"white\",\"ticks\":\"\"}},\"title\":{\"x\":0.05},\"xaxis\":{\"automargin\":true,\"gridcolor\":\"white\",\"linecolor\":\"white\",\"ticks\":\"\",\"title\":{\"standoff\":15},\"zerolinecolor\":\"white\",\"zerolinewidth\":2},\"yaxis\":{\"automargin\":true,\"gridcolor\":\"white\",\"linecolor\":\"white\",\"ticks\":\"\",\"title\":{\"standoff\":15},\"zerolinecolor\":\"white\",\"zerolinewidth\":2}}},\"title\":{\"text\":\"Target Allocation versus Current Allocation\"},\"xaxis\":{\"title\":{\"text\":\"Ticker\"}},\"yaxis\":{\"tickformat\":\".2%\",\"title\":{\"text\":\"Allocations\"}}},                        {\"responsive\": true}                    ).then(function(){\n",
       "                            \n",
       "var gd = document.getElementById('71a529ca-2b5b-423c-83fa-90c4cb90ce6e');\n",
       "var x = new MutationObserver(function (mutations, observer) {{\n",
       "        var display = window.getComputedStyle(gd).display;\n",
       "        if (!display || display === 'none') {{\n",
       "            console.log([gd, 'removed!']);\n",
       "            Plotly.purge(gd);\n",
       "            observer.disconnect();\n",
       "        }}\n",
       "}});\n",
       "\n",
       "// Listen for the removal of the full notebook cells\n",
       "var notebookContainer = gd.closest('#notebook-container');\n",
       "if (notebookContainer) {{\n",
       "    x.observe(notebookContainer, {childList: true});\n",
       "}}\n",
       "\n",
       "// Listen for the clearing of the current output cell\n",
       "var outputEl = gd.closest('.output');\n",
       "if (outputEl) {{\n",
       "    x.observe(outputEl, {childList: true});\n",
       "}}\n",
       "\n",
       "                        })                };                });            </script>        </div>"
      ]
     },
     "metadata": {},
     "output_type": "display_data"
    }
   ],
   "source": [
    "trace1 = go.Bar(\n",
    "    x = merged_portfolio_sp_latest_YTD_sp_contr_subset_pivot['Ticker'],\n",
    "    y = merged_portfolio_sp_latest_YTD_sp_contr_subset_pivot['Target_Alloc'],\n",
    "    name = 'Target Allocation')\n",
    "\n",
    "trace2 = go.Bar(\n",
    "    x = merged_portfolio_sp_latest_YTD_sp_contr_subset_pivot['Ticker'],\n",
    "    y = merged_portfolio_sp_latest_YTD_sp_contr_subset_pivot['Allocation'],\n",
    "    name = 'Current Allocation')\n",
    "    \n",
    "data = [trace1, trace2]\n",
    "\n",
    "layout = go.Layout(title = 'Target Allocation versus Current Allocation'\n",
    "    , barmode = 'group'\n",
    "    , yaxis=dict(title='Allocations', tickformat=\".2%\")\n",
    "    , xaxis=dict(title='Ticker')\n",
    "    , legend=dict(x=0.8,y=1.2)\n",
    "    )\n",
    "\n",
    "fig = go.Figure(data=data, layout=layout)\n",
    "iplot(fig)"
   ]
  },
  {
   "cell_type": "markdown",
   "metadata": {},
   "source": [
    "### YTD Charts."
   ]
  },
  {
   "cell_type": "code",
   "execution_count": 96,
   "metadata": {},
   "outputs": [
    {
     "data": {
      "application/vnd.plotly.v1+json": {
       "config": {
        "linkText": "Export to plot.ly",
        "plotlyServerURL": "https://plot.ly",
        "showLink": false
       },
       "data": [
        {
         "name": "Ticker YTD",
         "type": "bar",
         "x": [
          "AGG",
          "DBC",
          "IAU",
          "IGOV",
          "VEU",
          "VNQ",
          "VTI",
          "VTI"
         ],
         "y": [
          0.02350868975139675,
          0.11870250115184189,
          -0.00569566273730604,
          0.005570478436404125,
          0.13857883333289167,
          0.15463630192870714,
          0.16799848631217396,
          0.16799848631217396
         ]
        },
        {
         "name": "SP500 YTD",
         "type": "scatter",
         "x": [
          "AGG",
          "DBC",
          "IAU",
          "IGOV",
          "VEU",
          "VNQ",
          "VTI",
          "VTI"
         ],
         "y": [
          0.15883675374642414,
          0.15883675374642414,
          0.15883675374642414,
          0.15883675374642414,
          0.15883675374642414,
          0.15883675374642414,
          0.15883675374642414,
          0.15883675374642414
         ]
        }
       ],
       "layout": {
        "barmode": "group",
        "legend": {
         "x": 0.8,
         "y": 1.2
        },
        "template": {
         "data": {
          "bar": [
           {
            "error_x": {
             "color": "#2a3f5f"
            },
            "error_y": {
             "color": "#2a3f5f"
            },
            "marker": {
             "line": {
              "color": "#E5ECF6",
              "width": 0.5
             },
             "pattern": {
              "fillmode": "overlay",
              "size": 10,
              "solidity": 0.2
             }
            },
            "type": "bar"
           }
          ],
          "barpolar": [
           {
            "marker": {
             "line": {
              "color": "#E5ECF6",
              "width": 0.5
             },
             "pattern": {
              "fillmode": "overlay",
              "size": 10,
              "solidity": 0.2
             }
            },
            "type": "barpolar"
           }
          ],
          "carpet": [
           {
            "aaxis": {
             "endlinecolor": "#2a3f5f",
             "gridcolor": "white",
             "linecolor": "white",
             "minorgridcolor": "white",
             "startlinecolor": "#2a3f5f"
            },
            "baxis": {
             "endlinecolor": "#2a3f5f",
             "gridcolor": "white",
             "linecolor": "white",
             "minorgridcolor": "white",
             "startlinecolor": "#2a3f5f"
            },
            "type": "carpet"
           }
          ],
          "choropleth": [
           {
            "colorbar": {
             "outlinewidth": 0,
             "ticks": ""
            },
            "type": "choropleth"
           }
          ],
          "contour": [
           {
            "colorbar": {
             "outlinewidth": 0,
             "ticks": ""
            },
            "colorscale": [
             [
              0,
              "#0d0887"
             ],
             [
              0.1111111111111111,
              "#46039f"
             ],
             [
              0.2222222222222222,
              "#7201a8"
             ],
             [
              0.3333333333333333,
              "#9c179e"
             ],
             [
              0.4444444444444444,
              "#bd3786"
             ],
             [
              0.5555555555555556,
              "#d8576b"
             ],
             [
              0.6666666666666666,
              "#ed7953"
             ],
             [
              0.7777777777777778,
              "#fb9f3a"
             ],
             [
              0.8888888888888888,
              "#fdca26"
             ],
             [
              1,
              "#f0f921"
             ]
            ],
            "type": "contour"
           }
          ],
          "contourcarpet": [
           {
            "colorbar": {
             "outlinewidth": 0,
             "ticks": ""
            },
            "type": "contourcarpet"
           }
          ],
          "heatmap": [
           {
            "colorbar": {
             "outlinewidth": 0,
             "ticks": ""
            },
            "colorscale": [
             [
              0,
              "#0d0887"
             ],
             [
              0.1111111111111111,
              "#46039f"
             ],
             [
              0.2222222222222222,
              "#7201a8"
             ],
             [
              0.3333333333333333,
              "#9c179e"
             ],
             [
              0.4444444444444444,
              "#bd3786"
             ],
             [
              0.5555555555555556,
              "#d8576b"
             ],
             [
              0.6666666666666666,
              "#ed7953"
             ],
             [
              0.7777777777777778,
              "#fb9f3a"
             ],
             [
              0.8888888888888888,
              "#fdca26"
             ],
             [
              1,
              "#f0f921"
             ]
            ],
            "type": "heatmap"
           }
          ],
          "heatmapgl": [
           {
            "colorbar": {
             "outlinewidth": 0,
             "ticks": ""
            },
            "colorscale": [
             [
              0,
              "#0d0887"
             ],
             [
              0.1111111111111111,
              "#46039f"
             ],
             [
              0.2222222222222222,
              "#7201a8"
             ],
             [
              0.3333333333333333,
              "#9c179e"
             ],
             [
              0.4444444444444444,
              "#bd3786"
             ],
             [
              0.5555555555555556,
              "#d8576b"
             ],
             [
              0.6666666666666666,
              "#ed7953"
             ],
             [
              0.7777777777777778,
              "#fb9f3a"
             ],
             [
              0.8888888888888888,
              "#fdca26"
             ],
             [
              1,
              "#f0f921"
             ]
            ],
            "type": "heatmapgl"
           }
          ],
          "histogram": [
           {
            "marker": {
             "pattern": {
              "fillmode": "overlay",
              "size": 10,
              "solidity": 0.2
             }
            },
            "type": "histogram"
           }
          ],
          "histogram2d": [
           {
            "colorbar": {
             "outlinewidth": 0,
             "ticks": ""
            },
            "colorscale": [
             [
              0,
              "#0d0887"
             ],
             [
              0.1111111111111111,
              "#46039f"
             ],
             [
              0.2222222222222222,
              "#7201a8"
             ],
             [
              0.3333333333333333,
              "#9c179e"
             ],
             [
              0.4444444444444444,
              "#bd3786"
             ],
             [
              0.5555555555555556,
              "#d8576b"
             ],
             [
              0.6666666666666666,
              "#ed7953"
             ],
             [
              0.7777777777777778,
              "#fb9f3a"
             ],
             [
              0.8888888888888888,
              "#fdca26"
             ],
             [
              1,
              "#f0f921"
             ]
            ],
            "type": "histogram2d"
           }
          ],
          "histogram2dcontour": [
           {
            "colorbar": {
             "outlinewidth": 0,
             "ticks": ""
            },
            "colorscale": [
             [
              0,
              "#0d0887"
             ],
             [
              0.1111111111111111,
              "#46039f"
             ],
             [
              0.2222222222222222,
              "#7201a8"
             ],
             [
              0.3333333333333333,
              "#9c179e"
             ],
             [
              0.4444444444444444,
              "#bd3786"
             ],
             [
              0.5555555555555556,
              "#d8576b"
             ],
             [
              0.6666666666666666,
              "#ed7953"
             ],
             [
              0.7777777777777778,
              "#fb9f3a"
             ],
             [
              0.8888888888888888,
              "#fdca26"
             ],
             [
              1,
              "#f0f921"
             ]
            ],
            "type": "histogram2dcontour"
           }
          ],
          "mesh3d": [
           {
            "colorbar": {
             "outlinewidth": 0,
             "ticks": ""
            },
            "type": "mesh3d"
           }
          ],
          "parcoords": [
           {
            "line": {
             "colorbar": {
              "outlinewidth": 0,
              "ticks": ""
             }
            },
            "type": "parcoords"
           }
          ],
          "pie": [
           {
            "automargin": true,
            "type": "pie"
           }
          ],
          "scatter": [
           {
            "marker": {
             "colorbar": {
              "outlinewidth": 0,
              "ticks": ""
             }
            },
            "type": "scatter"
           }
          ],
          "scatter3d": [
           {
            "line": {
             "colorbar": {
              "outlinewidth": 0,
              "ticks": ""
             }
            },
            "marker": {
             "colorbar": {
              "outlinewidth": 0,
              "ticks": ""
             }
            },
            "type": "scatter3d"
           }
          ],
          "scattercarpet": [
           {
            "marker": {
             "colorbar": {
              "outlinewidth": 0,
              "ticks": ""
             }
            },
            "type": "scattercarpet"
           }
          ],
          "scattergeo": [
           {
            "marker": {
             "colorbar": {
              "outlinewidth": 0,
              "ticks": ""
             }
            },
            "type": "scattergeo"
           }
          ],
          "scattergl": [
           {
            "marker": {
             "colorbar": {
              "outlinewidth": 0,
              "ticks": ""
             }
            },
            "type": "scattergl"
           }
          ],
          "scattermapbox": [
           {
            "marker": {
             "colorbar": {
              "outlinewidth": 0,
              "ticks": ""
             }
            },
            "type": "scattermapbox"
           }
          ],
          "scatterpolar": [
           {
            "marker": {
             "colorbar": {
              "outlinewidth": 0,
              "ticks": ""
             }
            },
            "type": "scatterpolar"
           }
          ],
          "scatterpolargl": [
           {
            "marker": {
             "colorbar": {
              "outlinewidth": 0,
              "ticks": ""
             }
            },
            "type": "scatterpolargl"
           }
          ],
          "scatterternary": [
           {
            "marker": {
             "colorbar": {
              "outlinewidth": 0,
              "ticks": ""
             }
            },
            "type": "scatterternary"
           }
          ],
          "surface": [
           {
            "colorbar": {
             "outlinewidth": 0,
             "ticks": ""
            },
            "colorscale": [
             [
              0,
              "#0d0887"
             ],
             [
              0.1111111111111111,
              "#46039f"
             ],
             [
              0.2222222222222222,
              "#7201a8"
             ],
             [
              0.3333333333333333,
              "#9c179e"
             ],
             [
              0.4444444444444444,
              "#bd3786"
             ],
             [
              0.5555555555555556,
              "#d8576b"
             ],
             [
              0.6666666666666666,
              "#ed7953"
             ],
             [
              0.7777777777777778,
              "#fb9f3a"
             ],
             [
              0.8888888888888888,
              "#fdca26"
             ],
             [
              1,
              "#f0f921"
             ]
            ],
            "type": "surface"
           }
          ],
          "table": [
           {
            "cells": {
             "fill": {
              "color": "#EBF0F8"
             },
             "line": {
              "color": "white"
             }
            },
            "header": {
             "fill": {
              "color": "#C8D4E3"
             },
             "line": {
              "color": "white"
             }
            },
            "type": "table"
           }
          ]
         },
         "layout": {
          "annotationdefaults": {
           "arrowcolor": "#2a3f5f",
           "arrowhead": 0,
           "arrowwidth": 1
          },
          "autotypenumbers": "strict",
          "coloraxis": {
           "colorbar": {
            "outlinewidth": 0,
            "ticks": ""
           }
          },
          "colorscale": {
           "diverging": [
            [
             0,
             "#8e0152"
            ],
            [
             0.1,
             "#c51b7d"
            ],
            [
             0.2,
             "#de77ae"
            ],
            [
             0.3,
             "#f1b6da"
            ],
            [
             0.4,
             "#fde0ef"
            ],
            [
             0.5,
             "#f7f7f7"
            ],
            [
             0.6,
             "#e6f5d0"
            ],
            [
             0.7,
             "#b8e186"
            ],
            [
             0.8,
             "#7fbc41"
            ],
            [
             0.9,
             "#4d9221"
            ],
            [
             1,
             "#276419"
            ]
           ],
           "sequential": [
            [
             0,
             "#0d0887"
            ],
            [
             0.1111111111111111,
             "#46039f"
            ],
            [
             0.2222222222222222,
             "#7201a8"
            ],
            [
             0.3333333333333333,
             "#9c179e"
            ],
            [
             0.4444444444444444,
             "#bd3786"
            ],
            [
             0.5555555555555556,
             "#d8576b"
            ],
            [
             0.6666666666666666,
             "#ed7953"
            ],
            [
             0.7777777777777778,
             "#fb9f3a"
            ],
            [
             0.8888888888888888,
             "#fdca26"
            ],
            [
             1,
             "#f0f921"
            ]
           ],
           "sequentialminus": [
            [
             0,
             "#0d0887"
            ],
            [
             0.1111111111111111,
             "#46039f"
            ],
            [
             0.2222222222222222,
             "#7201a8"
            ],
            [
             0.3333333333333333,
             "#9c179e"
            ],
            [
             0.4444444444444444,
             "#bd3786"
            ],
            [
             0.5555555555555556,
             "#d8576b"
            ],
            [
             0.6666666666666666,
             "#ed7953"
            ],
            [
             0.7777777777777778,
             "#fb9f3a"
            ],
            [
             0.8888888888888888,
             "#fdca26"
            ],
            [
             1,
             "#f0f921"
            ]
           ]
          },
          "colorway": [
           "#636efa",
           "#EF553B",
           "#00cc96",
           "#ab63fa",
           "#FFA15A",
           "#19d3f3",
           "#FF6692",
           "#B6E880",
           "#FF97FF",
           "#FECB52"
          ],
          "font": {
           "color": "#2a3f5f"
          },
          "geo": {
           "bgcolor": "white",
           "lakecolor": "white",
           "landcolor": "#E5ECF6",
           "showlakes": true,
           "showland": true,
           "subunitcolor": "white"
          },
          "hoverlabel": {
           "align": "left"
          },
          "hovermode": "closest",
          "mapbox": {
           "style": "light"
          },
          "paper_bgcolor": "white",
          "plot_bgcolor": "#E5ECF6",
          "polar": {
           "angularaxis": {
            "gridcolor": "white",
            "linecolor": "white",
            "ticks": ""
           },
           "bgcolor": "#E5ECF6",
           "radialaxis": {
            "gridcolor": "white",
            "linecolor": "white",
            "ticks": ""
           }
          },
          "scene": {
           "xaxis": {
            "backgroundcolor": "#E5ECF6",
            "gridcolor": "white",
            "gridwidth": 2,
            "linecolor": "white",
            "showbackground": true,
            "ticks": "",
            "zerolinecolor": "white"
           },
           "yaxis": {
            "backgroundcolor": "#E5ECF6",
            "gridcolor": "white",
            "gridwidth": 2,
            "linecolor": "white",
            "showbackground": true,
            "ticks": "",
            "zerolinecolor": "white"
           },
           "zaxis": {
            "backgroundcolor": "#E5ECF6",
            "gridcolor": "white",
            "gridwidth": 2,
            "linecolor": "white",
            "showbackground": true,
            "ticks": "",
            "zerolinecolor": "white"
           }
          },
          "shapedefaults": {
           "line": {
            "color": "#2a3f5f"
           }
          },
          "ternary": {
           "aaxis": {
            "gridcolor": "white",
            "linecolor": "white",
            "ticks": ""
           },
           "baxis": {
            "gridcolor": "white",
            "linecolor": "white",
            "ticks": ""
           },
           "bgcolor": "#E5ECF6",
           "caxis": {
            "gridcolor": "white",
            "linecolor": "white",
            "ticks": ""
           }
          },
          "title": {
           "x": 0.05
          },
          "xaxis": {
           "automargin": true,
           "gridcolor": "white",
           "linecolor": "white",
           "ticks": "",
           "title": {
            "standoff": 15
           },
           "zerolinecolor": "white",
           "zerolinewidth": 2
          },
          "yaxis": {
           "automargin": true,
           "gridcolor": "white",
           "linecolor": "white",
           "ticks": "",
           "title": {
            "standoff": 15
           },
           "zerolinecolor": "white",
           "zerolinewidth": 2
          }
         }
        },
        "title": {
         "text": "Total Return vs S&P 500, YTD"
        },
        "xaxis": {
         "title": {
          "text": "Ticker"
         }
        },
        "yaxis": {
         "tickformat": ".2%",
         "title": {
          "text": "Returns"
         }
        }
       }
      },
      "text/html": [
       "<div>                            <div id=\"4ed8d86e-57e9-4e37-aa04-fd29d344114b\" class=\"plotly-graph-div\" style=\"height:525px; width:100%;\"></div>            <script type=\"text/javascript\">                require([\"plotly\"], function(Plotly) {                    window.PLOTLYENV=window.PLOTLYENV || {};                                    if (document.getElementById(\"4ed8d86e-57e9-4e37-aa04-fd29d344114b\")) {                    Plotly.newPlot(                        \"4ed8d86e-57e9-4e37-aa04-fd29d344114b\",                        [{\"name\":\"Ticker YTD\",\"x\":[\"AGG\",\"DBC\",\"IAU\",\"IGOV\",\"VEU\",\"VNQ\",\"VTI\",\"VTI\"],\"y\":[0.02350868975139675,0.11870250115184189,-0.00569566273730604,0.005570478436404125,0.13857883333289167,0.15463630192870714,0.16799848631217396,0.16799848631217396],\"type\":\"bar\"},{\"name\":\"SP500 YTD\",\"x\":[\"AGG\",\"DBC\",\"IAU\",\"IGOV\",\"VEU\",\"VNQ\",\"VTI\",\"VTI\"],\"y\":[0.15883675374642414,0.15883675374642414,0.15883675374642414,0.15883675374642414,0.15883675374642414,0.15883675374642414,0.15883675374642414,0.15883675374642414],\"type\":\"scatter\"}],                        {\"barmode\":\"group\",\"legend\":{\"x\":0.8,\"y\":1.2},\"template\":{\"data\":{\"barpolar\":[{\"marker\":{\"line\":{\"color\":\"#E5ECF6\",\"width\":0.5},\"pattern\":{\"fillmode\":\"overlay\",\"size\":10,\"solidity\":0.2}},\"type\":\"barpolar\"}],\"bar\":[{\"error_x\":{\"color\":\"#2a3f5f\"},\"error_y\":{\"color\":\"#2a3f5f\"},\"marker\":{\"line\":{\"color\":\"#E5ECF6\",\"width\":0.5},\"pattern\":{\"fillmode\":\"overlay\",\"size\":10,\"solidity\":0.2}},\"type\":\"bar\"}],\"carpet\":[{\"aaxis\":{\"endlinecolor\":\"#2a3f5f\",\"gridcolor\":\"white\",\"linecolor\":\"white\",\"minorgridcolor\":\"white\",\"startlinecolor\":\"#2a3f5f\"},\"baxis\":{\"endlinecolor\":\"#2a3f5f\",\"gridcolor\":\"white\",\"linecolor\":\"white\",\"minorgridcolor\":\"white\",\"startlinecolor\":\"#2a3f5f\"},\"type\":\"carpet\"}],\"choropleth\":[{\"colorbar\":{\"outlinewidth\":0,\"ticks\":\"\"},\"type\":\"choropleth\"}],\"contourcarpet\":[{\"colorbar\":{\"outlinewidth\":0,\"ticks\":\"\"},\"type\":\"contourcarpet\"}],\"contour\":[{\"colorbar\":{\"outlinewidth\":0,\"ticks\":\"\"},\"colorscale\":[[0.0,\"#0d0887\"],[0.1111111111111111,\"#46039f\"],[0.2222222222222222,\"#7201a8\"],[0.3333333333333333,\"#9c179e\"],[0.4444444444444444,\"#bd3786\"],[0.5555555555555556,\"#d8576b\"],[0.6666666666666666,\"#ed7953\"],[0.7777777777777778,\"#fb9f3a\"],[0.8888888888888888,\"#fdca26\"],[1.0,\"#f0f921\"]],\"type\":\"contour\"}],\"heatmapgl\":[{\"colorbar\":{\"outlinewidth\":0,\"ticks\":\"\"},\"colorscale\":[[0.0,\"#0d0887\"],[0.1111111111111111,\"#46039f\"],[0.2222222222222222,\"#7201a8\"],[0.3333333333333333,\"#9c179e\"],[0.4444444444444444,\"#bd3786\"],[0.5555555555555556,\"#d8576b\"],[0.6666666666666666,\"#ed7953\"],[0.7777777777777778,\"#fb9f3a\"],[0.8888888888888888,\"#fdca26\"],[1.0,\"#f0f921\"]],\"type\":\"heatmapgl\"}],\"heatmap\":[{\"colorbar\":{\"outlinewidth\":0,\"ticks\":\"\"},\"colorscale\":[[0.0,\"#0d0887\"],[0.1111111111111111,\"#46039f\"],[0.2222222222222222,\"#7201a8\"],[0.3333333333333333,\"#9c179e\"],[0.4444444444444444,\"#bd3786\"],[0.5555555555555556,\"#d8576b\"],[0.6666666666666666,\"#ed7953\"],[0.7777777777777778,\"#fb9f3a\"],[0.8888888888888888,\"#fdca26\"],[1.0,\"#f0f921\"]],\"type\":\"heatmap\"}],\"histogram2dcontour\":[{\"colorbar\":{\"outlinewidth\":0,\"ticks\":\"\"},\"colorscale\":[[0.0,\"#0d0887\"],[0.1111111111111111,\"#46039f\"],[0.2222222222222222,\"#7201a8\"],[0.3333333333333333,\"#9c179e\"],[0.4444444444444444,\"#bd3786\"],[0.5555555555555556,\"#d8576b\"],[0.6666666666666666,\"#ed7953\"],[0.7777777777777778,\"#fb9f3a\"],[0.8888888888888888,\"#fdca26\"],[1.0,\"#f0f921\"]],\"type\":\"histogram2dcontour\"}],\"histogram2d\":[{\"colorbar\":{\"outlinewidth\":0,\"ticks\":\"\"},\"colorscale\":[[0.0,\"#0d0887\"],[0.1111111111111111,\"#46039f\"],[0.2222222222222222,\"#7201a8\"],[0.3333333333333333,\"#9c179e\"],[0.4444444444444444,\"#bd3786\"],[0.5555555555555556,\"#d8576b\"],[0.6666666666666666,\"#ed7953\"],[0.7777777777777778,\"#fb9f3a\"],[0.8888888888888888,\"#fdca26\"],[1.0,\"#f0f921\"]],\"type\":\"histogram2d\"}],\"histogram\":[{\"marker\":{\"pattern\":{\"fillmode\":\"overlay\",\"size\":10,\"solidity\":0.2}},\"type\":\"histogram\"}],\"mesh3d\":[{\"colorbar\":{\"outlinewidth\":0,\"ticks\":\"\"},\"type\":\"mesh3d\"}],\"parcoords\":[{\"line\":{\"colorbar\":{\"outlinewidth\":0,\"ticks\":\"\"}},\"type\":\"parcoords\"}],\"pie\":[{\"automargin\":true,\"type\":\"pie\"}],\"scatter3d\":[{\"line\":{\"colorbar\":{\"outlinewidth\":0,\"ticks\":\"\"}},\"marker\":{\"colorbar\":{\"outlinewidth\":0,\"ticks\":\"\"}},\"type\":\"scatter3d\"}],\"scattercarpet\":[{\"marker\":{\"colorbar\":{\"outlinewidth\":0,\"ticks\":\"\"}},\"type\":\"scattercarpet\"}],\"scattergeo\":[{\"marker\":{\"colorbar\":{\"outlinewidth\":0,\"ticks\":\"\"}},\"type\":\"scattergeo\"}],\"scattergl\":[{\"marker\":{\"colorbar\":{\"outlinewidth\":0,\"ticks\":\"\"}},\"type\":\"scattergl\"}],\"scattermapbox\":[{\"marker\":{\"colorbar\":{\"outlinewidth\":0,\"ticks\":\"\"}},\"type\":\"scattermapbox\"}],\"scatterpolargl\":[{\"marker\":{\"colorbar\":{\"outlinewidth\":0,\"ticks\":\"\"}},\"type\":\"scatterpolargl\"}],\"scatterpolar\":[{\"marker\":{\"colorbar\":{\"outlinewidth\":0,\"ticks\":\"\"}},\"type\":\"scatterpolar\"}],\"scatter\":[{\"marker\":{\"colorbar\":{\"outlinewidth\":0,\"ticks\":\"\"}},\"type\":\"scatter\"}],\"scatterternary\":[{\"marker\":{\"colorbar\":{\"outlinewidth\":0,\"ticks\":\"\"}},\"type\":\"scatterternary\"}],\"surface\":[{\"colorbar\":{\"outlinewidth\":0,\"ticks\":\"\"},\"colorscale\":[[0.0,\"#0d0887\"],[0.1111111111111111,\"#46039f\"],[0.2222222222222222,\"#7201a8\"],[0.3333333333333333,\"#9c179e\"],[0.4444444444444444,\"#bd3786\"],[0.5555555555555556,\"#d8576b\"],[0.6666666666666666,\"#ed7953\"],[0.7777777777777778,\"#fb9f3a\"],[0.8888888888888888,\"#fdca26\"],[1.0,\"#f0f921\"]],\"type\":\"surface\"}],\"table\":[{\"cells\":{\"fill\":{\"color\":\"#EBF0F8\"},\"line\":{\"color\":\"white\"}},\"header\":{\"fill\":{\"color\":\"#C8D4E3\"},\"line\":{\"color\":\"white\"}},\"type\":\"table\"}]},\"layout\":{\"annotationdefaults\":{\"arrowcolor\":\"#2a3f5f\",\"arrowhead\":0,\"arrowwidth\":1},\"autotypenumbers\":\"strict\",\"coloraxis\":{\"colorbar\":{\"outlinewidth\":0,\"ticks\":\"\"}},\"colorscale\":{\"diverging\":[[0,\"#8e0152\"],[0.1,\"#c51b7d\"],[0.2,\"#de77ae\"],[0.3,\"#f1b6da\"],[0.4,\"#fde0ef\"],[0.5,\"#f7f7f7\"],[0.6,\"#e6f5d0\"],[0.7,\"#b8e186\"],[0.8,\"#7fbc41\"],[0.9,\"#4d9221\"],[1,\"#276419\"]],\"sequential\":[[0.0,\"#0d0887\"],[0.1111111111111111,\"#46039f\"],[0.2222222222222222,\"#7201a8\"],[0.3333333333333333,\"#9c179e\"],[0.4444444444444444,\"#bd3786\"],[0.5555555555555556,\"#d8576b\"],[0.6666666666666666,\"#ed7953\"],[0.7777777777777778,\"#fb9f3a\"],[0.8888888888888888,\"#fdca26\"],[1.0,\"#f0f921\"]],\"sequentialminus\":[[0.0,\"#0d0887\"],[0.1111111111111111,\"#46039f\"],[0.2222222222222222,\"#7201a8\"],[0.3333333333333333,\"#9c179e\"],[0.4444444444444444,\"#bd3786\"],[0.5555555555555556,\"#d8576b\"],[0.6666666666666666,\"#ed7953\"],[0.7777777777777778,\"#fb9f3a\"],[0.8888888888888888,\"#fdca26\"],[1.0,\"#f0f921\"]]},\"colorway\":[\"#636efa\",\"#EF553B\",\"#00cc96\",\"#ab63fa\",\"#FFA15A\",\"#19d3f3\",\"#FF6692\",\"#B6E880\",\"#FF97FF\",\"#FECB52\"],\"font\":{\"color\":\"#2a3f5f\"},\"geo\":{\"bgcolor\":\"white\",\"lakecolor\":\"white\",\"landcolor\":\"#E5ECF6\",\"showlakes\":true,\"showland\":true,\"subunitcolor\":\"white\"},\"hoverlabel\":{\"align\":\"left\"},\"hovermode\":\"closest\",\"mapbox\":{\"style\":\"light\"},\"paper_bgcolor\":\"white\",\"plot_bgcolor\":\"#E5ECF6\",\"polar\":{\"angularaxis\":{\"gridcolor\":\"white\",\"linecolor\":\"white\",\"ticks\":\"\"},\"bgcolor\":\"#E5ECF6\",\"radialaxis\":{\"gridcolor\":\"white\",\"linecolor\":\"white\",\"ticks\":\"\"}},\"scene\":{\"xaxis\":{\"backgroundcolor\":\"#E5ECF6\",\"gridcolor\":\"white\",\"gridwidth\":2,\"linecolor\":\"white\",\"showbackground\":true,\"ticks\":\"\",\"zerolinecolor\":\"white\"},\"yaxis\":{\"backgroundcolor\":\"#E5ECF6\",\"gridcolor\":\"white\",\"gridwidth\":2,\"linecolor\":\"white\",\"showbackground\":true,\"ticks\":\"\",\"zerolinecolor\":\"white\"},\"zaxis\":{\"backgroundcolor\":\"#E5ECF6\",\"gridcolor\":\"white\",\"gridwidth\":2,\"linecolor\":\"white\",\"showbackground\":true,\"ticks\":\"\",\"zerolinecolor\":\"white\"}},\"shapedefaults\":{\"line\":{\"color\":\"#2a3f5f\"}},\"ternary\":{\"aaxis\":{\"gridcolor\":\"white\",\"linecolor\":\"white\",\"ticks\":\"\"},\"baxis\":{\"gridcolor\":\"white\",\"linecolor\":\"white\",\"ticks\":\"\"},\"bgcolor\":\"#E5ECF6\",\"caxis\":{\"gridcolor\":\"white\",\"linecolor\":\"white\",\"ticks\":\"\"}},\"title\":{\"x\":0.05},\"xaxis\":{\"automargin\":true,\"gridcolor\":\"white\",\"linecolor\":\"white\",\"ticks\":\"\",\"title\":{\"standoff\":15},\"zerolinecolor\":\"white\",\"zerolinewidth\":2},\"yaxis\":{\"automargin\":true,\"gridcolor\":\"white\",\"linecolor\":\"white\",\"ticks\":\"\",\"title\":{\"standoff\":15},\"zerolinecolor\":\"white\",\"zerolinewidth\":2}}},\"title\":{\"text\":\"Total Return vs S&P 500, YTD\"},\"xaxis\":{\"title\":{\"text\":\"Ticker\"}},\"yaxis\":{\"tickformat\":\".2%\",\"title\":{\"text\":\"Returns\"}}},                        {\"responsive\": true}                    ).then(function(){\n",
       "                            \n",
       "var gd = document.getElementById('4ed8d86e-57e9-4e37-aa04-fd29d344114b');\n",
       "var x = new MutationObserver(function (mutations, observer) {{\n",
       "        var display = window.getComputedStyle(gd).display;\n",
       "        if (!display || display === 'none') {{\n",
       "            console.log([gd, 'removed!']);\n",
       "            Plotly.purge(gd);\n",
       "            observer.disconnect();\n",
       "        }}\n",
       "}});\n",
       "\n",
       "// Listen for the removal of the full notebook cells\n",
       "var notebookContainer = gd.closest('#notebook-container');\n",
       "if (notebookContainer) {{\n",
       "    x.observe(notebookContainer, {childList: true});\n",
       "}}\n",
       "\n",
       "// Listen for the clearing of the current output cell\n",
       "var outputEl = gd.closest('.output');\n",
       "if (outputEl) {{\n",
       "    x.observe(outputEl, {childList: true});\n",
       "}}\n",
       "\n",
       "                        })                };                });            </script>        </div>"
      ]
     },
     "metadata": {},
     "output_type": "display_data"
    }
   ],
   "source": [
    "trace1 = go.Bar(\n",
    "    x = merged_portfolio_sp_latest_YTD_sp_chart['Ticker'],\n",
    "    y = merged_portfolio_sp_latest_YTD_sp_chart['Share YTD'],\n",
    "    name = 'Ticker YTD')\n",
    "\n",
    "trace2 = go.Scatter(\n",
    "    x = merged_portfolio_sp_latest_YTD_sp_chart['Ticker'],\n",
    "    y = merged_portfolio_sp_latest_YTD_sp_chart['SP 500 YTD'],\n",
    "    name = 'SP500 YTD')\n",
    "    \n",
    "data = [trace1, trace2]\n",
    "\n",
    "layout = go.Layout(title = 'Total Return vs S&P 500, YTD'\n",
    "    , barmode = 'group'\n",
    "    , yaxis=dict(title='Returns', tickformat=\".2%\")\n",
    "    , xaxis=dict(title='Ticker')\n",
    "    , legend=dict(x=0.8,y=1.2)\n",
    "    )\n",
    "\n",
    "fig = go.Figure(data=data, layout=layout)\n",
    "iplot(fig)"
   ]
  },
  {
   "cell_type": "markdown",
   "metadata": {},
   "source": [
    "### Total Return."
   ]
  },
  {
   "cell_type": "code",
   "execution_count": 97,
   "metadata": {},
   "outputs": [
    {
     "data": {
      "application/vnd.plotly.v1+json": {
       "config": {
        "linkText": "Export to plot.ly",
        "plotlyServerURL": "https://plot.ly",
        "showLink": false
       },
       "data": [
        {
         "name": "Ticker Total Return",
         "type": "bar",
         "x": [
          "AGG 0",
          "DBC 1",
          "IAU 2",
          "IGOV 3",
          "VEU 4",
          "VNQ 5",
          "VTI 6",
          "VTI 7"
         ],
         "y": [
          0.06062907032821152,
          -0.39128492952803084,
          0.9536371330181947,
          -0.04509538355685938,
          0.08213216229214693,
          0.32272768773358407,
          0.6029800795643778,
          0.5944833993185759
         ]
        },
        {
         "name": "SP500 Total Return",
         "type": "scatter",
         "x": [
          "AGG 0",
          "DBC 1",
          "IAU 2",
          "IGOV 3",
          "VEU 4",
          "VNQ 5",
          "VTI 6",
          "VTI 7"
         ],
         "y": [
          0.5519234605471588,
          0.5519234605471588,
          0.5519234605471588,
          0.5519234605471588,
          0.5519234605471588,
          0.5519234605471588,
          0.5519234605471588,
          0.5414079869111839
         ]
        }
       ],
       "layout": {
        "barmode": "group",
        "legend": {
         "x": 0.8,
         "y": 1.2
        },
        "template": {
         "data": {
          "bar": [
           {
            "error_x": {
             "color": "#2a3f5f"
            },
            "error_y": {
             "color": "#2a3f5f"
            },
            "marker": {
             "line": {
              "color": "#E5ECF6",
              "width": 0.5
             },
             "pattern": {
              "fillmode": "overlay",
              "size": 10,
              "solidity": 0.2
             }
            },
            "type": "bar"
           }
          ],
          "barpolar": [
           {
            "marker": {
             "line": {
              "color": "#E5ECF6",
              "width": 0.5
             },
             "pattern": {
              "fillmode": "overlay",
              "size": 10,
              "solidity": 0.2
             }
            },
            "type": "barpolar"
           }
          ],
          "carpet": [
           {
            "aaxis": {
             "endlinecolor": "#2a3f5f",
             "gridcolor": "white",
             "linecolor": "white",
             "minorgridcolor": "white",
             "startlinecolor": "#2a3f5f"
            },
            "baxis": {
             "endlinecolor": "#2a3f5f",
             "gridcolor": "white",
             "linecolor": "white",
             "minorgridcolor": "white",
             "startlinecolor": "#2a3f5f"
            },
            "type": "carpet"
           }
          ],
          "choropleth": [
           {
            "colorbar": {
             "outlinewidth": 0,
             "ticks": ""
            },
            "type": "choropleth"
           }
          ],
          "contour": [
           {
            "colorbar": {
             "outlinewidth": 0,
             "ticks": ""
            },
            "colorscale": [
             [
              0,
              "#0d0887"
             ],
             [
              0.1111111111111111,
              "#46039f"
             ],
             [
              0.2222222222222222,
              "#7201a8"
             ],
             [
              0.3333333333333333,
              "#9c179e"
             ],
             [
              0.4444444444444444,
              "#bd3786"
             ],
             [
              0.5555555555555556,
              "#d8576b"
             ],
             [
              0.6666666666666666,
              "#ed7953"
             ],
             [
              0.7777777777777778,
              "#fb9f3a"
             ],
             [
              0.8888888888888888,
              "#fdca26"
             ],
             [
              1,
              "#f0f921"
             ]
            ],
            "type": "contour"
           }
          ],
          "contourcarpet": [
           {
            "colorbar": {
             "outlinewidth": 0,
             "ticks": ""
            },
            "type": "contourcarpet"
           }
          ],
          "heatmap": [
           {
            "colorbar": {
             "outlinewidth": 0,
             "ticks": ""
            },
            "colorscale": [
             [
              0,
              "#0d0887"
             ],
             [
              0.1111111111111111,
              "#46039f"
             ],
             [
              0.2222222222222222,
              "#7201a8"
             ],
             [
              0.3333333333333333,
              "#9c179e"
             ],
             [
              0.4444444444444444,
              "#bd3786"
             ],
             [
              0.5555555555555556,
              "#d8576b"
             ],
             [
              0.6666666666666666,
              "#ed7953"
             ],
             [
              0.7777777777777778,
              "#fb9f3a"
             ],
             [
              0.8888888888888888,
              "#fdca26"
             ],
             [
              1,
              "#f0f921"
             ]
            ],
            "type": "heatmap"
           }
          ],
          "heatmapgl": [
           {
            "colorbar": {
             "outlinewidth": 0,
             "ticks": ""
            },
            "colorscale": [
             [
              0,
              "#0d0887"
             ],
             [
              0.1111111111111111,
              "#46039f"
             ],
             [
              0.2222222222222222,
              "#7201a8"
             ],
             [
              0.3333333333333333,
              "#9c179e"
             ],
             [
              0.4444444444444444,
              "#bd3786"
             ],
             [
              0.5555555555555556,
              "#d8576b"
             ],
             [
              0.6666666666666666,
              "#ed7953"
             ],
             [
              0.7777777777777778,
              "#fb9f3a"
             ],
             [
              0.8888888888888888,
              "#fdca26"
             ],
             [
              1,
              "#f0f921"
             ]
            ],
            "type": "heatmapgl"
           }
          ],
          "histogram": [
           {
            "marker": {
             "pattern": {
              "fillmode": "overlay",
              "size": 10,
              "solidity": 0.2
             }
            },
            "type": "histogram"
           }
          ],
          "histogram2d": [
           {
            "colorbar": {
             "outlinewidth": 0,
             "ticks": ""
            },
            "colorscale": [
             [
              0,
              "#0d0887"
             ],
             [
              0.1111111111111111,
              "#46039f"
             ],
             [
              0.2222222222222222,
              "#7201a8"
             ],
             [
              0.3333333333333333,
              "#9c179e"
             ],
             [
              0.4444444444444444,
              "#bd3786"
             ],
             [
              0.5555555555555556,
              "#d8576b"
             ],
             [
              0.6666666666666666,
              "#ed7953"
             ],
             [
              0.7777777777777778,
              "#fb9f3a"
             ],
             [
              0.8888888888888888,
              "#fdca26"
             ],
             [
              1,
              "#f0f921"
             ]
            ],
            "type": "histogram2d"
           }
          ],
          "histogram2dcontour": [
           {
            "colorbar": {
             "outlinewidth": 0,
             "ticks": ""
            },
            "colorscale": [
             [
              0,
              "#0d0887"
             ],
             [
              0.1111111111111111,
              "#46039f"
             ],
             [
              0.2222222222222222,
              "#7201a8"
             ],
             [
              0.3333333333333333,
              "#9c179e"
             ],
             [
              0.4444444444444444,
              "#bd3786"
             ],
             [
              0.5555555555555556,
              "#d8576b"
             ],
             [
              0.6666666666666666,
              "#ed7953"
             ],
             [
              0.7777777777777778,
              "#fb9f3a"
             ],
             [
              0.8888888888888888,
              "#fdca26"
             ],
             [
              1,
              "#f0f921"
             ]
            ],
            "type": "histogram2dcontour"
           }
          ],
          "mesh3d": [
           {
            "colorbar": {
             "outlinewidth": 0,
             "ticks": ""
            },
            "type": "mesh3d"
           }
          ],
          "parcoords": [
           {
            "line": {
             "colorbar": {
              "outlinewidth": 0,
              "ticks": ""
             }
            },
            "type": "parcoords"
           }
          ],
          "pie": [
           {
            "automargin": true,
            "type": "pie"
           }
          ],
          "scatter": [
           {
            "marker": {
             "colorbar": {
              "outlinewidth": 0,
              "ticks": ""
             }
            },
            "type": "scatter"
           }
          ],
          "scatter3d": [
           {
            "line": {
             "colorbar": {
              "outlinewidth": 0,
              "ticks": ""
             }
            },
            "marker": {
             "colorbar": {
              "outlinewidth": 0,
              "ticks": ""
             }
            },
            "type": "scatter3d"
           }
          ],
          "scattercarpet": [
           {
            "marker": {
             "colorbar": {
              "outlinewidth": 0,
              "ticks": ""
             }
            },
            "type": "scattercarpet"
           }
          ],
          "scattergeo": [
           {
            "marker": {
             "colorbar": {
              "outlinewidth": 0,
              "ticks": ""
             }
            },
            "type": "scattergeo"
           }
          ],
          "scattergl": [
           {
            "marker": {
             "colorbar": {
              "outlinewidth": 0,
              "ticks": ""
             }
            },
            "type": "scattergl"
           }
          ],
          "scattermapbox": [
           {
            "marker": {
             "colorbar": {
              "outlinewidth": 0,
              "ticks": ""
             }
            },
            "type": "scattermapbox"
           }
          ],
          "scatterpolar": [
           {
            "marker": {
             "colorbar": {
              "outlinewidth": 0,
              "ticks": ""
             }
            },
            "type": "scatterpolar"
           }
          ],
          "scatterpolargl": [
           {
            "marker": {
             "colorbar": {
              "outlinewidth": 0,
              "ticks": ""
             }
            },
            "type": "scatterpolargl"
           }
          ],
          "scatterternary": [
           {
            "marker": {
             "colorbar": {
              "outlinewidth": 0,
              "ticks": ""
             }
            },
            "type": "scatterternary"
           }
          ],
          "surface": [
           {
            "colorbar": {
             "outlinewidth": 0,
             "ticks": ""
            },
            "colorscale": [
             [
              0,
              "#0d0887"
             ],
             [
              0.1111111111111111,
              "#46039f"
             ],
             [
              0.2222222222222222,
              "#7201a8"
             ],
             [
              0.3333333333333333,
              "#9c179e"
             ],
             [
              0.4444444444444444,
              "#bd3786"
             ],
             [
              0.5555555555555556,
              "#d8576b"
             ],
             [
              0.6666666666666666,
              "#ed7953"
             ],
             [
              0.7777777777777778,
              "#fb9f3a"
             ],
             [
              0.8888888888888888,
              "#fdca26"
             ],
             [
              1,
              "#f0f921"
             ]
            ],
            "type": "surface"
           }
          ],
          "table": [
           {
            "cells": {
             "fill": {
              "color": "#EBF0F8"
             },
             "line": {
              "color": "white"
             }
            },
            "header": {
             "fill": {
              "color": "#C8D4E3"
             },
             "line": {
              "color": "white"
             }
            },
            "type": "table"
           }
          ]
         },
         "layout": {
          "annotationdefaults": {
           "arrowcolor": "#2a3f5f",
           "arrowhead": 0,
           "arrowwidth": 1
          },
          "autotypenumbers": "strict",
          "coloraxis": {
           "colorbar": {
            "outlinewidth": 0,
            "ticks": ""
           }
          },
          "colorscale": {
           "diverging": [
            [
             0,
             "#8e0152"
            ],
            [
             0.1,
             "#c51b7d"
            ],
            [
             0.2,
             "#de77ae"
            ],
            [
             0.3,
             "#f1b6da"
            ],
            [
             0.4,
             "#fde0ef"
            ],
            [
             0.5,
             "#f7f7f7"
            ],
            [
             0.6,
             "#e6f5d0"
            ],
            [
             0.7,
             "#b8e186"
            ],
            [
             0.8,
             "#7fbc41"
            ],
            [
             0.9,
             "#4d9221"
            ],
            [
             1,
             "#276419"
            ]
           ],
           "sequential": [
            [
             0,
             "#0d0887"
            ],
            [
             0.1111111111111111,
             "#46039f"
            ],
            [
             0.2222222222222222,
             "#7201a8"
            ],
            [
             0.3333333333333333,
             "#9c179e"
            ],
            [
             0.4444444444444444,
             "#bd3786"
            ],
            [
             0.5555555555555556,
             "#d8576b"
            ],
            [
             0.6666666666666666,
             "#ed7953"
            ],
            [
             0.7777777777777778,
             "#fb9f3a"
            ],
            [
             0.8888888888888888,
             "#fdca26"
            ],
            [
             1,
             "#f0f921"
            ]
           ],
           "sequentialminus": [
            [
             0,
             "#0d0887"
            ],
            [
             0.1111111111111111,
             "#46039f"
            ],
            [
             0.2222222222222222,
             "#7201a8"
            ],
            [
             0.3333333333333333,
             "#9c179e"
            ],
            [
             0.4444444444444444,
             "#bd3786"
            ],
            [
             0.5555555555555556,
             "#d8576b"
            ],
            [
             0.6666666666666666,
             "#ed7953"
            ],
            [
             0.7777777777777778,
             "#fb9f3a"
            ],
            [
             0.8888888888888888,
             "#fdca26"
            ],
            [
             1,
             "#f0f921"
            ]
           ]
          },
          "colorway": [
           "#636efa",
           "#EF553B",
           "#00cc96",
           "#ab63fa",
           "#FFA15A",
           "#19d3f3",
           "#FF6692",
           "#B6E880",
           "#FF97FF",
           "#FECB52"
          ],
          "font": {
           "color": "#2a3f5f"
          },
          "geo": {
           "bgcolor": "white",
           "lakecolor": "white",
           "landcolor": "#E5ECF6",
           "showlakes": true,
           "showland": true,
           "subunitcolor": "white"
          },
          "hoverlabel": {
           "align": "left"
          },
          "hovermode": "closest",
          "mapbox": {
           "style": "light"
          },
          "paper_bgcolor": "white",
          "plot_bgcolor": "#E5ECF6",
          "polar": {
           "angularaxis": {
            "gridcolor": "white",
            "linecolor": "white",
            "ticks": ""
           },
           "bgcolor": "#E5ECF6",
           "radialaxis": {
            "gridcolor": "white",
            "linecolor": "white",
            "ticks": ""
           }
          },
          "scene": {
           "xaxis": {
            "backgroundcolor": "#E5ECF6",
            "gridcolor": "white",
            "gridwidth": 2,
            "linecolor": "white",
            "showbackground": true,
            "ticks": "",
            "zerolinecolor": "white"
           },
           "yaxis": {
            "backgroundcolor": "#E5ECF6",
            "gridcolor": "white",
            "gridwidth": 2,
            "linecolor": "white",
            "showbackground": true,
            "ticks": "",
            "zerolinecolor": "white"
           },
           "zaxis": {
            "backgroundcolor": "#E5ECF6",
            "gridcolor": "white",
            "gridwidth": 2,
            "linecolor": "white",
            "showbackground": true,
            "ticks": "",
            "zerolinecolor": "white"
           }
          },
          "shapedefaults": {
           "line": {
            "color": "#2a3f5f"
           }
          },
          "ternary": {
           "aaxis": {
            "gridcolor": "white",
            "linecolor": "white",
            "ticks": ""
           },
           "baxis": {
            "gridcolor": "white",
            "linecolor": "white",
            "ticks": ""
           },
           "bgcolor": "#E5ECF6",
           "caxis": {
            "gridcolor": "white",
            "linecolor": "white",
            "ticks": ""
           }
          },
          "title": {
           "x": 0.05
          },
          "xaxis": {
           "automargin": true,
           "gridcolor": "white",
           "linecolor": "white",
           "ticks": "",
           "title": {
            "standoff": 15
           },
           "zerolinecolor": "white",
           "zerolinewidth": 2
          },
          "yaxis": {
           "automargin": true,
           "gridcolor": "white",
           "linecolor": "white",
           "ticks": "",
           "title": {
            "standoff": 15
           },
           "zerolinecolor": "white",
           "zerolinewidth": 2
          }
         }
        },
        "title": {
         "text": "Total Return vs S&P 500"
        },
        "xaxis": {
         "title": {
          "text": "Ticker"
         }
        },
        "yaxis": {
         "tickformat": ".2%",
         "title": {
          "text": "Returns"
         }
        }
       }
      },
      "text/html": [
       "<div>                            <div id=\"15360ba0-5d1d-4ab4-a37d-e6f9c9d3846e\" class=\"plotly-graph-div\" style=\"height:525px; width:100%;\"></div>            <script type=\"text/javascript\">                require([\"plotly\"], function(Plotly) {                    window.PLOTLYENV=window.PLOTLYENV || {};                                    if (document.getElementById(\"15360ba0-5d1d-4ab4-a37d-e6f9c9d3846e\")) {                    Plotly.newPlot(                        \"15360ba0-5d1d-4ab4-a37d-e6f9c9d3846e\",                        [{\"name\":\"Ticker Total Return\",\"x\":[\"AGG 0\",\"DBC 1\",\"IAU 2\",\"IGOV 3\",\"VEU 4\",\"VNQ 5\",\"VTI 6\",\"VTI 7\"],\"y\":[0.06062907032821152,-0.39128492952803084,0.9536371330181947,-0.04509538355685938,0.08213216229214693,0.32272768773358407,0.6029800795643778,0.5944833993185759],\"type\":\"bar\"},{\"name\":\"SP500 Total Return\",\"x\":[\"AGG 0\",\"DBC 1\",\"IAU 2\",\"IGOV 3\",\"VEU 4\",\"VNQ 5\",\"VTI 6\",\"VTI 7\"],\"y\":[0.5519234605471588,0.5519234605471588,0.5519234605471588,0.5519234605471588,0.5519234605471588,0.5519234605471588,0.5519234605471588,0.5414079869111839],\"type\":\"scatter\"}],                        {\"barmode\":\"group\",\"legend\":{\"x\":0.8,\"y\":1.2},\"template\":{\"data\":{\"barpolar\":[{\"marker\":{\"line\":{\"color\":\"#E5ECF6\",\"width\":0.5},\"pattern\":{\"fillmode\":\"overlay\",\"size\":10,\"solidity\":0.2}},\"type\":\"barpolar\"}],\"bar\":[{\"error_x\":{\"color\":\"#2a3f5f\"},\"error_y\":{\"color\":\"#2a3f5f\"},\"marker\":{\"line\":{\"color\":\"#E5ECF6\",\"width\":0.5},\"pattern\":{\"fillmode\":\"overlay\",\"size\":10,\"solidity\":0.2}},\"type\":\"bar\"}],\"carpet\":[{\"aaxis\":{\"endlinecolor\":\"#2a3f5f\",\"gridcolor\":\"white\",\"linecolor\":\"white\",\"minorgridcolor\":\"white\",\"startlinecolor\":\"#2a3f5f\"},\"baxis\":{\"endlinecolor\":\"#2a3f5f\",\"gridcolor\":\"white\",\"linecolor\":\"white\",\"minorgridcolor\":\"white\",\"startlinecolor\":\"#2a3f5f\"},\"type\":\"carpet\"}],\"choropleth\":[{\"colorbar\":{\"outlinewidth\":0,\"ticks\":\"\"},\"type\":\"choropleth\"}],\"contourcarpet\":[{\"colorbar\":{\"outlinewidth\":0,\"ticks\":\"\"},\"type\":\"contourcarpet\"}],\"contour\":[{\"colorbar\":{\"outlinewidth\":0,\"ticks\":\"\"},\"colorscale\":[[0.0,\"#0d0887\"],[0.1111111111111111,\"#46039f\"],[0.2222222222222222,\"#7201a8\"],[0.3333333333333333,\"#9c179e\"],[0.4444444444444444,\"#bd3786\"],[0.5555555555555556,\"#d8576b\"],[0.6666666666666666,\"#ed7953\"],[0.7777777777777778,\"#fb9f3a\"],[0.8888888888888888,\"#fdca26\"],[1.0,\"#f0f921\"]],\"type\":\"contour\"}],\"heatmapgl\":[{\"colorbar\":{\"outlinewidth\":0,\"ticks\":\"\"},\"colorscale\":[[0.0,\"#0d0887\"],[0.1111111111111111,\"#46039f\"],[0.2222222222222222,\"#7201a8\"],[0.3333333333333333,\"#9c179e\"],[0.4444444444444444,\"#bd3786\"],[0.5555555555555556,\"#d8576b\"],[0.6666666666666666,\"#ed7953\"],[0.7777777777777778,\"#fb9f3a\"],[0.8888888888888888,\"#fdca26\"],[1.0,\"#f0f921\"]],\"type\":\"heatmapgl\"}],\"heatmap\":[{\"colorbar\":{\"outlinewidth\":0,\"ticks\":\"\"},\"colorscale\":[[0.0,\"#0d0887\"],[0.1111111111111111,\"#46039f\"],[0.2222222222222222,\"#7201a8\"],[0.3333333333333333,\"#9c179e\"],[0.4444444444444444,\"#bd3786\"],[0.5555555555555556,\"#d8576b\"],[0.6666666666666666,\"#ed7953\"],[0.7777777777777778,\"#fb9f3a\"],[0.8888888888888888,\"#fdca26\"],[1.0,\"#f0f921\"]],\"type\":\"heatmap\"}],\"histogram2dcontour\":[{\"colorbar\":{\"outlinewidth\":0,\"ticks\":\"\"},\"colorscale\":[[0.0,\"#0d0887\"],[0.1111111111111111,\"#46039f\"],[0.2222222222222222,\"#7201a8\"],[0.3333333333333333,\"#9c179e\"],[0.4444444444444444,\"#bd3786\"],[0.5555555555555556,\"#d8576b\"],[0.6666666666666666,\"#ed7953\"],[0.7777777777777778,\"#fb9f3a\"],[0.8888888888888888,\"#fdca26\"],[1.0,\"#f0f921\"]],\"type\":\"histogram2dcontour\"}],\"histogram2d\":[{\"colorbar\":{\"outlinewidth\":0,\"ticks\":\"\"},\"colorscale\":[[0.0,\"#0d0887\"],[0.1111111111111111,\"#46039f\"],[0.2222222222222222,\"#7201a8\"],[0.3333333333333333,\"#9c179e\"],[0.4444444444444444,\"#bd3786\"],[0.5555555555555556,\"#d8576b\"],[0.6666666666666666,\"#ed7953\"],[0.7777777777777778,\"#fb9f3a\"],[0.8888888888888888,\"#fdca26\"],[1.0,\"#f0f921\"]],\"type\":\"histogram2d\"}],\"histogram\":[{\"marker\":{\"pattern\":{\"fillmode\":\"overlay\",\"size\":10,\"solidity\":0.2}},\"type\":\"histogram\"}],\"mesh3d\":[{\"colorbar\":{\"outlinewidth\":0,\"ticks\":\"\"},\"type\":\"mesh3d\"}],\"parcoords\":[{\"line\":{\"colorbar\":{\"outlinewidth\":0,\"ticks\":\"\"}},\"type\":\"parcoords\"}],\"pie\":[{\"automargin\":true,\"type\":\"pie\"}],\"scatter3d\":[{\"line\":{\"colorbar\":{\"outlinewidth\":0,\"ticks\":\"\"}},\"marker\":{\"colorbar\":{\"outlinewidth\":0,\"ticks\":\"\"}},\"type\":\"scatter3d\"}],\"scattercarpet\":[{\"marker\":{\"colorbar\":{\"outlinewidth\":0,\"ticks\":\"\"}},\"type\":\"scattercarpet\"}],\"scattergeo\":[{\"marker\":{\"colorbar\":{\"outlinewidth\":0,\"ticks\":\"\"}},\"type\":\"scattergeo\"}],\"scattergl\":[{\"marker\":{\"colorbar\":{\"outlinewidth\":0,\"ticks\":\"\"}},\"type\":\"scattergl\"}],\"scattermapbox\":[{\"marker\":{\"colorbar\":{\"outlinewidth\":0,\"ticks\":\"\"}},\"type\":\"scattermapbox\"}],\"scatterpolargl\":[{\"marker\":{\"colorbar\":{\"outlinewidth\":0,\"ticks\":\"\"}},\"type\":\"scatterpolargl\"}],\"scatterpolar\":[{\"marker\":{\"colorbar\":{\"outlinewidth\":0,\"ticks\":\"\"}},\"type\":\"scatterpolar\"}],\"scatter\":[{\"marker\":{\"colorbar\":{\"outlinewidth\":0,\"ticks\":\"\"}},\"type\":\"scatter\"}],\"scatterternary\":[{\"marker\":{\"colorbar\":{\"outlinewidth\":0,\"ticks\":\"\"}},\"type\":\"scatterternary\"}],\"surface\":[{\"colorbar\":{\"outlinewidth\":0,\"ticks\":\"\"},\"colorscale\":[[0.0,\"#0d0887\"],[0.1111111111111111,\"#46039f\"],[0.2222222222222222,\"#7201a8\"],[0.3333333333333333,\"#9c179e\"],[0.4444444444444444,\"#bd3786\"],[0.5555555555555556,\"#d8576b\"],[0.6666666666666666,\"#ed7953\"],[0.7777777777777778,\"#fb9f3a\"],[0.8888888888888888,\"#fdca26\"],[1.0,\"#f0f921\"]],\"type\":\"surface\"}],\"table\":[{\"cells\":{\"fill\":{\"color\":\"#EBF0F8\"},\"line\":{\"color\":\"white\"}},\"header\":{\"fill\":{\"color\":\"#C8D4E3\"},\"line\":{\"color\":\"white\"}},\"type\":\"table\"}]},\"layout\":{\"annotationdefaults\":{\"arrowcolor\":\"#2a3f5f\",\"arrowhead\":0,\"arrowwidth\":1},\"autotypenumbers\":\"strict\",\"coloraxis\":{\"colorbar\":{\"outlinewidth\":0,\"ticks\":\"\"}},\"colorscale\":{\"diverging\":[[0,\"#8e0152\"],[0.1,\"#c51b7d\"],[0.2,\"#de77ae\"],[0.3,\"#f1b6da\"],[0.4,\"#fde0ef\"],[0.5,\"#f7f7f7\"],[0.6,\"#e6f5d0\"],[0.7,\"#b8e186\"],[0.8,\"#7fbc41\"],[0.9,\"#4d9221\"],[1,\"#276419\"]],\"sequential\":[[0.0,\"#0d0887\"],[0.1111111111111111,\"#46039f\"],[0.2222222222222222,\"#7201a8\"],[0.3333333333333333,\"#9c179e\"],[0.4444444444444444,\"#bd3786\"],[0.5555555555555556,\"#d8576b\"],[0.6666666666666666,\"#ed7953\"],[0.7777777777777778,\"#fb9f3a\"],[0.8888888888888888,\"#fdca26\"],[1.0,\"#f0f921\"]],\"sequentialminus\":[[0.0,\"#0d0887\"],[0.1111111111111111,\"#46039f\"],[0.2222222222222222,\"#7201a8\"],[0.3333333333333333,\"#9c179e\"],[0.4444444444444444,\"#bd3786\"],[0.5555555555555556,\"#d8576b\"],[0.6666666666666666,\"#ed7953\"],[0.7777777777777778,\"#fb9f3a\"],[0.8888888888888888,\"#fdca26\"],[1.0,\"#f0f921\"]]},\"colorway\":[\"#636efa\",\"#EF553B\",\"#00cc96\",\"#ab63fa\",\"#FFA15A\",\"#19d3f3\",\"#FF6692\",\"#B6E880\",\"#FF97FF\",\"#FECB52\"],\"font\":{\"color\":\"#2a3f5f\"},\"geo\":{\"bgcolor\":\"white\",\"lakecolor\":\"white\",\"landcolor\":\"#E5ECF6\",\"showlakes\":true,\"showland\":true,\"subunitcolor\":\"white\"},\"hoverlabel\":{\"align\":\"left\"},\"hovermode\":\"closest\",\"mapbox\":{\"style\":\"light\"},\"paper_bgcolor\":\"white\",\"plot_bgcolor\":\"#E5ECF6\",\"polar\":{\"angularaxis\":{\"gridcolor\":\"white\",\"linecolor\":\"white\",\"ticks\":\"\"},\"bgcolor\":\"#E5ECF6\",\"radialaxis\":{\"gridcolor\":\"white\",\"linecolor\":\"white\",\"ticks\":\"\"}},\"scene\":{\"xaxis\":{\"backgroundcolor\":\"#E5ECF6\",\"gridcolor\":\"white\",\"gridwidth\":2,\"linecolor\":\"white\",\"showbackground\":true,\"ticks\":\"\",\"zerolinecolor\":\"white\"},\"yaxis\":{\"backgroundcolor\":\"#E5ECF6\",\"gridcolor\":\"white\",\"gridwidth\":2,\"linecolor\":\"white\",\"showbackground\":true,\"ticks\":\"\",\"zerolinecolor\":\"white\"},\"zaxis\":{\"backgroundcolor\":\"#E5ECF6\",\"gridcolor\":\"white\",\"gridwidth\":2,\"linecolor\":\"white\",\"showbackground\":true,\"ticks\":\"\",\"zerolinecolor\":\"white\"}},\"shapedefaults\":{\"line\":{\"color\":\"#2a3f5f\"}},\"ternary\":{\"aaxis\":{\"gridcolor\":\"white\",\"linecolor\":\"white\",\"ticks\":\"\"},\"baxis\":{\"gridcolor\":\"white\",\"linecolor\":\"white\",\"ticks\":\"\"},\"bgcolor\":\"#E5ECF6\",\"caxis\":{\"gridcolor\":\"white\",\"linecolor\":\"white\",\"ticks\":\"\"}},\"title\":{\"x\":0.05},\"xaxis\":{\"automargin\":true,\"gridcolor\":\"white\",\"linecolor\":\"white\",\"ticks\":\"\",\"title\":{\"standoff\":15},\"zerolinecolor\":\"white\",\"zerolinewidth\":2},\"yaxis\":{\"automargin\":true,\"gridcolor\":\"white\",\"linecolor\":\"white\",\"ticks\":\"\",\"title\":{\"standoff\":15},\"zerolinecolor\":\"white\",\"zerolinewidth\":2}}},\"title\":{\"text\":\"Total Return vs S&P 500\"},\"xaxis\":{\"title\":{\"text\":\"Ticker\"}},\"yaxis\":{\"tickformat\":\".2%\",\"title\":{\"text\":\"Returns\"}}},                        {\"responsive\": true}                    ).then(function(){\n",
       "                            \n",
       "var gd = document.getElementById('15360ba0-5d1d-4ab4-a37d-e6f9c9d3846e');\n",
       "var x = new MutationObserver(function (mutations, observer) {{\n",
       "        var display = window.getComputedStyle(gd).display;\n",
       "        if (!display || display === 'none') {{\n",
       "            console.log([gd, 'removed!']);\n",
       "            Plotly.purge(gd);\n",
       "            observer.disconnect();\n",
       "        }}\n",
       "}});\n",
       "\n",
       "// Listen for the removal of the full notebook cells\n",
       "var notebookContainer = gd.closest('#notebook-container');\n",
       "if (notebookContainer) {{\n",
       "    x.observe(notebookContainer, {childList: true});\n",
       "}}\n",
       "\n",
       "// Listen for the clearing of the current output cell\n",
       "var outputEl = gd.closest('.output');\n",
       "if (outputEl) {{\n",
       "    x.observe(outputEl, {childList: true});\n",
       "}}\n",
       "\n",
       "                        })                };                });            </script>        </div>"
      ]
     },
     "metadata": {},
     "output_type": "display_data"
    }
   ],
   "source": [
    "trace1 = go.Bar(\n",
    "    x = merged_portfolio_sp_latest_YTD_sp_chart['Ticker #'],\n",
    "    y = merged_portfolio_sp_latest_YTD_sp_chart['Ticker Return'],\n",
    "    name = 'Ticker Total Return')\n",
    "\n",
    "trace2 = go.Scatter(\n",
    "    x = merged_portfolio_sp_latest_YTD_sp_chart['Ticker #'],\n",
    "    y = merged_portfolio_sp_latest_YTD_sp_chart['SP Return'],\n",
    "    name = 'SP500 Total Return')\n",
    "    \n",
    "data = [trace1, trace2]\n",
    "\n",
    "layout = go.Layout(title = 'Total Return vs S&P 500'\n",
    "    , barmode = 'group'\n",
    "    , yaxis=dict(title='Returns', tickformat=\".2%\")\n",
    "    , xaxis=dict(title='Ticker')\n",
    "    , legend=dict(x=.8,y=1.2)\n",
    "    )\n",
    "\n",
    "fig = go.Figure(data=data, layout=layout)\n",
    "iplot(fig)"
   ]
  },
  {
   "cell_type": "markdown",
   "metadata": {},
   "source": [
    "### Total Cumulative Investments Over Time"
   ]
  },
  {
   "cell_type": "code",
   "execution_count": 98,
   "metadata": {},
   "outputs": [
    {
     "data": {
      "application/vnd.plotly.v1+json": {
       "config": {
        "linkText": "Export to plot.ly",
        "plotlyServerURL": "https://plot.ly",
        "showLink": false
       },
       "data": [
        {
         "mode": "lines+markers",
         "name": "Cum Invst",
         "type": "scatter",
         "x": [
          "AGG 0",
          "DBC 1",
          "IAU 2",
          "IGOV 3",
          "VEU 4",
          "VNQ 5",
          "VTI 6",
          "VTI 7"
         ],
         "y": [
          2393,
          2969.62,
          3595.12,
          4000.88,
          8612.48,
          9253.56,
          15603.96,
          18441.399999999998
         ]
        },
        {
         "mode": "lines+markers",
         "name": "Cum Ticker Returns",
         "type": "scatter",
         "x": [
          "AGG 0",
          "DBC 1",
          "IAU 2",
          "IGOV 3",
          "VEU 4",
          "VNQ 5",
          "VTI 6",
          "VTI 7"
         ],
         "y": [
          2538.08536529541,
          2889.082649230957,
          4111.082675933838,
          4498.544773101807,
          9488.905452728271,
          10336.879718780518,
          20516.444416046143,
          25040.695392608643
         ]
        },
        {
         "mode": "lines+markers",
         "name": "Cum SP500 Returns",
         "type": "scatter",
         "x": [
          "AGG 0",
          "DBC 1",
          "IAU 2",
          "IGOV 3",
          "VEU 4",
          "VNQ 5",
          "VTI 6",
          "VTI 7"
         ],
         "y": [
          3713.752841089351,
          4608.6229469100535,
          5579.351071482301,
          6209.059534833917,
          13365.909765493196,
          14360.816857580769,
          24216.151601439447,
          28589.804279820717
         ]
        }
       ],
       "layout": {
        "barmode": "group",
        "legend": {
         "x": 1,
         "y": 1
        },
        "template": {
         "data": {
          "bar": [
           {
            "error_x": {
             "color": "#2a3f5f"
            },
            "error_y": {
             "color": "#2a3f5f"
            },
            "marker": {
             "line": {
              "color": "#E5ECF6",
              "width": 0.5
             },
             "pattern": {
              "fillmode": "overlay",
              "size": 10,
              "solidity": 0.2
             }
            },
            "type": "bar"
           }
          ],
          "barpolar": [
           {
            "marker": {
             "line": {
              "color": "#E5ECF6",
              "width": 0.5
             },
             "pattern": {
              "fillmode": "overlay",
              "size": 10,
              "solidity": 0.2
             }
            },
            "type": "barpolar"
           }
          ],
          "carpet": [
           {
            "aaxis": {
             "endlinecolor": "#2a3f5f",
             "gridcolor": "white",
             "linecolor": "white",
             "minorgridcolor": "white",
             "startlinecolor": "#2a3f5f"
            },
            "baxis": {
             "endlinecolor": "#2a3f5f",
             "gridcolor": "white",
             "linecolor": "white",
             "minorgridcolor": "white",
             "startlinecolor": "#2a3f5f"
            },
            "type": "carpet"
           }
          ],
          "choropleth": [
           {
            "colorbar": {
             "outlinewidth": 0,
             "ticks": ""
            },
            "type": "choropleth"
           }
          ],
          "contour": [
           {
            "colorbar": {
             "outlinewidth": 0,
             "ticks": ""
            },
            "colorscale": [
             [
              0,
              "#0d0887"
             ],
             [
              0.1111111111111111,
              "#46039f"
             ],
             [
              0.2222222222222222,
              "#7201a8"
             ],
             [
              0.3333333333333333,
              "#9c179e"
             ],
             [
              0.4444444444444444,
              "#bd3786"
             ],
             [
              0.5555555555555556,
              "#d8576b"
             ],
             [
              0.6666666666666666,
              "#ed7953"
             ],
             [
              0.7777777777777778,
              "#fb9f3a"
             ],
             [
              0.8888888888888888,
              "#fdca26"
             ],
             [
              1,
              "#f0f921"
             ]
            ],
            "type": "contour"
           }
          ],
          "contourcarpet": [
           {
            "colorbar": {
             "outlinewidth": 0,
             "ticks": ""
            },
            "type": "contourcarpet"
           }
          ],
          "heatmap": [
           {
            "colorbar": {
             "outlinewidth": 0,
             "ticks": ""
            },
            "colorscale": [
             [
              0,
              "#0d0887"
             ],
             [
              0.1111111111111111,
              "#46039f"
             ],
             [
              0.2222222222222222,
              "#7201a8"
             ],
             [
              0.3333333333333333,
              "#9c179e"
             ],
             [
              0.4444444444444444,
              "#bd3786"
             ],
             [
              0.5555555555555556,
              "#d8576b"
             ],
             [
              0.6666666666666666,
              "#ed7953"
             ],
             [
              0.7777777777777778,
              "#fb9f3a"
             ],
             [
              0.8888888888888888,
              "#fdca26"
             ],
             [
              1,
              "#f0f921"
             ]
            ],
            "type": "heatmap"
           }
          ],
          "heatmapgl": [
           {
            "colorbar": {
             "outlinewidth": 0,
             "ticks": ""
            },
            "colorscale": [
             [
              0,
              "#0d0887"
             ],
             [
              0.1111111111111111,
              "#46039f"
             ],
             [
              0.2222222222222222,
              "#7201a8"
             ],
             [
              0.3333333333333333,
              "#9c179e"
             ],
             [
              0.4444444444444444,
              "#bd3786"
             ],
             [
              0.5555555555555556,
              "#d8576b"
             ],
             [
              0.6666666666666666,
              "#ed7953"
             ],
             [
              0.7777777777777778,
              "#fb9f3a"
             ],
             [
              0.8888888888888888,
              "#fdca26"
             ],
             [
              1,
              "#f0f921"
             ]
            ],
            "type": "heatmapgl"
           }
          ],
          "histogram": [
           {
            "marker": {
             "pattern": {
              "fillmode": "overlay",
              "size": 10,
              "solidity": 0.2
             }
            },
            "type": "histogram"
           }
          ],
          "histogram2d": [
           {
            "colorbar": {
             "outlinewidth": 0,
             "ticks": ""
            },
            "colorscale": [
             [
              0,
              "#0d0887"
             ],
             [
              0.1111111111111111,
              "#46039f"
             ],
             [
              0.2222222222222222,
              "#7201a8"
             ],
             [
              0.3333333333333333,
              "#9c179e"
             ],
             [
              0.4444444444444444,
              "#bd3786"
             ],
             [
              0.5555555555555556,
              "#d8576b"
             ],
             [
              0.6666666666666666,
              "#ed7953"
             ],
             [
              0.7777777777777778,
              "#fb9f3a"
             ],
             [
              0.8888888888888888,
              "#fdca26"
             ],
             [
              1,
              "#f0f921"
             ]
            ],
            "type": "histogram2d"
           }
          ],
          "histogram2dcontour": [
           {
            "colorbar": {
             "outlinewidth": 0,
             "ticks": ""
            },
            "colorscale": [
             [
              0,
              "#0d0887"
             ],
             [
              0.1111111111111111,
              "#46039f"
             ],
             [
              0.2222222222222222,
              "#7201a8"
             ],
             [
              0.3333333333333333,
              "#9c179e"
             ],
             [
              0.4444444444444444,
              "#bd3786"
             ],
             [
              0.5555555555555556,
              "#d8576b"
             ],
             [
              0.6666666666666666,
              "#ed7953"
             ],
             [
              0.7777777777777778,
              "#fb9f3a"
             ],
             [
              0.8888888888888888,
              "#fdca26"
             ],
             [
              1,
              "#f0f921"
             ]
            ],
            "type": "histogram2dcontour"
           }
          ],
          "mesh3d": [
           {
            "colorbar": {
             "outlinewidth": 0,
             "ticks": ""
            },
            "type": "mesh3d"
           }
          ],
          "parcoords": [
           {
            "line": {
             "colorbar": {
              "outlinewidth": 0,
              "ticks": ""
             }
            },
            "type": "parcoords"
           }
          ],
          "pie": [
           {
            "automargin": true,
            "type": "pie"
           }
          ],
          "scatter": [
           {
            "marker": {
             "colorbar": {
              "outlinewidth": 0,
              "ticks": ""
             }
            },
            "type": "scatter"
           }
          ],
          "scatter3d": [
           {
            "line": {
             "colorbar": {
              "outlinewidth": 0,
              "ticks": ""
             }
            },
            "marker": {
             "colorbar": {
              "outlinewidth": 0,
              "ticks": ""
             }
            },
            "type": "scatter3d"
           }
          ],
          "scattercarpet": [
           {
            "marker": {
             "colorbar": {
              "outlinewidth": 0,
              "ticks": ""
             }
            },
            "type": "scattercarpet"
           }
          ],
          "scattergeo": [
           {
            "marker": {
             "colorbar": {
              "outlinewidth": 0,
              "ticks": ""
             }
            },
            "type": "scattergeo"
           }
          ],
          "scattergl": [
           {
            "marker": {
             "colorbar": {
              "outlinewidth": 0,
              "ticks": ""
             }
            },
            "type": "scattergl"
           }
          ],
          "scattermapbox": [
           {
            "marker": {
             "colorbar": {
              "outlinewidth": 0,
              "ticks": ""
             }
            },
            "type": "scattermapbox"
           }
          ],
          "scatterpolar": [
           {
            "marker": {
             "colorbar": {
              "outlinewidth": 0,
              "ticks": ""
             }
            },
            "type": "scatterpolar"
           }
          ],
          "scatterpolargl": [
           {
            "marker": {
             "colorbar": {
              "outlinewidth": 0,
              "ticks": ""
             }
            },
            "type": "scatterpolargl"
           }
          ],
          "scatterternary": [
           {
            "marker": {
             "colorbar": {
              "outlinewidth": 0,
              "ticks": ""
             }
            },
            "type": "scatterternary"
           }
          ],
          "surface": [
           {
            "colorbar": {
             "outlinewidth": 0,
             "ticks": ""
            },
            "colorscale": [
             [
              0,
              "#0d0887"
             ],
             [
              0.1111111111111111,
              "#46039f"
             ],
             [
              0.2222222222222222,
              "#7201a8"
             ],
             [
              0.3333333333333333,
              "#9c179e"
             ],
             [
              0.4444444444444444,
              "#bd3786"
             ],
             [
              0.5555555555555556,
              "#d8576b"
             ],
             [
              0.6666666666666666,
              "#ed7953"
             ],
             [
              0.7777777777777778,
              "#fb9f3a"
             ],
             [
              0.8888888888888888,
              "#fdca26"
             ],
             [
              1,
              "#f0f921"
             ]
            ],
            "type": "surface"
           }
          ],
          "table": [
           {
            "cells": {
             "fill": {
              "color": "#EBF0F8"
             },
             "line": {
              "color": "white"
             }
            },
            "header": {
             "fill": {
              "color": "#C8D4E3"
             },
             "line": {
              "color": "white"
             }
            },
            "type": "table"
           }
          ]
         },
         "layout": {
          "annotationdefaults": {
           "arrowcolor": "#2a3f5f",
           "arrowhead": 0,
           "arrowwidth": 1
          },
          "autotypenumbers": "strict",
          "coloraxis": {
           "colorbar": {
            "outlinewidth": 0,
            "ticks": ""
           }
          },
          "colorscale": {
           "diverging": [
            [
             0,
             "#8e0152"
            ],
            [
             0.1,
             "#c51b7d"
            ],
            [
             0.2,
             "#de77ae"
            ],
            [
             0.3,
             "#f1b6da"
            ],
            [
             0.4,
             "#fde0ef"
            ],
            [
             0.5,
             "#f7f7f7"
            ],
            [
             0.6,
             "#e6f5d0"
            ],
            [
             0.7,
             "#b8e186"
            ],
            [
             0.8,
             "#7fbc41"
            ],
            [
             0.9,
             "#4d9221"
            ],
            [
             1,
             "#276419"
            ]
           ],
           "sequential": [
            [
             0,
             "#0d0887"
            ],
            [
             0.1111111111111111,
             "#46039f"
            ],
            [
             0.2222222222222222,
             "#7201a8"
            ],
            [
             0.3333333333333333,
             "#9c179e"
            ],
            [
             0.4444444444444444,
             "#bd3786"
            ],
            [
             0.5555555555555556,
             "#d8576b"
            ],
            [
             0.6666666666666666,
             "#ed7953"
            ],
            [
             0.7777777777777778,
             "#fb9f3a"
            ],
            [
             0.8888888888888888,
             "#fdca26"
            ],
            [
             1,
             "#f0f921"
            ]
           ],
           "sequentialminus": [
            [
             0,
             "#0d0887"
            ],
            [
             0.1111111111111111,
             "#46039f"
            ],
            [
             0.2222222222222222,
             "#7201a8"
            ],
            [
             0.3333333333333333,
             "#9c179e"
            ],
            [
             0.4444444444444444,
             "#bd3786"
            ],
            [
             0.5555555555555556,
             "#d8576b"
            ],
            [
             0.6666666666666666,
             "#ed7953"
            ],
            [
             0.7777777777777778,
             "#fb9f3a"
            ],
            [
             0.8888888888888888,
             "#fdca26"
            ],
            [
             1,
             "#f0f921"
            ]
           ]
          },
          "colorway": [
           "#636efa",
           "#EF553B",
           "#00cc96",
           "#ab63fa",
           "#FFA15A",
           "#19d3f3",
           "#FF6692",
           "#B6E880",
           "#FF97FF",
           "#FECB52"
          ],
          "font": {
           "color": "#2a3f5f"
          },
          "geo": {
           "bgcolor": "white",
           "lakecolor": "white",
           "landcolor": "#E5ECF6",
           "showlakes": true,
           "showland": true,
           "subunitcolor": "white"
          },
          "hoverlabel": {
           "align": "left"
          },
          "hovermode": "closest",
          "mapbox": {
           "style": "light"
          },
          "paper_bgcolor": "white",
          "plot_bgcolor": "#E5ECF6",
          "polar": {
           "angularaxis": {
            "gridcolor": "white",
            "linecolor": "white",
            "ticks": ""
           },
           "bgcolor": "#E5ECF6",
           "radialaxis": {
            "gridcolor": "white",
            "linecolor": "white",
            "ticks": ""
           }
          },
          "scene": {
           "xaxis": {
            "backgroundcolor": "#E5ECF6",
            "gridcolor": "white",
            "gridwidth": 2,
            "linecolor": "white",
            "showbackground": true,
            "ticks": "",
            "zerolinecolor": "white"
           },
           "yaxis": {
            "backgroundcolor": "#E5ECF6",
            "gridcolor": "white",
            "gridwidth": 2,
            "linecolor": "white",
            "showbackground": true,
            "ticks": "",
            "zerolinecolor": "white"
           },
           "zaxis": {
            "backgroundcolor": "#E5ECF6",
            "gridcolor": "white",
            "gridwidth": 2,
            "linecolor": "white",
            "showbackground": true,
            "ticks": "",
            "zerolinecolor": "white"
           }
          },
          "shapedefaults": {
           "line": {
            "color": "#2a3f5f"
           }
          },
          "ternary": {
           "aaxis": {
            "gridcolor": "white",
            "linecolor": "white",
            "ticks": ""
           },
           "baxis": {
            "gridcolor": "white",
            "linecolor": "white",
            "ticks": ""
           },
           "bgcolor": "#E5ECF6",
           "caxis": {
            "gridcolor": "white",
            "linecolor": "white",
            "ticks": ""
           }
          },
          "title": {
           "x": 0.05
          },
          "xaxis": {
           "automargin": true,
           "gridcolor": "white",
           "linecolor": "white",
           "ticks": "",
           "title": {
            "standoff": 15
           },
           "zerolinecolor": "white",
           "zerolinewidth": 2
          },
          "yaxis": {
           "automargin": true,
           "gridcolor": "white",
           "linecolor": "white",
           "ticks": "",
           "title": {
            "standoff": 15
           },
           "zerolinecolor": "white",
           "zerolinewidth": 2
          }
         }
        },
        "title": {
         "text": "Total Investment Comparisons by Ticker"
        },
        "xaxis": {
         "title": {
          "text": "Ticker"
         }
        },
        "yaxis": {
         "title": {
          "text": "Returns"
         }
        }
       }
      },
      "text/html": [
       "<div>                            <div id=\"420be0f6-4bdc-4852-99ed-48ee424c5419\" class=\"plotly-graph-div\" style=\"height:525px; width:100%;\"></div>            <script type=\"text/javascript\">                require([\"plotly\"], function(Plotly) {                    window.PLOTLYENV=window.PLOTLYENV || {};                                    if (document.getElementById(\"420be0f6-4bdc-4852-99ed-48ee424c5419\")) {                    Plotly.newPlot(                        \"420be0f6-4bdc-4852-99ed-48ee424c5419\",                        [{\"mode\":\"lines+markers\",\"name\":\"Cum Invst\",\"x\":[\"AGG 0\",\"DBC 1\",\"IAU 2\",\"IGOV 3\",\"VEU 4\",\"VNQ 5\",\"VTI 6\",\"VTI 7\"],\"y\":[2393.0,2969.62,3595.12,4000.88,8612.48,9253.56,15603.96,18441.399999999998],\"type\":\"scatter\"},{\"mode\":\"lines+markers\",\"name\":\"Cum Ticker Returns\",\"x\":[\"AGG 0\",\"DBC 1\",\"IAU 2\",\"IGOV 3\",\"VEU 4\",\"VNQ 5\",\"VTI 6\",\"VTI 7\"],\"y\":[2538.08536529541,2889.082649230957,4111.082675933838,4498.544773101807,9488.905452728271,10336.879718780518,20516.444416046143,25040.695392608643],\"type\":\"scatter\"},{\"mode\":\"lines+markers\",\"name\":\"Cum SP500 Returns\",\"x\":[\"AGG 0\",\"DBC 1\",\"IAU 2\",\"IGOV 3\",\"VEU 4\",\"VNQ 5\",\"VTI 6\",\"VTI 7\"],\"y\":[3713.752841089351,4608.6229469100535,5579.351071482301,6209.059534833917,13365.909765493196,14360.816857580769,24216.151601439447,28589.804279820717],\"type\":\"scatter\"}],                        {\"barmode\":\"group\",\"legend\":{\"x\":1,\"y\":1},\"template\":{\"data\":{\"barpolar\":[{\"marker\":{\"line\":{\"color\":\"#E5ECF6\",\"width\":0.5},\"pattern\":{\"fillmode\":\"overlay\",\"size\":10,\"solidity\":0.2}},\"type\":\"barpolar\"}],\"bar\":[{\"error_x\":{\"color\":\"#2a3f5f\"},\"error_y\":{\"color\":\"#2a3f5f\"},\"marker\":{\"line\":{\"color\":\"#E5ECF6\",\"width\":0.5},\"pattern\":{\"fillmode\":\"overlay\",\"size\":10,\"solidity\":0.2}},\"type\":\"bar\"}],\"carpet\":[{\"aaxis\":{\"endlinecolor\":\"#2a3f5f\",\"gridcolor\":\"white\",\"linecolor\":\"white\",\"minorgridcolor\":\"white\",\"startlinecolor\":\"#2a3f5f\"},\"baxis\":{\"endlinecolor\":\"#2a3f5f\",\"gridcolor\":\"white\",\"linecolor\":\"white\",\"minorgridcolor\":\"white\",\"startlinecolor\":\"#2a3f5f\"},\"type\":\"carpet\"}],\"choropleth\":[{\"colorbar\":{\"outlinewidth\":0,\"ticks\":\"\"},\"type\":\"choropleth\"}],\"contourcarpet\":[{\"colorbar\":{\"outlinewidth\":0,\"ticks\":\"\"},\"type\":\"contourcarpet\"}],\"contour\":[{\"colorbar\":{\"outlinewidth\":0,\"ticks\":\"\"},\"colorscale\":[[0.0,\"#0d0887\"],[0.1111111111111111,\"#46039f\"],[0.2222222222222222,\"#7201a8\"],[0.3333333333333333,\"#9c179e\"],[0.4444444444444444,\"#bd3786\"],[0.5555555555555556,\"#d8576b\"],[0.6666666666666666,\"#ed7953\"],[0.7777777777777778,\"#fb9f3a\"],[0.8888888888888888,\"#fdca26\"],[1.0,\"#f0f921\"]],\"type\":\"contour\"}],\"heatmapgl\":[{\"colorbar\":{\"outlinewidth\":0,\"ticks\":\"\"},\"colorscale\":[[0.0,\"#0d0887\"],[0.1111111111111111,\"#46039f\"],[0.2222222222222222,\"#7201a8\"],[0.3333333333333333,\"#9c179e\"],[0.4444444444444444,\"#bd3786\"],[0.5555555555555556,\"#d8576b\"],[0.6666666666666666,\"#ed7953\"],[0.7777777777777778,\"#fb9f3a\"],[0.8888888888888888,\"#fdca26\"],[1.0,\"#f0f921\"]],\"type\":\"heatmapgl\"}],\"heatmap\":[{\"colorbar\":{\"outlinewidth\":0,\"ticks\":\"\"},\"colorscale\":[[0.0,\"#0d0887\"],[0.1111111111111111,\"#46039f\"],[0.2222222222222222,\"#7201a8\"],[0.3333333333333333,\"#9c179e\"],[0.4444444444444444,\"#bd3786\"],[0.5555555555555556,\"#d8576b\"],[0.6666666666666666,\"#ed7953\"],[0.7777777777777778,\"#fb9f3a\"],[0.8888888888888888,\"#fdca26\"],[1.0,\"#f0f921\"]],\"type\":\"heatmap\"}],\"histogram2dcontour\":[{\"colorbar\":{\"outlinewidth\":0,\"ticks\":\"\"},\"colorscale\":[[0.0,\"#0d0887\"],[0.1111111111111111,\"#46039f\"],[0.2222222222222222,\"#7201a8\"],[0.3333333333333333,\"#9c179e\"],[0.4444444444444444,\"#bd3786\"],[0.5555555555555556,\"#d8576b\"],[0.6666666666666666,\"#ed7953\"],[0.7777777777777778,\"#fb9f3a\"],[0.8888888888888888,\"#fdca26\"],[1.0,\"#f0f921\"]],\"type\":\"histogram2dcontour\"}],\"histogram2d\":[{\"colorbar\":{\"outlinewidth\":0,\"ticks\":\"\"},\"colorscale\":[[0.0,\"#0d0887\"],[0.1111111111111111,\"#46039f\"],[0.2222222222222222,\"#7201a8\"],[0.3333333333333333,\"#9c179e\"],[0.4444444444444444,\"#bd3786\"],[0.5555555555555556,\"#d8576b\"],[0.6666666666666666,\"#ed7953\"],[0.7777777777777778,\"#fb9f3a\"],[0.8888888888888888,\"#fdca26\"],[1.0,\"#f0f921\"]],\"type\":\"histogram2d\"}],\"histogram\":[{\"marker\":{\"pattern\":{\"fillmode\":\"overlay\",\"size\":10,\"solidity\":0.2}},\"type\":\"histogram\"}],\"mesh3d\":[{\"colorbar\":{\"outlinewidth\":0,\"ticks\":\"\"},\"type\":\"mesh3d\"}],\"parcoords\":[{\"line\":{\"colorbar\":{\"outlinewidth\":0,\"ticks\":\"\"}},\"type\":\"parcoords\"}],\"pie\":[{\"automargin\":true,\"type\":\"pie\"}],\"scatter3d\":[{\"line\":{\"colorbar\":{\"outlinewidth\":0,\"ticks\":\"\"}},\"marker\":{\"colorbar\":{\"outlinewidth\":0,\"ticks\":\"\"}},\"type\":\"scatter3d\"}],\"scattercarpet\":[{\"marker\":{\"colorbar\":{\"outlinewidth\":0,\"ticks\":\"\"}},\"type\":\"scattercarpet\"}],\"scattergeo\":[{\"marker\":{\"colorbar\":{\"outlinewidth\":0,\"ticks\":\"\"}},\"type\":\"scattergeo\"}],\"scattergl\":[{\"marker\":{\"colorbar\":{\"outlinewidth\":0,\"ticks\":\"\"}},\"type\":\"scattergl\"}],\"scattermapbox\":[{\"marker\":{\"colorbar\":{\"outlinewidth\":0,\"ticks\":\"\"}},\"type\":\"scattermapbox\"}],\"scatterpolargl\":[{\"marker\":{\"colorbar\":{\"outlinewidth\":0,\"ticks\":\"\"}},\"type\":\"scatterpolargl\"}],\"scatterpolar\":[{\"marker\":{\"colorbar\":{\"outlinewidth\":0,\"ticks\":\"\"}},\"type\":\"scatterpolar\"}],\"scatter\":[{\"marker\":{\"colorbar\":{\"outlinewidth\":0,\"ticks\":\"\"}},\"type\":\"scatter\"}],\"scatterternary\":[{\"marker\":{\"colorbar\":{\"outlinewidth\":0,\"ticks\":\"\"}},\"type\":\"scatterternary\"}],\"surface\":[{\"colorbar\":{\"outlinewidth\":0,\"ticks\":\"\"},\"colorscale\":[[0.0,\"#0d0887\"],[0.1111111111111111,\"#46039f\"],[0.2222222222222222,\"#7201a8\"],[0.3333333333333333,\"#9c179e\"],[0.4444444444444444,\"#bd3786\"],[0.5555555555555556,\"#d8576b\"],[0.6666666666666666,\"#ed7953\"],[0.7777777777777778,\"#fb9f3a\"],[0.8888888888888888,\"#fdca26\"],[1.0,\"#f0f921\"]],\"type\":\"surface\"}],\"table\":[{\"cells\":{\"fill\":{\"color\":\"#EBF0F8\"},\"line\":{\"color\":\"white\"}},\"header\":{\"fill\":{\"color\":\"#C8D4E3\"},\"line\":{\"color\":\"white\"}},\"type\":\"table\"}]},\"layout\":{\"annotationdefaults\":{\"arrowcolor\":\"#2a3f5f\",\"arrowhead\":0,\"arrowwidth\":1},\"autotypenumbers\":\"strict\",\"coloraxis\":{\"colorbar\":{\"outlinewidth\":0,\"ticks\":\"\"}},\"colorscale\":{\"diverging\":[[0,\"#8e0152\"],[0.1,\"#c51b7d\"],[0.2,\"#de77ae\"],[0.3,\"#f1b6da\"],[0.4,\"#fde0ef\"],[0.5,\"#f7f7f7\"],[0.6,\"#e6f5d0\"],[0.7,\"#b8e186\"],[0.8,\"#7fbc41\"],[0.9,\"#4d9221\"],[1,\"#276419\"]],\"sequential\":[[0.0,\"#0d0887\"],[0.1111111111111111,\"#46039f\"],[0.2222222222222222,\"#7201a8\"],[0.3333333333333333,\"#9c179e\"],[0.4444444444444444,\"#bd3786\"],[0.5555555555555556,\"#d8576b\"],[0.6666666666666666,\"#ed7953\"],[0.7777777777777778,\"#fb9f3a\"],[0.8888888888888888,\"#fdca26\"],[1.0,\"#f0f921\"]],\"sequentialminus\":[[0.0,\"#0d0887\"],[0.1111111111111111,\"#46039f\"],[0.2222222222222222,\"#7201a8\"],[0.3333333333333333,\"#9c179e\"],[0.4444444444444444,\"#bd3786\"],[0.5555555555555556,\"#d8576b\"],[0.6666666666666666,\"#ed7953\"],[0.7777777777777778,\"#fb9f3a\"],[0.8888888888888888,\"#fdca26\"],[1.0,\"#f0f921\"]]},\"colorway\":[\"#636efa\",\"#EF553B\",\"#00cc96\",\"#ab63fa\",\"#FFA15A\",\"#19d3f3\",\"#FF6692\",\"#B6E880\",\"#FF97FF\",\"#FECB52\"],\"font\":{\"color\":\"#2a3f5f\"},\"geo\":{\"bgcolor\":\"white\",\"lakecolor\":\"white\",\"landcolor\":\"#E5ECF6\",\"showlakes\":true,\"showland\":true,\"subunitcolor\":\"white\"},\"hoverlabel\":{\"align\":\"left\"},\"hovermode\":\"closest\",\"mapbox\":{\"style\":\"light\"},\"paper_bgcolor\":\"white\",\"plot_bgcolor\":\"#E5ECF6\",\"polar\":{\"angularaxis\":{\"gridcolor\":\"white\",\"linecolor\":\"white\",\"ticks\":\"\"},\"bgcolor\":\"#E5ECF6\",\"radialaxis\":{\"gridcolor\":\"white\",\"linecolor\":\"white\",\"ticks\":\"\"}},\"scene\":{\"xaxis\":{\"backgroundcolor\":\"#E5ECF6\",\"gridcolor\":\"white\",\"gridwidth\":2,\"linecolor\":\"white\",\"showbackground\":true,\"ticks\":\"\",\"zerolinecolor\":\"white\"},\"yaxis\":{\"backgroundcolor\":\"#E5ECF6\",\"gridcolor\":\"white\",\"gridwidth\":2,\"linecolor\":\"white\",\"showbackground\":true,\"ticks\":\"\",\"zerolinecolor\":\"white\"},\"zaxis\":{\"backgroundcolor\":\"#E5ECF6\",\"gridcolor\":\"white\",\"gridwidth\":2,\"linecolor\":\"white\",\"showbackground\":true,\"ticks\":\"\",\"zerolinecolor\":\"white\"}},\"shapedefaults\":{\"line\":{\"color\":\"#2a3f5f\"}},\"ternary\":{\"aaxis\":{\"gridcolor\":\"white\",\"linecolor\":\"white\",\"ticks\":\"\"},\"baxis\":{\"gridcolor\":\"white\",\"linecolor\":\"white\",\"ticks\":\"\"},\"bgcolor\":\"#E5ECF6\",\"caxis\":{\"gridcolor\":\"white\",\"linecolor\":\"white\",\"ticks\":\"\"}},\"title\":{\"x\":0.05},\"xaxis\":{\"automargin\":true,\"gridcolor\":\"white\",\"linecolor\":\"white\",\"ticks\":\"\",\"title\":{\"standoff\":15},\"zerolinecolor\":\"white\",\"zerolinewidth\":2},\"yaxis\":{\"automargin\":true,\"gridcolor\":\"white\",\"linecolor\":\"white\",\"ticks\":\"\",\"title\":{\"standoff\":15},\"zerolinecolor\":\"white\",\"zerolinewidth\":2}}},\"title\":{\"text\":\"Total Investment Comparisons by Ticker\"},\"xaxis\":{\"title\":{\"text\":\"Ticker\"}},\"yaxis\":{\"title\":{\"text\":\"Returns\"}}},                        {\"responsive\": true}                    ).then(function(){\n",
       "                            \n",
       "var gd = document.getElementById('420be0f6-4bdc-4852-99ed-48ee424c5419');\n",
       "var x = new MutationObserver(function (mutations, observer) {{\n",
       "        var display = window.getComputedStyle(gd).display;\n",
       "        if (!display || display === 'none') {{\n",
       "            console.log([gd, 'removed!']);\n",
       "            Plotly.purge(gd);\n",
       "            observer.disconnect();\n",
       "        }}\n",
       "}});\n",
       "\n",
       "// Listen for the removal of the full notebook cells\n",
       "var notebookContainer = gd.closest('#notebook-container');\n",
       "if (notebookContainer) {{\n",
       "    x.observe(notebookContainer, {childList: true});\n",
       "}}\n",
       "\n",
       "// Listen for the clearing of the current output cell\n",
       "var outputEl = gd.closest('.output');\n",
       "if (outputEl) {{\n",
       "    x.observe(outputEl, {childList: true});\n",
       "}}\n",
       "\n",
       "                        })                };                });            </script>        </div>"
      ]
     },
     "metadata": {},
     "output_type": "display_data"
    }
   ],
   "source": [
    "trace1 = go.Scatter(\n",
    "    x = merged_portfolio_sp_latest_YTD_sp_chart['Ticker #'],\n",
    "    y = merged_portfolio_sp_latest_YTD_sp_chart['Cum Invst'],\n",
    "    mode = 'lines+markers',\n",
    "    name = 'Cum Invst')\n",
    "\n",
    "trace2 = go.Scatter(\n",
    "    x = merged_portfolio_sp_latest_YTD_sp_chart['Ticker #'],\n",
    "    y = merged_portfolio_sp_latest_YTD_sp_chart['Cum Ticker Returns'],\n",
    "    mode = 'lines+markers',\n",
    "    name = 'Cum Ticker Returns')\n",
    "\n",
    "trace3 = go.Scatter(\n",
    "    x = merged_portfolio_sp_latest_YTD_sp_chart['Ticker #'],\n",
    "    y = merged_portfolio_sp_latest_YTD_sp_chart['Cum SP Returns'],\n",
    "    mode = 'lines+markers',\n",
    "    name = 'Cum SP500 Returns')\n",
    "\n",
    "data = [trace1, trace2, trace3]\n",
    "\n",
    "layout = go.Layout(title = 'Total Investment Comparisons by Ticker'\n",
    "    , barmode = 'group'\n",
    "    , yaxis=dict(title='Returns')\n",
    "    , xaxis=dict(title='Ticker')\n",
    "    , legend=dict(x=1,y=1)\n",
    "    )\n",
    "\n",
    "fig = go.Figure(data=data, layout=layout)\n",
    "iplot(fig)"
   ]
  },
  {
   "cell_type": "code",
   "execution_count": 99,
   "metadata": {},
   "outputs": [
    {
     "data": {
      "application/vnd.plotly.v1+json": {
       "config": {
        "linkText": "Export to plot.ly",
        "plotlyServerURL": "https://plot.ly",
        "showLink": false
       },
       "data": [
        {
         "mode": "lines+markers",
         "name": "Cum Ticker ROI Pct",
         "type": "scatter",
         "x": [
          "AGG 0",
          "DBC 1",
          "IAU 2",
          "IGOV 3",
          "VEU 4",
          "VNQ 5",
          "VTI 6",
          "VTI 7"
         ],
         "y": [
          0.06062907032821152,
          -0.027120423074010414,
          0.1435175114972067,
          0.12438882773335025,
          0.10176226275454603,
          0.11707058891718636,
          0.31482293059237176,
          0.35785219086450293
         ]
        },
        {
         "mode": "lines+markers",
         "name": "Cum SP ROI Pct",
         "type": "scatter",
         "x": [
          "AGG 0",
          "DBC 1",
          "IAU 2",
          "IGOV 3",
          "VEU 4",
          "VNQ 5",
          "VTI 6",
          "VTI 7"
         ],
         "y": [
          0.5519234605471588,
          0.5519234605471588,
          0.5519234605471588,
          0.5519234605471588,
          0.551923460547159,
          0.551923460547159,
          0.551923460547159,
          0.5503055234320995
         ]
        }
       ],
       "layout": {
        "barmode": "group",
        "legend": {
         "x": 1,
         "y": 1
        },
        "template": {
         "data": {
          "bar": [
           {
            "error_x": {
             "color": "#2a3f5f"
            },
            "error_y": {
             "color": "#2a3f5f"
            },
            "marker": {
             "line": {
              "color": "#E5ECF6",
              "width": 0.5
             },
             "pattern": {
              "fillmode": "overlay",
              "size": 10,
              "solidity": 0.2
             }
            },
            "type": "bar"
           }
          ],
          "barpolar": [
           {
            "marker": {
             "line": {
              "color": "#E5ECF6",
              "width": 0.5
             },
             "pattern": {
              "fillmode": "overlay",
              "size": 10,
              "solidity": 0.2
             }
            },
            "type": "barpolar"
           }
          ],
          "carpet": [
           {
            "aaxis": {
             "endlinecolor": "#2a3f5f",
             "gridcolor": "white",
             "linecolor": "white",
             "minorgridcolor": "white",
             "startlinecolor": "#2a3f5f"
            },
            "baxis": {
             "endlinecolor": "#2a3f5f",
             "gridcolor": "white",
             "linecolor": "white",
             "minorgridcolor": "white",
             "startlinecolor": "#2a3f5f"
            },
            "type": "carpet"
           }
          ],
          "choropleth": [
           {
            "colorbar": {
             "outlinewidth": 0,
             "ticks": ""
            },
            "type": "choropleth"
           }
          ],
          "contour": [
           {
            "colorbar": {
             "outlinewidth": 0,
             "ticks": ""
            },
            "colorscale": [
             [
              0,
              "#0d0887"
             ],
             [
              0.1111111111111111,
              "#46039f"
             ],
             [
              0.2222222222222222,
              "#7201a8"
             ],
             [
              0.3333333333333333,
              "#9c179e"
             ],
             [
              0.4444444444444444,
              "#bd3786"
             ],
             [
              0.5555555555555556,
              "#d8576b"
             ],
             [
              0.6666666666666666,
              "#ed7953"
             ],
             [
              0.7777777777777778,
              "#fb9f3a"
             ],
             [
              0.8888888888888888,
              "#fdca26"
             ],
             [
              1,
              "#f0f921"
             ]
            ],
            "type": "contour"
           }
          ],
          "contourcarpet": [
           {
            "colorbar": {
             "outlinewidth": 0,
             "ticks": ""
            },
            "type": "contourcarpet"
           }
          ],
          "heatmap": [
           {
            "colorbar": {
             "outlinewidth": 0,
             "ticks": ""
            },
            "colorscale": [
             [
              0,
              "#0d0887"
             ],
             [
              0.1111111111111111,
              "#46039f"
             ],
             [
              0.2222222222222222,
              "#7201a8"
             ],
             [
              0.3333333333333333,
              "#9c179e"
             ],
             [
              0.4444444444444444,
              "#bd3786"
             ],
             [
              0.5555555555555556,
              "#d8576b"
             ],
             [
              0.6666666666666666,
              "#ed7953"
             ],
             [
              0.7777777777777778,
              "#fb9f3a"
             ],
             [
              0.8888888888888888,
              "#fdca26"
             ],
             [
              1,
              "#f0f921"
             ]
            ],
            "type": "heatmap"
           }
          ],
          "heatmapgl": [
           {
            "colorbar": {
             "outlinewidth": 0,
             "ticks": ""
            },
            "colorscale": [
             [
              0,
              "#0d0887"
             ],
             [
              0.1111111111111111,
              "#46039f"
             ],
             [
              0.2222222222222222,
              "#7201a8"
             ],
             [
              0.3333333333333333,
              "#9c179e"
             ],
             [
              0.4444444444444444,
              "#bd3786"
             ],
             [
              0.5555555555555556,
              "#d8576b"
             ],
             [
              0.6666666666666666,
              "#ed7953"
             ],
             [
              0.7777777777777778,
              "#fb9f3a"
             ],
             [
              0.8888888888888888,
              "#fdca26"
             ],
             [
              1,
              "#f0f921"
             ]
            ],
            "type": "heatmapgl"
           }
          ],
          "histogram": [
           {
            "marker": {
             "pattern": {
              "fillmode": "overlay",
              "size": 10,
              "solidity": 0.2
             }
            },
            "type": "histogram"
           }
          ],
          "histogram2d": [
           {
            "colorbar": {
             "outlinewidth": 0,
             "ticks": ""
            },
            "colorscale": [
             [
              0,
              "#0d0887"
             ],
             [
              0.1111111111111111,
              "#46039f"
             ],
             [
              0.2222222222222222,
              "#7201a8"
             ],
             [
              0.3333333333333333,
              "#9c179e"
             ],
             [
              0.4444444444444444,
              "#bd3786"
             ],
             [
              0.5555555555555556,
              "#d8576b"
             ],
             [
              0.6666666666666666,
              "#ed7953"
             ],
             [
              0.7777777777777778,
              "#fb9f3a"
             ],
             [
              0.8888888888888888,
              "#fdca26"
             ],
             [
              1,
              "#f0f921"
             ]
            ],
            "type": "histogram2d"
           }
          ],
          "histogram2dcontour": [
           {
            "colorbar": {
             "outlinewidth": 0,
             "ticks": ""
            },
            "colorscale": [
             [
              0,
              "#0d0887"
             ],
             [
              0.1111111111111111,
              "#46039f"
             ],
             [
              0.2222222222222222,
              "#7201a8"
             ],
             [
              0.3333333333333333,
              "#9c179e"
             ],
             [
              0.4444444444444444,
              "#bd3786"
             ],
             [
              0.5555555555555556,
              "#d8576b"
             ],
             [
              0.6666666666666666,
              "#ed7953"
             ],
             [
              0.7777777777777778,
              "#fb9f3a"
             ],
             [
              0.8888888888888888,
              "#fdca26"
             ],
             [
              1,
              "#f0f921"
             ]
            ],
            "type": "histogram2dcontour"
           }
          ],
          "mesh3d": [
           {
            "colorbar": {
             "outlinewidth": 0,
             "ticks": ""
            },
            "type": "mesh3d"
           }
          ],
          "parcoords": [
           {
            "line": {
             "colorbar": {
              "outlinewidth": 0,
              "ticks": ""
             }
            },
            "type": "parcoords"
           }
          ],
          "pie": [
           {
            "automargin": true,
            "type": "pie"
           }
          ],
          "scatter": [
           {
            "marker": {
             "colorbar": {
              "outlinewidth": 0,
              "ticks": ""
             }
            },
            "type": "scatter"
           }
          ],
          "scatter3d": [
           {
            "line": {
             "colorbar": {
              "outlinewidth": 0,
              "ticks": ""
             }
            },
            "marker": {
             "colorbar": {
              "outlinewidth": 0,
              "ticks": ""
             }
            },
            "type": "scatter3d"
           }
          ],
          "scattercarpet": [
           {
            "marker": {
             "colorbar": {
              "outlinewidth": 0,
              "ticks": ""
             }
            },
            "type": "scattercarpet"
           }
          ],
          "scattergeo": [
           {
            "marker": {
             "colorbar": {
              "outlinewidth": 0,
              "ticks": ""
             }
            },
            "type": "scattergeo"
           }
          ],
          "scattergl": [
           {
            "marker": {
             "colorbar": {
              "outlinewidth": 0,
              "ticks": ""
             }
            },
            "type": "scattergl"
           }
          ],
          "scattermapbox": [
           {
            "marker": {
             "colorbar": {
              "outlinewidth": 0,
              "ticks": ""
             }
            },
            "type": "scattermapbox"
           }
          ],
          "scatterpolar": [
           {
            "marker": {
             "colorbar": {
              "outlinewidth": 0,
              "ticks": ""
             }
            },
            "type": "scatterpolar"
           }
          ],
          "scatterpolargl": [
           {
            "marker": {
             "colorbar": {
              "outlinewidth": 0,
              "ticks": ""
             }
            },
            "type": "scatterpolargl"
           }
          ],
          "scatterternary": [
           {
            "marker": {
             "colorbar": {
              "outlinewidth": 0,
              "ticks": ""
             }
            },
            "type": "scatterternary"
           }
          ],
          "surface": [
           {
            "colorbar": {
             "outlinewidth": 0,
             "ticks": ""
            },
            "colorscale": [
             [
              0,
              "#0d0887"
             ],
             [
              0.1111111111111111,
              "#46039f"
             ],
             [
              0.2222222222222222,
              "#7201a8"
             ],
             [
              0.3333333333333333,
              "#9c179e"
             ],
             [
              0.4444444444444444,
              "#bd3786"
             ],
             [
              0.5555555555555556,
              "#d8576b"
             ],
             [
              0.6666666666666666,
              "#ed7953"
             ],
             [
              0.7777777777777778,
              "#fb9f3a"
             ],
             [
              0.8888888888888888,
              "#fdca26"
             ],
             [
              1,
              "#f0f921"
             ]
            ],
            "type": "surface"
           }
          ],
          "table": [
           {
            "cells": {
             "fill": {
              "color": "#EBF0F8"
             },
             "line": {
              "color": "white"
             }
            },
            "header": {
             "fill": {
              "color": "#C8D4E3"
             },
             "line": {
              "color": "white"
             }
            },
            "type": "table"
           }
          ]
         },
         "layout": {
          "annotationdefaults": {
           "arrowcolor": "#2a3f5f",
           "arrowhead": 0,
           "arrowwidth": 1
          },
          "autotypenumbers": "strict",
          "coloraxis": {
           "colorbar": {
            "outlinewidth": 0,
            "ticks": ""
           }
          },
          "colorscale": {
           "diverging": [
            [
             0,
             "#8e0152"
            ],
            [
             0.1,
             "#c51b7d"
            ],
            [
             0.2,
             "#de77ae"
            ],
            [
             0.3,
             "#f1b6da"
            ],
            [
             0.4,
             "#fde0ef"
            ],
            [
             0.5,
             "#f7f7f7"
            ],
            [
             0.6,
             "#e6f5d0"
            ],
            [
             0.7,
             "#b8e186"
            ],
            [
             0.8,
             "#7fbc41"
            ],
            [
             0.9,
             "#4d9221"
            ],
            [
             1,
             "#276419"
            ]
           ],
           "sequential": [
            [
             0,
             "#0d0887"
            ],
            [
             0.1111111111111111,
             "#46039f"
            ],
            [
             0.2222222222222222,
             "#7201a8"
            ],
            [
             0.3333333333333333,
             "#9c179e"
            ],
            [
             0.4444444444444444,
             "#bd3786"
            ],
            [
             0.5555555555555556,
             "#d8576b"
            ],
            [
             0.6666666666666666,
             "#ed7953"
            ],
            [
             0.7777777777777778,
             "#fb9f3a"
            ],
            [
             0.8888888888888888,
             "#fdca26"
            ],
            [
             1,
             "#f0f921"
            ]
           ],
           "sequentialminus": [
            [
             0,
             "#0d0887"
            ],
            [
             0.1111111111111111,
             "#46039f"
            ],
            [
             0.2222222222222222,
             "#7201a8"
            ],
            [
             0.3333333333333333,
             "#9c179e"
            ],
            [
             0.4444444444444444,
             "#bd3786"
            ],
            [
             0.5555555555555556,
             "#d8576b"
            ],
            [
             0.6666666666666666,
             "#ed7953"
            ],
            [
             0.7777777777777778,
             "#fb9f3a"
            ],
            [
             0.8888888888888888,
             "#fdca26"
            ],
            [
             1,
             "#f0f921"
            ]
           ]
          },
          "colorway": [
           "#636efa",
           "#EF553B",
           "#00cc96",
           "#ab63fa",
           "#FFA15A",
           "#19d3f3",
           "#FF6692",
           "#B6E880",
           "#FF97FF",
           "#FECB52"
          ],
          "font": {
           "color": "#2a3f5f"
          },
          "geo": {
           "bgcolor": "white",
           "lakecolor": "white",
           "landcolor": "#E5ECF6",
           "showlakes": true,
           "showland": true,
           "subunitcolor": "white"
          },
          "hoverlabel": {
           "align": "left"
          },
          "hovermode": "closest",
          "mapbox": {
           "style": "light"
          },
          "paper_bgcolor": "white",
          "plot_bgcolor": "#E5ECF6",
          "polar": {
           "angularaxis": {
            "gridcolor": "white",
            "linecolor": "white",
            "ticks": ""
           },
           "bgcolor": "#E5ECF6",
           "radialaxis": {
            "gridcolor": "white",
            "linecolor": "white",
            "ticks": ""
           }
          },
          "scene": {
           "xaxis": {
            "backgroundcolor": "#E5ECF6",
            "gridcolor": "white",
            "gridwidth": 2,
            "linecolor": "white",
            "showbackground": true,
            "ticks": "",
            "zerolinecolor": "white"
           },
           "yaxis": {
            "backgroundcolor": "#E5ECF6",
            "gridcolor": "white",
            "gridwidth": 2,
            "linecolor": "white",
            "showbackground": true,
            "ticks": "",
            "zerolinecolor": "white"
           },
           "zaxis": {
            "backgroundcolor": "#E5ECF6",
            "gridcolor": "white",
            "gridwidth": 2,
            "linecolor": "white",
            "showbackground": true,
            "ticks": "",
            "zerolinecolor": "white"
           }
          },
          "shapedefaults": {
           "line": {
            "color": "#2a3f5f"
           }
          },
          "ternary": {
           "aaxis": {
            "gridcolor": "white",
            "linecolor": "white",
            "ticks": ""
           },
           "baxis": {
            "gridcolor": "white",
            "linecolor": "white",
            "ticks": ""
           },
           "bgcolor": "#E5ECF6",
           "caxis": {
            "gridcolor": "white",
            "linecolor": "white",
            "ticks": ""
           }
          },
          "title": {
           "x": 0.05
          },
          "xaxis": {
           "automargin": true,
           "gridcolor": "white",
           "linecolor": "white",
           "ticks": "",
           "title": {
            "standoff": 15
           },
           "zerolinecolor": "white",
           "zerolinewidth": 2
          },
          "yaxis": {
           "automargin": true,
           "gridcolor": "white",
           "linecolor": "white",
           "ticks": "",
           "title": {
            "standoff": 15
           },
           "zerolinecolor": "white",
           "zerolinewidth": 2
          }
         }
        },
        "title": {
         "text": "Pct Comparisons by Ticker"
        },
        "xaxis": {
         "title": {
          "text": "Ticker"
         }
        },
        "yaxis": {
         "tickformat": ".2%",
         "title": {
          "text": "Returns"
         }
        }
       }
      },
      "text/html": [
       "<div>                            <div id=\"fad54ce5-9e90-45f7-8699-cc73d1ec09ec\" class=\"plotly-graph-div\" style=\"height:525px; width:100%;\"></div>            <script type=\"text/javascript\">                require([\"plotly\"], function(Plotly) {                    window.PLOTLYENV=window.PLOTLYENV || {};                                    if (document.getElementById(\"fad54ce5-9e90-45f7-8699-cc73d1ec09ec\")) {                    Plotly.newPlot(                        \"fad54ce5-9e90-45f7-8699-cc73d1ec09ec\",                        [{\"mode\":\"lines+markers\",\"name\":\"Cum Ticker ROI Pct\",\"x\":[\"AGG 0\",\"DBC 1\",\"IAU 2\",\"IGOV 3\",\"VEU 4\",\"VNQ 5\",\"VTI 6\",\"VTI 7\"],\"y\":[0.06062907032821152,-0.027120423074010414,0.1435175114972067,0.12438882773335025,0.10176226275454603,0.11707058891718636,0.31482293059237176,0.35785219086450293],\"type\":\"scatter\"},{\"mode\":\"lines+markers\",\"name\":\"Cum SP ROI Pct\",\"x\":[\"AGG 0\",\"DBC 1\",\"IAU 2\",\"IGOV 3\",\"VEU 4\",\"VNQ 5\",\"VTI 6\",\"VTI 7\"],\"y\":[0.5519234605471588,0.5519234605471588,0.5519234605471588,0.5519234605471588,0.551923460547159,0.551923460547159,0.551923460547159,0.5503055234320995],\"type\":\"scatter\"}],                        {\"barmode\":\"group\",\"legend\":{\"x\":1,\"y\":1},\"template\":{\"data\":{\"barpolar\":[{\"marker\":{\"line\":{\"color\":\"#E5ECF6\",\"width\":0.5},\"pattern\":{\"fillmode\":\"overlay\",\"size\":10,\"solidity\":0.2}},\"type\":\"barpolar\"}],\"bar\":[{\"error_x\":{\"color\":\"#2a3f5f\"},\"error_y\":{\"color\":\"#2a3f5f\"},\"marker\":{\"line\":{\"color\":\"#E5ECF6\",\"width\":0.5},\"pattern\":{\"fillmode\":\"overlay\",\"size\":10,\"solidity\":0.2}},\"type\":\"bar\"}],\"carpet\":[{\"aaxis\":{\"endlinecolor\":\"#2a3f5f\",\"gridcolor\":\"white\",\"linecolor\":\"white\",\"minorgridcolor\":\"white\",\"startlinecolor\":\"#2a3f5f\"},\"baxis\":{\"endlinecolor\":\"#2a3f5f\",\"gridcolor\":\"white\",\"linecolor\":\"white\",\"minorgridcolor\":\"white\",\"startlinecolor\":\"#2a3f5f\"},\"type\":\"carpet\"}],\"choropleth\":[{\"colorbar\":{\"outlinewidth\":0,\"ticks\":\"\"},\"type\":\"choropleth\"}],\"contourcarpet\":[{\"colorbar\":{\"outlinewidth\":0,\"ticks\":\"\"},\"type\":\"contourcarpet\"}],\"contour\":[{\"colorbar\":{\"outlinewidth\":0,\"ticks\":\"\"},\"colorscale\":[[0.0,\"#0d0887\"],[0.1111111111111111,\"#46039f\"],[0.2222222222222222,\"#7201a8\"],[0.3333333333333333,\"#9c179e\"],[0.4444444444444444,\"#bd3786\"],[0.5555555555555556,\"#d8576b\"],[0.6666666666666666,\"#ed7953\"],[0.7777777777777778,\"#fb9f3a\"],[0.8888888888888888,\"#fdca26\"],[1.0,\"#f0f921\"]],\"type\":\"contour\"}],\"heatmapgl\":[{\"colorbar\":{\"outlinewidth\":0,\"ticks\":\"\"},\"colorscale\":[[0.0,\"#0d0887\"],[0.1111111111111111,\"#46039f\"],[0.2222222222222222,\"#7201a8\"],[0.3333333333333333,\"#9c179e\"],[0.4444444444444444,\"#bd3786\"],[0.5555555555555556,\"#d8576b\"],[0.6666666666666666,\"#ed7953\"],[0.7777777777777778,\"#fb9f3a\"],[0.8888888888888888,\"#fdca26\"],[1.0,\"#f0f921\"]],\"type\":\"heatmapgl\"}],\"heatmap\":[{\"colorbar\":{\"outlinewidth\":0,\"ticks\":\"\"},\"colorscale\":[[0.0,\"#0d0887\"],[0.1111111111111111,\"#46039f\"],[0.2222222222222222,\"#7201a8\"],[0.3333333333333333,\"#9c179e\"],[0.4444444444444444,\"#bd3786\"],[0.5555555555555556,\"#d8576b\"],[0.6666666666666666,\"#ed7953\"],[0.7777777777777778,\"#fb9f3a\"],[0.8888888888888888,\"#fdca26\"],[1.0,\"#f0f921\"]],\"type\":\"heatmap\"}],\"histogram2dcontour\":[{\"colorbar\":{\"outlinewidth\":0,\"ticks\":\"\"},\"colorscale\":[[0.0,\"#0d0887\"],[0.1111111111111111,\"#46039f\"],[0.2222222222222222,\"#7201a8\"],[0.3333333333333333,\"#9c179e\"],[0.4444444444444444,\"#bd3786\"],[0.5555555555555556,\"#d8576b\"],[0.6666666666666666,\"#ed7953\"],[0.7777777777777778,\"#fb9f3a\"],[0.8888888888888888,\"#fdca26\"],[1.0,\"#f0f921\"]],\"type\":\"histogram2dcontour\"}],\"histogram2d\":[{\"colorbar\":{\"outlinewidth\":0,\"ticks\":\"\"},\"colorscale\":[[0.0,\"#0d0887\"],[0.1111111111111111,\"#46039f\"],[0.2222222222222222,\"#7201a8\"],[0.3333333333333333,\"#9c179e\"],[0.4444444444444444,\"#bd3786\"],[0.5555555555555556,\"#d8576b\"],[0.6666666666666666,\"#ed7953\"],[0.7777777777777778,\"#fb9f3a\"],[0.8888888888888888,\"#fdca26\"],[1.0,\"#f0f921\"]],\"type\":\"histogram2d\"}],\"histogram\":[{\"marker\":{\"pattern\":{\"fillmode\":\"overlay\",\"size\":10,\"solidity\":0.2}},\"type\":\"histogram\"}],\"mesh3d\":[{\"colorbar\":{\"outlinewidth\":0,\"ticks\":\"\"},\"type\":\"mesh3d\"}],\"parcoords\":[{\"line\":{\"colorbar\":{\"outlinewidth\":0,\"ticks\":\"\"}},\"type\":\"parcoords\"}],\"pie\":[{\"automargin\":true,\"type\":\"pie\"}],\"scatter3d\":[{\"line\":{\"colorbar\":{\"outlinewidth\":0,\"ticks\":\"\"}},\"marker\":{\"colorbar\":{\"outlinewidth\":0,\"ticks\":\"\"}},\"type\":\"scatter3d\"}],\"scattercarpet\":[{\"marker\":{\"colorbar\":{\"outlinewidth\":0,\"ticks\":\"\"}},\"type\":\"scattercarpet\"}],\"scattergeo\":[{\"marker\":{\"colorbar\":{\"outlinewidth\":0,\"ticks\":\"\"}},\"type\":\"scattergeo\"}],\"scattergl\":[{\"marker\":{\"colorbar\":{\"outlinewidth\":0,\"ticks\":\"\"}},\"type\":\"scattergl\"}],\"scattermapbox\":[{\"marker\":{\"colorbar\":{\"outlinewidth\":0,\"ticks\":\"\"}},\"type\":\"scattermapbox\"}],\"scatterpolargl\":[{\"marker\":{\"colorbar\":{\"outlinewidth\":0,\"ticks\":\"\"}},\"type\":\"scatterpolargl\"}],\"scatterpolar\":[{\"marker\":{\"colorbar\":{\"outlinewidth\":0,\"ticks\":\"\"}},\"type\":\"scatterpolar\"}],\"scatter\":[{\"marker\":{\"colorbar\":{\"outlinewidth\":0,\"ticks\":\"\"}},\"type\":\"scatter\"}],\"scatterternary\":[{\"marker\":{\"colorbar\":{\"outlinewidth\":0,\"ticks\":\"\"}},\"type\":\"scatterternary\"}],\"surface\":[{\"colorbar\":{\"outlinewidth\":0,\"ticks\":\"\"},\"colorscale\":[[0.0,\"#0d0887\"],[0.1111111111111111,\"#46039f\"],[0.2222222222222222,\"#7201a8\"],[0.3333333333333333,\"#9c179e\"],[0.4444444444444444,\"#bd3786\"],[0.5555555555555556,\"#d8576b\"],[0.6666666666666666,\"#ed7953\"],[0.7777777777777778,\"#fb9f3a\"],[0.8888888888888888,\"#fdca26\"],[1.0,\"#f0f921\"]],\"type\":\"surface\"}],\"table\":[{\"cells\":{\"fill\":{\"color\":\"#EBF0F8\"},\"line\":{\"color\":\"white\"}},\"header\":{\"fill\":{\"color\":\"#C8D4E3\"},\"line\":{\"color\":\"white\"}},\"type\":\"table\"}]},\"layout\":{\"annotationdefaults\":{\"arrowcolor\":\"#2a3f5f\",\"arrowhead\":0,\"arrowwidth\":1},\"autotypenumbers\":\"strict\",\"coloraxis\":{\"colorbar\":{\"outlinewidth\":0,\"ticks\":\"\"}},\"colorscale\":{\"diverging\":[[0,\"#8e0152\"],[0.1,\"#c51b7d\"],[0.2,\"#de77ae\"],[0.3,\"#f1b6da\"],[0.4,\"#fde0ef\"],[0.5,\"#f7f7f7\"],[0.6,\"#e6f5d0\"],[0.7,\"#b8e186\"],[0.8,\"#7fbc41\"],[0.9,\"#4d9221\"],[1,\"#276419\"]],\"sequential\":[[0.0,\"#0d0887\"],[0.1111111111111111,\"#46039f\"],[0.2222222222222222,\"#7201a8\"],[0.3333333333333333,\"#9c179e\"],[0.4444444444444444,\"#bd3786\"],[0.5555555555555556,\"#d8576b\"],[0.6666666666666666,\"#ed7953\"],[0.7777777777777778,\"#fb9f3a\"],[0.8888888888888888,\"#fdca26\"],[1.0,\"#f0f921\"]],\"sequentialminus\":[[0.0,\"#0d0887\"],[0.1111111111111111,\"#46039f\"],[0.2222222222222222,\"#7201a8\"],[0.3333333333333333,\"#9c179e\"],[0.4444444444444444,\"#bd3786\"],[0.5555555555555556,\"#d8576b\"],[0.6666666666666666,\"#ed7953\"],[0.7777777777777778,\"#fb9f3a\"],[0.8888888888888888,\"#fdca26\"],[1.0,\"#f0f921\"]]},\"colorway\":[\"#636efa\",\"#EF553B\",\"#00cc96\",\"#ab63fa\",\"#FFA15A\",\"#19d3f3\",\"#FF6692\",\"#B6E880\",\"#FF97FF\",\"#FECB52\"],\"font\":{\"color\":\"#2a3f5f\"},\"geo\":{\"bgcolor\":\"white\",\"lakecolor\":\"white\",\"landcolor\":\"#E5ECF6\",\"showlakes\":true,\"showland\":true,\"subunitcolor\":\"white\"},\"hoverlabel\":{\"align\":\"left\"},\"hovermode\":\"closest\",\"mapbox\":{\"style\":\"light\"},\"paper_bgcolor\":\"white\",\"plot_bgcolor\":\"#E5ECF6\",\"polar\":{\"angularaxis\":{\"gridcolor\":\"white\",\"linecolor\":\"white\",\"ticks\":\"\"},\"bgcolor\":\"#E5ECF6\",\"radialaxis\":{\"gridcolor\":\"white\",\"linecolor\":\"white\",\"ticks\":\"\"}},\"scene\":{\"xaxis\":{\"backgroundcolor\":\"#E5ECF6\",\"gridcolor\":\"white\",\"gridwidth\":2,\"linecolor\":\"white\",\"showbackground\":true,\"ticks\":\"\",\"zerolinecolor\":\"white\"},\"yaxis\":{\"backgroundcolor\":\"#E5ECF6\",\"gridcolor\":\"white\",\"gridwidth\":2,\"linecolor\":\"white\",\"showbackground\":true,\"ticks\":\"\",\"zerolinecolor\":\"white\"},\"zaxis\":{\"backgroundcolor\":\"#E5ECF6\",\"gridcolor\":\"white\",\"gridwidth\":2,\"linecolor\":\"white\",\"showbackground\":true,\"ticks\":\"\",\"zerolinecolor\":\"white\"}},\"shapedefaults\":{\"line\":{\"color\":\"#2a3f5f\"}},\"ternary\":{\"aaxis\":{\"gridcolor\":\"white\",\"linecolor\":\"white\",\"ticks\":\"\"},\"baxis\":{\"gridcolor\":\"white\",\"linecolor\":\"white\",\"ticks\":\"\"},\"bgcolor\":\"#E5ECF6\",\"caxis\":{\"gridcolor\":\"white\",\"linecolor\":\"white\",\"ticks\":\"\"}},\"title\":{\"x\":0.05},\"xaxis\":{\"automargin\":true,\"gridcolor\":\"white\",\"linecolor\":\"white\",\"ticks\":\"\",\"title\":{\"standoff\":15},\"zerolinecolor\":\"white\",\"zerolinewidth\":2},\"yaxis\":{\"automargin\":true,\"gridcolor\":\"white\",\"linecolor\":\"white\",\"ticks\":\"\",\"title\":{\"standoff\":15},\"zerolinecolor\":\"white\",\"zerolinewidth\":2}}},\"title\":{\"text\":\"Pct Comparisons by Ticker\"},\"xaxis\":{\"title\":{\"text\":\"Ticker\"}},\"yaxis\":{\"tickformat\":\".2%\",\"title\":{\"text\":\"Returns\"}}},                        {\"responsive\": true}                    ).then(function(){\n",
       "                            \n",
       "var gd = document.getElementById('fad54ce5-9e90-45f7-8699-cc73d1ec09ec');\n",
       "var x = new MutationObserver(function (mutations, observer) {{\n",
       "        var display = window.getComputedStyle(gd).display;\n",
       "        if (!display || display === 'none') {{\n",
       "            console.log([gd, 'removed!']);\n",
       "            Plotly.purge(gd);\n",
       "            observer.disconnect();\n",
       "        }}\n",
       "}});\n",
       "\n",
       "// Listen for the removal of the full notebook cells\n",
       "var notebookContainer = gd.closest('#notebook-container');\n",
       "if (notebookContainer) {{\n",
       "    x.observe(notebookContainer, {childList: true});\n",
       "}}\n",
       "\n",
       "// Listen for the clearing of the current output cell\n",
       "var outputEl = gd.closest('.output');\n",
       "if (outputEl) {{\n",
       "    x.observe(outputEl, {childList: true});\n",
       "}}\n",
       "\n",
       "                        })                };                });            </script>        </div>"
      ]
     },
     "metadata": {},
     "output_type": "display_data"
    }
   ],
   "source": [
    "# Graphing the total return percents.\n",
    "\n",
    "trace1 = go.Scatter(\n",
    "    x = merged_portfolio_sp_latest_YTD_sp_chart['Ticker #'],\n",
    "    y = merged_portfolio_sp_latest_YTD_sp_chart['Cum Ticker ROI Pct'],\n",
    "    mode = 'lines+markers',\n",
    "    name = 'Cum Ticker ROI Pct')\n",
    "\n",
    "trace2 = go.Scatter(\n",
    "    x = merged_portfolio_sp_latest_YTD_sp_chart['Ticker #'],\n",
    "    y = merged_portfolio_sp_latest_YTD_sp_chart['Cum SP ROI Pct'],\n",
    "    mode = 'lines+markers',\n",
    "    name = 'Cum SP ROI Pct')\n",
    "\n",
    "data = [trace1, trace2]\n",
    "\n",
    "layout = go.Layout(title = 'Pct Comparisons by Ticker'\n",
    "    , barmode = 'group'\n",
    "    , yaxis=dict(title='Returns', tickformat=\".2%\")\n",
    "    , xaxis=dict(title='Ticker')\n",
    "    , legend=dict(x=1,y=1)\n",
    "    )\n",
    "\n",
    "fig = go.Figure(data=data, layout=layout)\n",
    "iplot(fig)"
   ]
  },
  {
   "cell_type": "markdown",
   "metadata": {},
   "source": [
    "## Closing High Visualizations"
   ]
  },
  {
   "cell_type": "code",
   "execution_count": 100,
   "metadata": {},
   "outputs": [
    {
     "data": {
      "application/vnd.plotly.v1+json": {
       "config": {
        "linkText": "Export to plot.ly",
        "plotlyServerURL": "https://plot.ly",
        "showLink": false
       },
       "data": [
        {
         "name": "Pct off High",
         "type": "bar",
         "x": [
          "AGG 0",
          "DBC 1",
          "IAU 2",
          "IGOV 3",
          "VEU 4",
          "VNQ 5",
          "VTI 6",
          "VTI 7"
         ],
         "y": [
          -0.005771093769496027,
          -0.3900242598584662,
          -0.0728376339847262,
          -0.06099833120382592,
          -0.09207848813906938,
          -0.029074194366716877,
          -0.004277056087250264,
          -0.004277056087250264
         ]
        }
       ],
       "layout": {
        "barmode": "group",
        "legend": {
         "x": 0.8,
         "y": 1
        },
        "template": {
         "data": {
          "bar": [
           {
            "error_x": {
             "color": "#2a3f5f"
            },
            "error_y": {
             "color": "#2a3f5f"
            },
            "marker": {
             "line": {
              "color": "#E5ECF6",
              "width": 0.5
             },
             "pattern": {
              "fillmode": "overlay",
              "size": 10,
              "solidity": 0.2
             }
            },
            "type": "bar"
           }
          ],
          "barpolar": [
           {
            "marker": {
             "line": {
              "color": "#E5ECF6",
              "width": 0.5
             },
             "pattern": {
              "fillmode": "overlay",
              "size": 10,
              "solidity": 0.2
             }
            },
            "type": "barpolar"
           }
          ],
          "carpet": [
           {
            "aaxis": {
             "endlinecolor": "#2a3f5f",
             "gridcolor": "white",
             "linecolor": "white",
             "minorgridcolor": "white",
             "startlinecolor": "#2a3f5f"
            },
            "baxis": {
             "endlinecolor": "#2a3f5f",
             "gridcolor": "white",
             "linecolor": "white",
             "minorgridcolor": "white",
             "startlinecolor": "#2a3f5f"
            },
            "type": "carpet"
           }
          ],
          "choropleth": [
           {
            "colorbar": {
             "outlinewidth": 0,
             "ticks": ""
            },
            "type": "choropleth"
           }
          ],
          "contour": [
           {
            "colorbar": {
             "outlinewidth": 0,
             "ticks": ""
            },
            "colorscale": [
             [
              0,
              "#0d0887"
             ],
             [
              0.1111111111111111,
              "#46039f"
             ],
             [
              0.2222222222222222,
              "#7201a8"
             ],
             [
              0.3333333333333333,
              "#9c179e"
             ],
             [
              0.4444444444444444,
              "#bd3786"
             ],
             [
              0.5555555555555556,
              "#d8576b"
             ],
             [
              0.6666666666666666,
              "#ed7953"
             ],
             [
              0.7777777777777778,
              "#fb9f3a"
             ],
             [
              0.8888888888888888,
              "#fdca26"
             ],
             [
              1,
              "#f0f921"
             ]
            ],
            "type": "contour"
           }
          ],
          "contourcarpet": [
           {
            "colorbar": {
             "outlinewidth": 0,
             "ticks": ""
            },
            "type": "contourcarpet"
           }
          ],
          "heatmap": [
           {
            "colorbar": {
             "outlinewidth": 0,
             "ticks": ""
            },
            "colorscale": [
             [
              0,
              "#0d0887"
             ],
             [
              0.1111111111111111,
              "#46039f"
             ],
             [
              0.2222222222222222,
              "#7201a8"
             ],
             [
              0.3333333333333333,
              "#9c179e"
             ],
             [
              0.4444444444444444,
              "#bd3786"
             ],
             [
              0.5555555555555556,
              "#d8576b"
             ],
             [
              0.6666666666666666,
              "#ed7953"
             ],
             [
              0.7777777777777778,
              "#fb9f3a"
             ],
             [
              0.8888888888888888,
              "#fdca26"
             ],
             [
              1,
              "#f0f921"
             ]
            ],
            "type": "heatmap"
           }
          ],
          "heatmapgl": [
           {
            "colorbar": {
             "outlinewidth": 0,
             "ticks": ""
            },
            "colorscale": [
             [
              0,
              "#0d0887"
             ],
             [
              0.1111111111111111,
              "#46039f"
             ],
             [
              0.2222222222222222,
              "#7201a8"
             ],
             [
              0.3333333333333333,
              "#9c179e"
             ],
             [
              0.4444444444444444,
              "#bd3786"
             ],
             [
              0.5555555555555556,
              "#d8576b"
             ],
             [
              0.6666666666666666,
              "#ed7953"
             ],
             [
              0.7777777777777778,
              "#fb9f3a"
             ],
             [
              0.8888888888888888,
              "#fdca26"
             ],
             [
              1,
              "#f0f921"
             ]
            ],
            "type": "heatmapgl"
           }
          ],
          "histogram": [
           {
            "marker": {
             "pattern": {
              "fillmode": "overlay",
              "size": 10,
              "solidity": 0.2
             }
            },
            "type": "histogram"
           }
          ],
          "histogram2d": [
           {
            "colorbar": {
             "outlinewidth": 0,
             "ticks": ""
            },
            "colorscale": [
             [
              0,
              "#0d0887"
             ],
             [
              0.1111111111111111,
              "#46039f"
             ],
             [
              0.2222222222222222,
              "#7201a8"
             ],
             [
              0.3333333333333333,
              "#9c179e"
             ],
             [
              0.4444444444444444,
              "#bd3786"
             ],
             [
              0.5555555555555556,
              "#d8576b"
             ],
             [
              0.6666666666666666,
              "#ed7953"
             ],
             [
              0.7777777777777778,
              "#fb9f3a"
             ],
             [
              0.8888888888888888,
              "#fdca26"
             ],
             [
              1,
              "#f0f921"
             ]
            ],
            "type": "histogram2d"
           }
          ],
          "histogram2dcontour": [
           {
            "colorbar": {
             "outlinewidth": 0,
             "ticks": ""
            },
            "colorscale": [
             [
              0,
              "#0d0887"
             ],
             [
              0.1111111111111111,
              "#46039f"
             ],
             [
              0.2222222222222222,
              "#7201a8"
             ],
             [
              0.3333333333333333,
              "#9c179e"
             ],
             [
              0.4444444444444444,
              "#bd3786"
             ],
             [
              0.5555555555555556,
              "#d8576b"
             ],
             [
              0.6666666666666666,
              "#ed7953"
             ],
             [
              0.7777777777777778,
              "#fb9f3a"
             ],
             [
              0.8888888888888888,
              "#fdca26"
             ],
             [
              1,
              "#f0f921"
             ]
            ],
            "type": "histogram2dcontour"
           }
          ],
          "mesh3d": [
           {
            "colorbar": {
             "outlinewidth": 0,
             "ticks": ""
            },
            "type": "mesh3d"
           }
          ],
          "parcoords": [
           {
            "line": {
             "colorbar": {
              "outlinewidth": 0,
              "ticks": ""
             }
            },
            "type": "parcoords"
           }
          ],
          "pie": [
           {
            "automargin": true,
            "type": "pie"
           }
          ],
          "scatter": [
           {
            "marker": {
             "colorbar": {
              "outlinewidth": 0,
              "ticks": ""
             }
            },
            "type": "scatter"
           }
          ],
          "scatter3d": [
           {
            "line": {
             "colorbar": {
              "outlinewidth": 0,
              "ticks": ""
             }
            },
            "marker": {
             "colorbar": {
              "outlinewidth": 0,
              "ticks": ""
             }
            },
            "type": "scatter3d"
           }
          ],
          "scattercarpet": [
           {
            "marker": {
             "colorbar": {
              "outlinewidth": 0,
              "ticks": ""
             }
            },
            "type": "scattercarpet"
           }
          ],
          "scattergeo": [
           {
            "marker": {
             "colorbar": {
              "outlinewidth": 0,
              "ticks": ""
             }
            },
            "type": "scattergeo"
           }
          ],
          "scattergl": [
           {
            "marker": {
             "colorbar": {
              "outlinewidth": 0,
              "ticks": ""
             }
            },
            "type": "scattergl"
           }
          ],
          "scattermapbox": [
           {
            "marker": {
             "colorbar": {
              "outlinewidth": 0,
              "ticks": ""
             }
            },
            "type": "scattermapbox"
           }
          ],
          "scatterpolar": [
           {
            "marker": {
             "colorbar": {
              "outlinewidth": 0,
              "ticks": ""
             }
            },
            "type": "scatterpolar"
           }
          ],
          "scatterpolargl": [
           {
            "marker": {
             "colorbar": {
              "outlinewidth": 0,
              "ticks": ""
             }
            },
            "type": "scatterpolargl"
           }
          ],
          "scatterternary": [
           {
            "marker": {
             "colorbar": {
              "outlinewidth": 0,
              "ticks": ""
             }
            },
            "type": "scatterternary"
           }
          ],
          "surface": [
           {
            "colorbar": {
             "outlinewidth": 0,
             "ticks": ""
            },
            "colorscale": [
             [
              0,
              "#0d0887"
             ],
             [
              0.1111111111111111,
              "#46039f"
             ],
             [
              0.2222222222222222,
              "#7201a8"
             ],
             [
              0.3333333333333333,
              "#9c179e"
             ],
             [
              0.4444444444444444,
              "#bd3786"
             ],
             [
              0.5555555555555556,
              "#d8576b"
             ],
             [
              0.6666666666666666,
              "#ed7953"
             ],
             [
              0.7777777777777778,
              "#fb9f3a"
             ],
             [
              0.8888888888888888,
              "#fdca26"
             ],
             [
              1,
              "#f0f921"
             ]
            ],
            "type": "surface"
           }
          ],
          "table": [
           {
            "cells": {
             "fill": {
              "color": "#EBF0F8"
             },
             "line": {
              "color": "white"
             }
            },
            "header": {
             "fill": {
              "color": "#C8D4E3"
             },
             "line": {
              "color": "white"
             }
            },
            "type": "table"
           }
          ]
         },
         "layout": {
          "annotationdefaults": {
           "arrowcolor": "#2a3f5f",
           "arrowhead": 0,
           "arrowwidth": 1
          },
          "autotypenumbers": "strict",
          "coloraxis": {
           "colorbar": {
            "outlinewidth": 0,
            "ticks": ""
           }
          },
          "colorscale": {
           "diverging": [
            [
             0,
             "#8e0152"
            ],
            [
             0.1,
             "#c51b7d"
            ],
            [
             0.2,
             "#de77ae"
            ],
            [
             0.3,
             "#f1b6da"
            ],
            [
             0.4,
             "#fde0ef"
            ],
            [
             0.5,
             "#f7f7f7"
            ],
            [
             0.6,
             "#e6f5d0"
            ],
            [
             0.7,
             "#b8e186"
            ],
            [
             0.8,
             "#7fbc41"
            ],
            [
             0.9,
             "#4d9221"
            ],
            [
             1,
             "#276419"
            ]
           ],
           "sequential": [
            [
             0,
             "#0d0887"
            ],
            [
             0.1111111111111111,
             "#46039f"
            ],
            [
             0.2222222222222222,
             "#7201a8"
            ],
            [
             0.3333333333333333,
             "#9c179e"
            ],
            [
             0.4444444444444444,
             "#bd3786"
            ],
            [
             0.5555555555555556,
             "#d8576b"
            ],
            [
             0.6666666666666666,
             "#ed7953"
            ],
            [
             0.7777777777777778,
             "#fb9f3a"
            ],
            [
             0.8888888888888888,
             "#fdca26"
            ],
            [
             1,
             "#f0f921"
            ]
           ],
           "sequentialminus": [
            [
             0,
             "#0d0887"
            ],
            [
             0.1111111111111111,
             "#46039f"
            ],
            [
             0.2222222222222222,
             "#7201a8"
            ],
            [
             0.3333333333333333,
             "#9c179e"
            ],
            [
             0.4444444444444444,
             "#bd3786"
            ],
            [
             0.5555555555555556,
             "#d8576b"
            ],
            [
             0.6666666666666666,
             "#ed7953"
            ],
            [
             0.7777777777777778,
             "#fb9f3a"
            ],
            [
             0.8888888888888888,
             "#fdca26"
            ],
            [
             1,
             "#f0f921"
            ]
           ]
          },
          "colorway": [
           "#636efa",
           "#EF553B",
           "#00cc96",
           "#ab63fa",
           "#FFA15A",
           "#19d3f3",
           "#FF6692",
           "#B6E880",
           "#FF97FF",
           "#FECB52"
          ],
          "font": {
           "color": "#2a3f5f"
          },
          "geo": {
           "bgcolor": "white",
           "lakecolor": "white",
           "landcolor": "#E5ECF6",
           "showlakes": true,
           "showland": true,
           "subunitcolor": "white"
          },
          "hoverlabel": {
           "align": "left"
          },
          "hovermode": "closest",
          "mapbox": {
           "style": "light"
          },
          "paper_bgcolor": "white",
          "plot_bgcolor": "#E5ECF6",
          "polar": {
           "angularaxis": {
            "gridcolor": "white",
            "linecolor": "white",
            "ticks": ""
           },
           "bgcolor": "#E5ECF6",
           "radialaxis": {
            "gridcolor": "white",
            "linecolor": "white",
            "ticks": ""
           }
          },
          "scene": {
           "xaxis": {
            "backgroundcolor": "#E5ECF6",
            "gridcolor": "white",
            "gridwidth": 2,
            "linecolor": "white",
            "showbackground": true,
            "ticks": "",
            "zerolinecolor": "white"
           },
           "yaxis": {
            "backgroundcolor": "#E5ECF6",
            "gridcolor": "white",
            "gridwidth": 2,
            "linecolor": "white",
            "showbackground": true,
            "ticks": "",
            "zerolinecolor": "white"
           },
           "zaxis": {
            "backgroundcolor": "#E5ECF6",
            "gridcolor": "white",
            "gridwidth": 2,
            "linecolor": "white",
            "showbackground": true,
            "ticks": "",
            "zerolinecolor": "white"
           }
          },
          "shapedefaults": {
           "line": {
            "color": "#2a3f5f"
           }
          },
          "ternary": {
           "aaxis": {
            "gridcolor": "white",
            "linecolor": "white",
            "ticks": ""
           },
           "baxis": {
            "gridcolor": "white",
            "linecolor": "white",
            "ticks": ""
           },
           "bgcolor": "#E5ECF6",
           "caxis": {
            "gridcolor": "white",
            "linecolor": "white",
            "ticks": ""
           }
          },
          "title": {
           "x": 0.05
          },
          "xaxis": {
           "automargin": true,
           "gridcolor": "white",
           "linecolor": "white",
           "ticks": "",
           "title": {
            "standoff": 15
           },
           "zerolinecolor": "white",
           "zerolinewidth": 2
          },
          "yaxis": {
           "automargin": true,
           "gridcolor": "white",
           "linecolor": "white",
           "ticks": "",
           "title": {
            "standoff": 15
           },
           "zerolinecolor": "white",
           "zerolinewidth": 2
          }
         }
        },
        "title": {
         "text": "Adj Close % off of High Since Purchased"
        },
        "xaxis": {
         "title": {
          "text": "Ticker"
         }
        },
        "yaxis": {
         "tickformat": ".2%",
         "title": {
          "text": "% Below Adj Close High Since Purchased"
         }
        }
       }
      },
      "text/html": [
       "<div>                            <div id=\"346760ab-d1ee-4154-b001-dabaaee41bb7\" class=\"plotly-graph-div\" style=\"height:525px; width:100%;\"></div>            <script type=\"text/javascript\">                require([\"plotly\"], function(Plotly) {                    window.PLOTLYENV=window.PLOTLYENV || {};                                    if (document.getElementById(\"346760ab-d1ee-4154-b001-dabaaee41bb7\")) {                    Plotly.newPlot(                        \"346760ab-d1ee-4154-b001-dabaaee41bb7\",                        [{\"name\":\"Pct off High\",\"x\":[\"AGG 0\",\"DBC 1\",\"IAU 2\",\"IGOV 3\",\"VEU 4\",\"VNQ 5\",\"VTI 6\",\"VTI 7\"],\"y\":[-0.005771093769496027,-0.3900242598584662,-0.0728376339847262,-0.06099833120382592,-0.09207848813906938,-0.029074194366716877,-0.004277056087250264,-0.004277056087250264],\"type\":\"bar\"}],                        {\"barmode\":\"group\",\"legend\":{\"x\":0.8,\"y\":1},\"template\":{\"data\":{\"barpolar\":[{\"marker\":{\"line\":{\"color\":\"#E5ECF6\",\"width\":0.5},\"pattern\":{\"fillmode\":\"overlay\",\"size\":10,\"solidity\":0.2}},\"type\":\"barpolar\"}],\"bar\":[{\"error_x\":{\"color\":\"#2a3f5f\"},\"error_y\":{\"color\":\"#2a3f5f\"},\"marker\":{\"line\":{\"color\":\"#E5ECF6\",\"width\":0.5},\"pattern\":{\"fillmode\":\"overlay\",\"size\":10,\"solidity\":0.2}},\"type\":\"bar\"}],\"carpet\":[{\"aaxis\":{\"endlinecolor\":\"#2a3f5f\",\"gridcolor\":\"white\",\"linecolor\":\"white\",\"minorgridcolor\":\"white\",\"startlinecolor\":\"#2a3f5f\"},\"baxis\":{\"endlinecolor\":\"#2a3f5f\",\"gridcolor\":\"white\",\"linecolor\":\"white\",\"minorgridcolor\":\"white\",\"startlinecolor\":\"#2a3f5f\"},\"type\":\"carpet\"}],\"choropleth\":[{\"colorbar\":{\"outlinewidth\":0,\"ticks\":\"\"},\"type\":\"choropleth\"}],\"contourcarpet\":[{\"colorbar\":{\"outlinewidth\":0,\"ticks\":\"\"},\"type\":\"contourcarpet\"}],\"contour\":[{\"colorbar\":{\"outlinewidth\":0,\"ticks\":\"\"},\"colorscale\":[[0.0,\"#0d0887\"],[0.1111111111111111,\"#46039f\"],[0.2222222222222222,\"#7201a8\"],[0.3333333333333333,\"#9c179e\"],[0.4444444444444444,\"#bd3786\"],[0.5555555555555556,\"#d8576b\"],[0.6666666666666666,\"#ed7953\"],[0.7777777777777778,\"#fb9f3a\"],[0.8888888888888888,\"#fdca26\"],[1.0,\"#f0f921\"]],\"type\":\"contour\"}],\"heatmapgl\":[{\"colorbar\":{\"outlinewidth\":0,\"ticks\":\"\"},\"colorscale\":[[0.0,\"#0d0887\"],[0.1111111111111111,\"#46039f\"],[0.2222222222222222,\"#7201a8\"],[0.3333333333333333,\"#9c179e\"],[0.4444444444444444,\"#bd3786\"],[0.5555555555555556,\"#d8576b\"],[0.6666666666666666,\"#ed7953\"],[0.7777777777777778,\"#fb9f3a\"],[0.8888888888888888,\"#fdca26\"],[1.0,\"#f0f921\"]],\"type\":\"heatmapgl\"}],\"heatmap\":[{\"colorbar\":{\"outlinewidth\":0,\"ticks\":\"\"},\"colorscale\":[[0.0,\"#0d0887\"],[0.1111111111111111,\"#46039f\"],[0.2222222222222222,\"#7201a8\"],[0.3333333333333333,\"#9c179e\"],[0.4444444444444444,\"#bd3786\"],[0.5555555555555556,\"#d8576b\"],[0.6666666666666666,\"#ed7953\"],[0.7777777777777778,\"#fb9f3a\"],[0.8888888888888888,\"#fdca26\"],[1.0,\"#f0f921\"]],\"type\":\"heatmap\"}],\"histogram2dcontour\":[{\"colorbar\":{\"outlinewidth\":0,\"ticks\":\"\"},\"colorscale\":[[0.0,\"#0d0887\"],[0.1111111111111111,\"#46039f\"],[0.2222222222222222,\"#7201a8\"],[0.3333333333333333,\"#9c179e\"],[0.4444444444444444,\"#bd3786\"],[0.5555555555555556,\"#d8576b\"],[0.6666666666666666,\"#ed7953\"],[0.7777777777777778,\"#fb9f3a\"],[0.8888888888888888,\"#fdca26\"],[1.0,\"#f0f921\"]],\"type\":\"histogram2dcontour\"}],\"histogram2d\":[{\"colorbar\":{\"outlinewidth\":0,\"ticks\":\"\"},\"colorscale\":[[0.0,\"#0d0887\"],[0.1111111111111111,\"#46039f\"],[0.2222222222222222,\"#7201a8\"],[0.3333333333333333,\"#9c179e\"],[0.4444444444444444,\"#bd3786\"],[0.5555555555555556,\"#d8576b\"],[0.6666666666666666,\"#ed7953\"],[0.7777777777777778,\"#fb9f3a\"],[0.8888888888888888,\"#fdca26\"],[1.0,\"#f0f921\"]],\"type\":\"histogram2d\"}],\"histogram\":[{\"marker\":{\"pattern\":{\"fillmode\":\"overlay\",\"size\":10,\"solidity\":0.2}},\"type\":\"histogram\"}],\"mesh3d\":[{\"colorbar\":{\"outlinewidth\":0,\"ticks\":\"\"},\"type\":\"mesh3d\"}],\"parcoords\":[{\"line\":{\"colorbar\":{\"outlinewidth\":0,\"ticks\":\"\"}},\"type\":\"parcoords\"}],\"pie\":[{\"automargin\":true,\"type\":\"pie\"}],\"scatter3d\":[{\"line\":{\"colorbar\":{\"outlinewidth\":0,\"ticks\":\"\"}},\"marker\":{\"colorbar\":{\"outlinewidth\":0,\"ticks\":\"\"}},\"type\":\"scatter3d\"}],\"scattercarpet\":[{\"marker\":{\"colorbar\":{\"outlinewidth\":0,\"ticks\":\"\"}},\"type\":\"scattercarpet\"}],\"scattergeo\":[{\"marker\":{\"colorbar\":{\"outlinewidth\":0,\"ticks\":\"\"}},\"type\":\"scattergeo\"}],\"scattergl\":[{\"marker\":{\"colorbar\":{\"outlinewidth\":0,\"ticks\":\"\"}},\"type\":\"scattergl\"}],\"scattermapbox\":[{\"marker\":{\"colorbar\":{\"outlinewidth\":0,\"ticks\":\"\"}},\"type\":\"scattermapbox\"}],\"scatterpolargl\":[{\"marker\":{\"colorbar\":{\"outlinewidth\":0,\"ticks\":\"\"}},\"type\":\"scatterpolargl\"}],\"scatterpolar\":[{\"marker\":{\"colorbar\":{\"outlinewidth\":0,\"ticks\":\"\"}},\"type\":\"scatterpolar\"}],\"scatter\":[{\"marker\":{\"colorbar\":{\"outlinewidth\":0,\"ticks\":\"\"}},\"type\":\"scatter\"}],\"scatterternary\":[{\"marker\":{\"colorbar\":{\"outlinewidth\":0,\"ticks\":\"\"}},\"type\":\"scatterternary\"}],\"surface\":[{\"colorbar\":{\"outlinewidth\":0,\"ticks\":\"\"},\"colorscale\":[[0.0,\"#0d0887\"],[0.1111111111111111,\"#46039f\"],[0.2222222222222222,\"#7201a8\"],[0.3333333333333333,\"#9c179e\"],[0.4444444444444444,\"#bd3786\"],[0.5555555555555556,\"#d8576b\"],[0.6666666666666666,\"#ed7953\"],[0.7777777777777778,\"#fb9f3a\"],[0.8888888888888888,\"#fdca26\"],[1.0,\"#f0f921\"]],\"type\":\"surface\"}],\"table\":[{\"cells\":{\"fill\":{\"color\":\"#EBF0F8\"},\"line\":{\"color\":\"white\"}},\"header\":{\"fill\":{\"color\":\"#C8D4E3\"},\"line\":{\"color\":\"white\"}},\"type\":\"table\"}]},\"layout\":{\"annotationdefaults\":{\"arrowcolor\":\"#2a3f5f\",\"arrowhead\":0,\"arrowwidth\":1},\"autotypenumbers\":\"strict\",\"coloraxis\":{\"colorbar\":{\"outlinewidth\":0,\"ticks\":\"\"}},\"colorscale\":{\"diverging\":[[0,\"#8e0152\"],[0.1,\"#c51b7d\"],[0.2,\"#de77ae\"],[0.3,\"#f1b6da\"],[0.4,\"#fde0ef\"],[0.5,\"#f7f7f7\"],[0.6,\"#e6f5d0\"],[0.7,\"#b8e186\"],[0.8,\"#7fbc41\"],[0.9,\"#4d9221\"],[1,\"#276419\"]],\"sequential\":[[0.0,\"#0d0887\"],[0.1111111111111111,\"#46039f\"],[0.2222222222222222,\"#7201a8\"],[0.3333333333333333,\"#9c179e\"],[0.4444444444444444,\"#bd3786\"],[0.5555555555555556,\"#d8576b\"],[0.6666666666666666,\"#ed7953\"],[0.7777777777777778,\"#fb9f3a\"],[0.8888888888888888,\"#fdca26\"],[1.0,\"#f0f921\"]],\"sequentialminus\":[[0.0,\"#0d0887\"],[0.1111111111111111,\"#46039f\"],[0.2222222222222222,\"#7201a8\"],[0.3333333333333333,\"#9c179e\"],[0.4444444444444444,\"#bd3786\"],[0.5555555555555556,\"#d8576b\"],[0.6666666666666666,\"#ed7953\"],[0.7777777777777778,\"#fb9f3a\"],[0.8888888888888888,\"#fdca26\"],[1.0,\"#f0f921\"]]},\"colorway\":[\"#636efa\",\"#EF553B\",\"#00cc96\",\"#ab63fa\",\"#FFA15A\",\"#19d3f3\",\"#FF6692\",\"#B6E880\",\"#FF97FF\",\"#FECB52\"],\"font\":{\"color\":\"#2a3f5f\"},\"geo\":{\"bgcolor\":\"white\",\"lakecolor\":\"white\",\"landcolor\":\"#E5ECF6\",\"showlakes\":true,\"showland\":true,\"subunitcolor\":\"white\"},\"hoverlabel\":{\"align\":\"left\"},\"hovermode\":\"closest\",\"mapbox\":{\"style\":\"light\"},\"paper_bgcolor\":\"white\",\"plot_bgcolor\":\"#E5ECF6\",\"polar\":{\"angularaxis\":{\"gridcolor\":\"white\",\"linecolor\":\"white\",\"ticks\":\"\"},\"bgcolor\":\"#E5ECF6\",\"radialaxis\":{\"gridcolor\":\"white\",\"linecolor\":\"white\",\"ticks\":\"\"}},\"scene\":{\"xaxis\":{\"backgroundcolor\":\"#E5ECF6\",\"gridcolor\":\"white\",\"gridwidth\":2,\"linecolor\":\"white\",\"showbackground\":true,\"ticks\":\"\",\"zerolinecolor\":\"white\"},\"yaxis\":{\"backgroundcolor\":\"#E5ECF6\",\"gridcolor\":\"white\",\"gridwidth\":2,\"linecolor\":\"white\",\"showbackground\":true,\"ticks\":\"\",\"zerolinecolor\":\"white\"},\"zaxis\":{\"backgroundcolor\":\"#E5ECF6\",\"gridcolor\":\"white\",\"gridwidth\":2,\"linecolor\":\"white\",\"showbackground\":true,\"ticks\":\"\",\"zerolinecolor\":\"white\"}},\"shapedefaults\":{\"line\":{\"color\":\"#2a3f5f\"}},\"ternary\":{\"aaxis\":{\"gridcolor\":\"white\",\"linecolor\":\"white\",\"ticks\":\"\"},\"baxis\":{\"gridcolor\":\"white\",\"linecolor\":\"white\",\"ticks\":\"\"},\"bgcolor\":\"#E5ECF6\",\"caxis\":{\"gridcolor\":\"white\",\"linecolor\":\"white\",\"ticks\":\"\"}},\"title\":{\"x\":0.05},\"xaxis\":{\"automargin\":true,\"gridcolor\":\"white\",\"linecolor\":\"white\",\"ticks\":\"\",\"title\":{\"standoff\":15},\"zerolinecolor\":\"white\",\"zerolinewidth\":2},\"yaxis\":{\"automargin\":true,\"gridcolor\":\"white\",\"linecolor\":\"white\",\"ticks\":\"\",\"title\":{\"standoff\":15},\"zerolinecolor\":\"white\",\"zerolinewidth\":2}}},\"title\":{\"text\":\"Adj Close % off of High Since Purchased\"},\"xaxis\":{\"title\":{\"text\":\"Ticker\"}},\"yaxis\":{\"tickformat\":\".2%\",\"title\":{\"text\":\"% Below Adj Close High Since Purchased\"}}},                        {\"responsive\": true}                    ).then(function(){\n",
       "                            \n",
       "var gd = document.getElementById('346760ab-d1ee-4154-b001-dabaaee41bb7');\n",
       "var x = new MutationObserver(function (mutations, observer) {{\n",
       "        var display = window.getComputedStyle(gd).display;\n",
       "        if (!display || display === 'none') {{\n",
       "            console.log([gd, 'removed!']);\n",
       "            Plotly.purge(gd);\n",
       "            observer.disconnect();\n",
       "        }}\n",
       "}});\n",
       "\n",
       "// Listen for the removal of the full notebook cells\n",
       "var notebookContainer = gd.closest('#notebook-container');\n",
       "if (notebookContainer) {{\n",
       "    x.observe(notebookContainer, {childList: true});\n",
       "}}\n",
       "\n",
       "// Listen for the clearing of the current output cell\n",
       "var outputEl = gd.closest('.output');\n",
       "if (outputEl) {{\n",
       "    x.observe(outputEl, {childList: true});\n",
       "}}\n",
       "\n",
       "                        })                };                });            </script>        </div>"
      ]
     },
     "metadata": {},
     "output_type": "display_data"
    }
   ],
   "source": [
    "trace1 = go.Bar(\n",
    "    x = merged_portfolio_sp_latest_YTD_sp_closing_high['Ticker #'][0:10],\n",
    "    y = merged_portfolio_sp_latest_YTD_sp_closing_high['Pct off High'][0:10],\n",
    "    name = 'Pct off High')\n",
    "\n",
    "data = [trace1]\n",
    "\n",
    "layout = go.Layout(title = 'Adj Close % off of High Since Purchased'\n",
    "    , barmode = 'group'\n",
    "    , yaxis=dict(title='% Below Adj Close High Since Purchased', tickformat=\".2%\")\n",
    "    , xaxis=dict(title='Ticker')\n",
    "    , legend=dict(x=.8,y=1)\n",
    "    )\n",
    "\n",
    "fig = go.Figure(data=data, layout=layout)\n",
    "iplot(fig)"
   ]
  },
  {
   "cell_type": "markdown",
   "metadata": {},
   "source": [
    "## Dividends"
   ]
  },
  {
   "cell_type": "code",
   "execution_count": 101,
   "metadata": {},
   "outputs": [],
   "source": [
    "# https://www.streetinsider.com/dividend_history.php?q=bdx\n",
    "\n",
    "# https://www.nasdaq.com/symbol/rgld/dividend-history\n",
    "\n",
    "# https://seekingalpha.com/symbol/EXG/dividends/history\n",
    "\n",
    "# SP500 dividends:  https://ycharts.com/indicators/sp_500_dividends_per_share"
   ]
  },
  {
   "cell_type": "code",
   "execution_count": 102,
   "metadata": {},
   "outputs": [
    {
     "data": {
      "text/html": [
       "<div>\n",
       "<style scoped>\n",
       "    .dataframe tbody tr th:only-of-type {\n",
       "        vertical-align: middle;\n",
       "    }\n",
       "\n",
       "    .dataframe tbody tr th {\n",
       "        vertical-align: top;\n",
       "    }\n",
       "\n",
       "    .dataframe thead th {\n",
       "        text-align: right;\n",
       "    }\n",
       "</style>\n",
       "<table border=\"1\" class=\"dataframe\">\n",
       "  <thead>\n",
       "    <tr style=\"text-align: right;\">\n",
       "      <th></th>\n",
       "      <th>Ticker</th>\n",
       "      <th>Ex-Div. Date</th>\n",
       "      <th>Amount</th>\n",
       "      <th>Type</th>\n",
       "      <th>Yield</th>\n",
       "      <th>Change</th>\n",
       "      <th>Decl. Date</th>\n",
       "      <th>Rec. Date</th>\n",
       "      <th>Pay. Date</th>\n",
       "      <th>Comments</th>\n",
       "    </tr>\n",
       "  </thead>\n",
       "  <tbody>\n",
       "    <tr>\n",
       "      <th>0</th>\n",
       "      <td>AGG</td>\n",
       "      <td>2019-04-01</td>\n",
       "      <td>0.262</td>\n",
       "      <td>NaN</td>\n",
       "      <td>NaN</td>\n",
       "      <td>NaN</td>\n",
       "      <td>2018-12-13 00:00:00</td>\n",
       "      <td>2019-04-02 00:00:00</td>\n",
       "      <td>2019-04-05 00:00:00</td>\n",
       "      <td>NaN</td>\n",
       "    </tr>\n",
       "    <tr>\n",
       "      <th>1</th>\n",
       "      <td>AGG</td>\n",
       "      <td>2019-03-01</td>\n",
       "      <td>0.267</td>\n",
       "      <td>NaN</td>\n",
       "      <td>NaN</td>\n",
       "      <td>NaN</td>\n",
       "      <td>2018-12-13 00:00:00</td>\n",
       "      <td>2019-03-04 00:00:00</td>\n",
       "      <td>2019-03-07 00:00:00</td>\n",
       "      <td>NaN</td>\n",
       "    </tr>\n",
       "    <tr>\n",
       "      <th>2</th>\n",
       "      <td>AGG</td>\n",
       "      <td>2019-02-01</td>\n",
       "      <td>0.268</td>\n",
       "      <td>NaN</td>\n",
       "      <td>NaN</td>\n",
       "      <td>NaN</td>\n",
       "      <td>2018-12-13 00:00:00</td>\n",
       "      <td>2019-02-04 00:00:00</td>\n",
       "      <td>2019-02-07 00:00:00</td>\n",
       "      <td>NaN</td>\n",
       "    </tr>\n",
       "    <tr>\n",
       "      <th>3</th>\n",
       "      <td>AGG</td>\n",
       "      <td>2018-12-18</td>\n",
       "      <td>0.210</td>\n",
       "      <td>NaN</td>\n",
       "      <td>NaN</td>\n",
       "      <td>NaN</td>\n",
       "      <td>2018-01-03 00:00:00</td>\n",
       "      <td>2018-12-19 00:00:00</td>\n",
       "      <td>2018-12-24 00:00:00</td>\n",
       "      <td>NaN</td>\n",
       "    </tr>\n",
       "    <tr>\n",
       "      <th>4</th>\n",
       "      <td>AGG</td>\n",
       "      <td>2018-11-01</td>\n",
       "      <td>0.256</td>\n",
       "      <td>NaN</td>\n",
       "      <td>NaN</td>\n",
       "      <td>NaN</td>\n",
       "      <td>2018-01-03 00:00:00</td>\n",
       "      <td>2018-11-02 00:00:00</td>\n",
       "      <td>2018-11-07 00:00:00</td>\n",
       "      <td>NaN</td>\n",
       "    </tr>\n",
       "    <tr>\n",
       "      <th>5</th>\n",
       "      <td>AGG</td>\n",
       "      <td>2018-10-01</td>\n",
       "      <td>0.252</td>\n",
       "      <td>NaN</td>\n",
       "      <td>NaN</td>\n",
       "      <td>NaN</td>\n",
       "      <td>2018-01-03 00:00:00</td>\n",
       "      <td>2018-10-02 00:00:00</td>\n",
       "      <td>2018-10-05 00:00:00</td>\n",
       "      <td>NaN</td>\n",
       "    </tr>\n",
       "    <tr>\n",
       "      <th>6</th>\n",
       "      <td>AGG</td>\n",
       "      <td>2018-09-04</td>\n",
       "      <td>0.232</td>\n",
       "      <td>NaN</td>\n",
       "      <td>NaN</td>\n",
       "      <td>NaN</td>\n",
       "      <td>2018-01-03 00:00:00</td>\n",
       "      <td>2018-09-05 00:00:00</td>\n",
       "      <td>2018-09-10 00:00:00</td>\n",
       "      <td>NaN</td>\n",
       "    </tr>\n",
       "    <tr>\n",
       "      <th>7</th>\n",
       "      <td>AGG</td>\n",
       "      <td>2018-08-01</td>\n",
       "      <td>0.251</td>\n",
       "      <td>NaN</td>\n",
       "      <td>NaN</td>\n",
       "      <td>NaN</td>\n",
       "      <td>2018-01-03 00:00:00</td>\n",
       "      <td>2018-08-02 00:00:00</td>\n",
       "      <td>2018-08-07 00:00:00</td>\n",
       "      <td>NaN</td>\n",
       "    </tr>\n",
       "    <tr>\n",
       "      <th>8</th>\n",
       "      <td>AGG</td>\n",
       "      <td>2018-07-02</td>\n",
       "      <td>0.229</td>\n",
       "      <td>NaN</td>\n",
       "      <td>NaN</td>\n",
       "      <td>NaN</td>\n",
       "      <td>2018-01-03 00:00:00</td>\n",
       "      <td>2018-07-03 00:00:00</td>\n",
       "      <td>2018-07-09 00:00:00</td>\n",
       "      <td>NaN</td>\n",
       "    </tr>\n",
       "    <tr>\n",
       "      <th>9</th>\n",
       "      <td>AGG</td>\n",
       "      <td>2018-06-01</td>\n",
       "      <td>0.249</td>\n",
       "      <td>NaN</td>\n",
       "      <td>NaN</td>\n",
       "      <td>NaN</td>\n",
       "      <td>2018-01-03 00:00:00</td>\n",
       "      <td>2018-06-04 00:00:00</td>\n",
       "      <td>2018-06-07 00:00:00</td>\n",
       "      <td>NaN</td>\n",
       "    </tr>\n",
       "  </tbody>\n",
       "</table>\n",
       "</div>"
      ],
      "text/plain": [
       "  Ticker Ex-Div. Date  Amount  Type  Yield  Change           Decl. Date  \\\n",
       "0    AGG   2019-04-01   0.262   NaN    NaN     NaN  2018-12-13 00:00:00   \n",
       "1    AGG   2019-03-01   0.267   NaN    NaN     NaN  2018-12-13 00:00:00   \n",
       "2    AGG   2019-02-01   0.268   NaN    NaN     NaN  2018-12-13 00:00:00   \n",
       "3    AGG   2018-12-18   0.210   NaN    NaN     NaN  2018-01-03 00:00:00   \n",
       "4    AGG   2018-11-01   0.256   NaN    NaN     NaN  2018-01-03 00:00:00   \n",
       "5    AGG   2018-10-01   0.252   NaN    NaN     NaN  2018-01-03 00:00:00   \n",
       "6    AGG   2018-09-04   0.232   NaN    NaN     NaN  2018-01-03 00:00:00   \n",
       "7    AGG   2018-08-01   0.251   NaN    NaN     NaN  2018-01-03 00:00:00   \n",
       "8    AGG   2018-07-02   0.229   NaN    NaN     NaN  2018-01-03 00:00:00   \n",
       "9    AGG   2018-06-01   0.249   NaN    NaN     NaN  2018-01-03 00:00:00   \n",
       "\n",
       "             Rec. Date            Pay. Date  Comments  \n",
       "0  2019-04-02 00:00:00  2019-04-05 00:00:00       NaN  \n",
       "1  2019-03-04 00:00:00  2019-03-07 00:00:00       NaN  \n",
       "2  2019-02-04 00:00:00  2019-02-07 00:00:00       NaN  \n",
       "3  2018-12-19 00:00:00  2018-12-24 00:00:00       NaN  \n",
       "4  2018-11-02 00:00:00  2018-11-07 00:00:00       NaN  \n",
       "5  2018-10-02 00:00:00  2018-10-05 00:00:00       NaN  \n",
       "6  2018-09-05 00:00:00  2018-09-10 00:00:00       NaN  \n",
       "7  2018-08-02 00:00:00  2018-08-07 00:00:00       NaN  \n",
       "8  2018-07-03 00:00:00  2018-07-09 00:00:00       NaN  \n",
       "9  2018-06-04 00:00:00  2018-06-07 00:00:00       NaN  "
      ]
     },
     "execution_count": 102,
     "metadata": {},
     "output_type": "execute_result"
    }
   ],
   "source": [
    "# Import the Historical Dividends worksheet with ex-dividend dates and dividend amounts:\n",
    "\n",
    "dividend_df = pd.read_excel('Historical Dividends.xlsx', sheet_name='Historical Dividends'\n",
    "                            , parse_dates=['Ex-Div. Date', 'Decl. Date', 'Rec. Date', 'Pay. Date'])\n",
    "\n",
    "dividend_df.head(10)"
   ]
  },
  {
   "cell_type": "code",
   "execution_count": 103,
   "metadata": {},
   "outputs": [
    {
     "data": {
      "text/html": [
       "<div>\n",
       "<style scoped>\n",
       "    .dataframe tbody tr th:only-of-type {\n",
       "        vertical-align: middle;\n",
       "    }\n",
       "\n",
       "    .dataframe tbody tr th {\n",
       "        vertical-align: top;\n",
       "    }\n",
       "\n",
       "    .dataframe thead th {\n",
       "        text-align: right;\n",
       "    }\n",
       "</style>\n",
       "<table border=\"1\" class=\"dataframe\">\n",
       "  <thead>\n",
       "    <tr style=\"text-align: right;\">\n",
       "      <th></th>\n",
       "      <th>Ticker</th>\n",
       "      <th>Ex-Div. Date</th>\n",
       "      <th>Amount</th>\n",
       "      <th>Type</th>\n",
       "      <th>Yield</th>\n",
       "      <th>Change</th>\n",
       "      <th>Decl. Date</th>\n",
       "      <th>Rec. Date</th>\n",
       "      <th>Pay. Date</th>\n",
       "      <th>Comments</th>\n",
       "    </tr>\n",
       "  </thead>\n",
       "  <tbody>\n",
       "    <tr>\n",
       "      <th>213</th>\n",
       "      <td>^GSPC</td>\n",
       "      <td>2018-12-31</td>\n",
       "      <td>14.19</td>\n",
       "      <td>NaN</td>\n",
       "      <td>NaN</td>\n",
       "      <td>NaN</td>\n",
       "      <td>NaN</td>\n",
       "      <td>NaN</td>\n",
       "      <td>NaN</td>\n",
       "      <td>NaN</td>\n",
       "    </tr>\n",
       "    <tr>\n",
       "      <th>214</th>\n",
       "      <td>^GSPC</td>\n",
       "      <td>2018-09-30</td>\n",
       "      <td>13.66</td>\n",
       "      <td>NaN</td>\n",
       "      <td>NaN</td>\n",
       "      <td>NaN</td>\n",
       "      <td>NaN</td>\n",
       "      <td>NaN</td>\n",
       "      <td>NaN</td>\n",
       "      <td>NaN</td>\n",
       "    </tr>\n",
       "    <tr>\n",
       "      <th>215</th>\n",
       "      <td>^GSPC</td>\n",
       "      <td>2018-06-30</td>\n",
       "      <td>13.10</td>\n",
       "      <td>NaN</td>\n",
       "      <td>NaN</td>\n",
       "      <td>NaN</td>\n",
       "      <td>NaN</td>\n",
       "      <td>NaN</td>\n",
       "      <td>NaN</td>\n",
       "      <td>NaN</td>\n",
       "    </tr>\n",
       "    <tr>\n",
       "      <th>216</th>\n",
       "      <td>^GSPC</td>\n",
       "      <td>2018-03-31</td>\n",
       "      <td>12.79</td>\n",
       "      <td>NaN</td>\n",
       "      <td>NaN</td>\n",
       "      <td>NaN</td>\n",
       "      <td>NaN</td>\n",
       "      <td>NaN</td>\n",
       "      <td>NaN</td>\n",
       "      <td>NaN</td>\n",
       "    </tr>\n",
       "    <tr>\n",
       "      <th>217</th>\n",
       "      <td>^GSPC</td>\n",
       "      <td>2017-12-31</td>\n",
       "      <td>12.78</td>\n",
       "      <td>NaN</td>\n",
       "      <td>NaN</td>\n",
       "      <td>NaN</td>\n",
       "      <td>NaN</td>\n",
       "      <td>NaN</td>\n",
       "      <td>NaN</td>\n",
       "      <td>NaN</td>\n",
       "    </tr>\n",
       "  </tbody>\n",
       "</table>\n",
       "</div>"
      ],
      "text/plain": [
       "    Ticker Ex-Div. Date  Amount  Type  Yield  Change Decl. Date Rec. Date  \\\n",
       "213  ^GSPC   2018-12-31   14.19   NaN    NaN     NaN        NaN       NaN   \n",
       "214  ^GSPC   2018-09-30   13.66   NaN    NaN     NaN        NaN       NaN   \n",
       "215  ^GSPC   2018-06-30   13.10   NaN    NaN     NaN        NaN       NaN   \n",
       "216  ^GSPC   2018-03-31   12.79   NaN    NaN     NaN        NaN       NaN   \n",
       "217  ^GSPC   2017-12-31   12.78   NaN    NaN     NaN        NaN       NaN   \n",
       "\n",
       "    Pay. Date  Comments  \n",
       "213       NaN       NaN  \n",
       "214       NaN       NaN  \n",
       "215       NaN       NaN  \n",
       "216       NaN       NaN  \n",
       "217       NaN       NaN  "
      ]
     },
     "execution_count": 103,
     "metadata": {},
     "output_type": "execute_result"
    }
   ],
   "source": [
    "# Filter a separate dividend df to only have the SP500 dividends.\n",
    "\n",
    "dividend_df_sp500 = dividend_df[dividend_df['Ticker']=='^GSPC']\n",
    "\n",
    "dividend_df_sp500.head()"
   ]
  },
  {
   "cell_type": "code",
   "execution_count": 104,
   "metadata": {},
   "outputs": [
    {
     "data": {
      "text/html": [
       "<div>\n",
       "<style scoped>\n",
       "    .dataframe tbody tr th:only-of-type {\n",
       "        vertical-align: middle;\n",
       "    }\n",
       "\n",
       "    .dataframe tbody tr th {\n",
       "        vertical-align: top;\n",
       "    }\n",
       "\n",
       "    .dataframe thead th {\n",
       "        text-align: right;\n",
       "    }\n",
       "</style>\n",
       "<table border=\"1\" class=\"dataframe\">\n",
       "  <thead>\n",
       "    <tr style=\"text-align: right;\">\n",
       "      <th></th>\n",
       "      <th>Ticker</th>\n",
       "      <th>Ex-Div. Date</th>\n",
       "      <th>Amount</th>\n",
       "    </tr>\n",
       "  </thead>\n",
       "  <tbody>\n",
       "    <tr>\n",
       "      <th>0</th>\n",
       "      <td>AGG</td>\n",
       "      <td>2019-04-01</td>\n",
       "      <td>0.262</td>\n",
       "    </tr>\n",
       "    <tr>\n",
       "      <th>1</th>\n",
       "      <td>AGG</td>\n",
       "      <td>2019-03-01</td>\n",
       "      <td>0.267</td>\n",
       "    </tr>\n",
       "    <tr>\n",
       "      <th>2</th>\n",
       "      <td>AGG</td>\n",
       "      <td>2019-02-01</td>\n",
       "      <td>0.268</td>\n",
       "    </tr>\n",
       "    <tr>\n",
       "      <th>3</th>\n",
       "      <td>AGG</td>\n",
       "      <td>2018-12-18</td>\n",
       "      <td>0.210</td>\n",
       "    </tr>\n",
       "    <tr>\n",
       "      <th>4</th>\n",
       "      <td>AGG</td>\n",
       "      <td>2018-11-01</td>\n",
       "      <td>0.256</td>\n",
       "    </tr>\n",
       "  </tbody>\n",
       "</table>\n",
       "</div>"
      ],
      "text/plain": [
       "  Ticker Ex-Div. Date  Amount\n",
       "0    AGG   2019-04-01   0.262\n",
       "1    AGG   2019-03-01   0.267\n",
       "2    AGG   2019-02-01   0.268\n",
       "3    AGG   2018-12-18   0.210\n",
       "4    AGG   2018-11-01   0.256"
      ]
     },
     "execution_count": 104,
     "metadata": {},
     "output_type": "execute_result"
    }
   ],
   "source": [
    "# subset the dividend df for the needed columns.\n",
    "\n",
    "dividend_df_subset = dividend_df[['Ticker', 'Ex-Div. Date', 'Amount']]\n",
    "\n",
    "dividend_df_subset.head()"
   ]
  },
  {
   "cell_type": "code",
   "execution_count": 105,
   "metadata": {},
   "outputs": [
    {
     "data": {
      "text/html": [
       "<div>\n",
       "<style scoped>\n",
       "    .dataframe tbody tr th:only-of-type {\n",
       "        vertical-align: middle;\n",
       "    }\n",
       "\n",
       "    .dataframe tbody tr th {\n",
       "        vertical-align: top;\n",
       "    }\n",
       "\n",
       "    .dataframe thead th {\n",
       "        text-align: right;\n",
       "    }\n",
       "</style>\n",
       "<table border=\"1\" class=\"dataframe\">\n",
       "  <thead>\n",
       "    <tr style=\"text-align: right;\">\n",
       "      <th></th>\n",
       "      <th>Ticker #</th>\n",
       "      <th>Acquisition Date</th>\n",
       "      <th>Ticker</th>\n",
       "      <th>Quantity</th>\n",
       "      <th>Latest Date</th>\n",
       "      <th>Equiv SP Shares</th>\n",
       "    </tr>\n",
       "  </thead>\n",
       "  <tbody>\n",
       "    <tr>\n",
       "      <th>3</th>\n",
       "      <td>IGOV 3</td>\n",
       "      <td>2014-04-21</td>\n",
       "      <td>IGOV</td>\n",
       "      <td>8</td>\n",
       "      <td>2019-04-18</td>\n",
       "      <td>0.216765</td>\n",
       "    </tr>\n",
       "    <tr>\n",
       "      <th>4</th>\n",
       "      <td>VEU 4</td>\n",
       "      <td>2014-04-21</td>\n",
       "      <td>VEU</td>\n",
       "      <td>105</td>\n",
       "      <td>2019-04-18</td>\n",
       "      <td>2.463606</td>\n",
       "    </tr>\n",
       "    <tr>\n",
       "      <th>5</th>\n",
       "      <td>VNQ 5</td>\n",
       "      <td>2014-04-21</td>\n",
       "      <td>VNQ</td>\n",
       "      <td>11</td>\n",
       "      <td>2019-04-18</td>\n",
       "      <td>0.342477</td>\n",
       "    </tr>\n",
       "    <tr>\n",
       "      <th>6</th>\n",
       "      <td>VTI 6</td>\n",
       "      <td>2014-04-21</td>\n",
       "      <td>VTI</td>\n",
       "      <td>72</td>\n",
       "      <td>2019-04-18</td>\n",
       "      <td>3.392507</td>\n",
       "    </tr>\n",
       "    <tr>\n",
       "      <th>7</th>\n",
       "      <td>VTI 7</td>\n",
       "      <td>2014-05-05</td>\n",
       "      <td>VTI</td>\n",
       "      <td>32</td>\n",
       "      <td>2019-04-18</td>\n",
       "      <td>1.505545</td>\n",
       "    </tr>\n",
       "  </tbody>\n",
       "</table>\n",
       "</div>"
      ],
      "text/plain": [
       "  Ticker # Acquisition Date Ticker  Quantity Latest Date  Equiv SP Shares\n",
       "3   IGOV 3       2014-04-21   IGOV         8  2019-04-18         0.216765\n",
       "4    VEU 4       2014-04-21    VEU       105  2019-04-18         2.463606\n",
       "5    VNQ 5       2014-04-21    VNQ        11  2019-04-18         0.342477\n",
       "6    VTI 6       2014-04-21    VTI        72  2019-04-18         3.392507\n",
       "7    VTI 7       2014-05-05    VTI        32  2019-04-18         1.505545"
      ]
     },
     "execution_count": 105,
     "metadata": {},
     "output_type": "execute_result"
    }
   ],
   "source": [
    "# subset the portfolio df for needed columns.\n",
    "\n",
    "portfolio_df_subset = merged_portfolio_sp_latest_YTD_sp_closing_high[['Ticker #', 'Acquisition Date', 'Ticker', 'Quantity'\n",
    "                                                                      , 'Latest Date', 'Equiv SP Shares']]\n",
    "\n",
    "portfolio_df_subset.tail()"
   ]
  },
  {
   "cell_type": "code",
   "execution_count": 106,
   "metadata": {},
   "outputs": [
    {
     "data": {
      "text/html": [
       "<div>\n",
       "<style scoped>\n",
       "    .dataframe tbody tr th:only-of-type {\n",
       "        vertical-align: middle;\n",
       "    }\n",
       "\n",
       "    .dataframe tbody tr th {\n",
       "        vertical-align: top;\n",
       "    }\n",
       "\n",
       "    .dataframe thead th {\n",
       "        text-align: right;\n",
       "    }\n",
       "</style>\n",
       "<table border=\"1\" class=\"dataframe\">\n",
       "  <thead>\n",
       "    <tr style=\"text-align: right;\">\n",
       "      <th></th>\n",
       "      <th>Ticker #</th>\n",
       "      <th>Acquisition Date</th>\n",
       "      <th>Ticker</th>\n",
       "      <th>Quantity</th>\n",
       "      <th>Latest Date</th>\n",
       "      <th>Equiv SP Shares</th>\n",
       "      <th>Ex-Div. Date</th>\n",
       "      <th>Amount</th>\n",
       "    </tr>\n",
       "  </thead>\n",
       "  <tbody>\n",
       "    <tr>\n",
       "      <th>233</th>\n",
       "      <td>VTI 7</td>\n",
       "      <td>2014-05-05</td>\n",
       "      <td>VTI</td>\n",
       "      <td>32</td>\n",
       "      <td>2019-04-18</td>\n",
       "      <td>1.505545</td>\n",
       "      <td>2014-06-24</td>\n",
       "      <td>0.420</td>\n",
       "    </tr>\n",
       "    <tr>\n",
       "      <th>234</th>\n",
       "      <td>VTI 7</td>\n",
       "      <td>2014-05-05</td>\n",
       "      <td>VTI</td>\n",
       "      <td>32</td>\n",
       "      <td>2019-04-18</td>\n",
       "      <td>1.505545</td>\n",
       "      <td>2014-03-25</td>\n",
       "      <td>0.423</td>\n",
       "    </tr>\n",
       "    <tr>\n",
       "      <th>235</th>\n",
       "      <td>VTI 7</td>\n",
       "      <td>2014-05-05</td>\n",
       "      <td>VTI</td>\n",
       "      <td>32</td>\n",
       "      <td>2019-04-18</td>\n",
       "      <td>1.505545</td>\n",
       "      <td>2013-12-20</td>\n",
       "      <td>0.494</td>\n",
       "    </tr>\n",
       "    <tr>\n",
       "      <th>236</th>\n",
       "      <td>VTI 7</td>\n",
       "      <td>2014-05-05</td>\n",
       "      <td>VTI</td>\n",
       "      <td>32</td>\n",
       "      <td>2019-04-18</td>\n",
       "      <td>1.505545</td>\n",
       "      <td>2013-09-23</td>\n",
       "      <td>0.429</td>\n",
       "    </tr>\n",
       "    <tr>\n",
       "      <th>237</th>\n",
       "      <td>VTI 7</td>\n",
       "      <td>2014-05-05</td>\n",
       "      <td>VTI</td>\n",
       "      <td>32</td>\n",
       "      <td>2019-04-18</td>\n",
       "      <td>1.505545</td>\n",
       "      <td>2013-06-24</td>\n",
       "      <td>0.386</td>\n",
       "    </tr>\n",
       "  </tbody>\n",
       "</table>\n",
       "</div>"
      ],
      "text/plain": [
       "    Ticker # Acquisition Date Ticker  Quantity Latest Date  Equiv SP Shares  \\\n",
       "233    VTI 7       2014-05-05    VTI        32  2019-04-18         1.505545   \n",
       "234    VTI 7       2014-05-05    VTI        32  2019-04-18         1.505545   \n",
       "235    VTI 7       2014-05-05    VTI        32  2019-04-18         1.505545   \n",
       "236    VTI 7       2014-05-05    VTI        32  2019-04-18         1.505545   \n",
       "237    VTI 7       2014-05-05    VTI        32  2019-04-18         1.505545   \n",
       "\n",
       "    Ex-Div. Date  Amount  \n",
       "233   2014-06-24   0.420  \n",
       "234   2014-03-25   0.423  \n",
       "235   2013-12-20   0.494  \n",
       "236   2013-09-23   0.429  \n",
       "237   2013-06-24   0.386  "
      ]
     },
     "execution_count": 106,
     "metadata": {},
     "output_type": "execute_result"
    }
   ],
   "source": [
    "# Merge the two subsets with the data needed to pull in the dividends received during ownership.\n",
    "\n",
    "merged_subsets = pd.merge(portfolio_df_subset, dividend_df_subset, on='Ticker', how='left')\n",
    "\n",
    "merged_subsets.tail()"
   ]
  },
  {
   "cell_type": "code",
   "execution_count": 107,
   "metadata": {},
   "outputs": [],
   "source": [
    "# This function determines if you owned the stock and were eligible to be paid the dividend.\n",
    "\n",
    "def dividend_post_acquisition(df):\n",
    "    if df['Ex-Div. Date'] > df['Acquisition Date'] and df['Ex-Div. Date'] <= stocks_end:\n",
    "        val = 1\n",
    "    elif df['Ex-Div. Date'] <= df['Acquisition Date']:\n",
    "        val = 0\n",
    "    else:\n",
    "        val = 0\n",
    "    return val"
   ]
  },
  {
   "cell_type": "code",
   "execution_count": 108,
   "metadata": {},
   "outputs": [
    {
     "data": {
      "text/html": [
       "<div>\n",
       "<style scoped>\n",
       "    .dataframe tbody tr th:only-of-type {\n",
       "        vertical-align: middle;\n",
       "    }\n",
       "\n",
       "    .dataframe tbody tr th {\n",
       "        vertical-align: top;\n",
       "    }\n",
       "\n",
       "    .dataframe thead th {\n",
       "        text-align: right;\n",
       "    }\n",
       "</style>\n",
       "<table border=\"1\" class=\"dataframe\">\n",
       "  <thead>\n",
       "    <tr style=\"text-align: right;\">\n",
       "      <th></th>\n",
       "      <th>Ticker #</th>\n",
       "      <th>Acquisition Date</th>\n",
       "      <th>Ticker</th>\n",
       "      <th>Quantity</th>\n",
       "      <th>Latest Date</th>\n",
       "      <th>Equiv SP Shares</th>\n",
       "      <th>Ex-Div. Date</th>\n",
       "      <th>Amount</th>\n",
       "      <th>Acq Indicator</th>\n",
       "    </tr>\n",
       "  </thead>\n",
       "  <tbody>\n",
       "    <tr>\n",
       "      <th>0</th>\n",
       "      <td>AGG 0</td>\n",
       "      <td>2014-04-21</td>\n",
       "      <td>AGG</td>\n",
       "      <td>25</td>\n",
       "      <td>2019-04-18</td>\n",
       "      <td>1.278387</td>\n",
       "      <td>2019-04-01</td>\n",
       "      <td>0.262</td>\n",
       "      <td>1</td>\n",
       "    </tr>\n",
       "    <tr>\n",
       "      <th>1</th>\n",
       "      <td>AGG 0</td>\n",
       "      <td>2014-04-21</td>\n",
       "      <td>AGG</td>\n",
       "      <td>25</td>\n",
       "      <td>2019-04-18</td>\n",
       "      <td>1.278387</td>\n",
       "      <td>2019-03-01</td>\n",
       "      <td>0.267</td>\n",
       "      <td>1</td>\n",
       "    </tr>\n",
       "    <tr>\n",
       "      <th>2</th>\n",
       "      <td>AGG 0</td>\n",
       "      <td>2014-04-21</td>\n",
       "      <td>AGG</td>\n",
       "      <td>25</td>\n",
       "      <td>2019-04-18</td>\n",
       "      <td>1.278387</td>\n",
       "      <td>2019-02-01</td>\n",
       "      <td>0.268</td>\n",
       "      <td>1</td>\n",
       "    </tr>\n",
       "    <tr>\n",
       "      <th>3</th>\n",
       "      <td>AGG 0</td>\n",
       "      <td>2014-04-21</td>\n",
       "      <td>AGG</td>\n",
       "      <td>25</td>\n",
       "      <td>2019-04-18</td>\n",
       "      <td>1.278387</td>\n",
       "      <td>2018-12-18</td>\n",
       "      <td>0.210</td>\n",
       "      <td>1</td>\n",
       "    </tr>\n",
       "    <tr>\n",
       "      <th>4</th>\n",
       "      <td>AGG 0</td>\n",
       "      <td>2014-04-21</td>\n",
       "      <td>AGG</td>\n",
       "      <td>25</td>\n",
       "      <td>2019-04-18</td>\n",
       "      <td>1.278387</td>\n",
       "      <td>2018-11-01</td>\n",
       "      <td>0.256</td>\n",
       "      <td>1</td>\n",
       "    </tr>\n",
       "  </tbody>\n",
       "</table>\n",
       "</div>"
      ],
      "text/plain": [
       "  Ticker # Acquisition Date Ticker  Quantity Latest Date  Equiv SP Shares  \\\n",
       "0    AGG 0       2014-04-21    AGG        25  2019-04-18         1.278387   \n",
       "1    AGG 0       2014-04-21    AGG        25  2019-04-18         1.278387   \n",
       "2    AGG 0       2014-04-21    AGG        25  2019-04-18         1.278387   \n",
       "3    AGG 0       2014-04-21    AGG        25  2019-04-18         1.278387   \n",
       "4    AGG 0       2014-04-21    AGG        25  2019-04-18         1.278387   \n",
       "\n",
       "  Ex-Div. Date  Amount  Acq Indicator  \n",
       "0   2019-04-01   0.262              1  \n",
       "1   2019-03-01   0.267              1  \n",
       "2   2019-02-01   0.268              1  \n",
       "3   2018-12-18   0.210              1  \n",
       "4   2018-11-01   0.256              1  "
      ]
     },
     "execution_count": 108,
     "metadata": {},
     "output_type": "execute_result"
    }
   ],
   "source": [
    "# Acq indicator of 1 means that you were eligible and received the dividend.\n",
    "\n",
    "merged_subsets['Acq Indicator'] = merged_subsets.apply(dividend_post_acquisition, axis=1)\n",
    "\n",
    "merged_subsets['Amount'].fillna(0, inplace=True)\n",
    "\n",
    "merged_subsets.head()"
   ]
  },
  {
   "cell_type": "code",
   "execution_count": 109,
   "metadata": {},
   "outputs": [
    {
     "name": "stderr",
     "output_type": "stream",
     "text": [
      "/home/rootdaenib/.local/lib/python3.8/site-packages/pandas/core/indexing.py:1667: SettingWithCopyWarning:\n",
      "\n",
      "\n",
      "A value is trying to be set on a copy of a slice from a DataFrame.\n",
      "Try using .loc[row_indexer,col_indexer] = value instead\n",
      "\n",
      "See the caveats in the documentation: https://pandas.pydata.org/pandas-docs/stable/user_guide/indexing.html#returning-a-view-versus-a-copy\n",
      "\n"
     ]
    },
    {
     "data": {
      "text/html": [
       "<div>\n",
       "<style scoped>\n",
       "    .dataframe tbody tr th:only-of-type {\n",
       "        vertical-align: middle;\n",
       "    }\n",
       "\n",
       "    .dataframe tbody tr th {\n",
       "        vertical-align: top;\n",
       "    }\n",
       "\n",
       "    .dataframe thead th {\n",
       "        text-align: right;\n",
       "    }\n",
       "</style>\n",
       "<table border=\"1\" class=\"dataframe\">\n",
       "  <thead>\n",
       "    <tr style=\"text-align: right;\">\n",
       "      <th></th>\n",
       "      <th>Ticker #</th>\n",
       "      <th>Acquisition Date</th>\n",
       "      <th>Ticker</th>\n",
       "      <th>Quantity</th>\n",
       "      <th>Latest Date</th>\n",
       "      <th>Equiv SP Shares</th>\n",
       "      <th>Ex-Div. Date</th>\n",
       "      <th>Amount</th>\n",
       "      <th>Acq Indicator</th>\n",
       "      <th>Dividend Amt</th>\n",
       "      <th>Year</th>\n",
       "    </tr>\n",
       "  </thead>\n",
       "  <tbody>\n",
       "    <tr>\n",
       "      <th>0</th>\n",
       "      <td>AGG 0</td>\n",
       "      <td>2014-04-21</td>\n",
       "      <td>AGG</td>\n",
       "      <td>25</td>\n",
       "      <td>2019-04-18</td>\n",
       "      <td>1.278387</td>\n",
       "      <td>2019-04-01</td>\n",
       "      <td>0.262</td>\n",
       "      <td>1</td>\n",
       "      <td>6.550</td>\n",
       "      <td>2019.0</td>\n",
       "    </tr>\n",
       "    <tr>\n",
       "      <th>1</th>\n",
       "      <td>AGG 0</td>\n",
       "      <td>2014-04-21</td>\n",
       "      <td>AGG</td>\n",
       "      <td>25</td>\n",
       "      <td>2019-04-18</td>\n",
       "      <td>1.278387</td>\n",
       "      <td>2019-03-01</td>\n",
       "      <td>0.267</td>\n",
       "      <td>1</td>\n",
       "      <td>6.675</td>\n",
       "      <td>2019.0</td>\n",
       "    </tr>\n",
       "    <tr>\n",
       "      <th>2</th>\n",
       "      <td>AGG 0</td>\n",
       "      <td>2014-04-21</td>\n",
       "      <td>AGG</td>\n",
       "      <td>25</td>\n",
       "      <td>2019-04-18</td>\n",
       "      <td>1.278387</td>\n",
       "      <td>2019-02-01</td>\n",
       "      <td>0.268</td>\n",
       "      <td>1</td>\n",
       "      <td>6.700</td>\n",
       "      <td>2019.0</td>\n",
       "    </tr>\n",
       "    <tr>\n",
       "      <th>3</th>\n",
       "      <td>AGG 0</td>\n",
       "      <td>2014-04-21</td>\n",
       "      <td>AGG</td>\n",
       "      <td>25</td>\n",
       "      <td>2019-04-18</td>\n",
       "      <td>1.278387</td>\n",
       "      <td>2018-12-18</td>\n",
       "      <td>0.210</td>\n",
       "      <td>1</td>\n",
       "      <td>5.250</td>\n",
       "      <td>2018.0</td>\n",
       "    </tr>\n",
       "    <tr>\n",
       "      <th>4</th>\n",
       "      <td>AGG 0</td>\n",
       "      <td>2014-04-21</td>\n",
       "      <td>AGG</td>\n",
       "      <td>25</td>\n",
       "      <td>2019-04-18</td>\n",
       "      <td>1.278387</td>\n",
       "      <td>2018-11-01</td>\n",
       "      <td>0.256</td>\n",
       "      <td>1</td>\n",
       "      <td>6.400</td>\n",
       "      <td>2018.0</td>\n",
       "    </tr>\n",
       "  </tbody>\n",
       "</table>\n",
       "</div>"
      ],
      "text/plain": [
       "  Ticker # Acquisition Date Ticker  Quantity Latest Date  Equiv SP Shares  \\\n",
       "0    AGG 0       2014-04-21    AGG        25  2019-04-18         1.278387   \n",
       "1    AGG 0       2014-04-21    AGG        25  2019-04-18         1.278387   \n",
       "2    AGG 0       2014-04-21    AGG        25  2019-04-18         1.278387   \n",
       "3    AGG 0       2014-04-21    AGG        25  2019-04-18         1.278387   \n",
       "4    AGG 0       2014-04-21    AGG        25  2019-04-18         1.278387   \n",
       "\n",
       "  Ex-Div. Date  Amount  Acq Indicator  Dividend Amt    Year  \n",
       "0   2019-04-01   0.262              1         6.550  2019.0  \n",
       "1   2019-03-01   0.267              1         6.675  2019.0  \n",
       "2   2019-02-01   0.268              1         6.700  2019.0  \n",
       "3   2018-12-18   0.210              1         5.250  2018.0  \n",
       "4   2018-11-01   0.256              1         6.400  2018.0  "
      ]
     },
     "execution_count": 109,
     "metadata": {},
     "output_type": "execute_result"
    }
   ],
   "source": [
    "# filter the df on the dividends where you were eligible, calculate dividend based on share ownership.\n",
    "\n",
    "merged_subsets_eligible = merged_subsets[merged_subsets['Acq Indicator']==1]\n",
    "\n",
    "merged_subsets_eligible.loc[:, 'Dividend Amt'] = merged_subsets.loc[:, 'Amount'] * merged_subsets.loc[:, 'Quantity']\n",
    "\n",
    "# merged_subsets_eligible['Date'] = pd.to_datetime(merged_subsets['Date'])\n",
    "\n",
    "merged_subsets_eligible.loc[:, 'Year'] = merged_subsets.loc[:, 'Ex-Div. Date'].dt.year\n",
    "\n",
    "merged_subsets_eligible.head()"
   ]
  },
  {
   "cell_type": "code",
   "execution_count": 110,
   "metadata": {},
   "outputs": [
    {
     "data": {
      "text/html": [
       "<div>\n",
       "<style scoped>\n",
       "    .dataframe tbody tr th:only-of-type {\n",
       "        vertical-align: middle;\n",
       "    }\n",
       "\n",
       "    .dataframe tbody tr th {\n",
       "        vertical-align: top;\n",
       "    }\n",
       "\n",
       "    .dataframe thead th {\n",
       "        text-align: right;\n",
       "    }\n",
       "</style>\n",
       "<table border=\"1\" class=\"dataframe\">\n",
       "  <thead>\n",
       "    <tr style=\"text-align: right;\">\n",
       "      <th>Year</th>\n",
       "      <th>Ticker #</th>\n",
       "      <th>Ticker</th>\n",
       "      <th>Acquisition Date</th>\n",
       "      <th>2014.0</th>\n",
       "      <th>2015.0</th>\n",
       "      <th>2016.0</th>\n",
       "      <th>2017.0</th>\n",
       "      <th>2018.0</th>\n",
       "      <th>2019.0</th>\n",
       "      <th>Dividend Amt</th>\n",
       "    </tr>\n",
       "  </thead>\n",
       "  <tbody>\n",
       "    <tr>\n",
       "      <th>0</th>\n",
       "      <td>AGG 0</td>\n",
       "      <td>AGG</td>\n",
       "      <td>2014-04-21</td>\n",
       "      <td>48.400000</td>\n",
       "      <td>62.150000</td>\n",
       "      <td>48.17500</td>\n",
       "      <td>57.625000</td>\n",
       "      <td>65.97500</td>\n",
       "      <td>19.925</td>\n",
       "      <td>302.250000</td>\n",
       "    </tr>\n",
       "    <tr>\n",
       "      <th>1</th>\n",
       "      <td>DBC 1</td>\n",
       "      <td>DBC</td>\n",
       "      <td>2014-04-21</td>\n",
       "      <td>0.000000</td>\n",
       "      <td>0.000000</td>\n",
       "      <td>0.00000</td>\n",
       "      <td>0.000000</td>\n",
       "      <td>4.15800</td>\n",
       "      <td>0.000</td>\n",
       "      <td>4.158000</td>\n",
       "    </tr>\n",
       "    <tr>\n",
       "      <th>2</th>\n",
       "      <td>IGOV 3</td>\n",
       "      <td>IGOV</td>\n",
       "      <td>2014-04-21</td>\n",
       "      <td>7.103696</td>\n",
       "      <td>0.839192</td>\n",
       "      <td>4.99232</td>\n",
       "      <td>1.326384</td>\n",
       "      <td>1.20788</td>\n",
       "      <td>0.000</td>\n",
       "      <td>15.469472</td>\n",
       "    </tr>\n",
       "    <tr>\n",
       "      <th>3</th>\n",
       "      <td>VEU 4</td>\n",
       "      <td>VEU</td>\n",
       "      <td>2014-04-21</td>\n",
       "      <td>131.985000</td>\n",
       "      <td>134.610000</td>\n",
       "      <td>137.34000</td>\n",
       "      <td>152.775000</td>\n",
       "      <td>156.34500</td>\n",
       "      <td>18.795</td>\n",
       "      <td>731.850000</td>\n",
       "    </tr>\n",
       "    <tr>\n",
       "      <th>4</th>\n",
       "      <td>VNQ 5</td>\n",
       "      <td>VNQ</td>\n",
       "      <td>2014-04-21</td>\n",
       "      <td>27.126000</td>\n",
       "      <td>34.364000</td>\n",
       "      <td>43.73600</td>\n",
       "      <td>38.654000</td>\n",
       "      <td>38.84100</td>\n",
       "      <td>6.776</td>\n",
       "      <td>189.497000</td>\n",
       "    </tr>\n",
       "    <tr>\n",
       "      <th>5</th>\n",
       "      <td>VTI 6</td>\n",
       "      <td>VTI</td>\n",
       "      <td>2014-04-21</td>\n",
       "      <td>104.112000</td>\n",
       "      <td>148.824000</td>\n",
       "      <td>159.48000</td>\n",
       "      <td>168.696000</td>\n",
       "      <td>187.48800</td>\n",
       "      <td>55.584</td>\n",
       "      <td>824.184000</td>\n",
       "    </tr>\n",
       "    <tr>\n",
       "      <th>6</th>\n",
       "      <td>VTI 7</td>\n",
       "      <td>VTI</td>\n",
       "      <td>2014-05-05</td>\n",
       "      <td>46.272000</td>\n",
       "      <td>66.144000</td>\n",
       "      <td>70.88000</td>\n",
       "      <td>74.976000</td>\n",
       "      <td>83.32800</td>\n",
       "      <td>24.704</td>\n",
       "      <td>366.304000</td>\n",
       "    </tr>\n",
       "  </tbody>\n",
       "</table>\n",
       "</div>"
      ],
      "text/plain": [
       "Year Ticker # Ticker Acquisition Date      2014.0      2015.0     2016.0  \\\n",
       "0       AGG 0    AGG       2014-04-21   48.400000   62.150000   48.17500   \n",
       "1       DBC 1    DBC       2014-04-21    0.000000    0.000000    0.00000   \n",
       "2      IGOV 3   IGOV       2014-04-21    7.103696    0.839192    4.99232   \n",
       "3       VEU 4    VEU       2014-04-21  131.985000  134.610000  137.34000   \n",
       "4       VNQ 5    VNQ       2014-04-21   27.126000   34.364000   43.73600   \n",
       "5       VTI 6    VTI       2014-04-21  104.112000  148.824000  159.48000   \n",
       "6       VTI 7    VTI       2014-05-05   46.272000   66.144000   70.88000   \n",
       "\n",
       "Year      2017.0     2018.0  2019.0  Dividend Amt  \n",
       "0      57.625000   65.97500  19.925    302.250000  \n",
       "1       0.000000    4.15800   0.000      4.158000  \n",
       "2       1.326384    1.20788   0.000     15.469472  \n",
       "3     152.775000  156.34500  18.795    731.850000  \n",
       "4      38.654000   38.84100   6.776    189.497000  \n",
       "5     168.696000  187.48800  55.584    824.184000  \n",
       "6      74.976000   83.32800  24.704    366.304000  "
      ]
     },
     "execution_count": 110,
     "metadata": {},
     "output_type": "execute_result"
    }
   ],
   "source": [
    "# This df is more useful as it breaks out dividends by year paid as well as total received during ownership.\n",
    "\n",
    "merged_subsets_eligible_by_year = merged_subsets_eligible.pivot_table(index=['Ticker #', 'Ticker', 'Acquisition Date'],\n",
    "                                                                          columns='Year', values='Dividend Amt', aggfunc=sum)\n",
    "\n",
    "merged_subsets_eligible_by_year.reset_index(inplace=True)\n",
    "\n",
    "merged_subsets_eligible_by_year.fillna(0, inplace=True)\n",
    "\n",
    "merged_subsets_eligible_by_year['Dividend Amt'] = merged_subsets_eligible_by_year.iloc[:, 3:].sum(axis=1)\n",
    "\n",
    "# Check out subtotals here:  http://pbpython.com/excel-pandas-comp.html\n",
    "\n",
    "merged_subsets_eligible_by_year"
   ]
  },
  {
   "cell_type": "code",
   "execution_count": 111,
   "metadata": {},
   "outputs": [
    {
     "name": "stderr",
     "output_type": "stream",
     "text": [
      "/home/rootdaenib/.local/lib/python3.8/site-packages/pandas/util/_decorators.py:311: SettingWithCopyWarning:\n",
      "\n",
      "\n",
      "A value is trying to be set on a copy of a slice from a DataFrame\n",
      "\n",
      "See the caveats in the documentation: https://pandas.pydata.org/pandas-docs/stable/user_guide/indexing.html#returning-a-view-versus-a-copy\n",
      "\n"
     ]
    },
    {
     "data": {
      "text/html": [
       "<div>\n",
       "<style scoped>\n",
       "    .dataframe tbody tr th:only-of-type {\n",
       "        vertical-align: middle;\n",
       "    }\n",
       "\n",
       "    .dataframe tbody tr th {\n",
       "        vertical-align: top;\n",
       "    }\n",
       "\n",
       "    .dataframe thead th {\n",
       "        text-align: right;\n",
       "    }\n",
       "</style>\n",
       "<table border=\"1\" class=\"dataframe\">\n",
       "  <thead>\n",
       "    <tr style=\"text-align: right;\">\n",
       "      <th></th>\n",
       "      <th>Ticker #</th>\n",
       "      <th>Acquisition Date</th>\n",
       "      <th>Ticker</th>\n",
       "      <th>Quantity</th>\n",
       "      <th>Latest Date</th>\n",
       "      <th>Equiv SP Shares</th>\n",
       "      <th>Ex-Div. Date</th>\n",
       "      <th>Amount</th>\n",
       "      <th>Acq Indicator</th>\n",
       "      <th>Dividend Amt</th>\n",
       "      <th>Year</th>\n",
       "    </tr>\n",
       "  </thead>\n",
       "  <tbody>\n",
       "    <tr>\n",
       "      <th>0</th>\n",
       "      <td>AGG 0</td>\n",
       "      <td>2014-04-21</td>\n",
       "      <td>AGG</td>\n",
       "      <td>25</td>\n",
       "      <td>2019-04-18</td>\n",
       "      <td>1.278387</td>\n",
       "      <td>2019-04-01</td>\n",
       "      <td>0.262000</td>\n",
       "      <td>1</td>\n",
       "      <td>6.55000</td>\n",
       "      <td>2019.0</td>\n",
       "    </tr>\n",
       "    <tr>\n",
       "      <th>64</th>\n",
       "      <td>DBC 1</td>\n",
       "      <td>2014-04-21</td>\n",
       "      <td>DBC</td>\n",
       "      <td>22</td>\n",
       "      <td>2019-04-18</td>\n",
       "      <td>0.308042</td>\n",
       "      <td>2018-12-24</td>\n",
       "      <td>0.189000</td>\n",
       "      <td>1</td>\n",
       "      <td>4.15800</td>\n",
       "      <td>2018.0</td>\n",
       "    </tr>\n",
       "    <tr>\n",
       "      <th>66</th>\n",
       "      <td>IGOV 3</td>\n",
       "      <td>2014-04-21</td>\n",
       "      <td>IGOV</td>\n",
       "      <td>8</td>\n",
       "      <td>2019-04-18</td>\n",
       "      <td>0.216765</td>\n",
       "      <td>2018-12-18</td>\n",
       "      <td>0.150985</td>\n",
       "      <td>1</td>\n",
       "      <td>1.20788</td>\n",
       "      <td>2018.0</td>\n",
       "    </tr>\n",
       "    <tr>\n",
       "      <th>142</th>\n",
       "      <td>VEU 4</td>\n",
       "      <td>2014-04-21</td>\n",
       "      <td>VEU</td>\n",
       "      <td>105</td>\n",
       "      <td>2019-04-18</td>\n",
       "      <td>2.463606</td>\n",
       "      <td>2019-03-25</td>\n",
       "      <td>0.179000</td>\n",
       "      <td>1</td>\n",
       "      <td>18.79500</td>\n",
       "      <td>2019.0</td>\n",
       "    </tr>\n",
       "    <tr>\n",
       "      <th>166</th>\n",
       "      <td>VNQ 5</td>\n",
       "      <td>2014-04-21</td>\n",
       "      <td>VNQ</td>\n",
       "      <td>11</td>\n",
       "      <td>2019-04-18</td>\n",
       "      <td>0.342477</td>\n",
       "      <td>2019-03-28</td>\n",
       "      <td>0.616000</td>\n",
       "      <td>1</td>\n",
       "      <td>6.77600</td>\n",
       "      <td>2019.0</td>\n",
       "    </tr>\n",
       "    <tr>\n",
       "      <th>190</th>\n",
       "      <td>VTI 6</td>\n",
       "      <td>2014-04-21</td>\n",
       "      <td>VTI</td>\n",
       "      <td>72</td>\n",
       "      <td>2019-04-18</td>\n",
       "      <td>3.392507</td>\n",
       "      <td>2019-03-25</td>\n",
       "      <td>0.772000</td>\n",
       "      <td>1</td>\n",
       "      <td>55.58400</td>\n",
       "      <td>2019.0</td>\n",
       "    </tr>\n",
       "    <tr>\n",
       "      <th>214</th>\n",
       "      <td>VTI 7</td>\n",
       "      <td>2014-05-05</td>\n",
       "      <td>VTI</td>\n",
       "      <td>32</td>\n",
       "      <td>2019-04-18</td>\n",
       "      <td>1.505545</td>\n",
       "      <td>2019-03-25</td>\n",
       "      <td>0.772000</td>\n",
       "      <td>1</td>\n",
       "      <td>24.70400</td>\n",
       "      <td>2019.0</td>\n",
       "    </tr>\n",
       "  </tbody>\n",
       "</table>\n",
       "</div>"
      ],
      "text/plain": [
       "    Ticker # Acquisition Date Ticker  Quantity Latest Date  Equiv SP Shares  \\\n",
       "0      AGG 0       2014-04-21    AGG        25  2019-04-18         1.278387   \n",
       "64     DBC 1       2014-04-21    DBC        22  2019-04-18         0.308042   \n",
       "66    IGOV 3       2014-04-21   IGOV         8  2019-04-18         0.216765   \n",
       "142    VEU 4       2014-04-21    VEU       105  2019-04-18         2.463606   \n",
       "166    VNQ 5       2014-04-21    VNQ        11  2019-04-18         0.342477   \n",
       "190    VTI 6       2014-04-21    VTI        72  2019-04-18         3.392507   \n",
       "214    VTI 7       2014-05-05    VTI        32  2019-04-18         1.505545   \n",
       "\n",
       "    Ex-Div. Date    Amount  Acq Indicator  Dividend Amt    Year  \n",
       "0     2019-04-01  0.262000              1       6.55000  2019.0  \n",
       "64    2018-12-24  0.189000              1       4.15800  2018.0  \n",
       "66    2018-12-18  0.150985              1       1.20788  2018.0  \n",
       "142   2019-03-25  0.179000              1      18.79500  2019.0  \n",
       "166   2019-03-28  0.616000              1       6.77600  2019.0  \n",
       "190   2019-03-25  0.772000              1      55.58400  2019.0  \n",
       "214   2019-03-25  0.772000              1      24.70400  2019.0  "
      ]
     },
     "execution_count": 111,
     "metadata": {},
     "output_type": "execute_result"
    }
   ],
   "source": [
    "# Drop duplicates in order to get the latest dividend for each stock.\n",
    "\n",
    "merged_subsets_eligible_latest = merged_subsets_eligible\n",
    "\n",
    "merged_subsets_eligible_latest.sort_values(by=['Ticker #', 'Ex-Div. Date']\n",
    "                                                                     , ascending=[True, False], inplace=True)\n",
    "\n",
    "merged_subsets_eligible_latest.drop_duplicates(subset=['Ticker #'], keep='first', inplace=True)\n",
    "\n",
    "merged_subsets_eligible_latest"
   ]
  },
  {
   "cell_type": "code",
   "execution_count": 112,
   "metadata": {},
   "outputs": [
    {
     "name": "stderr",
     "output_type": "stream",
     "text": [
      "/home/rootdaenib/.local/lib/python3.8/site-packages/pandas/core/frame.py:5039: SettingWithCopyWarning:\n",
      "\n",
      "\n",
      "A value is trying to be set on a copy of a slice from a DataFrame\n",
      "\n",
      "See the caveats in the documentation: https://pandas.pydata.org/pandas-docs/stable/user_guide/indexing.html#returning-a-view-versus-a-copy\n",
      "\n"
     ]
    },
    {
     "data": {
      "text/html": [
       "<div>\n",
       "<style scoped>\n",
       "    .dataframe tbody tr th:only-of-type {\n",
       "        vertical-align: middle;\n",
       "    }\n",
       "\n",
       "    .dataframe tbody tr th {\n",
       "        vertical-align: top;\n",
       "    }\n",
       "\n",
       "    .dataframe thead th {\n",
       "        text-align: right;\n",
       "    }\n",
       "</style>\n",
       "<table border=\"1\" class=\"dataframe\">\n",
       "  <thead>\n",
       "    <tr style=\"text-align: right;\">\n",
       "      <th></th>\n",
       "      <th>Ticker #</th>\n",
       "      <th>Ex-Div. Date</th>\n",
       "      <th>Latest Div Amt</th>\n",
       "    </tr>\n",
       "  </thead>\n",
       "  <tbody>\n",
       "    <tr>\n",
       "      <th>0</th>\n",
       "      <td>AGG 0</td>\n",
       "      <td>2019-04-01</td>\n",
       "      <td>0.262000</td>\n",
       "    </tr>\n",
       "    <tr>\n",
       "      <th>64</th>\n",
       "      <td>DBC 1</td>\n",
       "      <td>2018-12-24</td>\n",
       "      <td>0.189000</td>\n",
       "    </tr>\n",
       "    <tr>\n",
       "      <th>66</th>\n",
       "      <td>IGOV 3</td>\n",
       "      <td>2018-12-18</td>\n",
       "      <td>0.150985</td>\n",
       "    </tr>\n",
       "    <tr>\n",
       "      <th>142</th>\n",
       "      <td>VEU 4</td>\n",
       "      <td>2019-03-25</td>\n",
       "      <td>0.179000</td>\n",
       "    </tr>\n",
       "    <tr>\n",
       "      <th>166</th>\n",
       "      <td>VNQ 5</td>\n",
       "      <td>2019-03-28</td>\n",
       "      <td>0.616000</td>\n",
       "    </tr>\n",
       "    <tr>\n",
       "      <th>190</th>\n",
       "      <td>VTI 6</td>\n",
       "      <td>2019-03-25</td>\n",
       "      <td>0.772000</td>\n",
       "    </tr>\n",
       "    <tr>\n",
       "      <th>214</th>\n",
       "      <td>VTI 7</td>\n",
       "      <td>2019-03-25</td>\n",
       "      <td>0.772000</td>\n",
       "    </tr>\n",
       "  </tbody>\n",
       "</table>\n",
       "</div>"
      ],
      "text/plain": [
       "    Ticker # Ex-Div. Date  Latest Div Amt\n",
       "0      AGG 0   2019-04-01        0.262000\n",
       "64     DBC 1   2018-12-24        0.189000\n",
       "66    IGOV 3   2018-12-18        0.150985\n",
       "142    VEU 4   2019-03-25        0.179000\n",
       "166    VNQ 5   2019-03-28        0.616000\n",
       "190    VTI 6   2019-03-25        0.772000\n",
       "214    VTI 7   2019-03-25        0.772000"
      ]
     },
     "execution_count": 112,
     "metadata": {},
     "output_type": "execute_result"
    }
   ],
   "source": [
    "merged_subsets_eligible_latest_subset = merged_subsets_eligible_latest[['Ticker #', 'Ex-Div. Date', 'Amount']]\n",
    "\n",
    "merged_subsets_eligible_latest_subset.rename(columns={'Amount': 'Latest Div Amt'}, inplace=True)\n",
    "\n",
    "merged_subsets_eligible_latest_subset"
   ]
  },
  {
   "cell_type": "code",
   "execution_count": 113,
   "metadata": {},
   "outputs": [
    {
     "data": {
      "text/html": [
       "<div>\n",
       "<style scoped>\n",
       "    .dataframe tbody tr th:only-of-type {\n",
       "        vertical-align: middle;\n",
       "    }\n",
       "\n",
       "    .dataframe tbody tr th {\n",
       "        vertical-align: top;\n",
       "    }\n",
       "\n",
       "    .dataframe thead th {\n",
       "        text-align: right;\n",
       "    }\n",
       "</style>\n",
       "<table border=\"1\" class=\"dataframe\">\n",
       "  <thead>\n",
       "    <tr style=\"text-align: right;\">\n",
       "      <th></th>\n",
       "      <th>Ticker #</th>\n",
       "      <th>Ticker</th>\n",
       "      <th>Acquisition Date</th>\n",
       "      <th>Quantity</th>\n",
       "      <th>Latest Date</th>\n",
       "      <th>Equiv SP Shares</th>\n",
       "      <th>Dividend Amt</th>\n",
       "    </tr>\n",
       "  </thead>\n",
       "  <tbody>\n",
       "    <tr>\n",
       "      <th>0</th>\n",
       "      <td>AGG 0</td>\n",
       "      <td>AGG</td>\n",
       "      <td>2014-04-21</td>\n",
       "      <td>25</td>\n",
       "      <td>2019-04-18</td>\n",
       "      <td>1.278387</td>\n",
       "      <td>6.55000</td>\n",
       "    </tr>\n",
       "    <tr>\n",
       "      <th>1</th>\n",
       "      <td>DBC 1</td>\n",
       "      <td>DBC</td>\n",
       "      <td>2014-04-21</td>\n",
       "      <td>22</td>\n",
       "      <td>2019-04-18</td>\n",
       "      <td>0.308042</td>\n",
       "      <td>4.15800</td>\n",
       "    </tr>\n",
       "    <tr>\n",
       "      <th>2</th>\n",
       "      <td>IGOV 3</td>\n",
       "      <td>IGOV</td>\n",
       "      <td>2014-04-21</td>\n",
       "      <td>8</td>\n",
       "      <td>2019-04-18</td>\n",
       "      <td>0.216765</td>\n",
       "      <td>1.20788</td>\n",
       "    </tr>\n",
       "    <tr>\n",
       "      <th>3</th>\n",
       "      <td>VEU 4</td>\n",
       "      <td>VEU</td>\n",
       "      <td>2014-04-21</td>\n",
       "      <td>105</td>\n",
       "      <td>2019-04-18</td>\n",
       "      <td>2.463606</td>\n",
       "      <td>18.79500</td>\n",
       "    </tr>\n",
       "    <tr>\n",
       "      <th>4</th>\n",
       "      <td>VNQ 5</td>\n",
       "      <td>VNQ</td>\n",
       "      <td>2014-04-21</td>\n",
       "      <td>11</td>\n",
       "      <td>2019-04-18</td>\n",
       "      <td>0.342477</td>\n",
       "      <td>6.77600</td>\n",
       "    </tr>\n",
       "    <tr>\n",
       "      <th>5</th>\n",
       "      <td>VTI 6</td>\n",
       "      <td>VTI</td>\n",
       "      <td>2014-04-21</td>\n",
       "      <td>72</td>\n",
       "      <td>2019-04-18</td>\n",
       "      <td>3.392507</td>\n",
       "      <td>55.58400</td>\n",
       "    </tr>\n",
       "    <tr>\n",
       "      <th>6</th>\n",
       "      <td>VTI 7</td>\n",
       "      <td>VTI</td>\n",
       "      <td>2014-05-05</td>\n",
       "      <td>32</td>\n",
       "      <td>2019-04-18</td>\n",
       "      <td>1.505545</td>\n",
       "      <td>24.70400</td>\n",
       "    </tr>\n",
       "  </tbody>\n",
       "</table>\n",
       "</div>"
      ],
      "text/plain": [
       "  Ticker # Ticker Acquisition Date  Quantity Latest Date  Equiv SP Shares  \\\n",
       "0    AGG 0    AGG       2014-04-21        25  2019-04-18         1.278387   \n",
       "1    DBC 1    DBC       2014-04-21        22  2019-04-18         0.308042   \n",
       "2   IGOV 3   IGOV       2014-04-21         8  2019-04-18         0.216765   \n",
       "3    VEU 4    VEU       2014-04-21       105  2019-04-18         2.463606   \n",
       "4    VNQ 5    VNQ       2014-04-21        11  2019-04-18         0.342477   \n",
       "5    VTI 6    VTI       2014-04-21        72  2019-04-18         3.392507   \n",
       "6    VTI 7    VTI       2014-05-05        32  2019-04-18         1.505545   \n",
       "\n",
       "   Dividend Amt  \n",
       "0       6.55000  \n",
       "1       4.15800  \n",
       "2       1.20788  \n",
       "3      18.79500  \n",
       "4       6.77600  \n",
       "5      55.58400  \n",
       "6      24.70400  "
      ]
     },
     "execution_count": 113,
     "metadata": {},
     "output_type": "execute_result"
    }
   ],
   "source": [
    "# subset the df with the needed columns that includes total dividends received for each position.\n",
    "\n",
    "merged_subsets_eligible_total = merged_subsets_eligible.pivot_table(index=['Ticker #', 'Ticker', 'Acquisition Date', 'Quantity'\n",
    "                                                                           , 'Latest Date', 'Equiv SP Shares']\n",
    "                                                                          , values='Dividend Amt', aggfunc=sum)\n",
    "\n",
    "merged_subsets_eligible_total.reset_index(inplace=True)\n",
    "\n",
    "merged_subsets_eligible_total"
   ]
  },
  {
   "cell_type": "code",
   "execution_count": 114,
   "metadata": {},
   "outputs": [
    {
     "data": {
      "text/html": [
       "<div>\n",
       "<style scoped>\n",
       "    .dataframe tbody tr th:only-of-type {\n",
       "        vertical-align: middle;\n",
       "    }\n",
       "\n",
       "    .dataframe tbody tr th {\n",
       "        vertical-align: top;\n",
       "    }\n",
       "\n",
       "    .dataframe thead th {\n",
       "        text-align: right;\n",
       "    }\n",
       "</style>\n",
       "<table border=\"1\" class=\"dataframe\">\n",
       "  <thead>\n",
       "    <tr style=\"text-align: right;\">\n",
       "      <th></th>\n",
       "      <th>Ticker</th>\n",
       "      <th>Ex-Div. Date</th>\n",
       "      <th>Amount</th>\n",
       "      <th>Type</th>\n",
       "      <th>Yield</th>\n",
       "      <th>Change</th>\n",
       "      <th>Decl. Date</th>\n",
       "      <th>Rec. Date</th>\n",
       "      <th>Pay. Date</th>\n",
       "      <th>Comments</th>\n",
       "    </tr>\n",
       "  </thead>\n",
       "  <tbody>\n",
       "    <tr>\n",
       "      <th>213</th>\n",
       "      <td>^GSPC</td>\n",
       "      <td>2018-12-31</td>\n",
       "      <td>14.19</td>\n",
       "      <td>NaN</td>\n",
       "      <td>NaN</td>\n",
       "      <td>NaN</td>\n",
       "      <td>NaN</td>\n",
       "      <td>NaN</td>\n",
       "      <td>NaN</td>\n",
       "      <td>NaN</td>\n",
       "    </tr>\n",
       "    <tr>\n",
       "      <th>214</th>\n",
       "      <td>^GSPC</td>\n",
       "      <td>2018-09-30</td>\n",
       "      <td>13.66</td>\n",
       "      <td>NaN</td>\n",
       "      <td>NaN</td>\n",
       "      <td>NaN</td>\n",
       "      <td>NaN</td>\n",
       "      <td>NaN</td>\n",
       "      <td>NaN</td>\n",
       "      <td>NaN</td>\n",
       "    </tr>\n",
       "    <tr>\n",
       "      <th>215</th>\n",
       "      <td>^GSPC</td>\n",
       "      <td>2018-06-30</td>\n",
       "      <td>13.10</td>\n",
       "      <td>NaN</td>\n",
       "      <td>NaN</td>\n",
       "      <td>NaN</td>\n",
       "      <td>NaN</td>\n",
       "      <td>NaN</td>\n",
       "      <td>NaN</td>\n",
       "      <td>NaN</td>\n",
       "    </tr>\n",
       "    <tr>\n",
       "      <th>216</th>\n",
       "      <td>^GSPC</td>\n",
       "      <td>2018-03-31</td>\n",
       "      <td>12.79</td>\n",
       "      <td>NaN</td>\n",
       "      <td>NaN</td>\n",
       "      <td>NaN</td>\n",
       "      <td>NaN</td>\n",
       "      <td>NaN</td>\n",
       "      <td>NaN</td>\n",
       "      <td>NaN</td>\n",
       "    </tr>\n",
       "    <tr>\n",
       "      <th>217</th>\n",
       "      <td>^GSPC</td>\n",
       "      <td>2017-12-31</td>\n",
       "      <td>12.78</td>\n",
       "      <td>NaN</td>\n",
       "      <td>NaN</td>\n",
       "      <td>NaN</td>\n",
       "      <td>NaN</td>\n",
       "      <td>NaN</td>\n",
       "      <td>NaN</td>\n",
       "      <td>NaN</td>\n",
       "    </tr>\n",
       "  </tbody>\n",
       "</table>\n",
       "</div>"
      ],
      "text/plain": [
       "    Ticker Ex-Div. Date  Amount  Type  Yield  Change Decl. Date Rec. Date  \\\n",
       "213  ^GSPC   2018-12-31   14.19   NaN    NaN     NaN        NaN       NaN   \n",
       "214  ^GSPC   2018-09-30   13.66   NaN    NaN     NaN        NaN       NaN   \n",
       "215  ^GSPC   2018-06-30   13.10   NaN    NaN     NaN        NaN       NaN   \n",
       "216  ^GSPC   2018-03-31   12.79   NaN    NaN     NaN        NaN       NaN   \n",
       "217  ^GSPC   2017-12-31   12.78   NaN    NaN     NaN        NaN       NaN   \n",
       "\n",
       "    Pay. Date  Comments  \n",
       "213       NaN       NaN  \n",
       "214       NaN       NaN  \n",
       "215       NaN       NaN  \n",
       "216       NaN       NaN  \n",
       "217       NaN       NaN  "
      ]
     },
     "execution_count": 114,
     "metadata": {},
     "output_type": "execute_result"
    }
   ],
   "source": [
    "dividend_df_sp500.head()"
   ]
  },
  {
   "cell_type": "code",
   "execution_count": 115,
   "metadata": {},
   "outputs": [
    {
     "name": "stderr",
     "output_type": "stream",
     "text": [
      "<ipython-input-115-91488386e903>:14: FutureWarning:\n",
      "\n",
      "Dropping of nuisance columns in DataFrame reductions (with 'numeric_only=None') is deprecated; in a future version this will raise TypeError.  Select only valid columns before calling the reduction.\n",
      "\n",
      "/home/rootdaenib/.local/lib/python3.8/site-packages/pandas/core/indexing.py:1667: SettingWithCopyWarning:\n",
      "\n",
      "\n",
      "A value is trying to be set on a copy of a slice from a DataFrame.\n",
      "Try using .loc[row_indexer,col_indexer] = value instead\n",
      "\n",
      "See the caveats in the documentation: https://pandas.pydata.org/pandas-docs/stable/user_guide/indexing.html#returning-a-view-versus-a-copy\n",
      "\n",
      "<ipython-input-115-91488386e903>:15: FutureWarning:\n",
      "\n",
      "Dropping of nuisance columns in DataFrame reductions (with 'numeric_only=None') is deprecated; in a future version this will raise TypeError.  Select only valid columns before calling the reduction.\n",
      "\n",
      "<ipython-input-115-91488386e903>:16: FutureWarning:\n",
      "\n",
      "Dropping of nuisance columns in DataFrame reductions (with 'numeric_only=None') is deprecated; in a future version this will raise TypeError.  Select only valid columns before calling the reduction.\n",
      "\n",
      "<ipython-input-115-91488386e903>:17: FutureWarning:\n",
      "\n",
      "Dropping of nuisance columns in DataFrame reductions (with 'numeric_only=None') is deprecated; in a future version this will raise TypeError.  Select only valid columns before calling the reduction.\n",
      "\n",
      "<ipython-input-115-91488386e903>:18: FutureWarning:\n",
      "\n",
      "Dropping of nuisance columns in DataFrame reductions (with 'numeric_only=None') is deprecated; in a future version this will raise TypeError.  Select only valid columns before calling the reduction.\n",
      "\n",
      "<ipython-input-115-91488386e903>:19: FutureWarning:\n",
      "\n",
      "Dropping of nuisance columns in DataFrame reductions (with 'numeric_only=None') is deprecated; in a future version this will raise TypeError.  Select only valid columns before calling the reduction.\n",
      "\n",
      "<ipython-input-115-91488386e903>:20: FutureWarning:\n",
      "\n",
      "Dropping of nuisance columns in DataFrame reductions (with 'numeric_only=None') is deprecated; in a future version this will raise TypeError.  Select only valid columns before calling the reduction.\n",
      "\n"
     ]
    },
    {
     "data": {
      "text/html": [
       "<div>\n",
       "<style scoped>\n",
       "    .dataframe tbody tr th:only-of-type {\n",
       "        vertical-align: middle;\n",
       "    }\n",
       "\n",
       "    .dataframe tbody tr th {\n",
       "        vertical-align: top;\n",
       "    }\n",
       "\n",
       "    .dataframe thead th {\n",
       "        text-align: right;\n",
       "    }\n",
       "</style>\n",
       "<table border=\"1\" class=\"dataframe\">\n",
       "  <thead>\n",
       "    <tr style=\"text-align: right;\">\n",
       "      <th></th>\n",
       "      <th>Ticker</th>\n",
       "      <th>Ex-Div. Date</th>\n",
       "      <th>Amount</th>\n",
       "      <th>Type</th>\n",
       "      <th>Yield</th>\n",
       "      <th>Change</th>\n",
       "      <th>Decl. Date</th>\n",
       "      <th>Rec. Date</th>\n",
       "      <th>Pay. Date</th>\n",
       "      <th>Comments</th>\n",
       "      <th>agg0_sum</th>\n",
       "      <th>dbc1_sum</th>\n",
       "      <th>igov3_sum</th>\n",
       "      <th>veu4_sum</th>\n",
       "      <th>vnq5_sum</th>\n",
       "      <th>vti6_sum</th>\n",
       "      <th>vti7_sum</th>\n",
       "    </tr>\n",
       "  </thead>\n",
       "  <tbody>\n",
       "    <tr>\n",
       "      <th>213</th>\n",
       "      <td>^GSPC</td>\n",
       "      <td>2018-12-31</td>\n",
       "      <td>14.19</td>\n",
       "      <td>NaN</td>\n",
       "      <td>NaN</td>\n",
       "      <td>NaN</td>\n",
       "      <td>NaN</td>\n",
       "      <td>NaN</td>\n",
       "      <td>NaN</td>\n",
       "      <td>NaN</td>\n",
       "      <td>221.999</td>\n",
       "      <td>221.999</td>\n",
       "      <td>221.999</td>\n",
       "      <td>221.999</td>\n",
       "      <td>221.999</td>\n",
       "      <td>221.999</td>\n",
       "      <td>221.999</td>\n",
       "    </tr>\n",
       "    <tr>\n",
       "      <th>214</th>\n",
       "      <td>^GSPC</td>\n",
       "      <td>2018-09-30</td>\n",
       "      <td>13.66</td>\n",
       "      <td>NaN</td>\n",
       "      <td>NaN</td>\n",
       "      <td>NaN</td>\n",
       "      <td>NaN</td>\n",
       "      <td>NaN</td>\n",
       "      <td>NaN</td>\n",
       "      <td>NaN</td>\n",
       "      <td>221.999</td>\n",
       "      <td>221.999</td>\n",
       "      <td>221.999</td>\n",
       "      <td>221.999</td>\n",
       "      <td>221.999</td>\n",
       "      <td>221.999</td>\n",
       "      <td>221.999</td>\n",
       "    </tr>\n",
       "    <tr>\n",
       "      <th>215</th>\n",
       "      <td>^GSPC</td>\n",
       "      <td>2018-06-30</td>\n",
       "      <td>13.10</td>\n",
       "      <td>NaN</td>\n",
       "      <td>NaN</td>\n",
       "      <td>NaN</td>\n",
       "      <td>NaN</td>\n",
       "      <td>NaN</td>\n",
       "      <td>NaN</td>\n",
       "      <td>NaN</td>\n",
       "      <td>221.999</td>\n",
       "      <td>221.999</td>\n",
       "      <td>221.999</td>\n",
       "      <td>221.999</td>\n",
       "      <td>221.999</td>\n",
       "      <td>221.999</td>\n",
       "      <td>221.999</td>\n",
       "    </tr>\n",
       "    <tr>\n",
       "      <th>216</th>\n",
       "      <td>^GSPC</td>\n",
       "      <td>2018-03-31</td>\n",
       "      <td>12.79</td>\n",
       "      <td>NaN</td>\n",
       "      <td>NaN</td>\n",
       "      <td>NaN</td>\n",
       "      <td>NaN</td>\n",
       "      <td>NaN</td>\n",
       "      <td>NaN</td>\n",
       "      <td>NaN</td>\n",
       "      <td>221.999</td>\n",
       "      <td>221.999</td>\n",
       "      <td>221.999</td>\n",
       "      <td>221.999</td>\n",
       "      <td>221.999</td>\n",
       "      <td>221.999</td>\n",
       "      <td>221.999</td>\n",
       "    </tr>\n",
       "    <tr>\n",
       "      <th>217</th>\n",
       "      <td>^GSPC</td>\n",
       "      <td>2017-12-31</td>\n",
       "      <td>12.78</td>\n",
       "      <td>NaN</td>\n",
       "      <td>NaN</td>\n",
       "      <td>NaN</td>\n",
       "      <td>NaN</td>\n",
       "      <td>NaN</td>\n",
       "      <td>NaN</td>\n",
       "      <td>NaN</td>\n",
       "      <td>221.999</td>\n",
       "      <td>221.999</td>\n",
       "      <td>221.999</td>\n",
       "      <td>221.999</td>\n",
       "      <td>221.999</td>\n",
       "      <td>221.999</td>\n",
       "      <td>221.999</td>\n",
       "    </tr>\n",
       "  </tbody>\n",
       "</table>\n",
       "</div>"
      ],
      "text/plain": [
       "    Ticker Ex-Div. Date  Amount  Type  Yield  Change Decl. Date Rec. Date  \\\n",
       "213  ^GSPC   2018-12-31   14.19   NaN    NaN     NaN        NaN       NaN   \n",
       "214  ^GSPC   2018-09-30   13.66   NaN    NaN     NaN        NaN       NaN   \n",
       "215  ^GSPC   2018-06-30   13.10   NaN    NaN     NaN        NaN       NaN   \n",
       "216  ^GSPC   2018-03-31   12.79   NaN    NaN     NaN        NaN       NaN   \n",
       "217  ^GSPC   2017-12-31   12.78   NaN    NaN     NaN        NaN       NaN   \n",
       "\n",
       "    Pay. Date  Comments  agg0_sum  dbc1_sum  igov3_sum  veu4_sum  vnq5_sum  \\\n",
       "213       NaN       NaN   221.999   221.999    221.999   221.999   221.999   \n",
       "214       NaN       NaN   221.999   221.999    221.999   221.999   221.999   \n",
       "215       NaN       NaN   221.999   221.999    221.999   221.999   221.999   \n",
       "216       NaN       NaN   221.999   221.999    221.999   221.999   221.999   \n",
       "217       NaN       NaN   221.999   221.999    221.999   221.999   221.999   \n",
       "\n",
       "     vti6_sum  vti7_sum  \n",
       "213   221.999   221.999  \n",
       "214   221.999   221.999  \n",
       "215   221.999   221.999  \n",
       "216   221.999   221.999  \n",
       "217   221.999   221.999  "
      ]
     },
     "execution_count": 115,
     "metadata": {},
     "output_type": "execute_result"
    }
   ],
   "source": [
    "# This df adds all of the columns with the SP500 dividends paid during the range that each stock position was held.\n",
    "# For comparative holding period purposes.\n",
    "\n",
    "dividend_df_sp500_2 = dividend_df_sp500\n",
    "\n",
    "agg0_start_date = datetime.datetime(2014, 4, 21)\n",
    "dbc1_start_date = datetime.datetime(2014, 4, 21)\n",
    "igov3_start_date = datetime.datetime(2014, 4, 21)\n",
    "veu4_start_date = datetime.datetime(2014, 4, 21)\n",
    "vnq5_start_date = datetime.datetime(2014, 4, 21)\n",
    "vti6_start_date = datetime.datetime(2014, 4, 21)\n",
    "vti7_start_date = datetime.datetime(2014, 5, 5)\n",
    "\n",
    "dividend_df_sp500_2.loc[:, 'agg0_sum'] = dividend_df_sp500_2[(dividend_df_sp500_2['Ex-Div. Date'] > agg0_start_date) & (dividend_df_sp500_2['Ex-Div. Date'] <= stocks_end)].sum()['Amount']\n",
    "dividend_df_sp500_2.loc[:, 'dbc1_sum'] = dividend_df_sp500_2[(dividend_df_sp500_2['Ex-Div. Date'] > dbc1_start_date) & (dividend_df_sp500_2['Ex-Div. Date'] <= stocks_end)].sum()['Amount']\n",
    "dividend_df_sp500_2.loc[:, 'igov3_sum'] = dividend_df_sp500_2[(dividend_df_sp500_2['Ex-Div. Date'] > igov3_start_date) & (dividend_df_sp500_2['Ex-Div. Date'] <= stocks_end)].sum()['Amount']\n",
    "dividend_df_sp500_2.loc[:, 'veu4_sum'] = dividend_df_sp500_2[(dividend_df_sp500_2['Ex-Div. Date'] > veu4_start_date) & (dividend_df_sp500_2['Ex-Div. Date'] <= stocks_end)].sum()['Amount']\n",
    "dividend_df_sp500_2.loc[:, 'vnq5_sum'] = dividend_df_sp500_2[(dividend_df_sp500_2['Ex-Div. Date'] > vnq5_start_date) & (dividend_df_sp500_2['Ex-Div. Date'] <= stocks_end)].sum()['Amount']\n",
    "dividend_df_sp500_2.loc[:, 'vti6_sum'] = dividend_df_sp500_2[(dividend_df_sp500_2['Ex-Div. Date'] > vti6_start_date) & (dividend_df_sp500_2['Ex-Div. Date'] <= stocks_end)].sum()['Amount']\n",
    "dividend_df_sp500_2.loc[:, 'vti7_sum'] = dividend_df_sp500_2[(dividend_df_sp500_2['Ex-Div. Date'] > vti7_start_date) & (dividend_df_sp500_2['Ex-Div. Date'] <= stocks_end)].sum()['Amount']\n",
    "\n",
    "dividend_df_sp500_2.head()"
   ]
  },
  {
   "cell_type": "code",
   "execution_count": 116,
   "metadata": {},
   "outputs": [
    {
     "data": {
      "text/html": [
       "<div>\n",
       "<style scoped>\n",
       "    .dataframe tbody tr th:only-of-type {\n",
       "        vertical-align: middle;\n",
       "    }\n",
       "\n",
       "    .dataframe tbody tr th {\n",
       "        vertical-align: top;\n",
       "    }\n",
       "\n",
       "    .dataframe thead th {\n",
       "        text-align: right;\n",
       "    }\n",
       "</style>\n",
       "<table border=\"1\" class=\"dataframe\">\n",
       "  <thead>\n",
       "    <tr style=\"text-align: right;\">\n",
       "      <th></th>\n",
       "      <th>index</th>\n",
       "      <th>SP500 Div Amt</th>\n",
       "    </tr>\n",
       "  </thead>\n",
       "  <tbody>\n",
       "    <tr>\n",
       "      <th>0</th>\n",
       "      <td>agg0_sum</td>\n",
       "      <td>221.999</td>\n",
       "    </tr>\n",
       "    <tr>\n",
       "      <th>1</th>\n",
       "      <td>dbc1_sum</td>\n",
       "      <td>221.999</td>\n",
       "    </tr>\n",
       "    <tr>\n",
       "      <th>2</th>\n",
       "      <td>igov3_sum</td>\n",
       "      <td>221.999</td>\n",
       "    </tr>\n",
       "    <tr>\n",
       "      <th>3</th>\n",
       "      <td>veu4_sum</td>\n",
       "      <td>221.999</td>\n",
       "    </tr>\n",
       "    <tr>\n",
       "      <th>4</th>\n",
       "      <td>vnq5_sum</td>\n",
       "      <td>221.999</td>\n",
       "    </tr>\n",
       "    <tr>\n",
       "      <th>5</th>\n",
       "      <td>vti6_sum</td>\n",
       "      <td>221.999</td>\n",
       "    </tr>\n",
       "    <tr>\n",
       "      <th>6</th>\n",
       "      <td>vti7_sum</td>\n",
       "      <td>221.999</td>\n",
       "    </tr>\n",
       "  </tbody>\n",
       "</table>\n",
       "</div>"
      ],
      "text/plain": [
       "       index SP500 Div Amt\n",
       "0   agg0_sum       221.999\n",
       "1   dbc1_sum       221.999\n",
       "2  igov3_sum       221.999\n",
       "3   veu4_sum       221.999\n",
       "4   vnq5_sum       221.999\n",
       "5   vti6_sum       221.999\n",
       "6   vti7_sum       221.999"
      ]
     },
     "execution_count": 116,
     "metadata": {},
     "output_type": "execute_result"
    }
   ],
   "source": [
    "# Subset the above df and re-label the SP500 total dividend amount column.\n",
    "\n",
    "dividend_df_sp500_2 = dividend_df_sp500_2.iloc[0, 10:]\n",
    "\n",
    "dividend_df_sp500_2 = dividend_df_sp500_2.to_frame().reset_index()\n",
    "\n",
    "dividend_df_sp500_2.rename(columns={213: 'SP500 Div Amt'}, inplace=True)\n",
    "\n",
    "dividend_df_sp500_2"
   ]
  },
  {
   "cell_type": "code",
   "execution_count": 117,
   "metadata": {},
   "outputs": [],
   "source": [
    "# This function is used to assign the Ticker # column so that this df can be joined with the master df.\n",
    "\n",
    "def ticker_assigner(df):\n",
    "    if df['index'] == 'agg0_sum':\n",
    "        val = 'AGG 0'\n",
    "    elif df['index'] == 'dbc1_sum':\n",
    "        val = 'DBC 1'\n",
    "    elif df['index'] == 'igov3_sum':\n",
    "        val = 'IGOV 3'\n",
    "    elif df['index'] == 'veu4_sum':\n",
    "        val = 'VEU 4'\n",
    "    elif df['index'] == 'vnq5_sum':\n",
    "        val = 'VNQ 5'\n",
    "    elif df['index'] == 'vti6_sum':\n",
    "        val = 'VTI 6'\n",
    "    elif df['index'] == 'vti7_sum':\n",
    "        val = 'VTI 7'\n",
    "    else:\n",
    "        val = 0\n",
    "    return val"
   ]
  },
  {
   "cell_type": "code",
   "execution_count": 118,
   "metadata": {},
   "outputs": [
    {
     "data": {
      "text/html": [
       "<div>\n",
       "<style scoped>\n",
       "    .dataframe tbody tr th:only-of-type {\n",
       "        vertical-align: middle;\n",
       "    }\n",
       "\n",
       "    .dataframe tbody tr th {\n",
       "        vertical-align: top;\n",
       "    }\n",
       "\n",
       "    .dataframe thead th {\n",
       "        text-align: right;\n",
       "    }\n",
       "</style>\n",
       "<table border=\"1\" class=\"dataframe\">\n",
       "  <thead>\n",
       "    <tr style=\"text-align: right;\">\n",
       "      <th></th>\n",
       "      <th>index</th>\n",
       "      <th>SP500 Div Amt</th>\n",
       "      <th>Ticker #</th>\n",
       "    </tr>\n",
       "  </thead>\n",
       "  <tbody>\n",
       "    <tr>\n",
       "      <th>0</th>\n",
       "      <td>agg0_sum</td>\n",
       "      <td>221.999</td>\n",
       "      <td>AGG 0</td>\n",
       "    </tr>\n",
       "    <tr>\n",
       "      <th>1</th>\n",
       "      <td>dbc1_sum</td>\n",
       "      <td>221.999</td>\n",
       "      <td>DBC 1</td>\n",
       "    </tr>\n",
       "    <tr>\n",
       "      <th>2</th>\n",
       "      <td>igov3_sum</td>\n",
       "      <td>221.999</td>\n",
       "      <td>IGOV 3</td>\n",
       "    </tr>\n",
       "    <tr>\n",
       "      <th>3</th>\n",
       "      <td>veu4_sum</td>\n",
       "      <td>221.999</td>\n",
       "      <td>VEU 4</td>\n",
       "    </tr>\n",
       "    <tr>\n",
       "      <th>4</th>\n",
       "      <td>vnq5_sum</td>\n",
       "      <td>221.999</td>\n",
       "      <td>VNQ 5</td>\n",
       "    </tr>\n",
       "    <tr>\n",
       "      <th>5</th>\n",
       "      <td>vti6_sum</td>\n",
       "      <td>221.999</td>\n",
       "      <td>VTI 6</td>\n",
       "    </tr>\n",
       "    <tr>\n",
       "      <th>6</th>\n",
       "      <td>vti7_sum</td>\n",
       "      <td>221.999</td>\n",
       "      <td>VTI 7</td>\n",
       "    </tr>\n",
       "  </tbody>\n",
       "</table>\n",
       "</div>"
      ],
      "text/plain": [
       "       index SP500 Div Amt Ticker #\n",
       "0   agg0_sum       221.999    AGG 0\n",
       "1   dbc1_sum       221.999    DBC 1\n",
       "2  igov3_sum       221.999   IGOV 3\n",
       "3   veu4_sum       221.999    VEU 4\n",
       "4   vnq5_sum       221.999    VNQ 5\n",
       "5   vti6_sum       221.999    VTI 6\n",
       "6   vti7_sum       221.999    VTI 7"
      ]
     },
     "execution_count": 118,
     "metadata": {},
     "output_type": "execute_result"
    }
   ],
   "source": [
    "dividend_df_sp500_2['Ticker #'] = dividend_df_sp500_2.apply(ticker_assigner, axis=1)\n",
    "\n",
    "# merged_subsets['Amount'].fillna(0, inplace=True)\n",
    "\n",
    "dividend_df_sp500_2"
   ]
  },
  {
   "cell_type": "code",
   "execution_count": 119,
   "metadata": {},
   "outputs": [
    {
     "data": {
      "text/html": [
       "<div>\n",
       "<style scoped>\n",
       "    .dataframe tbody tr th:only-of-type {\n",
       "        vertical-align: middle;\n",
       "    }\n",
       "\n",
       "    .dataframe tbody tr th {\n",
       "        vertical-align: top;\n",
       "    }\n",
       "\n",
       "    .dataframe thead th {\n",
       "        text-align: right;\n",
       "    }\n",
       "</style>\n",
       "<table border=\"1\" class=\"dataframe\">\n",
       "  <thead>\n",
       "    <tr style=\"text-align: right;\">\n",
       "      <th></th>\n",
       "      <th>Ticker #</th>\n",
       "      <th>Ticker</th>\n",
       "      <th>Acquisition Date</th>\n",
       "      <th>2014.0</th>\n",
       "      <th>2015.0</th>\n",
       "      <th>2016.0</th>\n",
       "      <th>2017.0</th>\n",
       "      <th>2018.0</th>\n",
       "      <th>2019.0</th>\n",
       "      <th>Dividend Amt</th>\n",
       "      <th>SP500 Div Amt</th>\n",
       "    </tr>\n",
       "  </thead>\n",
       "  <tbody>\n",
       "    <tr>\n",
       "      <th>0</th>\n",
       "      <td>AGG 0</td>\n",
       "      <td>AGG</td>\n",
       "      <td>2014-04-21</td>\n",
       "      <td>48.400000</td>\n",
       "      <td>62.150000</td>\n",
       "      <td>48.17500</td>\n",
       "      <td>57.625000</td>\n",
       "      <td>65.97500</td>\n",
       "      <td>19.925</td>\n",
       "      <td>302.250000</td>\n",
       "      <td>221.999</td>\n",
       "    </tr>\n",
       "    <tr>\n",
       "      <th>1</th>\n",
       "      <td>DBC 1</td>\n",
       "      <td>DBC</td>\n",
       "      <td>2014-04-21</td>\n",
       "      <td>0.000000</td>\n",
       "      <td>0.000000</td>\n",
       "      <td>0.00000</td>\n",
       "      <td>0.000000</td>\n",
       "      <td>4.15800</td>\n",
       "      <td>0.000</td>\n",
       "      <td>4.158000</td>\n",
       "      <td>221.999</td>\n",
       "    </tr>\n",
       "    <tr>\n",
       "      <th>2</th>\n",
       "      <td>IGOV 3</td>\n",
       "      <td>IGOV</td>\n",
       "      <td>2014-04-21</td>\n",
       "      <td>7.103696</td>\n",
       "      <td>0.839192</td>\n",
       "      <td>4.99232</td>\n",
       "      <td>1.326384</td>\n",
       "      <td>1.20788</td>\n",
       "      <td>0.000</td>\n",
       "      <td>15.469472</td>\n",
       "      <td>221.999</td>\n",
       "    </tr>\n",
       "    <tr>\n",
       "      <th>3</th>\n",
       "      <td>VEU 4</td>\n",
       "      <td>VEU</td>\n",
       "      <td>2014-04-21</td>\n",
       "      <td>131.985000</td>\n",
       "      <td>134.610000</td>\n",
       "      <td>137.34000</td>\n",
       "      <td>152.775000</td>\n",
       "      <td>156.34500</td>\n",
       "      <td>18.795</td>\n",
       "      <td>731.850000</td>\n",
       "      <td>221.999</td>\n",
       "    </tr>\n",
       "    <tr>\n",
       "      <th>4</th>\n",
       "      <td>VNQ 5</td>\n",
       "      <td>VNQ</td>\n",
       "      <td>2014-04-21</td>\n",
       "      <td>27.126000</td>\n",
       "      <td>34.364000</td>\n",
       "      <td>43.73600</td>\n",
       "      <td>38.654000</td>\n",
       "      <td>38.84100</td>\n",
       "      <td>6.776</td>\n",
       "      <td>189.497000</td>\n",
       "      <td>221.999</td>\n",
       "    </tr>\n",
       "    <tr>\n",
       "      <th>5</th>\n",
       "      <td>VTI 6</td>\n",
       "      <td>VTI</td>\n",
       "      <td>2014-04-21</td>\n",
       "      <td>104.112000</td>\n",
       "      <td>148.824000</td>\n",
       "      <td>159.48000</td>\n",
       "      <td>168.696000</td>\n",
       "      <td>187.48800</td>\n",
       "      <td>55.584</td>\n",
       "      <td>824.184000</td>\n",
       "      <td>221.999</td>\n",
       "    </tr>\n",
       "    <tr>\n",
       "      <th>6</th>\n",
       "      <td>VTI 7</td>\n",
       "      <td>VTI</td>\n",
       "      <td>2014-05-05</td>\n",
       "      <td>46.272000</td>\n",
       "      <td>66.144000</td>\n",
       "      <td>70.88000</td>\n",
       "      <td>74.976000</td>\n",
       "      <td>83.32800</td>\n",
       "      <td>24.704</td>\n",
       "      <td>366.304000</td>\n",
       "      <td>221.999</td>\n",
       "    </tr>\n",
       "  </tbody>\n",
       "</table>\n",
       "</div>"
      ],
      "text/plain": [
       "  Ticker # Ticker Acquisition Date      2014.0      2015.0     2016.0  \\\n",
       "0    AGG 0    AGG       2014-04-21   48.400000   62.150000   48.17500   \n",
       "1    DBC 1    DBC       2014-04-21    0.000000    0.000000    0.00000   \n",
       "2   IGOV 3   IGOV       2014-04-21    7.103696    0.839192    4.99232   \n",
       "3    VEU 4    VEU       2014-04-21  131.985000  134.610000  137.34000   \n",
       "4    VNQ 5    VNQ       2014-04-21   27.126000   34.364000   43.73600   \n",
       "5    VTI 6    VTI       2014-04-21  104.112000  148.824000  159.48000   \n",
       "6    VTI 7    VTI       2014-05-05   46.272000   66.144000   70.88000   \n",
       "\n",
       "       2017.0     2018.0  2019.0  Dividend Amt SP500 Div Amt  \n",
       "0   57.625000   65.97500  19.925    302.250000       221.999  \n",
       "1    0.000000    4.15800   0.000      4.158000       221.999  \n",
       "2    1.326384    1.20788   0.000     15.469472       221.999  \n",
       "3  152.775000  156.34500  18.795    731.850000       221.999  \n",
       "4   38.654000   38.84100   6.776    189.497000       221.999  \n",
       "5  168.696000  187.48800  55.584    824.184000       221.999  \n",
       "6   74.976000   83.32800  24.704    366.304000       221.999  "
      ]
     },
     "execution_count": 119,
     "metadata": {},
     "output_type": "execute_result"
    }
   ],
   "source": [
    "# Join the portfolio dividend df with the SP 500 df by Ticker # for comparative purposes.\n",
    "\n",
    "dividend_sp_merged_final = pd.merge(merged_subsets_eligible_by_year, dividend_df_sp500_2, on='Ticker #', how='left')\n",
    "\n",
    "del dividend_sp_merged_final['index']\n",
    "\n",
    "# Rolling this back as include it later on when merge with master dataframe.\n",
    "# dividend_sp_merged_final.loc[:, 'SP500 Tot Div Amt'] = dividend_sp_merged_final.loc[:, 'Equiv SP Shares'] * dividend_sp_merged_final.loc[:, 'SP500 Div Amt']\n",
    "\n",
    "dividend_sp_merged_final"
   ]
  },
  {
   "cell_type": "code",
   "execution_count": 120,
   "metadata": {},
   "outputs": [
    {
     "data": {
      "text/html": [
       "<div>\n",
       "<style scoped>\n",
       "    .dataframe tbody tr th:only-of-type {\n",
       "        vertical-align: middle;\n",
       "    }\n",
       "\n",
       "    .dataframe tbody tr th {\n",
       "        vertical-align: top;\n",
       "    }\n",
       "\n",
       "    .dataframe thead th {\n",
       "        text-align: right;\n",
       "    }\n",
       "</style>\n",
       "<table border=\"1\" class=\"dataframe\">\n",
       "  <thead>\n",
       "    <tr style=\"text-align: right;\">\n",
       "      <th></th>\n",
       "      <th>Ticker #</th>\n",
       "      <th>2014.0</th>\n",
       "      <th>2015.0</th>\n",
       "      <th>2016.0</th>\n",
       "      <th>2017.0</th>\n",
       "      <th>2018.0</th>\n",
       "      <th>2019.0</th>\n",
       "      <th>Dividend Amt</th>\n",
       "      <th>SP500 Div Amt</th>\n",
       "      <th>Ex-Div. Date</th>\n",
       "      <th>Latest Div Amt</th>\n",
       "    </tr>\n",
       "  </thead>\n",
       "  <tbody>\n",
       "    <tr>\n",
       "      <th>0</th>\n",
       "      <td>AGG 0</td>\n",
       "      <td>48.400000</td>\n",
       "      <td>62.150000</td>\n",
       "      <td>48.17500</td>\n",
       "      <td>57.625000</td>\n",
       "      <td>65.97500</td>\n",
       "      <td>19.925</td>\n",
       "      <td>302.250000</td>\n",
       "      <td>221.999</td>\n",
       "      <td>2019-04-01</td>\n",
       "      <td>1.04800</td>\n",
       "    </tr>\n",
       "    <tr>\n",
       "      <th>1</th>\n",
       "      <td>DBC 1</td>\n",
       "      <td>0.000000</td>\n",
       "      <td>0.000000</td>\n",
       "      <td>0.00000</td>\n",
       "      <td>0.000000</td>\n",
       "      <td>4.15800</td>\n",
       "      <td>0.000</td>\n",
       "      <td>4.158000</td>\n",
       "      <td>221.999</td>\n",
       "      <td>2018-12-24</td>\n",
       "      <td>0.75600</td>\n",
       "    </tr>\n",
       "    <tr>\n",
       "      <th>2</th>\n",
       "      <td>IGOV 3</td>\n",
       "      <td>7.103696</td>\n",
       "      <td>0.839192</td>\n",
       "      <td>4.99232</td>\n",
       "      <td>1.326384</td>\n",
       "      <td>1.20788</td>\n",
       "      <td>0.000</td>\n",
       "      <td>15.469472</td>\n",
       "      <td>221.999</td>\n",
       "      <td>2018-12-18</td>\n",
       "      <td>0.60394</td>\n",
       "    </tr>\n",
       "    <tr>\n",
       "      <th>3</th>\n",
       "      <td>VEU 4</td>\n",
       "      <td>131.985000</td>\n",
       "      <td>134.610000</td>\n",
       "      <td>137.34000</td>\n",
       "      <td>152.775000</td>\n",
       "      <td>156.34500</td>\n",
       "      <td>18.795</td>\n",
       "      <td>731.850000</td>\n",
       "      <td>221.999</td>\n",
       "      <td>2019-03-25</td>\n",
       "      <td>0.71600</td>\n",
       "    </tr>\n",
       "    <tr>\n",
       "      <th>4</th>\n",
       "      <td>VNQ 5</td>\n",
       "      <td>27.126000</td>\n",
       "      <td>34.364000</td>\n",
       "      <td>43.73600</td>\n",
       "      <td>38.654000</td>\n",
       "      <td>38.84100</td>\n",
       "      <td>6.776</td>\n",
       "      <td>189.497000</td>\n",
       "      <td>221.999</td>\n",
       "      <td>2019-03-28</td>\n",
       "      <td>2.46400</td>\n",
       "    </tr>\n",
       "    <tr>\n",
       "      <th>5</th>\n",
       "      <td>VTI 6</td>\n",
       "      <td>104.112000</td>\n",
       "      <td>148.824000</td>\n",
       "      <td>159.48000</td>\n",
       "      <td>168.696000</td>\n",
       "      <td>187.48800</td>\n",
       "      <td>55.584</td>\n",
       "      <td>824.184000</td>\n",
       "      <td>221.999</td>\n",
       "      <td>2019-03-25</td>\n",
       "      <td>3.08800</td>\n",
       "    </tr>\n",
       "    <tr>\n",
       "      <th>6</th>\n",
       "      <td>VTI 7</td>\n",
       "      <td>46.272000</td>\n",
       "      <td>66.144000</td>\n",
       "      <td>70.88000</td>\n",
       "      <td>74.976000</td>\n",
       "      <td>83.32800</td>\n",
       "      <td>24.704</td>\n",
       "      <td>366.304000</td>\n",
       "      <td>221.999</td>\n",
       "      <td>2019-03-25</td>\n",
       "      <td>3.08800</td>\n",
       "    </tr>\n",
       "  </tbody>\n",
       "</table>\n",
       "</div>"
      ],
      "text/plain": [
       "  Ticker #      2014.0      2015.0     2016.0      2017.0     2018.0  2019.0  \\\n",
       "0    AGG 0   48.400000   62.150000   48.17500   57.625000   65.97500  19.925   \n",
       "1    DBC 1    0.000000    0.000000    0.00000    0.000000    4.15800   0.000   \n",
       "2   IGOV 3    7.103696    0.839192    4.99232    1.326384    1.20788   0.000   \n",
       "3    VEU 4  131.985000  134.610000  137.34000  152.775000  156.34500  18.795   \n",
       "4    VNQ 5   27.126000   34.364000   43.73600   38.654000   38.84100   6.776   \n",
       "5    VTI 6  104.112000  148.824000  159.48000  168.696000  187.48800  55.584   \n",
       "6    VTI 7   46.272000   66.144000   70.88000   74.976000   83.32800  24.704   \n",
       "\n",
       "   Dividend Amt SP500 Div Amt Ex-Div. Date  Latest Div Amt  \n",
       "0    302.250000       221.999   2019-04-01         1.04800  \n",
       "1      4.158000       221.999   2018-12-24         0.75600  \n",
       "2     15.469472       221.999   2018-12-18         0.60394  \n",
       "3    731.850000       221.999   2019-03-25         0.71600  \n",
       "4    189.497000       221.999   2019-03-28         2.46400  \n",
       "5    824.184000       221.999   2019-03-25         3.08800  \n",
       "6    366.304000       221.999   2019-03-25         3.08800  "
      ]
     },
     "execution_count": 120,
     "metadata": {},
     "output_type": "execute_result"
    }
   ],
   "source": [
    "dividend_sp_merged_final_subset = dividend_sp_merged_final[['Ticker #', 2014.0, 2015.0, 2016.0, 2017.0, 2018.0\n",
    "                                                            , 2019.0, 'Dividend Amt', 'SP500 Div Amt']]\n",
    "\n",
    "# Merging with the latest dividend dataframe in order to calculate current yield and holdings' yields.\n",
    "\n",
    "dividend_sp_merged_final_subset = pd.merge(dividend_sp_merged_final_subset, merged_subsets_eligible_latest_subset\n",
    "                                           , on='Ticker #') \n",
    "\n",
    "# Annualize the dividend.\n",
    "dividend_sp_merged_final_subset['Latest Div Amt'] = dividend_sp_merged_final_subset['Latest Div Amt'] * 4.0\n",
    "\n",
    "dividend_sp_merged_final_subset"
   ]
  },
  {
   "cell_type": "code",
   "execution_count": 121,
   "metadata": {},
   "outputs": [
    {
     "data": {
      "text/html": [
       "<div>\n",
       "<style scoped>\n",
       "    .dataframe tbody tr th:only-of-type {\n",
       "        vertical-align: middle;\n",
       "    }\n",
       "\n",
       "    .dataframe tbody tr th {\n",
       "        vertical-align: top;\n",
       "    }\n",
       "\n",
       "    .dataframe thead th {\n",
       "        text-align: right;\n",
       "    }\n",
       "</style>\n",
       "<table border=\"1\" class=\"dataframe\">\n",
       "  <thead>\n",
       "    <tr style=\"text-align: right;\">\n",
       "      <th></th>\n",
       "      <th>Acquisition Date</th>\n",
       "      <th>Position</th>\n",
       "      <th>Ticker</th>\n",
       "      <th>Quantity</th>\n",
       "      <th>Unit Cost</th>\n",
       "      <th>Cost Basis</th>\n",
       "      <th>Start of Year</th>\n",
       "      <th>Target_Alloc</th>\n",
       "      <th>Comments</th>\n",
       "      <th>Counts</th>\n",
       "      <th>...</th>\n",
       "      <th>Total SP500 Gain / (Loss)</th>\n",
       "      <th>Total Stock Return</th>\n",
       "      <th>Total SP500 Return</th>\n",
       "      <th>Share Yield</th>\n",
       "      <th>Cum Total SP Returns</th>\n",
       "      <th>Cum Stock Returns</th>\n",
       "      <th>Market Yield</th>\n",
       "      <th>Current Yield</th>\n",
       "      <th>Cum SP Returns Pct</th>\n",
       "      <th>Cum Ticker Returns Pct</th>\n",
       "    </tr>\n",
       "  </thead>\n",
       "  <tbody>\n",
       "    <tr>\n",
       "      <th>0</th>\n",
       "      <td>2014-04-21</td>\n",
       "      <td>iShares Core US Aggregate Bond ETF (AGG)</td>\n",
       "      <td>AGG</td>\n",
       "      <td>25</td>\n",
       "      <td>95.72</td>\n",
       "      <td>2393.00</td>\n",
       "      <td>2018-12-31</td>\n",
       "      <td>0.127</td>\n",
       "      <td>0.0</td>\n",
       "      <td>0</td>\n",
       "      <td>...</td>\n",
       "      <td>1604.553493</td>\n",
       "      <td>0.186935</td>\n",
       "      <td>0.670520</td>\n",
       "      <td>0.126306</td>\n",
       "      <td>3997.553493</td>\n",
       "      <td>2840.335365</td>\n",
       "      <td>0.010323</td>\n",
       "      <td>0.010949</td>\n",
       "      <td>0.670520</td>\n",
       "      <td>0.186935</td>\n",
       "    </tr>\n",
       "    <tr>\n",
       "      <th>1</th>\n",
       "      <td>2014-04-21</td>\n",
       "      <td>Invesco DB Commodity Tracking (DBC)</td>\n",
       "      <td>DBC</td>\n",
       "      <td>22</td>\n",
       "      <td>26.21</td>\n",
       "      <td>576.62</td>\n",
       "      <td>2018-12-31</td>\n",
       "      <td>0.033</td>\n",
       "      <td>0.0</td>\n",
       "      <td>1</td>\n",
       "      <td>...</td>\n",
       "      <td>386.635034</td>\n",
       "      <td>-0.384074</td>\n",
       "      <td>0.670520</td>\n",
       "      <td>0.007211</td>\n",
       "      <td>4960.808527</td>\n",
       "      <td>3195.490649</td>\n",
       "      <td>0.047385</td>\n",
       "      <td>0.028844</td>\n",
       "      <td>0.670520</td>\n",
       "      <td>0.076060</td>\n",
       "    </tr>\n",
       "    <tr>\n",
       "      <th>2</th>\n",
       "      <td>2014-04-21</td>\n",
       "      <td>iShares Gold Trust (IAU)</td>\n",
       "      <td>IAU</td>\n",
       "      <td>50</td>\n",
       "      <td>12.51</td>\n",
       "      <td>625.50</td>\n",
       "      <td>2018-12-31</td>\n",
       "      <td>0.033</td>\n",
       "      <td>0.0</td>\n",
       "      <td>2</td>\n",
       "      <td>...</td>\n",
       "      <td>345.228125</td>\n",
       "      <td>0.953637</td>\n",
       "      <td>0.551923</td>\n",
       "      <td>0.000000</td>\n",
       "      <td>5931.536651</td>\n",
       "      <td>4417.490676</td>\n",
       "      <td>0.000000</td>\n",
       "      <td>0.000000</td>\n",
       "      <td>0.649886</td>\n",
       "      <td>0.228746</td>\n",
       "    </tr>\n",
       "    <tr>\n",
       "      <th>3</th>\n",
       "      <td>2014-04-21</td>\n",
       "      <td>iShares International Treasury Bond ETF (IGOV)</td>\n",
       "      <td>IGOV</td>\n",
       "      <td>8</td>\n",
       "      <td>50.72</td>\n",
       "      <td>405.76</td>\n",
       "      <td>2018-12-31</td>\n",
       "      <td>0.023</td>\n",
       "      <td>0.0</td>\n",
       "      <td>3</td>\n",
       "      <td>...</td>\n",
       "      <td>272.070048</td>\n",
       "      <td>-0.006971</td>\n",
       "      <td>0.670520</td>\n",
       "      <td>0.038125</td>\n",
       "      <td>6609.366700</td>\n",
       "      <td>4820.422245</td>\n",
       "      <td>0.012470</td>\n",
       "      <td>0.011907</td>\n",
       "      <td>0.651978</td>\n",
       "      <td>0.204840</td>\n",
       "    </tr>\n",
       "    <tr>\n",
       "      <th>4</th>\n",
       "      <td>2014-04-21</td>\n",
       "      <td>Vanguard FTSE All-Wld ex-US ETF (VEU)</td>\n",
       "      <td>VEU</td>\n",
       "      <td>105</td>\n",
       "      <td>43.92</td>\n",
       "      <td>4611.60</td>\n",
       "      <td>2018-12-31</td>\n",
       "      <td>0.250</td>\n",
       "      <td>0.0</td>\n",
       "      <td>4</td>\n",
       "      <td>...</td>\n",
       "      <td>3092.168362</td>\n",
       "      <td>0.240830</td>\n",
       "      <td>0.670520</td>\n",
       "      <td>0.158698</td>\n",
       "      <td>14313.135061</td>\n",
       "      <td>10542.632925</td>\n",
       "      <td>0.015065</td>\n",
       "      <td>0.016302</td>\n",
       "      <td>0.661906</td>\n",
       "      <td>0.224111</td>\n",
       "    </tr>\n",
       "    <tr>\n",
       "      <th>5</th>\n",
       "      <td>2014-04-21</td>\n",
       "      <td>Vanguard Real Estate ETF (VNQ)</td>\n",
       "      <td>VNQ</td>\n",
       "      <td>11</td>\n",
       "      <td>58.28</td>\n",
       "      <td>641.08</td>\n",
       "      <td>2018-12-31</td>\n",
       "      <td>0.034</td>\n",
       "      <td>0.0</td>\n",
       "      <td>5</td>\n",
       "      <td>...</td>\n",
       "      <td>429.856729</td>\n",
       "      <td>0.618318</td>\n",
       "      <td>0.670520</td>\n",
       "      <td>0.295590</td>\n",
       "      <td>15384.071791</td>\n",
       "      <td>11580.104191</td>\n",
       "      <td>0.031963</td>\n",
       "      <td>0.042279</td>\n",
       "      <td>0.662503</td>\n",
       "      <td>0.251422</td>\n",
       "    </tr>\n",
       "    <tr>\n",
       "      <th>6</th>\n",
       "      <td>2014-04-21</td>\n",
       "      <td>Vanguard Total Stock Market ETF (VTI)</td>\n",
       "      <td>VTI</td>\n",
       "      <td>72</td>\n",
       "      <td>88.20</td>\n",
       "      <td>6350.40</td>\n",
       "      <td>2018-12-31</td>\n",
       "      <td>0.500</td>\n",
       "      <td>0.0</td>\n",
       "      <td>6</td>\n",
       "      <td>...</td>\n",
       "      <td>4258.067908</td>\n",
       "      <td>0.732765</td>\n",
       "      <td>0.670520</td>\n",
       "      <td>0.129785</td>\n",
       "      <td>25992.539699</td>\n",
       "      <td>22583.852888</td>\n",
       "      <td>0.021841</td>\n",
       "      <td>0.035011</td>\n",
       "      <td>0.665766</td>\n",
       "      <td>0.447315</td>\n",
       "    </tr>\n",
       "    <tr>\n",
       "      <th>7</th>\n",
       "      <td>2014-05-05</td>\n",
       "      <td>Vanguard Total Stock Market ETF (VTI)</td>\n",
       "      <td>VTI</td>\n",
       "      <td>32</td>\n",
       "      <td>88.67</td>\n",
       "      <td>2837.44</td>\n",
       "      <td>2018-12-31</td>\n",
       "      <td>0.500</td>\n",
       "      <td>0.0</td>\n",
       "      <td>7</td>\n",
       "      <td>...</td>\n",
       "      <td>1870.442105</td>\n",
       "      <td>0.723580</td>\n",
       "      <td>0.659201</td>\n",
       "      <td>0.129097</td>\n",
       "      <td>30700.421804</td>\n",
       "      <td>27474.407865</td>\n",
       "      <td>0.021841</td>\n",
       "      <td>0.034826</td>\n",
       "      <td>0.664755</td>\n",
       "      <td>0.489822</td>\n",
       "    </tr>\n",
       "  </tbody>\n",
       "</table>\n",
       "<p>8 rows × 59 columns</p>\n",
       "</div>"
      ],
      "text/plain": [
       "  Acquisition Date                                        Position Ticker  \\\n",
       "0       2014-04-21        iShares Core US Aggregate Bond ETF (AGG)    AGG   \n",
       "1       2014-04-21             Invesco DB Commodity Tracking (DBC)    DBC   \n",
       "2       2014-04-21                        iShares Gold Trust (IAU)    IAU   \n",
       "3       2014-04-21  iShares International Treasury Bond ETF (IGOV)   IGOV   \n",
       "4       2014-04-21           Vanguard FTSE All-Wld ex-US ETF (VEU)    VEU   \n",
       "5       2014-04-21                  Vanguard Real Estate ETF (VNQ)    VNQ   \n",
       "6       2014-04-21           Vanguard Total Stock Market ETF (VTI)    VTI   \n",
       "7       2014-05-05           Vanguard Total Stock Market ETF (VTI)    VTI   \n",
       "\n",
       "   Quantity  Unit Cost  Cost Basis Start of Year  Target_Alloc  Comments  \\\n",
       "0        25      95.72     2393.00    2018-12-31         0.127       0.0   \n",
       "1        22      26.21      576.62    2018-12-31         0.033       0.0   \n",
       "2        50      12.51      625.50    2018-12-31         0.033       0.0   \n",
       "3         8      50.72      405.76    2018-12-31         0.023       0.0   \n",
       "4       105      43.92     4611.60    2018-12-31         0.250       0.0   \n",
       "5        11      58.28      641.08    2018-12-31         0.034       0.0   \n",
       "6        72      88.20     6350.40    2018-12-31         0.500       0.0   \n",
       "7        32      88.67     2837.44    2018-12-31         0.500       0.0   \n",
       "\n",
       "   Counts  ... Total SP500 Gain / (Loss) Total Stock Return  \\\n",
       "0       0  ...               1604.553493           0.186935   \n",
       "1       1  ...                386.635034          -0.384074   \n",
       "2       2  ...                345.228125           0.953637   \n",
       "3       3  ...                272.070048          -0.006971   \n",
       "4       4  ...               3092.168362           0.240830   \n",
       "5       5  ...                429.856729           0.618318   \n",
       "6       6  ...               4258.067908           0.732765   \n",
       "7       7  ...               1870.442105           0.723580   \n",
       "\n",
       "   Total SP500 Return  Share Yield  Cum Total SP Returns  Cum Stock Returns  \\\n",
       "0            0.670520     0.126306           3997.553493        2840.335365   \n",
       "1            0.670520     0.007211           4960.808527        3195.490649   \n",
       "2            0.551923     0.000000           5931.536651        4417.490676   \n",
       "3            0.670520     0.038125           6609.366700        4820.422245   \n",
       "4            0.670520     0.158698          14313.135061       10542.632925   \n",
       "5            0.670520     0.295590          15384.071791       11580.104191   \n",
       "6            0.670520     0.129785          25992.539699       22583.852888   \n",
       "7            0.659201     0.129097          30700.421804       27474.407865   \n",
       "\n",
       "   Market Yield  Current Yield  Cum SP Returns Pct  Cum Ticker Returns Pct  \n",
       "0      0.010323       0.010949            0.670520                0.186935  \n",
       "1      0.047385       0.028844            0.670520                0.076060  \n",
       "2      0.000000       0.000000            0.649886                0.228746  \n",
       "3      0.012470       0.011907            0.651978                0.204840  \n",
       "4      0.015065       0.016302            0.661906                0.224111  \n",
       "5      0.031963       0.042279            0.662503                0.251422  \n",
       "6      0.021841       0.035011            0.665766                0.447315  \n",
       "7      0.021841       0.034826            0.664755                0.489822  \n",
       "\n",
       "[8 rows x 59 columns]"
      ]
     },
     "execution_count": 121,
     "metadata": {},
     "output_type": "execute_result"
    }
   ],
   "source": [
    "# Master dataframe to also include all of the dividend info.\n",
    "\n",
    "merged_portfolio_sp_latest_YTD_sp_closing_high_incl_divs = pd.merge(merged_portfolio_sp_latest_YTD_sp_closing_high\n",
    "                                                                    , dividend_sp_merged_final_subset, on='Ticker #', how='left')\n",
    "\n",
    "merged_portfolio_sp_latest_YTD_sp_closing_high_incl_divs.fillna(0, inplace=True)\n",
    "\n",
    "# This column will calculate the total SP 500 dividend amount.\n",
    "merged_portfolio_sp_latest_YTD_sp_closing_high_incl_divs.loc[:, 'SP500 Tot Div'] = merged_portfolio_sp_latest_YTD_sp_closing_high_incl_divs['SP500 Div Amt'] * merged_portfolio_sp_latest_YTD_sp_closing_high_incl_divs['Equiv SP Shares']\n",
    "\n",
    "# Total shareholder return (TSR) value for position.\n",
    "merged_portfolio_sp_latest_YTD_sp_closing_high_incl_divs.loc[:, 'Total Stock Gain / (Loss)'] = merged_portfolio_sp_latest_YTD_sp_closing_high_incl_divs['Stock Gain / (Loss)'] + merged_portfolio_sp_latest_YTD_sp_closing_high_incl_divs['Dividend Amt']\n",
    "\n",
    "# Total shareholder return value for SP500 equivalent.\n",
    "merged_portfolio_sp_latest_YTD_sp_closing_high_incl_divs.loc[:, 'Total SP500 Gain / (Loss)'] = merged_portfolio_sp_latest_YTD_sp_closing_high_incl_divs['SP 500 Gain / (Loss)'] + merged_portfolio_sp_latest_YTD_sp_closing_high_incl_divs['SP500 Tot Div']\n",
    "\n",
    "# TSR % for position.\n",
    "merged_portfolio_sp_latest_YTD_sp_closing_high_incl_divs.loc[:, 'Total Stock Return'] = merged_portfolio_sp_latest_YTD_sp_closing_high_incl_divs['Total Stock Gain / (Loss)'] / merged_portfolio_sp_latest_YTD_sp_closing_high_incl_divs['Cost Basis']\n",
    "\n",
    "# TSR % for SP500.\n",
    "merged_portfolio_sp_latest_YTD_sp_closing_high_incl_divs.loc[:, 'Total SP500 Return'] = merged_portfolio_sp_latest_YTD_sp_closing_high_incl_divs['Total SP500 Gain / (Loss)'] / merged_portfolio_sp_latest_YTD_sp_closing_high_incl_divs['Cost Basis']\n",
    "\n",
    "# Total dividend yield from position.\n",
    "merged_portfolio_sp_latest_YTD_sp_closing_high_incl_divs.loc[:, 'Share Yield'] = merged_portfolio_sp_latest_YTD_sp_closing_high_incl_divs['Dividend Amt'] / merged_portfolio_sp_latest_YTD_sp_closing_high_incl_divs['Cost Basis']\n",
    "\n",
    "# Aggregate SP returns across all positions.\n",
    "merged_portfolio_sp_latest_YTD_sp_closing_high_incl_divs.loc[:, 'Cum Total SP Returns'] = (merged_portfolio_sp_latest_YTD_sp_closing_high_incl_divs['SP 500 Value'] + merged_portfolio_sp_latest_YTD_sp_closing_high_incl_divs['SP500 Tot Div']).cumsum()\n",
    "\n",
    "# Aggregate Ticker returns across all positions.\n",
    "merged_portfolio_sp_latest_YTD_sp_closing_high_incl_divs.loc[:, 'Cum Stock Returns'] = (merged_portfolio_sp_latest_YTD_sp_closing_high_incl_divs['Ticker Share Value'] + merged_portfolio_sp_latest_YTD_sp_closing_high_incl_divs['Dividend Amt']).cumsum()\n",
    "\n",
    "# Current position yield based on latest dividend and latest share price.\n",
    "merged_portfolio_sp_latest_YTD_sp_closing_high_incl_divs.loc[:, 'Market Yield'] = merged_portfolio_sp_latest_YTD_sp_closing_high_incl_divs['Latest Div Amt'] / merged_portfolio_sp_latest_YTD_sp_closing_high_incl_divs['Ticker Adj Close']\n",
    "\n",
    "# Current yield based on original cost basis for stock and latest dividend amount.\n",
    "merged_portfolio_sp_latest_YTD_sp_closing_high_incl_divs.loc[:, 'Current Yield'] = merged_portfolio_sp_latest_YTD_sp_closing_high_incl_divs['Latest Div Amt'] / merged_portfolio_sp_latest_YTD_sp_closing_high_incl_divs['Unit Cost']\n",
    "\n",
    "# Total SP returns pct.\n",
    "merged_portfolio_sp_latest_YTD_sp_closing_high_incl_divs.loc[:, 'Cum SP Returns Pct'] = merged_portfolio_sp_latest_YTD_sp_closing_high_incl_divs['Cum Total SP Returns'] / merged_portfolio_sp_latest_YTD_sp_closing_high_incl_divs['Cum Invst'] - 1\n",
    "\n",
    "# Total Tickers returns pct.\n",
    "merged_portfolio_sp_latest_YTD_sp_closing_high_incl_divs.loc[:, 'Cum Ticker Returns Pct'] = merged_portfolio_sp_latest_YTD_sp_closing_high_incl_divs.loc[:, 'Cum Stock Returns'] / merged_portfolio_sp_latest_YTD_sp_closing_high_incl_divs.loc[:, 'Cum Invst'] - 1\n",
    "\n",
    "merged_portfolio_sp_latest_YTD_sp_closing_high_incl_divs.head(12)"
   ]
  },
  {
   "cell_type": "code",
   "execution_count": 122,
   "metadata": {},
   "outputs": [
    {
     "name": "stdout",
     "output_type": "stream",
     "text": [
      "<class 'pandas.core.frame.DataFrame'>\n",
      "Int64Index: 8 entries, 0 to 7\n",
      "Data columns (total 59 columns):\n",
      " #   Column                       Non-Null Count  Dtype         \n",
      "---  ------                       --------------  -----         \n",
      " 0   Acquisition Date             8 non-null      datetime64[ns]\n",
      " 1   Position                     8 non-null      object        \n",
      " 2   Ticker                       8 non-null      object        \n",
      " 3   Quantity                     8 non-null      int64         \n",
      " 4   Unit Cost                    8 non-null      float64       \n",
      " 5   Cost Basis                   8 non-null      float64       \n",
      " 6   Start of Year                8 non-null      datetime64[ns]\n",
      " 7   Target_Alloc                 8 non-null      float64       \n",
      " 8   Comments                     8 non-null      float64       \n",
      " 9   Counts                       8 non-null      int64         \n",
      " 10  Ticker #                     8 non-null      object        \n",
      " 11  Latest Date                  8 non-null      datetime64[ns]\n",
      " 12  Ticker Adj Close             8 non-null      float64       \n",
      " 13  Ticker Return                8 non-null      float64       \n",
      " 14  SP 500 Initial Close         8 non-null      float64       \n",
      " 15  Equiv SP Shares              8 non-null      float64       \n",
      " 16  SP 500 Latest Close          8 non-null      float64       \n",
      " 17  SP Return                    8 non-null      float64       \n",
      " 18  Abs. Return Compare          8 non-null      float64       \n",
      " 19  Ticker Share Value           8 non-null      float64       \n",
      " 20  SP 500 Value                 8 non-null      float64       \n",
      " 21  Abs Value Compare            8 non-null      float64       \n",
      " 22  Stock Gain / (Loss)          8 non-null      float64       \n",
      " 23  SP 500 Gain / (Loss)         8 non-null      float64       \n",
      " 24  Ticker Start Year Close      8 non-null      float64       \n",
      " 25  SP Start Year Close          8 non-null      float64       \n",
      " 26  Share YTD                    8 non-null      float64       \n",
      " 27  SP 500 YTD                   8 non-null      float64       \n",
      " 28  Cum Invst                    8 non-null      float64       \n",
      " 29  Cum Ticker Returns           8 non-null      float64       \n",
      " 30  Cum SP Returns               8 non-null      float64       \n",
      " 31  Cum Ticker ROI Mult          8 non-null      float64       \n",
      " 32  Cum Ticker ROI Pct           8 non-null      float64       \n",
      " 33  Cum SP ROI Pct               8 non-null      float64       \n",
      " 34  Closing High Adj Close       8 non-null      float64       \n",
      " 35  Closing High Adj Close Date  8 non-null      datetime64[ns]\n",
      " 36  Pct off High                 8 non-null      float64       \n",
      " 37  2014.0                       8 non-null      float64       \n",
      " 38  2015.0                       8 non-null      float64       \n",
      " 39  2016.0                       8 non-null      float64       \n",
      " 40  2017.0                       8 non-null      float64       \n",
      " 41  2018.0                       8 non-null      float64       \n",
      " 42  2019.0                       8 non-null      float64       \n",
      " 43  Dividend Amt                 8 non-null      float64       \n",
      " 44  SP500 Div Amt                8 non-null      float64       \n",
      " 45  Ex-Div. Date                 8 non-null      object        \n",
      " 46  Latest Div Amt               8 non-null      float64       \n",
      " 47  SP500 Tot Div                8 non-null      float64       \n",
      " 48  Total Stock Gain / (Loss)    8 non-null      float64       \n",
      " 49  Total SP500 Gain / (Loss)    8 non-null      float64       \n",
      " 50  Total Stock Return           8 non-null      float64       \n",
      " 51  Total SP500 Return           8 non-null      float64       \n",
      " 52  Share Yield                  8 non-null      float64       \n",
      " 53  Cum Total SP Returns         8 non-null      float64       \n",
      " 54  Cum Stock Returns            8 non-null      float64       \n",
      " 55  Market Yield                 8 non-null      float64       \n",
      " 56  Current Yield                8 non-null      float64       \n",
      " 57  Cum SP Returns Pct           8 non-null      float64       \n",
      " 58  Cum Ticker Returns Pct       8 non-null      float64       \n",
      "dtypes: datetime64[ns](4), float64(49), int64(2), object(4)\n",
      "memory usage: 3.8+ KB\n"
     ]
    }
   ],
   "source": [
    "merged_portfolio_sp_latest_YTD_sp_closing_high_incl_divs.info()"
   ]
  },
  {
   "cell_type": "code",
   "execution_count": 123,
   "metadata": {},
   "outputs": [
    {
     "name": "stderr",
     "output_type": "stream",
     "text": [
      "/home/rootdaenib/.local/lib/python3.8/site-packages/pandas/core/indexing.py:1773: SettingWithCopyWarning:\n",
      "\n",
      "\n",
      "A value is trying to be set on a copy of a slice from a DataFrame.\n",
      "Try using .loc[row_indexer,col_indexer] = value instead\n",
      "\n",
      "See the caveats in the documentation: https://pandas.pydata.org/pandas-docs/stable/user_guide/indexing.html#returning-a-view-versus-a-copy\n",
      "\n"
     ]
    },
    {
     "data": {
      "text/html": [
       "<div>\n",
       "<style scoped>\n",
       "    .dataframe tbody tr th:only-of-type {\n",
       "        vertical-align: middle;\n",
       "    }\n",
       "\n",
       "    .dataframe tbody tr th {\n",
       "        vertical-align: top;\n",
       "    }\n",
       "\n",
       "    .dataframe thead th {\n",
       "        text-align: right;\n",
       "    }\n",
       "</style>\n",
       "<table border=\"1\" class=\"dataframe\">\n",
       "  <thead>\n",
       "    <tr style=\"text-align: right;\">\n",
       "      <th></th>\n",
       "      <th>Ticker #</th>\n",
       "      <th>Acquisition Date</th>\n",
       "      <th>Ticker</th>\n",
       "      <th>Unit Cost</th>\n",
       "      <th>Cost Basis</th>\n",
       "      <th>Ticker Adj Close</th>\n",
       "      <th>Ticker Return</th>\n",
       "      <th>SP Return</th>\n",
       "      <th>Stock Gain / (Loss)</th>\n",
       "      <th>Share YTD</th>\n",
       "      <th>Closing High Adj Close</th>\n",
       "      <th>Closing High Adj Close Date</th>\n",
       "      <th>Pct off High</th>\n",
       "      <th>Dividend Amt</th>\n",
       "      <th>Share Yield</th>\n",
       "      <th>Market Yield</th>\n",
       "      <th>Current Yield</th>\n",
       "      <th>Ex-Div. Date</th>\n",
       "      <th>Latest Div Amt</th>\n",
       "    </tr>\n",
       "  </thead>\n",
       "  <tbody>\n",
       "    <tr>\n",
       "      <th>0</th>\n",
       "      <td>AGG 0</td>\n",
       "      <td>2014-04-21</td>\n",
       "      <td>AGG</td>\n",
       "      <td>95.72</td>\n",
       "      <td>2393.00</td>\n",
       "      <td>101.523415</td>\n",
       "      <td>0.060629</td>\n",
       "      <td>0.551923</td>\n",
       "      <td>145.085365</td>\n",
       "      <td>0.023509</td>\n",
       "      <td>102.112717</td>\n",
       "      <td>2019-03-28</td>\n",
       "      <td>-0.005771</td>\n",
       "      <td>302.250000</td>\n",
       "      <td>0.126306</td>\n",
       "      <td>0.010323</td>\n",
       "      <td>0.010949</td>\n",
       "      <td>2019-04-01</td>\n",
       "      <td>1.04800</td>\n",
       "    </tr>\n",
       "    <tr>\n",
       "      <th>1</th>\n",
       "      <td>DBC 1</td>\n",
       "      <td>2014-04-21</td>\n",
       "      <td>DBC</td>\n",
       "      <td>26.21</td>\n",
       "      <td>576.62</td>\n",
       "      <td>15.954422</td>\n",
       "      <td>-0.391285</td>\n",
       "      <td>0.551923</td>\n",
       "      <td>-225.622716</td>\n",
       "      <td>0.118703</td>\n",
       "      <td>26.155830</td>\n",
       "      <td>2014-06-20</td>\n",
       "      <td>-0.390024</td>\n",
       "      <td>4.158000</td>\n",
       "      <td>0.007211</td>\n",
       "      <td>0.047385</td>\n",
       "      <td>0.028844</td>\n",
       "      <td>2018-12-24</td>\n",
       "      <td>0.75600</td>\n",
       "    </tr>\n",
       "    <tr>\n",
       "      <th>2</th>\n",
       "      <td>IAU 2</td>\n",
       "      <td>2014-04-21</td>\n",
       "      <td>IAU</td>\n",
       "      <td>12.51</td>\n",
       "      <td>625.50</td>\n",
       "      <td>24.440001</td>\n",
       "      <td>0.953637</td>\n",
       "      <td>0.551923</td>\n",
       "      <td>596.500027</td>\n",
       "      <td>-0.005696</td>\n",
       "      <td>26.360001</td>\n",
       "      <td>2016-07-08</td>\n",
       "      <td>-0.072838</td>\n",
       "      <td>0.000000</td>\n",
       "      <td>0.000000</td>\n",
       "      <td>0.000000</td>\n",
       "      <td>0.000000</td>\n",
       "      <td>NaT</td>\n",
       "      <td>0.00000</td>\n",
       "    </tr>\n",
       "    <tr>\n",
       "      <th>3</th>\n",
       "      <td>IGOV 3</td>\n",
       "      <td>2014-04-21</td>\n",
       "      <td>IGOV</td>\n",
       "      <td>50.72</td>\n",
       "      <td>405.76</td>\n",
       "      <td>48.432762</td>\n",
       "      <td>-0.045095</td>\n",
       "      <td>0.551923</td>\n",
       "      <td>-18.297903</td>\n",
       "      <td>0.005570</td>\n",
       "      <td>51.578995</td>\n",
       "      <td>2018-03-26</td>\n",
       "      <td>-0.060998</td>\n",
       "      <td>15.469472</td>\n",
       "      <td>0.038125</td>\n",
       "      <td>0.012470</td>\n",
       "      <td>0.011907</td>\n",
       "      <td>2018-12-18</td>\n",
       "      <td>0.60394</td>\n",
       "    </tr>\n",
       "    <tr>\n",
       "      <th>4</th>\n",
       "      <td>VEU 4</td>\n",
       "      <td>2014-04-21</td>\n",
       "      <td>VEU</td>\n",
       "      <td>43.92</td>\n",
       "      <td>4611.60</td>\n",
       "      <td>47.527245</td>\n",
       "      <td>0.082132</td>\n",
       "      <td>0.551923</td>\n",
       "      <td>378.760680</td>\n",
       "      <td>0.138579</td>\n",
       "      <td>52.347305</td>\n",
       "      <td>2018-01-26</td>\n",
       "      <td>-0.092078</td>\n",
       "      <td>731.850000</td>\n",
       "      <td>0.158698</td>\n",
       "      <td>0.015065</td>\n",
       "      <td>0.016302</td>\n",
       "      <td>2019-03-25</td>\n",
       "      <td>0.71600</td>\n",
       "    </tr>\n",
       "    <tr>\n",
       "      <th>5</th>\n",
       "      <td>VNQ 5</td>\n",
       "      <td>2014-04-21</td>\n",
       "      <td>VNQ</td>\n",
       "      <td>58.28</td>\n",
       "      <td>641.08</td>\n",
       "      <td>77.088570</td>\n",
       "      <td>0.322728</td>\n",
       "      <td>0.551923</td>\n",
       "      <td>206.894266</td>\n",
       "      <td>0.154636</td>\n",
       "      <td>79.396973</td>\n",
       "      <td>2019-04-12</td>\n",
       "      <td>-0.029074</td>\n",
       "      <td>189.497000</td>\n",
       "      <td>0.295590</td>\n",
       "      <td>0.031963</td>\n",
       "      <td>0.042279</td>\n",
       "      <td>2019-03-28</td>\n",
       "      <td>2.46400</td>\n",
       "    </tr>\n",
       "    <tr>\n",
       "      <th>6</th>\n",
       "      <td>VTI 6</td>\n",
       "      <td>2014-04-21</td>\n",
       "      <td>VTI</td>\n",
       "      <td>88.20</td>\n",
       "      <td>6350.40</td>\n",
       "      <td>141.382843</td>\n",
       "      <td>0.602980</td>\n",
       "      <td>0.551923</td>\n",
       "      <td>3829.164697</td>\n",
       "      <td>0.167998</td>\n",
       "      <td>141.990143</td>\n",
       "      <td>2018-09-20</td>\n",
       "      <td>-0.004277</td>\n",
       "      <td>824.184000</td>\n",
       "      <td>0.129785</td>\n",
       "      <td>0.021841</td>\n",
       "      <td>0.035011</td>\n",
       "      <td>2019-03-25</td>\n",
       "      <td>3.08800</td>\n",
       "    </tr>\n",
       "    <tr>\n",
       "      <th>7</th>\n",
       "      <td>VTI 7</td>\n",
       "      <td>2014-05-05</td>\n",
       "      <td>VTI</td>\n",
       "      <td>88.67</td>\n",
       "      <td>2837.44</td>\n",
       "      <td>141.382843</td>\n",
       "      <td>0.594483</td>\n",
       "      <td>0.541408</td>\n",
       "      <td>1686.810977</td>\n",
       "      <td>0.167998</td>\n",
       "      <td>141.990143</td>\n",
       "      <td>2018-09-20</td>\n",
       "      <td>-0.004277</td>\n",
       "      <td>366.304000</td>\n",
       "      <td>0.129097</td>\n",
       "      <td>0.021841</td>\n",
       "      <td>0.034826</td>\n",
       "      <td>2019-03-25</td>\n",
       "      <td>3.08800</td>\n",
       "    </tr>\n",
       "  </tbody>\n",
       "</table>\n",
       "</div>"
      ],
      "text/plain": [
       "  Ticker # Acquisition Date Ticker  Unit Cost  Cost Basis  Ticker Adj Close  \\\n",
       "0    AGG 0       2014-04-21    AGG      95.72     2393.00        101.523415   \n",
       "1    DBC 1       2014-04-21    DBC      26.21      576.62         15.954422   \n",
       "2    IAU 2       2014-04-21    IAU      12.51      625.50         24.440001   \n",
       "3   IGOV 3       2014-04-21   IGOV      50.72      405.76         48.432762   \n",
       "4    VEU 4       2014-04-21    VEU      43.92     4611.60         47.527245   \n",
       "5    VNQ 5       2014-04-21    VNQ      58.28      641.08         77.088570   \n",
       "6    VTI 6       2014-04-21    VTI      88.20     6350.40        141.382843   \n",
       "7    VTI 7       2014-05-05    VTI      88.67     2837.44        141.382843   \n",
       "\n",
       "   Ticker Return  SP Return  Stock Gain / (Loss)  Share YTD  \\\n",
       "0       0.060629   0.551923           145.085365   0.023509   \n",
       "1      -0.391285   0.551923          -225.622716   0.118703   \n",
       "2       0.953637   0.551923           596.500027  -0.005696   \n",
       "3      -0.045095   0.551923           -18.297903   0.005570   \n",
       "4       0.082132   0.551923           378.760680   0.138579   \n",
       "5       0.322728   0.551923           206.894266   0.154636   \n",
       "6       0.602980   0.551923          3829.164697   0.167998   \n",
       "7       0.594483   0.541408          1686.810977   0.167998   \n",
       "\n",
       "   Closing High Adj Close Closing High Adj Close Date  Pct off High  \\\n",
       "0              102.112717                  2019-03-28     -0.005771   \n",
       "1               26.155830                  2014-06-20     -0.390024   \n",
       "2               26.360001                  2016-07-08     -0.072838   \n",
       "3               51.578995                  2018-03-26     -0.060998   \n",
       "4               52.347305                  2018-01-26     -0.092078   \n",
       "5               79.396973                  2019-04-12     -0.029074   \n",
       "6              141.990143                  2018-09-20     -0.004277   \n",
       "7              141.990143                  2018-09-20     -0.004277   \n",
       "\n",
       "   Dividend Amt  Share Yield  Market Yield  Current Yield Ex-Div. Date  \\\n",
       "0    302.250000     0.126306      0.010323       0.010949   2019-04-01   \n",
       "1      4.158000     0.007211      0.047385       0.028844   2018-12-24   \n",
       "2      0.000000     0.000000      0.000000       0.000000          NaT   \n",
       "3     15.469472     0.038125      0.012470       0.011907   2018-12-18   \n",
       "4    731.850000     0.158698      0.015065       0.016302   2019-03-25   \n",
       "5    189.497000     0.295590      0.031963       0.042279   2019-03-28   \n",
       "6    824.184000     0.129785      0.021841       0.035011   2019-03-25   \n",
       "7    366.304000     0.129097      0.021841       0.034826   2019-03-25   \n",
       "\n",
       "   Latest Div Amt  \n",
       "0         1.04800  \n",
       "1         0.75600  \n",
       "2         0.00000  \n",
       "3         0.60394  \n",
       "4         0.71600  \n",
       "5         2.46400  \n",
       "6         3.08800  \n",
       "7         3.08800  "
      ]
     },
     "execution_count": 123,
     "metadata": {},
     "output_type": "execute_result"
    }
   ],
   "source": [
    "# Subsetted df that will be used for the summary table on the dashboard.\n",
    "\n",
    "merged_portfolio_sp_latest_YTD_sp_closing_high_incl_divs_summary = merged_portfolio_sp_latest_YTD_sp_closing_high_incl_divs[['Ticker #', 'Acquisition Date',\n",
    "                                                                                                         'Ticker', 'Unit Cost', 'Cost Basis', 'Ticker Adj Close',\n",
    "                                                                                                         'Ticker Return','SP Return', 'Stock Gain / (Loss)'\n",
    "                                                                                                         ,'Share YTD', 'Closing High Adj Close'\n",
    "                                                                                                         ,'Closing High Adj Close Date'\n",
    "                                                                                                         ,'Pct off High', 'Dividend Amt', 'Share Yield'\n",
    "                                                                                                                             ,'Market Yield', 'Current Yield'\n",
    "                                                                                                                             ,'Ex-Div. Date', 'Latest Div Amt']]\n",
    "\n",
    "# Converting to date time and coerce will force an out of bounds date to NaT.\n",
    "merged_portfolio_sp_latest_YTD_sp_closing_high_incl_divs_summary.loc[:, 'Ex-Div. Date'] = pd.to_datetime(merged_portfolio_sp_latest_YTD_sp_closing_high_incl_divs_summary.loc[:, 'Ex-Div. Date'], errors='coerce')\n",
    "\n",
    "merged_portfolio_sp_latest_YTD_sp_closing_high_incl_divs_summary[0:10]"
   ]
  },
  {
   "cell_type": "code",
   "execution_count": 124,
   "metadata": {},
   "outputs": [
    {
     "name": "stdout",
     "output_type": "stream",
     "text": [
      "<class 'pandas.core.frame.DataFrame'>\n",
      "Int64Index: 8 entries, 0 to 7\n",
      "Data columns (total 19 columns):\n",
      " #   Column                       Non-Null Count  Dtype         \n",
      "---  ------                       --------------  -----         \n",
      " 0   Ticker #                     8 non-null      object        \n",
      " 1   Acquisition Date             8 non-null      datetime64[ns]\n",
      " 2   Ticker                       8 non-null      object        \n",
      " 3   Unit Cost                    8 non-null      float64       \n",
      " 4   Cost Basis                   8 non-null      float64       \n",
      " 5   Ticker Adj Close             8 non-null      float64       \n",
      " 6   Ticker Return                8 non-null      float64       \n",
      " 7   SP Return                    8 non-null      float64       \n",
      " 8   Stock Gain / (Loss)          8 non-null      float64       \n",
      " 9   Share YTD                    8 non-null      float64       \n",
      " 10  Closing High Adj Close       8 non-null      float64       \n",
      " 11  Closing High Adj Close Date  8 non-null      datetime64[ns]\n",
      " 12  Pct off High                 8 non-null      float64       \n",
      " 13  Dividend Amt                 8 non-null      float64       \n",
      " 14  Share Yield                  8 non-null      float64       \n",
      " 15  Market Yield                 8 non-null      float64       \n",
      " 16  Current Yield                8 non-null      float64       \n",
      " 17  Ex-Div. Date                 7 non-null      datetime64[ns]\n",
      " 18  Latest Div Amt               8 non-null      float64       \n",
      "dtypes: datetime64[ns](3), float64(14), object(2)\n",
      "memory usage: 1.2+ KB\n"
     ]
    }
   ],
   "source": [
    "merged_portfolio_sp_latest_YTD_sp_closing_high_incl_divs_summary.info()"
   ]
  },
  {
   "cell_type": "code",
   "execution_count": 125,
   "metadata": {},
   "outputs": [
    {
     "data": {
      "text/html": [
       "<div>\n",
       "<style scoped>\n",
       "    .dataframe tbody tr th:only-of-type {\n",
       "        vertical-align: middle;\n",
       "    }\n",
       "\n",
       "    .dataframe tbody tr th {\n",
       "        vertical-align: top;\n",
       "    }\n",
       "\n",
       "    .dataframe thead th {\n",
       "        text-align: right;\n",
       "    }\n",
       "</style>\n",
       "<table border=\"1\" class=\"dataframe\">\n",
       "  <thead>\n",
       "    <tr style=\"text-align: right;\">\n",
       "      <th></th>\n",
       "      <th>Ticker #</th>\n",
       "      <th>Acquisition Date</th>\n",
       "      <th>Ticker</th>\n",
       "      <th>Unit Cost</th>\n",
       "      <th>Cost Basis</th>\n",
       "      <th>Ticker Adj Close</th>\n",
       "      <th>Ticker Return</th>\n",
       "      <th>SP Return</th>\n",
       "      <th>Stock Gain / (Loss)</th>\n",
       "      <th>Share YTD</th>\n",
       "      <th>Closing High Adj Close</th>\n",
       "      <th>Closing High Adj Close Date</th>\n",
       "      <th>Pct off High</th>\n",
       "      <th>Dividend Amt</th>\n",
       "      <th>Share Yield</th>\n",
       "      <th>Market Yield</th>\n",
       "      <th>Current Yield</th>\n",
       "      <th>Ex-Div. Date</th>\n",
       "      <th>Latest Div Amt</th>\n",
       "    </tr>\n",
       "  </thead>\n",
       "  <tbody>\n",
       "    <tr>\n",
       "      <th>0</th>\n",
       "      <td>AGG 0</td>\n",
       "      <td>2014-04-21</td>\n",
       "      <td>AGG</td>\n",
       "      <td>95.72</td>\n",
       "      <td>2393.00</td>\n",
       "      <td>101.523</td>\n",
       "      <td>0.061</td>\n",
       "      <td>0.552</td>\n",
       "      <td>145.085</td>\n",
       "      <td>0.024</td>\n",
       "      <td>102.113</td>\n",
       "      <td>2019-03-28</td>\n",
       "      <td>-0.006</td>\n",
       "      <td>302.250</td>\n",
       "      <td>0.126</td>\n",
       "      <td>0.010</td>\n",
       "      <td>0.011</td>\n",
       "      <td>2019-04-01</td>\n",
       "      <td>1.048</td>\n",
       "    </tr>\n",
       "    <tr>\n",
       "      <th>1</th>\n",
       "      <td>DBC 1</td>\n",
       "      <td>2014-04-21</td>\n",
       "      <td>DBC</td>\n",
       "      <td>26.21</td>\n",
       "      <td>576.62</td>\n",
       "      <td>15.954</td>\n",
       "      <td>-0.391</td>\n",
       "      <td>0.552</td>\n",
       "      <td>-225.623</td>\n",
       "      <td>0.119</td>\n",
       "      <td>26.156</td>\n",
       "      <td>2014-06-20</td>\n",
       "      <td>-0.390</td>\n",
       "      <td>4.158</td>\n",
       "      <td>0.007</td>\n",
       "      <td>0.047</td>\n",
       "      <td>0.029</td>\n",
       "      <td>2018-12-24</td>\n",
       "      <td>0.756</td>\n",
       "    </tr>\n",
       "    <tr>\n",
       "      <th>2</th>\n",
       "      <td>IAU 2</td>\n",
       "      <td>2014-04-21</td>\n",
       "      <td>IAU</td>\n",
       "      <td>12.51</td>\n",
       "      <td>625.50</td>\n",
       "      <td>24.440</td>\n",
       "      <td>0.954</td>\n",
       "      <td>0.552</td>\n",
       "      <td>596.500</td>\n",
       "      <td>-0.006</td>\n",
       "      <td>26.360</td>\n",
       "      <td>2016-07-08</td>\n",
       "      <td>-0.073</td>\n",
       "      <td>0.000</td>\n",
       "      <td>0.000</td>\n",
       "      <td>0.000</td>\n",
       "      <td>0.000</td>\n",
       "      <td>NaT</td>\n",
       "      <td>0.000</td>\n",
       "    </tr>\n",
       "    <tr>\n",
       "      <th>3</th>\n",
       "      <td>IGOV 3</td>\n",
       "      <td>2014-04-21</td>\n",
       "      <td>IGOV</td>\n",
       "      <td>50.72</td>\n",
       "      <td>405.76</td>\n",
       "      <td>48.433</td>\n",
       "      <td>-0.045</td>\n",
       "      <td>0.552</td>\n",
       "      <td>-18.298</td>\n",
       "      <td>0.006</td>\n",
       "      <td>51.579</td>\n",
       "      <td>2018-03-26</td>\n",
       "      <td>-0.061</td>\n",
       "      <td>15.469</td>\n",
       "      <td>0.038</td>\n",
       "      <td>0.012</td>\n",
       "      <td>0.012</td>\n",
       "      <td>2018-12-18</td>\n",
       "      <td>0.604</td>\n",
       "    </tr>\n",
       "    <tr>\n",
       "      <th>4</th>\n",
       "      <td>VEU 4</td>\n",
       "      <td>2014-04-21</td>\n",
       "      <td>VEU</td>\n",
       "      <td>43.92</td>\n",
       "      <td>4611.60</td>\n",
       "      <td>47.527</td>\n",
       "      <td>0.082</td>\n",
       "      <td>0.552</td>\n",
       "      <td>378.761</td>\n",
       "      <td>0.139</td>\n",
       "      <td>52.347</td>\n",
       "      <td>2018-01-26</td>\n",
       "      <td>-0.092</td>\n",
       "      <td>731.850</td>\n",
       "      <td>0.159</td>\n",
       "      <td>0.015</td>\n",
       "      <td>0.016</td>\n",
       "      <td>2019-03-25</td>\n",
       "      <td>0.716</td>\n",
       "    </tr>\n",
       "  </tbody>\n",
       "</table>\n",
       "</div>"
      ],
      "text/plain": [
       "  Ticker # Acquisition Date Ticker  Unit Cost  Cost Basis  Ticker Adj Close  \\\n",
       "0    AGG 0       2014-04-21    AGG      95.72     2393.00           101.523   \n",
       "1    DBC 1       2014-04-21    DBC      26.21      576.62            15.954   \n",
       "2    IAU 2       2014-04-21    IAU      12.51      625.50            24.440   \n",
       "3   IGOV 3       2014-04-21   IGOV      50.72      405.76            48.433   \n",
       "4    VEU 4       2014-04-21    VEU      43.92     4611.60            47.527   \n",
       "\n",
       "   Ticker Return  SP Return  Stock Gain / (Loss)  Share YTD  \\\n",
       "0          0.061      0.552              145.085      0.024   \n",
       "1         -0.391      0.552             -225.623      0.119   \n",
       "2          0.954      0.552              596.500     -0.006   \n",
       "3         -0.045      0.552              -18.298      0.006   \n",
       "4          0.082      0.552              378.761      0.139   \n",
       "\n",
       "   Closing High Adj Close Closing High Adj Close Date  Pct off High  \\\n",
       "0                 102.113                  2019-03-28        -0.006   \n",
       "1                  26.156                  2014-06-20        -0.390   \n",
       "2                  26.360                  2016-07-08        -0.073   \n",
       "3                  51.579                  2018-03-26        -0.061   \n",
       "4                  52.347                  2018-01-26        -0.092   \n",
       "\n",
       "   Dividend Amt  Share Yield  Market Yield  Current Yield Ex-Div. Date  \\\n",
       "0       302.250        0.126         0.010          0.011   2019-04-01   \n",
       "1         4.158        0.007         0.047          0.029   2018-12-24   \n",
       "2         0.000        0.000         0.000          0.000          NaT   \n",
       "3        15.469        0.038         0.012          0.012   2018-12-18   \n",
       "4       731.850        0.159         0.015          0.016   2019-03-25   \n",
       "\n",
       "   Latest Div Amt  \n",
       "0           1.048  \n",
       "1           0.756  \n",
       "2           0.000  \n",
       "3           0.604  \n",
       "4           0.716  "
      ]
     },
     "execution_count": 125,
     "metadata": {},
     "output_type": "execute_result"
    }
   ],
   "source": [
    "merged_portfolio_sp_latest_YTD_sp_closing_high_incl_divs_summary = merged_portfolio_sp_latest_YTD_sp_closing_high_incl_divs_summary.round(3)\n",
    "\n",
    "merged_portfolio_sp_latest_YTD_sp_closing_high_incl_divs_summary.head()"
   ]
  },
  {
   "cell_type": "code",
   "execution_count": 126,
   "metadata": {},
   "outputs": [],
   "source": [
    "# Re-formatting the % columns.\n",
    "\n",
    "merged_portfolio_sp_latest_YTD_sp_closing_high_incl_divs_summary['Ticker Return'] = pd.Series([\"{0:.1f}%\".format(val * 100) \n",
    "                                                                                     for val in merged_portfolio_sp_latest_YTD_sp_closing_high_incl_divs_summary['Ticker Return']], index = merged_portfolio_sp_latest_YTD_sp_closing_high_incl_divs_summary.index)\n",
    "\n",
    "merged_portfolio_sp_latest_YTD_sp_closing_high_incl_divs_summary['Share YTD'] = pd.Series([\"{0:.1f}%\".format(val * 100) \n",
    "                                                                                     for val in merged_portfolio_sp_latest_YTD_sp_closing_high_incl_divs_summary['Share YTD']], index = merged_portfolio_sp_latest_YTD_sp_closing_high_incl_divs_summary.index)\n",
    "\n",
    "merged_portfolio_sp_latest_YTD_sp_closing_high_incl_divs_summary['SP Return'] = pd.Series([\"{0:.1f}%\".format(val * 100) \n",
    "                                                                                     for val in merged_portfolio_sp_latest_YTD_sp_closing_high_incl_divs_summary['SP Return']], index = merged_portfolio_sp_latest_YTD_sp_closing_high_incl_divs_summary.index)\n",
    "\n",
    "\n",
    "merged_portfolio_sp_latest_YTD_sp_closing_high_incl_divs_summary['Pct off High'] = pd.Series([\"{0:.1f}%\".format(val * 100) \n",
    "                                                                                     for val in merged_portfolio_sp_latest_YTD_sp_closing_high_incl_divs_summary['Pct off High']], index = merged_portfolio_sp_latest_YTD_sp_closing_high_incl_divs_summary.index)\n",
    "\n",
    "merged_portfolio_sp_latest_YTD_sp_closing_high_incl_divs_summary['Share Yield'] = pd.Series([\"{0:.1f}%\".format(val * 100) \n",
    "                                                                                     for val in merged_portfolio_sp_latest_YTD_sp_closing_high_incl_divs_summary['Share Yield']], index = merged_portfolio_sp_latest_YTD_sp_closing_high_incl_divs_summary.index)\n",
    "\n",
    "merged_portfolio_sp_latest_YTD_sp_closing_high_incl_divs_summary['Market Yield'] = pd.Series([\"{0:.1f}%\".format(val * 100) \n",
    "                                                                                     for val in merged_portfolio_sp_latest_YTD_sp_closing_high_incl_divs_summary['Market Yield']], index = merged_portfolio_sp_latest_YTD_sp_closing_high_incl_divs_summary.index)\n",
    "\n",
    "merged_portfolio_sp_latest_YTD_sp_closing_high_incl_divs_summary['Current Yield'] = pd.Series([\"{0:.1f}%\".format(val * 100) \n",
    "                                                                                     for val in merged_portfolio_sp_latest_YTD_sp_closing_high_incl_divs_summary['Current Yield']], index = merged_portfolio_sp_latest_YTD_sp_closing_high_incl_divs_summary.index)"
   ]
  },
  {
   "cell_type": "code",
   "execution_count": 127,
   "metadata": {},
   "outputs": [
    {
     "data": {
      "application/vnd.plotly.v1+json": {
       "config": {
        "linkText": "Export to plot.ly",
        "plotlyServerURL": "https://plot.ly",
        "showLink": false
       },
       "data": [
        {
         "cells": {
          "align": [
           "left",
           "left",
           "left",
           "left",
           "left"
          ],
          "fill": {
           "color": "#F5F8FF"
          },
          "height": 40,
          "values": [
           [
            "AGG 0",
            "DBC 1",
            "IAU 2",
            "IGOV 3",
            "VEU 4",
            "VNQ 5",
            "VTI 6",
            "VTI 7"
           ],
           [
            "2014-04-21T00:00:00",
            "2014-04-21T00:00:00",
            "2014-04-21T00:00:00",
            "2014-04-21T00:00:00",
            "2014-04-21T00:00:00",
            "2014-04-21T00:00:00",
            "2014-04-21T00:00:00",
            "2014-05-05T00:00:00"
           ],
           [
            "AGG",
            "DBC",
            "IAU",
            "IGOV",
            "VEU",
            "VNQ",
            "VTI",
            "VTI"
           ],
           [
            95.72,
            26.21,
            12.51,
            50.72,
            43.92,
            58.28,
            88.2,
            88.67
           ],
           [
            2393,
            576.62,
            625.5,
            405.76,
            4611.6,
            641.08,
            6350.4,
            2837.44
           ],
           [
            101.523,
            15.954,
            24.44,
            48.433,
            47.527,
            77.089,
            141.383,
            141.383
           ],
           [
            "6.1%",
            "-39.1%",
            "95.4%",
            "-4.5%",
            "8.2%",
            "32.3%",
            "60.3%",
            "59.4%"
           ],
           [
            "55.2%",
            "55.2%",
            "55.2%",
            "55.2%",
            "55.2%",
            "55.2%",
            "55.2%",
            "54.1%"
           ],
           [
            145.085,
            -225.623,
            596.5,
            -18.298,
            378.761,
            206.894,
            3829.165,
            1686.811
           ],
           [
            "2.4%",
            "11.9%",
            "-0.6%",
            "0.6%",
            "13.9%",
            "15.5%",
            "16.8%",
            "16.8%"
           ],
           [
            102.113,
            26.156,
            26.36,
            51.579,
            52.347,
            79.397,
            141.99,
            141.99
           ],
           [
            "2019-03-28T00:00:00",
            "2014-06-20T00:00:00",
            "2016-07-08T00:00:00",
            "2018-03-26T00:00:00",
            "2018-01-26T00:00:00",
            "2019-04-12T00:00:00",
            "2018-09-20T00:00:00",
            "2018-09-20T00:00:00"
           ],
           [
            "-0.6%",
            "-39.0%",
            "-7.3%",
            "-6.1%",
            "-9.2%",
            "-2.9%",
            "-0.4%",
            "-0.4%"
           ],
           [
            302.25,
            4.158,
            0,
            15.469,
            731.85,
            189.497,
            824.184,
            366.304
           ],
           [
            "12.6%",
            "0.7%",
            "0.0%",
            "3.8%",
            "15.9%",
            "29.6%",
            "13.0%",
            "12.9%"
           ],
           [
            "1.0%",
            "4.7%",
            "0.0%",
            "1.2%",
            "1.5%",
            "3.2%",
            "2.2%",
            "2.2%"
           ],
           [
            "1.1%",
            "2.9%",
            "0.0%",
            "1.2%",
            "1.6%",
            "4.2%",
            "3.5%",
            "3.5%"
           ],
           [
            "2019-04-01T00:00:00",
            "2018-12-24T00:00:00",
            null,
            "2018-12-18T00:00:00",
            "2019-03-25T00:00:00",
            "2019-03-28T00:00:00",
            "2019-03-25T00:00:00",
            "2019-03-25T00:00:00"
           ],
           [
            1.048,
            0.756,
            0,
            0.604,
            0.716,
            2.464,
            3.088,
            3.088
           ]
          ]
         },
         "header": {
          "align": [
           "left",
           "left",
           "left",
           "left",
           "left"
          ],
          "fill": {
           "color": "#C2D4FF"
          },
          "values": [
           "Ticker #",
           "Acquisition Date",
           "Ticker",
           "Unit Cost",
           "Cost Basis",
           "Ticker Adj Close",
           "Ticker Return",
           "SP Return",
           "Stock Gain / (Loss)",
           "Share YTD",
           "Closing High Adj Close",
           "Closing High Adj Close Date",
           "Pct off High",
           "Dividend Amt",
           "Share Yield",
           "Market Yield",
           "Current Yield",
           "Ex-Div. Date",
           "Latest Div Amt"
          ]
         },
         "type": "table"
        }
       ],
       "layout": {
        "template": {
         "data": {
          "bar": [
           {
            "error_x": {
             "color": "#2a3f5f"
            },
            "error_y": {
             "color": "#2a3f5f"
            },
            "marker": {
             "line": {
              "color": "#E5ECF6",
              "width": 0.5
             },
             "pattern": {
              "fillmode": "overlay",
              "size": 10,
              "solidity": 0.2
             }
            },
            "type": "bar"
           }
          ],
          "barpolar": [
           {
            "marker": {
             "line": {
              "color": "#E5ECF6",
              "width": 0.5
             },
             "pattern": {
              "fillmode": "overlay",
              "size": 10,
              "solidity": 0.2
             }
            },
            "type": "barpolar"
           }
          ],
          "carpet": [
           {
            "aaxis": {
             "endlinecolor": "#2a3f5f",
             "gridcolor": "white",
             "linecolor": "white",
             "minorgridcolor": "white",
             "startlinecolor": "#2a3f5f"
            },
            "baxis": {
             "endlinecolor": "#2a3f5f",
             "gridcolor": "white",
             "linecolor": "white",
             "minorgridcolor": "white",
             "startlinecolor": "#2a3f5f"
            },
            "type": "carpet"
           }
          ],
          "choropleth": [
           {
            "colorbar": {
             "outlinewidth": 0,
             "ticks": ""
            },
            "type": "choropleth"
           }
          ],
          "contour": [
           {
            "colorbar": {
             "outlinewidth": 0,
             "ticks": ""
            },
            "colorscale": [
             [
              0,
              "#0d0887"
             ],
             [
              0.1111111111111111,
              "#46039f"
             ],
             [
              0.2222222222222222,
              "#7201a8"
             ],
             [
              0.3333333333333333,
              "#9c179e"
             ],
             [
              0.4444444444444444,
              "#bd3786"
             ],
             [
              0.5555555555555556,
              "#d8576b"
             ],
             [
              0.6666666666666666,
              "#ed7953"
             ],
             [
              0.7777777777777778,
              "#fb9f3a"
             ],
             [
              0.8888888888888888,
              "#fdca26"
             ],
             [
              1,
              "#f0f921"
             ]
            ],
            "type": "contour"
           }
          ],
          "contourcarpet": [
           {
            "colorbar": {
             "outlinewidth": 0,
             "ticks": ""
            },
            "type": "contourcarpet"
           }
          ],
          "heatmap": [
           {
            "colorbar": {
             "outlinewidth": 0,
             "ticks": ""
            },
            "colorscale": [
             [
              0,
              "#0d0887"
             ],
             [
              0.1111111111111111,
              "#46039f"
             ],
             [
              0.2222222222222222,
              "#7201a8"
             ],
             [
              0.3333333333333333,
              "#9c179e"
             ],
             [
              0.4444444444444444,
              "#bd3786"
             ],
             [
              0.5555555555555556,
              "#d8576b"
             ],
             [
              0.6666666666666666,
              "#ed7953"
             ],
             [
              0.7777777777777778,
              "#fb9f3a"
             ],
             [
              0.8888888888888888,
              "#fdca26"
             ],
             [
              1,
              "#f0f921"
             ]
            ],
            "type": "heatmap"
           }
          ],
          "heatmapgl": [
           {
            "colorbar": {
             "outlinewidth": 0,
             "ticks": ""
            },
            "colorscale": [
             [
              0,
              "#0d0887"
             ],
             [
              0.1111111111111111,
              "#46039f"
             ],
             [
              0.2222222222222222,
              "#7201a8"
             ],
             [
              0.3333333333333333,
              "#9c179e"
             ],
             [
              0.4444444444444444,
              "#bd3786"
             ],
             [
              0.5555555555555556,
              "#d8576b"
             ],
             [
              0.6666666666666666,
              "#ed7953"
             ],
             [
              0.7777777777777778,
              "#fb9f3a"
             ],
             [
              0.8888888888888888,
              "#fdca26"
             ],
             [
              1,
              "#f0f921"
             ]
            ],
            "type": "heatmapgl"
           }
          ],
          "histogram": [
           {
            "marker": {
             "pattern": {
              "fillmode": "overlay",
              "size": 10,
              "solidity": 0.2
             }
            },
            "type": "histogram"
           }
          ],
          "histogram2d": [
           {
            "colorbar": {
             "outlinewidth": 0,
             "ticks": ""
            },
            "colorscale": [
             [
              0,
              "#0d0887"
             ],
             [
              0.1111111111111111,
              "#46039f"
             ],
             [
              0.2222222222222222,
              "#7201a8"
             ],
             [
              0.3333333333333333,
              "#9c179e"
             ],
             [
              0.4444444444444444,
              "#bd3786"
             ],
             [
              0.5555555555555556,
              "#d8576b"
             ],
             [
              0.6666666666666666,
              "#ed7953"
             ],
             [
              0.7777777777777778,
              "#fb9f3a"
             ],
             [
              0.8888888888888888,
              "#fdca26"
             ],
             [
              1,
              "#f0f921"
             ]
            ],
            "type": "histogram2d"
           }
          ],
          "histogram2dcontour": [
           {
            "colorbar": {
             "outlinewidth": 0,
             "ticks": ""
            },
            "colorscale": [
             [
              0,
              "#0d0887"
             ],
             [
              0.1111111111111111,
              "#46039f"
             ],
             [
              0.2222222222222222,
              "#7201a8"
             ],
             [
              0.3333333333333333,
              "#9c179e"
             ],
             [
              0.4444444444444444,
              "#bd3786"
             ],
             [
              0.5555555555555556,
              "#d8576b"
             ],
             [
              0.6666666666666666,
              "#ed7953"
             ],
             [
              0.7777777777777778,
              "#fb9f3a"
             ],
             [
              0.8888888888888888,
              "#fdca26"
             ],
             [
              1,
              "#f0f921"
             ]
            ],
            "type": "histogram2dcontour"
           }
          ],
          "mesh3d": [
           {
            "colorbar": {
             "outlinewidth": 0,
             "ticks": ""
            },
            "type": "mesh3d"
           }
          ],
          "parcoords": [
           {
            "line": {
             "colorbar": {
              "outlinewidth": 0,
              "ticks": ""
             }
            },
            "type": "parcoords"
           }
          ],
          "pie": [
           {
            "automargin": true,
            "type": "pie"
           }
          ],
          "scatter": [
           {
            "marker": {
             "colorbar": {
              "outlinewidth": 0,
              "ticks": ""
             }
            },
            "type": "scatter"
           }
          ],
          "scatter3d": [
           {
            "line": {
             "colorbar": {
              "outlinewidth": 0,
              "ticks": ""
             }
            },
            "marker": {
             "colorbar": {
              "outlinewidth": 0,
              "ticks": ""
             }
            },
            "type": "scatter3d"
           }
          ],
          "scattercarpet": [
           {
            "marker": {
             "colorbar": {
              "outlinewidth": 0,
              "ticks": ""
             }
            },
            "type": "scattercarpet"
           }
          ],
          "scattergeo": [
           {
            "marker": {
             "colorbar": {
              "outlinewidth": 0,
              "ticks": ""
             }
            },
            "type": "scattergeo"
           }
          ],
          "scattergl": [
           {
            "marker": {
             "colorbar": {
              "outlinewidth": 0,
              "ticks": ""
             }
            },
            "type": "scattergl"
           }
          ],
          "scattermapbox": [
           {
            "marker": {
             "colorbar": {
              "outlinewidth": 0,
              "ticks": ""
             }
            },
            "type": "scattermapbox"
           }
          ],
          "scatterpolar": [
           {
            "marker": {
             "colorbar": {
              "outlinewidth": 0,
              "ticks": ""
             }
            },
            "type": "scatterpolar"
           }
          ],
          "scatterpolargl": [
           {
            "marker": {
             "colorbar": {
              "outlinewidth": 0,
              "ticks": ""
             }
            },
            "type": "scatterpolargl"
           }
          ],
          "scatterternary": [
           {
            "marker": {
             "colorbar": {
              "outlinewidth": 0,
              "ticks": ""
             }
            },
            "type": "scatterternary"
           }
          ],
          "surface": [
           {
            "colorbar": {
             "outlinewidth": 0,
             "ticks": ""
            },
            "colorscale": [
             [
              0,
              "#0d0887"
             ],
             [
              0.1111111111111111,
              "#46039f"
             ],
             [
              0.2222222222222222,
              "#7201a8"
             ],
             [
              0.3333333333333333,
              "#9c179e"
             ],
             [
              0.4444444444444444,
              "#bd3786"
             ],
             [
              0.5555555555555556,
              "#d8576b"
             ],
             [
              0.6666666666666666,
              "#ed7953"
             ],
             [
              0.7777777777777778,
              "#fb9f3a"
             ],
             [
              0.8888888888888888,
              "#fdca26"
             ],
             [
              1,
              "#f0f921"
             ]
            ],
            "type": "surface"
           }
          ],
          "table": [
           {
            "cells": {
             "fill": {
              "color": "#EBF0F8"
             },
             "line": {
              "color": "white"
             }
            },
            "header": {
             "fill": {
              "color": "#C8D4E3"
             },
             "line": {
              "color": "white"
             }
            },
            "type": "table"
           }
          ]
         },
         "layout": {
          "annotationdefaults": {
           "arrowcolor": "#2a3f5f",
           "arrowhead": 0,
           "arrowwidth": 1
          },
          "autotypenumbers": "strict",
          "coloraxis": {
           "colorbar": {
            "outlinewidth": 0,
            "ticks": ""
           }
          },
          "colorscale": {
           "diverging": [
            [
             0,
             "#8e0152"
            ],
            [
             0.1,
             "#c51b7d"
            ],
            [
             0.2,
             "#de77ae"
            ],
            [
             0.3,
             "#f1b6da"
            ],
            [
             0.4,
             "#fde0ef"
            ],
            [
             0.5,
             "#f7f7f7"
            ],
            [
             0.6,
             "#e6f5d0"
            ],
            [
             0.7,
             "#b8e186"
            ],
            [
             0.8,
             "#7fbc41"
            ],
            [
             0.9,
             "#4d9221"
            ],
            [
             1,
             "#276419"
            ]
           ],
           "sequential": [
            [
             0,
             "#0d0887"
            ],
            [
             0.1111111111111111,
             "#46039f"
            ],
            [
             0.2222222222222222,
             "#7201a8"
            ],
            [
             0.3333333333333333,
             "#9c179e"
            ],
            [
             0.4444444444444444,
             "#bd3786"
            ],
            [
             0.5555555555555556,
             "#d8576b"
            ],
            [
             0.6666666666666666,
             "#ed7953"
            ],
            [
             0.7777777777777778,
             "#fb9f3a"
            ],
            [
             0.8888888888888888,
             "#fdca26"
            ],
            [
             1,
             "#f0f921"
            ]
           ],
           "sequentialminus": [
            [
             0,
             "#0d0887"
            ],
            [
             0.1111111111111111,
             "#46039f"
            ],
            [
             0.2222222222222222,
             "#7201a8"
            ],
            [
             0.3333333333333333,
             "#9c179e"
            ],
            [
             0.4444444444444444,
             "#bd3786"
            ],
            [
             0.5555555555555556,
             "#d8576b"
            ],
            [
             0.6666666666666666,
             "#ed7953"
            ],
            [
             0.7777777777777778,
             "#fb9f3a"
            ],
            [
             0.8888888888888888,
             "#fdca26"
            ],
            [
             1,
             "#f0f921"
            ]
           ]
          },
          "colorway": [
           "#636efa",
           "#EF553B",
           "#00cc96",
           "#ab63fa",
           "#FFA15A",
           "#19d3f3",
           "#FF6692",
           "#B6E880",
           "#FF97FF",
           "#FECB52"
          ],
          "font": {
           "color": "#2a3f5f"
          },
          "geo": {
           "bgcolor": "white",
           "lakecolor": "white",
           "landcolor": "#E5ECF6",
           "showlakes": true,
           "showland": true,
           "subunitcolor": "white"
          },
          "hoverlabel": {
           "align": "left"
          },
          "hovermode": "closest",
          "mapbox": {
           "style": "light"
          },
          "paper_bgcolor": "white",
          "plot_bgcolor": "#E5ECF6",
          "polar": {
           "angularaxis": {
            "gridcolor": "white",
            "linecolor": "white",
            "ticks": ""
           },
           "bgcolor": "#E5ECF6",
           "radialaxis": {
            "gridcolor": "white",
            "linecolor": "white",
            "ticks": ""
           }
          },
          "scene": {
           "xaxis": {
            "backgroundcolor": "#E5ECF6",
            "gridcolor": "white",
            "gridwidth": 2,
            "linecolor": "white",
            "showbackground": true,
            "ticks": "",
            "zerolinecolor": "white"
           },
           "yaxis": {
            "backgroundcolor": "#E5ECF6",
            "gridcolor": "white",
            "gridwidth": 2,
            "linecolor": "white",
            "showbackground": true,
            "ticks": "",
            "zerolinecolor": "white"
           },
           "zaxis": {
            "backgroundcolor": "#E5ECF6",
            "gridcolor": "white",
            "gridwidth": 2,
            "linecolor": "white",
            "showbackground": true,
            "ticks": "",
            "zerolinecolor": "white"
           }
          },
          "shapedefaults": {
           "line": {
            "color": "#2a3f5f"
           }
          },
          "ternary": {
           "aaxis": {
            "gridcolor": "white",
            "linecolor": "white",
            "ticks": ""
           },
           "baxis": {
            "gridcolor": "white",
            "linecolor": "white",
            "ticks": ""
           },
           "bgcolor": "#E5ECF6",
           "caxis": {
            "gridcolor": "white",
            "linecolor": "white",
            "ticks": ""
           }
          },
          "title": {
           "x": 0.05
          },
          "xaxis": {
           "automargin": true,
           "gridcolor": "white",
           "linecolor": "white",
           "ticks": "",
           "title": {
            "standoff": 15
           },
           "zerolinecolor": "white",
           "zerolinewidth": 2
          },
          "yaxis": {
           "automargin": true,
           "gridcolor": "white",
           "linecolor": "white",
           "ticks": "",
           "title": {
            "standoff": 15
           },
           "zerolinecolor": "white",
           "zerolinewidth": 2
          }
         }
        }
       }
      },
      "text/html": [
       "<div>                            <div id=\"601bbe3f-3b7b-4784-8519-0461b046219a\" class=\"plotly-graph-div\" style=\"height:525px; width:100%;\"></div>            <script type=\"text/javascript\">                require([\"plotly\"], function(Plotly) {                    window.PLOTLYENV=window.PLOTLYENV || {};                                    if (document.getElementById(\"601bbe3f-3b7b-4784-8519-0461b046219a\")) {                    Plotly.newPlot(                        \"601bbe3f-3b7b-4784-8519-0461b046219a\",                        [{\"cells\":{\"align\":[\"left\",\"left\",\"left\",\"left\",\"left\"],\"fill\":{\"color\":\"#F5F8FF\"},\"height\":40,\"values\":[[\"AGG 0\",\"DBC 1\",\"IAU 2\",\"IGOV 3\",\"VEU 4\",\"VNQ 5\",\"VTI 6\",\"VTI 7\"],[\"2014-04-21T00:00:00\",\"2014-04-21T00:00:00\",\"2014-04-21T00:00:00\",\"2014-04-21T00:00:00\",\"2014-04-21T00:00:00\",\"2014-04-21T00:00:00\",\"2014-04-21T00:00:00\",\"2014-05-05T00:00:00\"],[\"AGG\",\"DBC\",\"IAU\",\"IGOV\",\"VEU\",\"VNQ\",\"VTI\",\"VTI\"],[95.72,26.21,12.51,50.72,43.92,58.28,88.2,88.67],[2393.0,576.62,625.5,405.76,4611.6,641.08,6350.4,2837.44],[101.523,15.954,24.44,48.433,47.527,77.089,141.383,141.383],[\"6.1%\",\"-39.1%\",\"95.4%\",\"-4.5%\",\"8.2%\",\"32.3%\",\"60.3%\",\"59.4%\"],[\"55.2%\",\"55.2%\",\"55.2%\",\"55.2%\",\"55.2%\",\"55.2%\",\"55.2%\",\"54.1%\"],[145.085,-225.623,596.5,-18.298,378.761,206.894,3829.165,1686.811],[\"2.4%\",\"11.9%\",\"-0.6%\",\"0.6%\",\"13.9%\",\"15.5%\",\"16.8%\",\"16.8%\"],[102.113,26.156,26.36,51.579,52.347,79.397,141.99,141.99],[\"2019-03-28T00:00:00\",\"2014-06-20T00:00:00\",\"2016-07-08T00:00:00\",\"2018-03-26T00:00:00\",\"2018-01-26T00:00:00\",\"2019-04-12T00:00:00\",\"2018-09-20T00:00:00\",\"2018-09-20T00:00:00\"],[\"-0.6%\",\"-39.0%\",\"-7.3%\",\"-6.1%\",\"-9.2%\",\"-2.9%\",\"-0.4%\",\"-0.4%\"],[302.25,4.158,0.0,15.469,731.85,189.497,824.184,366.304],[\"12.6%\",\"0.7%\",\"0.0%\",\"3.8%\",\"15.9%\",\"29.6%\",\"13.0%\",\"12.9%\"],[\"1.0%\",\"4.7%\",\"0.0%\",\"1.2%\",\"1.5%\",\"3.2%\",\"2.2%\",\"2.2%\"],[\"1.1%\",\"2.9%\",\"0.0%\",\"1.2%\",\"1.6%\",\"4.2%\",\"3.5%\",\"3.5%\"],[\"2019-04-01T00:00:00\",\"2018-12-24T00:00:00\",null,\"2018-12-18T00:00:00\",\"2019-03-25T00:00:00\",\"2019-03-28T00:00:00\",\"2019-03-25T00:00:00\",\"2019-03-25T00:00:00\"],[1.048,0.756,0.0,0.604,0.716,2.464,3.088,3.088]]},\"header\":{\"align\":[\"left\",\"left\",\"left\",\"left\",\"left\"],\"fill\":{\"color\":\"#C2D4FF\"},\"values\":[\"Ticker #\",\"Acquisition Date\",\"Ticker\",\"Unit Cost\",\"Cost Basis\",\"Ticker Adj Close\",\"Ticker Return\",\"SP Return\",\"Stock Gain / (Loss)\",\"Share YTD\",\"Closing High Adj Close\",\"Closing High Adj Close Date\",\"Pct off High\",\"Dividend Amt\",\"Share Yield\",\"Market Yield\",\"Current Yield\",\"Ex-Div. Date\",\"Latest Div Amt\"]},\"type\":\"table\"}],                        {\"template\":{\"data\":{\"barpolar\":[{\"marker\":{\"line\":{\"color\":\"#E5ECF6\",\"width\":0.5},\"pattern\":{\"fillmode\":\"overlay\",\"size\":10,\"solidity\":0.2}},\"type\":\"barpolar\"}],\"bar\":[{\"error_x\":{\"color\":\"#2a3f5f\"},\"error_y\":{\"color\":\"#2a3f5f\"},\"marker\":{\"line\":{\"color\":\"#E5ECF6\",\"width\":0.5},\"pattern\":{\"fillmode\":\"overlay\",\"size\":10,\"solidity\":0.2}},\"type\":\"bar\"}],\"carpet\":[{\"aaxis\":{\"endlinecolor\":\"#2a3f5f\",\"gridcolor\":\"white\",\"linecolor\":\"white\",\"minorgridcolor\":\"white\",\"startlinecolor\":\"#2a3f5f\"},\"baxis\":{\"endlinecolor\":\"#2a3f5f\",\"gridcolor\":\"white\",\"linecolor\":\"white\",\"minorgridcolor\":\"white\",\"startlinecolor\":\"#2a3f5f\"},\"type\":\"carpet\"}],\"choropleth\":[{\"colorbar\":{\"outlinewidth\":0,\"ticks\":\"\"},\"type\":\"choropleth\"}],\"contourcarpet\":[{\"colorbar\":{\"outlinewidth\":0,\"ticks\":\"\"},\"type\":\"contourcarpet\"}],\"contour\":[{\"colorbar\":{\"outlinewidth\":0,\"ticks\":\"\"},\"colorscale\":[[0.0,\"#0d0887\"],[0.1111111111111111,\"#46039f\"],[0.2222222222222222,\"#7201a8\"],[0.3333333333333333,\"#9c179e\"],[0.4444444444444444,\"#bd3786\"],[0.5555555555555556,\"#d8576b\"],[0.6666666666666666,\"#ed7953\"],[0.7777777777777778,\"#fb9f3a\"],[0.8888888888888888,\"#fdca26\"],[1.0,\"#f0f921\"]],\"type\":\"contour\"}],\"heatmapgl\":[{\"colorbar\":{\"outlinewidth\":0,\"ticks\":\"\"},\"colorscale\":[[0.0,\"#0d0887\"],[0.1111111111111111,\"#46039f\"],[0.2222222222222222,\"#7201a8\"],[0.3333333333333333,\"#9c179e\"],[0.4444444444444444,\"#bd3786\"],[0.5555555555555556,\"#d8576b\"],[0.6666666666666666,\"#ed7953\"],[0.7777777777777778,\"#fb9f3a\"],[0.8888888888888888,\"#fdca26\"],[1.0,\"#f0f921\"]],\"type\":\"heatmapgl\"}],\"heatmap\":[{\"colorbar\":{\"outlinewidth\":0,\"ticks\":\"\"},\"colorscale\":[[0.0,\"#0d0887\"],[0.1111111111111111,\"#46039f\"],[0.2222222222222222,\"#7201a8\"],[0.3333333333333333,\"#9c179e\"],[0.4444444444444444,\"#bd3786\"],[0.5555555555555556,\"#d8576b\"],[0.6666666666666666,\"#ed7953\"],[0.7777777777777778,\"#fb9f3a\"],[0.8888888888888888,\"#fdca26\"],[1.0,\"#f0f921\"]],\"type\":\"heatmap\"}],\"histogram2dcontour\":[{\"colorbar\":{\"outlinewidth\":0,\"ticks\":\"\"},\"colorscale\":[[0.0,\"#0d0887\"],[0.1111111111111111,\"#46039f\"],[0.2222222222222222,\"#7201a8\"],[0.3333333333333333,\"#9c179e\"],[0.4444444444444444,\"#bd3786\"],[0.5555555555555556,\"#d8576b\"],[0.6666666666666666,\"#ed7953\"],[0.7777777777777778,\"#fb9f3a\"],[0.8888888888888888,\"#fdca26\"],[1.0,\"#f0f921\"]],\"type\":\"histogram2dcontour\"}],\"histogram2d\":[{\"colorbar\":{\"outlinewidth\":0,\"ticks\":\"\"},\"colorscale\":[[0.0,\"#0d0887\"],[0.1111111111111111,\"#46039f\"],[0.2222222222222222,\"#7201a8\"],[0.3333333333333333,\"#9c179e\"],[0.4444444444444444,\"#bd3786\"],[0.5555555555555556,\"#d8576b\"],[0.6666666666666666,\"#ed7953\"],[0.7777777777777778,\"#fb9f3a\"],[0.8888888888888888,\"#fdca26\"],[1.0,\"#f0f921\"]],\"type\":\"histogram2d\"}],\"histogram\":[{\"marker\":{\"pattern\":{\"fillmode\":\"overlay\",\"size\":10,\"solidity\":0.2}},\"type\":\"histogram\"}],\"mesh3d\":[{\"colorbar\":{\"outlinewidth\":0,\"ticks\":\"\"},\"type\":\"mesh3d\"}],\"parcoords\":[{\"line\":{\"colorbar\":{\"outlinewidth\":0,\"ticks\":\"\"}},\"type\":\"parcoords\"}],\"pie\":[{\"automargin\":true,\"type\":\"pie\"}],\"scatter3d\":[{\"line\":{\"colorbar\":{\"outlinewidth\":0,\"ticks\":\"\"}},\"marker\":{\"colorbar\":{\"outlinewidth\":0,\"ticks\":\"\"}},\"type\":\"scatter3d\"}],\"scattercarpet\":[{\"marker\":{\"colorbar\":{\"outlinewidth\":0,\"ticks\":\"\"}},\"type\":\"scattercarpet\"}],\"scattergeo\":[{\"marker\":{\"colorbar\":{\"outlinewidth\":0,\"ticks\":\"\"}},\"type\":\"scattergeo\"}],\"scattergl\":[{\"marker\":{\"colorbar\":{\"outlinewidth\":0,\"ticks\":\"\"}},\"type\":\"scattergl\"}],\"scattermapbox\":[{\"marker\":{\"colorbar\":{\"outlinewidth\":0,\"ticks\":\"\"}},\"type\":\"scattermapbox\"}],\"scatterpolargl\":[{\"marker\":{\"colorbar\":{\"outlinewidth\":0,\"ticks\":\"\"}},\"type\":\"scatterpolargl\"}],\"scatterpolar\":[{\"marker\":{\"colorbar\":{\"outlinewidth\":0,\"ticks\":\"\"}},\"type\":\"scatterpolar\"}],\"scatter\":[{\"marker\":{\"colorbar\":{\"outlinewidth\":0,\"ticks\":\"\"}},\"type\":\"scatter\"}],\"scatterternary\":[{\"marker\":{\"colorbar\":{\"outlinewidth\":0,\"ticks\":\"\"}},\"type\":\"scatterternary\"}],\"surface\":[{\"colorbar\":{\"outlinewidth\":0,\"ticks\":\"\"},\"colorscale\":[[0.0,\"#0d0887\"],[0.1111111111111111,\"#46039f\"],[0.2222222222222222,\"#7201a8\"],[0.3333333333333333,\"#9c179e\"],[0.4444444444444444,\"#bd3786\"],[0.5555555555555556,\"#d8576b\"],[0.6666666666666666,\"#ed7953\"],[0.7777777777777778,\"#fb9f3a\"],[0.8888888888888888,\"#fdca26\"],[1.0,\"#f0f921\"]],\"type\":\"surface\"}],\"table\":[{\"cells\":{\"fill\":{\"color\":\"#EBF0F8\"},\"line\":{\"color\":\"white\"}},\"header\":{\"fill\":{\"color\":\"#C8D4E3\"},\"line\":{\"color\":\"white\"}},\"type\":\"table\"}]},\"layout\":{\"annotationdefaults\":{\"arrowcolor\":\"#2a3f5f\",\"arrowhead\":0,\"arrowwidth\":1},\"autotypenumbers\":\"strict\",\"coloraxis\":{\"colorbar\":{\"outlinewidth\":0,\"ticks\":\"\"}},\"colorscale\":{\"diverging\":[[0,\"#8e0152\"],[0.1,\"#c51b7d\"],[0.2,\"#de77ae\"],[0.3,\"#f1b6da\"],[0.4,\"#fde0ef\"],[0.5,\"#f7f7f7\"],[0.6,\"#e6f5d0\"],[0.7,\"#b8e186\"],[0.8,\"#7fbc41\"],[0.9,\"#4d9221\"],[1,\"#276419\"]],\"sequential\":[[0.0,\"#0d0887\"],[0.1111111111111111,\"#46039f\"],[0.2222222222222222,\"#7201a8\"],[0.3333333333333333,\"#9c179e\"],[0.4444444444444444,\"#bd3786\"],[0.5555555555555556,\"#d8576b\"],[0.6666666666666666,\"#ed7953\"],[0.7777777777777778,\"#fb9f3a\"],[0.8888888888888888,\"#fdca26\"],[1.0,\"#f0f921\"]],\"sequentialminus\":[[0.0,\"#0d0887\"],[0.1111111111111111,\"#46039f\"],[0.2222222222222222,\"#7201a8\"],[0.3333333333333333,\"#9c179e\"],[0.4444444444444444,\"#bd3786\"],[0.5555555555555556,\"#d8576b\"],[0.6666666666666666,\"#ed7953\"],[0.7777777777777778,\"#fb9f3a\"],[0.8888888888888888,\"#fdca26\"],[1.0,\"#f0f921\"]]},\"colorway\":[\"#636efa\",\"#EF553B\",\"#00cc96\",\"#ab63fa\",\"#FFA15A\",\"#19d3f3\",\"#FF6692\",\"#B6E880\",\"#FF97FF\",\"#FECB52\"],\"font\":{\"color\":\"#2a3f5f\"},\"geo\":{\"bgcolor\":\"white\",\"lakecolor\":\"white\",\"landcolor\":\"#E5ECF6\",\"showlakes\":true,\"showland\":true,\"subunitcolor\":\"white\"},\"hoverlabel\":{\"align\":\"left\"},\"hovermode\":\"closest\",\"mapbox\":{\"style\":\"light\"},\"paper_bgcolor\":\"white\",\"plot_bgcolor\":\"#E5ECF6\",\"polar\":{\"angularaxis\":{\"gridcolor\":\"white\",\"linecolor\":\"white\",\"ticks\":\"\"},\"bgcolor\":\"#E5ECF6\",\"radialaxis\":{\"gridcolor\":\"white\",\"linecolor\":\"white\",\"ticks\":\"\"}},\"scene\":{\"xaxis\":{\"backgroundcolor\":\"#E5ECF6\",\"gridcolor\":\"white\",\"gridwidth\":2,\"linecolor\":\"white\",\"showbackground\":true,\"ticks\":\"\",\"zerolinecolor\":\"white\"},\"yaxis\":{\"backgroundcolor\":\"#E5ECF6\",\"gridcolor\":\"white\",\"gridwidth\":2,\"linecolor\":\"white\",\"showbackground\":true,\"ticks\":\"\",\"zerolinecolor\":\"white\"},\"zaxis\":{\"backgroundcolor\":\"#E5ECF6\",\"gridcolor\":\"white\",\"gridwidth\":2,\"linecolor\":\"white\",\"showbackground\":true,\"ticks\":\"\",\"zerolinecolor\":\"white\"}},\"shapedefaults\":{\"line\":{\"color\":\"#2a3f5f\"}},\"ternary\":{\"aaxis\":{\"gridcolor\":\"white\",\"linecolor\":\"white\",\"ticks\":\"\"},\"baxis\":{\"gridcolor\":\"white\",\"linecolor\":\"white\",\"ticks\":\"\"},\"bgcolor\":\"#E5ECF6\",\"caxis\":{\"gridcolor\":\"white\",\"linecolor\":\"white\",\"ticks\":\"\"}},\"title\":{\"x\":0.05},\"xaxis\":{\"automargin\":true,\"gridcolor\":\"white\",\"linecolor\":\"white\",\"ticks\":\"\",\"title\":{\"standoff\":15},\"zerolinecolor\":\"white\",\"zerolinewidth\":2},\"yaxis\":{\"automargin\":true,\"gridcolor\":\"white\",\"linecolor\":\"white\",\"ticks\":\"\",\"title\":{\"standoff\":15},\"zerolinecolor\":\"white\",\"zerolinewidth\":2}}}},                        {\"responsive\": true}                    ).then(function(){\n",
       "                            \n",
       "var gd = document.getElementById('601bbe3f-3b7b-4784-8519-0461b046219a');\n",
       "var x = new MutationObserver(function (mutations, observer) {{\n",
       "        var display = window.getComputedStyle(gd).display;\n",
       "        if (!display || display === 'none') {{\n",
       "            console.log([gd, 'removed!']);\n",
       "            Plotly.purge(gd);\n",
       "            observer.disconnect();\n",
       "        }}\n",
       "}});\n",
       "\n",
       "// Listen for the removal of the full notebook cells\n",
       "var notebookContainer = gd.closest('#notebook-container');\n",
       "if (notebookContainer) {{\n",
       "    x.observe(notebookContainer, {childList: true});\n",
       "}}\n",
       "\n",
       "// Listen for the clearing of the current output cell\n",
       "var outputEl = gd.closest('.output');\n",
       "if (outputEl) {{\n",
       "    x.observe(outputEl, {childList: true});\n",
       "}}\n",
       "\n",
       "                        })                };                });            </script>        </div>"
      ]
     },
     "metadata": {},
     "output_type": "display_data"
    }
   ],
   "source": [
    "# https://plot.ly/python/table/#use-a-pandas-dataframe\n",
    "\n",
    "trace = go.Table(\n",
    "    header=dict(values=list(merged_portfolio_sp_latest_YTD_sp_closing_high_incl_divs_summary.columns),\n",
    "                fill = dict(color='#C2D4FF'),\n",
    "                align = ['left'] * 5),\n",
    "    cells=dict(values=[merged_portfolio_sp_latest_YTD_sp_closing_high_incl_divs_summary['Ticker #'],\n",
    "                       merged_portfolio_sp_latest_YTD_sp_closing_high_incl_divs_summary['Acquisition Date'],\n",
    "                       merged_portfolio_sp_latest_YTD_sp_closing_high_incl_divs_summary['Ticker'],\n",
    "                       merged_portfolio_sp_latest_YTD_sp_closing_high_incl_divs_summary['Unit Cost'],\n",
    "                       merged_portfolio_sp_latest_YTD_sp_closing_high_incl_divs_summary['Cost Basis'],\n",
    "                       merged_portfolio_sp_latest_YTD_sp_closing_high_incl_divs_summary['Ticker Adj Close'],\n",
    "                       merged_portfolio_sp_latest_YTD_sp_closing_high_incl_divs_summary['Ticker Return'],\n",
    "                       merged_portfolio_sp_latest_YTD_sp_closing_high_incl_divs_summary['SP Return'],\n",
    "                       merged_portfolio_sp_latest_YTD_sp_closing_high_incl_divs_summary['Stock Gain / (Loss)'],\n",
    "                       merged_portfolio_sp_latest_YTD_sp_closing_high_incl_divs_summary['Share YTD'],\n",
    "                       merged_portfolio_sp_latest_YTD_sp_closing_high_incl_divs_summary['Closing High Adj Close'],\n",
    "                       merged_portfolio_sp_latest_YTD_sp_closing_high_incl_divs_summary['Closing High Adj Close Date'],\n",
    "                       merged_portfolio_sp_latest_YTD_sp_closing_high_incl_divs_summary['Pct off High'],\n",
    "                       merged_portfolio_sp_latest_YTD_sp_closing_high_incl_divs_summary['Dividend Amt'],\n",
    "                       merged_portfolio_sp_latest_YTD_sp_closing_high_incl_divs_summary['Share Yield'],\n",
    "                       merged_portfolio_sp_latest_YTD_sp_closing_high_incl_divs_summary['Market Yield'],\n",
    "                       merged_portfolio_sp_latest_YTD_sp_closing_high_incl_divs_summary['Current Yield'],\n",
    "                       merged_portfolio_sp_latest_YTD_sp_closing_high_incl_divs_summary['Ex-Div. Date'],\n",
    "                       merged_portfolio_sp_latest_YTD_sp_closing_high_incl_divs_summary['Latest Div Amt']\n",
    "                      ],\n",
    "               fill = dict(color='#F5F8FF'),\n",
    "               align = ['left'] * 5,\n",
    "                height = 40))\n",
    "\n",
    "data = [trace] \n",
    "iplot(data)"
   ]
  },
  {
   "cell_type": "markdown",
   "metadata": {},
   "source": [
    "## Data Outputs"
   ]
  },
  {
   "cell_type": "code",
   "execution_count": 128,
   "metadata": {},
   "outputs": [],
   "source": [
    "# Generate the base file that will be used for Dash dashboard.\n",
    "\n",
    "# merged_portfolio_sp_latest_YTD_sp_closing_high.to_csv('analyzed_portfolio.csv')\n",
    "\n",
    "merged_portfolio_sp_latest_YTD_sp_closing_high_incl_divs.to_csv('analyzed_portfolio.csv')"
   ]
  },
  {
   "cell_type": "code",
   "execution_count": 129,
   "metadata": {},
   "outputs": [],
   "source": [
    "merged_portfolio_sp_latest_YTD_sp_closing_high.head()\n",
    "\n",
    "merged_portfolio_sp_latest_YTD_sp_closing_high_tickers = merged_portfolio_sp_latest_YTD_sp_closing_high[['Ticker']]\n",
    "\n",
    "merged_portfolio_sp_latest_YTD_sp_closing_high_tickers = merged_portfolio_sp_latest_YTD_sp_closing_high_tickers.drop_duplicates(['Ticker'], keep='first')\n",
    "\n",
    "merged_portfolio_sp_latest_YTD_sp_closing_high_tickers = merged_portfolio_sp_latest_YTD_sp_closing_high_tickers['Ticker'].unique()\n",
    "\n",
    "merged_portfolio_sp_latest_YTD_sp_closing_high_tickers = merged_portfolio_sp_latest_YTD_sp_closing_high_tickers.tolist()\n",
    "\n",
    "# Appending SPY for comparisons to existing positions in initial interactive chart.\n",
    "tickers_append = ['SPY']\n",
    "\n",
    "merged_portfolio_sp_latest_YTD_sp_closing_high_tickers.extend(tickers_append)\n",
    "\n",
    "merged_portfolio_sp_latest_YTD_sp_closing_high_tickers = pd.DataFrame(data=merged_portfolio_sp_latest_YTD_sp_closing_high_tickers, columns=['Ticker'])\n",
    "\n",
    "merged_portfolio_sp_latest_YTD_sp_closing_high_tickers.sort_values(by='Ticker', ascending=True, inplace=True)\n",
    "\n",
    "merged_portfolio_sp_latest_YTD_sp_closing_high_tickers.head()\n",
    "\n",
    "merged_portfolio_sp_latest_YTD_sp_closing_high_tickers.to_csv('tickers.csv')"
   ]
  },
  {
   "cell_type": "code",
   "execution_count": 130,
   "metadata": {},
   "outputs": [],
   "source": [
    "# Generate the file for the comparison of target % allocation relative to actual allocation.\n",
    "merged_portfolio_sp_latest_YTD_sp_contr_subset_pivot.to_csv('allocation.csv')"
   ]
  },
  {
   "cell_type": "code",
   "execution_count": 131,
   "metadata": {},
   "outputs": [],
   "source": [
    "merged_portfolio_sp_latest_YTD_sp_closing_high_incl_divs_summary.to_csv('data_summary.csv', index=False)"
   ]
  },
  {
   "cell_type": "code",
   "execution_count": 132,
   "metadata": {},
   "outputs": [],
   "source": [
    "merged_portfolio_sp_latest_YTD_sp_closing_high_incl_divs_all_payers = merged_portfolio_sp_latest_YTD_sp_closing_high_incl_divs[merged_portfolio_sp_latest_YTD_sp_closing_high_incl_divs['Dividend Amt']>0]\n",
    "\n",
    "# merged_portfolio_sp_latest_YTD_sp_closing_high_incl_divs_all_payers.head()\n",
    "\n",
    "merged_portfolio_sp_latest_YTD_sp_closing_high_incl_divs_all_payers.to_csv('analyzed_portfolio_divs_only.csv', index=False)"
   ]
  },
  {
   "cell_type": "markdown",
   "metadata": {},
   "source": [
    "## Dividend Visualizations"
   ]
  },
  {
   "cell_type": "code",
   "execution_count": 133,
   "metadata": {},
   "outputs": [
    {
     "data": {
      "text/html": [
       "<div>\n",
       "<style scoped>\n",
       "    .dataframe tbody tr th:only-of-type {\n",
       "        vertical-align: middle;\n",
       "    }\n",
       "\n",
       "    .dataframe tbody tr th {\n",
       "        vertical-align: top;\n",
       "    }\n",
       "\n",
       "    .dataframe thead th {\n",
       "        text-align: right;\n",
       "    }\n",
       "</style>\n",
       "<table border=\"1\" class=\"dataframe\">\n",
       "  <thead>\n",
       "    <tr style=\"text-align: right;\">\n",
       "      <th></th>\n",
       "      <th>Acquisition Date</th>\n",
       "      <th>Position</th>\n",
       "      <th>Ticker</th>\n",
       "      <th>Quantity</th>\n",
       "      <th>Unit Cost</th>\n",
       "      <th>Cost Basis</th>\n",
       "      <th>Start of Year</th>\n",
       "      <th>Target_Alloc</th>\n",
       "      <th>Comments</th>\n",
       "      <th>Counts</th>\n",
       "      <th>...</th>\n",
       "      <th>Total SP500 Gain / (Loss)</th>\n",
       "      <th>Total Stock Return</th>\n",
       "      <th>Total SP500 Return</th>\n",
       "      <th>Share Yield</th>\n",
       "      <th>Cum Total SP Returns</th>\n",
       "      <th>Cum Stock Returns</th>\n",
       "      <th>Market Yield</th>\n",
       "      <th>Current Yield</th>\n",
       "      <th>Cum SP Returns Pct</th>\n",
       "      <th>Cum Ticker Returns Pct</th>\n",
       "    </tr>\n",
       "  </thead>\n",
       "  <tbody>\n",
       "    <tr>\n",
       "      <th>0</th>\n",
       "      <td>2014-04-21</td>\n",
       "      <td>iShares Core US Aggregate Bond ETF (AGG)</td>\n",
       "      <td>AGG</td>\n",
       "      <td>25</td>\n",
       "      <td>95.72</td>\n",
       "      <td>2393.00</td>\n",
       "      <td>2018-12-31</td>\n",
       "      <td>0.127</td>\n",
       "      <td>0.0</td>\n",
       "      <td>0</td>\n",
       "      <td>...</td>\n",
       "      <td>1604.553493</td>\n",
       "      <td>0.186935</td>\n",
       "      <td>0.670520</td>\n",
       "      <td>0.126306</td>\n",
       "      <td>3997.553493</td>\n",
       "      <td>2840.335365</td>\n",
       "      <td>0.010323</td>\n",
       "      <td>0.010949</td>\n",
       "      <td>0.670520</td>\n",
       "      <td>0.186935</td>\n",
       "    </tr>\n",
       "    <tr>\n",
       "      <th>1</th>\n",
       "      <td>2014-04-21</td>\n",
       "      <td>Invesco DB Commodity Tracking (DBC)</td>\n",
       "      <td>DBC</td>\n",
       "      <td>22</td>\n",
       "      <td>26.21</td>\n",
       "      <td>576.62</td>\n",
       "      <td>2018-12-31</td>\n",
       "      <td>0.033</td>\n",
       "      <td>0.0</td>\n",
       "      <td>1</td>\n",
       "      <td>...</td>\n",
       "      <td>386.635034</td>\n",
       "      <td>-0.384074</td>\n",
       "      <td>0.670520</td>\n",
       "      <td>0.007211</td>\n",
       "      <td>4960.808527</td>\n",
       "      <td>3195.490649</td>\n",
       "      <td>0.047385</td>\n",
       "      <td>0.028844</td>\n",
       "      <td>0.670520</td>\n",
       "      <td>0.076060</td>\n",
       "    </tr>\n",
       "    <tr>\n",
       "      <th>2</th>\n",
       "      <td>2014-04-21</td>\n",
       "      <td>iShares Gold Trust (IAU)</td>\n",
       "      <td>IAU</td>\n",
       "      <td>50</td>\n",
       "      <td>12.51</td>\n",
       "      <td>625.50</td>\n",
       "      <td>2018-12-31</td>\n",
       "      <td>0.033</td>\n",
       "      <td>0.0</td>\n",
       "      <td>2</td>\n",
       "      <td>...</td>\n",
       "      <td>345.228125</td>\n",
       "      <td>0.953637</td>\n",
       "      <td>0.551923</td>\n",
       "      <td>0.000000</td>\n",
       "      <td>5931.536651</td>\n",
       "      <td>4417.490676</td>\n",
       "      <td>0.000000</td>\n",
       "      <td>0.000000</td>\n",
       "      <td>0.649886</td>\n",
       "      <td>0.228746</td>\n",
       "    </tr>\n",
       "    <tr>\n",
       "      <th>3</th>\n",
       "      <td>2014-04-21</td>\n",
       "      <td>iShares International Treasury Bond ETF (IGOV)</td>\n",
       "      <td>IGOV</td>\n",
       "      <td>8</td>\n",
       "      <td>50.72</td>\n",
       "      <td>405.76</td>\n",
       "      <td>2018-12-31</td>\n",
       "      <td>0.023</td>\n",
       "      <td>0.0</td>\n",
       "      <td>3</td>\n",
       "      <td>...</td>\n",
       "      <td>272.070048</td>\n",
       "      <td>-0.006971</td>\n",
       "      <td>0.670520</td>\n",
       "      <td>0.038125</td>\n",
       "      <td>6609.366700</td>\n",
       "      <td>4820.422245</td>\n",
       "      <td>0.012470</td>\n",
       "      <td>0.011907</td>\n",
       "      <td>0.651978</td>\n",
       "      <td>0.204840</td>\n",
       "    </tr>\n",
       "    <tr>\n",
       "      <th>4</th>\n",
       "      <td>2014-04-21</td>\n",
       "      <td>Vanguard FTSE All-Wld ex-US ETF (VEU)</td>\n",
       "      <td>VEU</td>\n",
       "      <td>105</td>\n",
       "      <td>43.92</td>\n",
       "      <td>4611.60</td>\n",
       "      <td>2018-12-31</td>\n",
       "      <td>0.250</td>\n",
       "      <td>0.0</td>\n",
       "      <td>4</td>\n",
       "      <td>...</td>\n",
       "      <td>3092.168362</td>\n",
       "      <td>0.240830</td>\n",
       "      <td>0.670520</td>\n",
       "      <td>0.158698</td>\n",
       "      <td>14313.135061</td>\n",
       "      <td>10542.632925</td>\n",
       "      <td>0.015065</td>\n",
       "      <td>0.016302</td>\n",
       "      <td>0.661906</td>\n",
       "      <td>0.224111</td>\n",
       "    </tr>\n",
       "    <tr>\n",
       "      <th>5</th>\n",
       "      <td>2014-04-21</td>\n",
       "      <td>Vanguard Real Estate ETF (VNQ)</td>\n",
       "      <td>VNQ</td>\n",
       "      <td>11</td>\n",
       "      <td>58.28</td>\n",
       "      <td>641.08</td>\n",
       "      <td>2018-12-31</td>\n",
       "      <td>0.034</td>\n",
       "      <td>0.0</td>\n",
       "      <td>5</td>\n",
       "      <td>...</td>\n",
       "      <td>429.856729</td>\n",
       "      <td>0.618318</td>\n",
       "      <td>0.670520</td>\n",
       "      <td>0.295590</td>\n",
       "      <td>15384.071791</td>\n",
       "      <td>11580.104191</td>\n",
       "      <td>0.031963</td>\n",
       "      <td>0.042279</td>\n",
       "      <td>0.662503</td>\n",
       "      <td>0.251422</td>\n",
       "    </tr>\n",
       "    <tr>\n",
       "      <th>6</th>\n",
       "      <td>2014-04-21</td>\n",
       "      <td>Vanguard Total Stock Market ETF (VTI)</td>\n",
       "      <td>VTI</td>\n",
       "      <td>72</td>\n",
       "      <td>88.20</td>\n",
       "      <td>6350.40</td>\n",
       "      <td>2018-12-31</td>\n",
       "      <td>0.500</td>\n",
       "      <td>0.0</td>\n",
       "      <td>6</td>\n",
       "      <td>...</td>\n",
       "      <td>4258.067908</td>\n",
       "      <td>0.732765</td>\n",
       "      <td>0.670520</td>\n",
       "      <td>0.129785</td>\n",
       "      <td>25992.539699</td>\n",
       "      <td>22583.852888</td>\n",
       "      <td>0.021841</td>\n",
       "      <td>0.035011</td>\n",
       "      <td>0.665766</td>\n",
       "      <td>0.447315</td>\n",
       "    </tr>\n",
       "    <tr>\n",
       "      <th>7</th>\n",
       "      <td>2014-05-05</td>\n",
       "      <td>Vanguard Total Stock Market ETF (VTI)</td>\n",
       "      <td>VTI</td>\n",
       "      <td>32</td>\n",
       "      <td>88.67</td>\n",
       "      <td>2837.44</td>\n",
       "      <td>2018-12-31</td>\n",
       "      <td>0.500</td>\n",
       "      <td>0.0</td>\n",
       "      <td>7</td>\n",
       "      <td>...</td>\n",
       "      <td>1870.442105</td>\n",
       "      <td>0.723580</td>\n",
       "      <td>0.659201</td>\n",
       "      <td>0.129097</td>\n",
       "      <td>30700.421804</td>\n",
       "      <td>27474.407865</td>\n",
       "      <td>0.021841</td>\n",
       "      <td>0.034826</td>\n",
       "      <td>0.664755</td>\n",
       "      <td>0.489822</td>\n",
       "    </tr>\n",
       "  </tbody>\n",
       "</table>\n",
       "<p>8 rows × 59 columns</p>\n",
       "</div>"
      ],
      "text/plain": [
       "  Acquisition Date                                        Position Ticker  \\\n",
       "0       2014-04-21        iShares Core US Aggregate Bond ETF (AGG)    AGG   \n",
       "1       2014-04-21             Invesco DB Commodity Tracking (DBC)    DBC   \n",
       "2       2014-04-21                        iShares Gold Trust (IAU)    IAU   \n",
       "3       2014-04-21  iShares International Treasury Bond ETF (IGOV)   IGOV   \n",
       "4       2014-04-21           Vanguard FTSE All-Wld ex-US ETF (VEU)    VEU   \n",
       "5       2014-04-21                  Vanguard Real Estate ETF (VNQ)    VNQ   \n",
       "6       2014-04-21           Vanguard Total Stock Market ETF (VTI)    VTI   \n",
       "7       2014-05-05           Vanguard Total Stock Market ETF (VTI)    VTI   \n",
       "\n",
       "   Quantity  Unit Cost  Cost Basis Start of Year  Target_Alloc  Comments  \\\n",
       "0        25      95.72     2393.00    2018-12-31         0.127       0.0   \n",
       "1        22      26.21      576.62    2018-12-31         0.033       0.0   \n",
       "2        50      12.51      625.50    2018-12-31         0.033       0.0   \n",
       "3         8      50.72      405.76    2018-12-31         0.023       0.0   \n",
       "4       105      43.92     4611.60    2018-12-31         0.250       0.0   \n",
       "5        11      58.28      641.08    2018-12-31         0.034       0.0   \n",
       "6        72      88.20     6350.40    2018-12-31         0.500       0.0   \n",
       "7        32      88.67     2837.44    2018-12-31         0.500       0.0   \n",
       "\n",
       "   Counts  ... Total SP500 Gain / (Loss) Total Stock Return  \\\n",
       "0       0  ...               1604.553493           0.186935   \n",
       "1       1  ...                386.635034          -0.384074   \n",
       "2       2  ...                345.228125           0.953637   \n",
       "3       3  ...                272.070048          -0.006971   \n",
       "4       4  ...               3092.168362           0.240830   \n",
       "5       5  ...                429.856729           0.618318   \n",
       "6       6  ...               4258.067908           0.732765   \n",
       "7       7  ...               1870.442105           0.723580   \n",
       "\n",
       "   Total SP500 Return  Share Yield  Cum Total SP Returns  Cum Stock Returns  \\\n",
       "0            0.670520     0.126306           3997.553493        2840.335365   \n",
       "1            0.670520     0.007211           4960.808527        3195.490649   \n",
       "2            0.551923     0.000000           5931.536651        4417.490676   \n",
       "3            0.670520     0.038125           6609.366700        4820.422245   \n",
       "4            0.670520     0.158698          14313.135061       10542.632925   \n",
       "5            0.670520     0.295590          15384.071791       11580.104191   \n",
       "6            0.670520     0.129785          25992.539699       22583.852888   \n",
       "7            0.659201     0.129097          30700.421804       27474.407865   \n",
       "\n",
       "   Market Yield  Current Yield  Cum SP Returns Pct  Cum Ticker Returns Pct  \n",
       "0      0.010323       0.010949            0.670520                0.186935  \n",
       "1      0.047385       0.028844            0.670520                0.076060  \n",
       "2      0.000000       0.000000            0.649886                0.228746  \n",
       "3      0.012470       0.011907            0.651978                0.204840  \n",
       "4      0.015065       0.016302            0.661906                0.224111  \n",
       "5      0.031963       0.042279            0.662503                0.251422  \n",
       "6      0.021841       0.035011            0.665766                0.447315  \n",
       "7      0.021841       0.034826            0.664755                0.489822  \n",
       "\n",
       "[8 rows x 59 columns]"
      ]
     },
     "execution_count": 133,
     "metadata": {},
     "output_type": "execute_result"
    }
   ],
   "source": [
    "merged_portfolio_sp_latest_YTD_sp_closing_high_incl_divs[0:10]"
   ]
  },
  {
   "cell_type": "code",
   "execution_count": 134,
   "metadata": {},
   "outputs": [
    {
     "data": {
      "application/vnd.plotly.v1+json": {
       "config": {
        "linkText": "Export to plot.ly",
        "plotlyServerURL": "https://plot.ly",
        "showLink": false
       },
       "data": [
        {
         "name": "Ticker TSR",
         "type": "bar",
         "x": [
          "AGG 0",
          "DBC 1",
          "IGOV 3",
          "VEU 4",
          "VNQ 5",
          "VTI 6",
          "VTI 7"
         ],
         "y": [
          0.1869349625137527,
          -0.3840739413555776,
          -0.006970699014272578,
          0.2408297943504346,
          0.6183179416800494,
          0.7327646600632439,
          0.7235800498204368
         ]
        },
        {
         "name": "SP500 TSR",
         "type": "scatter",
         "x": [
          "AGG 0",
          "DBC 1",
          "IGOV 3",
          "VEU 4",
          "VNQ 5",
          "VTI 6",
          "VTI 7"
         ],
         "y": [
          0.6705196378133182,
          0.6705196378133184,
          0.6705196378133182,
          0.6705196378133185,
          0.6705196378133184,
          0.6705196378133184,
          0.6592005839705398
         ]
        }
       ],
       "layout": {
        "barmode": "group",
        "legend": {
         "x": 0.8,
         "y": 1.2
        },
        "template": {
         "data": {
          "bar": [
           {
            "error_x": {
             "color": "#2a3f5f"
            },
            "error_y": {
             "color": "#2a3f5f"
            },
            "marker": {
             "line": {
              "color": "#E5ECF6",
              "width": 0.5
             },
             "pattern": {
              "fillmode": "overlay",
              "size": 10,
              "solidity": 0.2
             }
            },
            "type": "bar"
           }
          ],
          "barpolar": [
           {
            "marker": {
             "line": {
              "color": "#E5ECF6",
              "width": 0.5
             },
             "pattern": {
              "fillmode": "overlay",
              "size": 10,
              "solidity": 0.2
             }
            },
            "type": "barpolar"
           }
          ],
          "carpet": [
           {
            "aaxis": {
             "endlinecolor": "#2a3f5f",
             "gridcolor": "white",
             "linecolor": "white",
             "minorgridcolor": "white",
             "startlinecolor": "#2a3f5f"
            },
            "baxis": {
             "endlinecolor": "#2a3f5f",
             "gridcolor": "white",
             "linecolor": "white",
             "minorgridcolor": "white",
             "startlinecolor": "#2a3f5f"
            },
            "type": "carpet"
           }
          ],
          "choropleth": [
           {
            "colorbar": {
             "outlinewidth": 0,
             "ticks": ""
            },
            "type": "choropleth"
           }
          ],
          "contour": [
           {
            "colorbar": {
             "outlinewidth": 0,
             "ticks": ""
            },
            "colorscale": [
             [
              0,
              "#0d0887"
             ],
             [
              0.1111111111111111,
              "#46039f"
             ],
             [
              0.2222222222222222,
              "#7201a8"
             ],
             [
              0.3333333333333333,
              "#9c179e"
             ],
             [
              0.4444444444444444,
              "#bd3786"
             ],
             [
              0.5555555555555556,
              "#d8576b"
             ],
             [
              0.6666666666666666,
              "#ed7953"
             ],
             [
              0.7777777777777778,
              "#fb9f3a"
             ],
             [
              0.8888888888888888,
              "#fdca26"
             ],
             [
              1,
              "#f0f921"
             ]
            ],
            "type": "contour"
           }
          ],
          "contourcarpet": [
           {
            "colorbar": {
             "outlinewidth": 0,
             "ticks": ""
            },
            "type": "contourcarpet"
           }
          ],
          "heatmap": [
           {
            "colorbar": {
             "outlinewidth": 0,
             "ticks": ""
            },
            "colorscale": [
             [
              0,
              "#0d0887"
             ],
             [
              0.1111111111111111,
              "#46039f"
             ],
             [
              0.2222222222222222,
              "#7201a8"
             ],
             [
              0.3333333333333333,
              "#9c179e"
             ],
             [
              0.4444444444444444,
              "#bd3786"
             ],
             [
              0.5555555555555556,
              "#d8576b"
             ],
             [
              0.6666666666666666,
              "#ed7953"
             ],
             [
              0.7777777777777778,
              "#fb9f3a"
             ],
             [
              0.8888888888888888,
              "#fdca26"
             ],
             [
              1,
              "#f0f921"
             ]
            ],
            "type": "heatmap"
           }
          ],
          "heatmapgl": [
           {
            "colorbar": {
             "outlinewidth": 0,
             "ticks": ""
            },
            "colorscale": [
             [
              0,
              "#0d0887"
             ],
             [
              0.1111111111111111,
              "#46039f"
             ],
             [
              0.2222222222222222,
              "#7201a8"
             ],
             [
              0.3333333333333333,
              "#9c179e"
             ],
             [
              0.4444444444444444,
              "#bd3786"
             ],
             [
              0.5555555555555556,
              "#d8576b"
             ],
             [
              0.6666666666666666,
              "#ed7953"
             ],
             [
              0.7777777777777778,
              "#fb9f3a"
             ],
             [
              0.8888888888888888,
              "#fdca26"
             ],
             [
              1,
              "#f0f921"
             ]
            ],
            "type": "heatmapgl"
           }
          ],
          "histogram": [
           {
            "marker": {
             "pattern": {
              "fillmode": "overlay",
              "size": 10,
              "solidity": 0.2
             }
            },
            "type": "histogram"
           }
          ],
          "histogram2d": [
           {
            "colorbar": {
             "outlinewidth": 0,
             "ticks": ""
            },
            "colorscale": [
             [
              0,
              "#0d0887"
             ],
             [
              0.1111111111111111,
              "#46039f"
             ],
             [
              0.2222222222222222,
              "#7201a8"
             ],
             [
              0.3333333333333333,
              "#9c179e"
             ],
             [
              0.4444444444444444,
              "#bd3786"
             ],
             [
              0.5555555555555556,
              "#d8576b"
             ],
             [
              0.6666666666666666,
              "#ed7953"
             ],
             [
              0.7777777777777778,
              "#fb9f3a"
             ],
             [
              0.8888888888888888,
              "#fdca26"
             ],
             [
              1,
              "#f0f921"
             ]
            ],
            "type": "histogram2d"
           }
          ],
          "histogram2dcontour": [
           {
            "colorbar": {
             "outlinewidth": 0,
             "ticks": ""
            },
            "colorscale": [
             [
              0,
              "#0d0887"
             ],
             [
              0.1111111111111111,
              "#46039f"
             ],
             [
              0.2222222222222222,
              "#7201a8"
             ],
             [
              0.3333333333333333,
              "#9c179e"
             ],
             [
              0.4444444444444444,
              "#bd3786"
             ],
             [
              0.5555555555555556,
              "#d8576b"
             ],
             [
              0.6666666666666666,
              "#ed7953"
             ],
             [
              0.7777777777777778,
              "#fb9f3a"
             ],
             [
              0.8888888888888888,
              "#fdca26"
             ],
             [
              1,
              "#f0f921"
             ]
            ],
            "type": "histogram2dcontour"
           }
          ],
          "mesh3d": [
           {
            "colorbar": {
             "outlinewidth": 0,
             "ticks": ""
            },
            "type": "mesh3d"
           }
          ],
          "parcoords": [
           {
            "line": {
             "colorbar": {
              "outlinewidth": 0,
              "ticks": ""
             }
            },
            "type": "parcoords"
           }
          ],
          "pie": [
           {
            "automargin": true,
            "type": "pie"
           }
          ],
          "scatter": [
           {
            "marker": {
             "colorbar": {
              "outlinewidth": 0,
              "ticks": ""
             }
            },
            "type": "scatter"
           }
          ],
          "scatter3d": [
           {
            "line": {
             "colorbar": {
              "outlinewidth": 0,
              "ticks": ""
             }
            },
            "marker": {
             "colorbar": {
              "outlinewidth": 0,
              "ticks": ""
             }
            },
            "type": "scatter3d"
           }
          ],
          "scattercarpet": [
           {
            "marker": {
             "colorbar": {
              "outlinewidth": 0,
              "ticks": ""
             }
            },
            "type": "scattercarpet"
           }
          ],
          "scattergeo": [
           {
            "marker": {
             "colorbar": {
              "outlinewidth": 0,
              "ticks": ""
             }
            },
            "type": "scattergeo"
           }
          ],
          "scattergl": [
           {
            "marker": {
             "colorbar": {
              "outlinewidth": 0,
              "ticks": ""
             }
            },
            "type": "scattergl"
           }
          ],
          "scattermapbox": [
           {
            "marker": {
             "colorbar": {
              "outlinewidth": 0,
              "ticks": ""
             }
            },
            "type": "scattermapbox"
           }
          ],
          "scatterpolar": [
           {
            "marker": {
             "colorbar": {
              "outlinewidth": 0,
              "ticks": ""
             }
            },
            "type": "scatterpolar"
           }
          ],
          "scatterpolargl": [
           {
            "marker": {
             "colorbar": {
              "outlinewidth": 0,
              "ticks": ""
             }
            },
            "type": "scatterpolargl"
           }
          ],
          "scatterternary": [
           {
            "marker": {
             "colorbar": {
              "outlinewidth": 0,
              "ticks": ""
             }
            },
            "type": "scatterternary"
           }
          ],
          "surface": [
           {
            "colorbar": {
             "outlinewidth": 0,
             "ticks": ""
            },
            "colorscale": [
             [
              0,
              "#0d0887"
             ],
             [
              0.1111111111111111,
              "#46039f"
             ],
             [
              0.2222222222222222,
              "#7201a8"
             ],
             [
              0.3333333333333333,
              "#9c179e"
             ],
             [
              0.4444444444444444,
              "#bd3786"
             ],
             [
              0.5555555555555556,
              "#d8576b"
             ],
             [
              0.6666666666666666,
              "#ed7953"
             ],
             [
              0.7777777777777778,
              "#fb9f3a"
             ],
             [
              0.8888888888888888,
              "#fdca26"
             ],
             [
              1,
              "#f0f921"
             ]
            ],
            "type": "surface"
           }
          ],
          "table": [
           {
            "cells": {
             "fill": {
              "color": "#EBF0F8"
             },
             "line": {
              "color": "white"
             }
            },
            "header": {
             "fill": {
              "color": "#C8D4E3"
             },
             "line": {
              "color": "white"
             }
            },
            "type": "table"
           }
          ]
         },
         "layout": {
          "annotationdefaults": {
           "arrowcolor": "#2a3f5f",
           "arrowhead": 0,
           "arrowwidth": 1
          },
          "autotypenumbers": "strict",
          "coloraxis": {
           "colorbar": {
            "outlinewidth": 0,
            "ticks": ""
           }
          },
          "colorscale": {
           "diverging": [
            [
             0,
             "#8e0152"
            ],
            [
             0.1,
             "#c51b7d"
            ],
            [
             0.2,
             "#de77ae"
            ],
            [
             0.3,
             "#f1b6da"
            ],
            [
             0.4,
             "#fde0ef"
            ],
            [
             0.5,
             "#f7f7f7"
            ],
            [
             0.6,
             "#e6f5d0"
            ],
            [
             0.7,
             "#b8e186"
            ],
            [
             0.8,
             "#7fbc41"
            ],
            [
             0.9,
             "#4d9221"
            ],
            [
             1,
             "#276419"
            ]
           ],
           "sequential": [
            [
             0,
             "#0d0887"
            ],
            [
             0.1111111111111111,
             "#46039f"
            ],
            [
             0.2222222222222222,
             "#7201a8"
            ],
            [
             0.3333333333333333,
             "#9c179e"
            ],
            [
             0.4444444444444444,
             "#bd3786"
            ],
            [
             0.5555555555555556,
             "#d8576b"
            ],
            [
             0.6666666666666666,
             "#ed7953"
            ],
            [
             0.7777777777777778,
             "#fb9f3a"
            ],
            [
             0.8888888888888888,
             "#fdca26"
            ],
            [
             1,
             "#f0f921"
            ]
           ],
           "sequentialminus": [
            [
             0,
             "#0d0887"
            ],
            [
             0.1111111111111111,
             "#46039f"
            ],
            [
             0.2222222222222222,
             "#7201a8"
            ],
            [
             0.3333333333333333,
             "#9c179e"
            ],
            [
             0.4444444444444444,
             "#bd3786"
            ],
            [
             0.5555555555555556,
             "#d8576b"
            ],
            [
             0.6666666666666666,
             "#ed7953"
            ],
            [
             0.7777777777777778,
             "#fb9f3a"
            ],
            [
             0.8888888888888888,
             "#fdca26"
            ],
            [
             1,
             "#f0f921"
            ]
           ]
          },
          "colorway": [
           "#636efa",
           "#EF553B",
           "#00cc96",
           "#ab63fa",
           "#FFA15A",
           "#19d3f3",
           "#FF6692",
           "#B6E880",
           "#FF97FF",
           "#FECB52"
          ],
          "font": {
           "color": "#2a3f5f"
          },
          "geo": {
           "bgcolor": "white",
           "lakecolor": "white",
           "landcolor": "#E5ECF6",
           "showlakes": true,
           "showland": true,
           "subunitcolor": "white"
          },
          "hoverlabel": {
           "align": "left"
          },
          "hovermode": "closest",
          "mapbox": {
           "style": "light"
          },
          "paper_bgcolor": "white",
          "plot_bgcolor": "#E5ECF6",
          "polar": {
           "angularaxis": {
            "gridcolor": "white",
            "linecolor": "white",
            "ticks": ""
           },
           "bgcolor": "#E5ECF6",
           "radialaxis": {
            "gridcolor": "white",
            "linecolor": "white",
            "ticks": ""
           }
          },
          "scene": {
           "xaxis": {
            "backgroundcolor": "#E5ECF6",
            "gridcolor": "white",
            "gridwidth": 2,
            "linecolor": "white",
            "showbackground": true,
            "ticks": "",
            "zerolinecolor": "white"
           },
           "yaxis": {
            "backgroundcolor": "#E5ECF6",
            "gridcolor": "white",
            "gridwidth": 2,
            "linecolor": "white",
            "showbackground": true,
            "ticks": "",
            "zerolinecolor": "white"
           },
           "zaxis": {
            "backgroundcolor": "#E5ECF6",
            "gridcolor": "white",
            "gridwidth": 2,
            "linecolor": "white",
            "showbackground": true,
            "ticks": "",
            "zerolinecolor": "white"
           }
          },
          "shapedefaults": {
           "line": {
            "color": "#2a3f5f"
           }
          },
          "ternary": {
           "aaxis": {
            "gridcolor": "white",
            "linecolor": "white",
            "ticks": ""
           },
           "baxis": {
            "gridcolor": "white",
            "linecolor": "white",
            "ticks": ""
           },
           "bgcolor": "#E5ECF6",
           "caxis": {
            "gridcolor": "white",
            "linecolor": "white",
            "ticks": ""
           }
          },
          "title": {
           "x": 0.05
          },
          "xaxis": {
           "automargin": true,
           "gridcolor": "white",
           "linecolor": "white",
           "ticks": "",
           "title": {
            "standoff": 15
           },
           "zerolinecolor": "white",
           "zerolinewidth": 2
          },
          "yaxis": {
           "automargin": true,
           "gridcolor": "white",
           "linecolor": "white",
           "ticks": "",
           "title": {
            "standoff": 15
           },
           "zerolinecolor": "white",
           "zerolinewidth": 2
          }
         }
        },
        "title": {
         "text": "TSR Comparison, Ticker versus SP500"
        },
        "xaxis": {
         "title": {
          "text": "Ticker"
         }
        },
        "yaxis": {
         "tickformat": ".1%",
         "title": {
          "text": "Returns"
         }
        }
       }
      },
      "text/html": [
       "<div>                            <div id=\"88abdd43-70ec-470b-b975-58b2cb62e583\" class=\"plotly-graph-div\" style=\"height:525px; width:100%;\"></div>            <script type=\"text/javascript\">                require([\"plotly\"], function(Plotly) {                    window.PLOTLYENV=window.PLOTLYENV || {};                                    if (document.getElementById(\"88abdd43-70ec-470b-b975-58b2cb62e583\")) {                    Plotly.newPlot(                        \"88abdd43-70ec-470b-b975-58b2cb62e583\",                        [{\"name\":\"Ticker TSR\",\"x\":[\"AGG 0\",\"DBC 1\",\"IGOV 3\",\"VEU 4\",\"VNQ 5\",\"VTI 6\",\"VTI 7\"],\"y\":[0.1869349625137527,-0.3840739413555776,-0.006970699014272578,0.2408297943504346,0.6183179416800494,0.7327646600632439,0.7235800498204368],\"type\":\"bar\"},{\"name\":\"SP500 TSR\",\"x\":[\"AGG 0\",\"DBC 1\",\"IGOV 3\",\"VEU 4\",\"VNQ 5\",\"VTI 6\",\"VTI 7\"],\"y\":[0.6705196378133182,0.6705196378133184,0.6705196378133182,0.6705196378133185,0.6705196378133184,0.6705196378133184,0.6592005839705398],\"type\":\"scatter\"}],                        {\"barmode\":\"group\",\"legend\":{\"x\":0.8,\"y\":1.2},\"template\":{\"data\":{\"barpolar\":[{\"marker\":{\"line\":{\"color\":\"#E5ECF6\",\"width\":0.5},\"pattern\":{\"fillmode\":\"overlay\",\"size\":10,\"solidity\":0.2}},\"type\":\"barpolar\"}],\"bar\":[{\"error_x\":{\"color\":\"#2a3f5f\"},\"error_y\":{\"color\":\"#2a3f5f\"},\"marker\":{\"line\":{\"color\":\"#E5ECF6\",\"width\":0.5},\"pattern\":{\"fillmode\":\"overlay\",\"size\":10,\"solidity\":0.2}},\"type\":\"bar\"}],\"carpet\":[{\"aaxis\":{\"endlinecolor\":\"#2a3f5f\",\"gridcolor\":\"white\",\"linecolor\":\"white\",\"minorgridcolor\":\"white\",\"startlinecolor\":\"#2a3f5f\"},\"baxis\":{\"endlinecolor\":\"#2a3f5f\",\"gridcolor\":\"white\",\"linecolor\":\"white\",\"minorgridcolor\":\"white\",\"startlinecolor\":\"#2a3f5f\"},\"type\":\"carpet\"}],\"choropleth\":[{\"colorbar\":{\"outlinewidth\":0,\"ticks\":\"\"},\"type\":\"choropleth\"}],\"contourcarpet\":[{\"colorbar\":{\"outlinewidth\":0,\"ticks\":\"\"},\"type\":\"contourcarpet\"}],\"contour\":[{\"colorbar\":{\"outlinewidth\":0,\"ticks\":\"\"},\"colorscale\":[[0.0,\"#0d0887\"],[0.1111111111111111,\"#46039f\"],[0.2222222222222222,\"#7201a8\"],[0.3333333333333333,\"#9c179e\"],[0.4444444444444444,\"#bd3786\"],[0.5555555555555556,\"#d8576b\"],[0.6666666666666666,\"#ed7953\"],[0.7777777777777778,\"#fb9f3a\"],[0.8888888888888888,\"#fdca26\"],[1.0,\"#f0f921\"]],\"type\":\"contour\"}],\"heatmapgl\":[{\"colorbar\":{\"outlinewidth\":0,\"ticks\":\"\"},\"colorscale\":[[0.0,\"#0d0887\"],[0.1111111111111111,\"#46039f\"],[0.2222222222222222,\"#7201a8\"],[0.3333333333333333,\"#9c179e\"],[0.4444444444444444,\"#bd3786\"],[0.5555555555555556,\"#d8576b\"],[0.6666666666666666,\"#ed7953\"],[0.7777777777777778,\"#fb9f3a\"],[0.8888888888888888,\"#fdca26\"],[1.0,\"#f0f921\"]],\"type\":\"heatmapgl\"}],\"heatmap\":[{\"colorbar\":{\"outlinewidth\":0,\"ticks\":\"\"},\"colorscale\":[[0.0,\"#0d0887\"],[0.1111111111111111,\"#46039f\"],[0.2222222222222222,\"#7201a8\"],[0.3333333333333333,\"#9c179e\"],[0.4444444444444444,\"#bd3786\"],[0.5555555555555556,\"#d8576b\"],[0.6666666666666666,\"#ed7953\"],[0.7777777777777778,\"#fb9f3a\"],[0.8888888888888888,\"#fdca26\"],[1.0,\"#f0f921\"]],\"type\":\"heatmap\"}],\"histogram2dcontour\":[{\"colorbar\":{\"outlinewidth\":0,\"ticks\":\"\"},\"colorscale\":[[0.0,\"#0d0887\"],[0.1111111111111111,\"#46039f\"],[0.2222222222222222,\"#7201a8\"],[0.3333333333333333,\"#9c179e\"],[0.4444444444444444,\"#bd3786\"],[0.5555555555555556,\"#d8576b\"],[0.6666666666666666,\"#ed7953\"],[0.7777777777777778,\"#fb9f3a\"],[0.8888888888888888,\"#fdca26\"],[1.0,\"#f0f921\"]],\"type\":\"histogram2dcontour\"}],\"histogram2d\":[{\"colorbar\":{\"outlinewidth\":0,\"ticks\":\"\"},\"colorscale\":[[0.0,\"#0d0887\"],[0.1111111111111111,\"#46039f\"],[0.2222222222222222,\"#7201a8\"],[0.3333333333333333,\"#9c179e\"],[0.4444444444444444,\"#bd3786\"],[0.5555555555555556,\"#d8576b\"],[0.6666666666666666,\"#ed7953\"],[0.7777777777777778,\"#fb9f3a\"],[0.8888888888888888,\"#fdca26\"],[1.0,\"#f0f921\"]],\"type\":\"histogram2d\"}],\"histogram\":[{\"marker\":{\"pattern\":{\"fillmode\":\"overlay\",\"size\":10,\"solidity\":0.2}},\"type\":\"histogram\"}],\"mesh3d\":[{\"colorbar\":{\"outlinewidth\":0,\"ticks\":\"\"},\"type\":\"mesh3d\"}],\"parcoords\":[{\"line\":{\"colorbar\":{\"outlinewidth\":0,\"ticks\":\"\"}},\"type\":\"parcoords\"}],\"pie\":[{\"automargin\":true,\"type\":\"pie\"}],\"scatter3d\":[{\"line\":{\"colorbar\":{\"outlinewidth\":0,\"ticks\":\"\"}},\"marker\":{\"colorbar\":{\"outlinewidth\":0,\"ticks\":\"\"}},\"type\":\"scatter3d\"}],\"scattercarpet\":[{\"marker\":{\"colorbar\":{\"outlinewidth\":0,\"ticks\":\"\"}},\"type\":\"scattercarpet\"}],\"scattergeo\":[{\"marker\":{\"colorbar\":{\"outlinewidth\":0,\"ticks\":\"\"}},\"type\":\"scattergeo\"}],\"scattergl\":[{\"marker\":{\"colorbar\":{\"outlinewidth\":0,\"ticks\":\"\"}},\"type\":\"scattergl\"}],\"scattermapbox\":[{\"marker\":{\"colorbar\":{\"outlinewidth\":0,\"ticks\":\"\"}},\"type\":\"scattermapbox\"}],\"scatterpolargl\":[{\"marker\":{\"colorbar\":{\"outlinewidth\":0,\"ticks\":\"\"}},\"type\":\"scatterpolargl\"}],\"scatterpolar\":[{\"marker\":{\"colorbar\":{\"outlinewidth\":0,\"ticks\":\"\"}},\"type\":\"scatterpolar\"}],\"scatter\":[{\"marker\":{\"colorbar\":{\"outlinewidth\":0,\"ticks\":\"\"}},\"type\":\"scatter\"}],\"scatterternary\":[{\"marker\":{\"colorbar\":{\"outlinewidth\":0,\"ticks\":\"\"}},\"type\":\"scatterternary\"}],\"surface\":[{\"colorbar\":{\"outlinewidth\":0,\"ticks\":\"\"},\"colorscale\":[[0.0,\"#0d0887\"],[0.1111111111111111,\"#46039f\"],[0.2222222222222222,\"#7201a8\"],[0.3333333333333333,\"#9c179e\"],[0.4444444444444444,\"#bd3786\"],[0.5555555555555556,\"#d8576b\"],[0.6666666666666666,\"#ed7953\"],[0.7777777777777778,\"#fb9f3a\"],[0.8888888888888888,\"#fdca26\"],[1.0,\"#f0f921\"]],\"type\":\"surface\"}],\"table\":[{\"cells\":{\"fill\":{\"color\":\"#EBF0F8\"},\"line\":{\"color\":\"white\"}},\"header\":{\"fill\":{\"color\":\"#C8D4E3\"},\"line\":{\"color\":\"white\"}},\"type\":\"table\"}]},\"layout\":{\"annotationdefaults\":{\"arrowcolor\":\"#2a3f5f\",\"arrowhead\":0,\"arrowwidth\":1},\"autotypenumbers\":\"strict\",\"coloraxis\":{\"colorbar\":{\"outlinewidth\":0,\"ticks\":\"\"}},\"colorscale\":{\"diverging\":[[0,\"#8e0152\"],[0.1,\"#c51b7d\"],[0.2,\"#de77ae\"],[0.3,\"#f1b6da\"],[0.4,\"#fde0ef\"],[0.5,\"#f7f7f7\"],[0.6,\"#e6f5d0\"],[0.7,\"#b8e186\"],[0.8,\"#7fbc41\"],[0.9,\"#4d9221\"],[1,\"#276419\"]],\"sequential\":[[0.0,\"#0d0887\"],[0.1111111111111111,\"#46039f\"],[0.2222222222222222,\"#7201a8\"],[0.3333333333333333,\"#9c179e\"],[0.4444444444444444,\"#bd3786\"],[0.5555555555555556,\"#d8576b\"],[0.6666666666666666,\"#ed7953\"],[0.7777777777777778,\"#fb9f3a\"],[0.8888888888888888,\"#fdca26\"],[1.0,\"#f0f921\"]],\"sequentialminus\":[[0.0,\"#0d0887\"],[0.1111111111111111,\"#46039f\"],[0.2222222222222222,\"#7201a8\"],[0.3333333333333333,\"#9c179e\"],[0.4444444444444444,\"#bd3786\"],[0.5555555555555556,\"#d8576b\"],[0.6666666666666666,\"#ed7953\"],[0.7777777777777778,\"#fb9f3a\"],[0.8888888888888888,\"#fdca26\"],[1.0,\"#f0f921\"]]},\"colorway\":[\"#636efa\",\"#EF553B\",\"#00cc96\",\"#ab63fa\",\"#FFA15A\",\"#19d3f3\",\"#FF6692\",\"#B6E880\",\"#FF97FF\",\"#FECB52\"],\"font\":{\"color\":\"#2a3f5f\"},\"geo\":{\"bgcolor\":\"white\",\"lakecolor\":\"white\",\"landcolor\":\"#E5ECF6\",\"showlakes\":true,\"showland\":true,\"subunitcolor\":\"white\"},\"hoverlabel\":{\"align\":\"left\"},\"hovermode\":\"closest\",\"mapbox\":{\"style\":\"light\"},\"paper_bgcolor\":\"white\",\"plot_bgcolor\":\"#E5ECF6\",\"polar\":{\"angularaxis\":{\"gridcolor\":\"white\",\"linecolor\":\"white\",\"ticks\":\"\"},\"bgcolor\":\"#E5ECF6\",\"radialaxis\":{\"gridcolor\":\"white\",\"linecolor\":\"white\",\"ticks\":\"\"}},\"scene\":{\"xaxis\":{\"backgroundcolor\":\"#E5ECF6\",\"gridcolor\":\"white\",\"gridwidth\":2,\"linecolor\":\"white\",\"showbackground\":true,\"ticks\":\"\",\"zerolinecolor\":\"white\"},\"yaxis\":{\"backgroundcolor\":\"#E5ECF6\",\"gridcolor\":\"white\",\"gridwidth\":2,\"linecolor\":\"white\",\"showbackground\":true,\"ticks\":\"\",\"zerolinecolor\":\"white\"},\"zaxis\":{\"backgroundcolor\":\"#E5ECF6\",\"gridcolor\":\"white\",\"gridwidth\":2,\"linecolor\":\"white\",\"showbackground\":true,\"ticks\":\"\",\"zerolinecolor\":\"white\"}},\"shapedefaults\":{\"line\":{\"color\":\"#2a3f5f\"}},\"ternary\":{\"aaxis\":{\"gridcolor\":\"white\",\"linecolor\":\"white\",\"ticks\":\"\"},\"baxis\":{\"gridcolor\":\"white\",\"linecolor\":\"white\",\"ticks\":\"\"},\"bgcolor\":\"#E5ECF6\",\"caxis\":{\"gridcolor\":\"white\",\"linecolor\":\"white\",\"ticks\":\"\"}},\"title\":{\"x\":0.05},\"xaxis\":{\"automargin\":true,\"gridcolor\":\"white\",\"linecolor\":\"white\",\"ticks\":\"\",\"title\":{\"standoff\":15},\"zerolinecolor\":\"white\",\"zerolinewidth\":2},\"yaxis\":{\"automargin\":true,\"gridcolor\":\"white\",\"linecolor\":\"white\",\"ticks\":\"\",\"title\":{\"standoff\":15},\"zerolinecolor\":\"white\",\"zerolinewidth\":2}}},\"title\":{\"text\":\"TSR Comparison, Ticker versus SP500\"},\"xaxis\":{\"title\":{\"text\":\"Ticker\"}},\"yaxis\":{\"tickformat\":\".1%\",\"title\":{\"text\":\"Returns\"}}},                        {\"responsive\": true}                    ).then(function(){\n",
       "                            \n",
       "var gd = document.getElementById('88abdd43-70ec-470b-b975-58b2cb62e583');\n",
       "var x = new MutationObserver(function (mutations, observer) {{\n",
       "        var display = window.getComputedStyle(gd).display;\n",
       "        if (!display || display === 'none') {{\n",
       "            console.log([gd, 'removed!']);\n",
       "            Plotly.purge(gd);\n",
       "            observer.disconnect();\n",
       "        }}\n",
       "}});\n",
       "\n",
       "// Listen for the removal of the full notebook cells\n",
       "var notebookContainer = gd.closest('#notebook-container');\n",
       "if (notebookContainer) {{\n",
       "    x.observe(notebookContainer, {childList: true});\n",
       "}}\n",
       "\n",
       "// Listen for the clearing of the current output cell\n",
       "var outputEl = gd.closest('.output');\n",
       "if (outputEl) {{\n",
       "    x.observe(outputEl, {childList: true});\n",
       "}}\n",
       "\n",
       "                        })                };                });            </script>        </div>"
      ]
     },
     "metadata": {},
     "output_type": "display_data"
    }
   ],
   "source": [
    "# Compare total shareholder return for each position relative to SP500.\n",
    "\n",
    "trace1 = go.Bar(\n",
    "    x = merged_portfolio_sp_latest_YTD_sp_closing_high_incl_divs_all_payers['Ticker #'],\n",
    "    y = merged_portfolio_sp_latest_YTD_sp_closing_high_incl_divs_all_payers['Total Stock Return'],\n",
    "    name = 'Ticker TSR')\n",
    "\n",
    "trace2 = go.Scatter(\n",
    "    x = merged_portfolio_sp_latest_YTD_sp_closing_high_incl_divs_all_payers['Ticker #'],\n",
    "    y = merged_portfolio_sp_latest_YTD_sp_closing_high_incl_divs_all_payers['Total SP500 Return'],\n",
    "    name = 'SP500 TSR')\n",
    "    \n",
    "data = [trace1, trace2]\n",
    "\n",
    "layout = go.Layout(title = 'TSR Comparison, Ticker versus SP500'\n",
    "    , barmode = 'group'\n",
    "    , yaxis=dict(title='Returns', tickformat=\".1%\")\n",
    "    , xaxis=dict(title='Ticker')\n",
    "    , legend=dict(x=.8,y=1.2)\n",
    "    )\n",
    "\n",
    "fig = go.Figure(data=data, layout=layout)\n",
    "iplot(fig)"
   ]
  },
  {
   "cell_type": "code",
   "execution_count": 135,
   "metadata": {},
   "outputs": [
    {
     "data": {
      "application/vnd.plotly.v1+json": {
       "config": {
        "linkText": "Export to plot.ly",
        "plotlyServerURL": "https://plot.ly",
        "showLink": false
       },
       "data": [
        {
         "mode": "lines+markers",
         "name": "Cum Invst",
         "type": "scatter",
         "x": [
          "AGG 0",
          "DBC 1",
          "IAU 2",
          "IGOV 3",
          "VEU 4",
          "VNQ 5",
          "VTI 6",
          "VTI 7"
         ],
         "y": [
          2393,
          2969.62,
          3595.12,
          4000.88,
          8612.48,
          9253.56,
          15603.96,
          18441.399999999998
         ]
        },
        {
         "mode": "lines+markers",
         "name": "Cum Stock Returns",
         "type": "scatter",
         "x": [
          "AGG 0",
          "DBC 1",
          "IAU 2",
          "IGOV 3",
          "VEU 4",
          "VNQ 5",
          "VTI 6",
          "VTI 7"
         ],
         "y": [
          2840.33536529541,
          3195.490649230957,
          4417.490675933837,
          4820.422245101806,
          10542.63292472827,
          11580.104190780516,
          22583.85288804614,
          27474.407864608642
         ]
        },
        {
         "mode": "lines+markers",
         "name": "Cum SP500 Returns",
         "type": "scatter",
         "x": [
          "AGG 0",
          "DBC 1",
          "IAU 2",
          "IGOV 3",
          "VEU 4",
          "VNQ 5",
          "VTI 6",
          "VTI 7"
         ],
         "y": [
          3997.5534932872706,
          4960.808526843186,
          5931.536651415434,
          6609.366699654566,
          14313.135061394467,
          15384.07179080383,
          25992.53969877353,
          30700.4218037549
         ]
        }
       ],
       "layout": {
        "barmode": "group",
        "legend": {
         "x": 1,
         "y": 1
        },
        "template": {
         "data": {
          "bar": [
           {
            "error_x": {
             "color": "#2a3f5f"
            },
            "error_y": {
             "color": "#2a3f5f"
            },
            "marker": {
             "line": {
              "color": "#E5ECF6",
              "width": 0.5
             },
             "pattern": {
              "fillmode": "overlay",
              "size": 10,
              "solidity": 0.2
             }
            },
            "type": "bar"
           }
          ],
          "barpolar": [
           {
            "marker": {
             "line": {
              "color": "#E5ECF6",
              "width": 0.5
             },
             "pattern": {
              "fillmode": "overlay",
              "size": 10,
              "solidity": 0.2
             }
            },
            "type": "barpolar"
           }
          ],
          "carpet": [
           {
            "aaxis": {
             "endlinecolor": "#2a3f5f",
             "gridcolor": "white",
             "linecolor": "white",
             "minorgridcolor": "white",
             "startlinecolor": "#2a3f5f"
            },
            "baxis": {
             "endlinecolor": "#2a3f5f",
             "gridcolor": "white",
             "linecolor": "white",
             "minorgridcolor": "white",
             "startlinecolor": "#2a3f5f"
            },
            "type": "carpet"
           }
          ],
          "choropleth": [
           {
            "colorbar": {
             "outlinewidth": 0,
             "ticks": ""
            },
            "type": "choropleth"
           }
          ],
          "contour": [
           {
            "colorbar": {
             "outlinewidth": 0,
             "ticks": ""
            },
            "colorscale": [
             [
              0,
              "#0d0887"
             ],
             [
              0.1111111111111111,
              "#46039f"
             ],
             [
              0.2222222222222222,
              "#7201a8"
             ],
             [
              0.3333333333333333,
              "#9c179e"
             ],
             [
              0.4444444444444444,
              "#bd3786"
             ],
             [
              0.5555555555555556,
              "#d8576b"
             ],
             [
              0.6666666666666666,
              "#ed7953"
             ],
             [
              0.7777777777777778,
              "#fb9f3a"
             ],
             [
              0.8888888888888888,
              "#fdca26"
             ],
             [
              1,
              "#f0f921"
             ]
            ],
            "type": "contour"
           }
          ],
          "contourcarpet": [
           {
            "colorbar": {
             "outlinewidth": 0,
             "ticks": ""
            },
            "type": "contourcarpet"
           }
          ],
          "heatmap": [
           {
            "colorbar": {
             "outlinewidth": 0,
             "ticks": ""
            },
            "colorscale": [
             [
              0,
              "#0d0887"
             ],
             [
              0.1111111111111111,
              "#46039f"
             ],
             [
              0.2222222222222222,
              "#7201a8"
             ],
             [
              0.3333333333333333,
              "#9c179e"
             ],
             [
              0.4444444444444444,
              "#bd3786"
             ],
             [
              0.5555555555555556,
              "#d8576b"
             ],
             [
              0.6666666666666666,
              "#ed7953"
             ],
             [
              0.7777777777777778,
              "#fb9f3a"
             ],
             [
              0.8888888888888888,
              "#fdca26"
             ],
             [
              1,
              "#f0f921"
             ]
            ],
            "type": "heatmap"
           }
          ],
          "heatmapgl": [
           {
            "colorbar": {
             "outlinewidth": 0,
             "ticks": ""
            },
            "colorscale": [
             [
              0,
              "#0d0887"
             ],
             [
              0.1111111111111111,
              "#46039f"
             ],
             [
              0.2222222222222222,
              "#7201a8"
             ],
             [
              0.3333333333333333,
              "#9c179e"
             ],
             [
              0.4444444444444444,
              "#bd3786"
             ],
             [
              0.5555555555555556,
              "#d8576b"
             ],
             [
              0.6666666666666666,
              "#ed7953"
             ],
             [
              0.7777777777777778,
              "#fb9f3a"
             ],
             [
              0.8888888888888888,
              "#fdca26"
             ],
             [
              1,
              "#f0f921"
             ]
            ],
            "type": "heatmapgl"
           }
          ],
          "histogram": [
           {
            "marker": {
             "pattern": {
              "fillmode": "overlay",
              "size": 10,
              "solidity": 0.2
             }
            },
            "type": "histogram"
           }
          ],
          "histogram2d": [
           {
            "colorbar": {
             "outlinewidth": 0,
             "ticks": ""
            },
            "colorscale": [
             [
              0,
              "#0d0887"
             ],
             [
              0.1111111111111111,
              "#46039f"
             ],
             [
              0.2222222222222222,
              "#7201a8"
             ],
             [
              0.3333333333333333,
              "#9c179e"
             ],
             [
              0.4444444444444444,
              "#bd3786"
             ],
             [
              0.5555555555555556,
              "#d8576b"
             ],
             [
              0.6666666666666666,
              "#ed7953"
             ],
             [
              0.7777777777777778,
              "#fb9f3a"
             ],
             [
              0.8888888888888888,
              "#fdca26"
             ],
             [
              1,
              "#f0f921"
             ]
            ],
            "type": "histogram2d"
           }
          ],
          "histogram2dcontour": [
           {
            "colorbar": {
             "outlinewidth": 0,
             "ticks": ""
            },
            "colorscale": [
             [
              0,
              "#0d0887"
             ],
             [
              0.1111111111111111,
              "#46039f"
             ],
             [
              0.2222222222222222,
              "#7201a8"
             ],
             [
              0.3333333333333333,
              "#9c179e"
             ],
             [
              0.4444444444444444,
              "#bd3786"
             ],
             [
              0.5555555555555556,
              "#d8576b"
             ],
             [
              0.6666666666666666,
              "#ed7953"
             ],
             [
              0.7777777777777778,
              "#fb9f3a"
             ],
             [
              0.8888888888888888,
              "#fdca26"
             ],
             [
              1,
              "#f0f921"
             ]
            ],
            "type": "histogram2dcontour"
           }
          ],
          "mesh3d": [
           {
            "colorbar": {
             "outlinewidth": 0,
             "ticks": ""
            },
            "type": "mesh3d"
           }
          ],
          "parcoords": [
           {
            "line": {
             "colorbar": {
              "outlinewidth": 0,
              "ticks": ""
             }
            },
            "type": "parcoords"
           }
          ],
          "pie": [
           {
            "automargin": true,
            "type": "pie"
           }
          ],
          "scatter": [
           {
            "marker": {
             "colorbar": {
              "outlinewidth": 0,
              "ticks": ""
             }
            },
            "type": "scatter"
           }
          ],
          "scatter3d": [
           {
            "line": {
             "colorbar": {
              "outlinewidth": 0,
              "ticks": ""
             }
            },
            "marker": {
             "colorbar": {
              "outlinewidth": 0,
              "ticks": ""
             }
            },
            "type": "scatter3d"
           }
          ],
          "scattercarpet": [
           {
            "marker": {
             "colorbar": {
              "outlinewidth": 0,
              "ticks": ""
             }
            },
            "type": "scattercarpet"
           }
          ],
          "scattergeo": [
           {
            "marker": {
             "colorbar": {
              "outlinewidth": 0,
              "ticks": ""
             }
            },
            "type": "scattergeo"
           }
          ],
          "scattergl": [
           {
            "marker": {
             "colorbar": {
              "outlinewidth": 0,
              "ticks": ""
             }
            },
            "type": "scattergl"
           }
          ],
          "scattermapbox": [
           {
            "marker": {
             "colorbar": {
              "outlinewidth": 0,
              "ticks": ""
             }
            },
            "type": "scattermapbox"
           }
          ],
          "scatterpolar": [
           {
            "marker": {
             "colorbar": {
              "outlinewidth": 0,
              "ticks": ""
             }
            },
            "type": "scatterpolar"
           }
          ],
          "scatterpolargl": [
           {
            "marker": {
             "colorbar": {
              "outlinewidth": 0,
              "ticks": ""
             }
            },
            "type": "scatterpolargl"
           }
          ],
          "scatterternary": [
           {
            "marker": {
             "colorbar": {
              "outlinewidth": 0,
              "ticks": ""
             }
            },
            "type": "scatterternary"
           }
          ],
          "surface": [
           {
            "colorbar": {
             "outlinewidth": 0,
             "ticks": ""
            },
            "colorscale": [
             [
              0,
              "#0d0887"
             ],
             [
              0.1111111111111111,
              "#46039f"
             ],
             [
              0.2222222222222222,
              "#7201a8"
             ],
             [
              0.3333333333333333,
              "#9c179e"
             ],
             [
              0.4444444444444444,
              "#bd3786"
             ],
             [
              0.5555555555555556,
              "#d8576b"
             ],
             [
              0.6666666666666666,
              "#ed7953"
             ],
             [
              0.7777777777777778,
              "#fb9f3a"
             ],
             [
              0.8888888888888888,
              "#fdca26"
             ],
             [
              1,
              "#f0f921"
             ]
            ],
            "type": "surface"
           }
          ],
          "table": [
           {
            "cells": {
             "fill": {
              "color": "#EBF0F8"
             },
             "line": {
              "color": "white"
             }
            },
            "header": {
             "fill": {
              "color": "#C8D4E3"
             },
             "line": {
              "color": "white"
             }
            },
            "type": "table"
           }
          ]
         },
         "layout": {
          "annotationdefaults": {
           "arrowcolor": "#2a3f5f",
           "arrowhead": 0,
           "arrowwidth": 1
          },
          "autotypenumbers": "strict",
          "coloraxis": {
           "colorbar": {
            "outlinewidth": 0,
            "ticks": ""
           }
          },
          "colorscale": {
           "diverging": [
            [
             0,
             "#8e0152"
            ],
            [
             0.1,
             "#c51b7d"
            ],
            [
             0.2,
             "#de77ae"
            ],
            [
             0.3,
             "#f1b6da"
            ],
            [
             0.4,
             "#fde0ef"
            ],
            [
             0.5,
             "#f7f7f7"
            ],
            [
             0.6,
             "#e6f5d0"
            ],
            [
             0.7,
             "#b8e186"
            ],
            [
             0.8,
             "#7fbc41"
            ],
            [
             0.9,
             "#4d9221"
            ],
            [
             1,
             "#276419"
            ]
           ],
           "sequential": [
            [
             0,
             "#0d0887"
            ],
            [
             0.1111111111111111,
             "#46039f"
            ],
            [
             0.2222222222222222,
             "#7201a8"
            ],
            [
             0.3333333333333333,
             "#9c179e"
            ],
            [
             0.4444444444444444,
             "#bd3786"
            ],
            [
             0.5555555555555556,
             "#d8576b"
            ],
            [
             0.6666666666666666,
             "#ed7953"
            ],
            [
             0.7777777777777778,
             "#fb9f3a"
            ],
            [
             0.8888888888888888,
             "#fdca26"
            ],
            [
             1,
             "#f0f921"
            ]
           ],
           "sequentialminus": [
            [
             0,
             "#0d0887"
            ],
            [
             0.1111111111111111,
             "#46039f"
            ],
            [
             0.2222222222222222,
             "#7201a8"
            ],
            [
             0.3333333333333333,
             "#9c179e"
            ],
            [
             0.4444444444444444,
             "#bd3786"
            ],
            [
             0.5555555555555556,
             "#d8576b"
            ],
            [
             0.6666666666666666,
             "#ed7953"
            ],
            [
             0.7777777777777778,
             "#fb9f3a"
            ],
            [
             0.8888888888888888,
             "#fdca26"
            ],
            [
             1,
             "#f0f921"
            ]
           ]
          },
          "colorway": [
           "#636efa",
           "#EF553B",
           "#00cc96",
           "#ab63fa",
           "#FFA15A",
           "#19d3f3",
           "#FF6692",
           "#B6E880",
           "#FF97FF",
           "#FECB52"
          ],
          "font": {
           "color": "#2a3f5f"
          },
          "geo": {
           "bgcolor": "white",
           "lakecolor": "white",
           "landcolor": "#E5ECF6",
           "showlakes": true,
           "showland": true,
           "subunitcolor": "white"
          },
          "hoverlabel": {
           "align": "left"
          },
          "hovermode": "closest",
          "mapbox": {
           "style": "light"
          },
          "paper_bgcolor": "white",
          "plot_bgcolor": "#E5ECF6",
          "polar": {
           "angularaxis": {
            "gridcolor": "white",
            "linecolor": "white",
            "ticks": ""
           },
           "bgcolor": "#E5ECF6",
           "radialaxis": {
            "gridcolor": "white",
            "linecolor": "white",
            "ticks": ""
           }
          },
          "scene": {
           "xaxis": {
            "backgroundcolor": "#E5ECF6",
            "gridcolor": "white",
            "gridwidth": 2,
            "linecolor": "white",
            "showbackground": true,
            "ticks": "",
            "zerolinecolor": "white"
           },
           "yaxis": {
            "backgroundcolor": "#E5ECF6",
            "gridcolor": "white",
            "gridwidth": 2,
            "linecolor": "white",
            "showbackground": true,
            "ticks": "",
            "zerolinecolor": "white"
           },
           "zaxis": {
            "backgroundcolor": "#E5ECF6",
            "gridcolor": "white",
            "gridwidth": 2,
            "linecolor": "white",
            "showbackground": true,
            "ticks": "",
            "zerolinecolor": "white"
           }
          },
          "shapedefaults": {
           "line": {
            "color": "#2a3f5f"
           }
          },
          "ternary": {
           "aaxis": {
            "gridcolor": "white",
            "linecolor": "white",
            "ticks": ""
           },
           "baxis": {
            "gridcolor": "white",
            "linecolor": "white",
            "ticks": ""
           },
           "bgcolor": "#E5ECF6",
           "caxis": {
            "gridcolor": "white",
            "linecolor": "white",
            "ticks": ""
           }
          },
          "title": {
           "x": 0.05
          },
          "xaxis": {
           "automargin": true,
           "gridcolor": "white",
           "linecolor": "white",
           "ticks": "",
           "title": {
            "standoff": 15
           },
           "zerolinecolor": "white",
           "zerolinewidth": 2
          },
          "yaxis": {
           "automargin": true,
           "gridcolor": "white",
           "linecolor": "white",
           "ticks": "",
           "title": {
            "standoff": 15
           },
           "zerolinecolor": "white",
           "zerolinewidth": 2
          }
         }
        },
        "title": {
         "text": "TSR Comparisons by Ticker"
        },
        "xaxis": {
         "title": {
          "text": "Ticker"
         }
        },
        "yaxis": {
         "title": {
          "text": "Returns"
         }
        }
       }
      },
      "text/html": [
       "<div>                            <div id=\"449f5189-67c0-46b7-bfb0-53151ca95da6\" class=\"plotly-graph-div\" style=\"height:525px; width:100%;\"></div>            <script type=\"text/javascript\">                require([\"plotly\"], function(Plotly) {                    window.PLOTLYENV=window.PLOTLYENV || {};                                    if (document.getElementById(\"449f5189-67c0-46b7-bfb0-53151ca95da6\")) {                    Plotly.newPlot(                        \"449f5189-67c0-46b7-bfb0-53151ca95da6\",                        [{\"mode\":\"lines+markers\",\"name\":\"Cum Invst\",\"x\":[\"AGG 0\",\"DBC 1\",\"IAU 2\",\"IGOV 3\",\"VEU 4\",\"VNQ 5\",\"VTI 6\",\"VTI 7\"],\"y\":[2393.0,2969.62,3595.12,4000.88,8612.48,9253.56,15603.96,18441.399999999998],\"type\":\"scatter\"},{\"mode\":\"lines+markers\",\"name\":\"Cum Stock Returns\",\"x\":[\"AGG 0\",\"DBC 1\",\"IAU 2\",\"IGOV 3\",\"VEU 4\",\"VNQ 5\",\"VTI 6\",\"VTI 7\"],\"y\":[2840.33536529541,3195.490649230957,4417.490675933837,4820.422245101806,10542.63292472827,11580.104190780516,22583.85288804614,27474.407864608642],\"type\":\"scatter\"},{\"mode\":\"lines+markers\",\"name\":\"Cum SP500 Returns\",\"x\":[\"AGG 0\",\"DBC 1\",\"IAU 2\",\"IGOV 3\",\"VEU 4\",\"VNQ 5\",\"VTI 6\",\"VTI 7\"],\"y\":[3997.5534932872706,4960.808526843186,5931.536651415434,6609.366699654566,14313.135061394467,15384.07179080383,25992.53969877353,30700.4218037549],\"type\":\"scatter\"}],                        {\"barmode\":\"group\",\"legend\":{\"x\":1,\"y\":1},\"template\":{\"data\":{\"barpolar\":[{\"marker\":{\"line\":{\"color\":\"#E5ECF6\",\"width\":0.5},\"pattern\":{\"fillmode\":\"overlay\",\"size\":10,\"solidity\":0.2}},\"type\":\"barpolar\"}],\"bar\":[{\"error_x\":{\"color\":\"#2a3f5f\"},\"error_y\":{\"color\":\"#2a3f5f\"},\"marker\":{\"line\":{\"color\":\"#E5ECF6\",\"width\":0.5},\"pattern\":{\"fillmode\":\"overlay\",\"size\":10,\"solidity\":0.2}},\"type\":\"bar\"}],\"carpet\":[{\"aaxis\":{\"endlinecolor\":\"#2a3f5f\",\"gridcolor\":\"white\",\"linecolor\":\"white\",\"minorgridcolor\":\"white\",\"startlinecolor\":\"#2a3f5f\"},\"baxis\":{\"endlinecolor\":\"#2a3f5f\",\"gridcolor\":\"white\",\"linecolor\":\"white\",\"minorgridcolor\":\"white\",\"startlinecolor\":\"#2a3f5f\"},\"type\":\"carpet\"}],\"choropleth\":[{\"colorbar\":{\"outlinewidth\":0,\"ticks\":\"\"},\"type\":\"choropleth\"}],\"contourcarpet\":[{\"colorbar\":{\"outlinewidth\":0,\"ticks\":\"\"},\"type\":\"contourcarpet\"}],\"contour\":[{\"colorbar\":{\"outlinewidth\":0,\"ticks\":\"\"},\"colorscale\":[[0.0,\"#0d0887\"],[0.1111111111111111,\"#46039f\"],[0.2222222222222222,\"#7201a8\"],[0.3333333333333333,\"#9c179e\"],[0.4444444444444444,\"#bd3786\"],[0.5555555555555556,\"#d8576b\"],[0.6666666666666666,\"#ed7953\"],[0.7777777777777778,\"#fb9f3a\"],[0.8888888888888888,\"#fdca26\"],[1.0,\"#f0f921\"]],\"type\":\"contour\"}],\"heatmapgl\":[{\"colorbar\":{\"outlinewidth\":0,\"ticks\":\"\"},\"colorscale\":[[0.0,\"#0d0887\"],[0.1111111111111111,\"#46039f\"],[0.2222222222222222,\"#7201a8\"],[0.3333333333333333,\"#9c179e\"],[0.4444444444444444,\"#bd3786\"],[0.5555555555555556,\"#d8576b\"],[0.6666666666666666,\"#ed7953\"],[0.7777777777777778,\"#fb9f3a\"],[0.8888888888888888,\"#fdca26\"],[1.0,\"#f0f921\"]],\"type\":\"heatmapgl\"}],\"heatmap\":[{\"colorbar\":{\"outlinewidth\":0,\"ticks\":\"\"},\"colorscale\":[[0.0,\"#0d0887\"],[0.1111111111111111,\"#46039f\"],[0.2222222222222222,\"#7201a8\"],[0.3333333333333333,\"#9c179e\"],[0.4444444444444444,\"#bd3786\"],[0.5555555555555556,\"#d8576b\"],[0.6666666666666666,\"#ed7953\"],[0.7777777777777778,\"#fb9f3a\"],[0.8888888888888888,\"#fdca26\"],[1.0,\"#f0f921\"]],\"type\":\"heatmap\"}],\"histogram2dcontour\":[{\"colorbar\":{\"outlinewidth\":0,\"ticks\":\"\"},\"colorscale\":[[0.0,\"#0d0887\"],[0.1111111111111111,\"#46039f\"],[0.2222222222222222,\"#7201a8\"],[0.3333333333333333,\"#9c179e\"],[0.4444444444444444,\"#bd3786\"],[0.5555555555555556,\"#d8576b\"],[0.6666666666666666,\"#ed7953\"],[0.7777777777777778,\"#fb9f3a\"],[0.8888888888888888,\"#fdca26\"],[1.0,\"#f0f921\"]],\"type\":\"histogram2dcontour\"}],\"histogram2d\":[{\"colorbar\":{\"outlinewidth\":0,\"ticks\":\"\"},\"colorscale\":[[0.0,\"#0d0887\"],[0.1111111111111111,\"#46039f\"],[0.2222222222222222,\"#7201a8\"],[0.3333333333333333,\"#9c179e\"],[0.4444444444444444,\"#bd3786\"],[0.5555555555555556,\"#d8576b\"],[0.6666666666666666,\"#ed7953\"],[0.7777777777777778,\"#fb9f3a\"],[0.8888888888888888,\"#fdca26\"],[1.0,\"#f0f921\"]],\"type\":\"histogram2d\"}],\"histogram\":[{\"marker\":{\"pattern\":{\"fillmode\":\"overlay\",\"size\":10,\"solidity\":0.2}},\"type\":\"histogram\"}],\"mesh3d\":[{\"colorbar\":{\"outlinewidth\":0,\"ticks\":\"\"},\"type\":\"mesh3d\"}],\"parcoords\":[{\"line\":{\"colorbar\":{\"outlinewidth\":0,\"ticks\":\"\"}},\"type\":\"parcoords\"}],\"pie\":[{\"automargin\":true,\"type\":\"pie\"}],\"scatter3d\":[{\"line\":{\"colorbar\":{\"outlinewidth\":0,\"ticks\":\"\"}},\"marker\":{\"colorbar\":{\"outlinewidth\":0,\"ticks\":\"\"}},\"type\":\"scatter3d\"}],\"scattercarpet\":[{\"marker\":{\"colorbar\":{\"outlinewidth\":0,\"ticks\":\"\"}},\"type\":\"scattercarpet\"}],\"scattergeo\":[{\"marker\":{\"colorbar\":{\"outlinewidth\":0,\"ticks\":\"\"}},\"type\":\"scattergeo\"}],\"scattergl\":[{\"marker\":{\"colorbar\":{\"outlinewidth\":0,\"ticks\":\"\"}},\"type\":\"scattergl\"}],\"scattermapbox\":[{\"marker\":{\"colorbar\":{\"outlinewidth\":0,\"ticks\":\"\"}},\"type\":\"scattermapbox\"}],\"scatterpolargl\":[{\"marker\":{\"colorbar\":{\"outlinewidth\":0,\"ticks\":\"\"}},\"type\":\"scatterpolargl\"}],\"scatterpolar\":[{\"marker\":{\"colorbar\":{\"outlinewidth\":0,\"ticks\":\"\"}},\"type\":\"scatterpolar\"}],\"scatter\":[{\"marker\":{\"colorbar\":{\"outlinewidth\":0,\"ticks\":\"\"}},\"type\":\"scatter\"}],\"scatterternary\":[{\"marker\":{\"colorbar\":{\"outlinewidth\":0,\"ticks\":\"\"}},\"type\":\"scatterternary\"}],\"surface\":[{\"colorbar\":{\"outlinewidth\":0,\"ticks\":\"\"},\"colorscale\":[[0.0,\"#0d0887\"],[0.1111111111111111,\"#46039f\"],[0.2222222222222222,\"#7201a8\"],[0.3333333333333333,\"#9c179e\"],[0.4444444444444444,\"#bd3786\"],[0.5555555555555556,\"#d8576b\"],[0.6666666666666666,\"#ed7953\"],[0.7777777777777778,\"#fb9f3a\"],[0.8888888888888888,\"#fdca26\"],[1.0,\"#f0f921\"]],\"type\":\"surface\"}],\"table\":[{\"cells\":{\"fill\":{\"color\":\"#EBF0F8\"},\"line\":{\"color\":\"white\"}},\"header\":{\"fill\":{\"color\":\"#C8D4E3\"},\"line\":{\"color\":\"white\"}},\"type\":\"table\"}]},\"layout\":{\"annotationdefaults\":{\"arrowcolor\":\"#2a3f5f\",\"arrowhead\":0,\"arrowwidth\":1},\"autotypenumbers\":\"strict\",\"coloraxis\":{\"colorbar\":{\"outlinewidth\":0,\"ticks\":\"\"}},\"colorscale\":{\"diverging\":[[0,\"#8e0152\"],[0.1,\"#c51b7d\"],[0.2,\"#de77ae\"],[0.3,\"#f1b6da\"],[0.4,\"#fde0ef\"],[0.5,\"#f7f7f7\"],[0.6,\"#e6f5d0\"],[0.7,\"#b8e186\"],[0.8,\"#7fbc41\"],[0.9,\"#4d9221\"],[1,\"#276419\"]],\"sequential\":[[0.0,\"#0d0887\"],[0.1111111111111111,\"#46039f\"],[0.2222222222222222,\"#7201a8\"],[0.3333333333333333,\"#9c179e\"],[0.4444444444444444,\"#bd3786\"],[0.5555555555555556,\"#d8576b\"],[0.6666666666666666,\"#ed7953\"],[0.7777777777777778,\"#fb9f3a\"],[0.8888888888888888,\"#fdca26\"],[1.0,\"#f0f921\"]],\"sequentialminus\":[[0.0,\"#0d0887\"],[0.1111111111111111,\"#46039f\"],[0.2222222222222222,\"#7201a8\"],[0.3333333333333333,\"#9c179e\"],[0.4444444444444444,\"#bd3786\"],[0.5555555555555556,\"#d8576b\"],[0.6666666666666666,\"#ed7953\"],[0.7777777777777778,\"#fb9f3a\"],[0.8888888888888888,\"#fdca26\"],[1.0,\"#f0f921\"]]},\"colorway\":[\"#636efa\",\"#EF553B\",\"#00cc96\",\"#ab63fa\",\"#FFA15A\",\"#19d3f3\",\"#FF6692\",\"#B6E880\",\"#FF97FF\",\"#FECB52\"],\"font\":{\"color\":\"#2a3f5f\"},\"geo\":{\"bgcolor\":\"white\",\"lakecolor\":\"white\",\"landcolor\":\"#E5ECF6\",\"showlakes\":true,\"showland\":true,\"subunitcolor\":\"white\"},\"hoverlabel\":{\"align\":\"left\"},\"hovermode\":\"closest\",\"mapbox\":{\"style\":\"light\"},\"paper_bgcolor\":\"white\",\"plot_bgcolor\":\"#E5ECF6\",\"polar\":{\"angularaxis\":{\"gridcolor\":\"white\",\"linecolor\":\"white\",\"ticks\":\"\"},\"bgcolor\":\"#E5ECF6\",\"radialaxis\":{\"gridcolor\":\"white\",\"linecolor\":\"white\",\"ticks\":\"\"}},\"scene\":{\"xaxis\":{\"backgroundcolor\":\"#E5ECF6\",\"gridcolor\":\"white\",\"gridwidth\":2,\"linecolor\":\"white\",\"showbackground\":true,\"ticks\":\"\",\"zerolinecolor\":\"white\"},\"yaxis\":{\"backgroundcolor\":\"#E5ECF6\",\"gridcolor\":\"white\",\"gridwidth\":2,\"linecolor\":\"white\",\"showbackground\":true,\"ticks\":\"\",\"zerolinecolor\":\"white\"},\"zaxis\":{\"backgroundcolor\":\"#E5ECF6\",\"gridcolor\":\"white\",\"gridwidth\":2,\"linecolor\":\"white\",\"showbackground\":true,\"ticks\":\"\",\"zerolinecolor\":\"white\"}},\"shapedefaults\":{\"line\":{\"color\":\"#2a3f5f\"}},\"ternary\":{\"aaxis\":{\"gridcolor\":\"white\",\"linecolor\":\"white\",\"ticks\":\"\"},\"baxis\":{\"gridcolor\":\"white\",\"linecolor\":\"white\",\"ticks\":\"\"},\"bgcolor\":\"#E5ECF6\",\"caxis\":{\"gridcolor\":\"white\",\"linecolor\":\"white\",\"ticks\":\"\"}},\"title\":{\"x\":0.05},\"xaxis\":{\"automargin\":true,\"gridcolor\":\"white\",\"linecolor\":\"white\",\"ticks\":\"\",\"title\":{\"standoff\":15},\"zerolinecolor\":\"white\",\"zerolinewidth\":2},\"yaxis\":{\"automargin\":true,\"gridcolor\":\"white\",\"linecolor\":\"white\",\"ticks\":\"\",\"title\":{\"standoff\":15},\"zerolinecolor\":\"white\",\"zerolinewidth\":2}}},\"title\":{\"text\":\"TSR Comparisons by Ticker\"},\"xaxis\":{\"title\":{\"text\":\"Ticker\"}},\"yaxis\":{\"title\":{\"text\":\"Returns\"}}},                        {\"responsive\": true}                    ).then(function(){\n",
       "                            \n",
       "var gd = document.getElementById('449f5189-67c0-46b7-bfb0-53151ca95da6');\n",
       "var x = new MutationObserver(function (mutations, observer) {{\n",
       "        var display = window.getComputedStyle(gd).display;\n",
       "        if (!display || display === 'none') {{\n",
       "            console.log([gd, 'removed!']);\n",
       "            Plotly.purge(gd);\n",
       "            observer.disconnect();\n",
       "        }}\n",
       "}});\n",
       "\n",
       "// Listen for the removal of the full notebook cells\n",
       "var notebookContainer = gd.closest('#notebook-container');\n",
       "if (notebookContainer) {{\n",
       "    x.observe(notebookContainer, {childList: true});\n",
       "}}\n",
       "\n",
       "// Listen for the clearing of the current output cell\n",
       "var outputEl = gd.closest('.output');\n",
       "if (outputEl) {{\n",
       "    x.observe(outputEl, {childList: true});\n",
       "}}\n",
       "\n",
       "                        })                };                });            </script>        </div>"
      ]
     },
     "metadata": {},
     "output_type": "display_data"
    }
   ],
   "source": [
    "trace1 = go.Scatter(\n",
    "    x = merged_portfolio_sp_latest_YTD_sp_closing_high_incl_divs['Ticker #'],\n",
    "    y = merged_portfolio_sp_latest_YTD_sp_closing_high_incl_divs['Cum Invst'],\n",
    "    mode = 'lines+markers',\n",
    "    name = 'Cum Invst')\n",
    "\n",
    "trace2 = go.Scatter(\n",
    "    x = merged_portfolio_sp_latest_YTD_sp_closing_high_incl_divs['Ticker #'],\n",
    "    y = merged_portfolio_sp_latest_YTD_sp_closing_high_incl_divs['Cum Stock Returns'],\n",
    "    mode = 'lines+markers',\n",
    "    name = 'Cum Stock Returns')\n",
    "\n",
    "trace3 = go.Scatter(\n",
    "    x = merged_portfolio_sp_latest_YTD_sp_closing_high_incl_divs['Ticker #'],\n",
    "    y = merged_portfolio_sp_latest_YTD_sp_closing_high_incl_divs['Cum Total SP Returns'],\n",
    "    mode = 'lines+markers',\n",
    "    name = 'Cum SP500 Returns')\n",
    "\n",
    "data = [trace1, trace2, trace3]\n",
    "\n",
    "layout = go.Layout(title = 'TSR Comparisons by Ticker'\n",
    "    , barmode = 'group'\n",
    "    , yaxis=dict(title='Returns')\n",
    "    , xaxis=dict(title='Ticker')\n",
    "    , legend=dict(x=1,y=1)\n",
    "    )\n",
    "\n",
    "fig = go.Figure(data=data, layout=layout)\n",
    "iplot(fig)"
   ]
  },
  {
   "cell_type": "code",
   "execution_count": 136,
   "metadata": {},
   "outputs": [
    {
     "data": {
      "application/vnd.plotly.v1+json": {
       "config": {
        "linkText": "Export to plot.ly",
        "plotlyServerURL": "https://plot.ly",
        "showLink": false
       },
       "data": [
        {
         "mode": "lines+markers",
         "name": "Cum Ticker Returns Pct",
         "type": "scatter",
         "x": [
          "AGG 0",
          "DBC 1",
          "IAU 2",
          "IGOV 3",
          "VEU 4",
          "VNQ 5",
          "VTI 6",
          "VTI 7"
         ],
         "y": [
          0.18693496251375263,
          0.0760604552875308,
          0.22874637729306313,
          0.2048404963662509,
          0.22411116481295412,
          0.25142152758295366,
          0.4473154819703551,
          0.4898222404269006
         ]
        },
        {
         "mode": "lines+markers",
         "name": "Cum SP Returns Pct",
         "type": "scatter",
         "x": [
          "AGG 0",
          "DBC 1",
          "IAU 2",
          "IGOV 3",
          "VEU 4",
          "VNQ 5",
          "VTI 6",
          "VTI 7"
         ],
         "y": [
          0.6705196378133182,
          0.6705196378133182,
          0.6498855814035231,
          0.6519782397009073,
          0.6619063337615261,
          0.6625030572886359,
          0.6657655940398162,
          0.664755485145103
         ]
        }
       ],
       "layout": {
        "barmode": "group",
        "legend": {
         "x": 1,
         "y": 1
        },
        "template": {
         "data": {
          "bar": [
           {
            "error_x": {
             "color": "#2a3f5f"
            },
            "error_y": {
             "color": "#2a3f5f"
            },
            "marker": {
             "line": {
              "color": "#E5ECF6",
              "width": 0.5
             },
             "pattern": {
              "fillmode": "overlay",
              "size": 10,
              "solidity": 0.2
             }
            },
            "type": "bar"
           }
          ],
          "barpolar": [
           {
            "marker": {
             "line": {
              "color": "#E5ECF6",
              "width": 0.5
             },
             "pattern": {
              "fillmode": "overlay",
              "size": 10,
              "solidity": 0.2
             }
            },
            "type": "barpolar"
           }
          ],
          "carpet": [
           {
            "aaxis": {
             "endlinecolor": "#2a3f5f",
             "gridcolor": "white",
             "linecolor": "white",
             "minorgridcolor": "white",
             "startlinecolor": "#2a3f5f"
            },
            "baxis": {
             "endlinecolor": "#2a3f5f",
             "gridcolor": "white",
             "linecolor": "white",
             "minorgridcolor": "white",
             "startlinecolor": "#2a3f5f"
            },
            "type": "carpet"
           }
          ],
          "choropleth": [
           {
            "colorbar": {
             "outlinewidth": 0,
             "ticks": ""
            },
            "type": "choropleth"
           }
          ],
          "contour": [
           {
            "colorbar": {
             "outlinewidth": 0,
             "ticks": ""
            },
            "colorscale": [
             [
              0,
              "#0d0887"
             ],
             [
              0.1111111111111111,
              "#46039f"
             ],
             [
              0.2222222222222222,
              "#7201a8"
             ],
             [
              0.3333333333333333,
              "#9c179e"
             ],
             [
              0.4444444444444444,
              "#bd3786"
             ],
             [
              0.5555555555555556,
              "#d8576b"
             ],
             [
              0.6666666666666666,
              "#ed7953"
             ],
             [
              0.7777777777777778,
              "#fb9f3a"
             ],
             [
              0.8888888888888888,
              "#fdca26"
             ],
             [
              1,
              "#f0f921"
             ]
            ],
            "type": "contour"
           }
          ],
          "contourcarpet": [
           {
            "colorbar": {
             "outlinewidth": 0,
             "ticks": ""
            },
            "type": "contourcarpet"
           }
          ],
          "heatmap": [
           {
            "colorbar": {
             "outlinewidth": 0,
             "ticks": ""
            },
            "colorscale": [
             [
              0,
              "#0d0887"
             ],
             [
              0.1111111111111111,
              "#46039f"
             ],
             [
              0.2222222222222222,
              "#7201a8"
             ],
             [
              0.3333333333333333,
              "#9c179e"
             ],
             [
              0.4444444444444444,
              "#bd3786"
             ],
             [
              0.5555555555555556,
              "#d8576b"
             ],
             [
              0.6666666666666666,
              "#ed7953"
             ],
             [
              0.7777777777777778,
              "#fb9f3a"
             ],
             [
              0.8888888888888888,
              "#fdca26"
             ],
             [
              1,
              "#f0f921"
             ]
            ],
            "type": "heatmap"
           }
          ],
          "heatmapgl": [
           {
            "colorbar": {
             "outlinewidth": 0,
             "ticks": ""
            },
            "colorscale": [
             [
              0,
              "#0d0887"
             ],
             [
              0.1111111111111111,
              "#46039f"
             ],
             [
              0.2222222222222222,
              "#7201a8"
             ],
             [
              0.3333333333333333,
              "#9c179e"
             ],
             [
              0.4444444444444444,
              "#bd3786"
             ],
             [
              0.5555555555555556,
              "#d8576b"
             ],
             [
              0.6666666666666666,
              "#ed7953"
             ],
             [
              0.7777777777777778,
              "#fb9f3a"
             ],
             [
              0.8888888888888888,
              "#fdca26"
             ],
             [
              1,
              "#f0f921"
             ]
            ],
            "type": "heatmapgl"
           }
          ],
          "histogram": [
           {
            "marker": {
             "pattern": {
              "fillmode": "overlay",
              "size": 10,
              "solidity": 0.2
             }
            },
            "type": "histogram"
           }
          ],
          "histogram2d": [
           {
            "colorbar": {
             "outlinewidth": 0,
             "ticks": ""
            },
            "colorscale": [
             [
              0,
              "#0d0887"
             ],
             [
              0.1111111111111111,
              "#46039f"
             ],
             [
              0.2222222222222222,
              "#7201a8"
             ],
             [
              0.3333333333333333,
              "#9c179e"
             ],
             [
              0.4444444444444444,
              "#bd3786"
             ],
             [
              0.5555555555555556,
              "#d8576b"
             ],
             [
              0.6666666666666666,
              "#ed7953"
             ],
             [
              0.7777777777777778,
              "#fb9f3a"
             ],
             [
              0.8888888888888888,
              "#fdca26"
             ],
             [
              1,
              "#f0f921"
             ]
            ],
            "type": "histogram2d"
           }
          ],
          "histogram2dcontour": [
           {
            "colorbar": {
             "outlinewidth": 0,
             "ticks": ""
            },
            "colorscale": [
             [
              0,
              "#0d0887"
             ],
             [
              0.1111111111111111,
              "#46039f"
             ],
             [
              0.2222222222222222,
              "#7201a8"
             ],
             [
              0.3333333333333333,
              "#9c179e"
             ],
             [
              0.4444444444444444,
              "#bd3786"
             ],
             [
              0.5555555555555556,
              "#d8576b"
             ],
             [
              0.6666666666666666,
              "#ed7953"
             ],
             [
              0.7777777777777778,
              "#fb9f3a"
             ],
             [
              0.8888888888888888,
              "#fdca26"
             ],
             [
              1,
              "#f0f921"
             ]
            ],
            "type": "histogram2dcontour"
           }
          ],
          "mesh3d": [
           {
            "colorbar": {
             "outlinewidth": 0,
             "ticks": ""
            },
            "type": "mesh3d"
           }
          ],
          "parcoords": [
           {
            "line": {
             "colorbar": {
              "outlinewidth": 0,
              "ticks": ""
             }
            },
            "type": "parcoords"
           }
          ],
          "pie": [
           {
            "automargin": true,
            "type": "pie"
           }
          ],
          "scatter": [
           {
            "marker": {
             "colorbar": {
              "outlinewidth": 0,
              "ticks": ""
             }
            },
            "type": "scatter"
           }
          ],
          "scatter3d": [
           {
            "line": {
             "colorbar": {
              "outlinewidth": 0,
              "ticks": ""
             }
            },
            "marker": {
             "colorbar": {
              "outlinewidth": 0,
              "ticks": ""
             }
            },
            "type": "scatter3d"
           }
          ],
          "scattercarpet": [
           {
            "marker": {
             "colorbar": {
              "outlinewidth": 0,
              "ticks": ""
             }
            },
            "type": "scattercarpet"
           }
          ],
          "scattergeo": [
           {
            "marker": {
             "colorbar": {
              "outlinewidth": 0,
              "ticks": ""
             }
            },
            "type": "scattergeo"
           }
          ],
          "scattergl": [
           {
            "marker": {
             "colorbar": {
              "outlinewidth": 0,
              "ticks": ""
             }
            },
            "type": "scattergl"
           }
          ],
          "scattermapbox": [
           {
            "marker": {
             "colorbar": {
              "outlinewidth": 0,
              "ticks": ""
             }
            },
            "type": "scattermapbox"
           }
          ],
          "scatterpolar": [
           {
            "marker": {
             "colorbar": {
              "outlinewidth": 0,
              "ticks": ""
             }
            },
            "type": "scatterpolar"
           }
          ],
          "scatterpolargl": [
           {
            "marker": {
             "colorbar": {
              "outlinewidth": 0,
              "ticks": ""
             }
            },
            "type": "scatterpolargl"
           }
          ],
          "scatterternary": [
           {
            "marker": {
             "colorbar": {
              "outlinewidth": 0,
              "ticks": ""
             }
            },
            "type": "scatterternary"
           }
          ],
          "surface": [
           {
            "colorbar": {
             "outlinewidth": 0,
             "ticks": ""
            },
            "colorscale": [
             [
              0,
              "#0d0887"
             ],
             [
              0.1111111111111111,
              "#46039f"
             ],
             [
              0.2222222222222222,
              "#7201a8"
             ],
             [
              0.3333333333333333,
              "#9c179e"
             ],
             [
              0.4444444444444444,
              "#bd3786"
             ],
             [
              0.5555555555555556,
              "#d8576b"
             ],
             [
              0.6666666666666666,
              "#ed7953"
             ],
             [
              0.7777777777777778,
              "#fb9f3a"
             ],
             [
              0.8888888888888888,
              "#fdca26"
             ],
             [
              1,
              "#f0f921"
             ]
            ],
            "type": "surface"
           }
          ],
          "table": [
           {
            "cells": {
             "fill": {
              "color": "#EBF0F8"
             },
             "line": {
              "color": "white"
             }
            },
            "header": {
             "fill": {
              "color": "#C8D4E3"
             },
             "line": {
              "color": "white"
             }
            },
            "type": "table"
           }
          ]
         },
         "layout": {
          "annotationdefaults": {
           "arrowcolor": "#2a3f5f",
           "arrowhead": 0,
           "arrowwidth": 1
          },
          "autotypenumbers": "strict",
          "coloraxis": {
           "colorbar": {
            "outlinewidth": 0,
            "ticks": ""
           }
          },
          "colorscale": {
           "diverging": [
            [
             0,
             "#8e0152"
            ],
            [
             0.1,
             "#c51b7d"
            ],
            [
             0.2,
             "#de77ae"
            ],
            [
             0.3,
             "#f1b6da"
            ],
            [
             0.4,
             "#fde0ef"
            ],
            [
             0.5,
             "#f7f7f7"
            ],
            [
             0.6,
             "#e6f5d0"
            ],
            [
             0.7,
             "#b8e186"
            ],
            [
             0.8,
             "#7fbc41"
            ],
            [
             0.9,
             "#4d9221"
            ],
            [
             1,
             "#276419"
            ]
           ],
           "sequential": [
            [
             0,
             "#0d0887"
            ],
            [
             0.1111111111111111,
             "#46039f"
            ],
            [
             0.2222222222222222,
             "#7201a8"
            ],
            [
             0.3333333333333333,
             "#9c179e"
            ],
            [
             0.4444444444444444,
             "#bd3786"
            ],
            [
             0.5555555555555556,
             "#d8576b"
            ],
            [
             0.6666666666666666,
             "#ed7953"
            ],
            [
             0.7777777777777778,
             "#fb9f3a"
            ],
            [
             0.8888888888888888,
             "#fdca26"
            ],
            [
             1,
             "#f0f921"
            ]
           ],
           "sequentialminus": [
            [
             0,
             "#0d0887"
            ],
            [
             0.1111111111111111,
             "#46039f"
            ],
            [
             0.2222222222222222,
             "#7201a8"
            ],
            [
             0.3333333333333333,
             "#9c179e"
            ],
            [
             0.4444444444444444,
             "#bd3786"
            ],
            [
             0.5555555555555556,
             "#d8576b"
            ],
            [
             0.6666666666666666,
             "#ed7953"
            ],
            [
             0.7777777777777778,
             "#fb9f3a"
            ],
            [
             0.8888888888888888,
             "#fdca26"
            ],
            [
             1,
             "#f0f921"
            ]
           ]
          },
          "colorway": [
           "#636efa",
           "#EF553B",
           "#00cc96",
           "#ab63fa",
           "#FFA15A",
           "#19d3f3",
           "#FF6692",
           "#B6E880",
           "#FF97FF",
           "#FECB52"
          ],
          "font": {
           "color": "#2a3f5f"
          },
          "geo": {
           "bgcolor": "white",
           "lakecolor": "white",
           "landcolor": "#E5ECF6",
           "showlakes": true,
           "showland": true,
           "subunitcolor": "white"
          },
          "hoverlabel": {
           "align": "left"
          },
          "hovermode": "closest",
          "mapbox": {
           "style": "light"
          },
          "paper_bgcolor": "white",
          "plot_bgcolor": "#E5ECF6",
          "polar": {
           "angularaxis": {
            "gridcolor": "white",
            "linecolor": "white",
            "ticks": ""
           },
           "bgcolor": "#E5ECF6",
           "radialaxis": {
            "gridcolor": "white",
            "linecolor": "white",
            "ticks": ""
           }
          },
          "scene": {
           "xaxis": {
            "backgroundcolor": "#E5ECF6",
            "gridcolor": "white",
            "gridwidth": 2,
            "linecolor": "white",
            "showbackground": true,
            "ticks": "",
            "zerolinecolor": "white"
           },
           "yaxis": {
            "backgroundcolor": "#E5ECF6",
            "gridcolor": "white",
            "gridwidth": 2,
            "linecolor": "white",
            "showbackground": true,
            "ticks": "",
            "zerolinecolor": "white"
           },
           "zaxis": {
            "backgroundcolor": "#E5ECF6",
            "gridcolor": "white",
            "gridwidth": 2,
            "linecolor": "white",
            "showbackground": true,
            "ticks": "",
            "zerolinecolor": "white"
           }
          },
          "shapedefaults": {
           "line": {
            "color": "#2a3f5f"
           }
          },
          "ternary": {
           "aaxis": {
            "gridcolor": "white",
            "linecolor": "white",
            "ticks": ""
           },
           "baxis": {
            "gridcolor": "white",
            "linecolor": "white",
            "ticks": ""
           },
           "bgcolor": "#E5ECF6",
           "caxis": {
            "gridcolor": "white",
            "linecolor": "white",
            "ticks": ""
           }
          },
          "title": {
           "x": 0.05
          },
          "xaxis": {
           "automargin": true,
           "gridcolor": "white",
           "linecolor": "white",
           "ticks": "",
           "title": {
            "standoff": 15
           },
           "zerolinecolor": "white",
           "zerolinewidth": 2
          },
          "yaxis": {
           "automargin": true,
           "gridcolor": "white",
           "linecolor": "white",
           "ticks": "",
           "title": {
            "standoff": 15
           },
           "zerolinecolor": "white",
           "zerolinewidth": 2
          }
         }
        },
        "title": {
         "text": "TSR Pct Comparisons by Ticker"
        },
        "xaxis": {
         "title": {
          "text": "Ticker"
         }
        },
        "yaxis": {
         "tickformat": ".1%",
         "title": {
          "text": "Returns"
         }
        }
       }
      },
      "text/html": [
       "<div>                            <div id=\"1c1ef461-e5ea-4237-b0ce-c6bfc897ff56\" class=\"plotly-graph-div\" style=\"height:525px; width:100%;\"></div>            <script type=\"text/javascript\">                require([\"plotly\"], function(Plotly) {                    window.PLOTLYENV=window.PLOTLYENV || {};                                    if (document.getElementById(\"1c1ef461-e5ea-4237-b0ce-c6bfc897ff56\")) {                    Plotly.newPlot(                        \"1c1ef461-e5ea-4237-b0ce-c6bfc897ff56\",                        [{\"mode\":\"lines+markers\",\"name\":\"Cum Ticker Returns Pct\",\"x\":[\"AGG 0\",\"DBC 1\",\"IAU 2\",\"IGOV 3\",\"VEU 4\",\"VNQ 5\",\"VTI 6\",\"VTI 7\"],\"y\":[0.18693496251375263,0.0760604552875308,0.22874637729306313,0.2048404963662509,0.22411116481295412,0.25142152758295366,0.4473154819703551,0.4898222404269006],\"type\":\"scatter\"},{\"mode\":\"lines+markers\",\"name\":\"Cum SP Returns Pct\",\"x\":[\"AGG 0\",\"DBC 1\",\"IAU 2\",\"IGOV 3\",\"VEU 4\",\"VNQ 5\",\"VTI 6\",\"VTI 7\"],\"y\":[0.6705196378133182,0.6705196378133182,0.6498855814035231,0.6519782397009073,0.6619063337615261,0.6625030572886359,0.6657655940398162,0.664755485145103],\"type\":\"scatter\"}],                        {\"barmode\":\"group\",\"legend\":{\"x\":1,\"y\":1},\"template\":{\"data\":{\"barpolar\":[{\"marker\":{\"line\":{\"color\":\"#E5ECF6\",\"width\":0.5},\"pattern\":{\"fillmode\":\"overlay\",\"size\":10,\"solidity\":0.2}},\"type\":\"barpolar\"}],\"bar\":[{\"error_x\":{\"color\":\"#2a3f5f\"},\"error_y\":{\"color\":\"#2a3f5f\"},\"marker\":{\"line\":{\"color\":\"#E5ECF6\",\"width\":0.5},\"pattern\":{\"fillmode\":\"overlay\",\"size\":10,\"solidity\":0.2}},\"type\":\"bar\"}],\"carpet\":[{\"aaxis\":{\"endlinecolor\":\"#2a3f5f\",\"gridcolor\":\"white\",\"linecolor\":\"white\",\"minorgridcolor\":\"white\",\"startlinecolor\":\"#2a3f5f\"},\"baxis\":{\"endlinecolor\":\"#2a3f5f\",\"gridcolor\":\"white\",\"linecolor\":\"white\",\"minorgridcolor\":\"white\",\"startlinecolor\":\"#2a3f5f\"},\"type\":\"carpet\"}],\"choropleth\":[{\"colorbar\":{\"outlinewidth\":0,\"ticks\":\"\"},\"type\":\"choropleth\"}],\"contourcarpet\":[{\"colorbar\":{\"outlinewidth\":0,\"ticks\":\"\"},\"type\":\"contourcarpet\"}],\"contour\":[{\"colorbar\":{\"outlinewidth\":0,\"ticks\":\"\"},\"colorscale\":[[0.0,\"#0d0887\"],[0.1111111111111111,\"#46039f\"],[0.2222222222222222,\"#7201a8\"],[0.3333333333333333,\"#9c179e\"],[0.4444444444444444,\"#bd3786\"],[0.5555555555555556,\"#d8576b\"],[0.6666666666666666,\"#ed7953\"],[0.7777777777777778,\"#fb9f3a\"],[0.8888888888888888,\"#fdca26\"],[1.0,\"#f0f921\"]],\"type\":\"contour\"}],\"heatmapgl\":[{\"colorbar\":{\"outlinewidth\":0,\"ticks\":\"\"},\"colorscale\":[[0.0,\"#0d0887\"],[0.1111111111111111,\"#46039f\"],[0.2222222222222222,\"#7201a8\"],[0.3333333333333333,\"#9c179e\"],[0.4444444444444444,\"#bd3786\"],[0.5555555555555556,\"#d8576b\"],[0.6666666666666666,\"#ed7953\"],[0.7777777777777778,\"#fb9f3a\"],[0.8888888888888888,\"#fdca26\"],[1.0,\"#f0f921\"]],\"type\":\"heatmapgl\"}],\"heatmap\":[{\"colorbar\":{\"outlinewidth\":0,\"ticks\":\"\"},\"colorscale\":[[0.0,\"#0d0887\"],[0.1111111111111111,\"#46039f\"],[0.2222222222222222,\"#7201a8\"],[0.3333333333333333,\"#9c179e\"],[0.4444444444444444,\"#bd3786\"],[0.5555555555555556,\"#d8576b\"],[0.6666666666666666,\"#ed7953\"],[0.7777777777777778,\"#fb9f3a\"],[0.8888888888888888,\"#fdca26\"],[1.0,\"#f0f921\"]],\"type\":\"heatmap\"}],\"histogram2dcontour\":[{\"colorbar\":{\"outlinewidth\":0,\"ticks\":\"\"},\"colorscale\":[[0.0,\"#0d0887\"],[0.1111111111111111,\"#46039f\"],[0.2222222222222222,\"#7201a8\"],[0.3333333333333333,\"#9c179e\"],[0.4444444444444444,\"#bd3786\"],[0.5555555555555556,\"#d8576b\"],[0.6666666666666666,\"#ed7953\"],[0.7777777777777778,\"#fb9f3a\"],[0.8888888888888888,\"#fdca26\"],[1.0,\"#f0f921\"]],\"type\":\"histogram2dcontour\"}],\"histogram2d\":[{\"colorbar\":{\"outlinewidth\":0,\"ticks\":\"\"},\"colorscale\":[[0.0,\"#0d0887\"],[0.1111111111111111,\"#46039f\"],[0.2222222222222222,\"#7201a8\"],[0.3333333333333333,\"#9c179e\"],[0.4444444444444444,\"#bd3786\"],[0.5555555555555556,\"#d8576b\"],[0.6666666666666666,\"#ed7953\"],[0.7777777777777778,\"#fb9f3a\"],[0.8888888888888888,\"#fdca26\"],[1.0,\"#f0f921\"]],\"type\":\"histogram2d\"}],\"histogram\":[{\"marker\":{\"pattern\":{\"fillmode\":\"overlay\",\"size\":10,\"solidity\":0.2}},\"type\":\"histogram\"}],\"mesh3d\":[{\"colorbar\":{\"outlinewidth\":0,\"ticks\":\"\"},\"type\":\"mesh3d\"}],\"parcoords\":[{\"line\":{\"colorbar\":{\"outlinewidth\":0,\"ticks\":\"\"}},\"type\":\"parcoords\"}],\"pie\":[{\"automargin\":true,\"type\":\"pie\"}],\"scatter3d\":[{\"line\":{\"colorbar\":{\"outlinewidth\":0,\"ticks\":\"\"}},\"marker\":{\"colorbar\":{\"outlinewidth\":0,\"ticks\":\"\"}},\"type\":\"scatter3d\"}],\"scattercarpet\":[{\"marker\":{\"colorbar\":{\"outlinewidth\":0,\"ticks\":\"\"}},\"type\":\"scattercarpet\"}],\"scattergeo\":[{\"marker\":{\"colorbar\":{\"outlinewidth\":0,\"ticks\":\"\"}},\"type\":\"scattergeo\"}],\"scattergl\":[{\"marker\":{\"colorbar\":{\"outlinewidth\":0,\"ticks\":\"\"}},\"type\":\"scattergl\"}],\"scattermapbox\":[{\"marker\":{\"colorbar\":{\"outlinewidth\":0,\"ticks\":\"\"}},\"type\":\"scattermapbox\"}],\"scatterpolargl\":[{\"marker\":{\"colorbar\":{\"outlinewidth\":0,\"ticks\":\"\"}},\"type\":\"scatterpolargl\"}],\"scatterpolar\":[{\"marker\":{\"colorbar\":{\"outlinewidth\":0,\"ticks\":\"\"}},\"type\":\"scatterpolar\"}],\"scatter\":[{\"marker\":{\"colorbar\":{\"outlinewidth\":0,\"ticks\":\"\"}},\"type\":\"scatter\"}],\"scatterternary\":[{\"marker\":{\"colorbar\":{\"outlinewidth\":0,\"ticks\":\"\"}},\"type\":\"scatterternary\"}],\"surface\":[{\"colorbar\":{\"outlinewidth\":0,\"ticks\":\"\"},\"colorscale\":[[0.0,\"#0d0887\"],[0.1111111111111111,\"#46039f\"],[0.2222222222222222,\"#7201a8\"],[0.3333333333333333,\"#9c179e\"],[0.4444444444444444,\"#bd3786\"],[0.5555555555555556,\"#d8576b\"],[0.6666666666666666,\"#ed7953\"],[0.7777777777777778,\"#fb9f3a\"],[0.8888888888888888,\"#fdca26\"],[1.0,\"#f0f921\"]],\"type\":\"surface\"}],\"table\":[{\"cells\":{\"fill\":{\"color\":\"#EBF0F8\"},\"line\":{\"color\":\"white\"}},\"header\":{\"fill\":{\"color\":\"#C8D4E3\"},\"line\":{\"color\":\"white\"}},\"type\":\"table\"}]},\"layout\":{\"annotationdefaults\":{\"arrowcolor\":\"#2a3f5f\",\"arrowhead\":0,\"arrowwidth\":1},\"autotypenumbers\":\"strict\",\"coloraxis\":{\"colorbar\":{\"outlinewidth\":0,\"ticks\":\"\"}},\"colorscale\":{\"diverging\":[[0,\"#8e0152\"],[0.1,\"#c51b7d\"],[0.2,\"#de77ae\"],[0.3,\"#f1b6da\"],[0.4,\"#fde0ef\"],[0.5,\"#f7f7f7\"],[0.6,\"#e6f5d0\"],[0.7,\"#b8e186\"],[0.8,\"#7fbc41\"],[0.9,\"#4d9221\"],[1,\"#276419\"]],\"sequential\":[[0.0,\"#0d0887\"],[0.1111111111111111,\"#46039f\"],[0.2222222222222222,\"#7201a8\"],[0.3333333333333333,\"#9c179e\"],[0.4444444444444444,\"#bd3786\"],[0.5555555555555556,\"#d8576b\"],[0.6666666666666666,\"#ed7953\"],[0.7777777777777778,\"#fb9f3a\"],[0.8888888888888888,\"#fdca26\"],[1.0,\"#f0f921\"]],\"sequentialminus\":[[0.0,\"#0d0887\"],[0.1111111111111111,\"#46039f\"],[0.2222222222222222,\"#7201a8\"],[0.3333333333333333,\"#9c179e\"],[0.4444444444444444,\"#bd3786\"],[0.5555555555555556,\"#d8576b\"],[0.6666666666666666,\"#ed7953\"],[0.7777777777777778,\"#fb9f3a\"],[0.8888888888888888,\"#fdca26\"],[1.0,\"#f0f921\"]]},\"colorway\":[\"#636efa\",\"#EF553B\",\"#00cc96\",\"#ab63fa\",\"#FFA15A\",\"#19d3f3\",\"#FF6692\",\"#B6E880\",\"#FF97FF\",\"#FECB52\"],\"font\":{\"color\":\"#2a3f5f\"},\"geo\":{\"bgcolor\":\"white\",\"lakecolor\":\"white\",\"landcolor\":\"#E5ECF6\",\"showlakes\":true,\"showland\":true,\"subunitcolor\":\"white\"},\"hoverlabel\":{\"align\":\"left\"},\"hovermode\":\"closest\",\"mapbox\":{\"style\":\"light\"},\"paper_bgcolor\":\"white\",\"plot_bgcolor\":\"#E5ECF6\",\"polar\":{\"angularaxis\":{\"gridcolor\":\"white\",\"linecolor\":\"white\",\"ticks\":\"\"},\"bgcolor\":\"#E5ECF6\",\"radialaxis\":{\"gridcolor\":\"white\",\"linecolor\":\"white\",\"ticks\":\"\"}},\"scene\":{\"xaxis\":{\"backgroundcolor\":\"#E5ECF6\",\"gridcolor\":\"white\",\"gridwidth\":2,\"linecolor\":\"white\",\"showbackground\":true,\"ticks\":\"\",\"zerolinecolor\":\"white\"},\"yaxis\":{\"backgroundcolor\":\"#E5ECF6\",\"gridcolor\":\"white\",\"gridwidth\":2,\"linecolor\":\"white\",\"showbackground\":true,\"ticks\":\"\",\"zerolinecolor\":\"white\"},\"zaxis\":{\"backgroundcolor\":\"#E5ECF6\",\"gridcolor\":\"white\",\"gridwidth\":2,\"linecolor\":\"white\",\"showbackground\":true,\"ticks\":\"\",\"zerolinecolor\":\"white\"}},\"shapedefaults\":{\"line\":{\"color\":\"#2a3f5f\"}},\"ternary\":{\"aaxis\":{\"gridcolor\":\"white\",\"linecolor\":\"white\",\"ticks\":\"\"},\"baxis\":{\"gridcolor\":\"white\",\"linecolor\":\"white\",\"ticks\":\"\"},\"bgcolor\":\"#E5ECF6\",\"caxis\":{\"gridcolor\":\"white\",\"linecolor\":\"white\",\"ticks\":\"\"}},\"title\":{\"x\":0.05},\"xaxis\":{\"automargin\":true,\"gridcolor\":\"white\",\"linecolor\":\"white\",\"ticks\":\"\",\"title\":{\"standoff\":15},\"zerolinecolor\":\"white\",\"zerolinewidth\":2},\"yaxis\":{\"automargin\":true,\"gridcolor\":\"white\",\"linecolor\":\"white\",\"ticks\":\"\",\"title\":{\"standoff\":15},\"zerolinecolor\":\"white\",\"zerolinewidth\":2}}},\"title\":{\"text\":\"TSR Pct Comparisons by Ticker\"},\"xaxis\":{\"title\":{\"text\":\"Ticker\"}},\"yaxis\":{\"tickformat\":\".1%\",\"title\":{\"text\":\"Returns\"}}},                        {\"responsive\": true}                    ).then(function(){\n",
       "                            \n",
       "var gd = document.getElementById('1c1ef461-e5ea-4237-b0ce-c6bfc897ff56');\n",
       "var x = new MutationObserver(function (mutations, observer) {{\n",
       "        var display = window.getComputedStyle(gd).display;\n",
       "        if (!display || display === 'none') {{\n",
       "            console.log([gd, 'removed!']);\n",
       "            Plotly.purge(gd);\n",
       "            observer.disconnect();\n",
       "        }}\n",
       "}});\n",
       "\n",
       "// Listen for the removal of the full notebook cells\n",
       "var notebookContainer = gd.closest('#notebook-container');\n",
       "if (notebookContainer) {{\n",
       "    x.observe(notebookContainer, {childList: true});\n",
       "}}\n",
       "\n",
       "// Listen for the clearing of the current output cell\n",
       "var outputEl = gd.closest('.output');\n",
       "if (outputEl) {{\n",
       "    x.observe(outputEl, {childList: true});\n",
       "}}\n",
       "\n",
       "                        })                };                });            </script>        </div>"
      ]
     },
     "metadata": {},
     "output_type": "display_data"
    }
   ],
   "source": [
    "# Graphing the total return percents.\n",
    "\n",
    "trace1 = go.Scatter(\n",
    "    x = merged_portfolio_sp_latest_YTD_sp_closing_high_incl_divs['Ticker #'],\n",
    "    y = merged_portfolio_sp_latest_YTD_sp_closing_high_incl_divs['Cum Ticker Returns Pct'],\n",
    "    mode = 'lines+markers',\n",
    "    name = 'Cum Ticker Returns Pct')\n",
    "\n",
    "trace2 = go.Scatter(\n",
    "    x = merged_portfolio_sp_latest_YTD_sp_closing_high_incl_divs['Ticker #'],\n",
    "    y = merged_portfolio_sp_latest_YTD_sp_closing_high_incl_divs['Cum SP Returns Pct'],\n",
    "    mode = 'lines+markers',\n",
    "    name = 'Cum SP Returns Pct')\n",
    "\n",
    "data = [trace1, trace2]\n",
    "\n",
    "layout = go.Layout(title = 'TSR Pct Comparisons by Ticker'\n",
    "    , barmode = 'group'\n",
    "    , yaxis=dict(title='Returns', tickformat=\".1%\")\n",
    "    , xaxis=dict(title='Ticker')\n",
    "    , legend=dict(x=1,y=1)\n",
    "    )\n",
    "\n",
    "fig = go.Figure(data=data, layout=layout)\n",
    "iplot(fig)"
   ]
  }
 ],
 "metadata": {
  "interpreter": {
   "hash": "916dbcbb3f70747c44a77c7bcd40155683ae19c65e1c03b4aa3499c5328201f1"
  },
  "kernelspec": {
   "display_name": "Python [conda env:py35]",
   "language": "python",
   "name": "python3"
  },
  "language_info": {
   "codemirror_mode": {
    "name": "ipython",
    "version": 3
   },
   "file_extension": ".py",
   "mimetype": "text/x-python",
   "name": "python",
   "nbconvert_exporter": "python",
   "pygments_lexer": "ipython3",
   "version": "3.8.10"
  }
 },
 "nbformat": 4,
 "nbformat_minor": 2
}
